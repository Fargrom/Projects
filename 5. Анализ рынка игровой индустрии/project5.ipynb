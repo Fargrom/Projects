{
 "cells": [
  {
   "cell_type": "markdown",
   "metadata": {},
   "source": [
    "# Анализ рынка игровой индустрии."
   ]
  },
  {
   "cell_type": "markdown",
   "metadata": {},
   "source": [
    "## Изучений общей информации."
   ]
  },
  {
   "cell_type": "code",
   "execution_count": 1,
   "metadata": {},
   "outputs": [],
   "source": [
    "#выгружаем библиотеки\n",
    "import pandas as pd\n",
    "import numpy as np\n",
    "import matplotlib.pyplot as plt \n",
    "from scipy import stats as st"
   ]
  },
  {
   "cell_type": "code",
   "execution_count": 2,
   "metadata": {},
   "outputs": [
    {
     "data": {
      "text/html": [
       "<div>\n",
       "<style scoped>\n",
       "    .dataframe tbody tr th:only-of-type {\n",
       "        vertical-align: middle;\n",
       "    }\n",
       "\n",
       "    .dataframe tbody tr th {\n",
       "        vertical-align: top;\n",
       "    }\n",
       "\n",
       "    .dataframe thead th {\n",
       "        text-align: right;\n",
       "    }\n",
       "</style>\n",
       "<table border=\"1\" class=\"dataframe\">\n",
       "  <thead>\n",
       "    <tr style=\"text-align: right;\">\n",
       "      <th></th>\n",
       "      <th>Name</th>\n",
       "      <th>Platform</th>\n",
       "      <th>Year_of_Release</th>\n",
       "      <th>Genre</th>\n",
       "      <th>NA_sales</th>\n",
       "      <th>EU_sales</th>\n",
       "      <th>JP_sales</th>\n",
       "      <th>Other_sales</th>\n",
       "      <th>Critic_Score</th>\n",
       "      <th>User_Score</th>\n",
       "      <th>Rating</th>\n",
       "    </tr>\n",
       "  </thead>\n",
       "  <tbody>\n",
       "    <tr>\n",
       "      <td>0</td>\n",
       "      <td>Wii Sports</td>\n",
       "      <td>Wii</td>\n",
       "      <td>2006.0</td>\n",
       "      <td>Sports</td>\n",
       "      <td>41.36</td>\n",
       "      <td>28.96</td>\n",
       "      <td>3.77</td>\n",
       "      <td>8.45</td>\n",
       "      <td>76.0</td>\n",
       "      <td>8</td>\n",
       "      <td>E</td>\n",
       "    </tr>\n",
       "    <tr>\n",
       "      <td>1</td>\n",
       "      <td>Super Mario Bros.</td>\n",
       "      <td>NES</td>\n",
       "      <td>1985.0</td>\n",
       "      <td>Platform</td>\n",
       "      <td>29.08</td>\n",
       "      <td>3.58</td>\n",
       "      <td>6.81</td>\n",
       "      <td>0.77</td>\n",
       "      <td>NaN</td>\n",
       "      <td>NaN</td>\n",
       "      <td>NaN</td>\n",
       "    </tr>\n",
       "    <tr>\n",
       "      <td>2</td>\n",
       "      <td>Mario Kart Wii</td>\n",
       "      <td>Wii</td>\n",
       "      <td>2008.0</td>\n",
       "      <td>Racing</td>\n",
       "      <td>15.68</td>\n",
       "      <td>12.76</td>\n",
       "      <td>3.79</td>\n",
       "      <td>3.29</td>\n",
       "      <td>82.0</td>\n",
       "      <td>8.3</td>\n",
       "      <td>E</td>\n",
       "    </tr>\n",
       "    <tr>\n",
       "      <td>3</td>\n",
       "      <td>Wii Sports Resort</td>\n",
       "      <td>Wii</td>\n",
       "      <td>2009.0</td>\n",
       "      <td>Sports</td>\n",
       "      <td>15.61</td>\n",
       "      <td>10.93</td>\n",
       "      <td>3.28</td>\n",
       "      <td>2.95</td>\n",
       "      <td>80.0</td>\n",
       "      <td>8</td>\n",
       "      <td>E</td>\n",
       "    </tr>\n",
       "    <tr>\n",
       "      <td>4</td>\n",
       "      <td>Pokemon Red/Pokemon Blue</td>\n",
       "      <td>GB</td>\n",
       "      <td>1996.0</td>\n",
       "      <td>Role-Playing</td>\n",
       "      <td>11.27</td>\n",
       "      <td>8.89</td>\n",
       "      <td>10.22</td>\n",
       "      <td>1.00</td>\n",
       "      <td>NaN</td>\n",
       "      <td>NaN</td>\n",
       "      <td>NaN</td>\n",
       "    </tr>\n",
       "    <tr>\n",
       "      <td>5</td>\n",
       "      <td>Tetris</td>\n",
       "      <td>GB</td>\n",
       "      <td>1989.0</td>\n",
       "      <td>Puzzle</td>\n",
       "      <td>23.20</td>\n",
       "      <td>2.26</td>\n",
       "      <td>4.22</td>\n",
       "      <td>0.58</td>\n",
       "      <td>NaN</td>\n",
       "      <td>NaN</td>\n",
       "      <td>NaN</td>\n",
       "    </tr>\n",
       "    <tr>\n",
       "      <td>6</td>\n",
       "      <td>New Super Mario Bros.</td>\n",
       "      <td>DS</td>\n",
       "      <td>2006.0</td>\n",
       "      <td>Platform</td>\n",
       "      <td>11.28</td>\n",
       "      <td>9.14</td>\n",
       "      <td>6.50</td>\n",
       "      <td>2.88</td>\n",
       "      <td>89.0</td>\n",
       "      <td>8.5</td>\n",
       "      <td>E</td>\n",
       "    </tr>\n",
       "    <tr>\n",
       "      <td>7</td>\n",
       "      <td>Wii Play</td>\n",
       "      <td>Wii</td>\n",
       "      <td>2006.0</td>\n",
       "      <td>Misc</td>\n",
       "      <td>13.96</td>\n",
       "      <td>9.18</td>\n",
       "      <td>2.93</td>\n",
       "      <td>2.84</td>\n",
       "      <td>58.0</td>\n",
       "      <td>6.6</td>\n",
       "      <td>E</td>\n",
       "    </tr>\n",
       "    <tr>\n",
       "      <td>8</td>\n",
       "      <td>New Super Mario Bros. Wii</td>\n",
       "      <td>Wii</td>\n",
       "      <td>2009.0</td>\n",
       "      <td>Platform</td>\n",
       "      <td>14.44</td>\n",
       "      <td>6.94</td>\n",
       "      <td>4.70</td>\n",
       "      <td>2.24</td>\n",
       "      <td>87.0</td>\n",
       "      <td>8.4</td>\n",
       "      <td>E</td>\n",
       "    </tr>\n",
       "    <tr>\n",
       "      <td>9</td>\n",
       "      <td>Duck Hunt</td>\n",
       "      <td>NES</td>\n",
       "      <td>1984.0</td>\n",
       "      <td>Shooter</td>\n",
       "      <td>26.93</td>\n",
       "      <td>0.63</td>\n",
       "      <td>0.28</td>\n",
       "      <td>0.47</td>\n",
       "      <td>NaN</td>\n",
       "      <td>NaN</td>\n",
       "      <td>NaN</td>\n",
       "    </tr>\n",
       "  </tbody>\n",
       "</table>\n",
       "</div>"
      ],
      "text/plain": [
       "                        Name Platform  Year_of_Release         Genre  \\\n",
       "0                 Wii Sports      Wii           2006.0        Sports   \n",
       "1          Super Mario Bros.      NES           1985.0      Platform   \n",
       "2             Mario Kart Wii      Wii           2008.0        Racing   \n",
       "3          Wii Sports Resort      Wii           2009.0        Sports   \n",
       "4   Pokemon Red/Pokemon Blue       GB           1996.0  Role-Playing   \n",
       "5                     Tetris       GB           1989.0        Puzzle   \n",
       "6      New Super Mario Bros.       DS           2006.0      Platform   \n",
       "7                   Wii Play      Wii           2006.0          Misc   \n",
       "8  New Super Mario Bros. Wii      Wii           2009.0      Platform   \n",
       "9                  Duck Hunt      NES           1984.0       Shooter   \n",
       "\n",
       "   NA_sales  EU_sales  JP_sales  Other_sales  Critic_Score User_Score Rating  \n",
       "0     41.36     28.96      3.77         8.45          76.0          8      E  \n",
       "1     29.08      3.58      6.81         0.77           NaN        NaN    NaN  \n",
       "2     15.68     12.76      3.79         3.29          82.0        8.3      E  \n",
       "3     15.61     10.93      3.28         2.95          80.0          8      E  \n",
       "4     11.27      8.89     10.22         1.00           NaN        NaN    NaN  \n",
       "5     23.20      2.26      4.22         0.58           NaN        NaN    NaN  \n",
       "6     11.28      9.14      6.50         2.88          89.0        8.5      E  \n",
       "7     13.96      9.18      2.93         2.84          58.0        6.6      E  \n",
       "8     14.44      6.94      4.70         2.24          87.0        8.4      E  \n",
       "9     26.93      0.63      0.28         0.47           NaN        NaN    NaN  "
      ]
     },
     "execution_count": 2,
     "metadata": {},
     "output_type": "execute_result"
    }
   ],
   "source": [
    "data = pd.read_csv('/datasets/games.csv')\n",
    "data.head(10)"
   ]
  },
  {
   "cell_type": "markdown",
   "metadata": {},
   "source": [
    "В таблице видны пропуски данных. Также названия колонок записаны в некорректном регистре."
   ]
  },
  {
   "cell_type": "code",
   "execution_count": 3,
   "metadata": {},
   "outputs": [
    {
     "name": "stdout",
     "output_type": "stream",
     "text": [
      "<class 'pandas.core.frame.DataFrame'>\n",
      "RangeIndex: 16715 entries, 0 to 16714\n",
      "Data columns (total 11 columns):\n",
      "Name               16713 non-null object\n",
      "Platform           16715 non-null object\n",
      "Year_of_Release    16446 non-null float64\n",
      "Genre              16713 non-null object\n",
      "NA_sales           16715 non-null float64\n",
      "EU_sales           16715 non-null float64\n",
      "JP_sales           16715 non-null float64\n",
      "Other_sales        16715 non-null float64\n",
      "Critic_Score       8137 non-null float64\n",
      "User_Score         10014 non-null object\n",
      "Rating             9949 non-null object\n",
      "dtypes: float64(6), object(5)\n",
      "memory usage: 1.4+ MB\n"
     ]
    }
   ],
   "source": [
    "data.info()"
   ]
  },
  {
   "cell_type": "markdown",
   "metadata": {},
   "source": [
    "Как было отмечено ранее в таблице имеются пропуски. Колонку Year_of_Release можно было быпревести к формату datatime, однако в данном случае это будет лишнее действие, так как кроме года другой информации нет. Колонку User_Score надо преобразовать в формат float64."
   ]
  },
  {
   "cell_type": "code",
   "execution_count": 4,
   "metadata": {},
   "outputs": [
    {
     "data": {
      "text/html": [
       "<div>\n",
       "<style scoped>\n",
       "    .dataframe tbody tr th:only-of-type {\n",
       "        vertical-align: middle;\n",
       "    }\n",
       "\n",
       "    .dataframe tbody tr th {\n",
       "        vertical-align: top;\n",
       "    }\n",
       "\n",
       "    .dataframe thead th {\n",
       "        text-align: right;\n",
       "    }\n",
       "</style>\n",
       "<table border=\"1\" class=\"dataframe\">\n",
       "  <thead>\n",
       "    <tr style=\"text-align: right;\">\n",
       "      <th></th>\n",
       "      <th>Year_of_Release</th>\n",
       "      <th>NA_sales</th>\n",
       "      <th>EU_sales</th>\n",
       "      <th>JP_sales</th>\n",
       "      <th>Other_sales</th>\n",
       "      <th>Critic_Score</th>\n",
       "    </tr>\n",
       "  </thead>\n",
       "  <tbody>\n",
       "    <tr>\n",
       "      <td>count</td>\n",
       "      <td>16446.000000</td>\n",
       "      <td>16715.000000</td>\n",
       "      <td>16715.000000</td>\n",
       "      <td>16715.000000</td>\n",
       "      <td>16715.000000</td>\n",
       "      <td>8137.000000</td>\n",
       "    </tr>\n",
       "    <tr>\n",
       "      <td>mean</td>\n",
       "      <td>2006.484616</td>\n",
       "      <td>0.263377</td>\n",
       "      <td>0.145060</td>\n",
       "      <td>0.077617</td>\n",
       "      <td>0.047342</td>\n",
       "      <td>68.967679</td>\n",
       "    </tr>\n",
       "    <tr>\n",
       "      <td>std</td>\n",
       "      <td>5.877050</td>\n",
       "      <td>0.813604</td>\n",
       "      <td>0.503339</td>\n",
       "      <td>0.308853</td>\n",
       "      <td>0.186731</td>\n",
       "      <td>13.938165</td>\n",
       "    </tr>\n",
       "    <tr>\n",
       "      <td>min</td>\n",
       "      <td>1980.000000</td>\n",
       "      <td>0.000000</td>\n",
       "      <td>0.000000</td>\n",
       "      <td>0.000000</td>\n",
       "      <td>0.000000</td>\n",
       "      <td>13.000000</td>\n",
       "    </tr>\n",
       "    <tr>\n",
       "      <td>25%</td>\n",
       "      <td>2003.000000</td>\n",
       "      <td>0.000000</td>\n",
       "      <td>0.000000</td>\n",
       "      <td>0.000000</td>\n",
       "      <td>0.000000</td>\n",
       "      <td>60.000000</td>\n",
       "    </tr>\n",
       "    <tr>\n",
       "      <td>50%</td>\n",
       "      <td>2007.000000</td>\n",
       "      <td>0.080000</td>\n",
       "      <td>0.020000</td>\n",
       "      <td>0.000000</td>\n",
       "      <td>0.010000</td>\n",
       "      <td>71.000000</td>\n",
       "    </tr>\n",
       "    <tr>\n",
       "      <td>75%</td>\n",
       "      <td>2010.000000</td>\n",
       "      <td>0.240000</td>\n",
       "      <td>0.110000</td>\n",
       "      <td>0.040000</td>\n",
       "      <td>0.030000</td>\n",
       "      <td>79.000000</td>\n",
       "    </tr>\n",
       "    <tr>\n",
       "      <td>max</td>\n",
       "      <td>2016.000000</td>\n",
       "      <td>41.360000</td>\n",
       "      <td>28.960000</td>\n",
       "      <td>10.220000</td>\n",
       "      <td>10.570000</td>\n",
       "      <td>98.000000</td>\n",
       "    </tr>\n",
       "  </tbody>\n",
       "</table>\n",
       "</div>"
      ],
      "text/plain": [
       "       Year_of_Release      NA_sales      EU_sales      JP_sales  \\\n",
       "count     16446.000000  16715.000000  16715.000000  16715.000000   \n",
       "mean       2006.484616      0.263377      0.145060      0.077617   \n",
       "std           5.877050      0.813604      0.503339      0.308853   \n",
       "min        1980.000000      0.000000      0.000000      0.000000   \n",
       "25%        2003.000000      0.000000      0.000000      0.000000   \n",
       "50%        2007.000000      0.080000      0.020000      0.000000   \n",
       "75%        2010.000000      0.240000      0.110000      0.040000   \n",
       "max        2016.000000     41.360000     28.960000     10.220000   \n",
       "\n",
       "        Other_sales  Critic_Score  \n",
       "count  16715.000000   8137.000000  \n",
       "mean       0.047342     68.967679  \n",
       "std        0.186731     13.938165  \n",
       "min        0.000000     13.000000  \n",
       "25%        0.000000     60.000000  \n",
       "50%        0.010000     71.000000  \n",
       "75%        0.030000     79.000000  \n",
       "max       10.570000     98.000000  "
      ]
     },
     "execution_count": 4,
     "metadata": {},
     "output_type": "execute_result"
    }
   ],
   "source": [
    "data.describe()"
   ]
  },
  {
   "cell_type": "markdown",
   "metadata": {},
   "source": [
    "**Вывод:** Предварительно подозрительных значений пока что не видно. В продажах имеются 0 минимальные значения. Возможно игра не продавалась в определеном регионе, а возможно она не была и вовсе выпущена. В целом датасет представлен наглядно, однако необходимо провести ряд подготовительных действий для его дальнейшего изучения."
   ]
  },
  {
   "cell_type": "markdown",
   "metadata": {},
   "source": [
    "## Подготовка данных"
   ]
  },
  {
   "cell_type": "markdown",
   "metadata": {},
   "source": [
    "### Меняем названия столбцов"
   ]
  },
  {
   "cell_type": "code",
   "execution_count": 5,
   "metadata": {},
   "outputs": [
    {
     "data": {
      "text/html": [
       "<div>\n",
       "<style scoped>\n",
       "    .dataframe tbody tr th:only-of-type {\n",
       "        vertical-align: middle;\n",
       "    }\n",
       "\n",
       "    .dataframe tbody tr th {\n",
       "        vertical-align: top;\n",
       "    }\n",
       "\n",
       "    .dataframe thead th {\n",
       "        text-align: right;\n",
       "    }\n",
       "</style>\n",
       "<table border=\"1\" class=\"dataframe\">\n",
       "  <thead>\n",
       "    <tr style=\"text-align: right;\">\n",
       "      <th></th>\n",
       "      <th>name</th>\n",
       "      <th>platform</th>\n",
       "      <th>year_of_release</th>\n",
       "      <th>genre</th>\n",
       "      <th>na_sales</th>\n",
       "      <th>eu_sales</th>\n",
       "      <th>jp_sales</th>\n",
       "      <th>other_sales</th>\n",
       "      <th>critic_score</th>\n",
       "      <th>user_score</th>\n",
       "      <th>rating</th>\n",
       "    </tr>\n",
       "  </thead>\n",
       "  <tbody>\n",
       "    <tr>\n",
       "      <td>0</td>\n",
       "      <td>Wii Sports</td>\n",
       "      <td>Wii</td>\n",
       "      <td>2006.0</td>\n",
       "      <td>Sports</td>\n",
       "      <td>41.36</td>\n",
       "      <td>28.96</td>\n",
       "      <td>3.77</td>\n",
       "      <td>8.45</td>\n",
       "      <td>76.0</td>\n",
       "      <td>8</td>\n",
       "      <td>E</td>\n",
       "    </tr>\n",
       "    <tr>\n",
       "      <td>1</td>\n",
       "      <td>Super Mario Bros.</td>\n",
       "      <td>NES</td>\n",
       "      <td>1985.0</td>\n",
       "      <td>Platform</td>\n",
       "      <td>29.08</td>\n",
       "      <td>3.58</td>\n",
       "      <td>6.81</td>\n",
       "      <td>0.77</td>\n",
       "      <td>NaN</td>\n",
       "      <td>NaN</td>\n",
       "      <td>NaN</td>\n",
       "    </tr>\n",
       "    <tr>\n",
       "      <td>2</td>\n",
       "      <td>Mario Kart Wii</td>\n",
       "      <td>Wii</td>\n",
       "      <td>2008.0</td>\n",
       "      <td>Racing</td>\n",
       "      <td>15.68</td>\n",
       "      <td>12.76</td>\n",
       "      <td>3.79</td>\n",
       "      <td>3.29</td>\n",
       "      <td>82.0</td>\n",
       "      <td>8.3</td>\n",
       "      <td>E</td>\n",
       "    </tr>\n",
       "    <tr>\n",
       "      <td>3</td>\n",
       "      <td>Wii Sports Resort</td>\n",
       "      <td>Wii</td>\n",
       "      <td>2009.0</td>\n",
       "      <td>Sports</td>\n",
       "      <td>15.61</td>\n",
       "      <td>10.93</td>\n",
       "      <td>3.28</td>\n",
       "      <td>2.95</td>\n",
       "      <td>80.0</td>\n",
       "      <td>8</td>\n",
       "      <td>E</td>\n",
       "    </tr>\n",
       "    <tr>\n",
       "      <td>4</td>\n",
       "      <td>Pokemon Red/Pokemon Blue</td>\n",
       "      <td>GB</td>\n",
       "      <td>1996.0</td>\n",
       "      <td>Role-Playing</td>\n",
       "      <td>11.27</td>\n",
       "      <td>8.89</td>\n",
       "      <td>10.22</td>\n",
       "      <td>1.00</td>\n",
       "      <td>NaN</td>\n",
       "      <td>NaN</td>\n",
       "      <td>NaN</td>\n",
       "    </tr>\n",
       "  </tbody>\n",
       "</table>\n",
       "</div>"
      ],
      "text/plain": [
       "                       name platform  year_of_release         genre  na_sales  \\\n",
       "0                Wii Sports      Wii           2006.0        Sports     41.36   \n",
       "1         Super Mario Bros.      NES           1985.0      Platform     29.08   \n",
       "2            Mario Kart Wii      Wii           2008.0        Racing     15.68   \n",
       "3         Wii Sports Resort      Wii           2009.0        Sports     15.61   \n",
       "4  Pokemon Red/Pokemon Blue       GB           1996.0  Role-Playing     11.27   \n",
       "\n",
       "   eu_sales  jp_sales  other_sales  critic_score user_score rating  \n",
       "0     28.96      3.77         8.45          76.0          8      E  \n",
       "1      3.58      6.81         0.77           NaN        NaN    NaN  \n",
       "2     12.76      3.79         3.29          82.0        8.3      E  \n",
       "3     10.93      3.28         2.95          80.0          8      E  \n",
       "4      8.89     10.22         1.00           NaN        NaN    NaN  "
      ]
     },
     "execution_count": 5,
     "metadata": {},
     "output_type": "execute_result"
    }
   ],
   "source": [
    "#меняем названия столбцов. Методом rename\n",
    "data.rename(columns ={'Name':'name', 'Platform':'platform', 'Year_of_Release':'year_of_release', 'Genre':'genre', 'NA_sales':'na_sales', 'EU_sales':'eu_sales', 'JP_sales':'jp_sales', 'Other_sales':'other_sales', 'Critic_Score':'critic_score', 'User_Score':'user_score', 'Rating':'rating'}, inplace = True)\n",
    "data.head()"
   ]
  },
  {
   "cell_type": "markdown",
   "metadata": {},
   "source": [
    "### Преобразовываем данные"
   ]
  },
  {
   "cell_type": "code",
   "execution_count": 6,
   "metadata": {},
   "outputs": [],
   "source": [
    "# преобразовываем данные в колонке с оценкой пользователей\n",
    "# ранее упоминалось что в этой колонке есть значения 'tbd', что в целом подразумевает под собой пропуск.\n",
    "#чтобы преобразовать эту колонку данные значения можно привести к NaN\n",
    "data['user_score'] = data['user_score'].replace('tbd')\n",
    "data['user_score']= pd.to_numeric(data['user_score'])"
   ]
  },
  {
   "cell_type": "code",
   "execution_count": 7,
   "metadata": {},
   "outputs": [
    {
     "data": {
      "text/html": [
       "<div>\n",
       "<style scoped>\n",
       "    .dataframe tbody tr th:only-of-type {\n",
       "        vertical-align: middle;\n",
       "    }\n",
       "\n",
       "    .dataframe tbody tr th {\n",
       "        vertical-align: top;\n",
       "    }\n",
       "\n",
       "    .dataframe thead th {\n",
       "        text-align: right;\n",
       "    }\n",
       "</style>\n",
       "<table border=\"1\" class=\"dataframe\">\n",
       "  <thead>\n",
       "    <tr style=\"text-align: right;\">\n",
       "      <th></th>\n",
       "      <th>name</th>\n",
       "      <th>platform</th>\n",
       "      <th>year_of_release</th>\n",
       "      <th>genre</th>\n",
       "      <th>na_sales</th>\n",
       "      <th>eu_sales</th>\n",
       "      <th>jp_sales</th>\n",
       "      <th>other_sales</th>\n",
       "      <th>critic_score</th>\n",
       "      <th>user_score</th>\n",
       "      <th>rating</th>\n",
       "    </tr>\n",
       "  </thead>\n",
       "  <tbody>\n",
       "    <tr>\n",
       "      <td>0</td>\n",
       "      <td>Wii Sports</td>\n",
       "      <td>Wii</td>\n",
       "      <td>2006.0</td>\n",
       "      <td>Sports</td>\n",
       "      <td>41.36</td>\n",
       "      <td>28.96</td>\n",
       "      <td>3.77</td>\n",
       "      <td>8.45</td>\n",
       "      <td>76.0</td>\n",
       "      <td>8.0</td>\n",
       "      <td>E</td>\n",
       "    </tr>\n",
       "    <tr>\n",
       "      <td>1</td>\n",
       "      <td>Super Mario Bros.</td>\n",
       "      <td>NES</td>\n",
       "      <td>1985.0</td>\n",
       "      <td>Platform</td>\n",
       "      <td>29.08</td>\n",
       "      <td>3.58</td>\n",
       "      <td>6.81</td>\n",
       "      <td>0.77</td>\n",
       "      <td>NaN</td>\n",
       "      <td>NaN</td>\n",
       "      <td>NaN</td>\n",
       "    </tr>\n",
       "    <tr>\n",
       "      <td>2</td>\n",
       "      <td>Mario Kart Wii</td>\n",
       "      <td>Wii</td>\n",
       "      <td>2008.0</td>\n",
       "      <td>Racing</td>\n",
       "      <td>15.68</td>\n",
       "      <td>12.76</td>\n",
       "      <td>3.79</td>\n",
       "      <td>3.29</td>\n",
       "      <td>82.0</td>\n",
       "      <td>8.3</td>\n",
       "      <td>E</td>\n",
       "    </tr>\n",
       "    <tr>\n",
       "      <td>3</td>\n",
       "      <td>Wii Sports Resort</td>\n",
       "      <td>Wii</td>\n",
       "      <td>2009.0</td>\n",
       "      <td>Sports</td>\n",
       "      <td>15.61</td>\n",
       "      <td>10.93</td>\n",
       "      <td>3.28</td>\n",
       "      <td>2.95</td>\n",
       "      <td>80.0</td>\n",
       "      <td>8.0</td>\n",
       "      <td>E</td>\n",
       "    </tr>\n",
       "    <tr>\n",
       "      <td>4</td>\n",
       "      <td>Pokemon Red/Pokemon Blue</td>\n",
       "      <td>GB</td>\n",
       "      <td>1996.0</td>\n",
       "      <td>Role-Playing</td>\n",
       "      <td>11.27</td>\n",
       "      <td>8.89</td>\n",
       "      <td>10.22</td>\n",
       "      <td>1.00</td>\n",
       "      <td>NaN</td>\n",
       "      <td>NaN</td>\n",
       "      <td>NaN</td>\n",
       "    </tr>\n",
       "  </tbody>\n",
       "</table>\n",
       "</div>"
      ],
      "text/plain": [
       "                       name platform  year_of_release         genre  na_sales  \\\n",
       "0                Wii Sports      Wii           2006.0        Sports     41.36   \n",
       "1         Super Mario Bros.      NES           1985.0      Platform     29.08   \n",
       "2            Mario Kart Wii      Wii           2008.0        Racing     15.68   \n",
       "3         Wii Sports Resort      Wii           2009.0        Sports     15.61   \n",
       "4  Pokemon Red/Pokemon Blue       GB           1996.0  Role-Playing     11.27   \n",
       "\n",
       "   eu_sales  jp_sales  other_sales  critic_score  user_score rating  \n",
       "0     28.96      3.77         8.45          76.0         8.0      E  \n",
       "1      3.58      6.81         0.77           NaN         NaN    NaN  \n",
       "2     12.76      3.79         3.29          82.0         8.3      E  \n",
       "3     10.93      3.28         2.95          80.0         8.0      E  \n",
       "4      8.89     10.22         1.00           NaN         NaN    NaN  "
      ]
     },
     "execution_count": 7,
     "metadata": {},
     "output_type": "execute_result"
    }
   ],
   "source": [
    "data.head()"
   ]
  },
  {
   "cell_type": "markdown",
   "metadata": {},
   "source": [
    "### Обработка пропусков"
   ]
  },
  {
   "cell_type": "code",
   "execution_count": 8,
   "metadata": {},
   "outputs": [],
   "source": [
    "#займемся обработкой пропусков\n",
    "#name и genre содержат всего 2 пропуска. этими данными можно пренебресь удалим их из датасета\n",
    "data = data.dropna(subset=['name']).reset_index(drop=True)\n",
    "data = data.dropna(subset=['genre']).reset_index(drop=True)"
   ]
  },
  {
   "cell_type": "code",
   "execution_count": 9,
   "metadata": {},
   "outputs": [
    {
     "data": {
      "text/plain": [
       "0.016095255190570215"
      ]
     },
     "execution_count": 9,
     "metadata": {},
     "output_type": "execute_result"
    }
   ],
   "source": [
    "# имеются пропуски в колонке с годом, оценим их количество\n",
    "data['year_of_release'].isna().sum()/len(data)"
   ]
  },
  {
   "cell_type": "markdown",
   "metadata": {},
   "source": [
    "Количество  1,6% отбрасывать год не будем, в тоже время количество пропусков мало и несильно должно повлиять на результаты анализа. Заменить тоже не можем, так как замена средней/медианой по такому параметру некорректнa. \n",
    "\n",
    "Тоже самое касается оценок критикой и пользователей, рейтинг их большое количество в датасете и заменить на средние будет тоже некорректно, учитывая субьективность параметра. \n"
   ]
  },
  {
   "cell_type": "code",
   "execution_count": 10,
   "metadata": {},
   "outputs": [
    {
     "data": {
      "text/html": [
       "<div>\n",
       "<style scoped>\n",
       "    .dataframe tbody tr th:only-of-type {\n",
       "        vertical-align: middle;\n",
       "    }\n",
       "\n",
       "    .dataframe tbody tr th {\n",
       "        vertical-align: top;\n",
       "    }\n",
       "\n",
       "    .dataframe thead th {\n",
       "        text-align: right;\n",
       "    }\n",
       "</style>\n",
       "<table border=\"1\" class=\"dataframe\">\n",
       "  <thead>\n",
       "    <tr style=\"text-align: right;\">\n",
       "      <th></th>\n",
       "      <th>name</th>\n",
       "      <th>platform</th>\n",
       "      <th>year_of_release</th>\n",
       "      <th>genre</th>\n",
       "      <th>na_sales</th>\n",
       "      <th>eu_sales</th>\n",
       "      <th>jp_sales</th>\n",
       "      <th>other_sales</th>\n",
       "      <th>critic_score</th>\n",
       "      <th>user_score</th>\n",
       "      <th>rating</th>\n",
       "    </tr>\n",
       "  </thead>\n",
       "  <tbody>\n",
       "    <tr>\n",
       "      <td>183</td>\n",
       "      <td>Madden NFL 2004</td>\n",
       "      <td>PS2</td>\n",
       "      <td>NaN</td>\n",
       "      <td>Sports</td>\n",
       "      <td>4.26</td>\n",
       "      <td>0.26</td>\n",
       "      <td>0.01</td>\n",
       "      <td>0.71</td>\n",
       "      <td>94.0</td>\n",
       "      <td>8.5</td>\n",
       "      <td>E</td>\n",
       "    </tr>\n",
       "    <tr>\n",
       "      <td>377</td>\n",
       "      <td>FIFA Soccer 2004</td>\n",
       "      <td>PS2</td>\n",
       "      <td>NaN</td>\n",
       "      <td>Sports</td>\n",
       "      <td>0.59</td>\n",
       "      <td>2.36</td>\n",
       "      <td>0.04</td>\n",
       "      <td>0.51</td>\n",
       "      <td>84.0</td>\n",
       "      <td>6.4</td>\n",
       "      <td>E</td>\n",
       "    </tr>\n",
       "    <tr>\n",
       "      <td>456</td>\n",
       "      <td>LEGO Batman: The Videogame</td>\n",
       "      <td>Wii</td>\n",
       "      <td>NaN</td>\n",
       "      <td>Action</td>\n",
       "      <td>1.80</td>\n",
       "      <td>0.97</td>\n",
       "      <td>0.00</td>\n",
       "      <td>0.29</td>\n",
       "      <td>74.0</td>\n",
       "      <td>7.9</td>\n",
       "      <td>E10+</td>\n",
       "    </tr>\n",
       "    <tr>\n",
       "      <td>475</td>\n",
       "      <td>wwe Smackdown vs. Raw 2006</td>\n",
       "      <td>PS2</td>\n",
       "      <td>NaN</td>\n",
       "      <td>Fighting</td>\n",
       "      <td>1.57</td>\n",
       "      <td>1.02</td>\n",
       "      <td>0.00</td>\n",
       "      <td>0.41</td>\n",
       "      <td>NaN</td>\n",
       "      <td>NaN</td>\n",
       "      <td>NaN</td>\n",
       "    </tr>\n",
       "    <tr>\n",
       "      <td>609</td>\n",
       "      <td>Space Invaders</td>\n",
       "      <td>2600</td>\n",
       "      <td>NaN</td>\n",
       "      <td>Shooter</td>\n",
       "      <td>2.36</td>\n",
       "      <td>0.14</td>\n",
       "      <td>0.00</td>\n",
       "      <td>0.03</td>\n",
       "      <td>NaN</td>\n",
       "      <td>NaN</td>\n",
       "      <td>NaN</td>\n",
       "    </tr>\n",
       "    <tr>\n",
       "      <td>...</td>\n",
       "      <td>...</td>\n",
       "      <td>...</td>\n",
       "      <td>...</td>\n",
       "      <td>...</td>\n",
       "      <td>...</td>\n",
       "      <td>...</td>\n",
       "      <td>...</td>\n",
       "      <td>...</td>\n",
       "      <td>...</td>\n",
       "      <td>...</td>\n",
       "      <td>...</td>\n",
       "    </tr>\n",
       "    <tr>\n",
       "      <td>16371</td>\n",
       "      <td>PDC World Championship Darts 2008</td>\n",
       "      <td>PSP</td>\n",
       "      <td>NaN</td>\n",
       "      <td>Sports</td>\n",
       "      <td>0.01</td>\n",
       "      <td>0.00</td>\n",
       "      <td>0.00</td>\n",
       "      <td>0.00</td>\n",
       "      <td>43.0</td>\n",
       "      <td>NaN</td>\n",
       "      <td>E10+</td>\n",
       "    </tr>\n",
       "    <tr>\n",
       "      <td>16403</td>\n",
       "      <td>Freaky Flyers</td>\n",
       "      <td>GC</td>\n",
       "      <td>NaN</td>\n",
       "      <td>Racing</td>\n",
       "      <td>0.01</td>\n",
       "      <td>0.00</td>\n",
       "      <td>0.00</td>\n",
       "      <td>0.00</td>\n",
       "      <td>69.0</td>\n",
       "      <td>6.5</td>\n",
       "      <td>T</td>\n",
       "    </tr>\n",
       "    <tr>\n",
       "      <td>16446</td>\n",
       "      <td>Inversion</td>\n",
       "      <td>PC</td>\n",
       "      <td>NaN</td>\n",
       "      <td>Shooter</td>\n",
       "      <td>0.01</td>\n",
       "      <td>0.00</td>\n",
       "      <td>0.00</td>\n",
       "      <td>0.00</td>\n",
       "      <td>59.0</td>\n",
       "      <td>6.7</td>\n",
       "      <td>M</td>\n",
       "    </tr>\n",
       "    <tr>\n",
       "      <td>16456</td>\n",
       "      <td>Hakuouki: Shinsengumi Kitan</td>\n",
       "      <td>PS3</td>\n",
       "      <td>NaN</td>\n",
       "      <td>Adventure</td>\n",
       "      <td>0.01</td>\n",
       "      <td>0.00</td>\n",
       "      <td>0.00</td>\n",
       "      <td>0.00</td>\n",
       "      <td>NaN</td>\n",
       "      <td>NaN</td>\n",
       "      <td>NaN</td>\n",
       "    </tr>\n",
       "    <tr>\n",
       "      <td>16520</td>\n",
       "      <td>Virtua Quest</td>\n",
       "      <td>GC</td>\n",
       "      <td>NaN</td>\n",
       "      <td>Role-Playing</td>\n",
       "      <td>0.01</td>\n",
       "      <td>0.00</td>\n",
       "      <td>0.00</td>\n",
       "      <td>0.00</td>\n",
       "      <td>55.0</td>\n",
       "      <td>5.5</td>\n",
       "      <td>T</td>\n",
       "    </tr>\n",
       "  </tbody>\n",
       "</table>\n",
       "<p>269 rows × 11 columns</p>\n",
       "</div>"
      ],
      "text/plain": [
       "                                    name platform  year_of_release  \\\n",
       "183                      Madden NFL 2004      PS2              NaN   \n",
       "377                     FIFA Soccer 2004      PS2              NaN   \n",
       "456           LEGO Batman: The Videogame      Wii              NaN   \n",
       "475           wwe Smackdown vs. Raw 2006      PS2              NaN   \n",
       "609                       Space Invaders     2600              NaN   \n",
       "...                                  ...      ...              ...   \n",
       "16371  PDC World Championship Darts 2008      PSP              NaN   \n",
       "16403                      Freaky Flyers       GC              NaN   \n",
       "16446                          Inversion       PC              NaN   \n",
       "16456        Hakuouki: Shinsengumi Kitan      PS3              NaN   \n",
       "16520                       Virtua Quest       GC              NaN   \n",
       "\n",
       "              genre  na_sales  eu_sales  jp_sales  other_sales  critic_score  \\\n",
       "183          Sports      4.26      0.26      0.01         0.71          94.0   \n",
       "377          Sports      0.59      2.36      0.04         0.51          84.0   \n",
       "456          Action      1.80      0.97      0.00         0.29          74.0   \n",
       "475        Fighting      1.57      1.02      0.00         0.41           NaN   \n",
       "609         Shooter      2.36      0.14      0.00         0.03           NaN   \n",
       "...             ...       ...       ...       ...          ...           ...   \n",
       "16371        Sports      0.01      0.00      0.00         0.00          43.0   \n",
       "16403        Racing      0.01      0.00      0.00         0.00          69.0   \n",
       "16446       Shooter      0.01      0.00      0.00         0.00          59.0   \n",
       "16456     Adventure      0.01      0.00      0.00         0.00           NaN   \n",
       "16520  Role-Playing      0.01      0.00      0.00         0.00          55.0   \n",
       "\n",
       "       user_score rating  \n",
       "183           8.5      E  \n",
       "377           6.4      E  \n",
       "456           7.9   E10+  \n",
       "475           NaN    NaN  \n",
       "609           NaN    NaN  \n",
       "...           ...    ...  \n",
       "16371         NaN   E10+  \n",
       "16403         6.5      T  \n",
       "16446         6.7      M  \n",
       "16456         NaN    NaN  \n",
       "16520         5.5      T  \n",
       "\n",
       "[269 rows x 11 columns]"
      ]
     },
     "execution_count": 10,
     "metadata": {},
     "output_type": "execute_result"
    }
   ],
   "source": [
    "# пропуски по годам возможно связаны с тем, что игра не выходила вовсе. Проверим это и сделаем срез\n",
    "data.query('year_of_release==\"NaN\"')"
   ]
  },
  {
   "cell_type": "markdown",
   "metadata": {},
   "source": [
    "Подтверждить мысль не удалось. Пропуски по годам скорее всего имеют случайную природу (ошибки или забыли указать в источнике год).\n",
    "\n",
    "В названиях некоторых игр стоят года, можно было бы применить лемматизация,но данный способ не поможет, так как не все игры выходили в год названия и не все игры с пропусками по году имеют в названии год.\n"
   ]
  },
  {
   "cell_type": "markdown",
   "metadata": {},
   "source": [
    "### Расчитываем общие число продаж"
   ]
  },
  {
   "cell_type": "code",
   "execution_count": 11,
   "metadata": {},
   "outputs": [],
   "source": [
    "#добавим колонку с общим числом продаж\n",
    "data['total_sales'] = data['na_sales'] + data['eu_sales'] + data['jp_sales'] + data['other_sales']"
   ]
  },
  {
   "cell_type": "code",
   "execution_count": 12,
   "metadata": {},
   "outputs": [
    {
     "data": {
      "text/html": [
       "<div>\n",
       "<style scoped>\n",
       "    .dataframe tbody tr th:only-of-type {\n",
       "        vertical-align: middle;\n",
       "    }\n",
       "\n",
       "    .dataframe tbody tr th {\n",
       "        vertical-align: top;\n",
       "    }\n",
       "\n",
       "    .dataframe thead th {\n",
       "        text-align: right;\n",
       "    }\n",
       "</style>\n",
       "<table border=\"1\" class=\"dataframe\">\n",
       "  <thead>\n",
       "    <tr style=\"text-align: right;\">\n",
       "      <th></th>\n",
       "      <th>name</th>\n",
       "      <th>platform</th>\n",
       "      <th>year_of_release</th>\n",
       "      <th>genre</th>\n",
       "      <th>na_sales</th>\n",
       "      <th>eu_sales</th>\n",
       "      <th>jp_sales</th>\n",
       "      <th>other_sales</th>\n",
       "      <th>critic_score</th>\n",
       "      <th>user_score</th>\n",
       "      <th>rating</th>\n",
       "      <th>total_sales</th>\n",
       "    </tr>\n",
       "  </thead>\n",
       "  <tbody>\n",
       "    <tr>\n",
       "      <td>16674</td>\n",
       "      <td>G1 Jockey 4 2008</td>\n",
       "      <td>PS3</td>\n",
       "      <td>2008.0</td>\n",
       "      <td>Sports</td>\n",
       "      <td>0.0</td>\n",
       "      <td>0.0</td>\n",
       "      <td>0.0</td>\n",
       "      <td>0.0</td>\n",
       "      <td>NaN</td>\n",
       "      <td>NaN</td>\n",
       "      <td>NaN</td>\n",
       "      <td>0.0</td>\n",
       "    </tr>\n",
       "    <tr>\n",
       "      <td>16707</td>\n",
       "      <td>SCORE International Baja 1000: The Official Game</td>\n",
       "      <td>PS2</td>\n",
       "      <td>2008.0</td>\n",
       "      <td>Racing</td>\n",
       "      <td>0.0</td>\n",
       "      <td>0.0</td>\n",
       "      <td>0.0</td>\n",
       "      <td>0.0</td>\n",
       "      <td>NaN</td>\n",
       "      <td>NaN</td>\n",
       "      <td>NaN</td>\n",
       "      <td>0.0</td>\n",
       "    </tr>\n",
       "  </tbody>\n",
       "</table>\n",
       "</div>"
      ],
      "text/plain": [
       "                                                   name platform  \\\n",
       "16674                                  G1 Jockey 4 2008      PS3   \n",
       "16707  SCORE International Baja 1000: The Official Game      PS2   \n",
       "\n",
       "       year_of_release   genre  na_sales  eu_sales  jp_sales  other_sales  \\\n",
       "16674           2008.0  Sports       0.0       0.0       0.0          0.0   \n",
       "16707           2008.0  Racing       0.0       0.0       0.0          0.0   \n",
       "\n",
       "       critic_score  user_score rating  total_sales  \n",
       "16674           NaN         NaN    NaN          0.0  \n",
       "16707           NaN         NaN    NaN          0.0  "
      ]
     },
     "execution_count": 12,
     "metadata": {},
     "output_type": "execute_result"
    }
   ],
   "source": [
    "# проверим игры с 0 продажами\n",
    "data.query('total_sales==0')"
   ]
  },
  {
   "cell_type": "markdown",
   "metadata": {},
   "source": [
    "Таких оказалось единицы. Пропуски не связаны с чем то конкретным, во всяком случае по представленным данным нельзя что-то выявить конкретное, скорее всего пропуски образовались из-за отсуствия данных на сайтах источниках, либо,например, игра была так мало раз продана, что никто не ставил оценок (если рассматривать пропуски по рейтингам)."
   ]
  },
  {
   "cell_type": "code",
   "execution_count": 13,
   "metadata": {},
   "outputs": [
    {
     "data": {
      "text/plain": [
       "0"
      ]
     },
     "execution_count": 13,
     "metadata": {},
     "output_type": "execute_result"
    }
   ],
   "source": [
    "# проверим дату на явные дубликаты\n",
    "data.duplicated().sum()"
   ]
  },
  {
   "cell_type": "markdown",
   "metadata": {},
   "source": [
    "**Вывод:** Данные обработаны. Колонки переименованны, значения столбцов приведены в нужные форматы. Пропуски изучены. Замен не потребовалось, так как учитывая характер пропущенных данных корректной замены найти нельзя, пропуски либо относятся к субьективны, либо к строгим данным, которые заменить просто так некорректно (как год выпуска)."
   ]
  },
  {
   "cell_type": "markdown",
   "metadata": {},
   "source": [
    "## Исследовательский анализ."
   ]
  },
  {
   "cell_type": "markdown",
   "metadata": {},
   "source": [
    "### Количество игр в разные периоды"
   ]
  },
  {
   "cell_type": "code",
   "execution_count": 14,
   "metadata": {},
   "outputs": [
    {
     "data": {
      "text/html": [
       "<div>\n",
       "<style scoped>\n",
       "    .dataframe tbody tr th:only-of-type {\n",
       "        vertical-align: middle;\n",
       "    }\n",
       "\n",
       "    .dataframe tbody tr th {\n",
       "        vertical-align: top;\n",
       "    }\n",
       "\n",
       "    .dataframe thead th {\n",
       "        text-align: right;\n",
       "    }\n",
       "</style>\n",
       "<table border=\"1\" class=\"dataframe\">\n",
       "  <thead>\n",
       "    <tr style=\"text-align: right;\">\n",
       "      <th></th>\n",
       "      <th>name</th>\n",
       "    </tr>\n",
       "    <tr>\n",
       "      <th>year_of_release</th>\n",
       "      <th></th>\n",
       "    </tr>\n",
       "  </thead>\n",
       "  <tbody>\n",
       "    <tr>\n",
       "      <td>1980.0</td>\n",
       "      <td>9</td>\n",
       "    </tr>\n",
       "    <tr>\n",
       "      <td>1981.0</td>\n",
       "      <td>46</td>\n",
       "    </tr>\n",
       "    <tr>\n",
       "      <td>1982.0</td>\n",
       "      <td>36</td>\n",
       "    </tr>\n",
       "    <tr>\n",
       "      <td>1983.0</td>\n",
       "      <td>17</td>\n",
       "    </tr>\n",
       "    <tr>\n",
       "      <td>1984.0</td>\n",
       "      <td>14</td>\n",
       "    </tr>\n",
       "    <tr>\n",
       "      <td>1985.0</td>\n",
       "      <td>14</td>\n",
       "    </tr>\n",
       "    <tr>\n",
       "      <td>1986.0</td>\n",
       "      <td>21</td>\n",
       "    </tr>\n",
       "    <tr>\n",
       "      <td>1987.0</td>\n",
       "      <td>16</td>\n",
       "    </tr>\n",
       "    <tr>\n",
       "      <td>1988.0</td>\n",
       "      <td>15</td>\n",
       "    </tr>\n",
       "    <tr>\n",
       "      <td>1989.0</td>\n",
       "      <td>17</td>\n",
       "    </tr>\n",
       "    <tr>\n",
       "      <td>1990.0</td>\n",
       "      <td>16</td>\n",
       "    </tr>\n",
       "    <tr>\n",
       "      <td>1991.0</td>\n",
       "      <td>41</td>\n",
       "    </tr>\n",
       "    <tr>\n",
       "      <td>1992.0</td>\n",
       "      <td>43</td>\n",
       "    </tr>\n",
       "    <tr>\n",
       "      <td>1993.0</td>\n",
       "      <td>60</td>\n",
       "    </tr>\n",
       "    <tr>\n",
       "      <td>1994.0</td>\n",
       "      <td>121</td>\n",
       "    </tr>\n",
       "    <tr>\n",
       "      <td>1995.0</td>\n",
       "      <td>219</td>\n",
       "    </tr>\n",
       "    <tr>\n",
       "      <td>1996.0</td>\n",
       "      <td>263</td>\n",
       "    </tr>\n",
       "    <tr>\n",
       "      <td>1997.0</td>\n",
       "      <td>289</td>\n",
       "    </tr>\n",
       "    <tr>\n",
       "      <td>1998.0</td>\n",
       "      <td>379</td>\n",
       "    </tr>\n",
       "    <tr>\n",
       "      <td>1999.0</td>\n",
       "      <td>338</td>\n",
       "    </tr>\n",
       "    <tr>\n",
       "      <td>2000.0</td>\n",
       "      <td>350</td>\n",
       "    </tr>\n",
       "    <tr>\n",
       "      <td>2001.0</td>\n",
       "      <td>482</td>\n",
       "    </tr>\n",
       "    <tr>\n",
       "      <td>2002.0</td>\n",
       "      <td>829</td>\n",
       "    </tr>\n",
       "    <tr>\n",
       "      <td>2003.0</td>\n",
       "      <td>775</td>\n",
       "    </tr>\n",
       "    <tr>\n",
       "      <td>2004.0</td>\n",
       "      <td>762</td>\n",
       "    </tr>\n",
       "    <tr>\n",
       "      <td>2005.0</td>\n",
       "      <td>939</td>\n",
       "    </tr>\n",
       "    <tr>\n",
       "      <td>2006.0</td>\n",
       "      <td>1006</td>\n",
       "    </tr>\n",
       "    <tr>\n",
       "      <td>2007.0</td>\n",
       "      <td>1197</td>\n",
       "    </tr>\n",
       "    <tr>\n",
       "      <td>2008.0</td>\n",
       "      <td>1427</td>\n",
       "    </tr>\n",
       "    <tr>\n",
       "      <td>2009.0</td>\n",
       "      <td>1426</td>\n",
       "    </tr>\n",
       "    <tr>\n",
       "      <td>2010.0</td>\n",
       "      <td>1255</td>\n",
       "    </tr>\n",
       "    <tr>\n",
       "      <td>2011.0</td>\n",
       "      <td>1136</td>\n",
       "    </tr>\n",
       "    <tr>\n",
       "      <td>2012.0</td>\n",
       "      <td>653</td>\n",
       "    </tr>\n",
       "    <tr>\n",
       "      <td>2013.0</td>\n",
       "      <td>544</td>\n",
       "    </tr>\n",
       "    <tr>\n",
       "      <td>2014.0</td>\n",
       "      <td>581</td>\n",
       "    </tr>\n",
       "    <tr>\n",
       "      <td>2015.0</td>\n",
       "      <td>606</td>\n",
       "    </tr>\n",
       "    <tr>\n",
       "      <td>2016.0</td>\n",
       "      <td>502</td>\n",
       "    </tr>\n",
       "  </tbody>\n",
       "</table>\n",
       "</div>"
      ],
      "text/plain": [
       "                 name\n",
       "year_of_release      \n",
       "1980.0              9\n",
       "1981.0             46\n",
       "1982.0             36\n",
       "1983.0             17\n",
       "1984.0             14\n",
       "1985.0             14\n",
       "1986.0             21\n",
       "1987.0             16\n",
       "1988.0             15\n",
       "1989.0             17\n",
       "1990.0             16\n",
       "1991.0             41\n",
       "1992.0             43\n",
       "1993.0             60\n",
       "1994.0            121\n",
       "1995.0            219\n",
       "1996.0            263\n",
       "1997.0            289\n",
       "1998.0            379\n",
       "1999.0            338\n",
       "2000.0            350\n",
       "2001.0            482\n",
       "2002.0            829\n",
       "2003.0            775\n",
       "2004.0            762\n",
       "2005.0            939\n",
       "2006.0           1006\n",
       "2007.0           1197\n",
       "2008.0           1427\n",
       "2009.0           1426\n",
       "2010.0           1255\n",
       "2011.0           1136\n",
       "2012.0            653\n",
       "2013.0            544\n",
       "2014.0            581\n",
       "2015.0            606\n",
       "2016.0            502"
      ]
     },
     "execution_count": 14,
     "metadata": {},
     "output_type": "execute_result"
    }
   ],
   "source": [
    "# сгруппируем данные по годам\n",
    "data_group_yeargame= data.pivot_table(index='year_of_release', values ='name', aggfunc='count')\n",
    "data_group_yeargame"
   ]
  },
  {
   "cell_type": "markdown",
   "metadata": {},
   "source": [
    "Из группировки видно, что был сильный всплеск с 2006-2011 количества игр. До 1995 в целом выпуск игр был не так развит, как в последующие года. Выпуск игр с этого периода увеличивался в несколько раз. Для наглядности и подтверждения сказанного построим график."
   ]
  },
  {
   "cell_type": "code",
   "execution_count": 15,
   "metadata": {},
   "outputs": [
    {
     "data": {
      "text/plain": [
       "<matplotlib.axes._subplots.AxesSubplot at 0x7f098cb89b50>"
      ]
     },
     "execution_count": 15,
     "metadata": {},
     "output_type": "execute_result"
    },
    {
     "data": {
      "image/png": "[encoded data removed]",
      "text/plain": [
       "<Figure size 432x288 with 1 Axes>"
      ]
     },
     "metadata": {
      "needs_background": "light"
     },
     "output_type": "display_data"
    }
   ],
   "source": [
    "data_group_yeargame.plot(kind='bar')"
   ]
  },
  {
   "cell_type": "markdown",
   "metadata": {},
   "source": [
    "Из графика видно, что игры в целом имели тенденцию к скачнообразному росту. Возможно, данные события связаны с появлением каких то модных тенденций (новые платформы или новые жанры игр), что вызывало резкий всплеск количества, а затем временное угасание до нового ноу-хау в игровой индустрии."
   ]
  },
  {
   "cell_type": "markdown",
   "metadata": {},
   "source": [
    "### Изучаем данные по игровым платформам"
   ]
  },
  {
   "cell_type": "code",
   "execution_count": 16,
   "metadata": {},
   "outputs": [],
   "source": [
    "# изучим данные по игровым платформам, но сначала отбросим период до 1995\n",
    "data_sinse1995=data.query('year_of_release>1994')"
   ]
  },
  {
   "cell_type": "code",
   "execution_count": 17,
   "metadata": {},
   "outputs": [
    {
     "data": {
      "text/html": [
       "<div>\n",
       "<style scoped>\n",
       "    .dataframe tbody tr th:only-of-type {\n",
       "        vertical-align: middle;\n",
       "    }\n",
       "\n",
       "    .dataframe tbody tr th {\n",
       "        vertical-align: top;\n",
       "    }\n",
       "\n",
       "    .dataframe thead th {\n",
       "        text-align: right;\n",
       "    }\n",
       "</style>\n",
       "<table border=\"1\" class=\"dataframe\">\n",
       "  <thead>\n",
       "    <tr style=\"text-align: right;\">\n",
       "      <th></th>\n",
       "      <th>total_sales</th>\n",
       "    </tr>\n",
       "    <tr>\n",
       "      <th>platform</th>\n",
       "      <th></th>\n",
       "    </tr>\n",
       "  </thead>\n",
       "  <tbody>\n",
       "    <tr>\n",
       "      <td>PS2</td>\n",
       "      <td>1233.56</td>\n",
       "    </tr>\n",
       "    <tr>\n",
       "      <td>X360</td>\n",
       "      <td>961.24</td>\n",
       "    </tr>\n",
       "    <tr>\n",
       "      <td>PS3</td>\n",
       "      <td>931.34</td>\n",
       "    </tr>\n",
       "    <tr>\n",
       "      <td>Wii</td>\n",
       "      <td>891.18</td>\n",
       "    </tr>\n",
       "    <tr>\n",
       "      <td>DS</td>\n",
       "      <td>802.76</td>\n",
       "    </tr>\n",
       "    <tr>\n",
       "      <td>PS</td>\n",
       "      <td>721.55</td>\n",
       "    </tr>\n",
       "    <tr>\n",
       "      <td>PS4</td>\n",
       "      <td>314.14</td>\n",
       "    </tr>\n",
       "    <tr>\n",
       "      <td>GBA</td>\n",
       "      <td>312.88</td>\n",
       "    </tr>\n",
       "    <tr>\n",
       "      <td>PSP</td>\n",
       "      <td>289.53</td>\n",
       "    </tr>\n",
       "    <tr>\n",
       "      <td>3DS</td>\n",
       "      <td>257.81</td>\n",
       "    </tr>\n",
       "    <tr>\n",
       "      <td>XB</td>\n",
       "      <td>251.57</td>\n",
       "    </tr>\n",
       "    <tr>\n",
       "      <td>PC</td>\n",
       "      <td>239.79</td>\n",
       "    </tr>\n",
       "    <tr>\n",
       "      <td>N64</td>\n",
       "      <td>218.01</td>\n",
       "    </tr>\n",
       "    <tr>\n",
       "      <td>GC</td>\n",
       "      <td>196.73</td>\n",
       "    </tr>\n",
       "    <tr>\n",
       "      <td>XOne</td>\n",
       "      <td>159.32</td>\n",
       "    </tr>\n",
       "    <tr>\n",
       "      <td>GB</td>\n",
       "      <td>139.90</td>\n",
       "    </tr>\n",
       "    <tr>\n",
       "      <td>WiiU</td>\n",
       "      <td>82.19</td>\n",
       "    </tr>\n",
       "    <tr>\n",
       "      <td>PSV</td>\n",
       "      <td>53.81</td>\n",
       "    </tr>\n",
       "    <tr>\n",
       "      <td>SNES</td>\n",
       "      <td>49.59</td>\n",
       "    </tr>\n",
       "    <tr>\n",
       "      <td>SAT</td>\n",
       "      <td>29.94</td>\n",
       "    </tr>\n",
       "    <tr>\n",
       "      <td>DC</td>\n",
       "      <td>15.95</td>\n",
       "    </tr>\n",
       "    <tr>\n",
       "      <td>WS</td>\n",
       "      <td>1.42</td>\n",
       "    </tr>\n",
       "    <tr>\n",
       "      <td>NG</td>\n",
       "      <td>0.43</td>\n",
       "    </tr>\n",
       "    <tr>\n",
       "      <td>TG16</td>\n",
       "      <td>0.16</td>\n",
       "    </tr>\n",
       "    <tr>\n",
       "      <td>3DO</td>\n",
       "      <td>0.08</td>\n",
       "    </tr>\n",
       "    <tr>\n",
       "      <td>PCFX</td>\n",
       "      <td>0.03</td>\n",
       "    </tr>\n",
       "  </tbody>\n",
       "</table>\n",
       "</div>"
      ],
      "text/plain": [
       "          total_sales\n",
       "platform             \n",
       "PS2           1233.56\n",
       "X360           961.24\n",
       "PS3            931.34\n",
       "Wii            891.18\n",
       "DS             802.76\n",
       "PS             721.55\n",
       "PS4            314.14\n",
       "GBA            312.88\n",
       "PSP            289.53\n",
       "3DS            257.81\n",
       "XB             251.57\n",
       "PC             239.79\n",
       "N64            218.01\n",
       "GC             196.73\n",
       "XOne           159.32\n",
       "GB             139.90\n",
       "WiiU            82.19\n",
       "PSV             53.81\n",
       "SNES            49.59\n",
       "SAT             29.94\n",
       "DC              15.95\n",
       "WS               1.42\n",
       "NG               0.43\n",
       "TG16             0.16\n",
       "3DO              0.08\n",
       "PCFX             0.03"
      ]
     },
     "execution_count": 17,
     "metadata": {},
     "output_type": "execute_result"
    }
   ],
   "source": [
    "data_group_platform= data_sinse1995.pivot_table(index='platform', values ='total_sales', aggfunc='sum')\n",
    "data_group_platform.sort_values(by='total_sales', ascending=False)\n"
   ]
  },
  {
   "cell_type": "code",
   "execution_count": 18,
   "metadata": {},
   "outputs": [
    {
     "data": {
      "text/html": [
       "<div>\n",
       "<style scoped>\n",
       "    .dataframe tbody tr th:only-of-type {\n",
       "        vertical-align: middle;\n",
       "    }\n",
       "\n",
       "    .dataframe tbody tr th {\n",
       "        vertical-align: top;\n",
       "    }\n",
       "\n",
       "    .dataframe thead th {\n",
       "        text-align: right;\n",
       "    }\n",
       "</style>\n",
       "<table border=\"1\" class=\"dataframe\">\n",
       "  <thead>\n",
       "    <tr style=\"text-align: right;\">\n",
       "      <th></th>\n",
       "      <th>name</th>\n",
       "      <th>platform</th>\n",
       "      <th>year_of_release</th>\n",
       "      <th>genre</th>\n",
       "      <th>na_sales</th>\n",
       "      <th>eu_sales</th>\n",
       "      <th>jp_sales</th>\n",
       "      <th>other_sales</th>\n",
       "      <th>critic_score</th>\n",
       "      <th>user_score</th>\n",
       "      <th>rating</th>\n",
       "      <th>total_sales</th>\n",
       "      <th>sales_over100</th>\n",
       "    </tr>\n",
       "  </thead>\n",
       "  <tbody>\n",
       "    <tr>\n",
       "      <td>0</td>\n",
       "      <td>Wii Sports</td>\n",
       "      <td>Wii</td>\n",
       "      <td>2006.0</td>\n",
       "      <td>Sports</td>\n",
       "      <td>41.36</td>\n",
       "      <td>28.96</td>\n",
       "      <td>3.77</td>\n",
       "      <td>8.45</td>\n",
       "      <td>76.0</td>\n",
       "      <td>8.0</td>\n",
       "      <td>E</td>\n",
       "      <td>82.54</td>\n",
       "      <td>yes</td>\n",
       "    </tr>\n",
       "    <tr>\n",
       "      <td>2</td>\n",
       "      <td>Mario Kart Wii</td>\n",
       "      <td>Wii</td>\n",
       "      <td>2008.0</td>\n",
       "      <td>Racing</td>\n",
       "      <td>15.68</td>\n",
       "      <td>12.76</td>\n",
       "      <td>3.79</td>\n",
       "      <td>3.29</td>\n",
       "      <td>82.0</td>\n",
       "      <td>8.3</td>\n",
       "      <td>E</td>\n",
       "      <td>35.52</td>\n",
       "      <td>yes</td>\n",
       "    </tr>\n",
       "    <tr>\n",
       "      <td>3</td>\n",
       "      <td>Wii Sports Resort</td>\n",
       "      <td>Wii</td>\n",
       "      <td>2009.0</td>\n",
       "      <td>Sports</td>\n",
       "      <td>15.61</td>\n",
       "      <td>10.93</td>\n",
       "      <td>3.28</td>\n",
       "      <td>2.95</td>\n",
       "      <td>80.0</td>\n",
       "      <td>8.0</td>\n",
       "      <td>E</td>\n",
       "      <td>32.77</td>\n",
       "      <td>yes</td>\n",
       "    </tr>\n",
       "    <tr>\n",
       "      <td>4</td>\n",
       "      <td>Pokemon Red/Pokemon Blue</td>\n",
       "      <td>GB</td>\n",
       "      <td>1996.0</td>\n",
       "      <td>Role-Playing</td>\n",
       "      <td>11.27</td>\n",
       "      <td>8.89</td>\n",
       "      <td>10.22</td>\n",
       "      <td>1.00</td>\n",
       "      <td>NaN</td>\n",
       "      <td>NaN</td>\n",
       "      <td>NaN</td>\n",
       "      <td>31.38</td>\n",
       "      <td>yes</td>\n",
       "    </tr>\n",
       "    <tr>\n",
       "      <td>6</td>\n",
       "      <td>New Super Mario Bros.</td>\n",
       "      <td>DS</td>\n",
       "      <td>2006.0</td>\n",
       "      <td>Platform</td>\n",
       "      <td>11.28</td>\n",
       "      <td>9.14</td>\n",
       "      <td>6.50</td>\n",
       "      <td>2.88</td>\n",
       "      <td>89.0</td>\n",
       "      <td>8.5</td>\n",
       "      <td>E</td>\n",
       "      <td>29.80</td>\n",
       "      <td>yes</td>\n",
       "    </tr>\n",
       "    <tr>\n",
       "      <td>...</td>\n",
       "      <td>...</td>\n",
       "      <td>...</td>\n",
       "      <td>...</td>\n",
       "      <td>...</td>\n",
       "      <td>...</td>\n",
       "      <td>...</td>\n",
       "      <td>...</td>\n",
       "      <td>...</td>\n",
       "      <td>...</td>\n",
       "      <td>...</td>\n",
       "      <td>...</td>\n",
       "      <td>...</td>\n",
       "      <td>...</td>\n",
       "    </tr>\n",
       "    <tr>\n",
       "      <td>16706</td>\n",
       "      <td>Woody Woodpecker in Crazy Castle 5</td>\n",
       "      <td>GBA</td>\n",
       "      <td>2002.0</td>\n",
       "      <td>Platform</td>\n",
       "      <td>0.01</td>\n",
       "      <td>0.00</td>\n",
       "      <td>0.00</td>\n",
       "      <td>0.00</td>\n",
       "      <td>NaN</td>\n",
       "      <td>NaN</td>\n",
       "      <td>NaN</td>\n",
       "      <td>0.01</td>\n",
       "      <td>yes</td>\n",
       "    </tr>\n",
       "    <tr>\n",
       "      <td>16707</td>\n",
       "      <td>SCORE International Baja 1000: The Official Game</td>\n",
       "      <td>PS2</td>\n",
       "      <td>2008.0</td>\n",
       "      <td>Racing</td>\n",
       "      <td>0.00</td>\n",
       "      <td>0.00</td>\n",
       "      <td>0.00</td>\n",
       "      <td>0.00</td>\n",
       "      <td>NaN</td>\n",
       "      <td>NaN</td>\n",
       "      <td>NaN</td>\n",
       "      <td>0.00</td>\n",
       "      <td>yes</td>\n",
       "    </tr>\n",
       "    <tr>\n",
       "      <td>16708</td>\n",
       "      <td>Samurai Warriors: Sanada Maru</td>\n",
       "      <td>PS3</td>\n",
       "      <td>2016.0</td>\n",
       "      <td>Action</td>\n",
       "      <td>0.00</td>\n",
       "      <td>0.00</td>\n",
       "      <td>0.01</td>\n",
       "      <td>0.00</td>\n",
       "      <td>NaN</td>\n",
       "      <td>NaN</td>\n",
       "      <td>NaN</td>\n",
       "      <td>0.01</td>\n",
       "      <td>yes</td>\n",
       "    </tr>\n",
       "    <tr>\n",
       "      <td>16709</td>\n",
       "      <td>LMA Manager 2007</td>\n",
       "      <td>X360</td>\n",
       "      <td>2006.0</td>\n",
       "      <td>Sports</td>\n",
       "      <td>0.00</td>\n",
       "      <td>0.01</td>\n",
       "      <td>0.00</td>\n",
       "      <td>0.00</td>\n",
       "      <td>NaN</td>\n",
       "      <td>NaN</td>\n",
       "      <td>NaN</td>\n",
       "      <td>0.01</td>\n",
       "      <td>yes</td>\n",
       "    </tr>\n",
       "    <tr>\n",
       "      <td>16711</td>\n",
       "      <td>Spirits &amp; Spells</td>\n",
       "      <td>GBA</td>\n",
       "      <td>2003.0</td>\n",
       "      <td>Platform</td>\n",
       "      <td>0.01</td>\n",
       "      <td>0.00</td>\n",
       "      <td>0.00</td>\n",
       "      <td>0.00</td>\n",
       "      <td>NaN</td>\n",
       "      <td>NaN</td>\n",
       "      <td>NaN</td>\n",
       "      <td>0.01</td>\n",
       "      <td>yes</td>\n",
       "    </tr>\n",
       "  </tbody>\n",
       "</table>\n",
       "<p>15068 rows × 13 columns</p>\n",
       "</div>"
      ],
      "text/plain": [
       "                                                   name platform  \\\n",
       "0                                            Wii Sports      Wii   \n",
       "2                                        Mario Kart Wii      Wii   \n",
       "3                                     Wii Sports Resort      Wii   \n",
       "4                              Pokemon Red/Pokemon Blue       GB   \n",
       "6                                 New Super Mario Bros.       DS   \n",
       "...                                                 ...      ...   \n",
       "16706                Woody Woodpecker in Crazy Castle 5      GBA   \n",
       "16707  SCORE International Baja 1000: The Official Game      PS2   \n",
       "16708                     Samurai Warriors: Sanada Maru      PS3   \n",
       "16709                                  LMA Manager 2007     X360   \n",
       "16711                                  Spirits & Spells      GBA   \n",
       "\n",
       "       year_of_release         genre  na_sales  eu_sales  jp_sales  \\\n",
       "0               2006.0        Sports     41.36     28.96      3.77   \n",
       "2               2008.0        Racing     15.68     12.76      3.79   \n",
       "3               2009.0        Sports     15.61     10.93      3.28   \n",
       "4               1996.0  Role-Playing     11.27      8.89     10.22   \n",
       "6               2006.0      Platform     11.28      9.14      6.50   \n",
       "...                ...           ...       ...       ...       ...   \n",
       "16706           2002.0      Platform      0.01      0.00      0.00   \n",
       "16707           2008.0        Racing      0.00      0.00      0.00   \n",
       "16708           2016.0        Action      0.00      0.00      0.01   \n",
       "16709           2006.0        Sports      0.00      0.01      0.00   \n",
       "16711           2003.0      Platform      0.01      0.00      0.00   \n",
       "\n",
       "       other_sales  critic_score  user_score rating  total_sales sales_over100  \n",
       "0             8.45          76.0         8.0      E        82.54           yes  \n",
       "2             3.29          82.0         8.3      E        35.52           yes  \n",
       "3             2.95          80.0         8.0      E        32.77           yes  \n",
       "4             1.00           NaN         NaN    NaN        31.38           yes  \n",
       "6             2.88          89.0         8.5      E        29.80           yes  \n",
       "...            ...           ...         ...    ...          ...           ...  \n",
       "16706         0.00           NaN         NaN    NaN         0.01           yes  \n",
       "16707         0.00           NaN         NaN    NaN         0.00           yes  \n",
       "16708         0.00           NaN         NaN    NaN         0.01           yes  \n",
       "16709         0.00           NaN         NaN    NaN         0.01           yes  \n",
       "16711         0.00           NaN         NaN    NaN         0.01           yes  \n",
       "\n",
       "[15068 rows x 13 columns]"
      ]
     },
     "execution_count": 18,
     "metadata": {},
     "output_type": "execute_result"
    }
   ],
   "source": [
    "#Отберем только те платформы, чьи продажи превыли 100 млн копий и посмотрим их распределение по годам.\n",
    "platform_over100 =data_group_platform.query('total_sales>100').index\n",
    "\n",
    "\n",
    "def datanew(platform):  \n",
    "    if platform in platform_over100:\n",
    "        return \"yes\"\n",
    "    else:\n",
    "        return \"no\" \n",
    "\n",
    "\n",
    "data['sales_over100'] = data['platform'].apply(datanew)\n",
    "data_sinse1995=data.query('year_of_release>1994')\n",
    "newdata = data_sinse1995.query('sales_over100 == \"yes\"')\n",
    "newdata"
   ]
  },
  {
   "cell_type": "code",
   "execution_count": 19,
   "metadata": {},
   "outputs": [
    {
     "data": {
      "text/html": [
       "<div>\n",
       "<style scoped>\n",
       "    .dataframe tbody tr th:only-of-type {\n",
       "        vertical-align: middle;\n",
       "    }\n",
       "\n",
       "    .dataframe tbody tr th {\n",
       "        vertical-align: top;\n",
       "    }\n",
       "\n",
       "    .dataframe thead th {\n",
       "        text-align: right;\n",
       "    }\n",
       "</style>\n",
       "<table border=\"1\" class=\"dataframe\">\n",
       "  <thead>\n",
       "    <tr style=\"text-align: right;\">\n",
       "      <th>platform</th>\n",
       "      <th>3DS</th>\n",
       "      <th>DS</th>\n",
       "      <th>GB</th>\n",
       "      <th>GBA</th>\n",
       "      <th>GC</th>\n",
       "      <th>N64</th>\n",
       "      <th>PC</th>\n",
       "      <th>PS</th>\n",
       "      <th>PS2</th>\n",
       "      <th>PS3</th>\n",
       "      <th>PS4</th>\n",
       "      <th>PSP</th>\n",
       "      <th>Wii</th>\n",
       "      <th>X360</th>\n",
       "      <th>XB</th>\n",
       "      <th>XOne</th>\n",
       "    </tr>\n",
       "    <tr>\n",
       "      <th>year_of_release</th>\n",
       "      <th></th>\n",
       "      <th></th>\n",
       "      <th></th>\n",
       "      <th></th>\n",
       "      <th></th>\n",
       "      <th></th>\n",
       "      <th></th>\n",
       "      <th></th>\n",
       "      <th></th>\n",
       "      <th></th>\n",
       "      <th></th>\n",
       "      <th></th>\n",
       "      <th></th>\n",
       "      <th></th>\n",
       "      <th></th>\n",
       "      <th></th>\n",
       "    </tr>\n",
       "  </thead>\n",
       "  <tbody>\n",
       "    <tr>\n",
       "      <td>1995.0</td>\n",
       "      <td>NaN</td>\n",
       "      <td>NaN</td>\n",
       "      <td>3.60</td>\n",
       "      <td>NaN</td>\n",
       "      <td>NaN</td>\n",
       "      <td>NaN</td>\n",
       "      <td>4.22</td>\n",
       "      <td>35.96</td>\n",
       "      <td>NaN</td>\n",
       "      <td>NaN</td>\n",
       "      <td>NaN</td>\n",
       "      <td>NaN</td>\n",
       "      <td>NaN</td>\n",
       "      <td>NaN</td>\n",
       "      <td>NaN</td>\n",
       "      <td>NaN</td>\n",
       "    </tr>\n",
       "    <tr>\n",
       "      <td>1996.0</td>\n",
       "      <td>NaN</td>\n",
       "      <td>NaN</td>\n",
       "      <td>36.03</td>\n",
       "      <td>NaN</td>\n",
       "      <td>NaN</td>\n",
       "      <td>34.10</td>\n",
       "      <td>10.58</td>\n",
       "      <td>94.70</td>\n",
       "      <td>NaN</td>\n",
       "      <td>NaN</td>\n",
       "      <td>NaN</td>\n",
       "      <td>NaN</td>\n",
       "      <td>NaN</td>\n",
       "      <td>NaN</td>\n",
       "      <td>NaN</td>\n",
       "      <td>NaN</td>\n",
       "    </tr>\n",
       "    <tr>\n",
       "      <td>1997.0</td>\n",
       "      <td>NaN</td>\n",
       "      <td>NaN</td>\n",
       "      <td>6.37</td>\n",
       "      <td>NaN</td>\n",
       "      <td>NaN</td>\n",
       "      <td>39.50</td>\n",
       "      <td>11.27</td>\n",
       "      <td>136.17</td>\n",
       "      <td>NaN</td>\n",
       "      <td>NaN</td>\n",
       "      <td>NaN</td>\n",
       "      <td>NaN</td>\n",
       "      <td>NaN</td>\n",
       "      <td>NaN</td>\n",
       "      <td>NaN</td>\n",
       "      <td>NaN</td>\n",
       "    </tr>\n",
       "    <tr>\n",
       "      <td>1998.0</td>\n",
       "      <td>NaN</td>\n",
       "      <td>NaN</td>\n",
       "      <td>26.90</td>\n",
       "      <td>NaN</td>\n",
       "      <td>NaN</td>\n",
       "      <td>49.24</td>\n",
       "      <td>3.26</td>\n",
       "      <td>169.49</td>\n",
       "      <td>NaN</td>\n",
       "      <td>NaN</td>\n",
       "      <td>NaN</td>\n",
       "      <td>NaN</td>\n",
       "      <td>NaN</td>\n",
       "      <td>NaN</td>\n",
       "      <td>NaN</td>\n",
       "      <td>NaN</td>\n",
       "    </tr>\n",
       "    <tr>\n",
       "      <td>1999.0</td>\n",
       "      <td>NaN</td>\n",
       "      <td>NaN</td>\n",
       "      <td>38.00</td>\n",
       "      <td>NaN</td>\n",
       "      <td>NaN</td>\n",
       "      <td>57.87</td>\n",
       "      <td>4.74</td>\n",
       "      <td>144.53</td>\n",
       "      <td>NaN</td>\n",
       "      <td>NaN</td>\n",
       "      <td>NaN</td>\n",
       "      <td>NaN</td>\n",
       "      <td>NaN</td>\n",
       "      <td>NaN</td>\n",
       "      <td>NaN</td>\n",
       "      <td>NaN</td>\n",
       "    </tr>\n",
       "    <tr>\n",
       "      <td>2000.0</td>\n",
       "      <td>NaN</td>\n",
       "      <td>NaN</td>\n",
       "      <td>19.76</td>\n",
       "      <td>0.07</td>\n",
       "      <td>NaN</td>\n",
       "      <td>33.97</td>\n",
       "      <td>4.66</td>\n",
       "      <td>96.37</td>\n",
       "      <td>39.17</td>\n",
       "      <td>NaN</td>\n",
       "      <td>NaN</td>\n",
       "      <td>NaN</td>\n",
       "      <td>NaN</td>\n",
       "      <td>NaN</td>\n",
       "      <td>0.99</td>\n",
       "      <td>NaN</td>\n",
       "    </tr>\n",
       "    <tr>\n",
       "      <td>2001.0</td>\n",
       "      <td>NaN</td>\n",
       "      <td>NaN</td>\n",
       "      <td>9.24</td>\n",
       "      <td>61.53</td>\n",
       "      <td>26.34</td>\n",
       "      <td>3.25</td>\n",
       "      <td>5.47</td>\n",
       "      <td>35.59</td>\n",
       "      <td>166.43</td>\n",
       "      <td>NaN</td>\n",
       "      <td>NaN</td>\n",
       "      <td>NaN</td>\n",
       "      <td>NaN</td>\n",
       "      <td>NaN</td>\n",
       "      <td>22.26</td>\n",
       "      <td>NaN</td>\n",
       "    </tr>\n",
       "    <tr>\n",
       "      <td>2002.0</td>\n",
       "      <td>NaN</td>\n",
       "      <td>NaN</td>\n",
       "      <td>NaN</td>\n",
       "      <td>74.16</td>\n",
       "      <td>51.81</td>\n",
       "      <td>0.08</td>\n",
       "      <td>8.57</td>\n",
       "      <td>6.67</td>\n",
       "      <td>205.38</td>\n",
       "      <td>NaN</td>\n",
       "      <td>NaN</td>\n",
       "      <td>NaN</td>\n",
       "      <td>NaN</td>\n",
       "      <td>NaN</td>\n",
       "      <td>48.01</td>\n",
       "      <td>NaN</td>\n",
       "    </tr>\n",
       "    <tr>\n",
       "      <td>2003.0</td>\n",
       "      <td>NaN</td>\n",
       "      <td>NaN</td>\n",
       "      <td>NaN</td>\n",
       "      <td>56.67</td>\n",
       "      <td>50.61</td>\n",
       "      <td>NaN</td>\n",
       "      <td>8.84</td>\n",
       "      <td>2.07</td>\n",
       "      <td>184.31</td>\n",
       "      <td>NaN</td>\n",
       "      <td>NaN</td>\n",
       "      <td>NaN</td>\n",
       "      <td>NaN</td>\n",
       "      <td>NaN</td>\n",
       "      <td>55.04</td>\n",
       "      <td>NaN</td>\n",
       "    </tr>\n",
       "    <tr>\n",
       "      <td>2004.0</td>\n",
       "      <td>NaN</td>\n",
       "      <td>17.27</td>\n",
       "      <td>NaN</td>\n",
       "      <td>77.91</td>\n",
       "      <td>28.82</td>\n",
       "      <td>NaN</td>\n",
       "      <td>10.39</td>\n",
       "      <td>NaN</td>\n",
       "      <td>211.81</td>\n",
       "      <td>NaN</td>\n",
       "      <td>NaN</td>\n",
       "      <td>7.06</td>\n",
       "      <td>NaN</td>\n",
       "      <td>NaN</td>\n",
       "      <td>65.42</td>\n",
       "      <td>NaN</td>\n",
       "    </tr>\n",
       "    <tr>\n",
       "      <td>2005.0</td>\n",
       "      <td>NaN</td>\n",
       "      <td>130.14</td>\n",
       "      <td>NaN</td>\n",
       "      <td>33.86</td>\n",
       "      <td>27.62</td>\n",
       "      <td>NaN</td>\n",
       "      <td>4.37</td>\n",
       "      <td>NaN</td>\n",
       "      <td>160.66</td>\n",
       "      <td>NaN</td>\n",
       "      <td>NaN</td>\n",
       "      <td>43.84</td>\n",
       "      <td>NaN</td>\n",
       "      <td>8.25</td>\n",
       "      <td>49.08</td>\n",
       "      <td>NaN</td>\n",
       "    </tr>\n",
       "    <tr>\n",
       "      <td>2006.0</td>\n",
       "      <td>NaN</td>\n",
       "      <td>119.81</td>\n",
       "      <td>NaN</td>\n",
       "      <td>5.28</td>\n",
       "      <td>11.26</td>\n",
       "      <td>NaN</td>\n",
       "      <td>2.85</td>\n",
       "      <td>NaN</td>\n",
       "      <td>103.42</td>\n",
       "      <td>20.96</td>\n",
       "      <td>NaN</td>\n",
       "      <td>55.32</td>\n",
       "      <td>137.15</td>\n",
       "      <td>51.62</td>\n",
       "      <td>10.04</td>\n",
       "      <td>NaN</td>\n",
       "    </tr>\n",
       "    <tr>\n",
       "      <td>2007.0</td>\n",
       "      <td>NaN</td>\n",
       "      <td>146.94</td>\n",
       "      <td>NaN</td>\n",
       "      <td>3.40</td>\n",
       "      <td>0.27</td>\n",
       "      <td>NaN</td>\n",
       "      <td>9.28</td>\n",
       "      <td>NaN</td>\n",
       "      <td>75.99</td>\n",
       "      <td>73.19</td>\n",
       "      <td>NaN</td>\n",
       "      <td>46.93</td>\n",
       "      <td>152.77</td>\n",
       "      <td>95.41</td>\n",
       "      <td>0.55</td>\n",
       "      <td>NaN</td>\n",
       "    </tr>\n",
       "    <tr>\n",
       "      <td>2008.0</td>\n",
       "      <td>NaN</td>\n",
       "      <td>145.31</td>\n",
       "      <td>NaN</td>\n",
       "      <td>NaN</td>\n",
       "      <td>NaN</td>\n",
       "      <td>NaN</td>\n",
       "      <td>12.42</td>\n",
       "      <td>NaN</td>\n",
       "      <td>53.90</td>\n",
       "      <td>118.52</td>\n",
       "      <td>NaN</td>\n",
       "      <td>34.55</td>\n",
       "      <td>171.32</td>\n",
       "      <td>135.26</td>\n",
       "      <td>0.18</td>\n",
       "      <td>NaN</td>\n",
       "    </tr>\n",
       "    <tr>\n",
       "      <td>2009.0</td>\n",
       "      <td>NaN</td>\n",
       "      <td>119.54</td>\n",
       "      <td>NaN</td>\n",
       "      <td>NaN</td>\n",
       "      <td>NaN</td>\n",
       "      <td>NaN</td>\n",
       "      <td>16.91</td>\n",
       "      <td>NaN</td>\n",
       "      <td>26.40</td>\n",
       "      <td>130.93</td>\n",
       "      <td>NaN</td>\n",
       "      <td>37.78</td>\n",
       "      <td>206.97</td>\n",
       "      <td>120.29</td>\n",
       "      <td>NaN</td>\n",
       "      <td>NaN</td>\n",
       "    </tr>\n",
       "    <tr>\n",
       "      <td>2010.0</td>\n",
       "      <td>NaN</td>\n",
       "      <td>85.02</td>\n",
       "      <td>NaN</td>\n",
       "      <td>NaN</td>\n",
       "      <td>NaN</td>\n",
       "      <td>NaN</td>\n",
       "      <td>24.28</td>\n",
       "      <td>NaN</td>\n",
       "      <td>5.64</td>\n",
       "      <td>142.17</td>\n",
       "      <td>NaN</td>\n",
       "      <td>35.04</td>\n",
       "      <td>127.95</td>\n",
       "      <td>170.03</td>\n",
       "      <td>NaN</td>\n",
       "      <td>NaN</td>\n",
       "    </tr>\n",
       "    <tr>\n",
       "      <td>2011.0</td>\n",
       "      <td>63.20</td>\n",
       "      <td>26.18</td>\n",
       "      <td>NaN</td>\n",
       "      <td>NaN</td>\n",
       "      <td>NaN</td>\n",
       "      <td>NaN</td>\n",
       "      <td>35.03</td>\n",
       "      <td>NaN</td>\n",
       "      <td>0.45</td>\n",
       "      <td>156.78</td>\n",
       "      <td>NaN</td>\n",
       "      <td>17.82</td>\n",
       "      <td>59.65</td>\n",
       "      <td>143.84</td>\n",
       "      <td>NaN</td>\n",
       "      <td>NaN</td>\n",
       "    </tr>\n",
       "    <tr>\n",
       "      <td>2012.0</td>\n",
       "      <td>51.36</td>\n",
       "      <td>11.01</td>\n",
       "      <td>NaN</td>\n",
       "      <td>NaN</td>\n",
       "      <td>NaN</td>\n",
       "      <td>NaN</td>\n",
       "      <td>23.22</td>\n",
       "      <td>NaN</td>\n",
       "      <td>NaN</td>\n",
       "      <td>107.36</td>\n",
       "      <td>NaN</td>\n",
       "      <td>7.69</td>\n",
       "      <td>21.71</td>\n",
       "      <td>99.74</td>\n",
       "      <td>NaN</td>\n",
       "      <td>NaN</td>\n",
       "    </tr>\n",
       "    <tr>\n",
       "      <td>2013.0</td>\n",
       "      <td>56.57</td>\n",
       "      <td>1.54</td>\n",
       "      <td>NaN</td>\n",
       "      <td>NaN</td>\n",
       "      <td>NaN</td>\n",
       "      <td>NaN</td>\n",
       "      <td>12.38</td>\n",
       "      <td>NaN</td>\n",
       "      <td>NaN</td>\n",
       "      <td>113.25</td>\n",
       "      <td>25.99</td>\n",
       "      <td>3.14</td>\n",
       "      <td>8.59</td>\n",
       "      <td>88.58</td>\n",
       "      <td>NaN</td>\n",
       "      <td>18.96</td>\n",
       "    </tr>\n",
       "    <tr>\n",
       "      <td>2014.0</td>\n",
       "      <td>43.76</td>\n",
       "      <td>NaN</td>\n",
       "      <td>NaN</td>\n",
       "      <td>NaN</td>\n",
       "      <td>NaN</td>\n",
       "      <td>NaN</td>\n",
       "      <td>13.28</td>\n",
       "      <td>NaN</td>\n",
       "      <td>NaN</td>\n",
       "      <td>47.76</td>\n",
       "      <td>100.00</td>\n",
       "      <td>0.24</td>\n",
       "      <td>3.75</td>\n",
       "      <td>34.74</td>\n",
       "      <td>NaN</td>\n",
       "      <td>54.07</td>\n",
       "    </tr>\n",
       "    <tr>\n",
       "      <td>2015.0</td>\n",
       "      <td>27.78</td>\n",
       "      <td>NaN</td>\n",
       "      <td>NaN</td>\n",
       "      <td>NaN</td>\n",
       "      <td>NaN</td>\n",
       "      <td>NaN</td>\n",
       "      <td>8.52</td>\n",
       "      <td>NaN</td>\n",
       "      <td>NaN</td>\n",
       "      <td>16.82</td>\n",
       "      <td>118.90</td>\n",
       "      <td>0.12</td>\n",
       "      <td>1.14</td>\n",
       "      <td>11.96</td>\n",
       "      <td>NaN</td>\n",
       "      <td>60.14</td>\n",
       "    </tr>\n",
       "    <tr>\n",
       "      <td>2016.0</td>\n",
       "      <td>15.14</td>\n",
       "      <td>NaN</td>\n",
       "      <td>NaN</td>\n",
       "      <td>NaN</td>\n",
       "      <td>NaN</td>\n",
       "      <td>NaN</td>\n",
       "      <td>5.25</td>\n",
       "      <td>NaN</td>\n",
       "      <td>NaN</td>\n",
       "      <td>3.60</td>\n",
       "      <td>69.25</td>\n",
       "      <td>NaN</td>\n",
       "      <td>0.18</td>\n",
       "      <td>1.52</td>\n",
       "      <td>NaN</td>\n",
       "      <td>26.15</td>\n",
       "    </tr>\n",
       "  </tbody>\n",
       "</table>\n",
       "</div>"
      ],
      "text/plain": [
       "platform           3DS      DS     GB    GBA     GC    N64     PC      PS  \\\n",
       "year_of_release                                                             \n",
       "1995.0             NaN     NaN   3.60    NaN    NaN    NaN   4.22   35.96   \n",
       "1996.0             NaN     NaN  36.03    NaN    NaN  34.10  10.58   94.70   \n",
       "1997.0             NaN     NaN   6.37    NaN    NaN  39.50  11.27  136.17   \n",
       "1998.0             NaN     NaN  26.90    NaN    NaN  49.24   3.26  169.49   \n",
       "1999.0             NaN     NaN  38.00    NaN    NaN  57.87   4.74  144.53   \n",
       "2000.0             NaN     NaN  19.76   0.07    NaN  33.97   4.66   96.37   \n",
       "2001.0             NaN     NaN   9.24  61.53  26.34   3.25   5.47   35.59   \n",
       "2002.0             NaN     NaN    NaN  74.16  51.81   0.08   8.57    6.67   \n",
       "2003.0             NaN     NaN    NaN  56.67  50.61    NaN   8.84    2.07   \n",
       "2004.0             NaN   17.27    NaN  77.91  28.82    NaN  10.39     NaN   \n",
       "2005.0             NaN  130.14    NaN  33.86  27.62    NaN   4.37     NaN   \n",
       "2006.0             NaN  119.81    NaN   5.28  11.26    NaN   2.85     NaN   \n",
       "2007.0             NaN  146.94    NaN   3.40   0.27    NaN   9.28     NaN   \n",
       "2008.0             NaN  145.31    NaN    NaN    NaN    NaN  12.42     NaN   \n",
       "2009.0             NaN  119.54    NaN    NaN    NaN    NaN  16.91     NaN   \n",
       "2010.0             NaN   85.02    NaN    NaN    NaN    NaN  24.28     NaN   \n",
       "2011.0           63.20   26.18    NaN    NaN    NaN    NaN  35.03     NaN   \n",
       "2012.0           51.36   11.01    NaN    NaN    NaN    NaN  23.22     NaN   \n",
       "2013.0           56.57    1.54    NaN    NaN    NaN    NaN  12.38     NaN   \n",
       "2014.0           43.76     NaN    NaN    NaN    NaN    NaN  13.28     NaN   \n",
       "2015.0           27.78     NaN    NaN    NaN    NaN    NaN   8.52     NaN   \n",
       "2016.0           15.14     NaN    NaN    NaN    NaN    NaN   5.25     NaN   \n",
       "\n",
       "platform            PS2     PS3     PS4    PSP     Wii    X360     XB   XOne  \n",
       "year_of_release                                                               \n",
       "1995.0              NaN     NaN     NaN    NaN     NaN     NaN    NaN    NaN  \n",
       "1996.0              NaN     NaN     NaN    NaN     NaN     NaN    NaN    NaN  \n",
       "1997.0              NaN     NaN     NaN    NaN     NaN     NaN    NaN    NaN  \n",
       "1998.0              NaN     NaN     NaN    NaN     NaN     NaN    NaN    NaN  \n",
       "1999.0              NaN     NaN     NaN    NaN     NaN     NaN    NaN    NaN  \n",
       "2000.0            39.17     NaN     NaN    NaN     NaN     NaN   0.99    NaN  \n",
       "2001.0           166.43     NaN     NaN    NaN     NaN     NaN  22.26    NaN  \n",
       "2002.0           205.38     NaN     NaN    NaN     NaN     NaN  48.01    NaN  \n",
       "2003.0           184.31     NaN     NaN    NaN     NaN     NaN  55.04    NaN  \n",
       "2004.0           211.81     NaN     NaN   7.06     NaN     NaN  65.42    NaN  \n",
       "2005.0           160.66     NaN     NaN  43.84     NaN    8.25  49.08    NaN  \n",
       "2006.0           103.42   20.96     NaN  55.32  137.15   51.62  10.04    NaN  \n",
       "2007.0            75.99   73.19     NaN  46.93  152.77   95.41   0.55    NaN  \n",
       "2008.0            53.90  118.52     NaN  34.55  171.32  135.26   0.18    NaN  \n",
       "2009.0            26.40  130.93     NaN  37.78  206.97  120.29    NaN    NaN  \n",
       "2010.0             5.64  142.17     NaN  35.04  127.95  170.03    NaN    NaN  \n",
       "2011.0             0.45  156.78     NaN  17.82   59.65  143.84    NaN    NaN  \n",
       "2012.0              NaN  107.36     NaN   7.69   21.71   99.74    NaN    NaN  \n",
       "2013.0              NaN  113.25   25.99   3.14    8.59   88.58    NaN  18.96  \n",
       "2014.0              NaN   47.76  100.00   0.24    3.75   34.74    NaN  54.07  \n",
       "2015.0              NaN   16.82  118.90   0.12    1.14   11.96    NaN  60.14  \n",
       "2016.0              NaN    3.60   69.25    NaN    0.18    1.52    NaN  26.15  "
      ]
     },
     "execution_count": 19,
     "metadata": {},
     "output_type": "execute_result"
    }
   ],
   "source": [
    "group_platform_year = newdata.pivot_table(index='year_of_release', columns='platform',values ='total_sales', aggfunc='sum')\n",
    "group_platform_year"
   ]
  },
  {
   "cell_type": "code",
   "execution_count": 20,
   "metadata": {},
   "outputs": [
    {
     "data": {
      "text/plain": [
       "<matplotlib.axes._subplots.AxesSubplot at 0x7f0984331450>"
      ]
     },
     "execution_count": 20,
     "metadata": {},
     "output_type": "execute_result"
    },
    {
     "data": {
      "image/png": "[encoded data removed]",
      "text/plain": [
       "<Figure size 1152x576 with 1 Axes>"
      ]
     },
     "metadata": {
      "needs_background": "light"
     },
     "output_type": "display_data"
    }
   ],
   "source": [
    "group_platform_year.plot(figsize=(16,8), grid=True)"
   ]
  },
  {
   "cell_type": "markdown",
   "metadata": {},
   "source": [
    "По полученным данным видно, что у всех платформ есть одна общая тенденция. В среднем они пользуются популярностью 6-7 лет. Когда появляется новая платформа, происходит резкий всплеск продаж по ней. С последующем затухаем в течение 1-3 лет. Исключением является только PC, которая в течение всех лет имеет стабильное развитие с небольшими всплесками, что сильно отличается от всех других платформ.\n",
    "\n",
    "Также всплеск количества игр 2006-2011 тоже теперь обьясним в этот период много было введено новых платформ,что стало причиной этого всплеска."
   ]
  },
  {
   "cell_type": "code",
   "execution_count": 21,
   "metadata": {},
   "outputs": [
    {
     "name": "stdout",
     "output_type": "stream",
     "text": [
      "3DS 6\n",
      "DS 10\n",
      "GB 7\n",
      "GBA 8\n",
      "GC 7\n",
      "N64 7\n",
      "PC 22\n",
      "PS 9\n",
      "PS2 12\n",
      "PS3 11\n",
      "PS4 4\n",
      "PSP 12\n",
      "Wii 11\n",
      "X360 12\n",
      "XB 9\n",
      "XOne 4\n"
     ]
    }
   ],
   "source": [
    "#Ниже приведена средняя продолжительность сущесвтования платформ\n",
    "duration= newdata.groupby('platform')['year_of_release'].unique()\n",
    "for key, value in duration.items():\n",
    "    print(key, len(value))\n",
    "    \n",
    "\n"
   ]
  },
  {
   "cell_type": "markdown",
   "metadata": {},
   "source": [
    "Как я упоминал выше выбросом является платформа PC. Исходя из графика и сводной таблице наиболее существенные значения по продажам около 6-7 лет, НО все таки по времени затухания многие платформы живут до 5 лет в среднем, что видно из полученных расчетов выше, речь идет прежде всего о популярных линейках платформ таких как PlayStation и Xbox."
   ]
  },
  {
   "cell_type": "markdown",
   "metadata": {},
   "source": [
    "### Выбираем актуальный период"
   ]
  },
  {
   "cell_type": "code",
   "execution_count": 22,
   "metadata": {},
   "outputs": [
    {
     "data": {
      "text/plain": [
       "<matplotlib.axes._subplots.AxesSubplot at 0x7f09842969d0>"
      ]
     },
     "execution_count": 22,
     "metadata": {},
     "output_type": "execute_result"
    },
    {
     "data": {
      "image/png": "[encoded data removed]",
      "text/plain": [
       "<Figure size 432x288 with 1 Axes>"
      ]
     },
     "metadata": {
      "needs_background": "light"
     },
     "output_type": "display_data"
    }
   ],
   "source": [
    "newdata.pivot_table(index='year_of_release', values ='total_sales', aggfunc='sum').plot()"
   ]
  },
  {
   "cell_type": "markdown",
   "metadata": {},
   "source": [
    "Возьмем данные по всем платформам за последние 5 лет, чтобы выявить последние тенденции, то есть какие платформы в ближайшем будущем стоит рассматривать. "
   ]
  },
  {
   "cell_type": "code",
   "execution_count": 23,
   "metadata": {},
   "outputs": [
    {
     "data": {
      "text/html": [
       "<div>\n",
       "<style scoped>\n",
       "    .dataframe tbody tr th:only-of-type {\n",
       "        vertical-align: middle;\n",
       "    }\n",
       "\n",
       "    .dataframe tbody tr th {\n",
       "        vertical-align: top;\n",
       "    }\n",
       "\n",
       "    .dataframe thead th {\n",
       "        text-align: right;\n",
       "    }\n",
       "</style>\n",
       "<table border=\"1\" class=\"dataframe\">\n",
       "  <thead>\n",
       "    <tr style=\"text-align: right;\">\n",
       "      <th>platform</th>\n",
       "      <th>3DS</th>\n",
       "      <th>DS</th>\n",
       "      <th>PC</th>\n",
       "      <th>PS3</th>\n",
       "      <th>PS4</th>\n",
       "      <th>PSP</th>\n",
       "      <th>PSV</th>\n",
       "      <th>Wii</th>\n",
       "      <th>WiiU</th>\n",
       "      <th>X360</th>\n",
       "      <th>XOne</th>\n",
       "    </tr>\n",
       "    <tr>\n",
       "      <th>year_of_release</th>\n",
       "      <th></th>\n",
       "      <th></th>\n",
       "      <th></th>\n",
       "      <th></th>\n",
       "      <th></th>\n",
       "      <th></th>\n",
       "      <th></th>\n",
       "      <th></th>\n",
       "      <th></th>\n",
       "      <th></th>\n",
       "      <th></th>\n",
       "    </tr>\n",
       "  </thead>\n",
       "  <tbody>\n",
       "    <tr>\n",
       "      <td>2012.0</td>\n",
       "      <td>51.36</td>\n",
       "      <td>11.01</td>\n",
       "      <td>23.22</td>\n",
       "      <td>107.36</td>\n",
       "      <td>NaN</td>\n",
       "      <td>7.69</td>\n",
       "      <td>16.19</td>\n",
       "      <td>21.71</td>\n",
       "      <td>17.56</td>\n",
       "      <td>99.74</td>\n",
       "      <td>NaN</td>\n",
       "    </tr>\n",
       "    <tr>\n",
       "      <td>2013.0</td>\n",
       "      <td>56.57</td>\n",
       "      <td>1.54</td>\n",
       "      <td>12.38</td>\n",
       "      <td>113.25</td>\n",
       "      <td>25.99</td>\n",
       "      <td>3.14</td>\n",
       "      <td>10.59</td>\n",
       "      <td>8.59</td>\n",
       "      <td>21.65</td>\n",
       "      <td>88.58</td>\n",
       "      <td>18.96</td>\n",
       "    </tr>\n",
       "    <tr>\n",
       "      <td>2014.0</td>\n",
       "      <td>43.76</td>\n",
       "      <td>NaN</td>\n",
       "      <td>13.28</td>\n",
       "      <td>47.76</td>\n",
       "      <td>100.00</td>\n",
       "      <td>0.24</td>\n",
       "      <td>11.90</td>\n",
       "      <td>3.75</td>\n",
       "      <td>22.03</td>\n",
       "      <td>34.74</td>\n",
       "      <td>54.07</td>\n",
       "    </tr>\n",
       "    <tr>\n",
       "      <td>2015.0</td>\n",
       "      <td>27.78</td>\n",
       "      <td>NaN</td>\n",
       "      <td>8.52</td>\n",
       "      <td>16.82</td>\n",
       "      <td>118.90</td>\n",
       "      <td>0.12</td>\n",
       "      <td>6.25</td>\n",
       "      <td>1.14</td>\n",
       "      <td>16.35</td>\n",
       "      <td>11.96</td>\n",
       "      <td>60.14</td>\n",
       "    </tr>\n",
       "    <tr>\n",
       "      <td>2016.0</td>\n",
       "      <td>15.14</td>\n",
       "      <td>NaN</td>\n",
       "      <td>5.25</td>\n",
       "      <td>3.60</td>\n",
       "      <td>69.25</td>\n",
       "      <td>NaN</td>\n",
       "      <td>4.25</td>\n",
       "      <td>0.18</td>\n",
       "      <td>4.60</td>\n",
       "      <td>1.52</td>\n",
       "      <td>26.15</td>\n",
       "    </tr>\n",
       "  </tbody>\n",
       "</table>\n",
       "</div>"
      ],
      "text/plain": [
       "platform           3DS     DS     PC     PS3     PS4   PSP    PSV    Wii  \\\n",
       "year_of_release                                                            \n",
       "2012.0           51.36  11.01  23.22  107.36     NaN  7.69  16.19  21.71   \n",
       "2013.0           56.57   1.54  12.38  113.25   25.99  3.14  10.59   8.59   \n",
       "2014.0           43.76    NaN  13.28   47.76  100.00  0.24  11.90   3.75   \n",
       "2015.0           27.78    NaN   8.52   16.82  118.90  0.12   6.25   1.14   \n",
       "2016.0           15.14    NaN   5.25    3.60   69.25   NaN   4.25   0.18   \n",
       "\n",
       "platform          WiiU   X360   XOne  \n",
       "year_of_release                       \n",
       "2012.0           17.56  99.74    NaN  \n",
       "2013.0           21.65  88.58  18.96  \n",
       "2014.0           22.03  34.74  54.07  \n",
       "2015.0           16.35  11.96  60.14  \n",
       "2016.0            4.60   1.52  26.15  "
      ]
     },
     "execution_count": 23,
     "metadata": {},
     "output_type": "execute_result"
    }
   ],
   "source": [
    "data_sinse2012=data.query('year_of_release>2011')\n",
    "data_sinse2012.pivot_table(index='year_of_release', columns='platform',values ='total_sales', aggfunc='sum')"
   ]
  },
  {
   "cell_type": "code",
   "execution_count": 24,
   "metadata": {},
   "outputs": [],
   "source": [
    "#уберем из датасета платформы, по которым за последний не было продаж. Учитывая их количество, можно убрать их вручную\n",
    "actual_data=data_sinse2012.query('platform !=[\"DS\",\"PS2\",\"PSP\"]')"
   ]
  },
  {
   "cell_type": "markdown",
   "metadata": {},
   "source": [
    "### Выбор потенциально прибольных платформ"
   ]
  },
  {
   "cell_type": "code",
   "execution_count": 25,
   "metadata": {},
   "outputs": [
    {
     "data": {
      "text/plain": [
       "platform\n",
       "PS4     314.14\n",
       "PS3     288.79\n",
       "X360    236.54\n",
       "3DS     194.61\n",
       "XOne    159.32\n",
       "WiiU     82.19\n",
       "PC       62.65\n",
       "PSV      49.18\n",
       "Wii      35.37\n",
       "Name: total_sales, dtype: float64"
      ]
     },
     "execution_count": 25,
     "metadata": {},
     "output_type": "execute_result"
    }
   ],
   "source": [
    "# посчитаем количество продаж по платформам за указанный период и построим график на каждую из них\n",
    "actual_data.groupby('platform')['total_sales'].sum().sort_values(ascending=False)"
   ]
  },
  {
   "cell_type": "code",
   "execution_count": 26,
   "metadata": {},
   "outputs": [
    {
     "data": {
      "text/plain": [
       "<matplotlib.axes._subplots.AxesSubplot at 0x7f09842051d0>"
      ]
     },
     "execution_count": 26,
     "metadata": {},
     "output_type": "execute_result"
    },
    {
     "data": {
      "image/png": "[encoded data removed]",
      "text/plain": [
       "<Figure size 1080x720 with 1 Axes>"
      ]
     },
     "metadata": {
      "needs_background": "light"
     },
     "output_type": "display_data"
    }
   ],
   "source": [
    "actual_data.pivot_table(index='year_of_release', columns='platform',values ='total_sales', aggfunc='sum').plot(figsize=(15,10))"
   ]
  },
  {
   "cell_type": "markdown",
   "metadata": {},
   "source": [
    "По полученным данным видно, что сейчас идет общая тенденция к снижению.\n",
    "\n",
    "Однако основываясь на предыдущих данных и теденциях можно выделить следующие потенциально прибыльные платформы:\n",
    "- PS4 относительная новая платформа, которая еще точно задержится пару лет на рынке и имеющая самый высокий показатель продаж\n",
    "- XOne аналогично PS4 только количество продаж ниже\n",
    "- 3DS тоже можно еще один год уделить внимание\n",
    "- PC данная платформа стабильна, сейчас переживает спад, но глядя на предыдущие периоды, то явно будет тенденция к ее небольшому росту. Пика здесь не будет, эта данная платформа точно всегда имеет свой спрос\n",
    "\n",
    "WiiU и PSV судя по продажам платформы для более узкой аудитории, как и PC, но в отличие от PC данные платформы уже на грани своей стагнации, если и рассматривать их то очень ограниченный тиражом в ближайший год.\n",
    "\n",
    "PS3, Xbox360 и Wii не смотря на их ощутимые показатели, уже прошли свое развитие. Есть вероятность, что в следующем году их не будет вовсе. Игры для данных платформ закупать не стоит."
   ]
  },
  {
   "cell_type": "markdown",
   "metadata": {},
   "source": [
    "### Построение диаграммы размаха по глобальным продажам"
   ]
  },
  {
   "cell_type": "code",
   "execution_count": 27,
   "metadata": {},
   "outputs": [
    {
     "data": {
      "text/plain": [
       "<matplotlib.axes._subplots.AxesSubplot at 0x7f098414a7d0>"
      ]
     },
     "execution_count": 27,
     "metadata": {},
     "output_type": "execute_result"
    },
    {
     "data": {
      "image/png": "[encoded data removed]",
      "text/plain": [
       "<Figure size 432x288 with 1 Axes>"
      ]
     },
     "metadata": {
      "needs_background": "light"
     },
     "output_type": "display_data"
    }
   ],
   "source": [
    "actual_data_for_box = actual_data[['platform','other_sales','eu_sales','jp_sales', 'na_sales', 'total_sales']]\n",
    "actual_data_for_box_PS4 = actual_data_for_box.query('platform == \"PS4\"') \n",
    "\n",
    "\n",
    "plt.ylim(0, 3)\n",
    "\n",
    "actual_data_for_box_PS4.boxplot()\n"
   ]
  },
  {
   "cell_type": "markdown",
   "metadata": {},
   "source": [
    "Необходимо убрать слишком маленькие значения, иначе слишком много выбросов выходит. Оберем значения по общим продажам которые больше либо равны 0,5.\n",
    "\n"
   ]
  },
  {
   "cell_type": "code",
   "execution_count": 28,
   "metadata": {},
   "outputs": [
    {
     "data": {
      "text/plain": [
       "<matplotlib.axes._subplots.AxesSubplot at 0x7f0984087bd0>"
      ]
     },
     "execution_count": 28,
     "metadata": {},
     "output_type": "execute_result"
    },
    {
     "data": {
      "image/png": "[encoded data removed]",
      "text/plain": [
       "<Figure size 432x288 with 1 Axes>"
      ]
     },
     "metadata": {
      "needs_background": "light"
     },
     "output_type": "display_data"
    }
   ],
   "source": [
    "actual_data_for_box = actual_data_for_box.query('total_sales >= 0.5')\n",
    "actual_data_for_box_PS4 = actual_data_for_box.query('platform == \"PS4\"') \n",
    "plt.ylim(0, 3)\n",
    "actual_data_for_box_PS4.boxplot()"
   ]
  },
  {
   "cell_type": "markdown",
   "metadata": {},
   "source": [
    "По PS4 платформе видно, что наибольшие количество продаж оказалось в европейский и североамериканском регионах. Имеется куча выбросов, что нормально для данной индуствии, так как зачастую отдельных игры формируют основные продажи."
   ]
  },
  {
   "cell_type": "code",
   "execution_count": 29,
   "metadata": {},
   "outputs": [
    {
     "data": {
      "text/plain": [
       "<matplotlib.axes._subplots.AxesSubplot at 0x7f0982565090>"
      ]
     },
     "execution_count": 29,
     "metadata": {},
     "output_type": "execute_result"
    },
    {
     "data": {
      "image/png": "[encoded data removed]",
      "text/plain": [
       "<Figure size 432x288 with 1 Axes>"
      ]
     },
     "metadata": {
      "needs_background": "light"
     },
     "output_type": "display_data"
    }
   ],
   "source": [
    "actual_data_for_box_XOne = actual_data_for_box.query('platform == \"XOne\"') \n",
    "plt.ylim(0, 3)\n",
    "actual_data_for_box_XOne.boxplot()"
   ]
  },
  {
   "cell_type": "markdown",
   "metadata": {},
   "source": [
    "По XOne платформе видно, что наибольшие количество продаж в североамериканском регионе. Имеются выбросы, но уже гораздо меньше чем у PS4. В Японсокм регионе практически нет данной платформы."
   ]
  },
  {
   "cell_type": "code",
   "execution_count": 30,
   "metadata": {},
   "outputs": [
    {
     "data": {
      "text/plain": [
       "<matplotlib.axes._subplots.AxesSubplot at 0x7f0982565e50>"
      ]
     },
     "execution_count": 30,
     "metadata": {},
     "output_type": "execute_result"
    },
    {
     "data": {
      "image/png": "[encoded data removed]",
      "text/plain": [
       "<Figure size 432x288 with 1 Axes>"
      ]
     },
     "metadata": {
      "needs_background": "light"
     },
     "output_type": "display_data"
    }
   ],
   "source": [
    "actual_data_for_box_PC = actual_data_for_box.query('platform == \"PC\"') \n",
    "plt.ylim(0, 3)\n",
    "actual_data_for_box_PC.boxplot()"
   ]
  },
  {
   "cell_type": "markdown",
   "metadata": {},
   "source": [
    "PC наибольшим спросом пользуется в европейской части. Выбросов здесь намного меньше по играм, чем у платформ описанных выше. В японсокй части данную платформу снова не жалуют."
   ]
  },
  {
   "cell_type": "code",
   "execution_count": 31,
   "metadata": {},
   "outputs": [
    {
     "data": {
      "text/plain": [
       "<matplotlib.axes._subplots.AxesSubplot at 0x7f09823eaf10>"
      ]
     },
     "execution_count": 31,
     "metadata": {},
     "output_type": "execute_result"
    },
    {
     "data": {
      "image/png": "[encoded data removed]",
      "text/plain": [
       "<Figure size 432x288 with 1 Axes>"
      ]
     },
     "metadata": {
      "needs_background": "light"
     },
     "output_type": "display_data"
    }
   ],
   "source": [
    "actual_data_for_box_3DS = actual_data_for_box.query('platform == \"3DS\"') \n",
    "plt.ylim(0, 3)\n",
    "actual_data_for_box_3DS.boxplot()"
   ]
  },
  {
   "cell_type": "markdown",
   "metadata": {},
   "source": [
    "Данная платформа имеет наибольший спрос в Японии. Довольно много выбросов в других регионах мира. Такие разницы по регионам вызваны тем, что Япония сама по себе является на текущий момент производителем и разработчиком половины существующих платформ, поэтому в ней некоторые платформы-аналоги других стран не пользуются спросом, да и смысла импортирования и закупок других платформ нет. У Японии также свой менталитет, а собственно спрос бывает на определенные типы игр. Пользователи же других регионов имеют более обширную аудитории и охват, поэтому там пользуются значительным спросом разные виды платформ в том числе, те которые имеют успех и в Японии."
   ]
  },
  {
   "cell_type": "markdown",
   "metadata": {},
   "source": [
    "###  Анализ взаимосвязи между продажами и отзывами"
   ]
  },
  {
   "cell_type": "code",
   "execution_count": 32,
   "metadata": {},
   "outputs": [
    {
     "data": {
      "text/html": [
       "<div>\n",
       "<style scoped>\n",
       "    .dataframe tbody tr th:only-of-type {\n",
       "        vertical-align: middle;\n",
       "    }\n",
       "\n",
       "    .dataframe tbody tr th {\n",
       "        vertical-align: top;\n",
       "    }\n",
       "\n",
       "    .dataframe thead th {\n",
       "        text-align: right;\n",
       "    }\n",
       "</style>\n",
       "<table border=\"1\" class=\"dataframe\">\n",
       "  <thead>\n",
       "    <tr style=\"text-align: right;\">\n",
       "      <th></th>\n",
       "      <th>platform</th>\n",
       "      <th>user_score</th>\n",
       "      <th>critic_score</th>\n",
       "      <th>total_sales</th>\n",
       "    </tr>\n",
       "  </thead>\n",
       "  <tbody>\n",
       "    <tr>\n",
       "      <td>0</td>\n",
       "      <td>PS3</td>\n",
       "      <td>8.2</td>\n",
       "      <td>97.0</td>\n",
       "      <td>21.05</td>\n",
       "    </tr>\n",
       "    <tr>\n",
       "      <td>1</td>\n",
       "      <td>X360</td>\n",
       "      <td>8.1</td>\n",
       "      <td>97.0</td>\n",
       "      <td>16.27</td>\n",
       "    </tr>\n",
       "    <tr>\n",
       "      <td>2</td>\n",
       "      <td>PS3</td>\n",
       "      <td>5.3</td>\n",
       "      <td>83.0</td>\n",
       "      <td>13.79</td>\n",
       "    </tr>\n",
       "    <tr>\n",
       "      <td>3</td>\n",
       "      <td>X360</td>\n",
       "      <td>4.8</td>\n",
       "      <td>83.0</td>\n",
       "      <td>13.68</td>\n",
       "    </tr>\n",
       "    <tr>\n",
       "      <td>4</td>\n",
       "      <td>PS4</td>\n",
       "      <td>8.3</td>\n",
       "      <td>97.0</td>\n",
       "      <td>12.62</td>\n",
       "    </tr>\n",
       "    <tr>\n",
       "      <td>...</td>\n",
       "      <td>...</td>\n",
       "      <td>...</td>\n",
       "      <td>...</td>\n",
       "      <td>...</td>\n",
       "    </tr>\n",
       "    <tr>\n",
       "      <td>1297</td>\n",
       "      <td>X360</td>\n",
       "      <td>2.1</td>\n",
       "      <td>49.0</td>\n",
       "      <td>0.01</td>\n",
       "    </tr>\n",
       "    <tr>\n",
       "      <td>1298</td>\n",
       "      <td>XOne</td>\n",
       "      <td>8.2</td>\n",
       "      <td>63.0</td>\n",
       "      <td>0.01</td>\n",
       "    </tr>\n",
       "    <tr>\n",
       "      <td>1299</td>\n",
       "      <td>WiiU</td>\n",
       "      <td>8.5</td>\n",
       "      <td>81.0</td>\n",
       "      <td>0.01</td>\n",
       "    </tr>\n",
       "    <tr>\n",
       "      <td>1300</td>\n",
       "      <td>XOne</td>\n",
       "      <td>6.7</td>\n",
       "      <td>74.0</td>\n",
       "      <td>0.01</td>\n",
       "    </tr>\n",
       "    <tr>\n",
       "      <td>1301</td>\n",
       "      <td>PC</td>\n",
       "      <td>7.6</td>\n",
       "      <td>80.0</td>\n",
       "      <td>0.01</td>\n",
       "    </tr>\n",
       "  </tbody>\n",
       "</table>\n",
       "<p>1302 rows × 4 columns</p>\n",
       "</div>"
      ],
      "text/plain": [
       "     platform  user_score  critic_score  total_sales\n",
       "0         PS3         8.2          97.0        21.05\n",
       "1        X360         8.1          97.0        16.27\n",
       "2         PS3         5.3          83.0        13.79\n",
       "3        X360         4.8          83.0        13.68\n",
       "4         PS4         8.3          97.0        12.62\n",
       "...       ...         ...           ...          ...\n",
       "1297     X360         2.1          49.0         0.01\n",
       "1298     XOne         8.2          63.0         0.01\n",
       "1299     WiiU         8.5          81.0         0.01\n",
       "1300     XOne         6.7          74.0         0.01\n",
       "1301       PC         7.6          80.0         0.01\n",
       "\n",
       "[1302 rows x 4 columns]"
      ]
     },
     "execution_count": 32,
     "metadata": {},
     "output_type": "execute_result"
    }
   ],
   "source": [
    "# подготовим таблицу для данного анализа и сразу убирем из нее пропуски по отзывам\n",
    "actual_data_for_scatter = actual_data[['platform','user_score','critic_score','total_sales']]\n",
    "actual_data_for_scatter =actual_data_for_scatter.dropna(subset=['user_score']).reset_index(drop=True)\n",
    "actual_data_for_scatter =actual_data_for_scatter.dropna(subset=['critic_score']).reset_index(drop=True)\n",
    "actual_data_for_scatter"
   ]
  },
  {
   "cell_type": "code",
   "execution_count": 33,
   "metadata": {},
   "outputs": [
    {
     "data": {
      "text/plain": [
       "array([[<matplotlib.axes._subplots.AxesSubplot object at 0x7f098233c390>,\n",
       "        <matplotlib.axes._subplots.AxesSubplot object at 0x7f09822e7b50>,\n",
       "        <matplotlib.axes._subplots.AxesSubplot object at 0x7f09822a7c10>],\n",
       "       [<matplotlib.axes._subplots.AxesSubplot object at 0x7f098225e8d0>,\n",
       "        <matplotlib.axes._subplots.AxesSubplot object at 0x7f098221cc50>,\n",
       "        <matplotlib.axes._subplots.AxesSubplot object at 0x7f0982254910>],\n",
       "       [<matplotlib.axes._subplots.AxesSubplot object at 0x7f098220fd90>,\n",
       "        <matplotlib.axes._subplots.AxesSubplot object at 0x7f09821c8950>,\n",
       "        <matplotlib.axes._subplots.AxesSubplot object at 0x7f09821d14d0>]],\n",
       "      dtype=object)"
      ]
     },
     "execution_count": 33,
     "metadata": {},
     "output_type": "execute_result"
    },
    {
     "data": {
      "image/png": "[encoded data removed]",
      "text/plain": [
       "<Figure size 432x288 with 9 Axes>"
      ]
     },
     "metadata": {
      "needs_background": "light"
     },
     "output_type": "display_data"
    }
   ],
   "source": [
    "# рассмотрим взаимосявязь на наиболее популярной и потенциально прибыльной платформе PS4\n",
    "actual_data_for_scatter_PS4 = actual_data_for_scatter.query('platform == \"PS4\"') \n",
    "pd.plotting.scatter_matrix(actual_data_for_scatter_PS4)"
   ]
  },
  {
   "cell_type": "markdown",
   "metadata": {},
   "source": [
    "Как видно из графиков отзывы критиков влияют намного сильнее, чем отзывы пользователей. Там где отзывы были выше 75 были явные выбросы по продажам. Отзывы пользователей тоже влияют однако не так сильно как критики. Разные оценки имеют примерно одинаковое распределение выбросов без ярко выраженного уклона."
   ]
  },
  {
   "cell_type": "code",
   "execution_count": 34,
   "metadata": {},
   "outputs": [
    {
     "data": {
      "text/html": [
       "<div>\n",
       "<style scoped>\n",
       "    .dataframe tbody tr th:only-of-type {\n",
       "        vertical-align: middle;\n",
       "    }\n",
       "\n",
       "    .dataframe tbody tr th {\n",
       "        vertical-align: top;\n",
       "    }\n",
       "\n",
       "    .dataframe thead th {\n",
       "        text-align: right;\n",
       "    }\n",
       "</style>\n",
       "<table border=\"1\" class=\"dataframe\">\n",
       "  <thead>\n",
       "    <tr style=\"text-align: right;\">\n",
       "      <th></th>\n",
       "      <th>user_score</th>\n",
       "      <th>critic_score</th>\n",
       "      <th>total_sales</th>\n",
       "    </tr>\n",
       "  </thead>\n",
       "  <tbody>\n",
       "    <tr>\n",
       "      <td>user_score</td>\n",
       "      <td>1.000000</td>\n",
       "      <td>0.556037</td>\n",
       "      <td>-0.028835</td>\n",
       "    </tr>\n",
       "    <tr>\n",
       "      <td>critic_score</td>\n",
       "      <td>0.556037</td>\n",
       "      <td>1.000000</td>\n",
       "      <td>0.406002</td>\n",
       "    </tr>\n",
       "    <tr>\n",
       "      <td>total_sales</td>\n",
       "      <td>-0.028835</td>\n",
       "      <td>0.406002</td>\n",
       "      <td>1.000000</td>\n",
       "    </tr>\n",
       "  </tbody>\n",
       "</table>\n",
       "</div>"
      ],
      "text/plain": [
       "              user_score  critic_score  total_sales\n",
       "user_score      1.000000      0.556037    -0.028835\n",
       "critic_score    0.556037      1.000000     0.406002\n",
       "total_sales    -0.028835      0.406002     1.000000"
      ]
     },
     "execution_count": 34,
     "metadata": {},
     "output_type": "execute_result"
    }
   ],
   "source": [
    "#изучим корреляцию\n",
    "actual_data_for_scatter_PS4.corr()"
   ]
  },
  {
   "cell_type": "markdown",
   "metadata": {},
   "source": [
    "Согласно коэффицентам корреляции отзывы пользователей не влияют на продажи игр. Отзывы критиков оказывают среднее влияние, видимо пользователи привыкли полагаться на свой вкус по большей части в этом сигменте и мало доверяют оценкам. Либо учитывая, что изначально было много пропусков по отзывам, то данное исследование может быть не вполне корректно."
   ]
  },
  {
   "cell_type": "markdown",
   "metadata": {},
   "source": [
    "### Сравнение выводов с другими платформами"
   ]
  },
  {
   "cell_type": "code",
   "execution_count": 35,
   "metadata": {},
   "outputs": [
    {
     "data": {
      "text/plain": [
       "array([[<matplotlib.axes._subplots.AxesSubplot object at 0x7f098203cad0>,\n",
       "        <matplotlib.axes._subplots.AxesSubplot object at 0x7f0982004dd0>,\n",
       "        <matplotlib.axes._subplots.AxesSubplot object at 0x7f0981fb9f90>],\n",
       "       [<matplotlib.axes._subplots.AxesSubplot object at 0x7f0981f7a850>,\n",
       "        <matplotlib.axes._subplots.AxesSubplot object at 0x7f0981f39bd0>,\n",
       "        <matplotlib.axes._subplots.AxesSubplot object at 0x7f0981eee890>],\n",
       "       [<matplotlib.axes._subplots.AxesSubplot object at 0x7f0981eabd10>,\n",
       "        <matplotlib.axes._subplots.AxesSubplot object at 0x7f0981e638d0>,\n",
       "        <matplotlib.axes._subplots.AxesSubplot object at 0x7f0981e6c450>]],\n",
       "      dtype=object)"
      ]
     },
     "execution_count": 35,
     "metadata": {},
     "output_type": "execute_result"
    },
    {
     "data": {
      "image/png": "[encoded data removed]",
      "text/plain": [
       "<Figure size 432x288 with 9 Axes>"
      ]
     },
     "metadata": {
      "needs_background": "light"
     },
     "output_type": "display_data"
    }
   ],
   "source": [
    "# построим матрицу рассеивания и корреляцию по выбраным ранее платформам\n",
    "pd.plotting.scatter_matrix(actual_data_for_scatter)"
   ]
  },
  {
   "cell_type": "code",
   "execution_count": 36,
   "metadata": {},
   "outputs": [
    {
     "data": {
      "text/html": [
       "<div>\n",
       "<style scoped>\n",
       "    .dataframe tbody tr th:only-of-type {\n",
       "        vertical-align: middle;\n",
       "    }\n",
       "\n",
       "    .dataframe tbody tr th {\n",
       "        vertical-align: top;\n",
       "    }\n",
       "\n",
       "    .dataframe thead th {\n",
       "        text-align: right;\n",
       "    }\n",
       "</style>\n",
       "<table border=\"1\" class=\"dataframe\">\n",
       "  <thead>\n",
       "    <tr style=\"text-align: right;\">\n",
       "      <th></th>\n",
       "      <th>user_score</th>\n",
       "      <th>critic_score</th>\n",
       "      <th>total_sales</th>\n",
       "    </tr>\n",
       "  </thead>\n",
       "  <tbody>\n",
       "    <tr>\n",
       "      <td>user_score</td>\n",
       "      <td>1.000000</td>\n",
       "      <td>0.516181</td>\n",
       "      <td>0.003810</td>\n",
       "    </tr>\n",
       "    <tr>\n",
       "      <td>critic_score</td>\n",
       "      <td>0.516181</td>\n",
       "      <td>1.000000</td>\n",
       "      <td>0.307564</td>\n",
       "    </tr>\n",
       "    <tr>\n",
       "      <td>total_sales</td>\n",
       "      <td>0.003810</td>\n",
       "      <td>0.307564</td>\n",
       "      <td>1.000000</td>\n",
       "    </tr>\n",
       "  </tbody>\n",
       "</table>\n",
       "</div>"
      ],
      "text/plain": [
       "              user_score  critic_score  total_sales\n",
       "user_score      1.000000      0.516181     0.003810\n",
       "critic_score    0.516181      1.000000     0.307564\n",
       "total_sales     0.003810      0.307564     1.000000"
      ]
     },
     "execution_count": 36,
     "metadata": {},
     "output_type": "execute_result"
    }
   ],
   "source": [
    "actual_data_for_scatter.corr()"
   ]
  },
  {
   "cell_type": "markdown",
   "metadata": {},
   "source": [
    "Здесь аналогичные результаты исходя из полученных данных, оценки не окзывают непосредственного влияния на продажи. Люди склонны доверять мнению критиков больше, когда как на оценки пользователей смотрят мало."
   ]
  },
  {
   "cell_type": "markdown",
   "metadata": {},
   "source": [
    "### Анализ игр по жанрам"
   ]
  },
  {
   "cell_type": "code",
   "execution_count": 37,
   "metadata": {},
   "outputs": [
    {
     "data": {
      "text/html": [
       "<div>\n",
       "<style scoped>\n",
       "    .dataframe tbody tr th:only-of-type {\n",
       "        vertical-align: middle;\n",
       "    }\n",
       "\n",
       "    .dataframe tbody tr th {\n",
       "        vertical-align: top;\n",
       "    }\n",
       "\n",
       "    .dataframe thead th {\n",
       "        text-align: right;\n",
       "    }\n",
       "</style>\n",
       "<table border=\"1\" class=\"dataframe\">\n",
       "  <thead>\n",
       "    <tr style=\"text-align: right;\">\n",
       "      <th>platform</th>\n",
       "      <th>3DS</th>\n",
       "      <th>PC</th>\n",
       "      <th>PS3</th>\n",
       "      <th>PS4</th>\n",
       "      <th>PSV</th>\n",
       "      <th>Wii</th>\n",
       "      <th>WiiU</th>\n",
       "      <th>X360</th>\n",
       "      <th>XOne</th>\n",
       "    </tr>\n",
       "    <tr>\n",
       "      <th>genre</th>\n",
       "      <th></th>\n",
       "      <th></th>\n",
       "      <th></th>\n",
       "      <th></th>\n",
       "      <th></th>\n",
       "      <th></th>\n",
       "      <th></th>\n",
       "      <th></th>\n",
       "      <th></th>\n",
       "    </tr>\n",
       "  </thead>\n",
       "  <tbody>\n",
       "    <tr>\n",
       "      <td>Action</td>\n",
       "      <td>45.49</td>\n",
       "      <td>13.14</td>\n",
       "      <td>115.75</td>\n",
       "      <td>96.10</td>\n",
       "      <td>16.33</td>\n",
       "      <td>10.75</td>\n",
       "      <td>19.07</td>\n",
       "      <td>81.60</td>\n",
       "      <td>37.31</td>\n",
       "    </tr>\n",
       "    <tr>\n",
       "      <td>Adventure</td>\n",
       "      <td>4.30</td>\n",
       "      <td>0.87</td>\n",
       "      <td>6.09</td>\n",
       "      <td>6.34</td>\n",
       "      <td>3.79</td>\n",
       "      <td>0.19</td>\n",
       "      <td>0.17</td>\n",
       "      <td>3.27</td>\n",
       "      <td>2.68</td>\n",
       "    </tr>\n",
       "    <tr>\n",
       "      <td>Fighting</td>\n",
       "      <td>8.46</td>\n",
       "      <td>0.12</td>\n",
       "      <td>11.00</td>\n",
       "      <td>8.65</td>\n",
       "      <td>2.21</td>\n",
       "      <td>NaN</td>\n",
       "      <td>6.27</td>\n",
       "      <td>4.97</td>\n",
       "      <td>2.45</td>\n",
       "    </tr>\n",
       "    <tr>\n",
       "      <td>Misc</td>\n",
       "      <td>9.45</td>\n",
       "      <td>0.73</td>\n",
       "      <td>8.88</td>\n",
       "      <td>8.19</td>\n",
       "      <td>4.32</td>\n",
       "      <td>17.86</td>\n",
       "      <td>12.46</td>\n",
       "      <td>14.83</td>\n",
       "      <td>7.43</td>\n",
       "    </tr>\n",
       "    <tr>\n",
       "      <td>Platform</td>\n",
       "      <td>19.11</td>\n",
       "      <td>0.14</td>\n",
       "      <td>4.26</td>\n",
       "      <td>7.69</td>\n",
       "      <td>2.26</td>\n",
       "      <td>2.25</td>\n",
       "      <td>21.53</td>\n",
       "      <td>2.14</td>\n",
       "      <td>0.93</td>\n",
       "    </tr>\n",
       "    <tr>\n",
       "      <td>Puzzle</td>\n",
       "      <td>2.66</td>\n",
       "      <td>0.03</td>\n",
       "      <td>0.04</td>\n",
       "      <td>0.02</td>\n",
       "      <td>0.06</td>\n",
       "      <td>0.66</td>\n",
       "      <td>1.32</td>\n",
       "      <td>NaN</td>\n",
       "      <td>NaN</td>\n",
       "    </tr>\n",
       "    <tr>\n",
       "      <td>Racing</td>\n",
       "      <td>0.28</td>\n",
       "      <td>1.23</td>\n",
       "      <td>11.56</td>\n",
       "      <td>12.14</td>\n",
       "      <td>2.21</td>\n",
       "      <td>0.01</td>\n",
       "      <td>7.87</td>\n",
       "      <td>8.41</td>\n",
       "      <td>9.79</td>\n",
       "    </tr>\n",
       "    <tr>\n",
       "      <td>Role-Playing</td>\n",
       "      <td>79.30</td>\n",
       "      <td>13.65</td>\n",
       "      <td>22.62</td>\n",
       "      <td>28.99</td>\n",
       "      <td>12.05</td>\n",
       "      <td>1.06</td>\n",
       "      <td>2.89</td>\n",
       "      <td>9.80</td>\n",
       "      <td>10.55</td>\n",
       "    </tr>\n",
       "    <tr>\n",
       "      <td>Shooter</td>\n",
       "      <td>0.13</td>\n",
       "      <td>14.27</td>\n",
       "      <td>60.39</td>\n",
       "      <td>88.56</td>\n",
       "      <td>2.34</td>\n",
       "      <td>NaN</td>\n",
       "      <td>6.01</td>\n",
       "      <td>72.70</td>\n",
       "      <td>60.33</td>\n",
       "    </tr>\n",
       "    <tr>\n",
       "      <td>Simulation</td>\n",
       "      <td>19.93</td>\n",
       "      <td>9.22</td>\n",
       "      <td>1.78</td>\n",
       "      <td>1.23</td>\n",
       "      <td>0.05</td>\n",
       "      <td>0.22</td>\n",
       "      <td>0.20</td>\n",
       "      <td>1.53</td>\n",
       "      <td>0.69</td>\n",
       "    </tr>\n",
       "    <tr>\n",
       "      <td>Sports</td>\n",
       "      <td>4.23</td>\n",
       "      <td>3.26</td>\n",
       "      <td>44.84</td>\n",
       "      <td>55.61</td>\n",
       "      <td>3.21</td>\n",
       "      <td>2.11</td>\n",
       "      <td>3.16</td>\n",
       "      <td>36.39</td>\n",
       "      <td>26.74</td>\n",
       "    </tr>\n",
       "    <tr>\n",
       "      <td>Strategy</td>\n",
       "      <td>1.27</td>\n",
       "      <td>5.99</td>\n",
       "      <td>1.58</td>\n",
       "      <td>0.62</td>\n",
       "      <td>0.35</td>\n",
       "      <td>0.26</td>\n",
       "      <td>1.24</td>\n",
       "      <td>0.90</td>\n",
       "      <td>0.42</td>\n",
       "    </tr>\n",
       "  </tbody>\n",
       "</table>\n",
       "</div>"
      ],
      "text/plain": [
       "platform        3DS     PC     PS3    PS4    PSV    Wii   WiiU   X360   XOne\n",
       "genre                                                                       \n",
       "Action        45.49  13.14  115.75  96.10  16.33  10.75  19.07  81.60  37.31\n",
       "Adventure      4.30   0.87    6.09   6.34   3.79   0.19   0.17   3.27   2.68\n",
       "Fighting       8.46   0.12   11.00   8.65   2.21    NaN   6.27   4.97   2.45\n",
       "Misc           9.45   0.73    8.88   8.19   4.32  17.86  12.46  14.83   7.43\n",
       "Platform      19.11   0.14    4.26   7.69   2.26   2.25  21.53   2.14   0.93\n",
       "Puzzle         2.66   0.03    0.04   0.02   0.06   0.66   1.32    NaN    NaN\n",
       "Racing         0.28   1.23   11.56  12.14   2.21   0.01   7.87   8.41   9.79\n",
       "Role-Playing  79.30  13.65   22.62  28.99  12.05   1.06   2.89   9.80  10.55\n",
       "Shooter        0.13  14.27   60.39  88.56   2.34    NaN   6.01  72.70  60.33\n",
       "Simulation    19.93   9.22    1.78   1.23   0.05   0.22   0.20   1.53   0.69\n",
       "Sports         4.23   3.26   44.84  55.61   3.21   2.11   3.16  36.39  26.74\n",
       "Strategy       1.27   5.99    1.58   0.62   0.35   0.26   1.24   0.90   0.42"
      ]
     },
     "execution_count": 37,
     "metadata": {},
     "output_type": "execute_result"
    }
   ],
   "source": [
    "# сгруппируем данные жанров \n",
    "actual_data.pivot_table(index='genre', columns='platform', values='total_sales', aggfunc='sum').sort_values(by='genre')"
   ]
  },
  {
   "cell_type": "markdown",
   "metadata": {},
   "source": [
    "Одназначными лидерами становятся следующие жанры: \n",
    "- Action\n",
    "- Shooter\n",
    "- Role-Playing\n",
    "- Sports\n",
    "\n",
    "Наименне популрными становятся жанры Puzzle, Strategy и Simulation.\n",
    "\n",
    "Также по полученному распределению видно, что некоторые жанры явно преобладат на определенных платформах. К примеру, почти половина продаж по Role-Playing приходится на 3DS, а жанр Platform распределен практически весь между 3DS и WiiU.\n"
   ]
  },
  {
   "cell_type": "markdown",
   "metadata": {},
   "source": [
    "**Вывод:** по результатам проведенного анализа можно сделать следующие выводы:\n",
    "- Значительный рост у игр начался с конца 90-ых годов. \n",
    "- В целом продажи игр развиваются скачкообразно. Данная тенденция зависит от выхода новых игровых платформ, которые в среднем живут около 6 лет и сменяются затем другими. Исключением является только PC, которое имеет стабильное не сильно подверженное скачкам развитие со вомими ростами и падениями.\n",
    "- Для прогноза на будущее был выбран период 5 лет. Были выявлены потенциально прибыльные платформы на следующий год: PC, XOne, PS4 и 3DS.\n",
    "- В целом в игровой индустрии много выбросов по играм. Разные платформы пользуются разным спросом в различных частях света.\n",
    "- Согласно анализу отзывы пользователей не влияют на продажи, а отзывы критиков оказывают умеренное влияние, полагаясь на полученные данные (возможно в дате было мало данных).\n",
    "- Наиболее популярные жанры Action, Shooter, Role-Playing и Sports. Также у некоторых платформ некоторые жанры имеют подавляюие большинство, что говорит об уникальности некоторых игр."
   ]
  },
  {
   "cell_type": "markdown",
   "metadata": {},
   "source": [
    "## Составление портрета пользователя каждого региона"
   ]
  },
  {
   "cell_type": "code",
   "execution_count": 38,
   "metadata": {},
   "outputs": [
    {
     "data": {
      "text/html": [
       "<div>\n",
       "<style scoped>\n",
       "    .dataframe tbody tr th:only-of-type {\n",
       "        vertical-align: middle;\n",
       "    }\n",
       "\n",
       "    .dataframe tbody tr th {\n",
       "        vertical-align: top;\n",
       "    }\n",
       "\n",
       "    .dataframe thead th {\n",
       "        text-align: right;\n",
       "    }\n",
       "</style>\n",
       "<table border=\"1\" class=\"dataframe\">\n",
       "  <thead>\n",
       "    <tr style=\"text-align: right;\">\n",
       "      <th></th>\n",
       "      <th>eu_sales</th>\n",
       "      <th>jp_sales</th>\n",
       "      <th>na_sales</th>\n",
       "    </tr>\n",
       "    <tr>\n",
       "      <th>platform</th>\n",
       "      <th></th>\n",
       "      <th></th>\n",
       "      <th></th>\n",
       "    </tr>\n",
       "  </thead>\n",
       "  <tbody>\n",
       "    <tr>\n",
       "      <td>PS4</td>\n",
       "      <td>141.09</td>\n",
       "      <td>15.96</td>\n",
       "      <td>108.74</td>\n",
       "    </tr>\n",
       "    <tr>\n",
       "      <td>PS3</td>\n",
       "      <td>106.86</td>\n",
       "      <td>35.29</td>\n",
       "      <td>103.38</td>\n",
       "    </tr>\n",
       "    <tr>\n",
       "      <td>X360</td>\n",
       "      <td>74.52</td>\n",
       "      <td>1.57</td>\n",
       "      <td>140.05</td>\n",
       "    </tr>\n",
       "    <tr>\n",
       "      <td>XOne</td>\n",
       "      <td>51.59</td>\n",
       "      <td>0.34</td>\n",
       "      <td>93.12</td>\n",
       "    </tr>\n",
       "    <tr>\n",
       "      <td>3DS</td>\n",
       "      <td>42.64</td>\n",
       "      <td>87.79</td>\n",
       "      <td>55.31</td>\n",
       "    </tr>\n",
       "    <tr>\n",
       "      <td>PC</td>\n",
       "      <td>37.76</td>\n",
       "      <td>0.00</td>\n",
       "      <td>19.12</td>\n",
       "    </tr>\n",
       "    <tr>\n",
       "      <td>WiiU</td>\n",
       "      <td>25.13</td>\n",
       "      <td>13.01</td>\n",
       "      <td>38.10</td>\n",
       "    </tr>\n",
       "    <tr>\n",
       "      <td>Wii</td>\n",
       "      <td>11.92</td>\n",
       "      <td>3.39</td>\n",
       "      <td>17.45</td>\n",
       "    </tr>\n",
       "    <tr>\n",
       "      <td>PSV</td>\n",
       "      <td>11.36</td>\n",
       "      <td>21.04</td>\n",
       "      <td>10.98</td>\n",
       "    </tr>\n",
       "  </tbody>\n",
       "</table>\n",
       "</div>"
      ],
      "text/plain": [
       "          eu_sales  jp_sales  na_sales\n",
       "platform                              \n",
       "PS4         141.09     15.96    108.74\n",
       "PS3         106.86     35.29    103.38\n",
       "X360         74.52      1.57    140.05\n",
       "XOne         51.59      0.34     93.12\n",
       "3DS          42.64     87.79     55.31\n",
       "PC           37.76      0.00     19.12\n",
       "WiiU         25.13     13.01     38.10\n",
       "Wii          11.92      3.39     17.45\n",
       "PSV          11.36     21.04     10.98"
      ]
     },
     "metadata": {},
     "output_type": "display_data"
    },
    {
     "data": {
      "text/html": [
       "<div>\n",
       "<style scoped>\n",
       "    .dataframe tbody tr th:only-of-type {\n",
       "        vertical-align: middle;\n",
       "    }\n",
       "\n",
       "    .dataframe tbody tr th {\n",
       "        vertical-align: top;\n",
       "    }\n",
       "\n",
       "    .dataframe thead th {\n",
       "        text-align: right;\n",
       "    }\n",
       "</style>\n",
       "<table border=\"1\" class=\"dataframe\">\n",
       "  <thead>\n",
       "    <tr style=\"text-align: right;\">\n",
       "      <th></th>\n",
       "      <th>eu_sales</th>\n",
       "      <th>jp_sales</th>\n",
       "      <th>na_sales</th>\n",
       "    </tr>\n",
       "    <tr>\n",
       "      <th>platform</th>\n",
       "      <th></th>\n",
       "      <th></th>\n",
       "      <th></th>\n",
       "    </tr>\n",
       "  </thead>\n",
       "  <tbody>\n",
       "    <tr>\n",
       "      <td>3DS</td>\n",
       "      <td>42.64</td>\n",
       "      <td>87.79</td>\n",
       "      <td>55.31</td>\n",
       "    </tr>\n",
       "    <tr>\n",
       "      <td>PS3</td>\n",
       "      <td>106.86</td>\n",
       "      <td>35.29</td>\n",
       "      <td>103.38</td>\n",
       "    </tr>\n",
       "    <tr>\n",
       "      <td>PSV</td>\n",
       "      <td>11.36</td>\n",
       "      <td>21.04</td>\n",
       "      <td>10.98</td>\n",
       "    </tr>\n",
       "    <tr>\n",
       "      <td>PS4</td>\n",
       "      <td>141.09</td>\n",
       "      <td>15.96</td>\n",
       "      <td>108.74</td>\n",
       "    </tr>\n",
       "    <tr>\n",
       "      <td>WiiU</td>\n",
       "      <td>25.13</td>\n",
       "      <td>13.01</td>\n",
       "      <td>38.10</td>\n",
       "    </tr>\n",
       "    <tr>\n",
       "      <td>Wii</td>\n",
       "      <td>11.92</td>\n",
       "      <td>3.39</td>\n",
       "      <td>17.45</td>\n",
       "    </tr>\n",
       "    <tr>\n",
       "      <td>X360</td>\n",
       "      <td>74.52</td>\n",
       "      <td>1.57</td>\n",
       "      <td>140.05</td>\n",
       "    </tr>\n",
       "    <tr>\n",
       "      <td>XOne</td>\n",
       "      <td>51.59</td>\n",
       "      <td>0.34</td>\n",
       "      <td>93.12</td>\n",
       "    </tr>\n",
       "    <tr>\n",
       "      <td>PC</td>\n",
       "      <td>37.76</td>\n",
       "      <td>0.00</td>\n",
       "      <td>19.12</td>\n",
       "    </tr>\n",
       "  </tbody>\n",
       "</table>\n",
       "</div>"
      ],
      "text/plain": [
       "          eu_sales  jp_sales  na_sales\n",
       "platform                              \n",
       "3DS          42.64     87.79     55.31\n",
       "PS3         106.86     35.29    103.38\n",
       "PSV          11.36     21.04     10.98\n",
       "PS4         141.09     15.96    108.74\n",
       "WiiU         25.13     13.01     38.10\n",
       "Wii          11.92      3.39     17.45\n",
       "X360         74.52      1.57    140.05\n",
       "XOne         51.59      0.34     93.12\n",
       "PC           37.76      0.00     19.12"
      ]
     },
     "metadata": {},
     "output_type": "display_data"
    },
    {
     "data": {
      "text/html": [
       "<div>\n",
       "<style scoped>\n",
       "    .dataframe tbody tr th:only-of-type {\n",
       "        vertical-align: middle;\n",
       "    }\n",
       "\n",
       "    .dataframe tbody tr th {\n",
       "        vertical-align: top;\n",
       "    }\n",
       "\n",
       "    .dataframe thead th {\n",
       "        text-align: right;\n",
       "    }\n",
       "</style>\n",
       "<table border=\"1\" class=\"dataframe\">\n",
       "  <thead>\n",
       "    <tr style=\"text-align: right;\">\n",
       "      <th></th>\n",
       "      <th>eu_sales</th>\n",
       "      <th>jp_sales</th>\n",
       "      <th>na_sales</th>\n",
       "    </tr>\n",
       "    <tr>\n",
       "      <th>platform</th>\n",
       "      <th></th>\n",
       "      <th></th>\n",
       "      <th></th>\n",
       "    </tr>\n",
       "  </thead>\n",
       "  <tbody>\n",
       "    <tr>\n",
       "      <td>X360</td>\n",
       "      <td>74.52</td>\n",
       "      <td>1.57</td>\n",
       "      <td>140.05</td>\n",
       "    </tr>\n",
       "    <tr>\n",
       "      <td>PS4</td>\n",
       "      <td>141.09</td>\n",
       "      <td>15.96</td>\n",
       "      <td>108.74</td>\n",
       "    </tr>\n",
       "    <tr>\n",
       "      <td>PS3</td>\n",
       "      <td>106.86</td>\n",
       "      <td>35.29</td>\n",
       "      <td>103.38</td>\n",
       "    </tr>\n",
       "    <tr>\n",
       "      <td>XOne</td>\n",
       "      <td>51.59</td>\n",
       "      <td>0.34</td>\n",
       "      <td>93.12</td>\n",
       "    </tr>\n",
       "    <tr>\n",
       "      <td>3DS</td>\n",
       "      <td>42.64</td>\n",
       "      <td>87.79</td>\n",
       "      <td>55.31</td>\n",
       "    </tr>\n",
       "    <tr>\n",
       "      <td>WiiU</td>\n",
       "      <td>25.13</td>\n",
       "      <td>13.01</td>\n",
       "      <td>38.10</td>\n",
       "    </tr>\n",
       "    <tr>\n",
       "      <td>PC</td>\n",
       "      <td>37.76</td>\n",
       "      <td>0.00</td>\n",
       "      <td>19.12</td>\n",
       "    </tr>\n",
       "    <tr>\n",
       "      <td>Wii</td>\n",
       "      <td>11.92</td>\n",
       "      <td>3.39</td>\n",
       "      <td>17.45</td>\n",
       "    </tr>\n",
       "    <tr>\n",
       "      <td>PSV</td>\n",
       "      <td>11.36</td>\n",
       "      <td>21.04</td>\n",
       "      <td>10.98</td>\n",
       "    </tr>\n",
       "  </tbody>\n",
       "</table>\n",
       "</div>"
      ],
      "text/plain": [
       "          eu_sales  jp_sales  na_sales\n",
       "platform                              \n",
       "X360         74.52      1.57    140.05\n",
       "PS4         141.09     15.96    108.74\n",
       "PS3         106.86     35.29    103.38\n",
       "XOne         51.59      0.34     93.12\n",
       "3DS          42.64     87.79     55.31\n",
       "WiiU         25.13     13.01     38.10\n",
       "PC           37.76      0.00     19.12\n",
       "Wii          11.92      3.39     17.45\n",
       "PSV          11.36     21.04     10.98"
      ]
     },
     "execution_count": 38,
     "metadata": {},
     "output_type": "execute_result"
    }
   ],
   "source": [
    "#сгрупируем данные по платформам в разрезе изучаемых регионов (NA,EU,JP) за анализируммый актуальный период\n",
    "\n",
    "display(actual_data.pivot_table(index='platform', values =['na_sales','eu_sales','jp_sales'], aggfunc='sum').sort_values(by='eu_sales', ascending=False))\n",
    "display(actual_data.pivot_table(index='platform', values =['na_sales','eu_sales','jp_sales'], aggfunc='sum').sort_values(by='jp_sales', ascending=False))\n",
    "actual_data.pivot_table(index='platform', values =['na_sales','eu_sales','jp_sales'], aggfunc='sum').sort_values(by='na_sales', ascending=False)"
   ]
  },
  {
   "cell_type": "code",
   "execution_count": 39,
   "metadata": {},
   "outputs": [
    {
     "data": {
      "text/plain": [
       "<matplotlib.axes._subplots.AxesSubplot at 0x7f0981fe6dd0>"
      ]
     },
     "execution_count": 39,
     "metadata": {},
     "output_type": "execute_result"
    },
    {
     "data": {
      "image/png": "[encoded data removed]",
      "text/plain": [
       "<Figure size 720x360 with 1 Axes>"
      ]
     },
     "metadata": {
      "needs_background": "light"
     },
     "output_type": "display_data"
    }
   ],
   "source": [
    "# Постоим график к полученным результатам\n",
    "actual_data.pivot_table(index='platform', values =['na_sales','eu_sales','jp_sales'], aggfunc='sum').sort_values(by='na_sales', ascending=False).plot(kind='bar',figsize=(10,5))\n"
   ]
  },
  {
   "cell_type": "markdown",
   "metadata": {},
   "source": [
    "В европейском регионе за последние 5 лет большей популярностью пользовались платформы PS4 и PS3, следом X360 и XOne, 3DS.\n",
    "\n",
    "У серевороамерикоснкого региона аналогичная позиция с разницей только в том, что лидером там стало X360, что не удивительно так как платформа xbox родом из Америки, но все равно платформы PS пользуются большим спросом, как и в Европе.\n",
    "\n",
    "Что касается японского региона то здесь лидерами становятся только платформы японского происхождения, тогда как платформы серии xbox и pc практически не пользуются спросом."
   ]
  },
  {
   "cell_type": "code",
   "execution_count": 40,
   "metadata": {},
   "outputs": [
    {
     "data": {
      "text/html": [
       "<div>\n",
       "<style scoped>\n",
       "    .dataframe tbody tr th:only-of-type {\n",
       "        vertical-align: middle;\n",
       "    }\n",
       "\n",
       "    .dataframe tbody tr th {\n",
       "        vertical-align: top;\n",
       "    }\n",
       "\n",
       "    .dataframe thead th {\n",
       "        text-align: right;\n",
       "    }\n",
       "</style>\n",
       "<table border=\"1\" class=\"dataframe\">\n",
       "  <thead>\n",
       "    <tr style=\"text-align: right;\">\n",
       "      <th></th>\n",
       "      <th>eu_sales</th>\n",
       "      <th>jp_sales</th>\n",
       "      <th>na_sales</th>\n",
       "    </tr>\n",
       "    <tr>\n",
       "      <th>genre</th>\n",
       "      <th></th>\n",
       "      <th></th>\n",
       "      <th></th>\n",
       "    </tr>\n",
       "  </thead>\n",
       "  <tbody>\n",
       "    <tr>\n",
       "      <td>Action</td>\n",
       "      <td>158.43</td>\n",
       "      <td>49.18</td>\n",
       "      <td>177.00</td>\n",
       "    </tr>\n",
       "    <tr>\n",
       "      <td>Shooter</td>\n",
       "      <td>113.47</td>\n",
       "      <td>9.23</td>\n",
       "      <td>144.77</td>\n",
       "    </tr>\n",
       "    <tr>\n",
       "      <td>Sports</td>\n",
       "      <td>68.84</td>\n",
       "      <td>6.98</td>\n",
       "      <td>81.38</td>\n",
       "    </tr>\n",
       "    <tr>\n",
       "      <td>Role-Playing</td>\n",
       "      <td>46.76</td>\n",
       "      <td>59.12</td>\n",
       "      <td>60.65</td>\n",
       "    </tr>\n",
       "    <tr>\n",
       "      <td>Racing</td>\n",
       "      <td>27.29</td>\n",
       "      <td>2.50</td>\n",
       "      <td>17.22</td>\n",
       "    </tr>\n",
       "    <tr>\n",
       "      <td>Misc</td>\n",
       "      <td>25.95</td>\n",
       "      <td>12.45</td>\n",
       "      <td>38.13</td>\n",
       "    </tr>\n",
       "    <tr>\n",
       "      <td>Platform</td>\n",
       "      <td>20.98</td>\n",
       "      <td>8.63</td>\n",
       "      <td>25.17</td>\n",
       "    </tr>\n",
       "    <tr>\n",
       "      <td>Simulation</td>\n",
       "      <td>14.47</td>\n",
       "      <td>10.35</td>\n",
       "      <td>7.86</td>\n",
       "    </tr>\n",
       "    <tr>\n",
       "      <td>Fighting</td>\n",
       "      <td>10.79</td>\n",
       "      <td>9.08</td>\n",
       "      <td>19.79</td>\n",
       "    </tr>\n",
       "    <tr>\n",
       "      <td>Adventure</td>\n",
       "      <td>9.41</td>\n",
       "      <td>6.56</td>\n",
       "      <td>8.92</td>\n",
       "    </tr>\n",
       "    <tr>\n",
       "      <td>Strategy</td>\n",
       "      <td>5.17</td>\n",
       "      <td>2.17</td>\n",
       "      <td>4.23</td>\n",
       "    </tr>\n",
       "    <tr>\n",
       "      <td>Puzzle</td>\n",
       "      <td>1.31</td>\n",
       "      <td>2.14</td>\n",
       "      <td>1.13</td>\n",
       "    </tr>\n",
       "  </tbody>\n",
       "</table>\n",
       "</div>"
      ],
      "text/plain": [
       "              eu_sales  jp_sales  na_sales\n",
       "genre                                     \n",
       "Action          158.43     49.18    177.00\n",
       "Shooter         113.47      9.23    144.77\n",
       "Sports           68.84      6.98     81.38\n",
       "Role-Playing     46.76     59.12     60.65\n",
       "Racing           27.29      2.50     17.22\n",
       "Misc             25.95     12.45     38.13\n",
       "Platform         20.98      8.63     25.17\n",
       "Simulation       14.47     10.35      7.86\n",
       "Fighting         10.79      9.08     19.79\n",
       "Adventure         9.41      6.56      8.92\n",
       "Strategy          5.17      2.17      4.23\n",
       "Puzzle            1.31      2.14      1.13"
      ]
     },
     "metadata": {},
     "output_type": "display_data"
    },
    {
     "data": {
      "text/html": [
       "<div>\n",
       "<style scoped>\n",
       "    .dataframe tbody tr th:only-of-type {\n",
       "        vertical-align: middle;\n",
       "    }\n",
       "\n",
       "    .dataframe tbody tr th {\n",
       "        vertical-align: top;\n",
       "    }\n",
       "\n",
       "    .dataframe thead th {\n",
       "        text-align: right;\n",
       "    }\n",
       "</style>\n",
       "<table border=\"1\" class=\"dataframe\">\n",
       "  <thead>\n",
       "    <tr style=\"text-align: right;\">\n",
       "      <th></th>\n",
       "      <th>eu_sales</th>\n",
       "      <th>jp_sales</th>\n",
       "      <th>na_sales</th>\n",
       "    </tr>\n",
       "    <tr>\n",
       "      <th>genre</th>\n",
       "      <th></th>\n",
       "      <th></th>\n",
       "      <th></th>\n",
       "    </tr>\n",
       "  </thead>\n",
       "  <tbody>\n",
       "    <tr>\n",
       "      <td>Role-Playing</td>\n",
       "      <td>46.76</td>\n",
       "      <td>59.12</td>\n",
       "      <td>60.65</td>\n",
       "    </tr>\n",
       "    <tr>\n",
       "      <td>Action</td>\n",
       "      <td>158.43</td>\n",
       "      <td>49.18</td>\n",
       "      <td>177.00</td>\n",
       "    </tr>\n",
       "    <tr>\n",
       "      <td>Misc</td>\n",
       "      <td>25.95</td>\n",
       "      <td>12.45</td>\n",
       "      <td>38.13</td>\n",
       "    </tr>\n",
       "    <tr>\n",
       "      <td>Simulation</td>\n",
       "      <td>14.47</td>\n",
       "      <td>10.35</td>\n",
       "      <td>7.86</td>\n",
       "    </tr>\n",
       "    <tr>\n",
       "      <td>Shooter</td>\n",
       "      <td>113.47</td>\n",
       "      <td>9.23</td>\n",
       "      <td>144.77</td>\n",
       "    </tr>\n",
       "    <tr>\n",
       "      <td>Fighting</td>\n",
       "      <td>10.79</td>\n",
       "      <td>9.08</td>\n",
       "      <td>19.79</td>\n",
       "    </tr>\n",
       "    <tr>\n",
       "      <td>Platform</td>\n",
       "      <td>20.98</td>\n",
       "      <td>8.63</td>\n",
       "      <td>25.17</td>\n",
       "    </tr>\n",
       "    <tr>\n",
       "      <td>Sports</td>\n",
       "      <td>68.84</td>\n",
       "      <td>6.98</td>\n",
       "      <td>81.38</td>\n",
       "    </tr>\n",
       "    <tr>\n",
       "      <td>Adventure</td>\n",
       "      <td>9.41</td>\n",
       "      <td>6.56</td>\n",
       "      <td>8.92</td>\n",
       "    </tr>\n",
       "    <tr>\n",
       "      <td>Racing</td>\n",
       "      <td>27.29</td>\n",
       "      <td>2.50</td>\n",
       "      <td>17.22</td>\n",
       "    </tr>\n",
       "    <tr>\n",
       "      <td>Strategy</td>\n",
       "      <td>5.17</td>\n",
       "      <td>2.17</td>\n",
       "      <td>4.23</td>\n",
       "    </tr>\n",
       "    <tr>\n",
       "      <td>Puzzle</td>\n",
       "      <td>1.31</td>\n",
       "      <td>2.14</td>\n",
       "      <td>1.13</td>\n",
       "    </tr>\n",
       "  </tbody>\n",
       "</table>\n",
       "</div>"
      ],
      "text/plain": [
       "              eu_sales  jp_sales  na_sales\n",
       "genre                                     \n",
       "Role-Playing     46.76     59.12     60.65\n",
       "Action          158.43     49.18    177.00\n",
       "Misc             25.95     12.45     38.13\n",
       "Simulation       14.47     10.35      7.86\n",
       "Shooter         113.47      9.23    144.77\n",
       "Fighting         10.79      9.08     19.79\n",
       "Platform         20.98      8.63     25.17\n",
       "Sports           68.84      6.98     81.38\n",
       "Adventure         9.41      6.56      8.92\n",
       "Racing           27.29      2.50     17.22\n",
       "Strategy          5.17      2.17      4.23\n",
       "Puzzle            1.31      2.14      1.13"
      ]
     },
     "metadata": {},
     "output_type": "display_data"
    },
    {
     "data": {
      "text/html": [
       "<div>\n",
       "<style scoped>\n",
       "    .dataframe tbody tr th:only-of-type {\n",
       "        vertical-align: middle;\n",
       "    }\n",
       "\n",
       "    .dataframe tbody tr th {\n",
       "        vertical-align: top;\n",
       "    }\n",
       "\n",
       "    .dataframe thead th {\n",
       "        text-align: right;\n",
       "    }\n",
       "</style>\n",
       "<table border=\"1\" class=\"dataframe\">\n",
       "  <thead>\n",
       "    <tr style=\"text-align: right;\">\n",
       "      <th></th>\n",
       "      <th>eu_sales</th>\n",
       "      <th>jp_sales</th>\n",
       "      <th>na_sales</th>\n",
       "    </tr>\n",
       "    <tr>\n",
       "      <th>genre</th>\n",
       "      <th></th>\n",
       "      <th></th>\n",
       "      <th></th>\n",
       "    </tr>\n",
       "  </thead>\n",
       "  <tbody>\n",
       "    <tr>\n",
       "      <td>Action</td>\n",
       "      <td>158.43</td>\n",
       "      <td>49.18</td>\n",
       "      <td>177.00</td>\n",
       "    </tr>\n",
       "    <tr>\n",
       "      <td>Shooter</td>\n",
       "      <td>113.47</td>\n",
       "      <td>9.23</td>\n",
       "      <td>144.77</td>\n",
       "    </tr>\n",
       "    <tr>\n",
       "      <td>Sports</td>\n",
       "      <td>68.84</td>\n",
       "      <td>6.98</td>\n",
       "      <td>81.38</td>\n",
       "    </tr>\n",
       "    <tr>\n",
       "      <td>Role-Playing</td>\n",
       "      <td>46.76</td>\n",
       "      <td>59.12</td>\n",
       "      <td>60.65</td>\n",
       "    </tr>\n",
       "    <tr>\n",
       "      <td>Misc</td>\n",
       "      <td>25.95</td>\n",
       "      <td>12.45</td>\n",
       "      <td>38.13</td>\n",
       "    </tr>\n",
       "    <tr>\n",
       "      <td>Platform</td>\n",
       "      <td>20.98</td>\n",
       "      <td>8.63</td>\n",
       "      <td>25.17</td>\n",
       "    </tr>\n",
       "    <tr>\n",
       "      <td>Fighting</td>\n",
       "      <td>10.79</td>\n",
       "      <td>9.08</td>\n",
       "      <td>19.79</td>\n",
       "    </tr>\n",
       "    <tr>\n",
       "      <td>Racing</td>\n",
       "      <td>27.29</td>\n",
       "      <td>2.50</td>\n",
       "      <td>17.22</td>\n",
       "    </tr>\n",
       "    <tr>\n",
       "      <td>Adventure</td>\n",
       "      <td>9.41</td>\n",
       "      <td>6.56</td>\n",
       "      <td>8.92</td>\n",
       "    </tr>\n",
       "    <tr>\n",
       "      <td>Simulation</td>\n",
       "      <td>14.47</td>\n",
       "      <td>10.35</td>\n",
       "      <td>7.86</td>\n",
       "    </tr>\n",
       "    <tr>\n",
       "      <td>Strategy</td>\n",
       "      <td>5.17</td>\n",
       "      <td>2.17</td>\n",
       "      <td>4.23</td>\n",
       "    </tr>\n",
       "    <tr>\n",
       "      <td>Puzzle</td>\n",
       "      <td>1.31</td>\n",
       "      <td>2.14</td>\n",
       "      <td>1.13</td>\n",
       "    </tr>\n",
       "  </tbody>\n",
       "</table>\n",
       "</div>"
      ],
      "text/plain": [
       "              eu_sales  jp_sales  na_sales\n",
       "genre                                     \n",
       "Action          158.43     49.18    177.00\n",
       "Shooter         113.47      9.23    144.77\n",
       "Sports           68.84      6.98     81.38\n",
       "Role-Playing     46.76     59.12     60.65\n",
       "Misc             25.95     12.45     38.13\n",
       "Platform         20.98      8.63     25.17\n",
       "Fighting         10.79      9.08     19.79\n",
       "Racing           27.29      2.50     17.22\n",
       "Adventure         9.41      6.56      8.92\n",
       "Simulation       14.47     10.35      7.86\n",
       "Strategy          5.17      2.17      4.23\n",
       "Puzzle            1.31      2.14      1.13"
      ]
     },
     "execution_count": 40,
     "metadata": {},
     "output_type": "execute_result"
    }
   ],
   "source": [
    "#сгрупируем данные по жанрам в разрезе изучаемых регионов (NA,EU,JP) за анализируммый актуальный период\n",
    "display(actual_data.pivot_table(index='genre', values =['na_sales','eu_sales','jp_sales'], aggfunc='sum').sort_values(by='eu_sales', ascending=False))\n",
    "display(actual_data.pivot_table(index='genre', values =['na_sales','eu_sales','jp_sales'], aggfunc='sum').sort_values(by='jp_sales', ascending=False))\n",
    "actual_data.pivot_table(index='genre', values =['na_sales','eu_sales','jp_sales'], aggfunc='sum').sort_values(by='na_sales', ascending=False)"
   ]
  },
  {
   "cell_type": "code",
   "execution_count": 41,
   "metadata": {},
   "outputs": [
    {
     "data": {
      "text/plain": [
       "<matplotlib.axes._subplots.AxesSubplot at 0x7f0981c369d0>"
      ]
     },
     "execution_count": 41,
     "metadata": {},
     "output_type": "execute_result"
    },
    {
     "data": {
      "image/png": "[encoded data removed]",
      "text/plain": [
       "<Figure size 720x360 with 1 Axes>"
      ]
     },
     "metadata": {
      "needs_background": "light"
     },
     "output_type": "display_data"
    }
   ],
   "source": [
    "actual_data.pivot_table(index='genre', values =['na_sales','eu_sales','jp_sales'], aggfunc='sum').sort_values(by='na_sales', ascending=False).plot(kind='bar', figsize=(10,5))"
   ]
  },
  {
   "cell_type": "markdown",
   "metadata": {},
   "source": [
    "Ситуация аналогична, тогда как в американском и европейском регионе предпочитают примерно аналогичные жанры Action, Shooter, Sports, Role-Playing,  разве что, в Америке менeе популярен жанр Racing, который в Европе замыкает топ-5 за изучаемый период, то в Японии лидерами становится Role-Playing, Action, Misc, Simulation и Shooter. "
   ]
  },
  {
   "cell_type": "code",
   "execution_count": 42,
   "metadata": {},
   "outputs": [
    {
     "name": "stdout",
     "output_type": "stream",
     "text": [
      "<class 'pandas.core.frame.DataFrame'>\n",
      "Int64Index: 2682 entries, 16 to 16712\n",
      "Data columns (total 13 columns):\n",
      "name               2682 non-null object\n",
      "platform           2682 non-null object\n",
      "year_of_release    2682 non-null float64\n",
      "genre              2682 non-null object\n",
      "na_sales           2682 non-null float64\n",
      "eu_sales           2682 non-null float64\n",
      "jp_sales           2682 non-null float64\n",
      "other_sales        2682 non-null float64\n",
      "critic_score       1310 non-null float64\n",
      "user_score         1571 non-null float64\n",
      "rating             1589 non-null object\n",
      "total_sales        2682 non-null float64\n",
      "sales_over100      2682 non-null object\n",
      "dtypes: float64(8), object(5)\n",
      "memory usage: 293.3+ KB\n"
     ]
    }
   ],
   "source": [
    "# проверим количевто пропусков по рейтингу в нашей актуальной дате\n",
    "actual_data.info()"
   ]
  },
  {
   "cell_type": "code",
   "execution_count": 51,
   "metadata": {},
   "outputs": [
    {
     "data": {
      "text/html": [
       "<div>\n",
       "<style scoped>\n",
       "    .dataframe tbody tr th:only-of-type {\n",
       "        vertical-align: middle;\n",
       "    }\n",
       "\n",
       "    .dataframe tbody tr th {\n",
       "        vertical-align: top;\n",
       "    }\n",
       "\n",
       "    .dataframe thead th {\n",
       "        text-align: right;\n",
       "    }\n",
       "</style>\n",
       "<table border=\"1\" class=\"dataframe\">\n",
       "  <thead>\n",
       "    <tr style=\"text-align: right;\">\n",
       "      <th></th>\n",
       "      <th>eu_sales</th>\n",
       "      <th>jp_sales</th>\n",
       "      <th>na_sales</th>\n",
       "    </tr>\n",
       "    <tr>\n",
       "      <th>rating</th>\n",
       "      <th></th>\n",
       "      <th></th>\n",
       "      <th></th>\n",
       "    </tr>\n",
       "  </thead>\n",
       "  <tbody>\n",
       "    <tr>\n",
       "      <td>M</td>\n",
       "      <td>193.96</td>\n",
       "      <td>21.20</td>\n",
       "      <td>231.57</td>\n",
       "    </tr>\n",
       "    <tr>\n",
       "      <td>E</td>\n",
       "      <td>111.79</td>\n",
       "      <td>27.62</td>\n",
       "      <td>113.44</td>\n",
       "    </tr>\n",
       "    <tr>\n",
       "      <td>unknown</td>\n",
       "      <td>89.32</td>\n",
       "      <td>95.62</td>\n",
       "      <td>100.13</td>\n",
       "    </tr>\n",
       "    <tr>\n",
       "      <td>E10+</td>\n",
       "      <td>54.84</td>\n",
       "      <td>8.19</td>\n",
       "      <td>75.09</td>\n",
       "    </tr>\n",
       "    <tr>\n",
       "      <td>T</td>\n",
       "      <td>52.96</td>\n",
       "      <td>25.76</td>\n",
       "      <td>66.02</td>\n",
       "    </tr>\n",
       "  </tbody>\n",
       "</table>\n",
       "</div>"
      ],
      "text/plain": [
       "         eu_sales  jp_sales  na_sales\n",
       "rating                               \n",
       "M          193.96     21.20    231.57\n",
       "E          111.79     27.62    113.44\n",
       "unknown     89.32     95.62    100.13\n",
       "E10+        54.84      8.19     75.09\n",
       "T           52.96     25.76     66.02"
      ]
     },
     "metadata": {},
     "output_type": "display_data"
    },
    {
     "data": {
      "text/html": [
       "<div>\n",
       "<style scoped>\n",
       "    .dataframe tbody tr th:only-of-type {\n",
       "        vertical-align: middle;\n",
       "    }\n",
       "\n",
       "    .dataframe tbody tr th {\n",
       "        vertical-align: top;\n",
       "    }\n",
       "\n",
       "    .dataframe thead th {\n",
       "        text-align: right;\n",
       "    }\n",
       "</style>\n",
       "<table border=\"1\" class=\"dataframe\">\n",
       "  <thead>\n",
       "    <tr style=\"text-align: right;\">\n",
       "      <th></th>\n",
       "      <th>eu_sales</th>\n",
       "      <th>jp_sales</th>\n",
       "      <th>na_sales</th>\n",
       "    </tr>\n",
       "    <tr>\n",
       "      <th>rating</th>\n",
       "      <th></th>\n",
       "      <th></th>\n",
       "      <th></th>\n",
       "    </tr>\n",
       "  </thead>\n",
       "  <tbody>\n",
       "    <tr>\n",
       "      <td>unknown</td>\n",
       "      <td>89.32</td>\n",
       "      <td>95.62</td>\n",
       "      <td>100.13</td>\n",
       "    </tr>\n",
       "    <tr>\n",
       "      <td>E</td>\n",
       "      <td>111.79</td>\n",
       "      <td>27.62</td>\n",
       "      <td>113.44</td>\n",
       "    </tr>\n",
       "    <tr>\n",
       "      <td>T</td>\n",
       "      <td>52.96</td>\n",
       "      <td>25.76</td>\n",
       "      <td>66.02</td>\n",
       "    </tr>\n",
       "    <tr>\n",
       "      <td>M</td>\n",
       "      <td>193.96</td>\n",
       "      <td>21.20</td>\n",
       "      <td>231.57</td>\n",
       "    </tr>\n",
       "    <tr>\n",
       "      <td>E10+</td>\n",
       "      <td>54.84</td>\n",
       "      <td>8.19</td>\n",
       "      <td>75.09</td>\n",
       "    </tr>\n",
       "  </tbody>\n",
       "</table>\n",
       "</div>"
      ],
      "text/plain": [
       "         eu_sales  jp_sales  na_sales\n",
       "rating                               \n",
       "unknown     89.32     95.62    100.13\n",
       "E          111.79     27.62    113.44\n",
       "T           52.96     25.76     66.02\n",
       "M          193.96     21.20    231.57\n",
       "E10+        54.84      8.19     75.09"
      ]
     },
     "metadata": {},
     "output_type": "display_data"
    },
    {
     "data": {
      "text/html": [
       "<div>\n",
       "<style scoped>\n",
       "    .dataframe tbody tr th:only-of-type {\n",
       "        vertical-align: middle;\n",
       "    }\n",
       "\n",
       "    .dataframe tbody tr th {\n",
       "        vertical-align: top;\n",
       "    }\n",
       "\n",
       "    .dataframe thead th {\n",
       "        text-align: right;\n",
       "    }\n",
       "</style>\n",
       "<table border=\"1\" class=\"dataframe\">\n",
       "  <thead>\n",
       "    <tr style=\"text-align: right;\">\n",
       "      <th></th>\n",
       "      <th>eu_sales</th>\n",
       "      <th>jp_sales</th>\n",
       "      <th>na_sales</th>\n",
       "    </tr>\n",
       "    <tr>\n",
       "      <th>rating</th>\n",
       "      <th></th>\n",
       "      <th></th>\n",
       "      <th></th>\n",
       "    </tr>\n",
       "  </thead>\n",
       "  <tbody>\n",
       "    <tr>\n",
       "      <td>M</td>\n",
       "      <td>193.96</td>\n",
       "      <td>21.20</td>\n",
       "      <td>231.57</td>\n",
       "    </tr>\n",
       "    <tr>\n",
       "      <td>E</td>\n",
       "      <td>111.79</td>\n",
       "      <td>27.62</td>\n",
       "      <td>113.44</td>\n",
       "    </tr>\n",
       "    <tr>\n",
       "      <td>unknown</td>\n",
       "      <td>89.32</td>\n",
       "      <td>95.62</td>\n",
       "      <td>100.13</td>\n",
       "    </tr>\n",
       "    <tr>\n",
       "      <td>E10+</td>\n",
       "      <td>54.84</td>\n",
       "      <td>8.19</td>\n",
       "      <td>75.09</td>\n",
       "    </tr>\n",
       "    <tr>\n",
       "      <td>T</td>\n",
       "      <td>52.96</td>\n",
       "      <td>25.76</td>\n",
       "      <td>66.02</td>\n",
       "    </tr>\n",
       "  </tbody>\n",
       "</table>\n",
       "</div>"
      ],
      "text/plain": [
       "         eu_sales  jp_sales  na_sales\n",
       "rating                               \n",
       "M          193.96     21.20    231.57\n",
       "E          111.79     27.62    113.44\n",
       "unknown     89.32     95.62    100.13\n",
       "E10+        54.84      8.19     75.09\n",
       "T           52.96     25.76     66.02"
      ]
     },
     "execution_count": 51,
     "metadata": {},
     "output_type": "execute_result"
    }
   ],
   "source": [
    "#сгрупируем данные по рейтингу ESRB в разрезе изучаемых регионов (NA,EU,JP) за анализируммый актуальный период\n",
    "display(actual_data.pivot_table(index='rating', values =['na_sales','eu_sales','jp_sales'], aggfunc='sum').sort_values(by='eu_sales', ascending=False))\n",
    "display(actual_data.pivot_table(index='rating', values =['na_sales','eu_sales','jp_sales'], aggfunc='sum').sort_values(by='jp_sales', ascending=False))\n",
    "actual_data.pivot_table(index='rating', values =['na_sales','eu_sales','jp_sales'], aggfunc='sum').sort_values(by='na_sales', ascending=False)"
   ]
  },
  {
   "cell_type": "code",
   "execution_count": 52,
   "metadata": {},
   "outputs": [
    {
     "data": {
      "text/plain": [
       "<matplotlib.axes._subplots.AxesSubplot at 0x7f0981ad9450>"
      ]
     },
     "execution_count": 52,
     "metadata": {},
     "output_type": "execute_result"
    },
    {
     "data": {
      "image/png": "[encoded data removed]",
      "text/plain": [
       "<Figure size 720x360 with 1 Axes>"
      ]
     },
     "metadata": {
      "needs_background": "light"
     },
     "output_type": "display_data"
    }
   ],
   "source": [
    "actual_data.pivot_table(index='rating', values =['na_sales','eu_sales','jp_sales'], aggfunc='sum').sort_values(by='na_sales', ascending=False).plot(kind='bar', figsize=(10,5))"
   ]
  },
  {
   "cell_type": "markdown",
   "metadata": {},
   "source": [
    "Европа и северная Америка снова похожи наиболее популярны игры из со взрослым рейтингом, затем идут игры с категорией для всех, для всех старше 10 и подростков. Но стоит отметить, что половина продаж приходит на игры для взрослых и в том регионе и в том. \n",
    "\n",
    "В Японии же свои правила, лидером являются игры с рейтингом для всех, затем идут подростки и только потом уже взрослые. Хотя в целом разница между этими категориями не сильно велика. Все таки рейтинги в Японии оказывают меньшее влияние, чем в других регионах."
   ]
  },
  {
   "cell_type": "markdown",
   "metadata": {},
   "source": [
    "**Вывод:** рынки северной Америки и Европы в целом аналогичны друг другу, что в целом позволяет планировать продажи игр и в том и том регионе с небольшими отличаями. Рынок же Японии живет по своим правилам вкусы местных пользователей отличаются от других крупных рынков игровой индустрии."
   ]
  },
  {
   "cell_type": "markdown",
   "metadata": {},
   "source": [
    "## Проверка гипотез"
   ]
  },
  {
   "cell_type": "markdown",
   "metadata": {},
   "source": [
    "### Одинаковы ли средние пользовательские рейтинги платформ Xbox One и PC "
   ]
  },
  {
   "cell_type": "code",
   "execution_count": 53,
   "metadata": {},
   "outputs": [
    {
     "name": "stdout",
     "output_type": "stream",
     "text": [
      "H0 нельзя отвергнуть, оценки равны\n"
     ]
    }
   ],
   "source": [
    "# сформулируем гипотезы H0 - рейтинги одинаковые, H1 - рейтинги разные\n",
    "# найдем средние для Xbox One \n",
    "XOne_mean = (actual_data.query('platform==\"XOne\"')['user_score']).dropna()\n",
    "PC_mean = (actual_data.query('platform==\"PC\"')['user_score']).dropna()\n",
    "#задаем уровень критичности \n",
    "alpha =0.05\n",
    "\n",
    "# проверяем гипотезу\n",
    "\n",
    "test = st.ttest_ind(PC_mean, XOne_mean)\n",
    "if test.pvalue<alpha:\n",
    "    print('H0 можно отвергнуть, оценки не равны')\n",
    "else: \n",
    "    print('H0 нельзя отвергнуть, оценки равны')"
   ]
  },
  {
   "cell_type": "code",
   "execution_count": 54,
   "metadata": {},
   "outputs": [
    {
     "name": "stdout",
     "output_type": "stream",
     "text": [
      "0.5747220188229722\n"
     ]
    }
   ],
   "source": [
    "print(test.pvalue)"
   ]
  },
  {
   "cell_type": "markdown",
   "metadata": {},
   "source": [
    "Согласно полученным результатам оценки данных платформ не особо различаются. Гипотезу H0 нельзя отвергнуть."
   ]
  },
  {
   "cell_type": "markdown",
   "metadata": {},
   "source": [
    "### Различаются ли средние пользовательские рейтинги жанров Action и Sports"
   ]
  },
  {
   "cell_type": "code",
   "execution_count": 55,
   "metadata": {},
   "outputs": [
    {
     "name": "stdout",
     "output_type": "stream",
     "text": [
      "H0 можно отвергнуть, оценки не равны\n"
     ]
    }
   ],
   "source": [
    "# сформулируем гипотезы H0 - рейтинги одинаковые, H1 - рейтинги различаются\n",
    "# найдем средние для Sports\n",
    "Sports_mean = (actual_data.query('genre==\"Sports\"')['user_score']).dropna()\n",
    "Action_mean = (actual_data.query('genre==\"Action\"')['user_score']).dropna()\n",
    "\n",
    "# уровень критичности тотже проверяем гипотезу\n",
    "test2 = st.ttest_ind(PC_mean, Sports_mean)\n",
    "if test2.pvalue<alpha:\n",
    "    print('H0 можно отвергнуть, оценки не равны')\n",
    "else: \n",
    "    print('H0 нельзя отвергнуть, оценки равны')"
   ]
  },
  {
   "cell_type": "code",
   "execution_count": 56,
   "metadata": {},
   "outputs": [
    {
     "name": "stdout",
     "output_type": "stream",
     "text": [
      "5.5055555555555555\n"
     ]
    },
    {
     "data": {
      "text/plain": [
       "6.814285714285714"
      ]
     },
     "execution_count": 56,
     "metadata": {},
     "output_type": "execute_result"
    }
   ],
   "source": [
    "print(Sports_mean.mean())\n",
    "Action_mean.mean()"
   ]
  },
  {
   "cell_type": "markdown",
   "metadata": {},
   "source": [
    "Согласно полученным результатам оценки данных жанров не равны. Гипотезу H0 можно отвергнуть. В целом глядя на средние двух выборок видно, что у жанра Action оценка скорее всего больше."
   ]
  },
  {
   "cell_type": "code",
   "execution_count": 57,
   "metadata": {},
   "outputs": [
    {
     "name": "stdout",
     "output_type": "stream",
     "text": [
      "7.46744130543638e-08\n"
     ]
    }
   ],
   "source": [
    "print(test2.pvalue)"
   ]
  },
  {
   "cell_type": "markdown",
   "metadata": {},
   "source": [
    "## Общий вывод"
   ]
  },
  {
   "cell_type": "markdown",
   "metadata": {},
   "source": [
    "Учитывая полученные в ходе иследованния результаты, компании рекомендуется рассматривать для дальнейшего планирования следующие платформы PC, XOne, PS4 и 3DS. Стоит учесть, что у платформ есть цикличность и данные платформы (за исключением PC) скоро уйдут уже с рынка, так как в среднем платформы живут 6-7 лет, а указанные выше уже довольно давно на рынке, но на 2017 год в них еще будет интерес. \n",
    "\n",
    "Также стоит учитывать, что в плане продаж игры могут сильно отличаться. Оценки не дают точной информации о том какие игры обретут успех, если ориентироваться, то лучше смотреть на оценки критиков, а не пользователей (в полученных данных было много пропусков оценок, вывод сделан по полученным данным).\n",
    "\n",
    "Самые популярные жанры по миру Action, Shooter, Role-Playing и Sports. Также некоторые жанры (среди указанных) выпускаются в основном под опеределенные платформы,что не мало важно при учете планирования продаж.\n",
    "\n",
    "Если брать по географическому распределению, то рынки Америки и Европы имеют примерно схожие вкусы, если компания планирует работать на японском рынке, то следует учитывать местную специфику и вкусы покупателей."
   ]
  }
 ],
 "metadata": {
  "ExecuteTimeLog": [
   {
    "duration": 387,
    "start_time": "2022-01-10T07:00:54.771Z"
   },
   {
    "duration": 895,
    "start_time": "2022-01-10T07:01:00.171Z"
   },
   {
    "duration": 3,
    "start_time": "2022-01-10T07:01:16.411Z"
   },
   {
    "duration": 52,
    "start_time": "2022-01-10T07:05:03.098Z"
   },
   {
    "duration": 77,
    "start_time": "2022-01-10T07:05:17.114Z"
   },
   {
    "duration": 16,
    "start_time": "2022-01-10T07:29:54.247Z"
   },
   {
    "duration": 46,
    "start_time": "2022-01-10T07:32:35.254Z"
   },
   {
    "duration": 65,
    "start_time": "2022-01-10T07:34:11.365Z"
   },
   {
    "duration": 5,
    "start_time": "2022-01-10T07:41:56.082Z"
   },
   {
    "duration": 20,
    "start_time": "2022-01-10T07:42:12.061Z"
   },
   {
    "duration": 326,
    "start_time": "2022-01-10T07:50:22.069Z"
   },
   {
    "duration": 2113,
    "start_time": "2022-01-10T07:51:46.204Z"
   },
   {
    "duration": 8,
    "start_time": "2022-01-10T07:52:06.812Z"
   },
   {
    "duration": 14,
    "start_time": "2022-01-10T07:52:32.332Z"
   },
   {
    "duration": 300,
    "start_time": "2022-01-10T07:54:23.492Z"
   },
   {
    "duration": 2322,
    "start_time": "2022-01-10T07:54:29.371Z"
   },
   {
    "duration": 9,
    "start_time": "2022-01-10T07:55:06.341Z"
   },
   {
    "duration": 15,
    "start_time": "2022-01-10T07:55:12.291Z"
   },
   {
    "duration": 8,
    "start_time": "2022-01-10T07:55:27.979Z"
   },
   {
    "duration": 353,
    "start_time": "2022-01-10T08:03:49.986Z"
   },
   {
    "duration": 7,
    "start_time": "2022-01-10T08:03:58.938Z"
   },
   {
    "duration": 4,
    "start_time": "2022-01-10T08:04:02.347Z"
   },
   {
    "duration": 69,
    "start_time": "2022-01-10T08:04:02.353Z"
   },
   {
    "duration": 15,
    "start_time": "2022-01-10T08:04:02.425Z"
   },
   {
    "duration": 56,
    "start_time": "2022-01-10T08:04:02.444Z"
   },
   {
    "duration": 20,
    "start_time": "2022-01-10T08:04:02.502Z"
   },
   {
    "duration": 12,
    "start_time": "2022-01-10T08:04:02.525Z"
   },
   {
    "duration": 32,
    "start_time": "2022-01-10T08:04:02.539Z"
   },
   {
    "duration": 15,
    "start_time": "2022-01-10T08:08:56.657Z"
   },
   {
    "duration": 15,
    "start_time": "2022-01-10T08:08:59.449Z"
   },
   {
    "duration": 20,
    "start_time": "2022-01-10T08:09:10.562Z"
   },
   {
    "duration": 355,
    "start_time": "2022-01-10T08:16:59.960Z"
   },
   {
    "duration": 8,
    "start_time": "2022-01-10T08:19:30.617Z"
   },
   {
    "duration": 301,
    "start_time": "2022-01-10T08:19:42.672Z"
   },
   {
    "duration": 4278,
    "start_time": "2022-01-10T08:20:44.777Z"
   },
   {
    "duration": 3965,
    "start_time": "2022-01-10T08:20:54.617Z"
   },
   {
    "duration": -38,
    "start_time": "2022-01-10T08:20:58.623Z"
   },
   {
    "duration": 126,
    "start_time": "2022-01-10T08:21:26.794Z"
   },
   {
    "duration": 5105,
    "start_time": "2022-01-10T08:21:34.113Z"
   },
   {
    "duration": 4,
    "start_time": "2022-01-10T08:24:22.947Z"
   },
   {
    "duration": 69,
    "start_time": "2022-01-10T08:24:22.955Z"
   },
   {
    "duration": 14,
    "start_time": "2022-01-10T08:24:23.028Z"
   },
   {
    "duration": 51,
    "start_time": "2022-01-10T08:24:23.045Z"
   },
   {
    "duration": 19,
    "start_time": "2022-01-10T08:24:23.099Z"
   },
   {
    "duration": 41,
    "start_time": "2022-01-10T08:24:23.121Z"
   },
   {
    "duration": 20,
    "start_time": "2022-01-10T08:24:23.165Z"
   },
   {
    "duration": 16,
    "start_time": "2022-01-10T08:24:23.187Z"
   },
   {
    "duration": 14,
    "start_time": "2022-01-10T08:24:23.206Z"
   },
   {
    "duration": 20,
    "start_time": "2022-01-10T08:24:37.849Z"
   },
   {
    "duration": 14,
    "start_time": "2022-01-10T08:24:40.248Z"
   },
   {
    "duration": 7502,
    "start_time": "2022-01-10T08:26:20.424Z"
   },
   {
    "duration": -34,
    "start_time": "2022-01-10T08:26:56.389Z"
   },
   {
    "duration": 8497,
    "start_time": "2022-01-10T08:27:00.617Z"
   },
   {
    "duration": 6,
    "start_time": "2022-01-10T08:27:22.848Z"
   },
   {
    "duration": 12,
    "start_time": "2022-01-10T08:36:01.487Z"
   },
   {
    "duration": 20,
    "start_time": "2022-01-10T08:36:03.359Z"
   },
   {
    "duration": 20,
    "start_time": "2022-01-10T08:36:33.207Z"
   },
   {
    "duration": 15,
    "start_time": "2022-01-10T08:36:39.958Z"
   },
   {
    "duration": 30,
    "start_time": "2022-01-10T08:36:42.774Z"
   },
   {
    "duration": 4,
    "start_time": "2022-01-10T08:36:47.120Z"
   },
   {
    "duration": 68,
    "start_time": "2022-01-10T08:36:47.127Z"
   },
   {
    "duration": 15,
    "start_time": "2022-01-10T08:36:47.200Z"
   },
   {
    "duration": 76,
    "start_time": "2022-01-10T08:36:47.218Z"
   },
   {
    "duration": 21,
    "start_time": "2022-01-10T08:36:47.296Z"
   },
   {
    "duration": 44,
    "start_time": "2022-01-10T08:36:47.319Z"
   },
   {
    "duration": 24,
    "start_time": "2022-01-10T08:36:47.366Z"
   },
   {
    "duration": 20,
    "start_time": "2022-01-10T08:36:47.393Z"
   },
   {
    "duration": 6,
    "start_time": "2022-01-10T08:36:47.417Z"
   },
   {
    "duration": 41,
    "start_time": "2022-01-10T08:36:47.426Z"
   },
   {
    "duration": 324,
    "start_time": "2022-01-10T08:37:05.247Z"
   },
   {
    "duration": 13,
    "start_time": "2022-01-10T08:37:10.967Z"
   },
   {
    "duration": 22,
    "start_time": "2022-01-10T08:37:11.727Z"
   },
   {
    "duration": 726,
    "start_time": "2022-01-10T08:37:30.247Z"
   },
   {
    "duration": 763,
    "start_time": "2022-01-10T08:37:54.158Z"
   },
   {
    "duration": 381,
    "start_time": "2022-01-10T08:38:11.527Z"
   },
   {
    "duration": 13,
    "start_time": "2022-01-10T08:38:31.279Z"
   },
   {
    "duration": 9,
    "start_time": "2022-01-10T08:38:52.023Z"
   },
   {
    "duration": 19,
    "start_time": "2022-01-10T08:38:53.166Z"
   },
   {
    "duration": 20,
    "start_time": "2022-01-10T08:38:57.022Z"
   },
   {
    "duration": 6,
    "start_time": "2022-01-10T08:38:57.502Z"
   },
   {
    "duration": 15,
    "start_time": "2022-01-10T08:38:58.630Z"
   },
   {
    "duration": 3,
    "start_time": "2022-01-10T08:45:10.926Z"
   },
   {
    "duration": 102,
    "start_time": "2022-01-10T08:46:19.845Z"
   },
   {
    "duration": 6845,
    "start_time": "2022-01-10T08:46:26.070Z"
   },
   {
    "duration": 33,
    "start_time": "2022-01-10T08:46:39.198Z"
   },
   {
    "duration": 3,
    "start_time": "2022-01-10T08:50:11.133Z"
   },
   {
    "duration": 7,
    "start_time": "2022-01-10T08:51:27.993Z"
   },
   {
    "duration": 21,
    "start_time": "2022-01-10T08:51:40.204Z"
   },
   {
    "duration": 24,
    "start_time": "2022-01-10T08:52:23.084Z"
   },
   {
    "duration": 4,
    "start_time": "2022-01-10T08:58:15.437Z"
   },
   {
    "duration": 279,
    "start_time": "2022-01-11T06:38:07.572Z"
   },
   {
    "duration": 610,
    "start_time": "2022-01-11T06:38:18.145Z"
   },
   {
    "duration": 54,
    "start_time": "2022-01-11T06:38:18.757Z"
   },
   {
    "duration": 11,
    "start_time": "2022-01-11T06:38:18.813Z"
   },
   {
    "duration": 35,
    "start_time": "2022-01-11T06:38:18.826Z"
   },
   {
    "duration": 12,
    "start_time": "2022-01-11T06:38:18.863Z"
   },
   {
    "duration": 31,
    "start_time": "2022-01-11T06:38:18.877Z"
   },
   {
    "duration": 23,
    "start_time": "2022-01-11T06:38:18.910Z"
   },
   {
    "duration": 29,
    "start_time": "2022-01-11T06:38:18.935Z"
   },
   {
    "duration": 8,
    "start_time": "2022-01-11T06:38:18.967Z"
   },
   {
    "duration": 19,
    "start_time": "2022-01-11T06:38:18.977Z"
   },
   {
    "duration": 5,
    "start_time": "2022-01-11T06:38:18.998Z"
   },
   {
    "duration": 19,
    "start_time": "2022-01-11T06:38:19.004Z"
   },
   {
    "duration": 545,
    "start_time": "2022-01-11T06:38:19.025Z"
   },
   {
    "duration": 5,
    "start_time": "2022-01-11T06:41:24.734Z"
   },
   {
    "duration": 3,
    "start_time": "2022-01-11T06:41:26.528Z"
   },
   {
    "duration": 53,
    "start_time": "2022-01-11T06:41:26.533Z"
   },
   {
    "duration": 13,
    "start_time": "2022-01-11T06:41:26.589Z"
   },
   {
    "duration": 28,
    "start_time": "2022-01-11T06:41:26.605Z"
   },
   {
    "duration": 27,
    "start_time": "2022-01-11T06:41:26.635Z"
   },
   {
    "duration": 8,
    "start_time": "2022-01-11T06:41:26.663Z"
   },
   {
    "duration": 18,
    "start_time": "2022-01-11T06:41:26.673Z"
   },
   {
    "duration": 19,
    "start_time": "2022-01-11T06:41:26.693Z"
   },
   {
    "duration": 5,
    "start_time": "2022-01-11T06:41:26.714Z"
   },
   {
    "duration": 44,
    "start_time": "2022-01-11T06:41:26.720Z"
   },
   {
    "duration": 4,
    "start_time": "2022-01-11T06:41:26.766Z"
   },
   {
    "duration": 17,
    "start_time": "2022-01-11T06:41:26.772Z"
   },
   {
    "duration": 370,
    "start_time": "2022-01-11T06:41:26.791Z"
   },
   {
    "duration": 16,
    "start_time": "2022-01-11T06:42:47.790Z"
   },
   {
    "duration": 372,
    "start_time": "2022-01-11T06:53:43.204Z"
   },
   {
    "duration": 580,
    "start_time": "2022-01-11T06:55:28.018Z"
   },
   {
    "duration": 53,
    "start_time": "2022-01-11T06:55:28.600Z"
   },
   {
    "duration": 10,
    "start_time": "2022-01-11T06:55:28.655Z"
   },
   {
    "duration": 30,
    "start_time": "2022-01-11T06:55:28.667Z"
   },
   {
    "duration": 12,
    "start_time": "2022-01-11T06:55:28.698Z"
   },
   {
    "duration": 11,
    "start_time": "2022-01-11T06:55:28.711Z"
   },
   {
    "duration": 11,
    "start_time": "2022-01-11T06:55:28.724Z"
   },
   {
    "duration": 14,
    "start_time": "2022-01-11T06:55:28.761Z"
   },
   {
    "duration": 4,
    "start_time": "2022-01-11T06:55:28.778Z"
   },
   {
    "duration": 23,
    "start_time": "2022-01-11T06:55:28.783Z"
   },
   {
    "duration": 4,
    "start_time": "2022-01-11T06:55:28.808Z"
   },
   {
    "duration": 17,
    "start_time": "2022-01-11T06:55:28.813Z"
   },
   {
    "duration": 42,
    "start_time": "2022-01-11T06:55:28.831Z"
   },
   {
    "duration": 411,
    "start_time": "2022-01-11T06:55:28.874Z"
   },
   {
    "duration": 459,
    "start_time": "2022-01-11T06:56:35.793Z"
   },
   {
    "duration": 371,
    "start_time": "2022-01-11T06:56:46.457Z"
   },
   {
    "duration": 330,
    "start_time": "2022-01-11T06:56:56.536Z"
   },
   {
    "duration": 345,
    "start_time": "2022-01-11T06:57:15.729Z"
   },
   {
    "duration": 434,
    "start_time": "2022-01-11T06:57:52.928Z"
   },
   {
    "duration": 16,
    "start_time": "2022-01-11T07:16:30.574Z"
   },
   {
    "duration": 16,
    "start_time": "2022-01-11T07:16:55.223Z"
   },
   {
    "duration": 15,
    "start_time": "2022-01-11T07:17:09.670Z"
   },
   {
    "duration": 292,
    "start_time": "2022-01-11T07:17:45.286Z"
   },
   {
    "duration": 15,
    "start_time": "2022-01-11T07:18:07.302Z"
   },
   {
    "duration": 16,
    "start_time": "2022-01-11T07:20:58.029Z"
   },
   {
    "duration": 6,
    "start_time": "2022-01-11T07:31:00.266Z"
   },
   {
    "duration": 272,
    "start_time": "2022-01-11T07:32:49.940Z"
   },
   {
    "duration": 1108,
    "start_time": "2022-01-11T07:33:03.413Z"
   },
   {
    "duration": 4,
    "start_time": "2022-01-11T07:33:45.892Z"
   },
   {
    "duration": 6,
    "start_time": "2022-01-11T07:33:52.979Z"
   },
   {
    "duration": 272,
    "start_time": "2022-01-11T07:34:14.556Z"
   },
   {
    "duration": 7,
    "start_time": "2022-01-11T07:35:42.461Z"
   },
   {
    "duration": 12,
    "start_time": "2022-01-11T07:35:49.004Z"
   },
   {
    "duration": 215,
    "start_time": "2022-01-11T07:40:03.459Z"
   },
   {
    "duration": 300,
    "start_time": "2022-01-11T07:40:09.403Z"
   },
   {
    "duration": 2,
    "start_time": "2022-01-11T07:41:12.605Z"
   },
   {
    "duration": 80,
    "start_time": "2022-01-11T07:41:12.609Z"
   },
   {
    "duration": 16,
    "start_time": "2022-01-11T07:41:12.691Z"
   },
   {
    "duration": 64,
    "start_time": "2022-01-11T07:41:12.710Z"
   },
   {
    "duration": 13,
    "start_time": "2022-01-11T07:41:12.776Z"
   },
   {
    "duration": 35,
    "start_time": "2022-01-11T07:41:12.791Z"
   },
   {
    "duration": 32,
    "start_time": "2022-01-11T07:41:12.828Z"
   },
   {
    "duration": 29,
    "start_time": "2022-01-11T07:41:12.862Z"
   },
   {
    "duration": 21,
    "start_time": "2022-01-11T07:41:12.893Z"
   },
   {
    "duration": 39,
    "start_time": "2022-01-11T07:41:12.916Z"
   },
   {
    "duration": 5,
    "start_time": "2022-01-11T07:41:12.957Z"
   },
   {
    "duration": 46,
    "start_time": "2022-01-11T07:41:12.964Z"
   },
   {
    "duration": 26,
    "start_time": "2022-01-11T07:41:13.012Z"
   },
   {
    "duration": 38,
    "start_time": "2022-01-11T07:41:13.040Z"
   },
   {
    "duration": 367,
    "start_time": "2022-01-11T07:41:13.080Z"
   },
   {
    "duration": 21,
    "start_time": "2022-01-11T07:41:13.449Z"
   },
   {
    "duration": 245,
    "start_time": "2022-01-11T07:41:13.471Z"
   },
   {
    "duration": 198,
    "start_time": "2022-01-11T07:41:54.010Z"
   },
   {
    "duration": 190,
    "start_time": "2022-01-11T07:42:04.291Z"
   },
   {
    "duration": 190,
    "start_time": "2022-01-11T07:43:33.939Z"
   },
   {
    "duration": 2009,
    "start_time": "2022-01-11T07:43:40.946Z"
   },
   {
    "duration": 2063,
    "start_time": "2022-01-11T07:43:54.362Z"
   },
   {
    "duration": 1951,
    "start_time": "2022-01-11T07:44:37.418Z"
   },
   {
    "duration": 1249,
    "start_time": "2022-01-11T07:46:08.515Z"
   },
   {
    "duration": 209,
    "start_time": "2022-01-11T07:46:20.803Z"
   },
   {
    "duration": 199,
    "start_time": "2022-01-11T07:46:39.035Z"
   },
   {
    "duration": 1798,
    "start_time": "2022-01-11T07:49:02.332Z"
   },
   {
    "duration": 1884,
    "start_time": "2022-01-11T07:50:34.322Z"
   },
   {
    "duration": 430,
    "start_time": "2022-01-11T07:51:34.426Z"
   },
   {
    "duration": 1732,
    "start_time": "2022-01-11T07:53:51.930Z"
   },
   {
    "duration": 426,
    "start_time": "2022-01-11T07:54:53.738Z"
   },
   {
    "duration": 202,
    "start_time": "2022-01-11T07:55:06.618Z"
   },
   {
    "duration": 203,
    "start_time": "2022-01-11T07:55:29.622Z"
   },
   {
    "duration": 217,
    "start_time": "2022-01-11T07:56:49.668Z"
   },
   {
    "duration": 35,
    "start_time": "2022-01-11T07:57:56.593Z"
   },
   {
    "duration": 36,
    "start_time": "2022-01-11T08:06:19.649Z"
   },
   {
    "duration": 19,
    "start_time": "2022-01-11T08:18:08.335Z"
   },
   {
    "duration": 209,
    "start_time": "2022-01-11T08:18:24.551Z"
   },
   {
    "duration": 33,
    "start_time": "2022-01-11T08:18:27.472Z"
   },
   {
    "duration": 207,
    "start_time": "2022-01-11T08:19:22.015Z"
   },
   {
    "duration": 32,
    "start_time": "2022-01-11T08:19:24.664Z"
   },
   {
    "duration": 3,
    "start_time": "2022-01-11T08:20:39.025Z"
   },
   {
    "duration": 69,
    "start_time": "2022-01-11T08:20:39.029Z"
   },
   {
    "duration": 9,
    "start_time": "2022-01-11T08:20:39.101Z"
   },
   {
    "duration": 41,
    "start_time": "2022-01-11T08:20:39.112Z"
   },
   {
    "duration": 14,
    "start_time": "2022-01-11T08:20:39.155Z"
   },
   {
    "duration": 22,
    "start_time": "2022-01-11T08:20:39.171Z"
   },
   {
    "duration": 35,
    "start_time": "2022-01-11T08:20:39.195Z"
   },
   {
    "duration": 51,
    "start_time": "2022-01-11T08:20:39.232Z"
   },
   {
    "duration": 22,
    "start_time": "2022-01-11T08:20:39.286Z"
   },
   {
    "duration": 40,
    "start_time": "2022-01-11T08:20:39.310Z"
   },
   {
    "duration": 23,
    "start_time": "2022-01-11T08:20:39.352Z"
   },
   {
    "duration": 49,
    "start_time": "2022-01-11T08:20:39.377Z"
   },
   {
    "duration": 36,
    "start_time": "2022-01-11T08:20:39.428Z"
   },
   {
    "duration": 36,
    "start_time": "2022-01-11T08:20:39.466Z"
   },
   {
    "duration": 352,
    "start_time": "2022-01-11T08:20:39.504Z"
   },
   {
    "duration": 20,
    "start_time": "2022-01-11T08:20:39.858Z"
   },
   {
    "duration": 467,
    "start_time": "2022-01-11T08:20:39.880Z"
   },
   {
    "duration": -34,
    "start_time": "2022-01-11T08:20:40.383Z"
   },
   {
    "duration": 195,
    "start_time": "2022-01-11T08:21:11.368Z"
   },
   {
    "duration": 3,
    "start_time": "2022-01-11T08:21:44.039Z"
   },
   {
    "duration": 50,
    "start_time": "2022-01-11T08:21:44.044Z"
   },
   {
    "duration": 8,
    "start_time": "2022-01-11T08:21:44.096Z"
   },
   {
    "duration": 121,
    "start_time": "2022-01-11T08:21:44.106Z"
   },
   {
    "duration": 12,
    "start_time": "2022-01-11T08:21:44.229Z"
   },
   {
    "duration": 21,
    "start_time": "2022-01-11T08:21:44.242Z"
   },
   {
    "duration": 15,
    "start_time": "2022-01-11T08:21:44.265Z"
   },
   {
    "duration": 15,
    "start_time": "2022-01-11T08:21:44.282Z"
   },
   {
    "duration": 5,
    "start_time": "2022-01-11T08:21:44.299Z"
   },
   {
    "duration": 22,
    "start_time": "2022-01-11T08:21:44.305Z"
   },
   {
    "duration": 4,
    "start_time": "2022-01-11T08:21:44.329Z"
   },
   {
    "duration": 37,
    "start_time": "2022-01-11T08:21:44.335Z"
   },
   {
    "duration": 15,
    "start_time": "2022-01-11T08:21:44.373Z"
   },
   {
    "duration": 14,
    "start_time": "2022-01-11T08:21:44.390Z"
   },
   {
    "duration": 345,
    "start_time": "2022-01-11T08:21:44.405Z"
   },
   {
    "duration": 21,
    "start_time": "2022-01-11T08:21:44.752Z"
   },
   {
    "duration": 198,
    "start_time": "2022-01-11T08:21:44.775Z"
   },
   {
    "duration": 31,
    "start_time": "2022-01-11T08:21:44.975Z"
   },
   {
    "duration": 193,
    "start_time": "2022-01-11T08:23:22.887Z"
   },
   {
    "duration": 173,
    "start_time": "2022-01-11T08:24:10.638Z"
   },
   {
    "duration": 299,
    "start_time": "2022-01-11T08:25:23.135Z"
   },
   {
    "duration": 254,
    "start_time": "2022-01-11T08:25:50.454Z"
   },
   {
    "duration": 18,
    "start_time": "2022-01-11T08:25:59.390Z"
   },
   {
    "duration": 178,
    "start_time": "2022-01-11T08:26:01.933Z"
   },
   {
    "duration": 1296,
    "start_time": "2022-01-11T08:27:10.118Z"
   },
   {
    "duration": 29,
    "start_time": "2022-01-11T08:27:48.582Z"
   },
   {
    "duration": 18,
    "start_time": "2022-01-11T08:27:54.942Z"
   },
   {
    "duration": 1196,
    "start_time": "2022-01-11T08:29:20.870Z"
   },
   {
    "duration": 14,
    "start_time": "2022-01-11T08:29:37.474Z"
   },
   {
    "duration": 14,
    "start_time": "2022-01-11T08:30:32.253Z"
   },
   {
    "duration": 13,
    "start_time": "2022-01-11T08:31:39.566Z"
   },
   {
    "duration": 35,
    "start_time": "2022-01-11T08:32:30.958Z"
   },
   {
    "duration": 33,
    "start_time": "2022-01-11T08:32:35.014Z"
   },
   {
    "duration": 32,
    "start_time": "2022-01-11T08:33:37.774Z"
   },
   {
    "duration": 293,
    "start_time": "2022-01-11T08:33:50.813Z"
   },
   {
    "duration": 355,
    "start_time": "2022-01-11T08:34:20.278Z"
   },
   {
    "duration": 419,
    "start_time": "2022-01-11T08:34:28.428Z"
   },
   {
    "duration": 434,
    "start_time": "2022-01-11T08:34:33.421Z"
   },
   {
    "duration": 492,
    "start_time": "2022-01-11T08:34:41.613Z"
   },
   {
    "duration": 413,
    "start_time": "2022-01-11T08:36:12.324Z"
   },
   {
    "duration": 16,
    "start_time": "2022-01-11T08:52:48.395Z"
   },
   {
    "duration": 198,
    "start_time": "2022-01-11T08:54:13.419Z"
   },
   {
    "duration": 7,
    "start_time": "2022-01-11T08:58:32.371Z"
   },
   {
    "duration": 3,
    "start_time": "2022-01-11T08:58:59.874Z"
   },
   {
    "duration": 53,
    "start_time": "2022-01-11T08:58:59.879Z"
   },
   {
    "duration": 9,
    "start_time": "2022-01-11T08:58:59.935Z"
   },
   {
    "duration": 48,
    "start_time": "2022-01-11T08:58:59.946Z"
   },
   {
    "duration": 14,
    "start_time": "2022-01-11T08:58:59.996Z"
   },
   {
    "duration": 23,
    "start_time": "2022-01-11T08:59:00.012Z"
   },
   {
    "duration": 16,
    "start_time": "2022-01-11T08:59:00.037Z"
   },
   {
    "duration": 20,
    "start_time": "2022-01-11T08:59:00.055Z"
   },
   {
    "duration": 15,
    "start_time": "2022-01-11T08:59:00.078Z"
   },
   {
    "duration": 25,
    "start_time": "2022-01-11T08:59:00.095Z"
   },
   {
    "duration": 5,
    "start_time": "2022-01-11T08:59:00.122Z"
   },
   {
    "duration": 33,
    "start_time": "2022-01-11T08:59:00.129Z"
   },
   {
    "duration": 17,
    "start_time": "2022-01-11T08:59:00.164Z"
   },
   {
    "duration": 17,
    "start_time": "2022-01-11T08:59:00.183Z"
   },
   {
    "duration": 367,
    "start_time": "2022-01-11T08:59:00.202Z"
   },
   {
    "duration": 18,
    "start_time": "2022-01-11T08:59:00.571Z"
   },
   {
    "duration": 37,
    "start_time": "2022-01-11T08:59:00.591Z"
   },
   {
    "duration": 61,
    "start_time": "2022-01-11T08:59:00.630Z"
   },
   {
    "duration": 450,
    "start_time": "2022-01-11T08:59:00.693Z"
   },
   {
    "duration": 233,
    "start_time": "2022-01-11T08:59:01.145Z"
   },
   {
    "duration": 9,
    "start_time": "2022-01-11T08:59:01.380Z"
   },
   {
    "duration": 7,
    "start_time": "2022-01-11T08:59:41.450Z"
   },
   {
    "duration": 6,
    "start_time": "2022-01-11T09:00:31.243Z"
   },
   {
    "duration": 37,
    "start_time": "2022-01-11T09:00:38.994Z"
   },
   {
    "duration": 11,
    "start_time": "2022-01-11T09:01:22.226Z"
   },
   {
    "duration": 8,
    "start_time": "2022-01-11T09:10:16.385Z"
   },
   {
    "duration": 17,
    "start_time": "2022-01-11T09:10:18.042Z"
   },
   {
    "duration": 38,
    "start_time": "2022-01-11T09:10:19.642Z"
   },
   {
    "duration": 35,
    "start_time": "2022-01-11T09:10:22.186Z"
   },
   {
    "duration": 663,
    "start_time": "2022-01-11T09:10:31.657Z"
   },
   {
    "duration": 196,
    "start_time": "2022-01-11T09:10:38.601Z"
   },
   {
    "duration": 26,
    "start_time": "2022-01-11T09:11:12.154Z"
   },
   {
    "duration": 28,
    "start_time": "2022-01-11T09:11:39.962Z"
   },
   {
    "duration": 27,
    "start_time": "2022-01-11T09:12:39.786Z"
   },
   {
    "duration": 283,
    "start_time": "2022-01-11T09:13:00.465Z"
   },
   {
    "duration": 26,
    "start_time": "2022-01-11T09:13:06.393Z"
   },
   {
    "duration": 285,
    "start_time": "2022-01-11T09:13:08.025Z"
   },
   {
    "duration": 276,
    "start_time": "2022-01-11T09:13:28.913Z"
   },
   {
    "duration": 36,
    "start_time": "2022-01-11T09:15:32.178Z"
   },
   {
    "duration": 310,
    "start_time": "2022-01-11T09:15:32.792Z"
   },
   {
    "duration": 28,
    "start_time": "2022-01-11T09:16:06.584Z"
   },
   {
    "duration": 318,
    "start_time": "2022-01-11T09:16:07.129Z"
   },
   {
    "duration": 27,
    "start_time": "2022-01-11T09:16:21.545Z"
   },
   {
    "duration": 271,
    "start_time": "2022-01-11T09:16:22.160Z"
   },
   {
    "duration": 278,
    "start_time": "2022-01-11T09:16:27.552Z"
   },
   {
    "duration": 7,
    "start_time": "2022-01-11T09:30:57.223Z"
   },
   {
    "duration": 22,
    "start_time": "2022-01-11T09:31:04.288Z"
   },
   {
    "duration": 259,
    "start_time": "2022-01-11T09:31:23.256Z"
   },
   {
    "duration": 345,
    "start_time": "2022-01-11T09:32:30.007Z"
   },
   {
    "duration": 30,
    "start_time": "2022-01-11T09:35:37.454Z"
   },
   {
    "duration": 6,
    "start_time": "2022-01-11T09:35:38.326Z"
   },
   {
    "duration": 329,
    "start_time": "2022-01-11T09:35:39.598Z"
   },
   {
    "duration": 7,
    "start_time": "2022-01-11T09:35:55.238Z"
   },
   {
    "duration": 418,
    "start_time": "2022-01-11T09:35:55.942Z"
   },
   {
    "duration": 27,
    "start_time": "2022-01-11T09:51:02.668Z"
   },
   {
    "duration": 6,
    "start_time": "2022-01-11T09:51:18.165Z"
   },
   {
    "duration": 408,
    "start_time": "2022-01-11T09:51:33.581Z"
   },
   {
    "duration": 8,
    "start_time": "2022-01-11T10:02:55.187Z"
   },
   {
    "duration": 10,
    "start_time": "2022-01-11T10:03:21.619Z"
   },
   {
    "duration": 27,
    "start_time": "2022-01-11T10:06:06.275Z"
   },
   {
    "duration": 9,
    "start_time": "2022-01-11T10:06:07.971Z"
   },
   {
    "duration": 8,
    "start_time": "2022-01-11T10:06:09.210Z"
   },
   {
    "duration": 399,
    "start_time": "2022-01-11T10:06:11.074Z"
   },
   {
    "duration": 15,
    "start_time": "2022-01-11T10:20:13.304Z"
   },
   {
    "duration": 291,
    "start_time": "2022-01-11T10:20:21.841Z"
   },
   {
    "duration": 428,
    "start_time": "2022-01-11T10:23:44.962Z"
   },
   {
    "duration": 503,
    "start_time": "2022-01-11T10:24:16.676Z"
   },
   {
    "duration": 530,
    "start_time": "2022-01-11T10:24:23.269Z"
   },
   {
    "duration": 733,
    "start_time": "2022-01-11T10:24:32.233Z"
   },
   {
    "duration": 7,
    "start_time": "2022-01-11T10:30:54.392Z"
   },
   {
    "duration": 2387,
    "start_time": "2022-01-11T10:31:05.224Z"
   },
   {
    "duration": 351,
    "start_time": "2022-01-11T10:32:52.088Z"
   },
   {
    "duration": 155,
    "start_time": "2022-01-11T10:34:29.032Z"
   },
   {
    "duration": 157,
    "start_time": "2022-01-11T10:34:48.713Z"
   },
   {
    "duration": 206,
    "start_time": "2022-01-11T10:36:30.375Z"
   },
   {
    "duration": 193,
    "start_time": "2022-01-11T10:44:04.664Z"
   },
   {
    "duration": 189,
    "start_time": "2022-01-11T10:48:23.871Z"
   },
   {
    "duration": 198,
    "start_time": "2022-01-11T10:49:07.711Z"
   },
   {
    "duration": 163,
    "start_time": "2022-01-11T10:51:01.078Z"
   },
   {
    "duration": 194,
    "start_time": "2022-01-11T10:51:59.718Z"
   },
   {
    "duration": 273,
    "start_time": "2022-01-11T10:55:33.917Z"
   },
   {
    "duration": 217,
    "start_time": "2022-01-11T10:55:40.421Z"
   },
   {
    "duration": 7,
    "start_time": "2022-01-11T10:55:43.687Z"
   },
   {
    "duration": 493,
    "start_time": "2022-01-11T10:55:54.493Z"
   },
   {
    "duration": 16,
    "start_time": "2022-01-11T10:56:10.997Z"
   },
   {
    "duration": 16,
    "start_time": "2022-01-11T10:57:15.477Z"
   },
   {
    "duration": 16,
    "start_time": "2022-01-11T10:57:24.148Z"
   },
   {
    "duration": 16,
    "start_time": "2022-01-11T10:57:50.732Z"
   },
   {
    "duration": 9,
    "start_time": "2022-01-11T10:58:45.646Z"
   },
   {
    "duration": 2265,
    "start_time": "2022-01-11T10:59:15.924Z"
   },
   {
    "duration": 3,
    "start_time": "2022-01-11T10:59:24.599Z"
   },
   {
    "duration": 57,
    "start_time": "2022-01-11T10:59:24.604Z"
   },
   {
    "duration": 14,
    "start_time": "2022-01-11T10:59:24.664Z"
   },
   {
    "duration": 29,
    "start_time": "2022-01-11T10:59:24.679Z"
   },
   {
    "duration": 12,
    "start_time": "2022-01-11T10:59:24.710Z"
   },
   {
    "duration": 16,
    "start_time": "2022-01-11T10:59:24.724Z"
   },
   {
    "duration": 31,
    "start_time": "2022-01-11T10:59:24.741Z"
   },
   {
    "duration": 18,
    "start_time": "2022-01-11T10:59:24.773Z"
   },
   {
    "duration": 5,
    "start_time": "2022-01-11T10:59:24.794Z"
   },
   {
    "duration": 25,
    "start_time": "2022-01-11T10:59:24.801Z"
   },
   {
    "duration": 4,
    "start_time": "2022-01-11T10:59:24.828Z"
   },
   {
    "duration": 41,
    "start_time": "2022-01-11T10:59:24.834Z"
   },
   {
    "duration": 16,
    "start_time": "2022-01-11T10:59:24.877Z"
   },
   {
    "duration": 15,
    "start_time": "2022-01-11T10:59:24.894Z"
   },
   {
    "duration": 368,
    "start_time": "2022-01-11T10:59:24.911Z"
   },
   {
    "duration": 6,
    "start_time": "2022-01-11T10:59:25.281Z"
   },
   {
    "duration": 20,
    "start_time": "2022-01-11T10:59:25.289Z"
   },
   {
    "duration": 284,
    "start_time": "2022-01-11T10:59:25.310Z"
   },
   {
    "duration": -46,
    "start_time": "2022-01-11T10:59:25.642Z"
   },
   {
    "duration": -45,
    "start_time": "2022-01-11T10:59:25.643Z"
   },
   {
    "duration": -46,
    "start_time": "2022-01-11T10:59:25.645Z"
   },
   {
    "duration": -46,
    "start_time": "2022-01-11T10:59:25.646Z"
   },
   {
    "duration": -46,
    "start_time": "2022-01-11T10:59:25.647Z"
   },
   {
    "duration": -46,
    "start_time": "2022-01-11T10:59:25.648Z"
   },
   {
    "duration": -46,
    "start_time": "2022-01-11T10:59:25.649Z"
   },
   {
    "duration": -46,
    "start_time": "2022-01-11T10:59:25.650Z"
   },
   {
    "duration": -46,
    "start_time": "2022-01-11T10:59:25.651Z"
   },
   {
    "duration": 279,
    "start_time": "2022-01-11T10:59:51.109Z"
   },
   {
    "duration": 3,
    "start_time": "2022-01-11T10:59:58.303Z"
   },
   {
    "duration": 55,
    "start_time": "2022-01-11T10:59:58.308Z"
   },
   {
    "duration": 10,
    "start_time": "2022-01-11T10:59:58.365Z"
   },
   {
    "duration": 31,
    "start_time": "2022-01-11T10:59:58.377Z"
   },
   {
    "duration": 13,
    "start_time": "2022-01-11T10:59:58.410Z"
   },
   {
    "duration": 13,
    "start_time": "2022-01-11T10:59:58.424Z"
   },
   {
    "duration": 30,
    "start_time": "2022-01-11T10:59:58.439Z"
   },
   {
    "duration": 19,
    "start_time": "2022-01-11T10:59:58.471Z"
   },
   {
    "duration": 5,
    "start_time": "2022-01-11T10:59:58.493Z"
   },
   {
    "duration": 20,
    "start_time": "2022-01-11T10:59:58.500Z"
   },
   {
    "duration": 4,
    "start_time": "2022-01-11T10:59:58.522Z"
   },
   {
    "duration": 41,
    "start_time": "2022-01-11T10:59:58.528Z"
   },
   {
    "duration": 16,
    "start_time": "2022-01-11T10:59:58.571Z"
   },
   {
    "duration": 15,
    "start_time": "2022-01-11T10:59:58.589Z"
   },
   {
    "duration": 381,
    "start_time": "2022-01-11T10:59:58.606Z"
   },
   {
    "duration": 6,
    "start_time": "2022-01-11T10:59:58.989Z"
   },
   {
    "duration": 17,
    "start_time": "2022-01-11T10:59:58.997Z"
   },
   {
    "duration": 280,
    "start_time": "2022-01-11T10:59:59.016Z"
   },
   {
    "duration": -62,
    "start_time": "2022-01-11T10:59:59.360Z"
   },
   {
    "duration": -63,
    "start_time": "2022-01-11T10:59:59.362Z"
   },
   {
    "duration": -63,
    "start_time": "2022-01-11T10:59:59.363Z"
   },
   {
    "duration": -63,
    "start_time": "2022-01-11T10:59:59.364Z"
   },
   {
    "duration": -63,
    "start_time": "2022-01-11T10:59:59.365Z"
   },
   {
    "duration": -64,
    "start_time": "2022-01-11T10:59:59.367Z"
   },
   {
    "duration": -64,
    "start_time": "2022-01-11T10:59:59.368Z"
   },
   {
    "duration": -64,
    "start_time": "2022-01-11T10:59:59.369Z"
   },
   {
    "duration": -64,
    "start_time": "2022-01-11T10:59:59.370Z"
   },
   {
    "duration": 43,
    "start_time": "2022-01-11T11:00:35.101Z"
   },
   {
    "duration": 4,
    "start_time": "2022-01-11T11:00:38.982Z"
   },
   {
    "duration": 55,
    "start_time": "2022-01-11T11:00:38.988Z"
   },
   {
    "duration": 11,
    "start_time": "2022-01-11T11:00:39.045Z"
   },
   {
    "duration": 35,
    "start_time": "2022-01-11T11:00:39.059Z"
   },
   {
    "duration": 15,
    "start_time": "2022-01-11T11:00:39.097Z"
   },
   {
    "duration": 11,
    "start_time": "2022-01-11T11:00:39.114Z"
   },
   {
    "duration": 36,
    "start_time": "2022-01-11T11:00:39.126Z"
   },
   {
    "duration": 22,
    "start_time": "2022-01-11T11:00:39.166Z"
   },
   {
    "duration": 7,
    "start_time": "2022-01-11T11:00:39.191Z"
   },
   {
    "duration": 36,
    "start_time": "2022-01-11T11:00:39.200Z"
   },
   {
    "duration": 23,
    "start_time": "2022-01-11T11:00:39.239Z"
   },
   {
    "duration": 27,
    "start_time": "2022-01-11T11:00:39.264Z"
   },
   {
    "duration": 23,
    "start_time": "2022-01-11T11:00:39.293Z"
   },
   {
    "duration": 15,
    "start_time": "2022-01-11T11:00:39.318Z"
   },
   {
    "duration": 390,
    "start_time": "2022-01-11T11:00:39.335Z"
   },
   {
    "duration": 7,
    "start_time": "2022-01-11T11:00:39.727Z"
   },
   {
    "duration": 31,
    "start_time": "2022-01-11T11:00:39.736Z"
   },
   {
    "duration": 48,
    "start_time": "2022-01-11T11:00:39.769Z"
   },
   {
    "duration": 54,
    "start_time": "2022-01-11T11:00:39.819Z"
   },
   {
    "duration": 453,
    "start_time": "2022-01-11T11:00:39.875Z"
   },
   {
    "duration": 232,
    "start_time": "2022-01-11T11:00:40.331Z"
   },
   {
    "duration": 30,
    "start_time": "2022-01-11T11:00:40.565Z"
   },
   {
    "duration": 7,
    "start_time": "2022-01-11T11:00:40.598Z"
   },
   {
    "duration": 11,
    "start_time": "2022-01-11T11:00:40.607Z"
   },
   {
    "duration": 423,
    "start_time": "2022-01-11T11:00:40.620Z"
   },
   {
    "duration": 229,
    "start_time": "2022-01-11T11:00:41.045Z"
   },
   {
    "duration": 2055,
    "start_time": "2022-01-11T11:00:41.275Z"
   },
   {
    "duration": 1826,
    "start_time": "2022-01-11T11:00:53.044Z"
   },
   {
    "duration": 2105,
    "start_time": "2022-01-11T11:01:00.068Z"
   },
   {
    "duration": 529,
    "start_time": "2022-01-11T11:01:11.516Z"
   },
   {
    "duration": 9,
    "start_time": "2022-01-11T11:01:24.196Z"
   },
   {
    "duration": 103,
    "start_time": "2022-01-11T11:01:50.972Z"
   },
   {
    "duration": 6,
    "start_time": "2022-01-11T11:01:54.700Z"
   },
   {
    "duration": 205,
    "start_time": "2022-01-11T11:02:04.332Z"
   },
   {
    "duration": 186,
    "start_time": "2022-01-11T11:04:24.628Z"
   },
   {
    "duration": 186,
    "start_time": "2022-01-11T11:06:02.843Z"
   },
   {
    "duration": 193,
    "start_time": "2022-01-11T11:07:58.179Z"
   },
   {
    "duration": 1060,
    "start_time": "2022-01-11T11:09:11.043Z"
   },
   {
    "duration": 1200,
    "start_time": "2022-01-11T11:09:19.116Z"
   },
   {
    "duration": 5,
    "start_time": "2022-01-11T11:09:39.492Z"
   },
   {
    "duration": 208,
    "start_time": "2022-01-11T11:09:52.227Z"
   },
   {
    "duration": 217,
    "start_time": "2022-01-11T11:10:14.386Z"
   },
   {
    "duration": 200,
    "start_time": "2022-01-11T11:12:25.875Z"
   },
   {
    "duration": 214,
    "start_time": "2022-01-11T11:14:48.649Z"
   },
   {
    "duration": 3,
    "start_time": "2022-01-11T11:16:14.942Z"
   },
   {
    "duration": 67,
    "start_time": "2022-01-11T11:16:14.947Z"
   },
   {
    "duration": 12,
    "start_time": "2022-01-11T11:16:15.017Z"
   },
   {
    "duration": 44,
    "start_time": "2022-01-11T11:16:15.032Z"
   },
   {
    "duration": 14,
    "start_time": "2022-01-11T11:16:15.078Z"
   },
   {
    "duration": 10,
    "start_time": "2022-01-11T11:16:15.095Z"
   },
   {
    "duration": 16,
    "start_time": "2022-01-11T11:16:15.107Z"
   },
   {
    "duration": 47,
    "start_time": "2022-01-11T11:16:15.124Z"
   },
   {
    "duration": 4,
    "start_time": "2022-01-11T11:16:15.175Z"
   },
   {
    "duration": 32,
    "start_time": "2022-01-11T11:16:15.182Z"
   },
   {
    "duration": 4,
    "start_time": "2022-01-11T11:16:15.216Z"
   },
   {
    "duration": 29,
    "start_time": "2022-01-11T11:16:15.222Z"
   },
   {
    "duration": 20,
    "start_time": "2022-01-11T11:16:15.253Z"
   },
   {
    "duration": 15,
    "start_time": "2022-01-11T11:16:15.275Z"
   },
   {
    "duration": 369,
    "start_time": "2022-01-11T11:16:15.291Z"
   },
   {
    "duration": 7,
    "start_time": "2022-01-11T11:16:15.662Z"
   },
   {
    "duration": 20,
    "start_time": "2022-01-11T11:16:15.670Z"
   },
   {
    "duration": 41,
    "start_time": "2022-01-11T11:16:15.691Z"
   },
   {
    "duration": 53,
    "start_time": "2022-01-11T11:16:15.734Z"
   },
   {
    "duration": 449,
    "start_time": "2022-01-11T11:16:15.789Z"
   },
   {
    "duration": 222,
    "start_time": "2022-01-11T11:16:16.241Z"
   },
   {
    "duration": 28,
    "start_time": "2022-01-11T11:16:16.465Z"
   },
   {
    "duration": 6,
    "start_time": "2022-01-11T11:16:16.495Z"
   },
   {
    "duration": 11,
    "start_time": "2022-01-11T11:16:16.503Z"
   },
   {
    "duration": 419,
    "start_time": "2022-01-11T11:16:16.516Z"
   },
   {
    "duration": 213,
    "start_time": "2022-01-11T11:16:16.937Z"
   },
   {
    "duration": 433,
    "start_time": "2022-01-11T11:16:17.154Z"
   },
   {
    "duration": 211,
    "start_time": "2022-01-11T11:16:17.589Z"
   },
   {
    "duration": 209,
    "start_time": "2022-01-11T11:16:17.802Z"
   },
   {
    "duration": 81,
    "start_time": "2022-01-11T11:16:18.013Z"
   },
   {
    "duration": 3,
    "start_time": "2022-01-11T11:16:40.133Z"
   },
   {
    "duration": 52,
    "start_time": "2022-01-11T11:16:40.137Z"
   },
   {
    "duration": 9,
    "start_time": "2022-01-11T11:16:40.191Z"
   },
   {
    "duration": 30,
    "start_time": "2022-01-11T11:16:40.202Z"
   },
   {
    "duration": 29,
    "start_time": "2022-01-11T11:16:40.234Z"
   },
   {
    "duration": 14,
    "start_time": "2022-01-11T11:16:40.265Z"
   },
   {
    "duration": 25,
    "start_time": "2022-01-11T11:16:40.280Z"
   },
   {
    "duration": 25,
    "start_time": "2022-01-11T11:16:40.306Z"
   },
   {
    "duration": 5,
    "start_time": "2022-01-11T11:16:40.334Z"
   },
   {
    "duration": 44,
    "start_time": "2022-01-11T11:16:40.341Z"
   },
   {
    "duration": 4,
    "start_time": "2022-01-11T11:16:40.386Z"
   },
   {
    "duration": 20,
    "start_time": "2022-01-11T11:16:40.392Z"
   },
   {
    "duration": 17,
    "start_time": "2022-01-11T11:16:40.413Z"
   },
   {
    "duration": 31,
    "start_time": "2022-01-11T11:16:40.431Z"
   },
   {
    "duration": 346,
    "start_time": "2022-01-11T11:16:40.464Z"
   },
   {
    "duration": 8,
    "start_time": "2022-01-11T11:16:40.812Z"
   },
   {
    "duration": 18,
    "start_time": "2022-01-11T11:16:40.821Z"
   },
   {
    "duration": 57,
    "start_time": "2022-01-11T11:16:40.841Z"
   },
   {
    "duration": 32,
    "start_time": "2022-01-11T11:16:40.901Z"
   },
   {
    "duration": 455,
    "start_time": "2022-01-11T11:16:40.935Z"
   },
   {
    "duration": 215,
    "start_time": "2022-01-11T11:16:41.392Z"
   },
   {
    "duration": 28,
    "start_time": "2022-01-11T11:16:41.609Z"
   },
   {
    "duration": 21,
    "start_time": "2022-01-11T11:16:41.639Z"
   },
   {
    "duration": 8,
    "start_time": "2022-01-11T11:16:41.662Z"
   },
   {
    "duration": 404,
    "start_time": "2022-01-11T11:16:41.672Z"
   },
   {
    "duration": 207,
    "start_time": "2022-01-11T11:16:42.078Z"
   },
   {
    "duration": 204,
    "start_time": "2022-01-11T11:16:42.288Z"
   },
   {
    "duration": 206,
    "start_time": "2022-01-11T11:16:42.493Z"
   },
   {
    "duration": 206,
    "start_time": "2022-01-11T11:16:42.701Z"
   },
   {
    "duration": 86,
    "start_time": "2022-01-11T11:16:42.908Z"
   },
   {
    "duration": 193,
    "start_time": "2022-01-11T11:16:53.243Z"
   },
   {
    "duration": 192,
    "start_time": "2022-01-11T11:16:54.314Z"
   },
   {
    "duration": 186,
    "start_time": "2022-01-11T11:16:54.746Z"
   },
   {
    "duration": 94,
    "start_time": "2022-01-11T11:16:54.945Z"
   },
   {
    "duration": 193,
    "start_time": "2022-01-11T11:17:56.010Z"
   },
   {
    "duration": 326,
    "start_time": "2022-01-11T11:26:52.848Z"
   },
   {
    "duration": 15,
    "start_time": "2022-01-11T11:27:00.465Z"
   },
   {
    "duration": 20,
    "start_time": "2022-01-11T11:28:56.544Z"
   },
   {
    "duration": 251,
    "start_time": "2022-01-11T11:30:24.832Z"
   },
   {
    "duration": 259,
    "start_time": "2022-01-11T11:30:31.136Z"
   },
   {
    "duration": 928,
    "start_time": "2022-01-11T11:31:05.480Z"
   },
   {
    "duration": 5,
    "start_time": "2022-01-11T11:33:35.176Z"
   },
   {
    "duration": 868,
    "start_time": "2022-01-11T11:33:52.640Z"
   },
   {
    "duration": 13,
    "start_time": "2022-01-11T11:38:33.736Z"
   },
   {
    "duration": 951,
    "start_time": "2022-01-11T11:43:46.840Z"
   },
   {
    "duration": 9,
    "start_time": "2022-01-11T11:44:10.303Z"
   },
   {
    "duration": 12,
    "start_time": "2022-01-11T12:05:56.446Z"
   },
   {
    "duration": 15,
    "start_time": "2022-01-11T12:06:45.181Z"
   },
   {
    "duration": 27,
    "start_time": "2022-01-11T12:07:30.573Z"
   },
   {
    "duration": 20,
    "start_time": "2022-01-11T12:07:52.558Z"
   },
   {
    "duration": 24,
    "start_time": "2022-01-11T12:08:24.061Z"
   },
   {
    "duration": 262,
    "start_time": "2022-01-11T12:09:07.149Z"
   },
   {
    "duration": 25,
    "start_time": "2022-01-11T12:09:18.852Z"
   },
   {
    "duration": 15,
    "start_time": "2022-01-11T12:14:28.061Z"
   },
   {
    "duration": 31,
    "start_time": "2022-01-11T12:14:54.220Z"
   },
   {
    "duration": 830,
    "start_time": "2022-01-12T07:34:00.898Z"
   },
   {
    "duration": 83,
    "start_time": "2022-01-12T07:34:01.730Z"
   },
   {
    "duration": 13,
    "start_time": "2022-01-12T07:34:01.816Z"
   },
   {
    "duration": 67,
    "start_time": "2022-01-12T07:34:01.832Z"
   },
   {
    "duration": 18,
    "start_time": "2022-01-12T07:34:01.901Z"
   },
   {
    "duration": 16,
    "start_time": "2022-01-12T07:34:01.921Z"
   },
   {
    "duration": 43,
    "start_time": "2022-01-12T07:34:01.939Z"
   },
   {
    "duration": 27,
    "start_time": "2022-01-12T07:34:01.985Z"
   },
   {
    "duration": 6,
    "start_time": "2022-01-12T07:34:02.016Z"
   },
   {
    "duration": 74,
    "start_time": "2022-01-12T07:34:02.025Z"
   },
   {
    "duration": 6,
    "start_time": "2022-01-12T07:34:02.101Z"
   },
   {
    "duration": 32,
    "start_time": "2022-01-12T07:34:02.110Z"
   },
   {
    "duration": 39,
    "start_time": "2022-01-12T07:34:02.144Z"
   },
   {
    "duration": 21,
    "start_time": "2022-01-12T07:34:02.185Z"
   },
   {
    "duration": 717,
    "start_time": "2022-01-12T07:34:02.208Z"
   },
   {
    "duration": 8,
    "start_time": "2022-01-12T07:34:02.927Z"
   },
   {
    "duration": 43,
    "start_time": "2022-01-12T07:34:02.938Z"
   },
   {
    "duration": 62,
    "start_time": "2022-01-12T07:34:02.984Z"
   },
   {
    "duration": 63,
    "start_time": "2022-01-12T07:34:03.060Z"
   },
   {
    "duration": 756,
    "start_time": "2022-01-12T07:34:03.126Z"
   },
   {
    "duration": 400,
    "start_time": "2022-01-12T07:34:03.885Z"
   },
   {
    "duration": 39,
    "start_time": "2022-01-12T07:34:04.289Z"
   },
   {
    "duration": 31,
    "start_time": "2022-01-12T07:34:04.330Z"
   },
   {
    "duration": 13,
    "start_time": "2022-01-12T07:34:04.373Z"
   },
   {
    "duration": 653,
    "start_time": "2022-01-12T07:34:04.389Z"
   },
   {
    "duration": 340,
    "start_time": "2022-01-12T07:34:05.044Z"
   },
   {
    "duration": 352,
    "start_time": "2022-01-12T07:34:05.392Z"
   },
   {
    "duration": 346,
    "start_time": "2022-01-12T07:34:05.748Z"
   },
   {
    "duration": 334,
    "start_time": "2022-01-12T07:34:06.097Z"
   },
   {
    "duration": 343,
    "start_time": "2022-01-12T07:34:06.433Z"
   },
   {
    "duration": 27,
    "start_time": "2022-01-12T07:34:06.778Z"
   },
   {
    "duration": 1215,
    "start_time": "2022-01-12T07:34:06.807Z"
   },
   {
    "duration": 11,
    "start_time": "2022-01-12T07:34:08.024Z"
   },
   {
    "duration": 1411,
    "start_time": "2022-01-12T07:34:08.037Z"
   },
   {
    "duration": 20,
    "start_time": "2022-01-12T07:34:09.451Z"
   },
   {
    "duration": 39,
    "start_time": "2022-01-12T07:34:09.474Z"
   },
   {
    "duration": 33,
    "start_time": "2022-01-12T07:36:18.050Z"
   },
   {
    "duration": 6,
    "start_time": "2022-01-12T07:36:47.811Z"
   },
   {
    "duration": 33,
    "start_time": "2022-01-12T07:36:53.698Z"
   },
   {
    "duration": 479,
    "start_time": "2022-01-12T07:41:33.737Z"
   },
   {
    "duration": 23,
    "start_time": "2022-01-12T07:41:41.977Z"
   },
   {
    "duration": 30,
    "start_time": "2022-01-12T07:42:43.114Z"
   },
   {
    "duration": 28,
    "start_time": "2022-01-12T07:43:30.313Z"
   },
   {
    "duration": 24,
    "start_time": "2022-01-12T07:43:56.601Z"
   },
   {
    "duration": 47,
    "start_time": "2022-01-12T07:45:26.353Z"
   },
   {
    "duration": 43,
    "start_time": "2022-01-12T07:45:44.914Z"
   },
   {
    "duration": 63,
    "start_time": "2022-01-12T07:46:04.937Z"
   },
   {
    "duration": 65,
    "start_time": "2022-01-12T07:57:25.957Z"
   },
   {
    "duration": 58,
    "start_time": "2022-01-12T08:05:12.397Z"
   },
   {
    "duration": 11,
    "start_time": "2022-01-12T08:30:09.227Z"
   },
   {
    "duration": 929,
    "start_time": "2022-01-12T08:36:13.026Z"
   },
   {
    "duration": 436,
    "start_time": "2022-01-12T08:36:23.467Z"
   },
   {
    "duration": 12,
    "start_time": "2022-01-12T08:36:38.482Z"
   },
   {
    "duration": 13,
    "start_time": "2022-01-12T08:37:10.707Z"
   },
   {
    "duration": 12,
    "start_time": "2022-01-12T08:37:23.779Z"
   },
   {
    "duration": 15,
    "start_time": "2022-01-12T08:38:37.035Z"
   },
   {
    "duration": 12,
    "start_time": "2022-01-12T08:38:41.754Z"
   },
   {
    "duration": 388,
    "start_time": "2022-01-12T08:43:07.640Z"
   },
   {
    "duration": 9,
    "start_time": "2022-01-12T08:43:52.065Z"
   },
   {
    "duration": 13,
    "start_time": "2022-01-12T08:44:03.106Z"
   },
   {
    "duration": 13,
    "start_time": "2022-01-12T08:46:01.890Z"
   },
   {
    "duration": 13,
    "start_time": "2022-01-12T08:47:26.841Z"
   },
   {
    "duration": 18,
    "start_time": "2022-01-12T08:47:41.297Z"
   },
   {
    "duration": 13,
    "start_time": "2022-01-12T08:47:59.039Z"
   },
   {
    "duration": 14,
    "start_time": "2022-01-12T08:48:17.802Z"
   },
   {
    "duration": 18,
    "start_time": "2022-01-12T08:50:11.978Z"
   },
   {
    "duration": 13,
    "start_time": "2022-01-12T08:50:22.729Z"
   },
   {
    "duration": 4,
    "start_time": "2022-01-12T09:10:48.907Z"
   },
   {
    "duration": 72,
    "start_time": "2022-01-12T09:10:48.913Z"
   },
   {
    "duration": 13,
    "start_time": "2022-01-12T09:10:48.988Z"
   },
   {
    "duration": 65,
    "start_time": "2022-01-12T09:10:49.004Z"
   },
   {
    "duration": 18,
    "start_time": "2022-01-12T09:10:49.072Z"
   },
   {
    "duration": 12,
    "start_time": "2022-01-12T09:10:49.092Z"
   },
   {
    "duration": 20,
    "start_time": "2022-01-12T09:10:49.106Z"
   },
   {
    "duration": 51,
    "start_time": "2022-01-12T09:10:49.129Z"
   },
   {
    "duration": 7,
    "start_time": "2022-01-12T09:10:49.184Z"
   },
   {
    "duration": 35,
    "start_time": "2022-01-12T09:10:49.193Z"
   },
   {
    "duration": 6,
    "start_time": "2022-01-12T09:10:49.259Z"
   },
   {
    "duration": 23,
    "start_time": "2022-01-12T09:10:49.267Z"
   },
   {
    "duration": 23,
    "start_time": "2022-01-12T09:10:49.293Z"
   },
   {
    "duration": 55,
    "start_time": "2022-01-12T09:10:49.318Z"
   },
   {
    "duration": 583,
    "start_time": "2022-01-12T09:10:49.376Z"
   },
   {
    "duration": 8,
    "start_time": "2022-01-12T09:10:49.961Z"
   },
   {
    "duration": 23,
    "start_time": "2022-01-12T09:10:49.971Z"
   },
   {
    "duration": 91,
    "start_time": "2022-01-12T09:10:49.996Z"
   },
   {
    "duration": 48,
    "start_time": "2022-01-12T09:10:50.089Z"
   },
   {
    "duration": 687,
    "start_time": "2022-01-12T09:10:50.139Z"
   },
   {
    "duration": 534,
    "start_time": "2022-01-12T09:10:50.828Z"
   },
   {
    "duration": 40,
    "start_time": "2022-01-12T09:10:51.364Z"
   },
   {
    "duration": 8,
    "start_time": "2022-01-12T09:10:51.409Z"
   },
   {
    "duration": 42,
    "start_time": "2022-01-12T09:10:51.420Z"
   },
   {
    "duration": 663,
    "start_time": "2022-01-12T09:10:51.464Z"
   },
   {
    "duration": 322,
    "start_time": "2022-01-12T09:10:52.130Z"
   },
   {
    "duration": 334,
    "start_time": "2022-01-12T09:10:52.454Z"
   },
   {
    "duration": 326,
    "start_time": "2022-01-12T09:10:52.790Z"
   },
   {
    "duration": 337,
    "start_time": "2022-01-12T09:10:53.119Z"
   },
   {
    "duration": 319,
    "start_time": "2022-01-12T09:10:53.459Z"
   },
   {
    "duration": 25,
    "start_time": "2022-01-12T09:10:53.780Z"
   },
   {
    "duration": 1186,
    "start_time": "2022-01-12T09:10:53.807Z"
   },
   {
    "duration": 12,
    "start_time": "2022-01-12T09:10:54.995Z"
   },
   {
    "duration": 1486,
    "start_time": "2022-01-12T09:10:55.009Z"
   },
   {
    "duration": 13,
    "start_time": "2022-01-12T09:10:56.498Z"
   },
   {
    "duration": 61,
    "start_time": "2022-01-12T09:10:56.513Z"
   },
   {
    "duration": 61,
    "start_time": "2022-01-12T09:10:56.576Z"
   },
   {
    "duration": 61,
    "start_time": "2022-01-12T09:10:56.660Z"
   },
   {
    "duration": 83,
    "start_time": "2022-01-12T09:10:56.723Z"
   },
   {
    "duration": 12,
    "start_time": "2022-01-12T09:10:56.808Z"
   },
   {
    "duration": 42,
    "start_time": "2022-01-12T09:10:56.822Z"
   },
   {
    "duration": 583,
    "start_time": "2022-01-13T16:56:48.099Z"
   },
   {
    "duration": 56,
    "start_time": "2022-01-13T16:56:48.684Z"
   },
   {
    "duration": 10,
    "start_time": "2022-01-13T16:56:48.742Z"
   },
   {
    "duration": 37,
    "start_time": "2022-01-13T16:56:48.754Z"
   },
   {
    "duration": 13,
    "start_time": "2022-01-13T16:56:48.793Z"
   },
   {
    "duration": 9,
    "start_time": "2022-01-13T16:56:48.807Z"
   },
   {
    "duration": 13,
    "start_time": "2022-01-13T16:56:48.818Z"
   },
   {
    "duration": 14,
    "start_time": "2022-01-13T16:56:48.833Z"
   },
   {
    "duration": 5,
    "start_time": "2022-01-13T16:56:48.849Z"
   },
   {
    "duration": 49,
    "start_time": "2022-01-13T16:56:48.855Z"
   },
   {
    "duration": 6,
    "start_time": "2022-01-13T16:56:48.906Z"
   },
   {
    "duration": 16,
    "start_time": "2022-01-13T16:56:48.913Z"
   },
   {
    "duration": 16,
    "start_time": "2022-01-13T16:56:48.930Z"
   },
   {
    "duration": 44,
    "start_time": "2022-01-13T16:56:48.948Z"
   },
   {
    "duration": 433,
    "start_time": "2022-01-13T16:56:48.994Z"
   },
   {
    "duration": 6,
    "start_time": "2022-01-13T16:56:49.429Z"
   },
   {
    "duration": 15,
    "start_time": "2022-01-13T16:56:49.437Z"
   },
   {
    "duration": 60,
    "start_time": "2022-01-13T16:56:49.454Z"
   },
   {
    "duration": 31,
    "start_time": "2022-01-13T16:56:49.516Z"
   },
   {
    "duration": 471,
    "start_time": "2022-01-13T16:56:49.549Z"
   },
   {
    "duration": 272,
    "start_time": "2022-01-13T16:56:50.022Z"
   },
   {
    "duration": 25,
    "start_time": "2022-01-13T16:56:50.296Z"
   },
   {
    "duration": 5,
    "start_time": "2022-01-13T16:56:50.325Z"
   },
   {
    "duration": 9,
    "start_time": "2022-01-13T16:56:50.332Z"
   },
   {
    "duration": 430,
    "start_time": "2022-01-13T16:56:50.343Z"
   },
   {
    "duration": 218,
    "start_time": "2022-01-13T16:56:50.775Z"
   },
   {
    "duration": 213,
    "start_time": "2022-01-13T16:56:50.995Z"
   },
   {
    "duration": 214,
    "start_time": "2022-01-13T16:56:51.210Z"
   },
   {
    "duration": 212,
    "start_time": "2022-01-13T16:56:51.426Z"
   },
   {
    "duration": 205,
    "start_time": "2022-01-13T16:56:51.639Z"
   },
   {
    "duration": 17,
    "start_time": "2022-01-13T16:56:51.846Z"
   },
   {
    "duration": 898,
    "start_time": "2022-01-13T16:56:51.864Z"
   },
   {
    "duration": 8,
    "start_time": "2022-01-13T16:56:52.765Z"
   },
   {
    "duration": 978,
    "start_time": "2022-01-13T16:56:52.775Z"
   },
   {
    "duration": 9,
    "start_time": "2022-01-13T16:56:53.754Z"
   },
   {
    "duration": 36,
    "start_time": "2022-01-13T16:56:53.764Z"
   },
   {
    "duration": 37,
    "start_time": "2022-01-13T16:56:53.802Z"
   },
   {
    "duration": 61,
    "start_time": "2022-01-13T16:56:53.841Z"
   },
   {
    "duration": 38,
    "start_time": "2022-01-13T16:56:53.904Z"
   },
   {
    "duration": 396,
    "start_time": "2022-01-13T16:56:53.943Z"
   },
   {
    "duration": 10,
    "start_time": "2022-01-13T16:56:54.341Z"
   },
   {
    "duration": 789,
    "start_time": "2022-01-14T16:24:20.993Z"
   },
   {
    "duration": 990,
    "start_time": "2022-01-15T07:39:48.873Z"
   },
   {
    "duration": 49,
    "start_time": "2022-01-15T07:41:19.901Z"
   },
   {
    "duration": 10,
    "start_time": "2022-01-15T07:41:22.182Z"
   },
   {
    "duration": 35,
    "start_time": "2022-01-15T07:41:24.446Z"
   },
   {
    "duration": 112,
    "start_time": "2022-01-15T07:41:37.125Z"
   },
   {
    "duration": 110,
    "start_time": "2022-01-15T07:44:49.870Z"
   },
   {
    "duration": 15,
    "start_time": "2022-01-15T07:48:04.556Z"
   },
   {
    "duration": 14,
    "start_time": "2022-01-15T07:48:50.926Z"
   },
   {
    "duration": 13,
    "start_time": "2022-01-15T07:49:02.046Z"
   },
   {
    "duration": 276,
    "start_time": "2022-01-15T08:07:17.839Z"
   },
   {
    "duration": 395,
    "start_time": "2022-01-15T08:07:25.796Z"
   },
   {
    "duration": 2,
    "start_time": "2022-01-15T08:07:31.532Z"
   },
   {
    "duration": 50,
    "start_time": "2022-01-15T08:07:31.536Z"
   },
   {
    "duration": 8,
    "start_time": "2022-01-15T08:07:31.588Z"
   },
   {
    "duration": 38,
    "start_time": "2022-01-15T08:07:31.598Z"
   },
   {
    "duration": 12,
    "start_time": "2022-01-15T08:07:31.638Z"
   },
   {
    "duration": 13,
    "start_time": "2022-01-15T08:07:31.651Z"
   },
   {
    "duration": 12,
    "start_time": "2022-01-15T08:07:31.665Z"
   },
   {
    "duration": 14,
    "start_time": "2022-01-15T08:07:31.679Z"
   },
   {
    "duration": 4,
    "start_time": "2022-01-15T08:07:31.694Z"
   },
   {
    "duration": 35,
    "start_time": "2022-01-15T08:07:31.699Z"
   },
   {
    "duration": 3,
    "start_time": "2022-01-15T08:07:31.735Z"
   },
   {
    "duration": 14,
    "start_time": "2022-01-15T08:07:31.740Z"
   },
   {
    "duration": 13,
    "start_time": "2022-01-15T08:07:31.755Z"
   },
   {
    "duration": 12,
    "start_time": "2022-01-15T08:07:31.769Z"
   },
   {
    "duration": 302,
    "start_time": "2022-01-15T08:07:31.782Z"
   },
   {
    "duration": 5,
    "start_time": "2022-01-15T08:07:32.086Z"
   },
   {
    "duration": 13,
    "start_time": "2022-01-15T08:07:32.092Z"
   },
   {
    "duration": 37,
    "start_time": "2022-01-15T08:07:32.106Z"
   },
   {
    "duration": 27,
    "start_time": "2022-01-15T08:07:32.145Z"
   },
   {
    "duration": 399,
    "start_time": "2022-01-15T08:07:32.174Z"
   },
   {
    "duration": 13,
    "start_time": "2022-01-15T08:07:32.575Z"
   },
   {
    "duration": 172,
    "start_time": "2022-01-15T08:07:32.590Z"
   },
   {
    "duration": 23,
    "start_time": "2022-01-15T08:07:32.765Z"
   },
   {
    "duration": 4,
    "start_time": "2022-01-15T08:07:32.790Z"
   },
   {
    "duration": 7,
    "start_time": "2022-01-15T08:07:32.796Z"
   },
   {
    "duration": 460,
    "start_time": "2022-01-15T08:07:32.804Z"
   },
   {
    "duration": 247,
    "start_time": "2022-01-15T08:07:33.266Z"
   },
   {
    "duration": 175,
    "start_time": "2022-01-15T08:07:33.514Z"
   },
   {
    "duration": 178,
    "start_time": "2022-01-15T08:07:33.690Z"
   },
   {
    "duration": 227,
    "start_time": "2022-01-15T08:07:33.869Z"
   },
   {
    "duration": 176,
    "start_time": "2022-01-15T08:07:34.097Z"
   },
   {
    "duration": 14,
    "start_time": "2022-01-15T08:07:34.275Z"
   },
   {
    "duration": 727,
    "start_time": "2022-01-15T08:07:34.291Z"
   },
   {
    "duration": 12,
    "start_time": "2022-01-15T08:07:35.019Z"
   },
   {
    "duration": 863,
    "start_time": "2022-01-15T08:07:35.032Z"
   },
   {
    "duration": 6,
    "start_time": "2022-01-15T08:07:35.897Z"
   },
   {
    "duration": 30,
    "start_time": "2022-01-15T08:07:35.905Z"
   },
   {
    "duration": 33,
    "start_time": "2022-01-15T08:07:35.937Z"
   },
   {
    "duration": 33,
    "start_time": "2022-01-15T08:07:35.972Z"
   },
   {
    "duration": 33,
    "start_time": "2022-01-15T08:07:36.027Z"
   },
   {
    "duration": 9,
    "start_time": "2022-01-15T08:07:36.062Z"
   },
   {
    "duration": 10,
    "start_time": "2022-01-15T08:07:36.073Z"
   },
   {
    "duration": 10,
    "start_time": "2022-01-15T08:08:34.931Z"
   },
   {
    "duration": 12,
    "start_time": "2022-01-15T08:08:53.611Z"
   },
   {
    "duration": 10,
    "start_time": "2022-01-15T08:09:00.235Z"
   },
   {
    "duration": 12,
    "start_time": "2022-01-15T08:09:06.995Z"
   },
   {
    "duration": 335,
    "start_time": "2022-01-15T08:09:30.939Z"
   },
   {
    "duration": 12,
    "start_time": "2022-01-15T08:09:36.019Z"
   },
   {
    "duration": 9488,
    "start_time": "2022-01-15T08:12:53.315Z"
   },
   {
    "duration": 1884,
    "start_time": "2022-01-15T08:14:53.267Z"
   },
   {
    "duration": 9230,
    "start_time": "2022-01-15T08:15:13.251Z"
   },
   {
    "duration": 116,
    "start_time": "2022-01-15T08:18:51.642Z"
   },
   {
    "duration": 340,
    "start_time": "2022-01-15T08:18:58.810Z"
   },
   {
    "duration": 10,
    "start_time": "2022-01-15T08:19:50.138Z"
   },
   {
    "duration": 28229,
    "start_time": "2022-01-15T08:19:58.321Z"
   },
   {
    "duration": 104,
    "start_time": "2022-01-15T08:24:16.945Z"
   },
   {
    "duration": 335,
    "start_time": "2022-01-15T08:24:24.089Z"
   },
   {
    "duration": 339,
    "start_time": "2022-01-15T08:24:36.986Z"
   },
   {
    "duration": 316,
    "start_time": "2022-01-15T08:24:47.785Z"
   },
   {
    "duration": 370,
    "start_time": "2022-01-15T08:25:28.490Z"
   },
   {
    "duration": 358,
    "start_time": "2022-01-15T08:25:42.649Z"
   },
   {
    "duration": 332,
    "start_time": "2022-01-15T08:26:26.569Z"
   },
   {
    "duration": 8,
    "start_time": "2022-01-15T08:26:51.225Z"
   },
   {
    "duration": 12,
    "start_time": "2022-01-15T08:27:09.592Z"
   },
   {
    "duration": 317,
    "start_time": "2022-01-15T08:28:42.056Z"
   },
   {
    "duration": 326,
    "start_time": "2022-01-15T08:29:58.584Z"
   },
   {
    "duration": 338,
    "start_time": "2022-01-15T08:31:29.634Z"
   },
   {
    "duration": 323,
    "start_time": "2022-01-15T08:31:48.744Z"
   },
   {
    "duration": 9694,
    "start_time": "2022-01-15T08:32:00.561Z"
   },
   {
    "duration": 1537,
    "start_time": "2022-01-15T08:32:26.041Z"
   },
   {
    "duration": 8,
    "start_time": "2022-01-15T08:32:34.904Z"
   },
   {
    "duration": 330,
    "start_time": "2022-01-15T08:32:47.600Z"
   },
   {
    "duration": 9,
    "start_time": "2022-01-15T08:32:54.686Z"
   },
   {
    "duration": 329,
    "start_time": "2022-01-15T08:33:37.968Z"
   },
   {
    "duration": 336,
    "start_time": "2022-01-15T08:33:41.768Z"
   },
   {
    "duration": 417,
    "start_time": "2022-01-15T08:33:50.888Z"
   },
   {
    "duration": 328,
    "start_time": "2022-01-15T08:33:59.008Z"
   },
   {
    "duration": 323,
    "start_time": "2022-01-15T08:34:02.856Z"
   },
   {
    "duration": 12,
    "start_time": "2022-01-15T08:34:16.537Z"
   },
   {
    "duration": 12,
    "start_time": "2022-01-15T08:34:40.432Z"
   },
   {
    "duration": 1430,
    "start_time": "2022-01-15T08:39:30.992Z"
   },
   {
    "duration": 904,
    "start_time": "2022-01-15T08:39:44.767Z"
   },
   {
    "duration": 340,
    "start_time": "2022-01-15T08:40:35.071Z"
   },
   {
    "duration": 322,
    "start_time": "2022-01-15T08:40:43.255Z"
   },
   {
    "duration": 355,
    "start_time": "2022-01-15T08:41:00.407Z"
   },
   {
    "duration": 317,
    "start_time": "2022-01-15T08:42:57.487Z"
   },
   {
    "duration": 323,
    "start_time": "2022-01-15T08:44:00.855Z"
   },
   {
    "duration": 22,
    "start_time": "2022-01-15T08:44:07.119Z"
   },
   {
    "duration": 44,
    "start_time": "2022-01-15T08:46:24.015Z"
   },
   {
    "duration": 322,
    "start_time": "2022-01-15T08:46:46.431Z"
   },
   {
    "duration": 338,
    "start_time": "2022-01-15T08:47:12.072Z"
   },
   {
    "duration": 9,
    "start_time": "2022-01-15T08:49:24.414Z"
   },
   {
    "duration": 11,
    "start_time": "2022-01-15T08:49:36.254Z"
   },
   {
    "duration": 325,
    "start_time": "2022-01-15T08:51:33.084Z"
   },
   {
    "duration": 13,
    "start_time": "2022-01-15T08:51:54.638Z"
   },
   {
    "duration": 7,
    "start_time": "2022-01-15T09:12:54.770Z"
   },
   {
    "duration": 341,
    "start_time": "2022-01-15T09:14:57.250Z"
   },
   {
    "duration": 448,
    "start_time": "2022-01-15T09:15:35.714Z"
   },
   {
    "duration": 12,
    "start_time": "2022-01-15T09:16:13.450Z"
   },
   {
    "duration": 7,
    "start_time": "2022-01-15T09:17:46.882Z"
   },
   {
    "duration": 6,
    "start_time": "2022-01-15T09:18:10.393Z"
   },
   {
    "duration": 7,
    "start_time": "2022-01-15T09:22:13.993Z"
   },
   {
    "duration": 325,
    "start_time": "2022-01-15T09:26:52.432Z"
   },
   {
    "duration": 338,
    "start_time": "2022-01-15T09:27:01.530Z"
   },
   {
    "duration": 8084,
    "start_time": "2022-01-15T09:27:20.945Z"
   },
   {
    "duration": 8695,
    "start_time": "2022-01-15T09:27:32.712Z"
   },
   {
    "duration": 8271,
    "start_time": "2022-01-15T09:27:56.042Z"
   },
   {
    "duration": 8018,
    "start_time": "2022-01-15T09:28:14.073Z"
   },
   {
    "duration": 323,
    "start_time": "2022-01-15T09:28:41.361Z"
   },
   {
    "duration": 7,
    "start_time": "2022-01-15T09:28:51.578Z"
   },
   {
    "duration": 5,
    "start_time": "2022-01-15T09:29:37.441Z"
   },
   {
    "duration": 7,
    "start_time": "2022-01-15T09:29:42.593Z"
   },
   {
    "duration": 333,
    "start_time": "2022-01-15T09:29:55.570Z"
   },
   {
    "duration": 5,
    "start_time": "2022-01-15T09:30:03.409Z"
   },
   {
    "duration": 5,
    "start_time": "2022-01-15T09:30:09.681Z"
   },
   {
    "duration": 10,
    "start_time": "2022-01-15T09:30:21.251Z"
   },
   {
    "duration": 338,
    "start_time": "2022-01-15T09:31:17.762Z"
   },
   {
    "duration": 326,
    "start_time": "2022-01-15T09:32:43.856Z"
   },
   {
    "duration": 328,
    "start_time": "2022-01-15T09:33:10.632Z"
   },
   {
    "duration": 141,
    "start_time": "2022-01-15T09:34:43.970Z"
   },
   {
    "duration": 316,
    "start_time": "2022-01-15T09:34:53.616Z"
   },
   {
    "duration": 10,
    "start_time": "2022-01-15T09:35:08.450Z"
   },
   {
    "duration": 22,
    "start_time": "2022-01-15T09:35:13.352Z"
   },
   {
    "duration": 15,
    "start_time": "2022-01-15T09:36:11.849Z"
   },
   {
    "duration": 16,
    "start_time": "2022-01-15T09:36:40.761Z"
   },
   {
    "duration": 11,
    "start_time": "2022-01-15T09:46:43.016Z"
   },
   {
    "duration": 547,
    "start_time": "2022-01-15T09:55:35.351Z"
   },
   {
    "duration": 1612,
    "start_time": "2022-01-15T09:56:01.623Z"
   },
   {
    "duration": 1566,
    "start_time": "2022-01-15T09:56:10.143Z"
   },
   {
    "duration": 9,
    "start_time": "2022-01-15T09:56:24.719Z"
   },
   {
    "duration": 14,
    "start_time": "2022-01-15T09:56:34.414Z"
   },
   {
    "duration": 17,
    "start_time": "2022-01-15T09:56:45.062Z"
   },
   {
    "duration": 1631,
    "start_time": "2022-01-15T09:58:10.351Z"
   },
   {
    "duration": 8888,
    "start_time": "2022-01-15T09:58:54.687Z"
   },
   {
    "duration": 325,
    "start_time": "2022-01-15T09:59:34.977Z"
   },
   {
    "duration": 3,
    "start_time": "2022-01-15T09:59:50.326Z"
   },
   {
    "duration": 59,
    "start_time": "2022-01-15T09:59:50.332Z"
   },
   {
    "duration": 9,
    "start_time": "2022-01-15T09:59:50.393Z"
   },
   {
    "duration": 47,
    "start_time": "2022-01-15T09:59:50.404Z"
   },
   {
    "duration": 13,
    "start_time": "2022-01-15T09:59:50.453Z"
   },
   {
    "duration": 8,
    "start_time": "2022-01-15T09:59:50.467Z"
   },
   {
    "duration": 15,
    "start_time": "2022-01-15T09:59:50.476Z"
   },
   {
    "duration": 47,
    "start_time": "2022-01-15T09:59:50.493Z"
   },
   {
    "duration": 5,
    "start_time": "2022-01-15T09:59:50.542Z"
   },
   {
    "duration": 24,
    "start_time": "2022-01-15T09:59:50.549Z"
   },
   {
    "duration": 4,
    "start_time": "2022-01-15T09:59:50.574Z"
   },
   {
    "duration": 16,
    "start_time": "2022-01-15T09:59:50.579Z"
   },
   {
    "duration": 38,
    "start_time": "2022-01-15T09:59:50.596Z"
   },
   {
    "duration": 20,
    "start_time": "2022-01-15T09:59:50.637Z"
   },
   {
    "duration": 337,
    "start_time": "2022-01-15T09:59:50.659Z"
   },
   {
    "duration": 6,
    "start_time": "2022-01-15T09:59:50.997Z"
   },
   {
    "duration": 24,
    "start_time": "2022-01-15T09:59:51.005Z"
   },
   {
    "duration": 39,
    "start_time": "2022-01-15T09:59:51.030Z"
   },
   {
    "duration": 27,
    "start_time": "2022-01-15T09:59:51.071Z"
   },
   {
    "duration": 502,
    "start_time": "2022-01-15T09:59:51.100Z"
   },
   {
    "duration": 25,
    "start_time": "2022-01-15T09:59:51.604Z"
   },
   {
    "duration": 197,
    "start_time": "2022-01-15T09:59:51.631Z"
   },
   {
    "duration": 26,
    "start_time": "2022-01-15T09:59:51.834Z"
   },
   {
    "duration": 6,
    "start_time": "2022-01-15T09:59:51.862Z"
   },
   {
    "duration": 18,
    "start_time": "2022-01-15T09:59:51.870Z"
   },
   {
    "duration": 380,
    "start_time": "2022-01-15T09:59:51.890Z"
   },
   {
    "duration": 197,
    "start_time": "2022-01-15T09:59:52.272Z"
   },
   {
    "duration": 185,
    "start_time": "2022-01-15T09:59:52.471Z"
   },
   {
    "duration": 201,
    "start_time": "2022-01-15T09:59:52.658Z"
   },
   {
    "duration": 195,
    "start_time": "2022-01-15T09:59:52.860Z"
   },
   {
    "duration": 188,
    "start_time": "2022-01-15T09:59:53.057Z"
   },
   {
    "duration": 15,
    "start_time": "2022-01-15T09:59:53.247Z"
   },
   {
    "duration": 776,
    "start_time": "2022-01-15T09:59:53.264Z"
   },
   {
    "duration": 8,
    "start_time": "2022-01-15T09:59:54.042Z"
   },
   {
    "duration": 955,
    "start_time": "2022-01-15T09:59:54.052Z"
   },
   {
    "duration": 7,
    "start_time": "2022-01-15T09:59:55.009Z"
   },
   {
    "duration": 34,
    "start_time": "2022-01-15T09:59:55.017Z"
   },
   {
    "duration": 33,
    "start_time": "2022-01-15T09:59:55.052Z"
   },
   {
    "duration": 60,
    "start_time": "2022-01-15T09:59:55.087Z"
   },
   {
    "duration": 6,
    "start_time": "2022-01-15T09:59:55.149Z"
   },
   {
    "duration": 331,
    "start_time": "2022-01-15T09:59:55.156Z"
   },
   {
    "duration": 805,
    "start_time": "2022-01-15T09:59:54.684Z"
   },
   {
    "duration": 804,
    "start_time": "2022-01-15T09:59:54.686Z"
   },
   {
    "duration": 802,
    "start_time": "2022-01-15T09:59:54.688Z"
   },
   {
    "duration": 801,
    "start_time": "2022-01-15T09:59:54.690Z"
   },
   {
    "duration": 408,
    "start_time": "2022-01-15T10:00:10.703Z"
   },
   {
    "duration": 347,
    "start_time": "2022-01-15T10:00:52.798Z"
   },
   {
    "duration": 338,
    "start_time": "2022-01-15T10:01:19.938Z"
   },
   {
    "duration": 11,
    "start_time": "2022-01-15T10:01:29.774Z"
   },
   {
    "duration": 17,
    "start_time": "2022-01-15T10:01:35.447Z"
   },
   {
    "duration": 13,
    "start_time": "2022-01-15T10:01:40.487Z"
   },
   {
    "duration": 1572,
    "start_time": "2022-01-15T10:01:57.735Z"
   },
   {
    "duration": 11,
    "start_time": "2022-01-15T10:02:39.567Z"
   },
   {
    "duration": 17,
    "start_time": "2022-01-15T10:02:49.551Z"
   },
   {
    "duration": 17,
    "start_time": "2022-01-15T10:03:15.359Z"
   },
   {
    "duration": 146,
    "start_time": "2022-01-15T10:04:17.495Z"
   },
   {
    "duration": 18,
    "start_time": "2022-01-15T10:04:22.591Z"
   },
   {
    "duration": 16,
    "start_time": "2022-01-15T10:04:31.744Z"
   },
   {
    "duration": 10,
    "start_time": "2022-01-15T10:05:26.878Z"
   },
   {
    "duration": 10,
    "start_time": "2022-01-15T10:05:34.091Z"
   },
   {
    "duration": 8,
    "start_time": "2022-01-15T10:05:39.776Z"
   },
   {
    "duration": 9,
    "start_time": "2022-01-15T10:06:42.702Z"
   },
   {
    "duration": 8,
    "start_time": "2022-01-15T10:06:55.335Z"
   },
   {
    "duration": 10,
    "start_time": "2022-01-15T10:07:00.274Z"
   },
   {
    "duration": 10,
    "start_time": "2022-01-15T10:07:29.766Z"
   },
   {
    "duration": 9,
    "start_time": "2022-01-15T10:07:59.351Z"
   },
   {
    "duration": 19,
    "start_time": "2022-01-15T10:08:09.462Z"
   },
   {
    "duration": 18,
    "start_time": "2022-01-15T10:08:44.599Z"
   },
   {
    "duration": 13,
    "start_time": "2022-01-15T10:19:09.628Z"
   },
   {
    "duration": 8,
    "start_time": "2022-01-15T10:19:50.541Z"
   },
   {
    "duration": 8,
    "start_time": "2022-01-15T10:20:27.653Z"
   },
   {
    "duration": 8,
    "start_time": "2022-01-15T10:21:08.573Z"
   },
   {
    "duration": 342,
    "start_time": "2022-01-15T10:25:08.220Z"
   },
   {
    "duration": 522,
    "start_time": "2022-01-15T10:25:21.068Z"
   },
   {
    "duration": 581,
    "start_time": "2022-01-15T10:25:47.324Z"
   },
   {
    "duration": 633,
    "start_time": "2022-01-15T10:26:01.254Z"
   },
   {
    "duration": 865,
    "start_time": "2022-01-15T10:26:28.596Z"
   },
   {
    "duration": 674,
    "start_time": "2022-01-15T10:26:35.666Z"
   },
   {
    "duration": 653,
    "start_time": "2022-01-15T10:26:40.624Z"
   },
   {
    "duration": 666,
    "start_time": "2022-01-15T10:26:48.987Z"
   },
   {
    "duration": 805,
    "start_time": "2022-01-15T10:27:19.468Z"
   },
   {
    "duration": 913,
    "start_time": "2022-01-15T10:28:02.510Z"
   },
   {
    "duration": 654,
    "start_time": "2022-01-15T10:28:12.820Z"
   },
   {
    "duration": 691,
    "start_time": "2022-01-15T10:28:31.452Z"
   },
   {
    "duration": 717,
    "start_time": "2022-01-15T10:28:51.441Z"
   },
   {
    "duration": 814,
    "start_time": "2022-01-15T10:29:41.387Z"
   },
   {
    "duration": 39,
    "start_time": "2022-01-15T10:29:59.643Z"
   },
   {
    "duration": 1599,
    "start_time": "2022-01-15T10:42:01.859Z"
   },
   {
    "duration": 2250,
    "start_time": "2022-01-15T10:42:36.938Z"
   },
   {
    "duration": 19,
    "start_time": "2022-01-15T10:43:54.978Z"
   },
   {
    "duration": 591,
    "start_time": "2022-01-15T10:44:48.874Z"
   },
   {
    "duration": 10068,
    "start_time": "2022-01-15T10:45:17.866Z"
   },
   {
    "duration": 90,
    "start_time": "2022-01-15T10:46:53.401Z"
   },
   {
    "duration": 34,
    "start_time": "2022-01-15T10:49:03.944Z"
   },
   {
    "duration": 44,
    "start_time": "2022-01-15T10:49:24.257Z"
   },
   {
    "duration": 27,
    "start_time": "2022-01-15T10:49:46.185Z"
   },
   {
    "duration": 31,
    "start_time": "2022-01-15T10:49:56.201Z"
   },
   {
    "duration": 32,
    "start_time": "2022-01-15T10:50:04.065Z"
   },
   {
    "duration": 31,
    "start_time": "2022-01-15T10:51:46.905Z"
   },
   {
    "duration": 38,
    "start_time": "2022-01-15T10:51:54.472Z"
   },
   {
    "duration": 27,
    "start_time": "2022-01-15T10:52:03.560Z"
   },
   {
    "duration": 33,
    "start_time": "2022-01-15T10:52:28.136Z"
   },
   {
    "duration": 34,
    "start_time": "2022-01-15T10:52:35.152Z"
   },
   {
    "duration": 3434,
    "start_time": "2022-01-15T10:53:05.290Z"
   },
   {
    "duration": 610,
    "start_time": "2022-01-15T10:53:17.633Z"
   },
   {
    "duration": 14,
    "start_time": "2022-01-15T10:53:28.481Z"
   },
   {
    "duration": 18,
    "start_time": "2022-01-15T10:53:59.218Z"
   },
   {
    "duration": 7,
    "start_time": "2022-01-15T10:57:56.849Z"
   },
   {
    "duration": 13,
    "start_time": "2022-01-15T10:58:03.851Z"
   },
   {
    "duration": 9,
    "start_time": "2022-01-15T10:59:46.008Z"
   },
   {
    "duration": 12,
    "start_time": "2022-01-15T11:03:03.272Z"
   },
   {
    "duration": 11,
    "start_time": "2022-01-15T11:03:45.856Z"
   },
   {
    "duration": 10,
    "start_time": "2022-01-15T11:04:23.137Z"
   },
   {
    "duration": 345,
    "start_time": "2022-01-15T11:04:55.456Z"
   },
   {
    "duration": 7,
    "start_time": "2022-01-15T11:05:01.416Z"
   },
   {
    "duration": 10,
    "start_time": "2022-01-15T11:05:33.054Z"
   },
   {
    "duration": 789,
    "start_time": "2022-01-15T11:06:24.298Z"
   },
   {
    "duration": 8448,
    "start_time": "2022-01-15T11:06:27.255Z"
   },
   {
    "duration": 10,
    "start_time": "2022-01-15T11:06:46.375Z"
   },
   {
    "duration": 8932,
    "start_time": "2022-01-15T11:09:22.607Z"
   },
   {
    "duration": 83,
    "start_time": "2022-01-15T11:11:56.841Z"
   },
   {
    "duration": 70,
    "start_time": "2022-01-15T11:12:42.471Z"
   },
   {
    "duration": 9738,
    "start_time": "2022-01-15T11:19:43.717Z"
   },
   {
    "duration": 9,
    "start_time": "2022-01-15T11:20:48.886Z"
   },
   {
    "duration": 117,
    "start_time": "2022-01-15T11:21:10.991Z"
   },
   {
    "duration": 61,
    "start_time": "2022-01-15T11:21:33.184Z"
   },
   {
    "duration": 65,
    "start_time": "2022-01-15T11:22:10.509Z"
   },
   {
    "duration": 58,
    "start_time": "2022-01-15T11:22:29.269Z"
   },
   {
    "duration": 138,
    "start_time": "2022-01-15T11:24:55.701Z"
   },
   {
    "duration": 117,
    "start_time": "2022-01-15T11:25:06.644Z"
   },
   {
    "duration": 113,
    "start_time": "2022-01-15T11:25:18.558Z"
   },
   {
    "duration": 113,
    "start_time": "2022-01-15T11:25:38.534Z"
   },
   {
    "duration": 118,
    "start_time": "2022-01-15T11:26:29.910Z"
   },
   {
    "duration": 114,
    "start_time": "2022-01-15T11:26:36.060Z"
   },
   {
    "duration": 121,
    "start_time": "2022-01-15T11:26:45.893Z"
   },
   {
    "duration": 58,
    "start_time": "2022-01-15T11:29:42.707Z"
   },
   {
    "duration": 64,
    "start_time": "2022-01-15T11:30:43.700Z"
   },
   {
    "duration": 116,
    "start_time": "2022-01-15T11:33:51.292Z"
   },
   {
    "duration": 111,
    "start_time": "2022-01-15T11:34:23.171Z"
   },
   {
    "duration": 1356,
    "start_time": "2022-01-15T13:07:27.995Z"
   },
   {
    "duration": 60,
    "start_time": "2022-01-15T13:07:29.354Z"
   },
   {
    "duration": 18,
    "start_time": "2022-01-15T13:07:29.416Z"
   },
   {
    "duration": 39,
    "start_time": "2022-01-15T13:07:29.437Z"
   },
   {
    "duration": 45,
    "start_time": "2022-01-15T13:07:29.478Z"
   },
   {
    "duration": 12,
    "start_time": "2022-01-15T13:07:29.526Z"
   },
   {
    "duration": 20,
    "start_time": "2022-01-15T13:07:29.541Z"
   },
   {
    "duration": 19,
    "start_time": "2022-01-15T13:07:29.567Z"
   },
   {
    "duration": 7,
    "start_time": "2022-01-15T13:07:29.625Z"
   },
   {
    "duration": 33,
    "start_time": "2022-01-15T13:07:29.635Z"
   },
   {
    "duration": 6,
    "start_time": "2022-01-15T13:07:29.671Z"
   },
   {
    "duration": 55,
    "start_time": "2022-01-15T13:07:29.679Z"
   },
   {
    "duration": 22,
    "start_time": "2022-01-15T13:07:29.736Z"
   },
   {
    "duration": 20,
    "start_time": "2022-01-15T13:07:29.761Z"
   },
   {
    "duration": 597,
    "start_time": "2022-01-15T13:07:29.784Z"
   },
   {
    "duration": 8,
    "start_time": "2022-01-15T13:07:30.383Z"
   },
   {
    "duration": 36,
    "start_time": "2022-01-15T13:07:30.393Z"
   },
   {
    "duration": 60,
    "start_time": "2022-01-15T13:07:30.432Z"
   },
   {
    "duration": 67,
    "start_time": "2022-01-15T13:07:30.494Z"
   },
   {
    "duration": 698,
    "start_time": "2022-01-15T13:07:30.564Z"
   },
   {
    "duration": 21,
    "start_time": "2022-01-15T13:07:31.264Z"
   },
   {
    "duration": 340,
    "start_time": "2022-01-15T13:07:31.287Z"
   },
   {
    "duration": 38,
    "start_time": "2022-01-15T13:07:31.632Z"
   },
   {
    "duration": 7,
    "start_time": "2022-01-15T13:07:31.673Z"
   },
   {
    "duration": 11,
    "start_time": "2022-01-15T13:07:31.682Z"
   },
   {
    "duration": 636,
    "start_time": "2022-01-15T13:07:31.695Z"
   },
   {
    "duration": 326,
    "start_time": "2022-01-15T13:07:32.333Z"
   },
   {
    "duration": 304,
    "start_time": "2022-01-15T13:07:32.662Z"
   },
   {
    "duration": 335,
    "start_time": "2022-01-15T13:07:32.968Z"
   },
   {
    "duration": 362,
    "start_time": "2022-01-15T13:07:33.306Z"
   },
   {
    "duration": 315,
    "start_time": "2022-01-15T13:07:33.671Z"
   },
   {
    "duration": 39,
    "start_time": "2022-01-15T13:07:33.988Z"
   },
   {
    "duration": 1215,
    "start_time": "2022-01-15T13:07:34.029Z"
   },
   {
    "duration": 12,
    "start_time": "2022-01-15T13:07:35.247Z"
   },
   {
    "duration": 1286,
    "start_time": "2022-01-15T13:07:35.262Z"
   },
   {
    "duration": 13,
    "start_time": "2022-01-15T13:07:36.551Z"
   },
   {
    "duration": 60,
    "start_time": "2022-01-15T13:07:36.567Z"
   },
   {
    "duration": 58,
    "start_time": "2022-01-15T13:07:36.629Z"
   },
   {
    "duration": 1306,
    "start_time": "2022-01-15T13:07:36.689Z"
   },
   {
    "duration": 74,
    "start_time": "2022-01-15T13:07:37.997Z"
   },
   {
    "duration": 1411,
    "start_time": "2022-01-15T13:07:38.074Z"
   },
   {
    "duration": 11,
    "start_time": "2022-01-15T13:07:39.487Z"
   },
   {
    "duration": 35,
    "start_time": "2022-01-15T13:07:39.501Z"
   },
   {
    "duration": 33,
    "start_time": "2022-01-15T13:07:39.538Z"
   },
   {
    "duration": 14,
    "start_time": "2022-01-15T13:07:39.573Z"
   },
   {
    "duration": 95,
    "start_time": "2022-01-15T13:07:39.589Z"
   },
   {
    "duration": 789,
    "start_time": "2022-01-15T13:07:38.898Z"
   },
   {
    "duration": 776,
    "start_time": "2022-01-15T13:07:38.913Z"
   },
   {
    "duration": 774,
    "start_time": "2022-01-15T13:07:38.917Z"
   },
   {
    "duration": 772,
    "start_time": "2022-01-15T13:07:38.921Z"
   },
   {
    "duration": 108,
    "start_time": "2022-01-15T13:08:28.418Z"
   },
   {
    "duration": 100,
    "start_time": "2022-01-15T13:08:49.786Z"
   },
   {
    "duration": 123,
    "start_time": "2022-01-15T13:09:08.332Z"
   },
   {
    "duration": 105,
    "start_time": "2022-01-15T13:10:29.026Z"
   },
   {
    "duration": 93,
    "start_time": "2022-01-15T13:19:13.883Z"
   },
   {
    "duration": 116,
    "start_time": "2022-01-15T13:19:59.787Z"
   },
   {
    "duration": 448,
    "start_time": "2022-01-15T13:20:20.442Z"
   },
   {
    "duration": 4,
    "start_time": "2022-01-15T13:21:03.973Z"
   },
   {
    "duration": 7,
    "start_time": "2022-01-15T13:21:09.705Z"
   },
   {
    "duration": 292,
    "start_time": "2022-01-15T13:21:24.547Z"
   },
   {
    "duration": 7437,
    "start_time": "2022-01-15T13:22:31.994Z"
   },
   {
    "duration": 7468,
    "start_time": "2022-01-15T13:23:00.378Z"
   },
   {
    "duration": 3543,
    "start_time": "2022-01-15T13:23:47.313Z"
   },
   {
    "duration": 4776,
    "start_time": "2022-01-15T13:24:19.368Z"
   },
   {
    "duration": 15,
    "start_time": "2022-01-15T13:24:37.050Z"
   },
   {
    "duration": 336,
    "start_time": "2022-01-15T13:25:28.123Z"
   },
   {
    "duration": 15,
    "start_time": "2022-01-15T13:25:38.209Z"
   },
   {
    "duration": 300,
    "start_time": "2022-01-15T13:26:12.681Z"
   },
   {
    "duration": 307,
    "start_time": "2022-01-15T13:26:22.954Z"
   },
   {
    "duration": 15,
    "start_time": "2022-01-15T13:26:41.666Z"
   },
   {
    "duration": 495,
    "start_time": "2022-01-15T13:27:00.562Z"
   },
   {
    "duration": 14,
    "start_time": "2022-01-15T13:28:38.506Z"
   },
   {
    "duration": 99,
    "start_time": "2022-01-15T13:29:05.433Z"
   },
   {
    "duration": 16,
    "start_time": "2022-01-15T13:29:19.267Z"
   },
   {
    "duration": 284,
    "start_time": "2022-01-15T13:29:29.849Z"
   },
   {
    "duration": 11,
    "start_time": "2022-01-15T13:29:35.258Z"
   },
   {
    "duration": 15,
    "start_time": "2022-01-15T13:29:38.928Z"
   },
   {
    "duration": 99,
    "start_time": "2022-01-15T13:29:52.761Z"
   },
   {
    "duration": 152,
    "start_time": "2022-01-15T13:30:18.098Z"
   },
   {
    "duration": 103,
    "start_time": "2022-01-15T13:30:30.483Z"
   },
   {
    "duration": 109,
    "start_time": "2022-01-15T13:32:18.585Z"
   },
   {
    "duration": 4,
    "start_time": "2022-01-15T13:33:12.404Z"
   },
   {
    "duration": 5729,
    "start_time": "2022-01-15T13:33:22.900Z"
   },
   {
    "duration": 100,
    "start_time": "2022-01-15T13:34:06.259Z"
   },
   {
    "duration": 110,
    "start_time": "2022-01-15T13:35:27.253Z"
   },
   {
    "duration": 76,
    "start_time": "2022-01-15T13:47:38.709Z"
   },
   {
    "duration": 92,
    "start_time": "2022-01-15T13:47:42.713Z"
   },
   {
    "duration": 98,
    "start_time": "2022-01-15T13:47:56.786Z"
   },
   {
    "duration": 164,
    "start_time": "2022-01-15T13:48:10.490Z"
   },
   {
    "duration": 136,
    "start_time": "2022-01-15T13:48:24.153Z"
   },
   {
    "duration": 98,
    "start_time": "2022-01-15T13:48:44.227Z"
   },
   {
    "duration": 4,
    "start_time": "2022-01-15T13:48:53.066Z"
   },
   {
    "duration": 5749,
    "start_time": "2022-01-15T13:49:01.530Z"
   },
   {
    "duration": 6227,
    "start_time": "2022-01-15T13:50:07.155Z"
   },
   {
    "duration": 5493,
    "start_time": "2022-01-15T13:50:39.794Z"
   },
   {
    "duration": 4,
    "start_time": "2022-01-15T13:50:58.466Z"
   },
   {
    "duration": 63,
    "start_time": "2022-01-15T13:50:58.472Z"
   },
   {
    "duration": 12,
    "start_time": "2022-01-15T13:50:58.538Z"
   },
   {
    "duration": 40,
    "start_time": "2022-01-15T13:50:58.552Z"
   },
   {
    "duration": 22,
    "start_time": "2022-01-15T13:50:58.624Z"
   },
   {
    "duration": 10,
    "start_time": "2022-01-15T13:50:58.648Z"
   },
   {
    "duration": 62,
    "start_time": "2022-01-15T13:50:58.661Z"
   },
   {
    "duration": 19,
    "start_time": "2022-01-15T13:50:58.726Z"
   },
   {
    "duration": 6,
    "start_time": "2022-01-15T13:50:58.747Z"
   },
   {
    "duration": 43,
    "start_time": "2022-01-15T13:50:58.755Z"
   },
   {
    "duration": 26,
    "start_time": "2022-01-15T13:50:58.800Z"
   },
   {
    "duration": 24,
    "start_time": "2022-01-15T13:50:58.829Z"
   },
   {
    "duration": 23,
    "start_time": "2022-01-15T13:50:58.855Z"
   },
   {
    "duration": 49,
    "start_time": "2022-01-15T13:50:58.880Z"
   },
   {
    "duration": 563,
    "start_time": "2022-01-15T13:50:58.931Z"
   },
   {
    "duration": 9,
    "start_time": "2022-01-15T13:50:59.496Z"
   },
   {
    "duration": 34,
    "start_time": "2022-01-15T13:50:59.507Z"
   },
   {
    "duration": 56,
    "start_time": "2022-01-15T13:50:59.543Z"
   },
   {
    "duration": 46,
    "start_time": "2022-01-15T13:50:59.626Z"
   },
   {
    "duration": 696,
    "start_time": "2022-01-15T13:50:59.675Z"
   },
   {
    "duration": 20,
    "start_time": "2022-01-15T13:51:00.373Z"
   },
   {
    "duration": 341,
    "start_time": "2022-01-15T13:51:00.396Z"
   },
   {
    "duration": 39,
    "start_time": "2022-01-15T13:51:00.740Z"
   },
   {
    "duration": 8,
    "start_time": "2022-01-15T13:51:00.781Z"
   },
   {
    "duration": 38,
    "start_time": "2022-01-15T13:51:00.791Z"
   },
   {
    "duration": 615,
    "start_time": "2022-01-15T13:51:00.831Z"
   },
   {
    "duration": 329,
    "start_time": "2022-01-15T13:51:01.448Z"
   },
   {
    "duration": 324,
    "start_time": "2022-01-15T13:51:01.779Z"
   },
   {
    "duration": 441,
    "start_time": "2022-01-15T13:51:02.105Z"
   },
   {
    "duration": 426,
    "start_time": "2022-01-15T13:51:02.548Z"
   },
   {
    "duration": 380,
    "start_time": "2022-01-15T13:51:02.976Z"
   },
   {
    "duration": 28,
    "start_time": "2022-01-15T13:51:03.359Z"
   },
   {
    "duration": 1260,
    "start_time": "2022-01-15T13:51:03.390Z"
   },
   {
    "duration": 11,
    "start_time": "2022-01-15T13:51:04.652Z"
   },
   {
    "duration": 1474,
    "start_time": "2022-01-15T13:51:04.665Z"
   },
   {
    "duration": 14,
    "start_time": "2022-01-15T13:51:06.142Z"
   },
   {
    "duration": 66,
    "start_time": "2022-01-15T13:51:06.159Z"
   },
   {
    "duration": 106,
    "start_time": "2022-01-15T13:51:06.228Z"
   },
   {
    "duration": 1375,
    "start_time": "2022-01-15T13:51:06.336Z"
   },
   {
    "duration": 69,
    "start_time": "2022-01-15T13:51:07.714Z"
   },
   {
    "duration": 1453,
    "start_time": "2022-01-15T13:51:07.786Z"
   },
   {
    "duration": 10,
    "start_time": "2022-01-15T13:51:09.241Z"
   },
   {
    "duration": 18,
    "start_time": "2022-01-15T13:51:09.254Z"
   },
   {
    "duration": 54,
    "start_time": "2022-01-15T13:51:09.274Z"
   },
   {
    "duration": 17,
    "start_time": "2022-01-15T13:51:09.330Z"
   },
   {
    "duration": 5462,
    "start_time": "2022-01-15T13:51:09.349Z"
   },
   {
    "duration": 760,
    "start_time": "2022-01-15T13:51:14.054Z"
   },
   {
    "duration": 757,
    "start_time": "2022-01-15T13:51:14.058Z"
   },
   {
    "duration": 752,
    "start_time": "2022-01-15T13:51:14.064Z"
   },
   {
    "duration": 745,
    "start_time": "2022-01-15T13:51:14.073Z"
   },
   {
    "duration": 4,
    "start_time": "2022-01-15T13:51:55.667Z"
   },
   {
    "duration": 6075,
    "start_time": "2022-01-15T13:52:11.666Z"
   },
   {
    "duration": 12,
    "start_time": "2022-01-15T13:52:35.235Z"
   },
   {
    "duration": 15,
    "start_time": "2022-01-15T13:52:54.897Z"
   },
   {
    "duration": 98,
    "start_time": "2022-01-15T13:54:20.012Z"
   },
   {
    "duration": 176,
    "start_time": "2022-01-15T13:54:32.777Z"
   },
   {
    "duration": 6704,
    "start_time": "2022-01-15T13:54:39.017Z"
   },
   {
    "duration": 39,
    "start_time": "2022-01-15T13:56:41.003Z"
   },
   {
    "duration": 37,
    "start_time": "2022-01-15T13:57:46.930Z"
   },
   {
    "duration": 74,
    "start_time": "2022-01-15T13:57:51.627Z"
   },
   {
    "duration": 38,
    "start_time": "2022-01-15T13:58:05.218Z"
   },
   {
    "duration": 107,
    "start_time": "2022-01-15T13:58:37.610Z"
   },
   {
    "duration": 5,
    "start_time": "2022-01-15T13:59:59.314Z"
   },
   {
    "duration": 276,
    "start_time": "2022-01-15T14:01:01.650Z"
   },
   {
    "duration": 461,
    "start_time": "2022-01-15T14:01:08.914Z"
   },
   {
    "duration": 1038,
    "start_time": "2022-01-15T17:55:54.493Z"
   },
   {
    "duration": 50,
    "start_time": "2022-01-15T17:55:55.533Z"
   },
   {
    "duration": 9,
    "start_time": "2022-01-15T17:55:55.585Z"
   },
   {
    "duration": 29,
    "start_time": "2022-01-15T17:55:55.596Z"
   },
   {
    "duration": 26,
    "start_time": "2022-01-15T17:55:55.627Z"
   },
   {
    "duration": 12,
    "start_time": "2022-01-15T17:55:55.655Z"
   },
   {
    "duration": 14,
    "start_time": "2022-01-15T17:55:55.669Z"
   },
   {
    "duration": 16,
    "start_time": "2022-01-15T17:55:55.686Z"
   },
   {
    "duration": 4,
    "start_time": "2022-01-15T17:55:55.704Z"
   },
   {
    "duration": 47,
    "start_time": "2022-01-15T17:55:55.710Z"
   },
   {
    "duration": 5,
    "start_time": "2022-01-15T17:55:55.759Z"
   },
   {
    "duration": 16,
    "start_time": "2022-01-15T17:55:55.765Z"
   },
   {
    "duration": 17,
    "start_time": "2022-01-15T17:55:55.782Z"
   },
   {
    "duration": 13,
    "start_time": "2022-01-15T17:55:55.800Z"
   },
   {
    "duration": 353,
    "start_time": "2022-01-15T17:55:55.815Z"
   },
   {
    "duration": 5,
    "start_time": "2022-01-15T17:55:56.170Z"
   },
   {
    "duration": 17,
    "start_time": "2022-01-15T17:55:56.177Z"
   },
   {
    "duration": 58,
    "start_time": "2022-01-15T17:55:56.195Z"
   },
   {
    "duration": 31,
    "start_time": "2022-01-15T17:55:56.254Z"
   },
   {
    "duration": 456,
    "start_time": "2022-01-15T17:55:56.286Z"
   },
   {
    "duration": 18,
    "start_time": "2022-01-15T17:55:56.744Z"
   },
   {
    "duration": 213,
    "start_time": "2022-01-15T17:55:56.764Z"
   },
   {
    "duration": 26,
    "start_time": "2022-01-15T17:55:56.980Z"
   },
   {
    "duration": 5,
    "start_time": "2022-01-15T17:55:57.008Z"
   },
   {
    "duration": 30,
    "start_time": "2022-01-15T17:55:57.015Z"
   },
   {
    "duration": 381,
    "start_time": "2022-01-15T17:55:57.046Z"
   },
   {
    "duration": 198,
    "start_time": "2022-01-15T17:55:57.429Z"
   },
   {
    "duration": 191,
    "start_time": "2022-01-15T17:55:57.629Z"
   },
   {
    "duration": 299,
    "start_time": "2022-01-15T17:55:57.822Z"
   },
   {
    "duration": 297,
    "start_time": "2022-01-15T17:55:58.123Z"
   },
   {
    "duration": 196,
    "start_time": "2022-01-15T17:55:58.422Z"
   },
   {
    "duration": 25,
    "start_time": "2022-01-15T17:55:58.620Z"
   },
   {
    "duration": 696,
    "start_time": "2022-01-15T17:55:58.646Z"
   },
   {
    "duration": 7,
    "start_time": "2022-01-15T17:55:59.344Z"
   },
   {
    "duration": 833,
    "start_time": "2022-01-15T17:55:59.353Z"
   },
   {
    "duration": 8,
    "start_time": "2022-01-15T17:56:00.188Z"
   },
   {
    "duration": 36,
    "start_time": "2022-01-15T17:56:00.197Z"
   },
   {
    "duration": 48,
    "start_time": "2022-01-15T17:56:00.234Z"
   },
   {
    "duration": 263,
    "start_time": "2022-01-15T17:56:00.283Z"
   },
   {
    "duration": 39,
    "start_time": "2022-01-15T17:56:00.548Z"
   },
   {
    "duration": 316,
    "start_time": "2022-01-15T17:56:00.589Z"
   },
   {
    "duration": 9,
    "start_time": "2022-01-15T17:56:00.907Z"
   },
   {
    "duration": 28,
    "start_time": "2022-01-15T17:56:00.918Z"
   },
   {
    "duration": 129,
    "start_time": "2022-01-15T17:56:00.948Z"
   },
   {
    "duration": 56,
    "start_time": "2022-01-15T17:56:01.079Z"
   },
   {
    "duration": 568,
    "start_time": "2022-01-15T17:56:01.136Z"
   },
   {
    "duration": 783,
    "start_time": "2022-01-15T17:56:00.923Z"
   },
   {
    "duration": 777,
    "start_time": "2022-01-15T17:56:00.931Z"
   },
   {
    "duration": 775,
    "start_time": "2022-01-15T17:56:00.935Z"
   },
   {
    "duration": 773,
    "start_time": "2022-01-15T17:56:00.938Z"
   },
   {
    "duration": 37,
    "start_time": "2022-01-15T17:58:07.477Z"
   },
   {
    "duration": 184,
    "start_time": "2022-01-15T17:58:10.069Z"
   },
   {
    "duration": 3,
    "start_time": "2022-01-15T18:02:07.548Z"
   },
   {
    "duration": 74,
    "start_time": "2022-01-15T18:02:07.552Z"
   },
   {
    "duration": 9,
    "start_time": "2022-01-15T18:02:07.628Z"
   },
   {
    "duration": 44,
    "start_time": "2022-01-15T18:02:07.638Z"
   },
   {
    "duration": 14,
    "start_time": "2022-01-15T18:02:07.684Z"
   },
   {
    "duration": 37,
    "start_time": "2022-01-15T18:02:07.699Z"
   },
   {
    "duration": 24,
    "start_time": "2022-01-15T18:02:07.738Z"
   },
   {
    "duration": 34,
    "start_time": "2022-01-15T18:02:07.764Z"
   },
   {
    "duration": 27,
    "start_time": "2022-01-15T18:02:07.800Z"
   },
   {
    "duration": 26,
    "start_time": "2022-01-15T18:02:07.828Z"
   },
   {
    "duration": 30,
    "start_time": "2022-01-15T18:02:07.856Z"
   },
   {
    "duration": 30,
    "start_time": "2022-01-15T18:02:07.888Z"
   },
   {
    "duration": 22,
    "start_time": "2022-01-15T18:02:07.920Z"
   },
   {
    "duration": 25,
    "start_time": "2022-01-15T18:02:07.944Z"
   },
   {
    "duration": 351,
    "start_time": "2022-01-15T18:02:07.971Z"
   },
   {
    "duration": 6,
    "start_time": "2022-01-15T18:02:08.323Z"
   },
   {
    "duration": 22,
    "start_time": "2022-01-15T18:02:08.330Z"
   },
   {
    "duration": 43,
    "start_time": "2022-01-15T18:02:08.353Z"
   },
   {
    "duration": 28,
    "start_time": "2022-01-15T18:02:08.398Z"
   },
   {
    "duration": 406,
    "start_time": "2022-01-15T18:02:08.428Z"
   },
   {
    "duration": 13,
    "start_time": "2022-01-15T18:02:08.836Z"
   },
   {
    "duration": 190,
    "start_time": "2022-01-15T18:02:08.851Z"
   },
   {
    "duration": 22,
    "start_time": "2022-01-15T18:02:09.044Z"
   },
   {
    "duration": 20,
    "start_time": "2022-01-15T18:02:09.069Z"
   },
   {
    "duration": 26,
    "start_time": "2022-01-15T18:02:09.090Z"
   },
   {
    "duration": 354,
    "start_time": "2022-01-15T18:02:09.117Z"
   },
   {
    "duration": 189,
    "start_time": "2022-01-15T18:02:09.473Z"
   },
   {
    "duration": 179,
    "start_time": "2022-01-15T18:02:09.664Z"
   },
   {
    "duration": 181,
    "start_time": "2022-01-15T18:02:09.845Z"
   },
   {
    "duration": 180,
    "start_time": "2022-01-15T18:02:10.028Z"
   },
   {
    "duration": 184,
    "start_time": "2022-01-15T18:02:10.210Z"
   },
   {
    "duration": 17,
    "start_time": "2022-01-15T18:02:10.395Z"
   },
   {
    "duration": 917,
    "start_time": "2022-01-15T18:02:10.414Z"
   },
   {
    "duration": 14,
    "start_time": "2022-01-15T18:02:11.332Z"
   },
   {
    "duration": 858,
    "start_time": "2022-01-15T18:02:11.348Z"
   },
   {
    "duration": 12,
    "start_time": "2022-01-15T18:02:12.208Z"
   },
   {
    "duration": 39,
    "start_time": "2022-01-15T18:02:12.222Z"
   },
   {
    "duration": 33,
    "start_time": "2022-01-15T18:02:12.263Z"
   },
   {
    "duration": 252,
    "start_time": "2022-01-15T18:02:12.298Z"
   },
   {
    "duration": 33,
    "start_time": "2022-01-15T18:02:12.551Z"
   },
   {
    "duration": 279,
    "start_time": "2022-01-15T18:02:12.586Z"
   },
   {
    "duration": 6,
    "start_time": "2022-01-15T18:02:12.867Z"
   },
   {
    "duration": 9,
    "start_time": "2022-01-15T18:02:12.875Z"
   },
   {
    "duration": 18,
    "start_time": "2022-01-15T18:02:12.885Z"
   },
   {
    "duration": 9,
    "start_time": "2022-01-15T18:02:12.904Z"
   },
   {
    "duration": 27,
    "start_time": "2022-01-15T18:02:12.914Z"
   },
   {
    "duration": 34,
    "start_time": "2022-01-15T18:02:12.943Z"
   },
   {
    "duration": 200,
    "start_time": "2022-01-15T18:02:12.978Z"
   },
   {
    "duration": 8,
    "start_time": "2022-01-15T18:02:13.180Z"
   },
   {
    "duration": 10,
    "start_time": "2022-01-15T18:02:13.189Z"
   },
   {
    "duration": 22,
    "start_time": "2022-01-15T18:04:00.108Z"
   },
   {
    "duration": 5,
    "start_time": "2022-01-15T18:04:28.965Z"
   },
   {
    "duration": 24,
    "start_time": "2022-01-15T18:05:01.788Z"
   },
   {
    "duration": 10,
    "start_time": "2022-01-15T18:05:28.733Z"
   },
   {
    "duration": 10,
    "start_time": "2022-01-15T18:05:36.005Z"
   },
   {
    "duration": 10,
    "start_time": "2022-01-15T18:05:41.605Z"
   },
   {
    "duration": 4,
    "start_time": "2022-01-15T18:06:34.902Z"
   },
   {
    "duration": 270,
    "start_time": "2022-01-15T18:08:03.213Z"
   },
   {
    "duration": 1085,
    "start_time": "2022-01-15T18:08:09.933Z"
   },
   {
    "duration": 50,
    "start_time": "2022-01-15T18:08:11.020Z"
   },
   {
    "duration": 9,
    "start_time": "2022-01-15T18:08:11.072Z"
   },
   {
    "duration": 26,
    "start_time": "2022-01-15T18:08:11.083Z"
   },
   {
    "duration": 31,
    "start_time": "2022-01-15T18:08:11.111Z"
   },
   {
    "duration": 11,
    "start_time": "2022-01-15T18:08:11.144Z"
   },
   {
    "duration": 12,
    "start_time": "2022-01-15T18:08:11.156Z"
   },
   {
    "duration": 15,
    "start_time": "2022-01-15T18:08:11.170Z"
   },
   {
    "duration": 4,
    "start_time": "2022-01-15T18:08:11.187Z"
   },
   {
    "duration": 24,
    "start_time": "2022-01-15T18:08:11.192Z"
   },
   {
    "duration": 25,
    "start_time": "2022-01-15T18:08:11.218Z"
   },
   {
    "duration": 14,
    "start_time": "2022-01-15T18:08:11.245Z"
   },
   {
    "duration": 14,
    "start_time": "2022-01-15T18:08:11.261Z"
   },
   {
    "duration": 14,
    "start_time": "2022-01-15T18:08:11.276Z"
   },
   {
    "duration": 339,
    "start_time": "2022-01-15T18:08:11.292Z"
   },
   {
    "duration": 13,
    "start_time": "2022-01-15T18:08:11.632Z"
   },
   {
    "duration": 15,
    "start_time": "2022-01-15T18:08:11.646Z"
   },
   {
    "duration": 35,
    "start_time": "2022-01-15T18:08:11.663Z"
   },
   {
    "duration": 49,
    "start_time": "2022-01-15T18:08:11.699Z"
   },
   {
    "duration": 405,
    "start_time": "2022-01-15T18:08:11.750Z"
   },
   {
    "duration": 17,
    "start_time": "2022-01-15T18:08:12.158Z"
   },
   {
    "duration": 211,
    "start_time": "2022-01-15T18:08:12.177Z"
   },
   {
    "duration": 23,
    "start_time": "2022-01-15T18:08:12.392Z"
   },
   {
    "duration": 5,
    "start_time": "2022-01-15T18:08:12.417Z"
   },
   {
    "duration": 23,
    "start_time": "2022-01-15T18:08:12.423Z"
   },
   {
    "duration": 360,
    "start_time": "2022-01-15T18:08:12.448Z"
   },
   {
    "duration": 199,
    "start_time": "2022-01-15T18:08:12.810Z"
   },
   {
    "duration": 192,
    "start_time": "2022-01-15T18:08:13.011Z"
   },
   {
    "duration": 184,
    "start_time": "2022-01-15T18:08:13.204Z"
   },
   {
    "duration": 266,
    "start_time": "2022-01-15T18:08:13.390Z"
   },
   {
    "duration": 190,
    "start_time": "2022-01-15T18:08:13.658Z"
   },
   {
    "duration": 17,
    "start_time": "2022-01-15T18:08:13.850Z"
   },
   {
    "duration": 749,
    "start_time": "2022-01-15T18:08:13.868Z"
   },
   {
    "duration": 7,
    "start_time": "2022-01-15T18:08:14.619Z"
   },
   {
    "duration": 793,
    "start_time": "2022-01-15T18:08:14.627Z"
   },
   {
    "duration": 8,
    "start_time": "2022-01-15T18:08:15.422Z"
   },
   {
    "duration": 23,
    "start_time": "2022-01-15T18:08:15.441Z"
   },
   {
    "duration": 34,
    "start_time": "2022-01-15T18:08:15.466Z"
   },
   {
    "duration": 269,
    "start_time": "2022-01-15T18:08:15.502Z"
   },
   {
    "duration": 37,
    "start_time": "2022-01-15T18:08:15.773Z"
   },
   {
    "duration": 299,
    "start_time": "2022-01-15T18:08:15.812Z"
   },
   {
    "duration": 8,
    "start_time": "2022-01-15T18:08:16.113Z"
   },
   {
    "duration": 24,
    "start_time": "2022-01-15T18:08:16.122Z"
   },
   {
    "duration": 121,
    "start_time": "2022-01-15T18:08:16.148Z"
   },
   {
    "duration": 9,
    "start_time": "2022-01-15T18:08:16.271Z"
   },
   {
    "duration": 6,
    "start_time": "2022-01-15T18:08:16.282Z"
   },
   {
    "duration": 9,
    "start_time": "2022-01-15T18:08:16.290Z"
   },
   {
    "duration": 53,
    "start_time": "2022-01-15T18:08:16.301Z"
   },
   {
    "duration": 222,
    "start_time": "2022-01-15T18:08:16.355Z"
   },
   {
    "duration": 8,
    "start_time": "2022-01-15T18:08:16.579Z"
   },
   {
    "duration": 29,
    "start_time": "2022-01-15T18:08:16.589Z"
   },
   {
    "duration": 7,
    "start_time": "2022-01-15T18:08:53.716Z"
   },
   {
    "duration": 3,
    "start_time": "2022-01-15T18:09:51.859Z"
   },
   {
    "duration": 54,
    "start_time": "2022-01-15T18:09:51.864Z"
   },
   {
    "duration": 9,
    "start_time": "2022-01-15T18:09:51.920Z"
   },
   {
    "duration": 30,
    "start_time": "2022-01-15T18:09:51.931Z"
   },
   {
    "duration": 14,
    "start_time": "2022-01-15T18:09:51.963Z"
   },
   {
    "duration": 7,
    "start_time": "2022-01-15T18:09:51.978Z"
   },
   {
    "duration": 26,
    "start_time": "2022-01-15T18:09:51.986Z"
   },
   {
    "duration": 42,
    "start_time": "2022-01-15T18:09:52.015Z"
   },
   {
    "duration": 5,
    "start_time": "2022-01-15T18:09:52.060Z"
   },
   {
    "duration": 26,
    "start_time": "2022-01-15T18:09:52.067Z"
   },
   {
    "duration": 11,
    "start_time": "2022-01-15T18:09:52.095Z"
   },
   {
    "duration": 31,
    "start_time": "2022-01-15T18:09:52.108Z"
   },
   {
    "duration": 15,
    "start_time": "2022-01-15T18:09:52.140Z"
   },
   {
    "duration": 15,
    "start_time": "2022-01-15T18:09:52.157Z"
   },
   {
    "duration": 351,
    "start_time": "2022-01-15T18:09:52.174Z"
   },
   {
    "duration": 6,
    "start_time": "2022-01-15T18:09:52.527Z"
   },
   {
    "duration": 21,
    "start_time": "2022-01-15T18:09:52.534Z"
   },
   {
    "duration": 40,
    "start_time": "2022-01-15T18:09:52.557Z"
   },
   {
    "duration": 28,
    "start_time": "2022-01-15T18:09:52.599Z"
   },
   {
    "duration": 437,
    "start_time": "2022-01-15T18:09:52.629Z"
   },
   {
    "duration": 16,
    "start_time": "2022-01-15T18:09:53.068Z"
   },
   {
    "duration": 295,
    "start_time": "2022-01-15T18:09:53.086Z"
   },
   {
    "duration": 74,
    "start_time": "2022-01-15T18:09:53.385Z"
   },
   {
    "duration": 6,
    "start_time": "2022-01-15T18:09:53.462Z"
   },
   {
    "duration": 9,
    "start_time": "2022-01-15T18:09:53.470Z"
   },
   {
    "duration": 430,
    "start_time": "2022-01-15T18:09:53.480Z"
   },
   {
    "duration": 188,
    "start_time": "2022-01-15T18:09:53.912Z"
   },
   {
    "duration": 181,
    "start_time": "2022-01-15T18:09:54.101Z"
   },
   {
    "duration": 180,
    "start_time": "2022-01-15T18:09:54.284Z"
   },
   {
    "duration": 184,
    "start_time": "2022-01-15T18:09:54.466Z"
   },
   {
    "duration": 180,
    "start_time": "2022-01-15T18:09:54.651Z"
   },
   {
    "duration": 20,
    "start_time": "2022-01-15T18:09:54.832Z"
   },
   {
    "duration": 777,
    "start_time": "2022-01-15T18:09:54.854Z"
   },
   {
    "duration": 13,
    "start_time": "2022-01-15T18:09:55.633Z"
   },
   {
    "duration": 751,
    "start_time": "2022-01-15T18:09:55.648Z"
   },
   {
    "duration": 8,
    "start_time": "2022-01-15T18:09:56.401Z"
   },
   {
    "duration": 37,
    "start_time": "2022-01-15T18:09:56.411Z"
   },
   {
    "duration": 53,
    "start_time": "2022-01-15T18:09:56.449Z"
   },
   {
    "duration": 407,
    "start_time": "2022-01-15T18:09:56.504Z"
   },
   {
    "duration": 63,
    "start_time": "2022-01-15T18:09:56.913Z"
   },
   {
    "duration": 469,
    "start_time": "2022-01-15T18:09:56.978Z"
   },
   {
    "duration": 10,
    "start_time": "2022-01-15T18:09:57.449Z"
   },
   {
    "duration": 20,
    "start_time": "2022-01-15T18:09:57.461Z"
   },
   {
    "duration": 29,
    "start_time": "2022-01-15T18:09:57.483Z"
   },
   {
    "duration": 28,
    "start_time": "2022-01-15T18:09:57.514Z"
   },
   {
    "duration": 4,
    "start_time": "2022-01-15T18:09:57.544Z"
   },
   {
    "duration": 12,
    "start_time": "2022-01-15T18:09:57.549Z"
   },
   {
    "duration": 34,
    "start_time": "2022-01-15T18:09:57.563Z"
   },
   {
    "duration": 227,
    "start_time": "2022-01-15T18:09:57.598Z"
   },
   {
    "duration": 14,
    "start_time": "2022-01-15T18:09:57.827Z"
   },
   {
    "duration": 9,
    "start_time": "2022-01-15T18:09:57.843Z"
   },
   {
    "duration": 446,
    "start_time": "2022-01-15T18:10:12.531Z"
   },
   {
    "duration": 5240,
    "start_time": "2022-01-15T18:10:58.516Z"
   },
   {
    "duration": 7,
    "start_time": "2022-01-15T18:11:16.387Z"
   },
   {
    "duration": 10,
    "start_time": "2022-01-15T18:11:39.619Z"
   },
   {
    "duration": 9,
    "start_time": "2022-01-15T18:11:46.587Z"
   },
   {
    "duration": 10,
    "start_time": "2022-01-15T18:11:49.883Z"
   },
   {
    "duration": 11,
    "start_time": "2022-01-15T18:11:52.067Z"
   },
   {
    "duration": 16,
    "start_time": "2022-01-15T18:12:25.356Z"
   },
   {
    "duration": 5,
    "start_time": "2022-01-15T18:13:02.172Z"
   },
   {
    "duration": 5,
    "start_time": "2022-01-15T18:13:20.907Z"
   },
   {
    "duration": 43,
    "start_time": "2022-01-15T18:13:29.836Z"
   },
   {
    "duration": 5,
    "start_time": "2022-01-15T18:14:02.339Z"
   },
   {
    "duration": 3,
    "start_time": "2022-01-15T18:14:07.190Z"
   },
   {
    "duration": 53,
    "start_time": "2022-01-15T18:14:07.195Z"
   },
   {
    "duration": 9,
    "start_time": "2022-01-15T18:14:07.250Z"
   },
   {
    "duration": 27,
    "start_time": "2022-01-15T18:14:07.261Z"
   },
   {
    "duration": 13,
    "start_time": "2022-01-15T18:14:07.289Z"
   },
   {
    "duration": 7,
    "start_time": "2022-01-15T18:14:07.342Z"
   },
   {
    "duration": 15,
    "start_time": "2022-01-15T18:14:07.351Z"
   },
   {
    "duration": 16,
    "start_time": "2022-01-15T18:14:07.368Z"
   },
   {
    "duration": 5,
    "start_time": "2022-01-15T18:14:07.387Z"
   },
   {
    "duration": 61,
    "start_time": "2022-01-15T18:14:07.394Z"
   },
   {
    "duration": 6,
    "start_time": "2022-01-15T18:14:07.457Z"
   },
   {
    "duration": 23,
    "start_time": "2022-01-15T18:14:07.465Z"
   },
   {
    "duration": 22,
    "start_time": "2022-01-15T18:14:07.489Z"
   },
   {
    "duration": 40,
    "start_time": "2022-01-15T18:14:07.513Z"
   },
   {
    "duration": 540,
    "start_time": "2022-01-15T18:14:07.555Z"
   },
   {
    "duration": 8,
    "start_time": "2022-01-15T18:14:08.097Z"
   },
   {
    "duration": 35,
    "start_time": "2022-01-15T18:14:08.107Z"
   },
   {
    "duration": 55,
    "start_time": "2022-01-15T18:14:08.144Z"
   },
   {
    "duration": 49,
    "start_time": "2022-01-15T18:14:08.201Z"
   },
   {
    "duration": 394,
    "start_time": "2022-01-15T18:14:08.252Z"
   },
   {
    "duration": 15,
    "start_time": "2022-01-15T18:14:08.647Z"
   },
   {
    "duration": 329,
    "start_time": "2022-01-15T18:14:08.663Z"
   },
   {
    "duration": 25,
    "start_time": "2022-01-15T18:14:08.995Z"
   },
   {
    "duration": 21,
    "start_time": "2022-01-15T18:14:09.022Z"
   },
   {
    "duration": 8,
    "start_time": "2022-01-15T18:14:09.045Z"
   },
   {
    "duration": 367,
    "start_time": "2022-01-15T18:14:09.054Z"
   },
   {
    "duration": 198,
    "start_time": "2022-01-15T18:14:09.423Z"
   },
   {
    "duration": 188,
    "start_time": "2022-01-15T18:14:09.623Z"
   },
   {
    "duration": 187,
    "start_time": "2022-01-15T18:14:09.813Z"
   },
   {
    "duration": 200,
    "start_time": "2022-01-15T18:14:10.001Z"
   },
   {
    "duration": 198,
    "start_time": "2022-01-15T18:14:10.202Z"
   },
   {
    "duration": 15,
    "start_time": "2022-01-15T18:14:10.402Z"
   },
   {
    "duration": 700,
    "start_time": "2022-01-15T18:14:10.419Z"
   },
   {
    "duration": 10,
    "start_time": "2022-01-15T18:14:11.121Z"
   },
   {
    "duration": 1226,
    "start_time": "2022-01-15T18:14:11.133Z"
   },
   {
    "duration": 10,
    "start_time": "2022-01-15T18:14:12.361Z"
   },
   {
    "duration": 41,
    "start_time": "2022-01-15T18:14:12.373Z"
   },
   {
    "duration": 66,
    "start_time": "2022-01-15T18:14:12.416Z"
   },
   {
    "duration": 404,
    "start_time": "2022-01-15T18:14:12.484Z"
   },
   {
    "duration": 67,
    "start_time": "2022-01-15T18:14:12.890Z"
   },
   {
    "duration": 382,
    "start_time": "2022-01-15T18:14:12.959Z"
   },
   {
    "duration": 10,
    "start_time": "2022-01-15T18:14:13.343Z"
   },
   {
    "duration": 20,
    "start_time": "2022-01-15T18:14:13.356Z"
   },
   {
    "duration": 40,
    "start_time": "2022-01-15T18:14:13.378Z"
   },
   {
    "duration": 265,
    "start_time": "2022-01-15T18:14:13.421Z"
   },
   {
    "duration": 14,
    "start_time": "2022-01-15T18:14:13.688Z"
   },
   {
    "duration": 55,
    "start_time": "2022-01-15T18:14:13.704Z"
   },
   {
    "duration": 12,
    "start_time": "2022-01-15T18:14:13.762Z"
   },
   {
    "duration": 37,
    "start_time": "2022-01-15T18:14:13.776Z"
   },
   {
    "duration": 202,
    "start_time": "2022-01-15T18:14:13.814Z"
   },
   {
    "duration": 9,
    "start_time": "2022-01-15T18:14:14.018Z"
   },
   {
    "duration": 18,
    "start_time": "2022-01-15T18:14:14.028Z"
   },
   {
    "duration": 22,
    "start_time": "2022-01-15T18:14:43.082Z"
   },
   {
    "duration": 272,
    "start_time": "2022-01-15T18:15:58.139Z"
   },
   {
    "duration": 81,
    "start_time": "2022-01-15T18:17:08.980Z"
   },
   {
    "duration": 24,
    "start_time": "2022-01-15T18:17:50.906Z"
   },
   {
    "duration": 12,
    "start_time": "2022-01-15T18:19:06.803Z"
   },
   {
    "duration": 3,
    "start_time": "2022-01-15T18:22:15.762Z"
   },
   {
    "duration": 98,
    "start_time": "2022-01-15T18:22:15.766Z"
   },
   {
    "duration": 8,
    "start_time": "2022-01-15T18:22:15.866Z"
   },
   {
    "duration": 40,
    "start_time": "2022-01-15T18:22:15.876Z"
   },
   {
    "duration": 23,
    "start_time": "2022-01-15T18:22:15.918Z"
   },
   {
    "duration": 14,
    "start_time": "2022-01-15T18:22:15.943Z"
   },
   {
    "duration": 24,
    "start_time": "2022-01-15T18:22:15.958Z"
   },
   {
    "duration": 29,
    "start_time": "2022-01-15T18:22:15.985Z"
   },
   {
    "duration": 14,
    "start_time": "2022-01-15T18:22:16.016Z"
   },
   {
    "duration": 38,
    "start_time": "2022-01-15T18:22:16.031Z"
   },
   {
    "duration": 9,
    "start_time": "2022-01-15T18:22:16.070Z"
   },
   {
    "duration": 18,
    "start_time": "2022-01-15T18:22:16.080Z"
   },
   {
    "duration": 14,
    "start_time": "2022-01-15T18:22:16.099Z"
   },
   {
    "duration": 16,
    "start_time": "2022-01-15T18:22:16.115Z"
   },
   {
    "duration": 325,
    "start_time": "2022-01-15T18:22:16.133Z"
   },
   {
    "duration": 6,
    "start_time": "2022-01-15T18:22:16.460Z"
   },
   {
    "duration": 14,
    "start_time": "2022-01-15T18:22:16.468Z"
   },
   {
    "duration": 58,
    "start_time": "2022-01-15T18:22:16.484Z"
   },
   {
    "duration": 29,
    "start_time": "2022-01-15T18:22:16.544Z"
   },
   {
    "duration": 402,
    "start_time": "2022-01-15T18:22:16.575Z"
   },
   {
    "duration": 12,
    "start_time": "2022-01-15T18:22:16.979Z"
   },
   {
    "duration": 189,
    "start_time": "2022-01-15T18:22:16.992Z"
   },
   {
    "duration": 24,
    "start_time": "2022-01-15T18:22:17.184Z"
   },
   {
    "duration": 6,
    "start_time": "2022-01-15T18:22:17.210Z"
   },
   {
    "duration": 32,
    "start_time": "2022-01-15T18:22:17.218Z"
   },
   {
    "duration": 365,
    "start_time": "2022-01-15T18:22:17.252Z"
   },
   {
    "duration": 198,
    "start_time": "2022-01-15T18:22:17.619Z"
   },
   {
    "duration": 181,
    "start_time": "2022-01-15T18:22:17.820Z"
   },
   {
    "duration": 204,
    "start_time": "2022-01-15T18:22:18.002Z"
   },
   {
    "duration": 185,
    "start_time": "2022-01-15T18:22:18.207Z"
   },
   {
    "duration": 192,
    "start_time": "2022-01-15T18:22:18.394Z"
   },
   {
    "duration": 16,
    "start_time": "2022-01-15T18:22:18.588Z"
   },
   {
    "duration": 739,
    "start_time": "2022-01-15T18:22:18.605Z"
   },
   {
    "duration": 8,
    "start_time": "2022-01-15T18:22:19.345Z"
   },
   {
    "duration": 851,
    "start_time": "2022-01-15T18:22:19.355Z"
   },
   {
    "duration": 8,
    "start_time": "2022-01-15T18:22:20.207Z"
   },
   {
    "duration": 34,
    "start_time": "2022-01-15T18:22:20.216Z"
   },
   {
    "duration": 37,
    "start_time": "2022-01-15T18:22:20.252Z"
   },
   {
    "duration": 264,
    "start_time": "2022-01-15T18:22:20.291Z"
   },
   {
    "duration": 41,
    "start_time": "2022-01-15T18:22:20.557Z"
   },
   {
    "duration": 407,
    "start_time": "2022-01-15T18:22:20.600Z"
   },
   {
    "duration": 8,
    "start_time": "2022-01-15T18:22:21.009Z"
   },
   {
    "duration": 25,
    "start_time": "2022-01-15T18:22:21.018Z"
   },
   {
    "duration": 226,
    "start_time": "2022-01-15T18:22:21.044Z"
   },
   {
    "duration": 12,
    "start_time": "2022-01-15T18:22:21.272Z"
   },
   {
    "duration": 12,
    "start_time": "2022-01-15T18:22:21.285Z"
   },
   {
    "duration": 6,
    "start_time": "2022-01-15T18:22:21.298Z"
   },
   {
    "duration": 36,
    "start_time": "2022-01-15T18:22:21.306Z"
   },
   {
    "duration": 37,
    "start_time": "2022-01-15T18:22:21.344Z"
   },
   {
    "duration": 228,
    "start_time": "2022-01-15T18:22:21.383Z"
   },
   {
    "duration": 9,
    "start_time": "2022-01-15T18:22:21.613Z"
   },
   {
    "duration": 22,
    "start_time": "2022-01-15T18:22:21.624Z"
   },
   {
    "duration": 9,
    "start_time": "2022-01-15T18:22:59.010Z"
   },
   {
    "duration": 1024,
    "start_time": "2022-01-16T08:17:39.574Z"
   },
   {
    "duration": 48,
    "start_time": "2022-01-16T08:17:40.600Z"
   },
   {
    "duration": 10,
    "start_time": "2022-01-16T08:17:40.650Z"
   },
   {
    "duration": 41,
    "start_time": "2022-01-16T08:17:40.662Z"
   },
   {
    "duration": 15,
    "start_time": "2022-01-16T08:17:40.704Z"
   },
   {
    "duration": 8,
    "start_time": "2022-01-16T08:17:40.720Z"
   },
   {
    "duration": 16,
    "start_time": "2022-01-16T08:17:40.730Z"
   },
   {
    "duration": 44,
    "start_time": "2022-01-16T08:17:40.748Z"
   },
   {
    "duration": 4,
    "start_time": "2022-01-16T08:17:40.794Z"
   },
   {
    "duration": 25,
    "start_time": "2022-01-16T08:17:40.799Z"
   },
   {
    "duration": 5,
    "start_time": "2022-01-16T08:17:40.825Z"
   },
   {
    "duration": 18,
    "start_time": "2022-01-16T08:17:40.831Z"
   },
   {
    "duration": 47,
    "start_time": "2022-01-16T08:17:40.850Z"
   },
   {
    "duration": 14,
    "start_time": "2022-01-16T08:17:40.899Z"
   },
   {
    "duration": 378,
    "start_time": "2022-01-16T08:17:40.915Z"
   },
   {
    "duration": 6,
    "start_time": "2022-01-16T08:17:41.294Z"
   },
   {
    "duration": 16,
    "start_time": "2022-01-16T08:17:41.301Z"
   },
   {
    "duration": 36,
    "start_time": "2022-01-16T08:17:41.319Z"
   },
   {
    "duration": 60,
    "start_time": "2022-01-16T08:17:41.357Z"
   },
   {
    "duration": 465,
    "start_time": "2022-01-16T08:17:41.418Z"
   },
   {
    "duration": 15,
    "start_time": "2022-01-16T08:17:41.891Z"
   },
   {
    "duration": 214,
    "start_time": "2022-01-16T08:17:41.907Z"
   },
   {
    "duration": 26,
    "start_time": "2022-01-16T08:17:42.125Z"
   },
   {
    "duration": 5,
    "start_time": "2022-01-16T08:17:42.153Z"
   },
   {
    "duration": 29,
    "start_time": "2022-01-16T08:17:42.160Z"
   },
   {
    "duration": 394,
    "start_time": "2022-01-16T08:17:42.191Z"
   },
   {
    "duration": 215,
    "start_time": "2022-01-16T08:17:42.592Z"
   },
   {
    "duration": 214,
    "start_time": "2022-01-16T08:17:42.809Z"
   },
   {
    "duration": 213,
    "start_time": "2022-01-16T08:17:43.024Z"
   },
   {
    "duration": 257,
    "start_time": "2022-01-16T08:17:43.238Z"
   },
   {
    "duration": 205,
    "start_time": "2022-01-16T08:17:43.497Z"
   },
   {
    "duration": 17,
    "start_time": "2022-01-16T08:17:43.704Z"
   },
   {
    "duration": 849,
    "start_time": "2022-01-16T08:17:43.722Z"
   },
   {
    "duration": 8,
    "start_time": "2022-01-16T08:17:44.573Z"
   },
   {
    "duration": 935,
    "start_time": "2022-01-16T08:17:44.582Z"
   },
   {
    "duration": 9,
    "start_time": "2022-01-16T08:17:45.519Z"
   },
   {
    "duration": 24,
    "start_time": "2022-01-16T08:17:45.529Z"
   },
   {
    "duration": 67,
    "start_time": "2022-01-16T08:17:45.555Z"
   },
   {
    "duration": 278,
    "start_time": "2022-01-16T08:17:45.624Z"
   },
   {
    "duration": 39,
    "start_time": "2022-01-16T08:17:45.903Z"
   },
   {
    "duration": 332,
    "start_time": "2022-01-16T08:17:45.943Z"
   },
   {
    "duration": 16,
    "start_time": "2022-01-16T08:17:46.277Z"
   },
   {
    "duration": 16,
    "start_time": "2022-01-16T08:17:46.294Z"
   },
   {
    "duration": 113,
    "start_time": "2022-01-16T08:17:46.312Z"
   },
   {
    "duration": 10,
    "start_time": "2022-01-16T08:17:46.427Z"
   },
   {
    "duration": 5,
    "start_time": "2022-01-16T08:17:46.439Z"
   },
   {
    "duration": 9,
    "start_time": "2022-01-16T08:17:46.446Z"
   },
   {
    "duration": 48,
    "start_time": "2022-01-16T08:17:46.457Z"
   },
   {
    "duration": 36,
    "start_time": "2022-01-16T08:17:46.507Z"
   },
   {
    "duration": 246,
    "start_time": "2022-01-16T08:17:46.545Z"
   },
   {
    "duration": 9,
    "start_time": "2022-01-16T08:17:46.793Z"
   },
   {
    "duration": 12,
    "start_time": "2022-01-16T08:17:46.804Z"
   },
   {
    "duration": 1150,
    "start_time": "2022-01-16T08:41:19.676Z"
   },
   {
    "duration": 51,
    "start_time": "2022-01-16T08:41:20.828Z"
   },
   {
    "duration": 12,
    "start_time": "2022-01-16T08:41:20.881Z"
   },
   {
    "duration": 30,
    "start_time": "2022-01-16T08:41:20.894Z"
   },
   {
    "duration": 16,
    "start_time": "2022-01-16T08:41:20.926Z"
   },
   {
    "duration": 9,
    "start_time": "2022-01-16T08:41:20.943Z"
   },
   {
    "duration": 43,
    "start_time": "2022-01-16T08:41:20.953Z"
   },
   {
    "duration": 17,
    "start_time": "2022-01-16T08:41:20.999Z"
   },
   {
    "duration": 6,
    "start_time": "2022-01-16T08:41:21.018Z"
   },
   {
    "duration": 25,
    "start_time": "2022-01-16T08:41:21.025Z"
   },
   {
    "duration": 5,
    "start_time": "2022-01-16T08:41:21.052Z"
   },
   {
    "duration": 45,
    "start_time": "2022-01-16T08:41:21.059Z"
   },
   {
    "duration": 16,
    "start_time": "2022-01-16T08:41:21.106Z"
   },
   {
    "duration": 16,
    "start_time": "2022-01-16T08:41:21.124Z"
   },
   {
    "duration": 412,
    "start_time": "2022-01-16T08:41:21.141Z"
   },
   {
    "duration": 6,
    "start_time": "2022-01-16T08:41:21.555Z"
   },
   {
    "duration": 28,
    "start_time": "2022-01-16T08:41:21.563Z"
   },
   {
    "duration": 40,
    "start_time": "2022-01-16T08:41:21.593Z"
   },
   {
    "duration": 42,
    "start_time": "2022-01-16T08:41:21.636Z"
   },
   {
    "duration": 448,
    "start_time": "2022-01-16T08:41:21.691Z"
   },
   {
    "duration": 15,
    "start_time": "2022-01-16T08:41:22.140Z"
   },
   {
    "duration": 212,
    "start_time": "2022-01-16T08:41:22.157Z"
   },
   {
    "duration": 32,
    "start_time": "2022-01-16T08:41:22.372Z"
   },
   {
    "duration": 6,
    "start_time": "2022-01-16T08:41:22.406Z"
   },
   {
    "duration": 19,
    "start_time": "2022-01-16T08:41:22.413Z"
   },
   {
    "duration": 431,
    "start_time": "2022-01-16T08:41:22.433Z"
   },
   {
    "duration": 215,
    "start_time": "2022-01-16T08:41:22.866Z"
   },
   {
    "duration": 215,
    "start_time": "2022-01-16T08:41:23.083Z"
   },
   {
    "duration": 209,
    "start_time": "2022-01-16T08:41:23.300Z"
   },
   {
    "duration": 263,
    "start_time": "2022-01-16T08:41:23.511Z"
   },
   {
    "duration": 217,
    "start_time": "2022-01-16T08:41:23.776Z"
   },
   {
    "duration": 17,
    "start_time": "2022-01-16T08:41:23.995Z"
   },
   {
    "duration": 822,
    "start_time": "2022-01-16T08:41:24.014Z"
   },
   {
    "duration": 8,
    "start_time": "2022-01-16T08:41:24.838Z"
   },
   {
    "duration": 966,
    "start_time": "2022-01-16T08:41:24.848Z"
   },
   {
    "duration": 9,
    "start_time": "2022-01-16T08:41:25.816Z"
   },
   {
    "duration": 30,
    "start_time": "2022-01-16T08:41:25.827Z"
   },
   {
    "duration": 55,
    "start_time": "2022-01-16T08:41:25.859Z"
   },
   {
    "duration": 282,
    "start_time": "2022-01-16T08:41:25.916Z"
   },
   {
    "duration": 39,
    "start_time": "2022-01-16T08:41:26.200Z"
   },
   {
    "duration": 334,
    "start_time": "2022-01-16T08:41:26.241Z"
   },
   {
    "duration": 7,
    "start_time": "2022-01-16T08:41:26.577Z"
   },
   {
    "duration": 41,
    "start_time": "2022-01-16T08:41:26.586Z"
   },
   {
    "duration": 118,
    "start_time": "2022-01-16T08:41:26.628Z"
   },
   {
    "duration": 11,
    "start_time": "2022-01-16T08:41:26.748Z"
   },
   {
    "duration": 23,
    "start_time": "2022-01-16T08:41:26.760Z"
   },
   {
    "duration": 26,
    "start_time": "2022-01-16T08:41:26.784Z"
   },
   {
    "duration": 46,
    "start_time": "2022-01-16T08:41:26.812Z"
   },
   {
    "duration": 39,
    "start_time": "2022-01-16T08:41:26.859Z"
   },
   {
    "duration": 229,
    "start_time": "2022-01-16T08:41:26.900Z"
   },
   {
    "duration": 9,
    "start_time": "2022-01-16T08:41:27.130Z"
   },
   {
    "duration": 33,
    "start_time": "2022-01-16T08:41:27.140Z"
   },
   {
    "duration": 9,
    "start_time": "2022-01-16T08:41:30.571Z"
   },
   {
    "duration": 9,
    "start_time": "2022-01-16T08:41:48.723Z"
   },
   {
    "duration": 3,
    "start_time": "2022-01-16T08:42:03.255Z"
   },
   {
    "duration": 9,
    "start_time": "2022-01-16T08:42:08.744Z"
   },
   {
    "duration": 3,
    "start_time": "2022-01-16T08:42:12.486Z"
   },
   {
    "duration": 50,
    "start_time": "2022-01-16T08:42:36.115Z"
   },
   {
    "duration": 4,
    "start_time": "2022-01-16T08:43:17.042Z"
   },
   {
    "duration": 8,
    "start_time": "2022-01-16T08:43:22.429Z"
   },
   {
    "duration": 5,
    "start_time": "2022-01-16T08:43:36.192Z"
   },
   {
    "duration": 5,
    "start_time": "2022-01-16T08:43:39.016Z"
   },
   {
    "duration": 4,
    "start_time": "2022-01-16T08:43:40.803Z"
   },
   {
    "duration": 8,
    "start_time": "2022-01-16T08:43:41.283Z"
   },
   {
    "duration": 1084,
    "start_time": "2022-01-16T08:44:26.086Z"
   },
   {
    "duration": 50,
    "start_time": "2022-01-16T08:44:27.172Z"
   },
   {
    "duration": 10,
    "start_time": "2022-01-16T08:44:27.224Z"
   },
   {
    "duration": 29,
    "start_time": "2022-01-16T08:44:27.236Z"
   },
   {
    "duration": 34,
    "start_time": "2022-01-16T08:44:27.267Z"
   },
   {
    "duration": 9,
    "start_time": "2022-01-16T08:44:27.303Z"
   },
   {
    "duration": 15,
    "start_time": "2022-01-16T08:44:27.314Z"
   },
   {
    "duration": 20,
    "start_time": "2022-01-16T08:44:27.332Z"
   },
   {
    "duration": 5,
    "start_time": "2022-01-16T08:44:27.354Z"
   },
   {
    "duration": 42,
    "start_time": "2022-01-16T08:44:27.361Z"
   },
   {
    "duration": 4,
    "start_time": "2022-01-16T08:44:27.405Z"
   },
   {
    "duration": 15,
    "start_time": "2022-01-16T08:44:27.411Z"
   },
   {
    "duration": 15,
    "start_time": "2022-01-16T08:44:27.428Z"
   },
   {
    "duration": 14,
    "start_time": "2022-01-16T08:44:27.445Z"
   },
   {
    "duration": 387,
    "start_time": "2022-01-16T08:44:27.461Z"
   },
   {
    "duration": 6,
    "start_time": "2022-01-16T08:44:27.850Z"
   },
   {
    "duration": 16,
    "start_time": "2022-01-16T08:44:27.858Z"
   },
   {
    "duration": 51,
    "start_time": "2022-01-16T08:44:27.876Z"
   },
   {
    "duration": 30,
    "start_time": "2022-01-16T08:44:27.929Z"
   },
   {
    "duration": 449,
    "start_time": "2022-01-16T08:44:27.961Z"
   },
   {
    "duration": 14,
    "start_time": "2022-01-16T08:44:28.411Z"
   },
   {
    "duration": 210,
    "start_time": "2022-01-16T08:44:28.427Z"
   },
   {
    "duration": 25,
    "start_time": "2022-01-16T08:44:28.640Z"
   },
   {
    "duration": 5,
    "start_time": "2022-01-16T08:44:28.667Z"
   },
   {
    "duration": 7,
    "start_time": "2022-01-16T08:44:28.691Z"
   },
   {
    "duration": 391,
    "start_time": "2022-01-16T08:44:28.699Z"
   },
   {
    "duration": 208,
    "start_time": "2022-01-16T08:44:29.091Z"
   },
   {
    "duration": 205,
    "start_time": "2022-01-16T08:44:29.301Z"
   },
   {
    "duration": 198,
    "start_time": "2022-01-16T08:44:29.507Z"
   },
   {
    "duration": 263,
    "start_time": "2022-01-16T08:44:29.707Z"
   },
   {
    "duration": 221,
    "start_time": "2022-01-16T08:44:29.972Z"
   },
   {
    "duration": 16,
    "start_time": "2022-01-16T08:44:30.195Z"
   },
   {
    "duration": 810,
    "start_time": "2022-01-16T08:44:30.213Z"
   },
   {
    "duration": 9,
    "start_time": "2022-01-16T08:44:31.024Z"
   },
   {
    "duration": 875,
    "start_time": "2022-01-16T08:44:31.034Z"
   },
   {
    "duration": 8,
    "start_time": "2022-01-16T08:44:31.911Z"
   },
   {
    "duration": 25,
    "start_time": "2022-01-16T08:44:31.921Z"
   },
   {
    "duration": 57,
    "start_time": "2022-01-16T08:44:31.947Z"
   },
   {
    "duration": 270,
    "start_time": "2022-01-16T08:44:32.006Z"
   },
   {
    "duration": 43,
    "start_time": "2022-01-16T08:44:32.277Z"
   },
   {
    "duration": 313,
    "start_time": "2022-01-16T08:44:32.322Z"
   },
   {
    "duration": 7,
    "start_time": "2022-01-16T08:44:32.636Z"
   },
   {
    "duration": 12,
    "start_time": "2022-01-16T08:44:32.645Z"
   },
   {
    "duration": 123,
    "start_time": "2022-01-16T08:44:32.659Z"
   },
   {
    "duration": 14,
    "start_time": "2022-01-16T08:44:32.783Z"
   },
   {
    "duration": 4,
    "start_time": "2022-01-16T08:44:32.799Z"
   },
   {
    "duration": 3470,
    "start_time": "2022-01-16T08:44:32.805Z"
   },
   {
    "duration": -52,
    "start_time": "2022-01-16T08:44:36.330Z"
   },
   {
    "duration": -54,
    "start_time": "2022-01-16T08:44:36.334Z"
   },
   {
    "duration": -57,
    "start_time": "2022-01-16T08:44:36.338Z"
   },
   {
    "duration": -63,
    "start_time": "2022-01-16T08:44:36.345Z"
   },
   {
    "duration": -65,
    "start_time": "2022-01-16T08:44:36.349Z"
   },
   {
    "duration": -68,
    "start_time": "2022-01-16T08:44:36.353Z"
   },
   {
    "duration": -70,
    "start_time": "2022-01-16T08:44:36.357Z"
   },
   {
    "duration": -71,
    "start_time": "2022-01-16T08:44:36.360Z"
   },
   {
    "duration": 5,
    "start_time": "2022-01-16T08:44:53.022Z"
   },
   {
    "duration": 24,
    "start_time": "2022-01-16T08:44:53.374Z"
   },
   {
    "duration": 38,
    "start_time": "2022-01-16T08:44:53.685Z"
   },
   {
    "duration": 222,
    "start_time": "2022-01-16T08:44:53.847Z"
   },
   {
    "duration": 10,
    "start_time": "2022-01-16T08:44:55.800Z"
   },
   {
    "duration": 3,
    "start_time": "2022-01-16T08:44:55.994Z"
   },
   {
    "duration": 10,
    "start_time": "2022-01-16T08:44:56.837Z"
   },
   {
    "duration": 3,
    "start_time": "2022-01-16T08:44:57.878Z"
   },
   {
    "duration": 3617,
    "start_time": "2022-01-16T08:45:12.616Z"
   },
   {
    "duration": 4,
    "start_time": "2022-01-16T08:46:53.981Z"
   },
   {
    "duration": 490,
    "start_time": "2022-01-16T08:47:04.564Z"
   },
   {
    "duration": 311,
    "start_time": "2022-01-16T08:47:31.876Z"
   },
   {
    "duration": 312,
    "start_time": "2022-01-16T08:47:52.369Z"
   },
   {
    "duration": 696,
    "start_time": "2022-01-16T08:49:05.177Z"
   },
   {
    "duration": 181,
    "start_time": "2022-01-16T08:49:33.662Z"
   },
   {
    "duration": 8,
    "start_time": "2022-01-16T08:49:39.775Z"
   },
   {
    "duration": 171,
    "start_time": "2022-01-16T08:49:47.672Z"
   },
   {
    "duration": 7,
    "start_time": "2022-01-16T08:49:55.127Z"
   },
   {
    "duration": 5,
    "start_time": "2022-01-16T08:50:06.797Z"
   },
   {
    "duration": 220,
    "start_time": "2022-01-16T08:50:18.209Z"
   },
   {
    "duration": 5,
    "start_time": "2022-01-16T08:50:20.823Z"
   },
   {
    "duration": 4,
    "start_time": "2022-01-16T08:50:56.495Z"
   },
   {
    "duration": 5,
    "start_time": "2022-01-16T08:51:01.289Z"
   },
   {
    "duration": 7,
    "start_time": "2022-01-16T08:51:10.486Z"
   },
   {
    "duration": 7,
    "start_time": "2022-01-16T08:51:25.228Z"
   },
   {
    "duration": 56,
    "start_time": "2022-01-16T08:51:46.323Z"
   },
   {
    "duration": 8,
    "start_time": "2022-01-16T08:51:49.591Z"
   },
   {
    "duration": 8,
    "start_time": "2022-01-16T08:52:02.850Z"
   },
   {
    "duration": 5,
    "start_time": "2022-01-16T08:52:26.331Z"
   },
   {
    "duration": 9,
    "start_time": "2022-01-16T08:52:33.791Z"
   },
   {
    "duration": 5,
    "start_time": "2022-01-16T08:53:14.665Z"
   },
   {
    "duration": 7,
    "start_time": "2022-01-16T08:53:15.873Z"
   },
   {
    "duration": 1077,
    "start_time": "2022-01-16T08:53:34.286Z"
   },
   {
    "duration": 54,
    "start_time": "2022-01-16T08:53:35.365Z"
   },
   {
    "duration": 10,
    "start_time": "2022-01-16T08:53:35.421Z"
   },
   {
    "duration": 29,
    "start_time": "2022-01-16T08:53:35.433Z"
   },
   {
    "duration": 29,
    "start_time": "2022-01-16T08:53:35.463Z"
   },
   {
    "duration": 9,
    "start_time": "2022-01-16T08:53:35.494Z"
   },
   {
    "duration": 16,
    "start_time": "2022-01-16T08:53:35.504Z"
   },
   {
    "duration": 17,
    "start_time": "2022-01-16T08:53:35.523Z"
   },
   {
    "duration": 6,
    "start_time": "2022-01-16T08:53:35.542Z"
   },
   {
    "duration": 55,
    "start_time": "2022-01-16T08:53:35.549Z"
   },
   {
    "duration": 5,
    "start_time": "2022-01-16T08:53:35.606Z"
   },
   {
    "duration": 17,
    "start_time": "2022-01-16T08:53:35.612Z"
   },
   {
    "duration": 15,
    "start_time": "2022-01-16T08:53:35.630Z"
   },
   {
    "duration": 14,
    "start_time": "2022-01-16T08:53:35.646Z"
   },
   {
    "duration": 387,
    "start_time": "2022-01-16T08:53:35.661Z"
   },
   {
    "duration": 6,
    "start_time": "2022-01-16T08:53:36.050Z"
   },
   {
    "duration": 17,
    "start_time": "2022-01-16T08:53:36.057Z"
   },
   {
    "duration": 50,
    "start_time": "2022-01-16T08:53:36.075Z"
   },
   {
    "duration": 32,
    "start_time": "2022-01-16T08:53:36.126Z"
   },
   {
    "duration": 465,
    "start_time": "2022-01-16T08:53:36.160Z"
   },
   {
    "duration": 13,
    "start_time": "2022-01-16T08:53:36.627Z"
   },
   {
    "duration": 240,
    "start_time": "2022-01-16T08:53:36.642Z"
   },
   {
    "duration": 30,
    "start_time": "2022-01-16T08:53:36.886Z"
   },
   {
    "duration": 5,
    "start_time": "2022-01-16T08:53:36.919Z"
   },
   {
    "duration": 10,
    "start_time": "2022-01-16T08:53:36.926Z"
   },
   {
    "duration": 426,
    "start_time": "2022-01-16T08:53:36.937Z"
   },
   {
    "duration": 214,
    "start_time": "2022-01-16T08:53:37.365Z"
   },
   {
    "duration": 207,
    "start_time": "2022-01-16T08:53:37.581Z"
   },
   {
    "duration": 204,
    "start_time": "2022-01-16T08:53:37.790Z"
   },
   {
    "duration": 279,
    "start_time": "2022-01-16T08:53:37.996Z"
   },
   {
    "duration": 214,
    "start_time": "2022-01-16T08:53:38.277Z"
   },
   {
    "duration": 17,
    "start_time": "2022-01-16T08:53:38.493Z"
   },
   {
    "duration": 843,
    "start_time": "2022-01-16T08:53:38.512Z"
   },
   {
    "duration": 9,
    "start_time": "2022-01-16T08:53:39.357Z"
   },
   {
    "duration": 874,
    "start_time": "2022-01-16T08:53:39.367Z"
   },
   {
    "duration": 8,
    "start_time": "2022-01-16T08:53:40.242Z"
   },
   {
    "duration": 28,
    "start_time": "2022-01-16T08:53:40.251Z"
   },
   {
    "duration": 45,
    "start_time": "2022-01-16T08:53:40.280Z"
   },
   {
    "duration": 289,
    "start_time": "2022-01-16T08:53:40.327Z"
   },
   {
    "duration": 39,
    "start_time": "2022-01-16T08:53:40.618Z"
   },
   {
    "duration": 326,
    "start_time": "2022-01-16T08:53:40.658Z"
   },
   {
    "duration": 11,
    "start_time": "2022-01-16T08:53:40.985Z"
   },
   {
    "duration": 13,
    "start_time": "2022-01-16T08:53:40.998Z"
   },
   {
    "duration": 120,
    "start_time": "2022-01-16T08:53:41.013Z"
   },
   {
    "duration": 9,
    "start_time": "2022-01-16T08:53:41.135Z"
   },
   {
    "duration": 4,
    "start_time": "2022-01-16T08:53:41.146Z"
   },
   {
    "duration": 9,
    "start_time": "2022-01-16T08:53:41.152Z"
   },
   {
    "duration": 4,
    "start_time": "2022-01-16T08:53:41.162Z"
   },
   {
    "duration": 27,
    "start_time": "2022-01-16T08:53:41.167Z"
   },
   {
    "duration": 9,
    "start_time": "2022-01-16T08:53:41.196Z"
   },
   {
    "duration": 2,
    "start_time": "2022-01-16T08:53:41.207Z"
   },
   {
    "duration": 7,
    "start_time": "2022-01-16T08:53:41.210Z"
   },
   {
    "duration": 26,
    "start_time": "2022-01-16T08:53:41.219Z"
   },
   {
    "duration": 63,
    "start_time": "2022-01-16T08:53:41.246Z"
   },
   {
    "duration": 246,
    "start_time": "2022-01-16T08:53:41.310Z"
   },
   {
    "duration": 8,
    "start_time": "2022-01-16T08:53:41.558Z"
   },
   {
    "duration": 5,
    "start_time": "2022-01-16T08:53:41.568Z"
   },
   {
    "duration": 21,
    "start_time": "2022-01-16T08:53:41.575Z"
   },
   {
    "duration": 8,
    "start_time": "2022-01-16T08:53:41.598Z"
   },
   {
    "duration": 1007,
    "start_time": "2022-01-16T08:54:24.860Z"
   },
   {
    "duration": 52,
    "start_time": "2022-01-16T08:54:25.870Z"
   },
   {
    "duration": 10,
    "start_time": "2022-01-16T08:54:25.926Z"
   },
   {
    "duration": 33,
    "start_time": "2022-01-16T08:54:25.937Z"
   },
   {
    "duration": 20,
    "start_time": "2022-01-16T08:54:25.972Z"
   },
   {
    "duration": 8,
    "start_time": "2022-01-16T08:54:25.993Z"
   },
   {
    "duration": 14,
    "start_time": "2022-01-16T08:54:26.003Z"
   },
   {
    "duration": 16,
    "start_time": "2022-01-16T08:54:26.019Z"
   },
   {
    "duration": 4,
    "start_time": "2022-01-16T08:54:26.037Z"
   },
   {
    "duration": 68,
    "start_time": "2022-01-16T08:54:26.042Z"
   },
   {
    "duration": 4,
    "start_time": "2022-01-16T08:54:26.111Z"
   },
   {
    "duration": 16,
    "start_time": "2022-01-16T08:54:26.307Z"
   },
   {
    "duration": 21,
    "start_time": "2022-01-16T08:54:26.325Z"
   },
   {
    "duration": 54,
    "start_time": "2022-01-16T08:54:26.348Z"
   },
   {
    "duration": 371,
    "start_time": "2022-01-16T08:54:26.404Z"
   },
   {
    "duration": 8,
    "start_time": "2022-01-16T08:54:26.777Z"
   },
   {
    "duration": 29,
    "start_time": "2022-01-16T08:54:26.792Z"
   },
   {
    "duration": 42,
    "start_time": "2022-01-16T08:54:26.822Z"
   },
   {
    "duration": 48,
    "start_time": "2022-01-16T08:54:26.866Z"
   },
   {
    "duration": 441,
    "start_time": "2022-01-16T08:54:26.915Z"
   },
   {
    "duration": 14,
    "start_time": "2022-01-16T08:54:27.358Z"
   },
   {
    "duration": 218,
    "start_time": "2022-01-16T08:54:27.373Z"
   },
   {
    "duration": 31,
    "start_time": "2022-01-16T08:54:27.593Z"
   },
   {
    "duration": 21,
    "start_time": "2022-01-16T08:54:27.625Z"
   },
   {
    "duration": 22,
    "start_time": "2022-01-16T08:54:27.648Z"
   },
   {
    "duration": 419,
    "start_time": "2022-01-16T08:54:27.672Z"
   },
   {
    "duration": 208,
    "start_time": "2022-01-16T08:54:28.093Z"
   },
   {
    "duration": 201,
    "start_time": "2022-01-16T08:54:28.303Z"
   },
   {
    "duration": 204,
    "start_time": "2022-01-16T08:54:28.506Z"
   },
   {
    "duration": 260,
    "start_time": "2022-01-16T08:54:28.712Z"
   },
   {
    "duration": 201,
    "start_time": "2022-01-16T08:54:28.974Z"
   },
   {
    "duration": 20,
    "start_time": "2022-01-16T08:54:29.176Z"
   },
   {
    "duration": 828,
    "start_time": "2022-01-16T08:54:29.198Z"
   },
   {
    "duration": 9,
    "start_time": "2022-01-16T08:54:30.030Z"
   },
   {
    "duration": 891,
    "start_time": "2022-01-16T08:54:30.041Z"
   },
   {
    "duration": 10,
    "start_time": "2022-01-16T08:54:30.933Z"
   },
   {
    "duration": 26,
    "start_time": "2022-01-16T08:54:30.944Z"
   },
   {
    "duration": 61,
    "start_time": "2022-01-16T08:54:30.972Z"
   },
   {
    "duration": 296,
    "start_time": "2022-01-16T08:54:31.036Z"
   },
   {
    "duration": 59,
    "start_time": "2022-01-16T08:54:31.335Z"
   },
   {
    "duration": 321,
    "start_time": "2022-01-16T08:54:31.396Z"
   },
   {
    "duration": 9,
    "start_time": "2022-01-16T08:54:31.720Z"
   },
   {
    "duration": 27,
    "start_time": "2022-01-16T08:54:31.731Z"
   },
   {
    "duration": 110,
    "start_time": "2022-01-16T08:54:31.760Z"
   },
   {
    "duration": 34,
    "start_time": "2022-01-16T08:54:31.872Z"
   },
   {
    "duration": 9,
    "start_time": "2022-01-16T08:54:31.908Z"
   },
   {
    "duration": 9,
    "start_time": "2022-01-16T08:54:31.919Z"
   },
   {
    "duration": 21,
    "start_time": "2022-01-16T08:54:31.930Z"
   },
   {
    "duration": 4,
    "start_time": "2022-01-16T08:54:31.953Z"
   },
   {
    "duration": 30,
    "start_time": "2022-01-16T08:54:31.959Z"
   },
   {
    "duration": 46,
    "start_time": "2022-01-16T08:54:31.991Z"
   },
   {
    "duration": 38,
    "start_time": "2022-01-16T08:54:32.039Z"
   },
   {
    "duration": 223,
    "start_time": "2022-01-16T08:54:32.078Z"
   },
   {
    "duration": 8,
    "start_time": "2022-01-16T08:54:32.303Z"
   },
   {
    "duration": 39,
    "start_time": "2022-01-16T08:54:32.313Z"
   },
   {
    "duration": 21,
    "start_time": "2022-01-16T08:54:32.354Z"
   },
   {
    "duration": 33,
    "start_time": "2022-01-16T08:54:32.377Z"
   },
   {
    "duration": 10,
    "start_time": "2022-01-16T08:56:36.771Z"
   },
   {
    "duration": 900,
    "start_time": "2022-01-16T11:02:46.470Z"
   },
   {
    "duration": 43,
    "start_time": "2022-01-16T11:02:47.372Z"
   },
   {
    "duration": 8,
    "start_time": "2022-01-16T11:02:47.416Z"
   },
   {
    "duration": 28,
    "start_time": "2022-01-16T11:02:47.426Z"
   },
   {
    "duration": 12,
    "start_time": "2022-01-16T11:02:47.455Z"
   },
   {
    "duration": 7,
    "start_time": "2022-01-16T11:02:47.468Z"
   },
   {
    "duration": 11,
    "start_time": "2022-01-16T11:02:47.476Z"
   },
   {
    "duration": 13,
    "start_time": "2022-01-16T11:02:47.516Z"
   },
   {
    "duration": 4,
    "start_time": "2022-01-16T11:02:47.531Z"
   },
   {
    "duration": 20,
    "start_time": "2022-01-16T11:02:47.537Z"
   },
   {
    "duration": 4,
    "start_time": "2022-01-16T11:02:47.559Z"
   },
   {
    "duration": 14,
    "start_time": "2022-01-16T11:02:47.565Z"
   },
   {
    "duration": 43,
    "start_time": "2022-01-16T11:02:47.580Z"
   },
   {
    "duration": 13,
    "start_time": "2022-01-16T11:02:47.625Z"
   },
   {
    "duration": 324,
    "start_time": "2022-01-16T11:02:47.639Z"
   },
   {
    "duration": 6,
    "start_time": "2022-01-16T11:02:47.965Z"
   },
   {
    "duration": 13,
    "start_time": "2022-01-16T11:02:47.973Z"
   },
   {
    "duration": 56,
    "start_time": "2022-01-16T11:02:47.988Z"
   },
   {
    "duration": 29,
    "start_time": "2022-01-16T11:02:48.046Z"
   },
   {
    "duration": 455,
    "start_time": "2022-01-16T11:02:48.077Z"
   },
   {
    "duration": 12,
    "start_time": "2022-01-16T11:02:48.534Z"
   },
   {
    "duration": 172,
    "start_time": "2022-01-16T11:02:48.547Z"
   },
   {
    "duration": 22,
    "start_time": "2022-01-16T11:02:48.722Z"
   },
   {
    "duration": 6,
    "start_time": "2022-01-16T11:02:48.746Z"
   },
   {
    "duration": 24,
    "start_time": "2022-01-16T11:02:48.753Z"
   },
   {
    "duration": 357,
    "start_time": "2022-01-16T11:02:48.778Z"
   },
   {
    "duration": 240,
    "start_time": "2022-01-16T11:02:49.136Z"
   },
   {
    "duration": 273,
    "start_time": "2022-01-16T11:02:49.377Z"
   },
   {
    "duration": 185,
    "start_time": "2022-01-16T11:02:49.652Z"
   },
   {
    "duration": 225,
    "start_time": "2022-01-16T11:02:49.839Z"
   },
   {
    "duration": 180,
    "start_time": "2022-01-16T11:02:50.066Z"
   },
   {
    "duration": 14,
    "start_time": "2022-01-16T11:02:50.248Z"
   },
   {
    "duration": 739,
    "start_time": "2022-01-16T11:02:50.263Z"
   },
   {
    "duration": 10,
    "start_time": "2022-01-16T11:02:51.003Z"
   },
   {
    "duration": 763,
    "start_time": "2022-01-16T11:02:51.014Z"
   },
   {
    "duration": 7,
    "start_time": "2022-01-16T11:02:51.779Z"
   },
   {
    "duration": 33,
    "start_time": "2022-01-16T11:02:51.788Z"
   },
   {
    "duration": 32,
    "start_time": "2022-01-16T11:02:51.822Z"
   },
   {
    "duration": 258,
    "start_time": "2022-01-16T11:02:51.855Z"
   },
   {
    "duration": 34,
    "start_time": "2022-01-16T11:02:52.115Z"
   },
   {
    "duration": 286,
    "start_time": "2022-01-16T11:02:52.151Z"
   },
   {
    "duration": 6,
    "start_time": "2022-01-16T11:02:52.439Z"
   },
   {
    "duration": 11,
    "start_time": "2022-01-16T11:02:52.446Z"
   },
   {
    "duration": 101,
    "start_time": "2022-01-16T11:02:52.459Z"
   },
   {
    "duration": 9,
    "start_time": "2022-01-16T11:02:52.561Z"
   },
   {
    "duration": 8,
    "start_time": "2022-01-16T11:02:52.571Z"
   },
   {
    "duration": 5,
    "start_time": "2022-01-16T11:02:52.581Z"
   },
   {
    "duration": 29,
    "start_time": "2022-01-16T11:02:52.587Z"
   },
   {
    "duration": 2,
    "start_time": "2022-01-16T11:02:52.618Z"
   },
   {
    "duration": 6,
    "start_time": "2022-01-16T11:02:52.621Z"
   },
   {
    "duration": 22,
    "start_time": "2022-01-16T11:02:52.628Z"
   },
   {
    "duration": 33,
    "start_time": "2022-01-16T11:02:52.651Z"
   },
   {
    "duration": 227,
    "start_time": "2022-01-16T11:02:52.685Z"
   },
   {
    "duration": 9,
    "start_time": "2022-01-16T11:02:52.913Z"
   },
   {
    "duration": 9,
    "start_time": "2022-01-16T11:02:52.923Z"
   },
   {
    "duration": 10,
    "start_time": "2022-01-16T11:02:52.933Z"
   },
   {
    "duration": 7,
    "start_time": "2022-01-16T11:02:52.944Z"
   },
   {
    "duration": 10,
    "start_time": "2022-01-16T11:03:12.838Z"
   },
   {
    "duration": 8,
    "start_time": "2022-01-16T11:03:21.654Z"
   },
   {
    "duration": 3,
    "start_time": "2022-01-16T11:03:26.255Z"
   },
   {
    "duration": 47,
    "start_time": "2022-01-16T11:03:26.260Z"
   },
   {
    "duration": 10,
    "start_time": "2022-01-16T11:03:26.309Z"
   },
   {
    "duration": 25,
    "start_time": "2022-01-16T11:03:26.320Z"
   },
   {
    "duration": 12,
    "start_time": "2022-01-16T11:03:26.346Z"
   },
   {
    "duration": 8,
    "start_time": "2022-01-16T11:03:26.360Z"
   },
   {
    "duration": 44,
    "start_time": "2022-01-16T11:03:26.370Z"
   },
   {
    "duration": 14,
    "start_time": "2022-01-16T11:03:26.416Z"
   },
   {
    "duration": 4,
    "start_time": "2022-01-16T11:03:26.431Z"
   },
   {
    "duration": 20,
    "start_time": "2022-01-16T11:03:26.436Z"
   },
   {
    "duration": 3,
    "start_time": "2022-01-16T11:03:26.457Z"
   },
   {
    "duration": 14,
    "start_time": "2022-01-16T11:03:26.461Z"
   },
   {
    "duration": 45,
    "start_time": "2022-01-16T11:03:26.476Z"
   },
   {
    "duration": 12,
    "start_time": "2022-01-16T11:03:26.523Z"
   },
   {
    "duration": 318,
    "start_time": "2022-01-16T11:03:26.536Z"
   },
   {
    "duration": 6,
    "start_time": "2022-01-16T11:03:26.855Z"
   },
   {
    "duration": 14,
    "start_time": "2022-01-16T11:03:26.862Z"
   },
   {
    "duration": 52,
    "start_time": "2022-01-16T11:03:26.877Z"
   },
   {
    "duration": 28,
    "start_time": "2022-01-16T11:03:26.932Z"
   },
   {
    "duration": 401,
    "start_time": "2022-01-16T11:03:26.963Z"
   },
   {
    "duration": 13,
    "start_time": "2022-01-16T11:03:27.365Z"
   },
   {
    "duration": 190,
    "start_time": "2022-01-16T11:03:27.379Z"
   },
   {
    "duration": 26,
    "start_time": "2022-01-16T11:03:27.571Z"
   },
   {
    "duration": 13,
    "start_time": "2022-01-16T11:03:27.599Z"
   },
   {
    "duration": 8,
    "start_time": "2022-01-16T11:03:27.613Z"
   },
   {
    "duration": 373,
    "start_time": "2022-01-16T11:03:27.622Z"
   },
   {
    "duration": 181,
    "start_time": "2022-01-16T11:03:27.996Z"
   },
   {
    "duration": 181,
    "start_time": "2022-01-16T11:03:28.179Z"
   },
   {
    "duration": 182,
    "start_time": "2022-01-16T11:03:28.361Z"
   },
   {
    "duration": 181,
    "start_time": "2022-01-16T11:03:28.545Z"
   },
   {
    "duration": 182,
    "start_time": "2022-01-16T11:03:28.728Z"
   },
   {
    "duration": 14,
    "start_time": "2022-01-16T11:03:28.912Z"
   },
   {
    "duration": 781,
    "start_time": "2022-01-16T11:03:28.928Z"
   },
   {
    "duration": 7,
    "start_time": "2022-01-16T11:03:29.710Z"
   },
   {
    "duration": 763,
    "start_time": "2022-01-16T11:03:29.719Z"
   },
   {
    "duration": 7,
    "start_time": "2022-01-16T11:03:30.484Z"
   },
   {
    "duration": 29,
    "start_time": "2022-01-16T11:03:30.492Z"
   },
   {
    "duration": 34,
    "start_time": "2022-01-16T11:03:30.523Z"
   },
   {
    "duration": 265,
    "start_time": "2022-01-16T11:03:30.558Z"
   },
   {
    "duration": 38,
    "start_time": "2022-01-16T11:03:30.825Z"
   },
   {
    "duration": 304,
    "start_time": "2022-01-16T11:03:30.865Z"
   },
   {
    "duration": 8,
    "start_time": "2022-01-16T11:03:31.171Z"
   },
   {
    "duration": 16,
    "start_time": "2022-01-16T11:03:31.180Z"
   },
   {
    "duration": 27,
    "start_time": "2022-01-16T11:03:31.198Z"
   },
   {
    "duration": 16,
    "start_time": "2022-01-16T11:03:31.227Z"
   },
   {
    "duration": 12,
    "start_time": "2022-01-16T11:03:31.244Z"
   },
   {
    "duration": 4,
    "start_time": "2022-01-16T11:03:31.258Z"
   },
   {
    "duration": 10,
    "start_time": "2022-01-16T11:03:31.263Z"
   },
   {
    "duration": 3,
    "start_time": "2022-01-16T11:03:31.275Z"
   },
   {
    "duration": 11,
    "start_time": "2022-01-16T11:03:31.279Z"
   },
   {
    "duration": 28,
    "start_time": "2022-01-16T11:03:31.292Z"
   },
   {
    "duration": 31,
    "start_time": "2022-01-16T11:03:31.321Z"
   },
   {
    "duration": 206,
    "start_time": "2022-01-16T11:03:31.353Z"
   },
   {
    "duration": 8,
    "start_time": "2022-01-16T11:03:31.561Z"
   },
   {
    "duration": 4,
    "start_time": "2022-01-16T11:03:31.572Z"
   },
   {
    "duration": 8,
    "start_time": "2022-01-16T11:03:31.578Z"
   },
   {
    "duration": 3,
    "start_time": "2022-01-16T11:03:31.588Z"
   },
   {
    "duration": 3,
    "start_time": "2022-01-16T11:08:07.023Z"
   },
   {
    "duration": 47,
    "start_time": "2022-01-16T11:08:07.027Z"
   },
   {
    "duration": 8,
    "start_time": "2022-01-16T11:08:07.076Z"
   },
   {
    "duration": 38,
    "start_time": "2022-01-16T11:08:07.085Z"
   },
   {
    "duration": 12,
    "start_time": "2022-01-16T11:08:07.124Z"
   },
   {
    "duration": 9,
    "start_time": "2022-01-16T11:08:07.137Z"
   },
   {
    "duration": 11,
    "start_time": "2022-01-16T11:08:07.148Z"
   },
   {
    "duration": 17,
    "start_time": "2022-01-16T11:08:07.160Z"
   },
   {
    "duration": 5,
    "start_time": "2022-01-16T11:08:07.178Z"
   },
   {
    "duration": 19,
    "start_time": "2022-01-16T11:08:07.212Z"
   },
   {
    "duration": 4,
    "start_time": "2022-01-16T11:08:07.232Z"
   },
   {
    "duration": 16,
    "start_time": "2022-01-16T11:08:07.237Z"
   },
   {
    "duration": 13,
    "start_time": "2022-01-16T11:08:07.254Z"
   },
   {
    "duration": 44,
    "start_time": "2022-01-16T11:08:07.268Z"
   },
   {
    "duration": 320,
    "start_time": "2022-01-16T11:08:07.313Z"
   },
   {
    "duration": 6,
    "start_time": "2022-01-16T11:08:07.634Z"
   },
   {
    "duration": 13,
    "start_time": "2022-01-16T11:08:07.642Z"
   },
   {
    "duration": 34,
    "start_time": "2022-01-16T11:08:07.656Z"
   },
   {
    "duration": 44,
    "start_time": "2022-01-16T11:08:07.694Z"
   },
   {
    "duration": 401,
    "start_time": "2022-01-16T11:08:07.740Z"
   },
   {
    "duration": 11,
    "start_time": "2022-01-16T11:08:08.143Z"
   },
   {
    "duration": 300,
    "start_time": "2022-01-16T11:08:08.155Z"
   },
   {
    "duration": 36,
    "start_time": "2022-01-16T11:08:08.457Z"
   },
   {
    "duration": 22,
    "start_time": "2022-01-16T11:08:08.494Z"
   },
   {
    "duration": 9,
    "start_time": "2022-01-16T11:08:08.518Z"
   },
   {
    "duration": 356,
    "start_time": "2022-01-16T11:08:08.529Z"
   },
   {
    "duration": 192,
    "start_time": "2022-01-16T11:08:08.886Z"
   },
   {
    "duration": 180,
    "start_time": "2022-01-16T11:08:09.080Z"
   },
   {
    "duration": 180,
    "start_time": "2022-01-16T11:08:09.261Z"
   },
   {
    "duration": 179,
    "start_time": "2022-01-16T11:08:09.442Z"
   },
   {
    "duration": 176,
    "start_time": "2022-01-16T11:08:09.622Z"
   },
   {
    "duration": 19,
    "start_time": "2022-01-16T11:08:09.799Z"
   },
   {
    "duration": 689,
    "start_time": "2022-01-16T11:08:09.819Z"
   },
   {
    "duration": 7,
    "start_time": "2022-01-16T11:08:10.512Z"
   },
   {
    "duration": 764,
    "start_time": "2022-01-16T11:08:10.521Z"
   },
   {
    "duration": 7,
    "start_time": "2022-01-16T11:08:11.286Z"
   },
   {
    "duration": 29,
    "start_time": "2022-01-16T11:08:11.294Z"
   },
   {
    "duration": 31,
    "start_time": "2022-01-16T11:08:11.325Z"
   },
   {
    "duration": 255,
    "start_time": "2022-01-16T11:08:11.357Z"
   },
   {
    "duration": 33,
    "start_time": "2022-01-16T11:08:11.613Z"
   },
   {
    "duration": 284,
    "start_time": "2022-01-16T11:08:11.648Z"
   },
   {
    "duration": 6,
    "start_time": "2022-01-16T11:08:11.934Z"
   },
   {
    "duration": 11,
    "start_time": "2022-01-16T11:08:11.941Z"
   },
   {
    "duration": 162,
    "start_time": "2022-01-16T11:08:11.954Z"
   },
   {
    "duration": 9,
    "start_time": "2022-01-16T11:08:12.118Z"
   },
   {
    "duration": 7,
    "start_time": "2022-01-16T11:08:12.129Z"
   },
   {
    "duration": 7,
    "start_time": "2022-01-16T11:08:12.137Z"
   },
   {
    "duration": 13,
    "start_time": "2022-01-16T11:08:12.146Z"
   },
   {
    "duration": 7,
    "start_time": "2022-01-16T11:08:12.160Z"
   },
   {
    "duration": 7,
    "start_time": "2022-01-16T11:08:12.169Z"
   },
   {
    "duration": 39,
    "start_time": "2022-01-16T11:08:12.177Z"
   },
   {
    "duration": 34,
    "start_time": "2022-01-16T11:08:12.217Z"
   },
   {
    "duration": 205,
    "start_time": "2022-01-16T11:08:12.252Z"
   },
   {
    "duration": 7,
    "start_time": "2022-01-16T11:08:12.459Z"
   },
   {
    "duration": 5,
    "start_time": "2022-01-16T11:08:12.470Z"
   },
   {
    "duration": 9,
    "start_time": "2022-01-16T11:08:12.476Z"
   },
   {
    "duration": 9,
    "start_time": "2022-01-16T11:08:12.486Z"
   },
   {
    "duration": 268,
    "start_time": "2022-01-16T11:08:36.979Z"
   },
   {
    "duration": 9,
    "start_time": "2022-01-16T11:08:41.117Z"
   },
   {
    "duration": 7,
    "start_time": "2022-01-16T11:20:20.964Z"
   },
   {
    "duration": 2,
    "start_time": "2022-01-16T11:20:29.059Z"
   },
   {
    "duration": 5,
    "start_time": "2022-01-16T11:20:58.779Z"
   },
   {
    "duration": 8,
    "start_time": "2022-01-16T11:21:28.084Z"
   },
   {
    "duration": 10,
    "start_time": "2022-01-16T11:21:40.788Z"
   },
   {
    "duration": 5,
    "start_time": "2022-01-16T11:21:45.258Z"
   },
   {
    "duration": 10,
    "start_time": "2022-01-16T11:21:51.971Z"
   },
   {
    "duration": 9,
    "start_time": "2022-01-16T11:22:53.283Z"
   },
   {
    "duration": 3,
    "start_time": "2022-01-16T11:22:57.547Z"
   },
   {
    "duration": 9,
    "start_time": "2022-01-16T11:23:04.027Z"
   },
   {
    "duration": 11,
    "start_time": "2022-01-16T11:23:54.123Z"
   },
   {
    "duration": 3,
    "start_time": "2022-01-16T11:23:55.842Z"
   },
   {
    "duration": 10,
    "start_time": "2022-01-16T11:24:22.602Z"
   },
   {
    "duration": 3,
    "start_time": "2022-01-16T11:24:23.131Z"
   },
   {
    "duration": 5,
    "start_time": "2022-01-16T11:26:13.122Z"
   },
   {
    "duration": 5,
    "start_time": "2022-01-16T11:26:39.418Z"
   },
   {
    "duration": 5,
    "start_time": "2022-01-16T11:26:47.931Z"
   },
   {
    "duration": 4,
    "start_time": "2022-01-16T11:27:30.251Z"
   },
   {
    "duration": 4,
    "start_time": "2022-01-16T11:27:37.746Z"
   },
   {
    "duration": 3,
    "start_time": "2022-01-16T11:31:06.954Z"
   },
   {
    "duration": 46,
    "start_time": "2022-01-16T11:31:06.959Z"
   },
   {
    "duration": 8,
    "start_time": "2022-01-16T11:31:07.006Z"
   },
   {
    "duration": 24,
    "start_time": "2022-01-16T11:31:07.016Z"
   },
   {
    "duration": 12,
    "start_time": "2022-01-16T11:31:07.042Z"
   },
   {
    "duration": 12,
    "start_time": "2022-01-16T11:31:07.055Z"
   },
   {
    "duration": 11,
    "start_time": "2022-01-16T11:31:07.069Z"
   },
   {
    "duration": 12,
    "start_time": "2022-01-16T11:31:07.113Z"
   },
   {
    "duration": 4,
    "start_time": "2022-01-16T11:31:07.126Z"
   },
   {
    "duration": 18,
    "start_time": "2022-01-16T11:31:07.131Z"
   },
   {
    "duration": 3,
    "start_time": "2022-01-16T11:31:07.151Z"
   },
   {
    "duration": 12,
    "start_time": "2022-01-16T11:31:07.155Z"
   },
   {
    "duration": 12,
    "start_time": "2022-01-16T11:31:07.169Z"
   },
   {
    "duration": 12,
    "start_time": "2022-01-16T11:31:07.212Z"
   },
   {
    "duration": 313,
    "start_time": "2022-01-16T11:31:07.225Z"
   },
   {
    "duration": 6,
    "start_time": "2022-01-16T11:31:07.539Z"
   },
   {
    "duration": 14,
    "start_time": "2022-01-16T11:31:07.546Z"
   },
   {
    "duration": 52,
    "start_time": "2022-01-16T11:31:07.561Z"
   },
   {
    "duration": 32,
    "start_time": "2022-01-16T11:31:07.617Z"
   },
   {
    "duration": 406,
    "start_time": "2022-01-16T11:31:07.652Z"
   },
   {
    "duration": 11,
    "start_time": "2022-01-16T11:31:08.060Z"
   },
   {
    "duration": 190,
    "start_time": "2022-01-16T11:31:08.072Z"
   },
   {
    "duration": 22,
    "start_time": "2022-01-16T11:31:08.263Z"
   },
   {
    "duration": 4,
    "start_time": "2022-01-16T11:31:08.286Z"
   },
   {
    "duration": 21,
    "start_time": "2022-01-16T11:31:08.291Z"
   },
   {
    "duration": 356,
    "start_time": "2022-01-16T11:31:08.313Z"
   },
   {
    "duration": 184,
    "start_time": "2022-01-16T11:31:08.670Z"
   },
   {
    "duration": 176,
    "start_time": "2022-01-16T11:31:08.855Z"
   },
   {
    "duration": 175,
    "start_time": "2022-01-16T11:31:09.033Z"
   },
   {
    "duration": 174,
    "start_time": "2022-01-16T11:31:09.215Z"
   },
   {
    "duration": 176,
    "start_time": "2022-01-16T11:31:09.390Z"
   },
   {
    "duration": 15,
    "start_time": "2022-01-16T11:31:09.567Z"
   },
   {
    "duration": 722,
    "start_time": "2022-01-16T11:31:09.583Z"
   },
   {
    "duration": 11,
    "start_time": "2022-01-16T11:31:10.307Z"
   },
   {
    "duration": 751,
    "start_time": "2022-01-16T11:31:10.319Z"
   },
   {
    "duration": 7,
    "start_time": "2022-01-16T11:31:11.072Z"
   },
   {
    "duration": 32,
    "start_time": "2022-01-16T11:31:11.081Z"
   },
   {
    "duration": 32,
    "start_time": "2022-01-16T11:31:11.114Z"
   },
   {
    "duration": 242,
    "start_time": "2022-01-16T11:31:11.147Z"
   },
   {
    "duration": 40,
    "start_time": "2022-01-16T11:31:11.391Z"
   },
   {
    "duration": 275,
    "start_time": "2022-01-16T11:31:11.432Z"
   },
   {
    "duration": 7,
    "start_time": "2022-01-16T11:31:11.708Z"
   },
   {
    "duration": 9,
    "start_time": "2022-01-16T11:31:11.717Z"
   },
   {
    "duration": 190,
    "start_time": "2022-01-16T11:31:11.727Z"
   },
   {
    "duration": 8,
    "start_time": "2022-01-16T11:31:11.918Z"
   },
   {
    "duration": 10,
    "start_time": "2022-01-16T11:31:11.927Z"
   },
   {
    "duration": 3,
    "start_time": "2022-01-16T11:31:11.939Z"
   },
   {
    "duration": 58,
    "start_time": "2022-01-16T11:31:11.943Z"
   },
   {
    "duration": 1238,
    "start_time": "2022-01-16T11:31:10.764Z"
   },
   {
    "duration": 1236,
    "start_time": "2022-01-16T11:31:10.767Z"
   },
   {
    "duration": 1234,
    "start_time": "2022-01-16T11:31:10.770Z"
   },
   {
    "duration": 1229,
    "start_time": "2022-01-16T11:31:10.776Z"
   },
   {
    "duration": 1227,
    "start_time": "2022-01-16T11:31:10.779Z"
   },
   {
    "duration": 1226,
    "start_time": "2022-01-16T11:31:10.781Z"
   },
   {
    "duration": 1225,
    "start_time": "2022-01-16T11:31:10.783Z"
   },
   {
    "duration": 1222,
    "start_time": "2022-01-16T11:31:10.787Z"
   },
   {
    "duration": 1216,
    "start_time": "2022-01-16T11:31:10.793Z"
   },
   {
    "duration": 66,
    "start_time": "2022-01-16T11:31:30.139Z"
   },
   {
    "duration": 105,
    "start_time": "2022-01-16T11:31:38.369Z"
   },
   {
    "duration": 62,
    "start_time": "2022-01-16T11:31:45.793Z"
   },
   {
    "duration": 61,
    "start_time": "2022-01-16T11:31:54.498Z"
   },
   {
    "duration": 9,
    "start_time": "2022-01-16T11:31:59.930Z"
   },
   {
    "duration": 73,
    "start_time": "2022-01-16T11:32:13.138Z"
   },
   {
    "duration": 63,
    "start_time": "2022-01-16T11:32:21.017Z"
   },
   {
    "duration": 9,
    "start_time": "2022-01-16T11:32:24.026Z"
   },
   {
    "duration": 3,
    "start_time": "2022-01-16T11:32:27.415Z"
   },
   {
    "duration": 43,
    "start_time": "2022-01-16T11:32:27.419Z"
   },
   {
    "duration": 8,
    "start_time": "2022-01-16T11:32:27.463Z"
   },
   {
    "duration": 50,
    "start_time": "2022-01-16T11:32:27.473Z"
   },
   {
    "duration": 12,
    "start_time": "2022-01-16T11:32:27.524Z"
   },
   {
    "duration": 8,
    "start_time": "2022-01-16T11:32:27.538Z"
   },
   {
    "duration": 13,
    "start_time": "2022-01-16T11:32:27.547Z"
   },
   {
    "duration": 13,
    "start_time": "2022-01-16T11:32:27.561Z"
   },
   {
    "duration": 4,
    "start_time": "2022-01-16T11:32:27.576Z"
   },
   {
    "duration": 46,
    "start_time": "2022-01-16T11:32:27.582Z"
   },
   {
    "duration": 4,
    "start_time": "2022-01-16T11:32:27.629Z"
   },
   {
    "duration": 13,
    "start_time": "2022-01-16T11:32:27.634Z"
   },
   {
    "duration": 12,
    "start_time": "2022-01-16T11:32:27.649Z"
   },
   {
    "duration": 12,
    "start_time": "2022-01-16T11:32:27.662Z"
   },
   {
    "duration": 338,
    "start_time": "2022-01-16T11:32:27.675Z"
   },
   {
    "duration": 6,
    "start_time": "2022-01-16T11:32:28.014Z"
   },
   {
    "duration": 12,
    "start_time": "2022-01-16T11:32:28.021Z"
   },
   {
    "duration": 33,
    "start_time": "2022-01-16T11:32:28.035Z"
   },
   {
    "duration": 51,
    "start_time": "2022-01-16T11:32:28.069Z"
   },
   {
    "duration": 379,
    "start_time": "2022-01-16T11:32:28.121Z"
   },
   {
    "duration": 18,
    "start_time": "2022-01-16T11:32:28.502Z"
   },
   {
    "duration": 186,
    "start_time": "2022-01-16T11:32:28.521Z"
   },
   {
    "duration": 25,
    "start_time": "2022-01-16T11:32:28.708Z"
   },
   {
    "duration": 5,
    "start_time": "2022-01-16T11:32:28.734Z"
   },
   {
    "duration": 6,
    "start_time": "2022-01-16T11:32:28.740Z"
   },
   {
    "duration": 367,
    "start_time": "2022-01-16T11:32:28.748Z"
   },
   {
    "duration": 188,
    "start_time": "2022-01-16T11:32:29.118Z"
   },
   {
    "duration": 177,
    "start_time": "2022-01-16T11:32:29.308Z"
   },
   {
    "duration": 177,
    "start_time": "2022-01-16T11:32:29.487Z"
   },
   {
    "duration": 176,
    "start_time": "2022-01-16T11:32:29.666Z"
   },
   {
    "duration": 196,
    "start_time": "2022-01-16T11:32:29.844Z"
   },
   {
    "duration": 16,
    "start_time": "2022-01-16T11:32:30.041Z"
   },
   {
    "duration": 737,
    "start_time": "2022-01-16T11:32:30.058Z"
   },
   {
    "duration": 7,
    "start_time": "2022-01-16T11:32:30.797Z"
   },
   {
    "duration": 758,
    "start_time": "2022-01-16T11:32:30.812Z"
   },
   {
    "duration": 7,
    "start_time": "2022-01-16T11:32:31.571Z"
   },
   {
    "duration": 22,
    "start_time": "2022-01-16T11:32:31.579Z"
   },
   {
    "duration": 40,
    "start_time": "2022-01-16T11:32:31.602Z"
   },
   {
    "duration": 247,
    "start_time": "2022-01-16T11:32:31.643Z"
   },
   {
    "duration": 40,
    "start_time": "2022-01-16T11:32:31.891Z"
   },
   {
    "duration": 282,
    "start_time": "2022-01-16T11:32:31.932Z"
   },
   {
    "duration": 7,
    "start_time": "2022-01-16T11:32:32.215Z"
   },
   {
    "duration": 11,
    "start_time": "2022-01-16T11:32:32.223Z"
   },
   {
    "duration": 16,
    "start_time": "2022-01-16T11:32:32.236Z"
   },
   {
    "duration": 10,
    "start_time": "2022-01-16T11:32:32.254Z"
   },
   {
    "duration": 8,
    "start_time": "2022-01-16T11:32:32.265Z"
   },
   {
    "duration": 4,
    "start_time": "2022-01-16T11:32:32.275Z"
   },
   {
    "duration": 36,
    "start_time": "2022-01-16T11:32:32.280Z"
   },
   {
    "duration": 2,
    "start_time": "2022-01-16T11:32:32.318Z"
   },
   {
    "duration": 22,
    "start_time": "2022-01-16T11:32:32.322Z"
   },
   {
    "duration": 31,
    "start_time": "2022-01-16T11:32:32.345Z"
   },
   {
    "duration": 220,
    "start_time": "2022-01-16T11:32:32.377Z"
   },
   {
    "duration": 14,
    "start_time": "2022-01-16T11:32:32.599Z"
   },
   {
    "duration": 6,
    "start_time": "2022-01-16T11:32:32.614Z"
   },
   {
    "duration": 11,
    "start_time": "2022-01-16T11:32:32.621Z"
   },
   {
    "duration": 7,
    "start_time": "2022-01-16T11:32:32.633Z"
   },
   {
    "duration": 3,
    "start_time": "2022-01-16T11:32:32.641Z"
   },
   {
    "duration": 1478,
    "start_time": "2022-01-16T13:01:07.447Z"
   },
   {
    "duration": 70,
    "start_time": "2022-01-16T13:01:08.927Z"
   },
   {
    "duration": 14,
    "start_time": "2022-01-16T13:01:09.000Z"
   },
   {
    "duration": 68,
    "start_time": "2022-01-16T13:01:09.017Z"
   },
   {
    "duration": 23,
    "start_time": "2022-01-16T13:01:09.087Z"
   },
   {
    "duration": 13,
    "start_time": "2022-01-16T13:01:09.112Z"
   },
   {
    "duration": 45,
    "start_time": "2022-01-16T13:01:09.127Z"
   },
   {
    "duration": 22,
    "start_time": "2022-01-16T13:01:09.176Z"
   },
   {
    "duration": 8,
    "start_time": "2022-01-16T13:01:09.202Z"
   },
   {
    "duration": 71,
    "start_time": "2022-01-16T13:01:09.214Z"
   },
   {
    "duration": 8,
    "start_time": "2022-01-16T13:01:09.288Z"
   },
   {
    "duration": 25,
    "start_time": "2022-01-16T13:01:09.299Z"
   },
   {
    "duration": 58,
    "start_time": "2022-01-16T13:01:09.327Z"
   },
   {
    "duration": 24,
    "start_time": "2022-01-16T13:01:09.388Z"
   },
   {
    "duration": 638,
    "start_time": "2022-01-16T13:01:09.415Z"
   },
   {
    "duration": 13,
    "start_time": "2022-01-16T13:01:10.055Z"
   },
   {
    "duration": 24,
    "start_time": "2022-01-16T13:01:10.070Z"
   },
   {
    "duration": 93,
    "start_time": "2022-01-16T13:01:10.096Z"
   },
   {
    "duration": 51,
    "start_time": "2022-01-16T13:01:10.191Z"
   },
   {
    "duration": 758,
    "start_time": "2022-01-16T13:01:10.244Z"
   },
   {
    "duration": 20,
    "start_time": "2022-01-16T13:01:11.004Z"
   },
   {
    "duration": 350,
    "start_time": "2022-01-16T13:01:11.027Z"
   },
   {
    "duration": 41,
    "start_time": "2022-01-16T13:01:11.383Z"
   },
   {
    "duration": 9,
    "start_time": "2022-01-16T13:01:11.427Z"
   },
   {
    "duration": 32,
    "start_time": "2022-01-16T13:01:11.438Z"
   },
   {
    "duration": 655,
    "start_time": "2022-01-16T13:01:11.472Z"
   },
   {
    "duration": 355,
    "start_time": "2022-01-16T13:01:12.130Z"
   },
   {
    "duration": 344,
    "start_time": "2022-01-16T13:01:12.487Z"
   },
   {
    "duration": 335,
    "start_time": "2022-01-16T13:01:12.834Z"
   },
   {
    "duration": 403,
    "start_time": "2022-01-16T13:01:13.171Z"
   },
   {
    "duration": 335,
    "start_time": "2022-01-16T13:01:13.576Z"
   },
   {
    "duration": 28,
    "start_time": "2022-01-16T13:01:13.913Z"
   },
   {
    "duration": 1393,
    "start_time": "2022-01-16T13:01:13.943Z"
   },
   {
    "duration": 25,
    "start_time": "2022-01-16T13:01:15.339Z"
   },
   {
    "duration": 1514,
    "start_time": "2022-01-16T13:01:15.367Z"
   },
   {
    "duration": 11,
    "start_time": "2022-01-16T13:01:16.884Z"
   },
   {
    "duration": 36,
    "start_time": "2022-01-16T13:01:16.898Z"
   },
   {
    "duration": 89,
    "start_time": "2022-01-16T13:01:16.936Z"
   },
   {
    "duration": 482,
    "start_time": "2022-01-16T13:01:17.028Z"
   },
   {
    "duration": 85,
    "start_time": "2022-01-16T13:01:17.513Z"
   },
   {
    "duration": 515,
    "start_time": "2022-01-16T13:01:17.601Z"
   },
   {
    "duration": 11,
    "start_time": "2022-01-16T13:01:18.120Z"
   },
   {
    "duration": 41,
    "start_time": "2022-01-16T13:01:18.134Z"
   },
   {
    "duration": 144,
    "start_time": "2022-01-16T13:01:18.178Z"
   },
   {
    "duration": 16,
    "start_time": "2022-01-16T13:01:18.325Z"
   },
   {
    "duration": 11,
    "start_time": "2022-01-16T13:01:18.363Z"
   },
   {
    "duration": 8,
    "start_time": "2022-01-16T13:01:18.377Z"
   },
   {
    "duration": 16,
    "start_time": "2022-01-16T13:01:18.388Z"
   },
   {
    "duration": 7,
    "start_time": "2022-01-16T13:01:18.407Z"
   },
   {
    "duration": 44,
    "start_time": "2022-01-16T13:01:18.465Z"
   },
   {
    "duration": 87,
    "start_time": "2022-01-16T13:01:18.511Z"
   },
   {
    "duration": 393,
    "start_time": "2022-01-16T13:01:18.600Z"
   },
   {
    "duration": 14,
    "start_time": "2022-01-16T13:01:18.996Z"
   },
   {
    "duration": 5,
    "start_time": "2022-01-16T13:01:19.013Z"
   },
   {
    "duration": 44,
    "start_time": "2022-01-16T13:01:19.021Z"
   },
   {
    "duration": 8,
    "start_time": "2022-01-16T13:01:19.068Z"
   },
   {
    "duration": 5,
    "start_time": "2022-01-16T13:01:19.079Z"
   }
  ],
  "kernelspec": {
   "display_name": "Python 3 (ipykernel)",
   "language": "python",
   "name": "python3"
  },
  "language_info": {
   "codemirror_mode": {
    "name": "ipython",
    "version": 3
   },
   "file_extension": ".py",
   "mimetype": "text/x-python",
   "name": "python",
   "nbconvert_exporter": "python",
   "pygments_lexer": "ipython3",
   "version": "3.9.7"
  },
  "toc": {
   "base_numbering": 1,
   "nav_menu": {},
   "number_sections": true,
   "sideBar": true,
   "skip_h1_title": true,
   "title_cell": "Table of Contents",
   "title_sidebar": "Contents",
   "toc_cell": false,
   "toc_position": {},
   "toc_section_display": true,
   "toc_window_display": false
  }
 },
 "nbformat": 4,
 "nbformat_minor": 2
}
