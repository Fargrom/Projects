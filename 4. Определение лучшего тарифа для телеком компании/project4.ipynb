{
 "cells": [
  {
   "cell_type": "markdown",
   "metadata": {},
   "source": [
    "# Определение перспективного тарифа для телеком-компании."
   ]
  },
  {
   "cell_type": "markdown",
   "metadata": {},
   "source": [
    "## Изучение общей информации."
   ]
  },
  {
   "cell_type": "code",
   "execution_count": 1,
   "metadata": {},
   "outputs": [],
   "source": [
    "#импортируем нужные библиотеки\n",
    "import pandas as pd\n",
    "import numpy as np\n",
    "from scipy import stats as st"
   ]
  },
  {
   "cell_type": "code",
   "execution_count": 2,
   "metadata": {},
   "outputs": [],
   "source": [
    "#читаем файлы\n",
    "data_users = pd.read_csv('/datasets/users.csv')\n",
    "data_calls = pd.read_csv('/datasets/calls.csv')\n",
    "data_messages = pd.read_csv('/datasets/messages.csv')\n",
    "data_internet = pd.read_csv('/datasets/internet.csv')\n",
    "data_tariffs = pd.read_csv('/datasets/tariffs.csv')"
   ]
  },
  {
   "cell_type": "code",
   "execution_count": 3,
   "metadata": {},
   "outputs": [
    {
     "name": "stdout",
     "output_type": "stream",
     "text": [
      "<class 'pandas.core.frame.DataFrame'>\n",
      "RangeIndex: 500 entries, 0 to 499\n",
      "Data columns (total 8 columns):\n",
      "user_id       500 non-null int64\n",
      "age           500 non-null int64\n",
      "churn_date    38 non-null object\n",
      "city          500 non-null object\n",
      "first_name    500 non-null object\n",
      "last_name     500 non-null object\n",
      "reg_date      500 non-null object\n",
      "tariff        500 non-null object\n",
      "dtypes: int64(2), object(6)\n",
      "memory usage: 31.4+ KB\n"
     ]
    }
   ],
   "source": [
    "# посмотрим на общую информацию по каждой таблице\n",
    "data_users.info()"
   ]
  },
  {
   "cell_type": "code",
   "execution_count": 4,
   "metadata": {},
   "outputs": [
    {
     "data": {
      "text/html": [
       "<div>\n",
       "<style scoped>\n",
       "    .dataframe tbody tr th:only-of-type {\n",
       "        vertical-align: middle;\n",
       "    }\n",
       "\n",
       "    .dataframe tbody tr th {\n",
       "        vertical-align: top;\n",
       "    }\n",
       "\n",
       "    .dataframe thead th {\n",
       "        text-align: right;\n",
       "    }\n",
       "</style>\n",
       "<table border=\"1\" class=\"dataframe\">\n",
       "  <thead>\n",
       "    <tr style=\"text-align: right;\">\n",
       "      <th></th>\n",
       "      <th>user_id</th>\n",
       "      <th>age</th>\n",
       "      <th>churn_date</th>\n",
       "      <th>city</th>\n",
       "      <th>first_name</th>\n",
       "      <th>last_name</th>\n",
       "      <th>reg_date</th>\n",
       "      <th>tariff</th>\n",
       "    </tr>\n",
       "  </thead>\n",
       "  <tbody>\n",
       "    <tr>\n",
       "      <td>0</td>\n",
       "      <td>1000</td>\n",
       "      <td>52</td>\n",
       "      <td>NaN</td>\n",
       "      <td>Краснодар</td>\n",
       "      <td>Рафаил</td>\n",
       "      <td>Верещагин</td>\n",
       "      <td>2018-05-25</td>\n",
       "      <td>ultra</td>\n",
       "    </tr>\n",
       "    <tr>\n",
       "      <td>1</td>\n",
       "      <td>1001</td>\n",
       "      <td>41</td>\n",
       "      <td>NaN</td>\n",
       "      <td>Москва</td>\n",
       "      <td>Иван</td>\n",
       "      <td>Ежов</td>\n",
       "      <td>2018-11-01</td>\n",
       "      <td>smart</td>\n",
       "    </tr>\n",
       "    <tr>\n",
       "      <td>2</td>\n",
       "      <td>1002</td>\n",
       "      <td>59</td>\n",
       "      <td>NaN</td>\n",
       "      <td>Стерлитамак</td>\n",
       "      <td>Евгений</td>\n",
       "      <td>Абрамович</td>\n",
       "      <td>2018-06-17</td>\n",
       "      <td>smart</td>\n",
       "    </tr>\n",
       "    <tr>\n",
       "      <td>3</td>\n",
       "      <td>1003</td>\n",
       "      <td>23</td>\n",
       "      <td>NaN</td>\n",
       "      <td>Москва</td>\n",
       "      <td>Белла</td>\n",
       "      <td>Белякова</td>\n",
       "      <td>2018-08-17</td>\n",
       "      <td>ultra</td>\n",
       "    </tr>\n",
       "    <tr>\n",
       "      <td>4</td>\n",
       "      <td>1004</td>\n",
       "      <td>68</td>\n",
       "      <td>NaN</td>\n",
       "      <td>Новокузнецк</td>\n",
       "      <td>Татьяна</td>\n",
       "      <td>Авдеенко</td>\n",
       "      <td>2018-05-14</td>\n",
       "      <td>ultra</td>\n",
       "    </tr>\n",
       "  </tbody>\n",
       "</table>\n",
       "</div>"
      ],
      "text/plain": [
       "   user_id  age churn_date         city first_name  last_name    reg_date  \\\n",
       "0     1000   52        NaN    Краснодар     Рафаил  Верещагин  2018-05-25   \n",
       "1     1001   41        NaN       Москва       Иван       Ежов  2018-11-01   \n",
       "2     1002   59        NaN  Стерлитамак    Евгений  Абрамович  2018-06-17   \n",
       "3     1003   23        NaN       Москва      Белла   Белякова  2018-08-17   \n",
       "4     1004   68        NaN  Новокузнецк    Татьяна   Авдеенко  2018-05-14   \n",
       "\n",
       "  tariff  \n",
       "0  ultra  \n",
       "1  smart  \n",
       "2  smart  \n",
       "3  ultra  \n",
       "4  ultra  "
      ]
     },
     "execution_count": 4,
     "metadata": {},
     "output_type": "execute_result"
    }
   ],
   "source": [
    "data_users.head()"
   ]
  },
  {
   "cell_type": "markdown",
   "metadata": {},
   "source": [
    "По данной таблице данные в целом пригодны для дальнейшего анализа. Пропуски в churne_date стоят специально и означают, что тариф еще действует на дату выгрузки. Единственное, что можно преобразовать это колонка red_date в формат datetime для удобства анализа по временным параметрам."
   ]
  },
  {
   "cell_type": "code",
   "execution_count": 5,
   "metadata": {},
   "outputs": [
    {
     "name": "stdout",
     "output_type": "stream",
     "text": [
      "<class 'pandas.core.frame.DataFrame'>\n",
      "RangeIndex: 202607 entries, 0 to 202606\n",
      "Data columns (total 4 columns):\n",
      "id           202607 non-null object\n",
      "call_date    202607 non-null object\n",
      "duration     202607 non-null float64\n",
      "user_id      202607 non-null int64\n",
      "dtypes: float64(1), int64(1), object(2)\n",
      "memory usage: 6.2+ MB\n"
     ]
    }
   ],
   "source": [
    "data_calls.info()"
   ]
  },
  {
   "cell_type": "code",
   "execution_count": 6,
   "metadata": {},
   "outputs": [
    {
     "data": {
      "text/html": [
       "<div>\n",
       "<style scoped>\n",
       "    .dataframe tbody tr th:only-of-type {\n",
       "        vertical-align: middle;\n",
       "    }\n",
       "\n",
       "    .dataframe tbody tr th {\n",
       "        vertical-align: top;\n",
       "    }\n",
       "\n",
       "    .dataframe thead th {\n",
       "        text-align: right;\n",
       "    }\n",
       "</style>\n",
       "<table border=\"1\" class=\"dataframe\">\n",
       "  <thead>\n",
       "    <tr style=\"text-align: right;\">\n",
       "      <th></th>\n",
       "      <th>id</th>\n",
       "      <th>call_date</th>\n",
       "      <th>duration</th>\n",
       "      <th>user_id</th>\n",
       "    </tr>\n",
       "  </thead>\n",
       "  <tbody>\n",
       "    <tr>\n",
       "      <td>0</td>\n",
       "      <td>1000_0</td>\n",
       "      <td>2018-07-25</td>\n",
       "      <td>0.00</td>\n",
       "      <td>1000</td>\n",
       "    </tr>\n",
       "    <tr>\n",
       "      <td>1</td>\n",
       "      <td>1000_1</td>\n",
       "      <td>2018-08-17</td>\n",
       "      <td>0.00</td>\n",
       "      <td>1000</td>\n",
       "    </tr>\n",
       "    <tr>\n",
       "      <td>2</td>\n",
       "      <td>1000_2</td>\n",
       "      <td>2018-06-11</td>\n",
       "      <td>2.85</td>\n",
       "      <td>1000</td>\n",
       "    </tr>\n",
       "    <tr>\n",
       "      <td>3</td>\n",
       "      <td>1000_3</td>\n",
       "      <td>2018-09-21</td>\n",
       "      <td>13.80</td>\n",
       "      <td>1000</td>\n",
       "    </tr>\n",
       "    <tr>\n",
       "      <td>4</td>\n",
       "      <td>1000_4</td>\n",
       "      <td>2018-12-15</td>\n",
       "      <td>5.18</td>\n",
       "      <td>1000</td>\n",
       "    </tr>\n",
       "  </tbody>\n",
       "</table>\n",
       "</div>"
      ],
      "text/plain": [
       "       id   call_date  duration  user_id\n",
       "0  1000_0  2018-07-25      0.00     1000\n",
       "1  1000_1  2018-08-17      0.00     1000\n",
       "2  1000_2  2018-06-11      2.85     1000\n",
       "3  1000_3  2018-09-21     13.80     1000\n",
       "4  1000_4  2018-12-15      5.18     1000"
      ]
     },
     "execution_count": 6,
     "metadata": {},
     "output_type": "execute_result"
    }
   ],
   "source": [
    "data_calls.head()"
   ]
  },
  {
   "cell_type": "markdown",
   "metadata": {},
   "source": [
    "Аналогично предыдущей таблице колонку с датами можно преобразовать в более удобный формат. Возможно в целях далейнешего анализа понадобится группировка данных по user_id. Пропусков нет. 0 звонки как было сказано - означают пропущенные вызовы. Сами вызовы можно округлить в большую стороны исходя из условий тарифов."
   ]
  },
  {
   "cell_type": "code",
   "execution_count": 7,
   "metadata": {},
   "outputs": [
    {
     "name": "stdout",
     "output_type": "stream",
     "text": [
      "<class 'pandas.core.frame.DataFrame'>\n",
      "RangeIndex: 123036 entries, 0 to 123035\n",
      "Data columns (total 3 columns):\n",
      "id              123036 non-null object\n",
      "message_date    123036 non-null object\n",
      "user_id         123036 non-null int64\n",
      "dtypes: int64(1), object(2)\n",
      "memory usage: 2.8+ MB\n"
     ]
    }
   ],
   "source": [
    "data_messages.info()"
   ]
  },
  {
   "cell_type": "code",
   "execution_count": 8,
   "metadata": {},
   "outputs": [
    {
     "data": {
      "text/html": [
       "<div>\n",
       "<style scoped>\n",
       "    .dataframe tbody tr th:only-of-type {\n",
       "        vertical-align: middle;\n",
       "    }\n",
       "\n",
       "    .dataframe tbody tr th {\n",
       "        vertical-align: top;\n",
       "    }\n",
       "\n",
       "    .dataframe thead th {\n",
       "        text-align: right;\n",
       "    }\n",
       "</style>\n",
       "<table border=\"1\" class=\"dataframe\">\n",
       "  <thead>\n",
       "    <tr style=\"text-align: right;\">\n",
       "      <th></th>\n",
       "      <th>id</th>\n",
       "      <th>message_date</th>\n",
       "      <th>user_id</th>\n",
       "    </tr>\n",
       "  </thead>\n",
       "  <tbody>\n",
       "    <tr>\n",
       "      <td>0</td>\n",
       "      <td>1000_0</td>\n",
       "      <td>2018-06-27</td>\n",
       "      <td>1000</td>\n",
       "    </tr>\n",
       "    <tr>\n",
       "      <td>1</td>\n",
       "      <td>1000_1</td>\n",
       "      <td>2018-10-08</td>\n",
       "      <td>1000</td>\n",
       "    </tr>\n",
       "    <tr>\n",
       "      <td>2</td>\n",
       "      <td>1000_2</td>\n",
       "      <td>2018-08-04</td>\n",
       "      <td>1000</td>\n",
       "    </tr>\n",
       "    <tr>\n",
       "      <td>3</td>\n",
       "      <td>1000_3</td>\n",
       "      <td>2018-06-16</td>\n",
       "      <td>1000</td>\n",
       "    </tr>\n",
       "    <tr>\n",
       "      <td>4</td>\n",
       "      <td>1000_4</td>\n",
       "      <td>2018-12-05</td>\n",
       "      <td>1000</td>\n",
       "    </tr>\n",
       "  </tbody>\n",
       "</table>\n",
       "</div>"
      ],
      "text/plain": [
       "       id message_date  user_id\n",
       "0  1000_0   2018-06-27     1000\n",
       "1  1000_1   2018-10-08     1000\n",
       "2  1000_2   2018-08-04     1000\n",
       "3  1000_3   2018-06-16     1000\n",
       "4  1000_4   2018-12-05     1000"
      ]
     },
     "execution_count": 8,
     "metadata": {},
     "output_type": "execute_result"
    }
   ],
   "source": [
    "data_messages.head()"
   ]
  },
  {
   "cell_type": "markdown",
   "metadata": {},
   "source": [
    "Аналогично, изменение форматы даты и возможнная группировка."
   ]
  },
  {
   "cell_type": "code",
   "execution_count": 9,
   "metadata": {},
   "outputs": [
    {
     "name": "stdout",
     "output_type": "stream",
     "text": [
      "<class 'pandas.core.frame.DataFrame'>\n",
      "RangeIndex: 149396 entries, 0 to 149395\n",
      "Data columns (total 5 columns):\n",
      "Unnamed: 0      149396 non-null int64\n",
      "id              149396 non-null object\n",
      "mb_used         149396 non-null float64\n",
      "session_date    149396 non-null object\n",
      "user_id         149396 non-null int64\n",
      "dtypes: float64(1), int64(2), object(2)\n",
      "memory usage: 5.7+ MB\n"
     ]
    }
   ],
   "source": [
    "data_internet.info()"
   ]
  },
  {
   "cell_type": "code",
   "execution_count": 10,
   "metadata": {},
   "outputs": [
    {
     "data": {
      "text/html": [
       "<div>\n",
       "<style scoped>\n",
       "    .dataframe tbody tr th:only-of-type {\n",
       "        vertical-align: middle;\n",
       "    }\n",
       "\n",
       "    .dataframe tbody tr th {\n",
       "        vertical-align: top;\n",
       "    }\n",
       "\n",
       "    .dataframe thead th {\n",
       "        text-align: right;\n",
       "    }\n",
       "</style>\n",
       "<table border=\"1\" class=\"dataframe\">\n",
       "  <thead>\n",
       "    <tr style=\"text-align: right;\">\n",
       "      <th></th>\n",
       "      <th>Unnamed: 0</th>\n",
       "      <th>id</th>\n",
       "      <th>mb_used</th>\n",
       "      <th>session_date</th>\n",
       "      <th>user_id</th>\n",
       "    </tr>\n",
       "  </thead>\n",
       "  <tbody>\n",
       "    <tr>\n",
       "      <td>0</td>\n",
       "      <td>0</td>\n",
       "      <td>1000_0</td>\n",
       "      <td>112.95</td>\n",
       "      <td>2018-11-25</td>\n",
       "      <td>1000</td>\n",
       "    </tr>\n",
       "    <tr>\n",
       "      <td>1</td>\n",
       "      <td>1</td>\n",
       "      <td>1000_1</td>\n",
       "      <td>1052.81</td>\n",
       "      <td>2018-09-07</td>\n",
       "      <td>1000</td>\n",
       "    </tr>\n",
       "    <tr>\n",
       "      <td>2</td>\n",
       "      <td>2</td>\n",
       "      <td>1000_2</td>\n",
       "      <td>1197.26</td>\n",
       "      <td>2018-06-25</td>\n",
       "      <td>1000</td>\n",
       "    </tr>\n",
       "    <tr>\n",
       "      <td>3</td>\n",
       "      <td>3</td>\n",
       "      <td>1000_3</td>\n",
       "      <td>550.27</td>\n",
       "      <td>2018-08-22</td>\n",
       "      <td>1000</td>\n",
       "    </tr>\n",
       "    <tr>\n",
       "      <td>4</td>\n",
       "      <td>4</td>\n",
       "      <td>1000_4</td>\n",
       "      <td>302.56</td>\n",
       "      <td>2018-09-24</td>\n",
       "      <td>1000</td>\n",
       "    </tr>\n",
       "  </tbody>\n",
       "</table>\n",
       "</div>"
      ],
      "text/plain": [
       "   Unnamed: 0      id  mb_used session_date  user_id\n",
       "0           0  1000_0   112.95   2018-11-25     1000\n",
       "1           1  1000_1  1052.81   2018-09-07     1000\n",
       "2           2  1000_2  1197.26   2018-06-25     1000\n",
       "3           3  1000_3   550.27   2018-08-22     1000\n",
       "4           4  1000_4   302.56   2018-09-24     1000"
      ]
     },
     "execution_count": 10,
     "metadata": {},
     "output_type": "execute_result"
    }
   ],
   "source": [
    "data_internet.head()"
   ]
  },
  {
   "cell_type": "code",
   "execution_count": 11,
   "metadata": {},
   "outputs": [
    {
     "data": {
      "text/html": [
       "<div>\n",
       "<style scoped>\n",
       "    .dataframe tbody tr th:only-of-type {\n",
       "        vertical-align: middle;\n",
       "    }\n",
       "\n",
       "    .dataframe tbody tr th {\n",
       "        vertical-align: top;\n",
       "    }\n",
       "\n",
       "    .dataframe thead th {\n",
       "        text-align: right;\n",
       "    }\n",
       "</style>\n",
       "<table border=\"1\" class=\"dataframe\">\n",
       "  <thead>\n",
       "    <tr style=\"text-align: right;\">\n",
       "      <th></th>\n",
       "      <th>Unnamed: 0</th>\n",
       "      <th>id</th>\n",
       "      <th>mb_used</th>\n",
       "      <th>session_date</th>\n",
       "      <th>user_id</th>\n",
       "    </tr>\n",
       "  </thead>\n",
       "  <tbody>\n",
       "    <tr>\n",
       "      <td>149391</td>\n",
       "      <td>149391</td>\n",
       "      <td>1499_152</td>\n",
       "      <td>318.90</td>\n",
       "      <td>2018-10-03</td>\n",
       "      <td>1499</td>\n",
       "    </tr>\n",
       "    <tr>\n",
       "      <td>149392</td>\n",
       "      <td>149392</td>\n",
       "      <td>1499_153</td>\n",
       "      <td>490.13</td>\n",
       "      <td>2018-12-14</td>\n",
       "      <td>1499</td>\n",
       "    </tr>\n",
       "    <tr>\n",
       "      <td>149393</td>\n",
       "      <td>149393</td>\n",
       "      <td>1499_154</td>\n",
       "      <td>0.00</td>\n",
       "      <td>2018-10-27</td>\n",
       "      <td>1499</td>\n",
       "    </tr>\n",
       "    <tr>\n",
       "      <td>149394</td>\n",
       "      <td>149394</td>\n",
       "      <td>1499_155</td>\n",
       "      <td>1246.32</td>\n",
       "      <td>2018-11-26</td>\n",
       "      <td>1499</td>\n",
       "    </tr>\n",
       "    <tr>\n",
       "      <td>149395</td>\n",
       "      <td>149395</td>\n",
       "      <td>1499_156</td>\n",
       "      <td>544.37</td>\n",
       "      <td>2018-10-26</td>\n",
       "      <td>1499</td>\n",
       "    </tr>\n",
       "  </tbody>\n",
       "</table>\n",
       "</div>"
      ],
      "text/plain": [
       "        Unnamed: 0        id  mb_used session_date  user_id\n",
       "149391      149391  1499_152   318.90   2018-10-03     1499\n",
       "149392      149392  1499_153   490.13   2018-12-14     1499\n",
       "149393      149393  1499_154     0.00   2018-10-27     1499\n",
       "149394      149394  1499_155  1246.32   2018-11-26     1499\n",
       "149395      149395  1499_156   544.37   2018-10-26     1499"
      ]
     },
     "execution_count": 11,
     "metadata": {},
     "output_type": "execute_result"
    }
   ],
   "source": [
    "data_internet.tail()"
   ]
  },
  {
   "cell_type": "markdown",
   "metadata": {},
   "source": [
    "Аналогично, предыдущим замечаниям и здесь есть странная колонка unnamed:0 похожая на задвоение индексации (также в документации она не упоминается), возможно это ошибка выгрузки. Думаю ее можно просто удалить из даты. Также мегабайты можно перевести в гигабайты, учитывая условия по плате за тариф."
   ]
  },
  {
   "cell_type": "code",
   "execution_count": 12,
   "metadata": {},
   "outputs": [
    {
     "name": "stdout",
     "output_type": "stream",
     "text": [
      "<class 'pandas.core.frame.DataFrame'>\n",
      "RangeIndex: 2 entries, 0 to 1\n",
      "Data columns (total 8 columns):\n",
      "messages_included        2 non-null int64\n",
      "mb_per_month_included    2 non-null int64\n",
      "minutes_included         2 non-null int64\n",
      "rub_monthly_fee          2 non-null int64\n",
      "rub_per_gb               2 non-null int64\n",
      "rub_per_message          2 non-null int64\n",
      "rub_per_minute           2 non-null int64\n",
      "tariff_name              2 non-null object\n",
      "dtypes: int64(7), object(1)\n",
      "memory usage: 256.0+ bytes\n"
     ]
    }
   ],
   "source": [
    "data_tariffs.info()"
   ]
  },
  {
   "cell_type": "code",
   "execution_count": 13,
   "metadata": {},
   "outputs": [
    {
     "data": {
      "text/html": [
       "<div>\n",
       "<style scoped>\n",
       "    .dataframe tbody tr th:only-of-type {\n",
       "        vertical-align: middle;\n",
       "    }\n",
       "\n",
       "    .dataframe tbody tr th {\n",
       "        vertical-align: top;\n",
       "    }\n",
       "\n",
       "    .dataframe thead th {\n",
       "        text-align: right;\n",
       "    }\n",
       "</style>\n",
       "<table border=\"1\" class=\"dataframe\">\n",
       "  <thead>\n",
       "    <tr style=\"text-align: right;\">\n",
       "      <th></th>\n",
       "      <th>messages_included</th>\n",
       "      <th>mb_per_month_included</th>\n",
       "      <th>minutes_included</th>\n",
       "      <th>rub_monthly_fee</th>\n",
       "      <th>rub_per_gb</th>\n",
       "      <th>rub_per_message</th>\n",
       "      <th>rub_per_minute</th>\n",
       "      <th>tariff_name</th>\n",
       "    </tr>\n",
       "  </thead>\n",
       "  <tbody>\n",
       "    <tr>\n",
       "      <td>0</td>\n",
       "      <td>50</td>\n",
       "      <td>15360</td>\n",
       "      <td>500</td>\n",
       "      <td>550</td>\n",
       "      <td>200</td>\n",
       "      <td>3</td>\n",
       "      <td>3</td>\n",
       "      <td>smart</td>\n",
       "    </tr>\n",
       "    <tr>\n",
       "      <td>1</td>\n",
       "      <td>1000</td>\n",
       "      <td>30720</td>\n",
       "      <td>3000</td>\n",
       "      <td>1950</td>\n",
       "      <td>150</td>\n",
       "      <td>1</td>\n",
       "      <td>1</td>\n",
       "      <td>ultra</td>\n",
       "    </tr>\n",
       "  </tbody>\n",
       "</table>\n",
       "</div>"
      ],
      "text/plain": [
       "   messages_included  mb_per_month_included  minutes_included  \\\n",
       "0                 50                  15360               500   \n",
       "1               1000                  30720              3000   \n",
       "\n",
       "   rub_monthly_fee  rub_per_gb  rub_per_message  rub_per_minute tariff_name  \n",
       "0              550         200                3               3       smart  \n",
       "1             1950         150                1               1       ultra  "
      ]
     },
     "execution_count": 13,
     "metadata": {},
     "output_type": "execute_result"
    }
   ],
   "source": [
    "data_tariffs"
   ]
  },
  {
   "cell_type": "markdown",
   "metadata": {},
   "source": [
    "Описание тарифов. Здесь все в порядке."
   ]
  },
  {
   "cell_type": "markdown",
   "metadata": {},
   "source": [
    "В целом данные практически готовы для анализа. Необходимо будет преобразовать только колонку с датами и избавится от колонки с задвоенными индексами, минуты округлить вверх, а мегабайты превратить в гигабайты. Также таблицы имеют общие колонки, по которым будет удобно сделать в дальнейшем один датасет.  "
   ]
  },
  {
   "cell_type": "markdown",
   "metadata": {},
   "source": [
    "##  Подготовка данных"
   ]
  },
  {
   "cell_type": "markdown",
   "metadata": {},
   "source": [
    "### Преобразование данных."
   ]
  },
  {
   "cell_type": "code",
   "execution_count": 14,
   "metadata": {},
   "outputs": [
    {
     "data": {
      "text/html": [
       "<div>\n",
       "<style scoped>\n",
       "    .dataframe tbody tr th:only-of-type {\n",
       "        vertical-align: middle;\n",
       "    }\n",
       "\n",
       "    .dataframe tbody tr th {\n",
       "        vertical-align: top;\n",
       "    }\n",
       "\n",
       "    .dataframe thead th {\n",
       "        text-align: right;\n",
       "    }\n",
       "</style>\n",
       "<table border=\"1\" class=\"dataframe\">\n",
       "  <thead>\n",
       "    <tr style=\"text-align: right;\">\n",
       "      <th></th>\n",
       "      <th>user_id</th>\n",
       "      <th>age</th>\n",
       "      <th>churn_date</th>\n",
       "      <th>city</th>\n",
       "      <th>first_name</th>\n",
       "      <th>last_name</th>\n",
       "      <th>reg_date</th>\n",
       "      <th>tariff</th>\n",
       "      <th>month</th>\n",
       "    </tr>\n",
       "  </thead>\n",
       "  <tbody>\n",
       "    <tr>\n",
       "      <td>0</td>\n",
       "      <td>1000</td>\n",
       "      <td>52</td>\n",
       "      <td>NaN</td>\n",
       "      <td>Краснодар</td>\n",
       "      <td>Рафаил</td>\n",
       "      <td>Верещагин</td>\n",
       "      <td>2018-05-25</td>\n",
       "      <td>ultra</td>\n",
       "      <td>5</td>\n",
       "    </tr>\n",
       "    <tr>\n",
       "      <td>1</td>\n",
       "      <td>1001</td>\n",
       "      <td>41</td>\n",
       "      <td>NaN</td>\n",
       "      <td>Москва</td>\n",
       "      <td>Иван</td>\n",
       "      <td>Ежов</td>\n",
       "      <td>2018-11-01</td>\n",
       "      <td>smart</td>\n",
       "      <td>11</td>\n",
       "    </tr>\n",
       "    <tr>\n",
       "      <td>2</td>\n",
       "      <td>1002</td>\n",
       "      <td>59</td>\n",
       "      <td>NaN</td>\n",
       "      <td>Стерлитамак</td>\n",
       "      <td>Евгений</td>\n",
       "      <td>Абрамович</td>\n",
       "      <td>2018-06-17</td>\n",
       "      <td>smart</td>\n",
       "      <td>6</td>\n",
       "    </tr>\n",
       "    <tr>\n",
       "      <td>3</td>\n",
       "      <td>1003</td>\n",
       "      <td>23</td>\n",
       "      <td>NaN</td>\n",
       "      <td>Москва</td>\n",
       "      <td>Белла</td>\n",
       "      <td>Белякова</td>\n",
       "      <td>2018-08-17</td>\n",
       "      <td>ultra</td>\n",
       "      <td>8</td>\n",
       "    </tr>\n",
       "    <tr>\n",
       "      <td>4</td>\n",
       "      <td>1004</td>\n",
       "      <td>68</td>\n",
       "      <td>NaN</td>\n",
       "      <td>Новокузнецк</td>\n",
       "      <td>Татьяна</td>\n",
       "      <td>Авдеенко</td>\n",
       "      <td>2018-05-14</td>\n",
       "      <td>ultra</td>\n",
       "      <td>5</td>\n",
       "    </tr>\n",
       "  </tbody>\n",
       "</table>\n",
       "</div>"
      ],
      "text/plain": [
       "   user_id  age churn_date         city first_name  last_name   reg_date  \\\n",
       "0     1000   52        NaN    Краснодар     Рафаил  Верещагин 2018-05-25   \n",
       "1     1001   41        NaN       Москва       Иван       Ежов 2018-11-01   \n",
       "2     1002   59        NaN  Стерлитамак    Евгений  Абрамович 2018-06-17   \n",
       "3     1003   23        NaN       Москва      Белла   Белякова 2018-08-17   \n",
       "4     1004   68        NaN  Новокузнецк    Татьяна   Авдеенко 2018-05-14   \n",
       "\n",
       "  tariff  month  \n",
       "0  ultra      5  \n",
       "1  smart     11  \n",
       "2  smart      6  \n",
       "3  ultra      8  \n",
       "4  ultra      5  "
      ]
     },
     "execution_count": 14,
     "metadata": {},
     "output_type": "execute_result"
    }
   ],
   "source": [
    "# преобразуем столбцы с датами и извлечем месяцы, так как данные у нас за год\n",
    "#и в данном прокте требуетсмя только помесячный анализ параметров\n",
    "data_users['reg_date'] = pd.to_datetime(data_users['reg_date'], format ='%Y-%m-%d')\n",
    "data_users['month'] = pd.DatetimeIndex(data_users['reg_date']).month\n",
    "data_users.head()"
   ]
  },
  {
   "cell_type": "code",
   "execution_count": 15,
   "metadata": {},
   "outputs": [],
   "source": [
    "#аналогично сделаем для других таблиц\n",
    "data_calls['call_date'] = pd.to_datetime(data_calls['call_date'], format ='%Y-%m-%d')\n",
    "data_calls['month'] = pd.DatetimeIndex(data_calls['call_date']).month\n",
    "\n",
    "data_messages['message_date'] = pd.to_datetime(data_messages['message_date'], format ='%Y-%m-%d')\n",
    "data_messages['month'] = pd.DatetimeIndex(data_messages['message_date']).month\n",
    "\n",
    "data_internet['session_date'] = pd.to_datetime(data_internet['session_date'], format ='%Y-%m-%d')\n",
    "data_internet['month'] = pd.DatetimeIndex(data_internet['session_date']).month"
   ]
  },
  {
   "cell_type": "code",
   "execution_count": 16,
   "metadata": {},
   "outputs": [],
   "source": [
    "# удалим столбец unnamed:0\n",
    "data_internet = data_internet.drop('Unnamed: 0', axis=1)"
   ]
  },
  {
   "cell_type": "code",
   "execution_count": 17,
   "metadata": {},
   "outputs": [],
   "source": [
    "# переведем мегабайты в гигабайты и удалим старую\n",
    "data_internet['gb_used'] =data_internet['mb_used']/1000\n",
    "data_internet = data_internet.drop('mb_used', axis=1)"
   ]
  },
  {
   "cell_type": "code",
   "execution_count": 18,
   "metadata": {},
   "outputs": [],
   "source": [
    "data_internet['gb_used']=round(data_internet['gb_used'], 2)"
   ]
  },
  {
   "cell_type": "code",
   "execution_count": 19,
   "metadata": {},
   "outputs": [],
   "source": [
    "#округлим минуты в большую сторону\n",
    "import math\n",
    "def round_colomn(column):\n",
    "    x = math.ceil(column)\n",
    "    return x\n",
    "data_calls['duration'] = data_calls['duration'].apply(round_colomn)"
   ]
  },
  {
   "cell_type": "code",
   "execution_count": 21,
   "metadata": {},
   "outputs": [],
   "source": [
    "# добавим гигайбайты тарифные планы\n",
    "data_tariffs['gb_internet_included']=data_tariffs['mb_per_month_included']/1000\n"
   ]
  },
  {
   "cell_type": "markdown",
   "metadata": {},
   "source": [
    "Данные преобразованы для дальнейшей работы."
   ]
  },
  {
   "cell_type": "markdown",
   "metadata": {},
   "source": [
    "### Расчет дополнительных параметров."
   ]
  },
  {
   "cell_type": "code",
   "execution_count": 22,
   "metadata": {},
   "outputs": [
    {
     "data": {
      "text/html": [
       "<div>\n",
       "<style scoped>\n",
       "    .dataframe tbody tr th:only-of-type {\n",
       "        vertical-align: middle;\n",
       "    }\n",
       "\n",
       "    .dataframe tbody tr th {\n",
       "        vertical-align: top;\n",
       "    }\n",
       "\n",
       "    .dataframe thead th {\n",
       "        text-align: right;\n",
       "    }\n",
       "</style>\n",
       "<table border=\"1\" class=\"dataframe\">\n",
       "  <thead>\n",
       "    <tr style=\"text-align: right;\">\n",
       "      <th></th>\n",
       "      <th></th>\n",
       "      <th>count_calls</th>\n",
       "      <th>duration_calls</th>\n",
       "    </tr>\n",
       "    <tr>\n",
       "      <th>user_id</th>\n",
       "      <th>month</th>\n",
       "      <th></th>\n",
       "      <th></th>\n",
       "    </tr>\n",
       "  </thead>\n",
       "  <tbody>\n",
       "    <tr>\n",
       "      <td rowspan=\"5\" valign=\"top\">1000</td>\n",
       "      <td>5</td>\n",
       "      <td>22</td>\n",
       "      <td>159</td>\n",
       "    </tr>\n",
       "    <tr>\n",
       "      <td>6</td>\n",
       "      <td>43</td>\n",
       "      <td>172</td>\n",
       "    </tr>\n",
       "    <tr>\n",
       "      <td>7</td>\n",
       "      <td>47</td>\n",
       "      <td>340</td>\n",
       "    </tr>\n",
       "    <tr>\n",
       "      <td>8</td>\n",
       "      <td>52</td>\n",
       "      <td>408</td>\n",
       "    </tr>\n",
       "    <tr>\n",
       "      <td>9</td>\n",
       "      <td>58</td>\n",
       "      <td>466</td>\n",
       "    </tr>\n",
       "    <tr>\n",
       "      <td>...</td>\n",
       "      <td>...</td>\n",
       "      <td>...</td>\n",
       "      <td>...</td>\n",
       "    </tr>\n",
       "    <tr>\n",
       "      <td>1498</td>\n",
       "      <td>10</td>\n",
       "      <td>41</td>\n",
       "      <td>247</td>\n",
       "    </tr>\n",
       "    <tr>\n",
       "      <td rowspan=\"4\" valign=\"top\">1499</td>\n",
       "      <td>9</td>\n",
       "      <td>9</td>\n",
       "      <td>70</td>\n",
       "    </tr>\n",
       "    <tr>\n",
       "      <td>10</td>\n",
       "      <td>68</td>\n",
       "      <td>449</td>\n",
       "    </tr>\n",
       "    <tr>\n",
       "      <td>11</td>\n",
       "      <td>74</td>\n",
       "      <td>612</td>\n",
       "    </tr>\n",
       "    <tr>\n",
       "      <td>12</td>\n",
       "      <td>69</td>\n",
       "      <td>492</td>\n",
       "    </tr>\n",
       "  </tbody>\n",
       "</table>\n",
       "<p>3174 rows × 2 columns</p>\n",
       "</div>"
      ],
      "text/plain": [
       "               count_calls  duration_calls\n",
       "user_id month                             \n",
       "1000    5               22             159\n",
       "        6               43             172\n",
       "        7               47             340\n",
       "        8               52             408\n",
       "        9               58             466\n",
       "...                    ...             ...\n",
       "1498    10              41             247\n",
       "1499    9                9              70\n",
       "        10              68             449\n",
       "        11              74             612\n",
       "        12              69             492\n",
       "\n",
       "[3174 rows x 2 columns]"
      ]
     },
     "execution_count": 22,
     "metadata": {},
     "output_type": "execute_result"
    }
   ],
   "source": [
    "# расчитаем количество звонков и дилтельность по пользователям в разрезе месяцев\n",
    "calls_pivot = data_calls.pivot_table(index=['user_id','month'], values='duration', aggfunc=['count','sum'])\n",
    "calls_pivot.columns = ['count_calls', 'duration_calls']\n",
    "calls_pivot"
   ]
  },
  {
   "cell_type": "code",
   "execution_count": 23,
   "metadata": {},
   "outputs": [
    {
     "data": {
      "text/html": [
       "<div>\n",
       "<style scoped>\n",
       "    .dataframe tbody tr th:only-of-type {\n",
       "        vertical-align: middle;\n",
       "    }\n",
       "\n",
       "    .dataframe tbody tr th {\n",
       "        vertical-align: top;\n",
       "    }\n",
       "\n",
       "    .dataframe thead th {\n",
       "        text-align: right;\n",
       "    }\n",
       "</style>\n",
       "<table border=\"1\" class=\"dataframe\">\n",
       "  <thead>\n",
       "    <tr style=\"text-align: right;\">\n",
       "      <th></th>\n",
       "      <th></th>\n",
       "      <th>count_messages</th>\n",
       "    </tr>\n",
       "    <tr>\n",
       "      <th>user_id</th>\n",
       "      <th>month</th>\n",
       "      <th></th>\n",
       "    </tr>\n",
       "  </thead>\n",
       "  <tbody>\n",
       "    <tr>\n",
       "      <td rowspan=\"5\" valign=\"top\">1000</td>\n",
       "      <td>5</td>\n",
       "      <td>22</td>\n",
       "    </tr>\n",
       "    <tr>\n",
       "      <td>6</td>\n",
       "      <td>60</td>\n",
       "    </tr>\n",
       "    <tr>\n",
       "      <td>7</td>\n",
       "      <td>75</td>\n",
       "    </tr>\n",
       "    <tr>\n",
       "      <td>8</td>\n",
       "      <td>81</td>\n",
       "    </tr>\n",
       "    <tr>\n",
       "      <td>9</td>\n",
       "      <td>57</td>\n",
       "    </tr>\n",
       "    <tr>\n",
       "      <td>...</td>\n",
       "      <td>...</td>\n",
       "      <td>...</td>\n",
       "    </tr>\n",
       "    <tr>\n",
       "      <td>1498</td>\n",
       "      <td>10</td>\n",
       "      <td>42</td>\n",
       "    </tr>\n",
       "    <tr>\n",
       "      <td rowspan=\"4\" valign=\"top\">1499</td>\n",
       "      <td>9</td>\n",
       "      <td>11</td>\n",
       "    </tr>\n",
       "    <tr>\n",
       "      <td>10</td>\n",
       "      <td>48</td>\n",
       "    </tr>\n",
       "    <tr>\n",
       "      <td>11</td>\n",
       "      <td>59</td>\n",
       "    </tr>\n",
       "    <tr>\n",
       "      <td>12</td>\n",
       "      <td>66</td>\n",
       "    </tr>\n",
       "  </tbody>\n",
       "</table>\n",
       "<p>2717 rows × 1 columns</p>\n",
       "</div>"
      ],
      "text/plain": [
       "               count_messages\n",
       "user_id month                \n",
       "1000    5                  22\n",
       "        6                  60\n",
       "        7                  75\n",
       "        8                  81\n",
       "        9                  57\n",
       "...                       ...\n",
       "1498    10                 42\n",
       "1499    9                  11\n",
       "        10                 48\n",
       "        11                 59\n",
       "        12                 66\n",
       "\n",
       "[2717 rows x 1 columns]"
      ]
     },
     "execution_count": 23,
     "metadata": {},
     "output_type": "execute_result"
    }
   ],
   "source": [
    "#находим количесвто сообщений по месяцам\n",
    "messages_pivot = data_messages.pivot_table(index=['user_id','month'], values='message_date', aggfunc='count')\n",
    "messages_pivot.columns =['count_messages']\n",
    "messages_pivot"
   ]
  },
  {
   "cell_type": "code",
   "execution_count": 24,
   "metadata": {},
   "outputs": [
    {
     "data": {
      "text/html": [
       "<div>\n",
       "<style scoped>\n",
       "    .dataframe tbody tr th:only-of-type {\n",
       "        vertical-align: middle;\n",
       "    }\n",
       "\n",
       "    .dataframe tbody tr th {\n",
       "        vertical-align: top;\n",
       "    }\n",
       "\n",
       "    .dataframe thead th {\n",
       "        text-align: right;\n",
       "    }\n",
       "</style>\n",
       "<table border=\"1\" class=\"dataframe\">\n",
       "  <thead>\n",
       "    <tr style=\"text-align: right;\">\n",
       "      <th></th>\n",
       "      <th></th>\n",
       "      <th>internet_total</th>\n",
       "    </tr>\n",
       "    <tr>\n",
       "      <th>user_id</th>\n",
       "      <th>month</th>\n",
       "      <th></th>\n",
       "    </tr>\n",
       "  </thead>\n",
       "  <tbody>\n",
       "    <tr>\n",
       "      <td rowspan=\"5\" valign=\"top\">1000</td>\n",
       "      <td>5</td>\n",
       "      <td>2.25</td>\n",
       "    </tr>\n",
       "    <tr>\n",
       "      <td>6</td>\n",
       "      <td>23.22</td>\n",
       "    </tr>\n",
       "    <tr>\n",
       "      <td>7</td>\n",
       "      <td>14.02</td>\n",
       "    </tr>\n",
       "    <tr>\n",
       "      <td>8</td>\n",
       "      <td>14.06</td>\n",
       "    </tr>\n",
       "    <tr>\n",
       "      <td>9</td>\n",
       "      <td>14.56</td>\n",
       "    </tr>\n",
       "    <tr>\n",
       "      <td>...</td>\n",
       "      <td>...</td>\n",
       "      <td>...</td>\n",
       "    </tr>\n",
       "    <tr>\n",
       "      <td>1498</td>\n",
       "      <td>10</td>\n",
       "      <td>20.57</td>\n",
       "    </tr>\n",
       "    <tr>\n",
       "      <td rowspan=\"4\" valign=\"top\">1499</td>\n",
       "      <td>9</td>\n",
       "      <td>1.85</td>\n",
       "    </tr>\n",
       "    <tr>\n",
       "      <td>10</td>\n",
       "      <td>17.79</td>\n",
       "    </tr>\n",
       "    <tr>\n",
       "      <td>11</td>\n",
       "      <td>17.94</td>\n",
       "    </tr>\n",
       "    <tr>\n",
       "      <td>12</td>\n",
       "      <td>13.08</td>\n",
       "    </tr>\n",
       "  </tbody>\n",
       "</table>\n",
       "<p>3203 rows × 1 columns</p>\n",
       "</div>"
      ],
      "text/plain": [
       "               internet_total\n",
       "user_id month                \n",
       "1000    5                2.25\n",
       "        6               23.22\n",
       "        7               14.02\n",
       "        8               14.06\n",
       "        9               14.56\n",
       "...                       ...\n",
       "1498    10              20.57\n",
       "1499    9                1.85\n",
       "        10              17.79\n",
       "        11              17.94\n",
       "        12              13.08\n",
       "\n",
       "[3203 rows x 1 columns]"
      ]
     },
     "execution_count": 24,
     "metadata": {},
     "output_type": "execute_result"
    }
   ],
   "source": [
    "#находим количесвто интернет трафика по месяцам\n",
    "internet_pivot = data_internet.pivot_table(index=['user_id','month'], values='gb_used', aggfunc='sum')\n",
    "internet_pivot.columns =['internet_total']\n",
    "internet_pivot"
   ]
  },
  {
   "cell_type": "code",
   "execution_count": 25,
   "metadata": {},
   "outputs": [
    {
     "data": {
      "text/html": [
       "<div>\n",
       "<style scoped>\n",
       "    .dataframe tbody tr th:only-of-type {\n",
       "        vertical-align: middle;\n",
       "    }\n",
       "\n",
       "    .dataframe tbody tr th {\n",
       "        vertical-align: top;\n",
       "    }\n",
       "\n",
       "    .dataframe thead th {\n",
       "        text-align: right;\n",
       "    }\n",
       "</style>\n",
       "<table border=\"1\" class=\"dataframe\">\n",
       "  <thead>\n",
       "    <tr style=\"text-align: right;\">\n",
       "      <th></th>\n",
       "      <th>user_id</th>\n",
       "      <th>city</th>\n",
       "      <th>tariff</th>\n",
       "      <th>month</th>\n",
       "      <th>count_messages</th>\n",
       "      <th>count_calls</th>\n",
       "      <th>duration_calls</th>\n",
       "      <th>internet_total</th>\n",
       "    </tr>\n",
       "  </thead>\n",
       "  <tbody>\n",
       "    <tr>\n",
       "      <td>0</td>\n",
       "      <td>1000</td>\n",
       "      <td>Краснодар</td>\n",
       "      <td>ultra</td>\n",
       "      <td>5</td>\n",
       "      <td>22.0</td>\n",
       "      <td>22.0</td>\n",
       "      <td>159.0</td>\n",
       "      <td>2.25</td>\n",
       "    </tr>\n",
       "    <tr>\n",
       "      <td>1</td>\n",
       "      <td>1000</td>\n",
       "      <td>Краснодар</td>\n",
       "      <td>ultra</td>\n",
       "      <td>6</td>\n",
       "      <td>60.0</td>\n",
       "      <td>43.0</td>\n",
       "      <td>172.0</td>\n",
       "      <td>23.22</td>\n",
       "    </tr>\n",
       "    <tr>\n",
       "      <td>2</td>\n",
       "      <td>1000</td>\n",
       "      <td>Краснодар</td>\n",
       "      <td>ultra</td>\n",
       "      <td>7</td>\n",
       "      <td>75.0</td>\n",
       "      <td>47.0</td>\n",
       "      <td>340.0</td>\n",
       "      <td>14.02</td>\n",
       "    </tr>\n",
       "    <tr>\n",
       "      <td>3</td>\n",
       "      <td>1000</td>\n",
       "      <td>Краснодар</td>\n",
       "      <td>ultra</td>\n",
       "      <td>8</td>\n",
       "      <td>81.0</td>\n",
       "      <td>52.0</td>\n",
       "      <td>408.0</td>\n",
       "      <td>14.06</td>\n",
       "    </tr>\n",
       "    <tr>\n",
       "      <td>4</td>\n",
       "      <td>1000</td>\n",
       "      <td>Краснодар</td>\n",
       "      <td>ultra</td>\n",
       "      <td>9</td>\n",
       "      <td>57.0</td>\n",
       "      <td>58.0</td>\n",
       "      <td>466.0</td>\n",
       "      <td>14.56</td>\n",
       "    </tr>\n",
       "    <tr>\n",
       "      <td>...</td>\n",
       "      <td>...</td>\n",
       "      <td>...</td>\n",
       "      <td>...</td>\n",
       "      <td>...</td>\n",
       "      <td>...</td>\n",
       "      <td>...</td>\n",
       "      <td>...</td>\n",
       "      <td>...</td>\n",
       "    </tr>\n",
       "    <tr>\n",
       "      <td>3209</td>\n",
       "      <td>1498</td>\n",
       "      <td>Владикавказ</td>\n",
       "      <td>smart</td>\n",
       "      <td>10</td>\n",
       "      <td>42.0</td>\n",
       "      <td>41.0</td>\n",
       "      <td>247.0</td>\n",
       "      <td>20.57</td>\n",
       "    </tr>\n",
       "    <tr>\n",
       "      <td>3210</td>\n",
       "      <td>1499</td>\n",
       "      <td>Пермь</td>\n",
       "      <td>smart</td>\n",
       "      <td>9</td>\n",
       "      <td>11.0</td>\n",
       "      <td>9.0</td>\n",
       "      <td>70.0</td>\n",
       "      <td>1.85</td>\n",
       "    </tr>\n",
       "    <tr>\n",
       "      <td>3211</td>\n",
       "      <td>1499</td>\n",
       "      <td>Пермь</td>\n",
       "      <td>smart</td>\n",
       "      <td>10</td>\n",
       "      <td>48.0</td>\n",
       "      <td>68.0</td>\n",
       "      <td>449.0</td>\n",
       "      <td>17.79</td>\n",
       "    </tr>\n",
       "    <tr>\n",
       "      <td>3212</td>\n",
       "      <td>1499</td>\n",
       "      <td>Пермь</td>\n",
       "      <td>smart</td>\n",
       "      <td>11</td>\n",
       "      <td>59.0</td>\n",
       "      <td>74.0</td>\n",
       "      <td>612.0</td>\n",
       "      <td>17.94</td>\n",
       "    </tr>\n",
       "    <tr>\n",
       "      <td>3213</td>\n",
       "      <td>1499</td>\n",
       "      <td>Пермь</td>\n",
       "      <td>smart</td>\n",
       "      <td>12</td>\n",
       "      <td>66.0</td>\n",
       "      <td>69.0</td>\n",
       "      <td>492.0</td>\n",
       "      <td>13.08</td>\n",
       "    </tr>\n",
       "  </tbody>\n",
       "</table>\n",
       "<p>3214 rows × 8 columns</p>\n",
       "</div>"
      ],
      "text/plain": [
       "      user_id         city tariff  month  count_messages  count_calls  \\\n",
       "0        1000    Краснодар  ultra      5            22.0         22.0   \n",
       "1        1000    Краснодар  ultra      6            60.0         43.0   \n",
       "2        1000    Краснодар  ultra      7            75.0         47.0   \n",
       "3        1000    Краснодар  ultra      8            81.0         52.0   \n",
       "4        1000    Краснодар  ultra      9            57.0         58.0   \n",
       "...       ...          ...    ...    ...             ...          ...   \n",
       "3209     1498  Владикавказ  smart     10            42.0         41.0   \n",
       "3210     1499        Пермь  smart      9            11.0          9.0   \n",
       "3211     1499        Пермь  smart     10            48.0         68.0   \n",
       "3212     1499        Пермь  smart     11            59.0         74.0   \n",
       "3213     1499        Пермь  smart     12            66.0         69.0   \n",
       "\n",
       "      duration_calls  internet_total  \n",
       "0              159.0            2.25  \n",
       "1              172.0           23.22  \n",
       "2              340.0           14.02  \n",
       "3              408.0           14.06  \n",
       "4              466.0           14.56  \n",
       "...              ...             ...  \n",
       "3209           247.0           20.57  \n",
       "3210            70.0            1.85  \n",
       "3211           449.0           17.79  \n",
       "3212           612.0           17.94  \n",
       "3213           492.0           13.08  \n",
       "\n",
       "[3214 rows x 8 columns]"
      ]
     },
     "execution_count": 25,
     "metadata": {},
     "output_type": "execute_result"
    }
   ],
   "source": [
    "#теперь будем расчитывать доход по пользователям, но сначала обьекдиним все в один датасет\n",
    "all_data = messages_pivot.merge(calls_pivot, on=['user_id','month'], how='outer')\n",
    "all_data = all_data.merge(internet_pivot, on=['user_id','month'], how='outer') \n",
    "all_data = all_data.reset_index()\n",
    "all_data = data_users[['user_id','city', 'tariff']].merge(all_data, on='user_id', how='right')\n",
    "all_data "
   ]
  },
  {
   "cell_type": "code",
   "execution_count": 26,
   "metadata": {},
   "outputs": [
    {
     "name": "stdout",
     "output_type": "stream",
     "text": [
      "<class 'pandas.core.frame.DataFrame'>\n",
      "Int64Index: 3214 entries, 0 to 3213\n",
      "Data columns (total 8 columns):\n",
      "user_id           3214 non-null int64\n",
      "city              3214 non-null object\n",
      "tariff            3214 non-null object\n",
      "month             3214 non-null int64\n",
      "count_messages    2717 non-null float64\n",
      "count_calls       3174 non-null float64\n",
      "duration_calls    3174 non-null float64\n",
      "internet_total    3203 non-null float64\n",
      "dtypes: float64(4), int64(2), object(2)\n",
      "memory usage: 226.0+ KB\n"
     ]
    }
   ],
   "source": [
    "all_data.info()\n"
   ]
  },
  {
   "cell_type": "code",
   "execution_count": 27,
   "metadata": {},
   "outputs": [],
   "source": [
    "# все пропуски можно заполнить 0, а данные привести к целым числам\n",
    "all_data = all_data.fillna(0)"
   ]
  },
  {
   "cell_type": "code",
   "execution_count": 28,
   "metadata": {},
   "outputs": [],
   "source": [
    "all_data['count_messages'] = all_data['count_messages'].astype('int')\n",
    "all_data['count_calls'] = all_data['count_calls'].astype('int')\n",
    "all_data['duration_calls'] = all_data['duration_calls'].astype('int')"
   ]
  },
  {
   "cell_type": "code",
   "execution_count": 29,
   "metadata": {},
   "outputs": [
    {
     "data": {
      "text/html": [
       "<div>\n",
       "<style scoped>\n",
       "    .dataframe tbody tr th:only-of-type {\n",
       "        vertical-align: middle;\n",
       "    }\n",
       "\n",
       "    .dataframe tbody tr th {\n",
       "        vertical-align: top;\n",
       "    }\n",
       "\n",
       "    .dataframe thead th {\n",
       "        text-align: right;\n",
       "    }\n",
       "</style>\n",
       "<table border=\"1\" class=\"dataframe\">\n",
       "  <thead>\n",
       "    <tr style=\"text-align: right;\">\n",
       "      <th></th>\n",
       "      <th>user_id</th>\n",
       "      <th>city</th>\n",
       "      <th>tariff</th>\n",
       "      <th>month</th>\n",
       "      <th>count_messages</th>\n",
       "      <th>count_calls</th>\n",
       "      <th>duration_calls</th>\n",
       "      <th>internet_total</th>\n",
       "      <th>revenue</th>\n",
       "    </tr>\n",
       "  </thead>\n",
       "  <tbody>\n",
       "    <tr>\n",
       "      <td>0</td>\n",
       "      <td>1000</td>\n",
       "      <td>Краснодар</td>\n",
       "      <td>ultra</td>\n",
       "      <td>5</td>\n",
       "      <td>22</td>\n",
       "      <td>22</td>\n",
       "      <td>159</td>\n",
       "      <td>2.25</td>\n",
       "      <td>1950.0</td>\n",
       "    </tr>\n",
       "    <tr>\n",
       "      <td>1</td>\n",
       "      <td>1000</td>\n",
       "      <td>Краснодар</td>\n",
       "      <td>ultra</td>\n",
       "      <td>6</td>\n",
       "      <td>60</td>\n",
       "      <td>43</td>\n",
       "      <td>172</td>\n",
       "      <td>23.22</td>\n",
       "      <td>1950.0</td>\n",
       "    </tr>\n",
       "    <tr>\n",
       "      <td>2</td>\n",
       "      <td>1000</td>\n",
       "      <td>Краснодар</td>\n",
       "      <td>ultra</td>\n",
       "      <td>7</td>\n",
       "      <td>75</td>\n",
       "      <td>47</td>\n",
       "      <td>340</td>\n",
       "      <td>14.02</td>\n",
       "      <td>1950.0</td>\n",
       "    </tr>\n",
       "    <tr>\n",
       "      <td>3</td>\n",
       "      <td>1000</td>\n",
       "      <td>Краснодар</td>\n",
       "      <td>ultra</td>\n",
       "      <td>8</td>\n",
       "      <td>81</td>\n",
       "      <td>52</td>\n",
       "      <td>408</td>\n",
       "      <td>14.06</td>\n",
       "      <td>1950.0</td>\n",
       "    </tr>\n",
       "    <tr>\n",
       "      <td>4</td>\n",
       "      <td>1000</td>\n",
       "      <td>Краснодар</td>\n",
       "      <td>ultra</td>\n",
       "      <td>9</td>\n",
       "      <td>57</td>\n",
       "      <td>58</td>\n",
       "      <td>466</td>\n",
       "      <td>14.56</td>\n",
       "      <td>1950.0</td>\n",
       "    </tr>\n",
       "    <tr>\n",
       "      <td>...</td>\n",
       "      <td>...</td>\n",
       "      <td>...</td>\n",
       "      <td>...</td>\n",
       "      <td>...</td>\n",
       "      <td>...</td>\n",
       "      <td>...</td>\n",
       "      <td>...</td>\n",
       "      <td>...</td>\n",
       "      <td>...</td>\n",
       "    </tr>\n",
       "    <tr>\n",
       "      <td>3209</td>\n",
       "      <td>1498</td>\n",
       "      <td>Владикавказ</td>\n",
       "      <td>smart</td>\n",
       "      <td>10</td>\n",
       "      <td>42</td>\n",
       "      <td>41</td>\n",
       "      <td>247</td>\n",
       "      <td>20.57</td>\n",
       "      <td>1750.0</td>\n",
       "    </tr>\n",
       "    <tr>\n",
       "      <td>3210</td>\n",
       "      <td>1499</td>\n",
       "      <td>Пермь</td>\n",
       "      <td>smart</td>\n",
       "      <td>9</td>\n",
       "      <td>11</td>\n",
       "      <td>9</td>\n",
       "      <td>70</td>\n",
       "      <td>1.85</td>\n",
       "      <td>550.0</td>\n",
       "    </tr>\n",
       "    <tr>\n",
       "      <td>3211</td>\n",
       "      <td>1499</td>\n",
       "      <td>Пермь</td>\n",
       "      <td>smart</td>\n",
       "      <td>10</td>\n",
       "      <td>48</td>\n",
       "      <td>68</td>\n",
       "      <td>449</td>\n",
       "      <td>17.79</td>\n",
       "      <td>1150.0</td>\n",
       "    </tr>\n",
       "    <tr>\n",
       "      <td>3212</td>\n",
       "      <td>1499</td>\n",
       "      <td>Пермь</td>\n",
       "      <td>smart</td>\n",
       "      <td>11</td>\n",
       "      <td>59</td>\n",
       "      <td>74</td>\n",
       "      <td>612</td>\n",
       "      <td>17.94</td>\n",
       "      <td>1513.0</td>\n",
       "    </tr>\n",
       "    <tr>\n",
       "      <td>3213</td>\n",
       "      <td>1499</td>\n",
       "      <td>Пермь</td>\n",
       "      <td>smart</td>\n",
       "      <td>12</td>\n",
       "      <td>66</td>\n",
       "      <td>69</td>\n",
       "      <td>492</td>\n",
       "      <td>13.08</td>\n",
       "      <td>598.0</td>\n",
       "    </tr>\n",
       "  </tbody>\n",
       "</table>\n",
       "<p>3214 rows × 9 columns</p>\n",
       "</div>"
      ],
      "text/plain": [
       "      user_id         city tariff  month  count_messages  count_calls  \\\n",
       "0        1000    Краснодар  ultra      5              22           22   \n",
       "1        1000    Краснодар  ultra      6              60           43   \n",
       "2        1000    Краснодар  ultra      7              75           47   \n",
       "3        1000    Краснодар  ultra      8              81           52   \n",
       "4        1000    Краснодар  ultra      9              57           58   \n",
       "...       ...          ...    ...    ...             ...          ...   \n",
       "3209     1498  Владикавказ  smart     10              42           41   \n",
       "3210     1499        Пермь  smart      9              11            9   \n",
       "3211     1499        Пермь  smart     10              48           68   \n",
       "3212     1499        Пермь  smart     11              59           74   \n",
       "3213     1499        Пермь  smart     12              66           69   \n",
       "\n",
       "      duration_calls  internet_total  revenue  \n",
       "0                159            2.25   1950.0  \n",
       "1                172           23.22   1950.0  \n",
       "2                340           14.02   1950.0  \n",
       "3                408           14.06   1950.0  \n",
       "4                466           14.56   1950.0  \n",
       "...              ...             ...      ...  \n",
       "3209             247           20.57   1750.0  \n",
       "3210              70            1.85    550.0  \n",
       "3211             449           17.79   1150.0  \n",
       "3212             612           17.94   1513.0  \n",
       "3213             492           13.08    598.0  \n",
       "\n",
       "[3214 rows x 9 columns]"
      ]
     },
     "execution_count": 29,
     "metadata": {},
     "output_type": "execute_result"
    }
   ],
   "source": [
    "# найдем по месячный доход пропишем функцию для строки\n",
    "def revenue(row):\n",
    "    revenue = 0\n",
    "    if row['tariff']=='ultra':\n",
    "        call_pay = row['duration_calls'] - data_tariffs.loc[1,'minutes_included']\n",
    "        message_pay = row['count_messages'] - data_tariffs.loc[1,'messages_included']\n",
    "        internet_pay = np.ceil(row['internet_total'] - data_tariffs.loc[1,'gb_internet_included'])\n",
    "        revenue = data_tariffs.loc[1,'rub_monthly_fee']\n",
    "        if call_pay>0:\n",
    "            revenue +=call_pay*data_tariffs.loc[1,'rub_per_minute']\n",
    "        if message_pay>0:\n",
    "            revenue +=message_pay*data_tariffs.loc[1,'rub_per_message']\n",
    "        if internet_pay>0:\n",
    "            revenue +=internet_pay*data_tariffs.loc[1,'rub_per_gb']\n",
    "        return revenue\n",
    "    if row['tariff']=='smart':\n",
    "        call_pay = row['duration_calls'] - data_tariffs.loc[0,'minutes_included']\n",
    "        message_pay = row['count_messages'] - data_tariffs.loc[0,'messages_included']\n",
    "        internet_pay = np.ceil(row['internet_total'] - data_tariffs.loc[0,'gb_internet_included'])\n",
    "        revenue = data_tariffs.loc[0,'rub_monthly_fee']\n",
    "        if call_pay>0:\n",
    "            revenue +=call_pay*data_tariffs.loc[0,'rub_per_minute']\n",
    "        if message_pay>0:\n",
    "            revenue +=message_pay*data_tariffs.loc[0,'rub_per_message']\n",
    "        if internet_pay>0:\n",
    "            revenue +=internet_pay*data_tariffs.loc[0,'rub_per_gb']\n",
    "        return revenue\n",
    "    \n",
    "all_data['revenue'] =all_data.apply(revenue, axis=1)\n",
    "all_data"
   ]
  },
  {
   "cell_type": "markdown",
   "metadata": {},
   "source": [
    "Наобходимые данные были расчитаны и добавлены в одну таблицу, теперь можно приступать к анализу."
   ]
  },
  {
   "cell_type": "markdown",
   "metadata": {},
   "source": [
    "##  Анализ данных"
   ]
  },
  {
   "cell_type": "code",
   "execution_count": 30,
   "metadata": {},
   "outputs": [],
   "source": [
    "# Посчитаем среднюю, дисперсию и стандартное отклонение в разрезе тарифов\n",
    "# для удобства разделим датасет по тарифам\n",
    "all_data_ultra = all_data.query('tariff==\"ultra\"')\n",
    "all_data_smart = all_data.query('tariff==\"smart\"')\n"
   ]
  },
  {
   "cell_type": "code",
   "execution_count": 31,
   "metadata": {},
   "outputs": [
    {
     "name": "stdout",
     "output_type": "stream",
     "text": [
      "Среднее количество минут тарифа Ultra: 526\n",
      "Среднее количество сообщений тарифа Ultra: 49\n",
      "Среднее количество гигабайт интеренет трафика тарифа Ultra: 19\n"
     ]
    }
   ],
   "source": [
    "#На основании этой разбивки найдем искомые параметры\n",
    "mean_calls_ultra = all_data_ultra['duration_calls'].mean()\n",
    "print('Среднее количество минут тарифа Ultra:', int(mean_calls_ultra))\n",
    "mean_message_ultra = all_data_ultra['count_messages'].mean()\n",
    "print('Среднее количество сообщений тарифа Ultra:', int(mean_message_ultra))\n",
    "mean_internet_ultra = all_data_ultra['internet_total'].mean()\n",
    "print('Среднее количество гигабайт интеренет трафика тарифа Ultra:', int(mean_internet_ultra))"
   ]
  },
  {
   "cell_type": "code",
   "execution_count": 32,
   "metadata": {},
   "outputs": [
    {
     "name": "stdout",
     "output_type": "stream",
     "text": [
      "Среднее количество минут тарифа Smart: 417\n",
      "Среднее количество сообщений тарифа Smart: 33\n",
      "Среднее количество гигабайт интеренет трафика тарифа Smart: 16\n"
     ]
    }
   ],
   "source": [
    "mean_calls_smart = all_data_smart ['duration_calls'].mean()\n",
    "print('Среднее количество минут тарифа Smart:', int(mean_calls_smart))\n",
    "mean_message_smart  = all_data_smart ['count_messages'].mean()\n",
    "print('Среднее количество сообщений тарифа Smart:', int(mean_message_smart ))\n",
    "mean_internet_smart  = all_data_smart ['internet_total'].mean()\n",
    "print('Среднее количество гигабайт интеренет трафика тарифа Smart:', int(mean_internet_smart))"
   ]
  },
  {
   "cell_type": "markdown",
   "metadata": {},
   "source": [
    "Исходя из средних значений тарифов обьема услуг предоставляемых компанией практически хватает пользователям. По тарифу smart есть превышение по интернету. По тарифу Ultra обьем в полной мере не используется в среднем. Количество сообщений в обоих тарифах не используется значительно."
   ]
  },
  {
   "cell_type": "code",
   "execution_count": 33,
   "metadata": {},
   "outputs": [],
   "source": [
    "#найдем дисперсии Ultra\n",
    "var_calls_ultra = np.var(all_data_ultra['duration_calls'], ddof=1)\n",
    "var_message_ultra = np.var(all_data_ultra['count_messages'], ddof=1)\n",
    "var_internet_ultra = np.var(all_data_ultra['internet_total'], ddof=1)\n",
    "\n",
    "#найдем дисперсии Smart\n",
    "var_calls_smart = np.var(all_data_smart['duration_calls'], ddof=1)\n",
    "var_message_smart = np.var(all_data_smart['count_messages'], ddof=1)\n",
    "var_internet_smart = np.var(all_data_smart['internet_total'], ddof=1)"
   ]
  },
  {
   "cell_type": "code",
   "execution_count": 34,
   "metadata": {},
   "outputs": [
    {
     "name": "stdout",
     "output_type": "stream",
     "text": [
      "Стандартное отклонение минут тарифа Ultra: 317\n",
      "Стандартное отклонение сообщений тарифа Ultra: 47\n",
      "Стандартное отклонение гигабайт интеренет трафика тарифа Ultra: 10\n",
      "Стандартное отклонение минут тарифа Smart: 190\n",
      "Стандартное отклонение сообщений тарифа Smart: 28\n",
      "Стандартное отклонение гигабайт интеренет трафика тарифа Smart: 5\n"
     ]
    }
   ],
   "source": [
    "# найдем стандартные отклонения\n",
    "std_calls_ultra = np.sqrt(var_calls_ultra)\n",
    "print('Стандартное отклонение минут тарифа Ultra:', int(std_calls_ultra))\n",
    "std_message_ultra = np.sqrt(var_message_ultra)\n",
    "print('Стандартное отклонение сообщений тарифа Ultra:', int(std_message_ultra))\n",
    "std_internet_ultra = np.sqrt(var_internet_ultra )\n",
    "print('Стандартное отклонение гигабайт интеренет трафика тарифа Ultra:', int(std_internet_ultra))\n",
    "\n",
    "std_calls_smart = np.sqrt(var_calls_smart)\n",
    "print('Стандартное отклонение минут тарифа Smart:', int(std_calls_smart))\n",
    "std_message_smart  = np.sqrt(var_message_smart)\n",
    "print('Стандартное отклонение сообщений тарифа Smart:', int(std_message_smart))\n",
    "std_internet_smart  = np.sqrt(var_internet_smart)\n",
    "print('Стандартное отклонение гигабайт интеренет трафика тарифа Smart:', int(std_internet_smart))"
   ]
  },
  {
   "cell_type": "markdown",
   "metadata": {},
   "source": [
    "Если исходить из правила трех сигм то звонки тарифа Ultra распределены в рамках месячного пакета (526+3*317 = 1477 минут), когда как у тарифа Smart значения распределеные до вверхней границы (987 минут). Это дает сделать вывод, что ряду пользователей данных минут значительно не хватает. Касательно сообщений то их хвататет и в том тарифе и в том, а вот с интернетом дела обстоят по другому. Распределение обоих тарифов сильно превышает, предложенное в рамках тарифных пакетах. В Ultra верхняя граница будет около 49 гб интеренета, а у смарт примерно 31 гб. Выходит, что ряд пользователей намного первышает пакеты Smart тарифа на текущий момент пока, что реклама для тарифа Ultra предпочтительнее. Также компании стоит задумать о альтернативных тарифах, либо сделать модификации текущих. Тот же Ultra мог бы получить версию Ultra+ с повышенным интеренетом."
   ]
  },
  {
   "cell_type": "code",
   "execution_count": 37,
   "metadata": {},
   "outputs": [
    {
     "data": {
      "text/plain": [
       "<matplotlib.axes._subplots.AxesSubplot at 0x7ff094d2c290>"
      ]
     },
     "execution_count": 37,
     "metadata": {},
     "output_type": "execute_result"
    },
    {
     "data": {
      "image/png": "[encoded data removed]",
      "text/plain": [
       "<Figure size 432x288 with 1 Axes>"
      ]
     },
     "metadata": {
      "needs_background": "light"
     },
     "output_type": "display_data"
    }
   ],
   "source": [
    "# Для большей наглядности вышеизложенных наблюдений построим гистограммы\n",
    "ultra_calls = all_data_ultra['duration_calls'].plot(kind='hist', bins=20, alpha=1, label='ultra',legend=True)\n",
    "all_data_smart['duration_calls'].plot(kind='hist', bins=20, ax=ultra_calls, alpha=0.5, label='smart',legend=True)"
   ]
  },
  {
   "cell_type": "markdown",
   "metadata": {},
   "source": [
    "На гистограммах видно нормальное распределение. Обе скошенны вправо из-за больших значений и небольшим скачком в 0, в силу того что есть пользователи скорре всего, которые пользуются только интеренетом. По Smart тарифу распределение сильно превышает обьем по минутам, много значений находится за чертой в 500 мин. и распределены в значительной части до 800-900 минут. По Ultra тарифу виден один выброс, который и превыщает условия тарифа, но в целом распределение в рамках обьема тарифа."
   ]
  },
  {
   "cell_type": "code",
   "execution_count": 38,
   "metadata": {},
   "outputs": [
    {
     "data": {
      "text/plain": [
       "<matplotlib.axes._subplots.AxesSubplot at 0x7ff09473fb50>"
      ]
     },
     "execution_count": 38,
     "metadata": {},
     "output_type": "execute_result"
    },
    {
     "data": {
      "image/png": "[encoded data removed]",
      "text/plain": [
       "<Figure size 432x288 with 1 Axes>"
      ]
     },
     "metadata": {
      "needs_background": "light"
     },
     "output_type": "display_data"
    }
   ],
   "source": [
    "ultra_messages = all_data_ultra['count_messages'].plot(kind='hist', bins=20, alpha=1, label='ultra',legend=True)\n",
    "all_data_smart['count_messages'].plot(kind='hist', bins=20, ax=ultra_messages, alpha=0.5, label='smart',legend=True)"
   ]
  },
  {
   "cell_type": "markdown",
   "metadata": {},
   "source": [
    "Как было отмечено ранее сообщениеями современные пользователи не сильно пользуются. Пик диаграммы лежит в 0 и имеет скос вправо. Можно сказать, что современные пользователи мало пользуются сообщениями."
   ]
  },
  {
   "cell_type": "code",
   "execution_count": 39,
   "metadata": {},
   "outputs": [
    {
     "data": {
      "text/plain": [
       "<matplotlib.axes._subplots.AxesSubplot at 0x7ff08ba85990>"
      ]
     },
     "execution_count": 39,
     "metadata": {},
     "output_type": "execute_result"
    },
    {
     "data": {
      "image/png": "[encoded data removed]",
      "text/plain": [
       "<Figure size 432x288 with 1 Axes>"
      ]
     },
     "metadata": {
      "needs_background": "light"
     },
     "output_type": "display_data"
    }
   ],
   "source": [
    "ultra_internet = all_data_ultra['internet_total'].plot(kind='hist', bins=20, alpha=1, label='ultra',legend=True)\n",
    "all_data_smart['internet_total'].plot(kind='hist', bins=20, ax=ultra_internet, alpha=0.5, label='smart',legend=True)"
   ]
  },
  {
   "cell_type": "markdown",
   "metadata": {},
   "source": [
    "На гистограмме видно нормальное распределение. Скошенное вправо из-за больших значений, причем достаточно сильно. По тарифу Ultra есть много скачков от центра (20 гб). Видно, что значительная часть доходит до значения в 45 гб. По тарифу Smart как и в случае со звонками, видно, что значительной части пользователей сильно не хвататет интернет трафика и распределение в целом доходит до 30 гб интернета."
   ]
  },
  {
   "cell_type": "markdown",
   "metadata": {},
   "source": [
    "Интерпритируя полученныю результаты, выходит, что части пользователей пакета Smart не хватает их тарифных обьемов как и звонков, так и интернет трафика. Учитывая их запросы, логичнее будет проводить рекламу тарифа Ultra. Однако не обходимо понять, какие доходы приносит каждый из тарифов."
   ]
  },
  {
   "cell_type": "markdown",
   "metadata": {},
   "source": [
    "## Проверка гипотез"
   ]
  },
  {
   "cell_type": "markdown",
   "metadata": {},
   "source": [
    "### Различаются ли средние выручки по тарифам"
   ]
  },
  {
   "cell_type": "code",
   "execution_count": 40,
   "metadata": {},
   "outputs": [
    {
     "name": "stdout",
     "output_type": "stream",
     "text": [
      "H0 можно отвергнуть, средние выручек не равны\n"
     ]
    }
   ],
   "source": [
    "# обьявим гипотезу H0 - средние выручки равны, альтернативная гипотеза H1 будет заключаться что не равны.\n",
    "# найдем среднюю выручку тарифа Ultra\n",
    "mean_revenue_ultra = all_data_ultra['revenue'].mean()\n",
    "\n",
    "#обьявим уровень критичности \n",
    "alpha=0.05\n",
    "test = st.ttest_1samp(all_data_smart['revenue'], mean_revenue_ultra)\n",
    "if test.pvalue<alpha:\n",
    "    print('H0 можно отвергнуть, средние выручек не равны')\n",
    "else:\n",
    "    print('H0 нельзя отвергнуть, средние выручек равны')"
   ]
  },
  {
   "cell_type": "code",
   "execution_count": 41,
   "metadata": {},
   "outputs": [
    {
     "name": "stdout",
     "output_type": "stream",
     "text": [
      "Средняя тарифа Ultra 2072.5888324873094\n",
      "Средняя тарифа Smart 1303.073575594437\n"
     ]
    }
   ],
   "source": [
    "#Как показал т-тест средние будут отличаться друг от друга. Выведем средние по доходам.\n",
    "print('Средняя тарифа Ultra', mean_revenue_ultra)\n",
    "mean_revenue_smart = all_data_smart['revenue'].mean()\n",
    "print('Средняя тарифа Smart', mean_revenue_smart)"
   ]
  },
  {
   "cell_type": "markdown",
   "metadata": {},
   "source": [
    "В целом разница очень заметна. По тарифу Ultra компания собирает в среднем больше дохода, несмотря на большие переплаты со стороны тарифа Smart.\n",
    "\n"
   ]
  },
  {
   "cell_type": "markdown",
   "metadata": {},
   "source": [
    "### Различаются ли средние выручки по регионам"
   ]
  },
  {
   "cell_type": "code",
   "execution_count": 42,
   "metadata": {},
   "outputs": [
    {
     "name": "stdout",
     "output_type": "stream",
     "text": [
      "Средняя выручка для Москвы 1554.6513911620295\n",
      "Средняя выручка для регионов 1535.212831348444\n"
     ]
    }
   ],
   "source": [
    "# обьявим гипотезу H0 - средние выручки равны, альтернативная гипотеза H1 будет заключаться что не равны.\n",
    "# найдем средние для москвы и других городов\n",
    "mean_msk = all_data.query('city ==\"Москва\"')['revenue'].mean()\n",
    "mean_region = all_data.query('city !=\"Москва\"')['revenue'].mean()\n",
    "print('Средняя выручка для Москвы', mean_msk)\n",
    "print('Средняя выручка для регионов', mean_region)"
   ]
  },
  {
   "cell_type": "code",
   "execution_count": 43,
   "metadata": {},
   "outputs": [
    {
     "name": "stdout",
     "output_type": "stream",
     "text": [
      "H0 нельзя отвергнуть, средние выручек равны\n",
      "H0 нельзя отвергнуть, средние выручек равны\n"
     ]
    }
   ],
   "source": [
    "#На первый взгляд они практически равны. Необходимо провести статистический анализ для подтверждения этой догадки.\n",
    "test2 = st.ttest_1samp(all_data.query('city !=\"Москва\"')['revenue'],mean_msk)\n",
    "if test2.pvalue<alpha:\n",
    "    print('H0 можно отвергнуть, средние выручек не равны')\n",
    "else:\n",
    "    print('H0 нельзя отвергнуть, средние выручек равны')\n",
    "    \n",
    "test3 = st.ttest_1samp(all_data.query('city ==\"Москва\"')['revenue'],mean_region)\n",
    "if test3.pvalue<alpha:\n",
    "    print('H0 можно отвергнуть, средние выручек не равны')\n",
    "else:\n",
    "    print('H0 нельзя отвергнуть, средние выручек равны')    "
   ]
  },
  {
   "cell_type": "markdown",
   "metadata": {},
   "source": [
    "Проведя тест меняя предполагаемые значения вышло, что отличия выручек между Москвой и остальными регионами в совокупности нет."
   ]
  },
  {
   "cell_type": "markdown",
   "metadata": {},
   "source": [
    "## Общий вывод"
   ]
  },
  {
   "cell_type": "markdown",
   "metadata": {},
   "source": [
    "Части пользователей тарифа Smart не хватат получаемых обьемов по самому тарифу, таким образом скорее всего у них есть интерес в получении большего обьема услуг. Учитывая, что средняя выручки тарифа Ultra все равно больше, чем средняя тарифа Smart дажt с большими переплатами, то выгоднее развивать рекламную компанию по тарифу Ultra."
   ]
  }
 ],
 "metadata": {
  "ExecuteTimeLog": [
   {
    "duration": 1177,
    "start_time": "2021-12-27T07:38:17.411Z"
   },
   {
    "duration": 2036,
    "start_time": "2021-12-27T07:41:18.663Z"
   },
   {
    "duration": 1924,
    "start_time": "2021-12-27T07:42:12.576Z"
   },
   {
    "duration": 3,
    "start_time": "2021-12-27T07:42:28.145Z"
   },
   {
    "duration": 2061,
    "start_time": "2021-12-27T07:42:31.546Z"
   },
   {
    "duration": 568,
    "start_time": "2021-12-27T07:43:44.425Z"
   },
   {
    "duration": 278,
    "start_time": "2021-12-27T07:49:50.993Z"
   },
   {
    "duration": 3,
    "start_time": "2021-12-27T07:50:02.008Z"
   },
   {
    "duration": 558,
    "start_time": "2021-12-27T07:50:02.560Z"
   },
   {
    "duration": 340,
    "start_time": "2021-12-27T07:50:03.840Z"
   },
   {
    "duration": 12,
    "start_time": "2021-12-27T07:50:11.304Z"
   },
   {
    "duration": 25,
    "start_time": "2021-12-27T07:50:48.304Z"
   },
   {
    "duration": 29,
    "start_time": "2021-12-27T07:54:28.279Z"
   },
   {
    "duration": 12,
    "start_time": "2021-12-27T07:54:55.031Z"
   },
   {
    "duration": 20,
    "start_time": "2021-12-27T08:00:40.606Z"
   },
   {
    "duration": 10,
    "start_time": "2021-12-27T08:00:57.719Z"
   },
   {
    "duration": 29,
    "start_time": "2021-12-27T08:07:28.359Z"
   },
   {
    "duration": 24,
    "start_time": "2021-12-27T08:07:50.422Z"
   },
   {
    "duration": 12,
    "start_time": "2021-12-27T08:07:56.718Z"
   },
   {
    "duration": 12,
    "start_time": "2021-12-27T08:18:25.020Z"
   },
   {
    "duration": 11,
    "start_time": "2021-12-27T08:19:00.926Z"
   },
   {
    "duration": 13,
    "start_time": "2021-12-27T08:19:14.773Z"
   },
   {
    "duration": 3,
    "start_time": "2021-12-27T09:51:13.600Z"
   },
   {
    "duration": 567,
    "start_time": "2021-12-27T09:51:13.612Z"
   },
   {
    "duration": 9,
    "start_time": "2021-12-27T09:51:14.181Z"
   },
   {
    "duration": 18,
    "start_time": "2021-12-27T09:51:14.193Z"
   },
   {
    "duration": 36,
    "start_time": "2021-12-27T09:51:14.214Z"
   },
   {
    "duration": 31,
    "start_time": "2021-12-27T09:51:14.252Z"
   },
   {
    "duration": 20,
    "start_time": "2021-12-27T09:51:14.286Z"
   },
   {
    "duration": 11,
    "start_time": "2021-12-27T09:51:14.309Z"
   },
   {
    "duration": 71,
    "start_time": "2021-12-27T09:51:14.324Z"
   },
   {
    "duration": 12,
    "start_time": "2021-12-27T09:51:14.405Z"
   },
   {
    "duration": 19,
    "start_time": "2021-12-27T09:51:14.419Z"
   },
   {
    "duration": 35,
    "start_time": "2021-12-27T09:51:14.440Z"
   },
   {
    "duration": 15,
    "start_time": "2021-12-27T09:51:14.478Z"
   },
   {
    "duration": 124,
    "start_time": "2021-12-27T10:01:05.284Z"
   },
   {
    "duration": 103,
    "start_time": "2021-12-27T10:01:12.691Z"
   },
   {
    "duration": 281,
    "start_time": "2021-12-27T10:01:27.293Z"
   },
   {
    "duration": 1834,
    "start_time": "2021-12-27T10:02:20.173Z"
   },
   {
    "duration": 1810,
    "start_time": "2021-12-27T10:03:11.829Z"
   },
   {
    "duration": 2179,
    "start_time": "2021-12-27T10:03:33.461Z"
   },
   {
    "duration": 2360,
    "start_time": "2021-12-27T10:04:14.604Z"
   },
   {
    "duration": 9,
    "start_time": "2021-12-27T10:04:30.604Z"
   },
   {
    "duration": 20,
    "start_time": "2021-12-27T10:04:43.236Z"
   },
   {
    "duration": 7413,
    "start_time": "2021-12-27T10:06:24.180Z"
   },
   {
    "duration": 7703,
    "start_time": "2021-12-27T10:08:04.867Z"
   },
   {
    "duration": 7147,
    "start_time": "2021-12-27T10:09:30.820Z"
   },
   {
    "duration": 7844,
    "start_time": "2021-12-27T10:11:05.684Z"
   },
   {
    "duration": 9,
    "start_time": "2021-12-27T10:17:40.674Z"
   },
   {
    "duration": 7,
    "start_time": "2021-12-27T10:17:49.714Z"
   },
   {
    "duration": 9,
    "start_time": "2021-12-27T10:17:53.787Z"
   },
   {
    "duration": 8791,
    "start_time": "2021-12-27T10:18:26.467Z"
   },
   {
    "duration": 317,
    "start_time": "2021-12-27T10:19:20.183Z"
   },
   {
    "duration": 5,
    "start_time": "2021-12-27T10:19:55.900Z"
   },
   {
    "duration": 577,
    "start_time": "2021-12-27T10:19:55.908Z"
   },
   {
    "duration": 9,
    "start_time": "2021-12-27T10:19:56.488Z"
   },
   {
    "duration": 25,
    "start_time": "2021-12-27T10:19:56.500Z"
   },
   {
    "duration": 29,
    "start_time": "2021-12-27T10:19:56.528Z"
   },
   {
    "duration": 24,
    "start_time": "2021-12-27T10:19:56.568Z"
   },
   {
    "duration": 26,
    "start_time": "2021-12-27T10:19:56.594Z"
   },
   {
    "duration": 12,
    "start_time": "2021-12-27T10:19:56.622Z"
   },
   {
    "duration": 56,
    "start_time": "2021-12-27T10:19:56.637Z"
   },
   {
    "duration": 12,
    "start_time": "2021-12-27T10:19:56.695Z"
   },
   {
    "duration": 14,
    "start_time": "2021-12-27T10:19:56.709Z"
   },
   {
    "duration": 9,
    "start_time": "2021-12-27T10:19:56.726Z"
   },
   {
    "duration": 16,
    "start_time": "2021-12-27T10:19:56.771Z"
   },
   {
    "duration": 30,
    "start_time": "2021-12-27T10:19:56.790Z"
   },
   {
    "duration": 353,
    "start_time": "2021-12-27T10:19:56.823Z"
   },
   {
    "duration": 359,
    "start_time": "2021-12-27T10:20:40.129Z"
   },
   {
    "duration": 158,
    "start_time": "2021-12-27T10:20:50.705Z"
   },
   {
    "duration": 90,
    "start_time": "2021-12-27T10:20:56.897Z"
   },
   {
    "duration": 14,
    "start_time": "2021-12-27T10:21:13.008Z"
   },
   {
    "duration": 15,
    "start_time": "2021-12-27T10:21:23.720Z"
   },
   {
    "duration": 366,
    "start_time": "2021-12-27T10:29:30.255Z"
   },
   {
    "duration": 17,
    "start_time": "2021-12-27T10:29:44.911Z"
   },
   {
    "duration": 13,
    "start_time": "2021-12-27T10:29:55.151Z"
   },
   {
    "duration": 13,
    "start_time": "2021-12-27T10:31:45.286Z"
   },
   {
    "duration": 15,
    "start_time": "2021-12-27T10:32:27.904Z"
   },
   {
    "duration": 14,
    "start_time": "2021-12-27T10:32:36.576Z"
   },
   {
    "duration": 7620,
    "start_time": "2021-12-27T10:33:37.680Z"
   },
   {
    "duration": 1343,
    "start_time": "2021-12-27T10:33:43.960Z"
   },
   {
    "duration": 8410,
    "start_time": "2021-12-27T10:33:56.991Z"
   },
   {
    "duration": 1343,
    "start_time": "2021-12-27T10:34:04.060Z"
   },
   {
    "duration": 5,
    "start_time": "2021-12-27T10:34:08.066Z"
   },
   {
    "duration": 617,
    "start_time": "2021-12-27T10:34:08.075Z"
   },
   {
    "duration": 10,
    "start_time": "2021-12-27T10:34:08.696Z"
   },
   {
    "duration": 21,
    "start_time": "2021-12-27T10:34:08.710Z"
   },
   {
    "duration": 61,
    "start_time": "2021-12-27T10:34:08.734Z"
   },
   {
    "duration": 12,
    "start_time": "2021-12-27T10:34:08.797Z"
   },
   {
    "duration": 22,
    "start_time": "2021-12-27T10:34:08.811Z"
   },
   {
    "duration": 34,
    "start_time": "2021-12-27T10:34:08.836Z"
   },
   {
    "duration": 33,
    "start_time": "2021-12-27T10:34:08.876Z"
   },
   {
    "duration": 13,
    "start_time": "2021-12-27T10:34:08.912Z"
   },
   {
    "duration": 45,
    "start_time": "2021-12-27T10:34:08.927Z"
   },
   {
    "duration": 15,
    "start_time": "2021-12-27T10:34:08.975Z"
   },
   {
    "duration": 12,
    "start_time": "2021-12-27T10:34:08.997Z"
   },
   {
    "duration": 64,
    "start_time": "2021-12-27T10:34:09.012Z"
   },
   {
    "duration": 178,
    "start_time": "2021-12-27T10:34:09.081Z"
   },
   {
    "duration": 22,
    "start_time": "2021-12-27T10:34:09.261Z"
   },
   {
    "duration": 18,
    "start_time": "2021-12-27T10:34:09.285Z"
   },
   {
    "duration": 19,
    "start_time": "2021-12-27T10:34:09.306Z"
   },
   {
    "duration": 5,
    "start_time": "2021-12-27T10:36:29.543Z"
   },
   {
    "duration": 15,
    "start_time": "2021-12-27T10:36:37.670Z"
   },
   {
    "duration": 274,
    "start_time": "2021-12-27T10:41:48.749Z"
   },
   {
    "duration": 276,
    "start_time": "2021-12-27T10:43:52.086Z"
   },
   {
    "duration": 96,
    "start_time": "2021-12-27T10:45:16.293Z"
   },
   {
    "duration": 334,
    "start_time": "2021-12-27T10:45:20.926Z"
   },
   {
    "duration": 1151,
    "start_time": "2021-12-27T12:14:32.729Z"
   },
   {
    "duration": 570,
    "start_time": "2021-12-27T12:14:33.883Z"
   },
   {
    "duration": 10,
    "start_time": "2021-12-27T12:14:34.456Z"
   },
   {
    "duration": 27,
    "start_time": "2021-12-27T12:14:34.473Z"
   },
   {
    "duration": 32,
    "start_time": "2021-12-27T12:14:34.503Z"
   },
   {
    "duration": 40,
    "start_time": "2021-12-27T12:14:34.537Z"
   },
   {
    "duration": 21,
    "start_time": "2021-12-27T12:14:34.580Z"
   },
   {
    "duration": 11,
    "start_time": "2021-12-27T12:14:34.603Z"
   },
   {
    "duration": 50,
    "start_time": "2021-12-27T12:14:34.618Z"
   },
   {
    "duration": 17,
    "start_time": "2021-12-27T12:14:34.673Z"
   },
   {
    "duration": 15,
    "start_time": "2021-12-27T12:14:34.692Z"
   },
   {
    "duration": 14,
    "start_time": "2021-12-27T12:14:34.709Z"
   },
   {
    "duration": 46,
    "start_time": "2021-12-27T12:14:34.726Z"
   },
   {
    "duration": 21,
    "start_time": "2021-12-27T12:14:34.778Z"
   },
   {
    "duration": 194,
    "start_time": "2021-12-27T12:14:34.802Z"
   },
   {
    "duration": 19,
    "start_time": "2021-12-27T12:14:34.999Z"
   },
   {
    "duration": 22,
    "start_time": "2021-12-27T12:14:35.021Z"
   },
   {
    "duration": 24,
    "start_time": "2021-12-27T12:14:35.045Z"
   },
   {
    "duration": 163,
    "start_time": "2021-12-27T12:14:35.072Z"
   },
   {
    "duration": 19,
    "start_time": "2021-12-27T12:16:44.569Z"
   },
   {
    "duration": 425,
    "start_time": "2021-12-27T12:26:51.594Z"
   },
   {
    "duration": 261,
    "start_time": "2021-12-27T12:26:58.330Z"
   },
   {
    "duration": 89,
    "start_time": "2021-12-27T12:27:09.304Z"
   },
   {
    "duration": 79,
    "start_time": "2021-12-27T12:34:04.866Z"
   },
   {
    "duration": 353,
    "start_time": "2021-12-27T12:38:15.943Z"
   },
   {
    "duration": 49,
    "start_time": "2021-12-27T12:39:03.409Z"
   },
   {
    "duration": 1346,
    "start_time": "2021-12-27T12:40:24.450Z"
   },
   {
    "duration": 51,
    "start_time": "2021-12-27T12:40:42.864Z"
   },
   {
    "duration": 42,
    "start_time": "2021-12-27T12:42:57.920Z"
   },
   {
    "duration": 53,
    "start_time": "2021-12-27T12:43:49.631Z"
   },
   {
    "duration": 47,
    "start_time": "2021-12-27T12:43:59.704Z"
   },
   {
    "duration": 51,
    "start_time": "2021-12-27T12:44:03.400Z"
   },
   {
    "duration": 103,
    "start_time": "2021-12-27T12:57:01.605Z"
   },
   {
    "duration": 36,
    "start_time": "2021-12-27T12:57:09.446Z"
   },
   {
    "duration": 296,
    "start_time": "2021-12-27T12:57:51.063Z"
   },
   {
    "duration": 34,
    "start_time": "2021-12-27T12:57:56.007Z"
   },
   {
    "duration": 38,
    "start_time": "2021-12-27T12:58:32.855Z"
   },
   {
    "duration": 25,
    "start_time": "2021-12-27T13:00:34.855Z"
   },
   {
    "duration": 23,
    "start_time": "2021-12-27T13:00:58.614Z"
   },
   {
    "duration": 32,
    "start_time": "2021-12-27T13:02:46.198Z"
   },
   {
    "duration": 265,
    "start_time": "2021-12-27T13:03:22.501Z"
   },
   {
    "duration": 278,
    "start_time": "2021-12-27T13:03:35.102Z"
   },
   {
    "duration": 44,
    "start_time": "2021-12-27T13:03:46.622Z"
   },
   {
    "duration": 32,
    "start_time": "2021-12-27T13:04:06.646Z"
   },
   {
    "duration": 47,
    "start_time": "2021-12-27T13:04:27.157Z"
   },
   {
    "duration": 284,
    "start_time": "2021-12-27T13:08:03.670Z"
   },
   {
    "duration": 282,
    "start_time": "2021-12-27T13:08:15.453Z"
   },
   {
    "duration": 53,
    "start_time": "2021-12-27T13:08:20.925Z"
   },
   {
    "duration": 48,
    "start_time": "2021-12-27T13:09:05.709Z"
   },
   {
    "duration": 48,
    "start_time": "2021-12-27T13:17:35.412Z"
   },
   {
    "duration": 47,
    "start_time": "2021-12-27T13:17:43.396Z"
   },
   {
    "duration": 266,
    "start_time": "2021-12-27T13:20:54.652Z"
   },
   {
    "duration": 275,
    "start_time": "2021-12-27T13:21:00.492Z"
   },
   {
    "duration": 504,
    "start_time": "2021-12-27T13:21:08.139Z"
   },
   {
    "duration": 289,
    "start_time": "2021-12-27T13:21:26.828Z"
   },
   {
    "duration": 45,
    "start_time": "2021-12-27T13:24:45.539Z"
   },
   {
    "duration": 66,
    "start_time": "2021-12-27T13:25:12.924Z"
   },
   {
    "duration": 59,
    "start_time": "2021-12-27T13:25:39.938Z"
   },
   {
    "duration": 91,
    "start_time": "2021-12-27T13:26:18.675Z"
   },
   {
    "duration": 291,
    "start_time": "2021-12-27T13:26:44.171Z"
   },
   {
    "duration": 63,
    "start_time": "2021-12-27T13:26:57.715Z"
   },
   {
    "duration": 12,
    "start_time": "2021-12-27T13:27:45.554Z"
   },
   {
    "duration": 5,
    "start_time": "2021-12-27T13:29:21.706Z"
   },
   {
    "duration": 257,
    "start_time": "2021-12-27T13:29:57.586Z"
   },
   {
    "duration": 481,
    "start_time": "2021-12-27T13:31:07.154Z"
   },
   {
    "duration": 261,
    "start_time": "2021-12-27T13:31:42.858Z"
   },
   {
    "duration": 265,
    "start_time": "2021-12-27T13:32:09.874Z"
   },
   {
    "duration": 55,
    "start_time": "2021-12-27T13:33:12.939Z"
   },
   {
    "duration": 26,
    "start_time": "2021-12-27T13:34:24.514Z"
   },
   {
    "duration": 14,
    "start_time": "2021-12-27T13:34:45.970Z"
   },
   {
    "duration": 51,
    "start_time": "2021-12-27T13:35:15.202Z"
   },
   {
    "duration": 11,
    "start_time": "2021-12-27T13:35:17.353Z"
   },
   {
    "duration": 7,
    "start_time": "2021-12-27T13:40:00.760Z"
   },
   {
    "duration": 19,
    "start_time": "2021-12-27T13:40:10.065Z"
   },
   {
    "duration": 11,
    "start_time": "2021-12-27T13:40:17.248Z"
   },
   {
    "duration": 319,
    "start_time": "2021-12-27T13:42:05.193Z"
   },
   {
    "duration": 280,
    "start_time": "2021-12-27T13:42:24.216Z"
   },
   {
    "duration": 9,
    "start_time": "2021-12-27T13:42:40.720Z"
   },
   {
    "duration": 21,
    "start_time": "2021-12-27T13:42:47.299Z"
   },
   {
    "duration": 6,
    "start_time": "2021-12-27T13:52:25.952Z"
   },
   {
    "duration": 15,
    "start_time": "2021-12-27T13:52:32.504Z"
   },
   {
    "duration": 5,
    "start_time": "2021-12-27T13:52:38.183Z"
   },
   {
    "duration": 6,
    "start_time": "2021-12-27T13:55:24.879Z"
   },
   {
    "duration": 12,
    "start_time": "2021-12-27T14:04:05.365Z"
   },
   {
    "duration": 470,
    "start_time": "2021-12-27T14:04:45.758Z"
   },
   {
    "duration": 472,
    "start_time": "2021-12-27T14:05:00.206Z"
   },
   {
    "duration": 542,
    "start_time": "2021-12-27T14:06:08.407Z"
   },
   {
    "duration": 54,
    "start_time": "2021-12-27T14:07:53.997Z"
   },
   {
    "duration": 4,
    "start_time": "2021-12-27T14:07:57.744Z"
   },
   {
    "duration": 799,
    "start_time": "2021-12-27T14:07:57.751Z"
   },
   {
    "duration": 9,
    "start_time": "2021-12-27T14:07:58.553Z"
   },
   {
    "duration": 225,
    "start_time": "2021-12-27T14:07:58.565Z"
   },
   {
    "duration": 248,
    "start_time": "2021-12-27T14:07:58.793Z"
   },
   {
    "duration": 215,
    "start_time": "2021-12-27T14:07:59.043Z"
   },
   {
    "duration": 238,
    "start_time": "2021-12-27T14:07:59.260Z"
   },
   {
    "duration": 217,
    "start_time": "2021-12-27T14:07:59.500Z"
   },
   {
    "duration": 245,
    "start_time": "2021-12-27T14:07:59.721Z"
   },
   {
    "duration": 285,
    "start_time": "2021-12-27T14:07:59.973Z"
   },
   {
    "duration": 236,
    "start_time": "2021-12-27T14:08:00.260Z"
   },
   {
    "duration": 203,
    "start_time": "2021-12-27T14:08:00.498Z"
   },
   {
    "duration": 225,
    "start_time": "2021-12-27T14:08:00.704Z"
   },
   {
    "duration": 212,
    "start_time": "2021-12-27T14:08:00.932Z"
   },
   {
    "duration": 295,
    "start_time": "2021-12-27T14:08:01.146Z"
   },
   {
    "duration": 36,
    "start_time": "2021-12-27T14:08:01.443Z"
   },
   {
    "duration": 215,
    "start_time": "2021-12-27T14:08:01.484Z"
   },
   {
    "duration": 221,
    "start_time": "2021-12-27T14:08:01.702Z"
   },
   {
    "duration": 608,
    "start_time": "2021-12-27T14:08:01.925Z"
   },
   {
    "duration": 96,
    "start_time": "2021-12-27T14:08:02.536Z"
   },
   {
    "duration": 301,
    "start_time": "2021-12-27T14:08:02.635Z"
   },
   {
    "duration": 204,
    "start_time": "2021-12-27T14:08:02.939Z"
   },
   {
    "duration": 233,
    "start_time": "2021-12-27T14:08:03.146Z"
   },
   {
    "duration": 234,
    "start_time": "2021-12-27T14:08:03.382Z"
   },
   {
    "duration": 192,
    "start_time": "2021-12-27T14:08:03.618Z"
   },
   {
    "duration": 265,
    "start_time": "2021-12-27T14:08:03.812Z"
   },
   {
    "duration": 223,
    "start_time": "2021-12-27T14:08:04.082Z"
   },
   {
    "duration": 777,
    "start_time": "2021-12-27T14:08:04.307Z"
   },
   {
    "duration": 7,
    "start_time": "2021-12-27T14:08:17.501Z"
   },
   {
    "duration": 4,
    "start_time": "2021-12-27T14:08:19.927Z"
   },
   {
    "duration": 980,
    "start_time": "2021-12-27T14:08:19.933Z"
   },
   {
    "duration": 10,
    "start_time": "2021-12-27T14:08:20.916Z"
   },
   {
    "duration": 286,
    "start_time": "2021-12-27T14:08:20.929Z"
   },
   {
    "duration": 340,
    "start_time": "2021-12-27T14:08:21.217Z"
   },
   {
    "duration": 201,
    "start_time": "2021-12-27T14:08:21.560Z"
   },
   {
    "duration": 245,
    "start_time": "2021-12-27T14:08:21.764Z"
   },
   {
    "duration": 215,
    "start_time": "2021-12-27T14:08:22.013Z"
   },
   {
    "duration": 214,
    "start_time": "2021-12-27T14:08:22.231Z"
   },
   {
    "duration": 243,
    "start_time": "2021-12-27T14:08:22.448Z"
   },
   {
    "duration": 249,
    "start_time": "2021-12-27T14:08:22.695Z"
   },
   {
    "duration": 213,
    "start_time": "2021-12-27T14:08:22.947Z"
   },
   {
    "duration": 195,
    "start_time": "2021-12-27T14:08:23.162Z"
   },
   {
    "duration": 210,
    "start_time": "2021-12-27T14:08:23.360Z"
   },
   {
    "duration": 364,
    "start_time": "2021-12-27T14:08:23.572Z"
   },
   {
    "duration": 38,
    "start_time": "2021-12-27T14:08:23.939Z"
   },
   {
    "duration": 213,
    "start_time": "2021-12-27T14:08:23.980Z"
   },
   {
    "duration": 259,
    "start_time": "2021-12-27T14:08:24.196Z"
   },
   {
    "duration": 390,
    "start_time": "2021-12-27T14:08:24.458Z"
   },
   {
    "duration": 42,
    "start_time": "2021-12-27T14:08:24.851Z"
   },
   {
    "duration": 250,
    "start_time": "2021-12-27T14:08:24.896Z"
   },
   {
    "duration": 199,
    "start_time": "2021-12-27T14:08:25.148Z"
   },
   {
    "duration": 180,
    "start_time": "2021-12-27T14:08:25.351Z"
   },
   {
    "duration": 234,
    "start_time": "2021-12-27T14:08:25.533Z"
   },
   {
    "duration": 145,
    "start_time": "2021-12-27T14:08:25.770Z"
   },
   {
    "duration": 185,
    "start_time": "2021-12-27T14:08:25.918Z"
   },
   {
    "duration": 283,
    "start_time": "2021-12-27T14:08:26.105Z"
   },
   {
    "duration": 632,
    "start_time": "2021-12-27T14:08:26.391Z"
   },
   {
    "duration": 503,
    "start_time": "2021-12-27T14:09:06.213Z"
   },
   {
    "duration": 497,
    "start_time": "2021-12-27T14:09:18.437Z"
   },
   {
    "duration": 961,
    "start_time": "2021-12-28T07:37:01.283Z"
   },
   {
    "duration": 429,
    "start_time": "2021-12-28T07:37:02.246Z"
   },
   {
    "duration": 6,
    "start_time": "2021-12-28T07:37:02.678Z"
   },
   {
    "duration": 22,
    "start_time": "2021-12-28T07:37:02.687Z"
   },
   {
    "duration": 22,
    "start_time": "2021-12-28T07:37:02.712Z"
   },
   {
    "duration": 8,
    "start_time": "2021-12-28T07:37:02.736Z"
   },
   {
    "duration": 17,
    "start_time": "2021-12-28T07:37:02.746Z"
   },
   {
    "duration": 28,
    "start_time": "2021-12-28T07:37:02.764Z"
   },
   {
    "duration": 17,
    "start_time": "2021-12-28T07:37:02.795Z"
   },
   {
    "duration": 8,
    "start_time": "2021-12-28T07:37:02.814Z"
   },
   {
    "duration": 8,
    "start_time": "2021-12-28T07:37:02.824Z"
   },
   {
    "duration": 10,
    "start_time": "2021-12-28T07:37:02.833Z"
   },
   {
    "duration": 48,
    "start_time": "2021-12-28T07:37:02.845Z"
   },
   {
    "duration": 15,
    "start_time": "2021-12-28T07:37:02.895Z"
   },
   {
    "duration": 138,
    "start_time": "2021-12-28T07:37:02.911Z"
   },
   {
    "duration": 17,
    "start_time": "2021-12-28T07:37:03.051Z"
   },
   {
    "duration": 29,
    "start_time": "2021-12-28T07:37:03.070Z"
   },
   {
    "duration": 4,
    "start_time": "2021-12-28T07:37:03.101Z"
   },
   {
    "duration": 109,
    "start_time": "2021-12-28T07:37:03.107Z"
   },
   {
    "duration": 4,
    "start_time": "2021-12-28T07:37:03.218Z"
   },
   {
    "duration": 72,
    "start_time": "2021-12-28T07:37:03.224Z"
   },
   {
    "duration": 33,
    "start_time": "2021-12-28T07:37:03.298Z"
   },
   {
    "duration": 28,
    "start_time": "2021-12-28T07:37:03.332Z"
   },
   {
    "duration": 56,
    "start_time": "2021-12-28T07:37:03.361Z"
   },
   {
    "duration": 7,
    "start_time": "2021-12-28T07:37:03.419Z"
   },
   {
    "duration": 18,
    "start_time": "2021-12-28T07:37:03.427Z"
   },
   {
    "duration": 33,
    "start_time": "2021-12-28T07:37:03.448Z"
   },
   {
    "duration": 272,
    "start_time": "2021-12-28T07:37:03.483Z"
   },
   {
    "duration": 9,
    "start_time": "2021-12-28T07:49:36.205Z"
   },
   {
    "duration": 8,
    "start_time": "2021-12-28T07:57:34.388Z"
   },
   {
    "duration": 24,
    "start_time": "2021-12-28T08:02:16.578Z"
   },
   {
    "duration": 17,
    "start_time": "2021-12-28T08:06:30.763Z"
   },
   {
    "duration": 4,
    "start_time": "2021-12-28T08:12:54.064Z"
   },
   {
    "duration": 4,
    "start_time": "2021-12-28T08:12:59.017Z"
   },
   {
    "duration": 5,
    "start_time": "2021-12-28T08:16:00.337Z"
   },
   {
    "duration": 4,
    "start_time": "2021-12-28T08:16:20.810Z"
   },
   {
    "duration": 6,
    "start_time": "2021-12-28T08:19:54.746Z"
   },
   {
    "duration": 6,
    "start_time": "2021-12-28T08:20:18.857Z"
   },
   {
    "duration": 6,
    "start_time": "2021-12-28T08:20:23.041Z"
   },
   {
    "duration": 6,
    "start_time": "2021-12-28T08:21:47.625Z"
   },
   {
    "duration": 23,
    "start_time": "2021-12-28T08:23:28.615Z"
   },
   {
    "duration": 23,
    "start_time": "2021-12-28T08:23:33.721Z"
   },
   {
    "duration": 3,
    "start_time": "2021-12-28T08:23:36.931Z"
   },
   {
    "duration": 401,
    "start_time": "2021-12-28T08:23:36.936Z"
   },
   {
    "duration": 6,
    "start_time": "2021-12-28T08:23:37.340Z"
   },
   {
    "duration": 12,
    "start_time": "2021-12-28T08:23:37.348Z"
   },
   {
    "duration": 23,
    "start_time": "2021-12-28T08:23:37.361Z"
   },
   {
    "duration": 7,
    "start_time": "2021-12-28T08:23:37.391Z"
   },
   {
    "duration": 15,
    "start_time": "2021-12-28T08:23:37.400Z"
   },
   {
    "duration": 7,
    "start_time": "2021-12-28T08:23:37.417Z"
   },
   {
    "duration": 17,
    "start_time": "2021-12-28T08:23:37.427Z"
   },
   {
    "duration": 7,
    "start_time": "2021-12-28T08:23:37.446Z"
   },
   {
    "duration": 37,
    "start_time": "2021-12-28T08:23:37.455Z"
   },
   {
    "duration": 8,
    "start_time": "2021-12-28T08:23:37.494Z"
   },
   {
    "duration": 9,
    "start_time": "2021-12-28T08:23:37.504Z"
   },
   {
    "duration": 14,
    "start_time": "2021-12-28T08:23:37.514Z"
   },
   {
    "duration": 121,
    "start_time": "2021-12-28T08:23:37.530Z"
   },
   {
    "duration": 12,
    "start_time": "2021-12-28T08:23:37.653Z"
   },
   {
    "duration": 11,
    "start_time": "2021-12-28T08:23:37.666Z"
   },
   {
    "duration": 16,
    "start_time": "2021-12-28T08:23:37.678Z"
   },
   {
    "duration": 102,
    "start_time": "2021-12-28T08:23:37.696Z"
   },
   {
    "duration": 4,
    "start_time": "2021-12-28T08:23:37.799Z"
   },
   {
    "duration": 53,
    "start_time": "2021-12-28T08:23:37.804Z"
   },
   {
    "duration": 39,
    "start_time": "2021-12-28T08:23:37.859Z"
   },
   {
    "duration": 25,
    "start_time": "2021-12-28T08:23:37.900Z"
   },
   {
    "duration": 32,
    "start_time": "2021-12-28T08:23:37.927Z"
   },
   {
    "duration": 7,
    "start_time": "2021-12-28T08:23:37.960Z"
   },
   {
    "duration": 4,
    "start_time": "2021-12-28T08:23:37.992Z"
   },
   {
    "duration": 7,
    "start_time": "2021-12-28T08:23:37.999Z"
   },
   {
    "duration": 262,
    "start_time": "2021-12-28T08:23:38.008Z"
   },
   {
    "duration": 8,
    "start_time": "2021-12-28T08:23:38.271Z"
   },
   {
    "duration": 6,
    "start_time": "2021-12-28T08:23:38.291Z"
   },
   {
    "duration": 6,
    "start_time": "2021-12-28T08:23:38.298Z"
   },
   {
    "duration": 7,
    "start_time": "2021-12-28T08:32:01.680Z"
   },
   {
    "duration": 249,
    "start_time": "2021-12-28T08:44:28.663Z"
   },
   {
    "duration": 15,
    "start_time": "2021-12-28T08:45:04.703Z"
   },
   {
    "duration": 203,
    "start_time": "2021-12-28T08:47:05.390Z"
   },
   {
    "duration": 7,
    "start_time": "2021-12-28T08:47:39.526Z"
   },
   {
    "duration": 7,
    "start_time": "2021-12-28T08:47:40.063Z"
   },
   {
    "duration": 62,
    "start_time": "2021-12-28T08:48:31.568Z"
   },
   {
    "duration": 6,
    "start_time": "2021-12-28T08:48:53.029Z"
   },
   {
    "duration": 69,
    "start_time": "2021-12-28T08:48:53.037Z"
   },
   {
    "duration": 61,
    "start_time": "2021-12-28T08:49:13.966Z"
   },
   {
    "duration": 57,
    "start_time": "2021-12-28T08:49:26.863Z"
   },
   {
    "duration": 6,
    "start_time": "2021-12-28T08:49:50.223Z"
   },
   {
    "duration": 6,
    "start_time": "2021-12-28T08:53:07.079Z"
   },
   {
    "duration": 6,
    "start_time": "2021-12-28T08:53:08.925Z"
   },
   {
    "duration": 333,
    "start_time": "2021-12-28T09:09:26.660Z"
   },
   {
    "duration": 201,
    "start_time": "2021-12-28T09:10:28.348Z"
   },
   {
    "duration": 221,
    "start_time": "2021-12-28T09:17:47.292Z"
   },
   {
    "duration": 186,
    "start_time": "2021-12-28T09:21:24.507Z"
   },
   {
    "duration": 193,
    "start_time": "2021-12-28T09:22:35.531Z"
   },
   {
    "duration": 256,
    "start_time": "2021-12-28T09:27:54.115Z"
   },
   {
    "duration": 252,
    "start_time": "2021-12-28T09:28:24.482Z"
   },
   {
    "duration": 262,
    "start_time": "2021-12-28T09:28:29.378Z"
   },
   {
    "duration": 326,
    "start_time": "2021-12-28T09:28:41.674Z"
   },
   {
    "duration": 253,
    "start_time": "2021-12-28T09:28:53.112Z"
   },
   {
    "duration": 61,
    "start_time": "2021-12-28T09:30:45.795Z"
   },
   {
    "duration": 306,
    "start_time": "2021-12-28T09:30:54.888Z"
   },
   {
    "duration": 292,
    "start_time": "2021-12-28T09:31:09.618Z"
   },
   {
    "duration": 410,
    "start_time": "2021-12-28T09:31:30.018Z"
   },
   {
    "duration": 418,
    "start_time": "2021-12-28T09:31:35.043Z"
   },
   {
    "duration": 401,
    "start_time": "2021-12-28T09:31:49.915Z"
   },
   {
    "duration": 422,
    "start_time": "2021-12-28T09:31:53.427Z"
   },
   {
    "duration": 265,
    "start_time": "2021-12-28T09:31:57.179Z"
   },
   {
    "duration": 417,
    "start_time": "2021-12-28T09:32:58.163Z"
   },
   {
    "duration": 280,
    "start_time": "2021-12-28T09:33:17.131Z"
   },
   {
    "duration": 344,
    "start_time": "2021-12-28T09:33:24.466Z"
   },
   {
    "duration": 281,
    "start_time": "2021-12-28T09:33:38.314Z"
   },
   {
    "duration": 290,
    "start_time": "2021-12-28T09:37:32.130Z"
   },
   {
    "duration": 262,
    "start_time": "2021-12-28T09:38:06.833Z"
   },
   {
    "duration": 269,
    "start_time": "2021-12-28T09:41:54.618Z"
   },
   {
    "duration": 5,
    "start_time": "2021-12-28T10:26:21.117Z"
   },
   {
    "duration": 4,
    "start_time": "2021-12-28T10:34:42.621Z"
   },
   {
    "duration": 5,
    "start_time": "2021-12-28T10:34:48.396Z"
   },
   {
    "duration": 6,
    "start_time": "2021-12-28T10:36:31.932Z"
   },
   {
    "duration": 6,
    "start_time": "2021-12-28T10:38:37.460Z"
   },
   {
    "duration": 4,
    "start_time": "2021-12-28T10:40:19.404Z"
   },
   {
    "duration": 5,
    "start_time": "2021-12-28T10:47:18.235Z"
   },
   {
    "duration": 5,
    "start_time": "2021-12-28T10:47:30.203Z"
   },
   {
    "duration": 4,
    "start_time": "2021-12-28T10:47:30.971Z"
   },
   {
    "duration": 10,
    "start_time": "2021-12-28T10:54:44.219Z"
   },
   {
    "duration": 7,
    "start_time": "2021-12-28T10:57:00.386Z"
   },
   {
    "duration": 9,
    "start_time": "2021-12-28T10:57:14.306Z"
   },
   {
    "duration": 7,
    "start_time": "2021-12-28T10:57:35.402Z"
   },
   {
    "duration": 9,
    "start_time": "2021-12-28T10:57:44.794Z"
   },
   {
    "duration": 12,
    "start_time": "2021-12-28T10:58:25.073Z"
   },
   {
    "duration": 187,
    "start_time": "2021-12-28T11:00:58.137Z"
   },
   {
    "duration": 186,
    "start_time": "2021-12-28T11:01:13.434Z"
   },
   {
    "duration": 170,
    "start_time": "2021-12-28T11:01:30.801Z"
   },
   {
    "duration": 5,
    "start_time": "2021-12-28T11:02:53.138Z"
   },
   {
    "duration": 60,
    "start_time": "2021-12-28T11:04:05.889Z"
   },
   {
    "duration": 62,
    "start_time": "2021-12-28T11:04:11.441Z"
   },
   {
    "duration": 15,
    "start_time": "2021-12-28T11:04:18.249Z"
   },
   {
    "duration": 1448,
    "start_time": "2021-12-29T08:37:49.756Z"
   },
   {
    "duration": 447,
    "start_time": "2021-12-29T08:37:51.206Z"
   },
   {
    "duration": 7,
    "start_time": "2021-12-29T08:37:51.655Z"
   },
   {
    "duration": 44,
    "start_time": "2021-12-29T08:37:51.664Z"
   },
   {
    "duration": 62,
    "start_time": "2021-12-29T08:37:51.711Z"
   },
   {
    "duration": 9,
    "start_time": "2021-12-29T08:37:51.775Z"
   },
   {
    "duration": 49,
    "start_time": "2021-12-29T08:37:51.786Z"
   },
   {
    "duration": 8,
    "start_time": "2021-12-29T08:37:51.838Z"
   },
   {
    "duration": 19,
    "start_time": "2021-12-29T08:37:51.848Z"
   },
   {
    "duration": 9,
    "start_time": "2021-12-29T08:37:51.869Z"
   },
   {
    "duration": 13,
    "start_time": "2021-12-29T08:37:51.881Z"
   },
   {
    "duration": 8,
    "start_time": "2021-12-29T08:37:51.896Z"
   },
   {
    "duration": 10,
    "start_time": "2021-12-29T08:37:51.905Z"
   },
   {
    "duration": 14,
    "start_time": "2021-12-29T08:37:51.917Z"
   },
   {
    "duration": 135,
    "start_time": "2021-12-29T08:37:51.933Z"
   },
   {
    "duration": 23,
    "start_time": "2021-12-29T08:37:52.069Z"
   },
   {
    "duration": 14,
    "start_time": "2021-12-29T08:37:52.094Z"
   },
   {
    "duration": 4,
    "start_time": "2021-12-29T08:37:52.110Z"
   },
   {
    "duration": 121,
    "start_time": "2021-12-29T08:37:52.116Z"
   },
   {
    "duration": 5,
    "start_time": "2021-12-29T08:37:52.239Z"
   },
   {
    "duration": 67,
    "start_time": "2021-12-29T08:37:52.245Z"
   },
   {
    "duration": 25,
    "start_time": "2021-12-29T08:37:52.314Z"
   },
   {
    "duration": 58,
    "start_time": "2021-12-29T08:37:52.344Z"
   },
   {
    "duration": 36,
    "start_time": "2021-12-29T08:37:52.405Z"
   },
   {
    "duration": 6,
    "start_time": "2021-12-29T08:37:52.443Z"
   },
   {
    "duration": 5,
    "start_time": "2021-12-29T08:37:52.451Z"
   },
   {
    "duration": 6,
    "start_time": "2021-12-29T08:37:52.458Z"
   },
   {
    "duration": 297,
    "start_time": "2021-12-29T08:37:52.465Z"
   },
   {
    "duration": 9,
    "start_time": "2021-12-29T08:37:52.764Z"
   },
   {
    "duration": 20,
    "start_time": "2021-12-29T08:37:52.775Z"
   },
   {
    "duration": 22,
    "start_time": "2021-12-29T08:37:52.798Z"
   },
   {
    "duration": 26,
    "start_time": "2021-12-29T08:37:52.822Z"
   },
   {
    "duration": 21,
    "start_time": "2021-12-29T08:37:52.850Z"
   },
   {
    "duration": 450,
    "start_time": "2021-12-29T08:37:52.873Z"
   },
   {
    "duration": 288,
    "start_time": "2021-12-29T08:37:53.325Z"
   },
   {
    "duration": 301,
    "start_time": "2021-12-29T08:37:53.615Z"
   },
   {
    "duration": 5,
    "start_time": "2021-12-29T08:37:53.917Z"
   },
   {
    "duration": 25,
    "start_time": "2021-12-29T08:37:53.924Z"
   },
   {
    "duration": 25,
    "start_time": "2021-12-29T08:37:53.950Z"
   },
   {
    "duration": 42,
    "start_time": "2021-12-29T08:37:53.976Z"
   },
   {
    "duration": 2,
    "start_time": "2021-12-29T08:46:44.129Z"
   },
   {
    "duration": 304,
    "start_time": "2021-12-29T09:00:07.568Z"
   },
   {
    "duration": 931,
    "start_time": "2021-12-29T09:00:11.435Z"
   },
   {
    "duration": 434,
    "start_time": "2021-12-29T09:00:12.368Z"
   },
   {
    "duration": 8,
    "start_time": "2021-12-29T09:00:12.804Z"
   },
   {
    "duration": 21,
    "start_time": "2021-12-29T09:00:12.814Z"
   },
   {
    "duration": 23,
    "start_time": "2021-12-29T09:00:12.837Z"
   },
   {
    "duration": 9,
    "start_time": "2021-12-29T09:00:12.861Z"
   },
   {
    "duration": 34,
    "start_time": "2021-12-29T09:00:12.871Z"
   },
   {
    "duration": 14,
    "start_time": "2021-12-29T09:00:12.907Z"
   },
   {
    "duration": 39,
    "start_time": "2021-12-29T09:00:12.923Z"
   },
   {
    "duration": 18,
    "start_time": "2021-12-29T09:00:12.964Z"
   },
   {
    "duration": 32,
    "start_time": "2021-12-29T09:00:12.984Z"
   },
   {
    "duration": 39,
    "start_time": "2021-12-29T09:00:13.018Z"
   },
   {
    "duration": 23,
    "start_time": "2021-12-29T09:00:13.059Z"
   },
   {
    "duration": 36,
    "start_time": "2021-12-29T09:00:13.085Z"
   },
   {
    "duration": 144,
    "start_time": "2021-12-29T09:00:13.123Z"
   },
   {
    "duration": 24,
    "start_time": "2021-12-29T09:00:13.269Z"
   },
   {
    "duration": 16,
    "start_time": "2021-12-29T09:00:13.295Z"
   },
   {
    "duration": 5,
    "start_time": "2021-12-29T09:00:13.313Z"
   },
   {
    "duration": 120,
    "start_time": "2021-12-29T09:00:13.319Z"
   },
   {
    "duration": 3,
    "start_time": "2021-12-29T09:00:13.440Z"
   },
   {
    "duration": 10,
    "start_time": "2021-12-29T09:00:13.445Z"
   },
   {
    "duration": 69,
    "start_time": "2021-12-29T09:00:13.457Z"
   },
   {
    "duration": 25,
    "start_time": "2021-12-29T09:00:13.531Z"
   },
   {
    "duration": 47,
    "start_time": "2021-12-29T09:00:13.559Z"
   },
   {
    "duration": 33,
    "start_time": "2021-12-29T09:00:13.608Z"
   },
   {
    "duration": 6,
    "start_time": "2021-12-29T09:00:13.643Z"
   },
   {
    "duration": 16,
    "start_time": "2021-12-29T09:00:13.651Z"
   },
   {
    "duration": 29,
    "start_time": "2021-12-29T09:00:13.669Z"
   },
   {
    "duration": 300,
    "start_time": "2021-12-29T09:00:13.699Z"
   },
   {
    "duration": 9,
    "start_time": "2021-12-29T09:00:14.000Z"
   },
   {
    "duration": 27,
    "start_time": "2021-12-29T09:00:14.010Z"
   },
   {
    "duration": 29,
    "start_time": "2021-12-29T09:00:14.039Z"
   },
   {
    "duration": 31,
    "start_time": "2021-12-29T09:00:14.070Z"
   },
   {
    "duration": 20,
    "start_time": "2021-12-29T09:00:14.103Z"
   },
   {
    "duration": 310,
    "start_time": "2021-12-29T09:00:14.125Z"
   },
   {
    "duration": 901,
    "start_time": "2021-12-29T09:00:13.536Z"
   },
   {
    "duration": 902,
    "start_time": "2021-12-29T09:00:13.537Z"
   },
   {
    "duration": 901,
    "start_time": "2021-12-29T09:00:13.539Z"
   },
   {
    "duration": 900,
    "start_time": "2021-12-29T09:00:13.541Z"
   },
   {
    "duration": 899,
    "start_time": "2021-12-29T09:00:13.542Z"
   },
   {
    "duration": 894,
    "start_time": "2021-12-29T09:00:13.548Z"
   },
   {
    "duration": 894,
    "start_time": "2021-12-29T09:00:13.550Z"
   },
   {
    "duration": 23,
    "start_time": "2021-12-29T09:00:26.866Z"
   },
   {
    "duration": 440,
    "start_time": "2021-12-29T09:00:30.464Z"
   },
   {
    "duration": 293,
    "start_time": "2021-12-29T09:00:31.692Z"
   },
   {
    "duration": 313,
    "start_time": "2021-12-29T09:00:32.185Z"
   },
   {
    "duration": 7,
    "start_time": "2021-12-29T09:00:33.381Z"
   },
   {
    "duration": 5,
    "start_time": "2021-12-29T09:00:33.615Z"
   },
   {
    "duration": 10,
    "start_time": "2021-12-29T09:00:34.563Z"
   },
   {
    "duration": 13,
    "start_time": "2021-12-29T09:00:34.784Z"
   }
  ],
  "kernelspec": {
   "display_name": "Python 3 (ipykernel)",
   "language": "python",
   "name": "python3"
  },
  "language_info": {
   "codemirror_mode": {
    "name": "ipython",
    "version": 3
   },
   "file_extension": ".py",
   "mimetype": "text/x-python",
   "name": "python",
   "nbconvert_exporter": "python",
   "pygments_lexer": "ipython3",
   "version": "3.9.7"
  },
  "toc": {
   "base_numbering": 1,
   "nav_menu": {},
   "number_sections": true,
   "sideBar": true,
   "skip_h1_title": true,
   "title_cell": "Table of Contents",
   "title_sidebar": "Contents",
   "toc_cell": false,
   "toc_position": {},
   "toc_section_display": true,
   "toc_window_display": false
  }
 },
 "nbformat": 4,
 "nbformat_minor": 2
}
