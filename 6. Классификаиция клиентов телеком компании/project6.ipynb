{
 "cells": [
  {
   "cell_type": "markdown",
   "metadata": {},
   "source": [
    "# Рекомендация тарифов"
   ]
  },
  {
   "cell_type": "code",
   "execution_count": 1,
   "metadata": {},
   "outputs": [],
   "source": [
    "#импорируем библиотеки\n",
    "import pandas as pd\n",
    "from sklearn.ensemble import RandomForestClassifier\n",
    "from sklearn.tree import DecisionTreeClassifier\n",
    "from sklearn.linear_model import LogisticRegression\n",
    "from sklearn.model_selection import train_test_split\n",
    "from sklearn.dummy import DummyClassifier"
   ]
  },
  {
   "cell_type": "code",
   "execution_count": 2,
   "metadata": {},
   "outputs": [
    {
     "data": {
      "text/html": [
       "<div>\n",
       "<style scoped>\n",
       "    .dataframe tbody tr th:only-of-type {\n",
       "        vertical-align: middle;\n",
       "    }\n",
       "\n",
       "    .dataframe tbody tr th {\n",
       "        vertical-align: top;\n",
       "    }\n",
       "\n",
       "    .dataframe thead th {\n",
       "        text-align: right;\n",
       "    }\n",
       "</style>\n",
       "<table border=\"1\" class=\"dataframe\">\n",
       "  <thead>\n",
       "    <tr style=\"text-align: right;\">\n",
       "      <th></th>\n",
       "      <th>calls</th>\n",
       "      <th>minutes</th>\n",
       "      <th>messages</th>\n",
       "      <th>mb_used</th>\n",
       "      <th>is_ultra</th>\n",
       "    </tr>\n",
       "  </thead>\n",
       "  <tbody>\n",
       "    <tr>\n",
       "      <td>0</td>\n",
       "      <td>40.0</td>\n",
       "      <td>311.90</td>\n",
       "      <td>83.0</td>\n",
       "      <td>19915.42</td>\n",
       "      <td>0</td>\n",
       "    </tr>\n",
       "    <tr>\n",
       "      <td>1</td>\n",
       "      <td>85.0</td>\n",
       "      <td>516.75</td>\n",
       "      <td>56.0</td>\n",
       "      <td>22696.96</td>\n",
       "      <td>0</td>\n",
       "    </tr>\n",
       "    <tr>\n",
       "      <td>2</td>\n",
       "      <td>77.0</td>\n",
       "      <td>467.66</td>\n",
       "      <td>86.0</td>\n",
       "      <td>21060.45</td>\n",
       "      <td>0</td>\n",
       "    </tr>\n",
       "    <tr>\n",
       "      <td>3</td>\n",
       "      <td>106.0</td>\n",
       "      <td>745.53</td>\n",
       "      <td>81.0</td>\n",
       "      <td>8437.39</td>\n",
       "      <td>1</td>\n",
       "    </tr>\n",
       "    <tr>\n",
       "      <td>4</td>\n",
       "      <td>66.0</td>\n",
       "      <td>418.74</td>\n",
       "      <td>1.0</td>\n",
       "      <td>14502.75</td>\n",
       "      <td>0</td>\n",
       "    </tr>\n",
       "    <tr>\n",
       "      <td>5</td>\n",
       "      <td>58.0</td>\n",
       "      <td>344.56</td>\n",
       "      <td>21.0</td>\n",
       "      <td>15823.37</td>\n",
       "      <td>0</td>\n",
       "    </tr>\n",
       "    <tr>\n",
       "      <td>6</td>\n",
       "      <td>57.0</td>\n",
       "      <td>431.64</td>\n",
       "      <td>20.0</td>\n",
       "      <td>3738.90</td>\n",
       "      <td>1</td>\n",
       "    </tr>\n",
       "    <tr>\n",
       "      <td>7</td>\n",
       "      <td>15.0</td>\n",
       "      <td>132.40</td>\n",
       "      <td>6.0</td>\n",
       "      <td>21911.60</td>\n",
       "      <td>0</td>\n",
       "    </tr>\n",
       "    <tr>\n",
       "      <td>8</td>\n",
       "      <td>7.0</td>\n",
       "      <td>43.39</td>\n",
       "      <td>3.0</td>\n",
       "      <td>2538.67</td>\n",
       "      <td>1</td>\n",
       "    </tr>\n",
       "    <tr>\n",
       "      <td>9</td>\n",
       "      <td>90.0</td>\n",
       "      <td>665.41</td>\n",
       "      <td>38.0</td>\n",
       "      <td>17358.61</td>\n",
       "      <td>0</td>\n",
       "    </tr>\n",
       "  </tbody>\n",
       "</table>\n",
       "</div>"
      ],
      "text/plain": [
       "   calls  minutes  messages   mb_used  is_ultra\n",
       "0   40.0   311.90      83.0  19915.42         0\n",
       "1   85.0   516.75      56.0  22696.96         0\n",
       "2   77.0   467.66      86.0  21060.45         0\n",
       "3  106.0   745.53      81.0   8437.39         1\n",
       "4   66.0   418.74       1.0  14502.75         0\n",
       "5   58.0   344.56      21.0  15823.37         0\n",
       "6   57.0   431.64      20.0   3738.90         1\n",
       "7   15.0   132.40       6.0  21911.60         0\n",
       "8    7.0    43.39       3.0   2538.67         1\n",
       "9   90.0   665.41      38.0  17358.61         0"
      ]
     },
     "execution_count": 2,
     "metadata": {},
     "output_type": "execute_result"
    }
   ],
   "source": [
    "#читаем файл и выводим первые строки\n",
    "data = pd.read_csv('/datasets/users_behavior.csv')\n",
    "data.head(10)"
   ]
  },
  {
   "cell_type": "markdown",
   "metadata": {},
   "source": [
    "Данные в таблице годятся для дальнйшего анализа. Названия колонок в праввильном стиле. Пропусков не видно. В целом значения данных представлены наглядно и понятно. "
   ]
  },
  {
   "cell_type": "code",
   "execution_count": 3,
   "metadata": {},
   "outputs": [
    {
     "name": "stdout",
     "output_type": "stream",
     "text": [
      "<class 'pandas.core.frame.DataFrame'>\n",
      "RangeIndex: 3214 entries, 0 to 3213\n",
      "Data columns (total 5 columns):\n",
      "calls       3214 non-null float64\n",
      "minutes     3214 non-null float64\n",
      "messages    3214 non-null float64\n",
      "mb_used     3214 non-null float64\n",
      "is_ultra    3214 non-null int64\n",
      "dtypes: float64(4), int64(1)\n",
      "memory usage: 125.7 KB\n"
     ]
    }
   ],
   "source": [
    "# изучим данные с помощью info\n",
    "data.info()"
   ]
  },
  {
   "cell_type": "markdown",
   "metadata": {},
   "source": [
    "Пропусков также не обнаружено. Данные представлены вещественными числами, кроме целевого столбца is_ultra. В принципе колонку messages можно было бы привести к целым числам, но построению модели это не помещает.\n",
    "\n",
    "Данные поверсностно изучены можно пристыпать к построению моделей."
   ]
  },
  {
   "cell_type": "code",
   "execution_count": 4,
   "metadata": {},
   "outputs": [],
   "source": [
    "#разделим выборку на обучающую, валидационную и тестовую в соотношении 3:1:1\n",
    "# сначала разделим датасет на параметры и целевой параметр\n",
    "features = data.drop(['is_ultra'], axis=1)\n",
    "target = data['is_ultra']\n"
   ]
  },
  {
   "cell_type": "code",
   "execution_count": 5,
   "metadata": {},
   "outputs": [],
   "source": [
    "# теперь поделим выборку на обучающую(60% данных) и остальную часть (40% данных)\n",
    "train_features, rest_features, train_target, rest_target = train_test_split(features,target, test_size=0.4, random_state=100)"
   ]
  },
  {
   "cell_type": "code",
   "execution_count": 6,
   "metadata": {},
   "outputs": [
    {
     "name": "stdout",
     "output_type": "stream",
     "text": [
      "1928\n"
     ]
    },
    {
     "data": {
      "text/plain": [
       "1286"
      ]
     },
     "execution_count": 6,
     "metadata": {},
     "output_type": "execute_result"
    }
   ],
   "source": [
    "#проверим количество строк в разбивка\n",
    "print(len(train_features))\n",
    "len(rest_features)"
   ]
  },
  {
   "cell_type": "code",
   "execution_count": 7,
   "metadata": {},
   "outputs": [],
   "source": [
    "# теперь поделим остальную выборку на валидационную и тестовую пополам (т.е 20% от общего датасета)\n",
    "valid_features, test_features, valid_target, test_target = train_test_split(rest_features, rest_target, test_size=0.5, random_state=100)"
   ]
  },
  {
   "cell_type": "code",
   "execution_count": 8,
   "metadata": {},
   "outputs": [
    {
     "name": "stdout",
     "output_type": "stream",
     "text": [
      "643\n"
     ]
    },
    {
     "data": {
      "text/plain": [
       "643"
      ]
     },
     "execution_count": 8,
     "metadata": {},
     "output_type": "execute_result"
    }
   ],
   "source": [
    "print(len(valid_features))\n",
    "len(test_features)"
   ]
  },
  {
   "cell_type": "markdown",
   "metadata": {},
   "source": [
    "Выборка разделена для модели в соотношении 3:1:1 и готова для работы с моделью."
   ]
  },
  {
   "cell_type": "code",
   "execution_count": 12,
   "metadata": {},
   "outputs": [
    {
     "name": "stdout",
     "output_type": "stream",
     "text": [
      "accuracy: 0.8180404354587869\n",
      "глубина древа: 3\n"
     ]
    }
   ],
   "source": [
    "# рассмотрим три модели для решения данной задачи классификации: Дерево решений, логическую регрессию и случайный лес\n",
    "#начнем подбор модели с дерево решений\n",
    "best_result = 0\n",
    "best_model = None\n",
    "depth = 0 \n",
    "for i in range(1,11):\n",
    "    model = DecisionTreeClassifier(random_state=100, max_depth=i)\n",
    "    model.fit(train_features, train_target)\n",
    "    result = model.score(valid_features, valid_target)\n",
    "    if result>best_result:\n",
    "        best_result=result\n",
    "        best_model=model\n",
    "        depth = i\n",
    "        \n",
    "print('accuracy:', best_result)\n",
    "print('глубина древа:', depth)"
   ]
  },
  {
   "cell_type": "markdown",
   "metadata": {},
   "source": [
    "На валидационной выборки метрика accuracy составляет практически 82% для древа глубной 3. Проверим другие модели."
   ]
  },
  {
   "cell_type": "code",
   "execution_count": 15,
   "metadata": {},
   "outputs": [
    {
     "name": "stdout",
     "output_type": "stream",
     "text": [
      "accuracy: 0.702954898911353\n"
     ]
    },
    {
     "name": "stderr",
     "output_type": "stream",
     "text": [
      "/opt/conda/lib/python3.7/site-packages/sklearn/linear_model/logistic.py:432: FutureWarning: Default solver will be changed to 'lbfgs' in 0.22. Specify a solver to silence this warning.\n",
      "  FutureWarning)\n"
     ]
    }
   ],
   "source": [
    "# рассморим логическую регрессию\n",
    "model = LogisticRegression(random_state=100)\n",
    "model.fit(train_features, train_target)\n",
    "result = model.score(valid_features, valid_target)\n",
    "    \n",
    "print('accuracy:', result)   \n"
   ]
  },
  {
   "cell_type": "markdown",
   "metadata": {},
   "source": [
    "Acccuracy данной модели ниже чем у древа всего лишь 70%."
   ]
  },
  {
   "cell_type": "code",
   "execution_count": 14,
   "metadata": {},
   "outputs": [
    {
     "name": "stdout",
     "output_type": "stream",
     "text": [
      "accuracy: 0.8195956454121306\n",
      "глубина древа: 9\n",
      "количество древ: 15\n"
     ]
    }
   ],
   "source": [
    "# рассморим модель случайного леса\n",
    "best_result_forest = 0\n",
    "best_model_forest = None\n",
    "depth_forest = 0 \n",
    "estimators = 0\n",
    "for i in range(1,11):\n",
    "    for k in range(3,60,3):\n",
    "        model = RandomForestClassifier(random_state=100, max_depth=i, n_estimators=k)\n",
    "        model.fit(train_features, train_target)\n",
    "        result = model.score(valid_features, valid_target)\n",
    "        if result>best_result:\n",
    "            best_result_forest=result\n",
    "            best_model_forest=model\n",
    "            depth_forest = i\n",
    "            estimators = k\n",
    "print('accuracy:', best_result_forest)\n",
    "print('глубина древа:', depth_forest)\n",
    "print('количество древ:', estimators)"
   ]
  },
  {
   "cell_type": "markdown",
   "metadata": {},
   "source": [
    "Accuracy случайного леса тоже вышло примерно 82%, но в целом результат выше на тысячную лучше, чем у древа. Так как в данной работе важно точность то будет выбрана модель случайного леса глубиной 9 и количеством древ 15. Однако если бы мы выбирали точность с учетом быстродействия, то лучшей моделью стало бы дерево решений, так как разница метрики минимальная."
   ]
  },
  {
   "cell_type": "code",
   "execution_count": 16,
   "metadata": {},
   "outputs": [
    {
     "name": "stdout",
     "output_type": "stream",
     "text": [
      "Модель прошла проверку с результатом: 0.7838258164852255\n"
     ]
    }
   ],
   "source": [
    "#проверяем модель случайного леса на тестовой выборке\n",
    "model = RandomForestClassifier(random_state=100, max_depth=9, n_estimators=15)\n",
    "model.fit(train_features, train_target)\n",
    "testing = model.score(test_features, test_target)\n",
    "if testing>0.75:\n",
    "    print('Модель прошла проверку с результатом:', testing)"
   ]
  },
  {
   "cell_type": "markdown",
   "metadata": {},
   "source": [
    "Данная модель имеет accuracy больше 0.75. Результат тестирования удовлетворяет запрос проекта."
   ]
  },
  {
   "cell_type": "code",
   "execution_count": 17,
   "metadata": {},
   "outputs": [
    {
     "data": {
      "text/plain": [
       "0.6951788491446346"
      ]
     },
     "execution_count": 17,
     "metadata": {},
     "output_type": "execute_result"
    }
   ],
   "source": [
    "# дополнительная проверка\n",
    "#иcпользую Dummy c гиперпараметром most_frequent \n",
    "#получу модель которая предскажет наиболее частый вариант для этой бинарной класифифкации и подсчитаю accuracy\n",
    "model = DummyClassifier(strategy='most_frequent', random_state=100)\n",
    "model.fit(train_features, train_target)\n",
    "model.score(test_features, test_target)"
   ]
  },
  {
   "cell_type": "markdown",
   "metadata": {},
   "source": [
    "Dummy-модель обладает более низкой метрикой. Проверка пройдена."
   ]
  }
 ],
 "metadata": {
  "ExecuteTimeLog": [
   {
    "duration": 1439,
    "start_time": "2022-01-31T06:43:06.679Z"
   },
   {
    "duration": 3,
    "start_time": "2022-01-31T06:43:40.488Z"
   },
   {
    "duration": 319,
    "start_time": "2022-01-31T06:45:07.159Z"
   },
   {
    "duration": 3,
    "start_time": "2022-01-31T06:45:13.583Z"
   },
   {
    "duration": 42,
    "start_time": "2022-01-31T06:45:14.969Z"
   },
   {
    "duration": 31,
    "start_time": "2022-01-31T06:45:53.863Z"
   },
   {
    "duration": 8,
    "start_time": "2022-01-31T07:29:16.282Z"
   },
   {
    "duration": 5,
    "start_time": "2022-01-31T07:46:19.736Z"
   },
   {
    "duration": 6,
    "start_time": "2022-01-31T07:48:14.848Z"
   },
   {
    "duration": 13,
    "start_time": "2022-01-31T07:48:22.296Z"
   },
   {
    "duration": 14,
    "start_time": "2022-01-31T07:48:30.081Z"
   },
   {
    "duration": 6,
    "start_time": "2022-01-31T07:48:34.927Z"
   },
   {
    "duration": 6,
    "start_time": "2022-01-31T07:50:07.527Z"
   },
   {
    "duration": 3,
    "start_time": "2022-01-31T08:00:11.657Z"
   },
   {
    "duration": 32,
    "start_time": "2022-01-31T08:00:11.662Z"
   },
   {
    "duration": 6,
    "start_time": "2022-01-31T08:00:11.696Z"
   },
   {
    "duration": 33,
    "start_time": "2022-01-31T08:00:11.704Z"
   },
   {
    "duration": 17,
    "start_time": "2022-01-31T08:00:11.739Z"
   },
   {
    "duration": 8,
    "start_time": "2022-01-31T08:00:11.758Z"
   },
   {
    "duration": 293,
    "start_time": "2022-01-31T08:00:11.767Z"
   },
   {
    "duration": 52,
    "start_time": "2022-01-31T08:42:59.233Z"
   },
   {
    "duration": 55,
    "start_time": "2022-01-31T08:43:41.065Z"
   },
   {
    "duration": 56,
    "start_time": "2022-01-31T08:44:09.465Z"
   },
   {
    "duration": 82,
    "start_time": "2022-01-31T08:45:26.473Z"
   },
   {
    "duration": 101,
    "start_time": "2022-01-31T08:48:35.618Z"
   },
   {
    "duration": 83,
    "start_time": "2022-01-31T08:49:05.537Z"
   },
   {
    "duration": 84,
    "start_time": "2022-01-31T08:49:12.721Z"
   },
   {
    "duration": 83,
    "start_time": "2022-01-31T08:49:22.047Z"
   },
   {
    "duration": 85,
    "start_time": "2022-01-31T08:49:26.175Z"
   },
   {
    "duration": 12,
    "start_time": "2022-01-31T08:49:38.193Z"
   },
   {
    "duration": 10,
    "start_time": "2022-01-31T08:49:53.129Z"
   },
   {
    "duration": 12,
    "start_time": "2022-01-31T08:50:09.713Z"
   },
   {
    "duration": 270,
    "start_time": "2022-01-31T08:51:16.595Z"
   },
   {
    "duration": 252,
    "start_time": "2022-01-31T08:51:27.353Z"
   },
   {
    "duration": 12,
    "start_time": "2022-01-31T08:53:37.321Z"
   },
   {
    "duration": 11,
    "start_time": "2022-01-31T08:54:19.562Z"
   },
   {
    "duration": 12,
    "start_time": "2022-01-31T08:54:59.072Z"
   },
   {
    "duration": 12,
    "start_time": "2022-01-31T09:14:18.576Z"
   },
   {
    "duration": 12709,
    "start_time": "2022-01-31T09:15:52.750Z"
   },
   {
    "duration": 12231,
    "start_time": "2022-01-31T09:16:10.158Z"
   },
   {
    "duration": 12698,
    "start_time": "2022-01-31T09:16:52.589Z"
   },
   {
    "duration": 3,
    "start_time": "2022-01-31T09:21:43.965Z"
   },
   {
    "duration": 59,
    "start_time": "2022-01-31T09:24:00.757Z"
   },
   {
    "duration": 55,
    "start_time": "2022-01-31T09:25:04.117Z"
   },
   {
    "duration": 58,
    "start_time": "2022-01-31T09:25:50.924Z"
   },
   {
    "duration": 3,
    "start_time": "2022-01-31T09:38:42.812Z"
   },
   {
    "duration": 29,
    "start_time": "2022-01-31T09:38:42.818Z"
   },
   {
    "duration": 6,
    "start_time": "2022-01-31T09:38:42.849Z"
   },
   {
    "duration": 16,
    "start_time": "2022-01-31T09:38:42.857Z"
   },
   {
    "duration": 13,
    "start_time": "2022-01-31T09:38:42.875Z"
   },
   {
    "duration": 9,
    "start_time": "2022-01-31T09:38:42.890Z"
   },
   {
    "duration": 61,
    "start_time": "2022-01-31T09:38:42.901Z"
   },
   {
    "duration": 10,
    "start_time": "2022-01-31T09:38:42.964Z"
   },
   {
    "duration": 13495,
    "start_time": "2022-01-31T09:38:42.975Z"
   },
   {
    "duration": 53,
    "start_time": "2022-01-31T09:38:56.473Z"
   },
   {
    "duration": 96,
    "start_time": "2022-02-02T07:30:28.208Z"
   },
   {
    "duration": 141,
    "start_time": "2022-02-02T07:31:45.635Z"
   },
   {
    "duration": 332,
    "start_time": "2022-02-02T07:31:51.521Z"
   },
   {
    "duration": 1382,
    "start_time": "2022-02-02T07:31:57.454Z"
   },
   {
    "duration": 41,
    "start_time": "2022-02-02T07:31:58.838Z"
   },
   {
    "duration": 10,
    "start_time": "2022-02-02T07:31:58.882Z"
   },
   {
    "duration": 12,
    "start_time": "2022-02-02T07:31:58.895Z"
   },
   {
    "duration": 24,
    "start_time": "2022-02-02T07:31:58.910Z"
   },
   {
    "duration": 15,
    "start_time": "2022-02-02T07:31:58.937Z"
   },
   {
    "duration": 22,
    "start_time": "2022-02-02T07:31:58.955Z"
   },
   {
    "duration": 90,
    "start_time": "2022-02-02T07:31:58.980Z"
   },
   {
    "duration": 437,
    "start_time": "2022-02-02T07:31:59.075Z"
   },
   {
    "duration": -21,
    "start_time": "2022-02-02T07:31:59.552Z"
   },
   {
    "duration": -32,
    "start_time": "2022-02-02T07:31:59.568Z"
   },
   {
    "duration": 9,
    "start_time": "2022-02-02T07:32:32.362Z"
   },
   {
    "duration": 7,
    "start_time": "2022-02-02T07:33:10.130Z"
   },
   {
    "duration": 314,
    "start_time": "2022-02-02T07:41:33.088Z"
   },
   {
    "duration": 4,
    "start_time": "2022-02-02T07:42:23.444Z"
   },
   {
    "duration": 50,
    "start_time": "2022-02-02T07:42:23.452Z"
   },
   {
    "duration": 9,
    "start_time": "2022-02-02T07:42:23.505Z"
   },
   {
    "duration": 24,
    "start_time": "2022-02-02T07:42:23.517Z"
   },
   {
    "duration": 30,
    "start_time": "2022-02-02T07:42:23.543Z"
   },
   {
    "duration": 20,
    "start_time": "2022-02-02T07:42:23.576Z"
   },
   {
    "duration": 16,
    "start_time": "2022-02-02T07:42:23.598Z"
   },
   {
    "duration": 15,
    "start_time": "2022-02-02T07:42:23.618Z"
   },
   {
    "duration": 79,
    "start_time": "2022-02-02T07:42:23.636Z"
   },
   {
    "duration": 290,
    "start_time": "2022-02-02T07:42:23.717Z"
   },
   {
    "duration": -29,
    "start_time": "2022-02-02T07:42:24.038Z"
   },
   {
    "duration": -28,
    "start_time": "2022-02-02T07:42:24.039Z"
   },
   {
    "duration": -28,
    "start_time": "2022-02-02T07:42:24.040Z"
   },
   {
    "duration": 1317,
    "start_time": "2022-02-02T07:44:59.054Z"
   },
   {
    "duration": 43,
    "start_time": "2022-02-02T07:45:00.374Z"
   },
   {
    "duration": 9,
    "start_time": "2022-02-02T07:45:00.422Z"
   },
   {
    "duration": 6,
    "start_time": "2022-02-02T07:45:00.450Z"
   },
   {
    "duration": 23,
    "start_time": "2022-02-02T07:45:00.459Z"
   },
   {
    "duration": 33,
    "start_time": "2022-02-02T07:45:00.485Z"
   },
   {
    "duration": 49,
    "start_time": "2022-02-02T07:45:00.521Z"
   },
   {
    "duration": 54,
    "start_time": "2022-02-02T07:45:00.573Z"
   },
   {
    "duration": 140,
    "start_time": "2022-02-02T07:45:00.631Z"
   },
   {
    "duration": 422,
    "start_time": "2022-02-02T07:45:00.773Z"
   },
   {
    "duration": -29,
    "start_time": "2022-02-02T07:45:01.226Z"
   },
   {
    "duration": -30,
    "start_time": "2022-02-02T07:45:01.229Z"
   },
   {
    "duration": -32,
    "start_time": "2022-02-02T07:45:01.233Z"
   },
   {
    "duration": 275,
    "start_time": "2022-02-02T07:45:10.193Z"
   },
   {
    "duration": 73,
    "start_time": "2022-02-02T07:45:16.217Z"
   },
   {
    "duration": 302,
    "start_time": "2022-02-02T07:45:18.201Z"
   },
   {
    "duration": 18319,
    "start_time": "2022-02-02T07:45:26.114Z"
   },
   {
    "duration": 26,
    "start_time": "2022-02-02T07:45:44.435Z"
   },
   {
    "duration": 69,
    "start_time": "2022-02-02T07:45:50.393Z"
   },
   {
    "duration": 7,
    "start_time": "2022-02-02T07:45:53.649Z"
   }
  ],
  "kernelspec": {
   "display_name": "Python 3 (ipykernel)",
   "language": "python",
   "name": "python3"
  },
  "language_info": {
   "codemirror_mode": {
    "name": "ipython",
    "version": 3
   },
   "file_extension": ".py",
   "mimetype": "text/x-python",
   "name": "python",
   "nbconvert_exporter": "python",
   "pygments_lexer": "ipython3",
   "version": "3.9.7"
  },
  "toc": {
   "base_numbering": 1,
   "nav_menu": {},
   "number_sections": true,
   "sideBar": true,
   "skip_h1_title": true,
   "title_cell": "Table of Contents",
   "title_sidebar": "Contents",
   "toc_cell": false,
   "toc_position": {},
   "toc_section_display": true,
   "toc_window_display": false
  }
 },
 "nbformat": 4,
 "nbformat_minor": 2
}
