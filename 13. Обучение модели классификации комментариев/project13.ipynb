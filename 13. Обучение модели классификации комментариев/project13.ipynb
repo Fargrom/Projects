{
 "cells": [
  {
   "cell_type": "markdown",
   "metadata": {},
   "source": [
    "# Проект для «Викишоп»"
   ]
  },
  {
   "cell_type": "markdown",
   "metadata": {},
   "source": [
    "## Подготовка"
   ]
  },
  {
   "cell_type": "code",
   "execution_count": 1,
   "metadata": {},
   "outputs": [],
   "source": [
    "# импортируем библиотеки\n",
    "import numpy as np\n",
    "import pandas as pd\n",
    "from sklearn.linear_model import LogisticRegression\n",
    "from sklearn.model_selection import train_test_split\n",
    "from catboost import CatBoostClassifier\n",
    "from sklearn.metrics import f1_score\n",
    "from sklearn.ensemble import RandomForestClassifier\n",
    "import nltk\n",
    "from nltk.corpus import stopwords as nltk_stopwords\n",
    "from sklearn.feature_extraction.text import TfidfVectorizer \n",
    "import re\n",
    "from nltk.stem import WordNetLemmatizer "
   ]
  },
  {
   "cell_type": "code",
   "execution_count": 2,
   "metadata": {},
   "outputs": [],
   "source": [
    "# читаем файл\n",
    "data = pd.read_csv('/datasets/toxic_comments.csv')"
   ]
  },
  {
   "cell_type": "code",
   "execution_count": 3,
   "metadata": {},
   "outputs": [
    {
     "data": {
      "text/html": [
       "<div>\n",
       "<style scoped>\n",
       "    .dataframe tbody tr th:only-of-type {\n",
       "        vertical-align: middle;\n",
       "    }\n",
       "\n",
       "    .dataframe tbody tr th {\n",
       "        vertical-align: top;\n",
       "    }\n",
       "\n",
       "    .dataframe thead th {\n",
       "        text-align: right;\n",
       "    }\n",
       "</style>\n",
       "<table border=\"1\" class=\"dataframe\">\n",
       "  <thead>\n",
       "    <tr style=\"text-align: right;\">\n",
       "      <th></th>\n",
       "      <th>text</th>\n",
       "      <th>toxic</th>\n",
       "    </tr>\n",
       "  </thead>\n",
       "  <tbody>\n",
       "    <tr>\n",
       "      <th>0</th>\n",
       "      <td>Explanation\\nWhy the edits made under my usern...</td>\n",
       "      <td>0</td>\n",
       "    </tr>\n",
       "    <tr>\n",
       "      <th>1</th>\n",
       "      <td>D'aww! He matches this background colour I'm s...</td>\n",
       "      <td>0</td>\n",
       "    </tr>\n",
       "    <tr>\n",
       "      <th>2</th>\n",
       "      <td>Hey man, I'm really not trying to edit war. It...</td>\n",
       "      <td>0</td>\n",
       "    </tr>\n",
       "    <tr>\n",
       "      <th>3</th>\n",
       "      <td>\"\\nMore\\nI can't make any real suggestions on ...</td>\n",
       "      <td>0</td>\n",
       "    </tr>\n",
       "    <tr>\n",
       "      <th>4</th>\n",
       "      <td>You, sir, are my hero. Any chance you remember...</td>\n",
       "      <td>0</td>\n",
       "    </tr>\n",
       "  </tbody>\n",
       "</table>\n",
       "</div>"
      ],
      "text/plain": [
       "                                                text  toxic\n",
       "0  Explanation\\nWhy the edits made under my usern...      0\n",
       "1  D'aww! He matches this background colour I'm s...      0\n",
       "2  Hey man, I'm really not trying to edit war. It...      0\n",
       "3  \"\\nMore\\nI can't make any real suggestions on ...      0\n",
       "4  You, sir, are my hero. Any chance you remember...      0"
      ]
     },
     "execution_count": 3,
     "metadata": {},
     "output_type": "execute_result"
    }
   ],
   "source": [
    "data.head()"
   ]
  },
  {
   "cell_type": "code",
   "execution_count": 4,
   "metadata": {},
   "outputs": [
    {
     "name": "stdout",
     "output_type": "stream",
     "text": [
      "<class 'pandas.core.frame.DataFrame'>\n",
      "RangeIndex: 159571 entries, 0 to 159570\n",
      "Data columns (total 2 columns):\n",
      " #   Column  Non-Null Count   Dtype \n",
      "---  ------  --------------   ----- \n",
      " 0   text    159571 non-null  object\n",
      " 1   toxic   159571 non-null  int64 \n",
      "dtypes: int64(1), object(1)\n",
      "memory usage: 2.4+ MB\n"
     ]
    }
   ],
   "source": [
    "data.info()"
   ]
  },
  {
   "cell_type": "markdown",
   "metadata": {},
   "source": [
    "Пропусков нет. Типы данных в порядке. Подготовим корпус для обучения моделей."
   ]
  },
  {
   "cell_type": "code",
   "execution_count": 5,
   "metadata": {},
   "outputs": [],
   "source": [
    "corpus = data['text'].apply(lambda x: x.lower())"
   ]
  },
  {
   "cell_type": "code",
   "execution_count": 6,
   "metadata": {},
   "outputs": [],
   "source": [
    "# разобьем на токены и уберем лишние пробелы\n",
    "def token(corpus):\n",
    "    x = re.sub(r\"[^'a-z]\", \" \", corpus)\n",
    "    return x.split()\n",
    "    \n"
   ]
  },
  {
   "cell_type": "code",
   "execution_count": 7,
   "metadata": {},
   "outputs": [
    {
     "data": {
      "text/plain": [
       "0         [explanation, why, the, edits, made, under, my...\n",
       "1         [d'aww, he, matches, this, background, colour,...\n",
       "2         [hey, man, i'm, really, not, trying, to, edit,...\n",
       "3         [more, i, can't, make, any, real, suggestions,...\n",
       "4         [you, sir, are, my, hero, any, chance, you, re...\n",
       "                                ...                        \n",
       "159566    [and, for, the, second, time, of, asking, when...\n",
       "159567    [you, should, be, ashamed, of, yourself, that,...\n",
       "159568    [spitzer, umm, theres, no, actual, article, fo...\n",
       "159569    [and, it, looks, like, it, was, actually, you,...\n",
       "159570    [and, i, really, don't, think, you, understand...\n",
       "Name: text, Length: 159571, dtype: object"
      ]
     },
     "execution_count": 7,
     "metadata": {},
     "output_type": "execute_result"
    }
   ],
   "source": [
    "tokens = corpus.apply(token)\n",
    "tokens"
   ]
  },
  {
   "cell_type": "code",
   "execution_count": 8,
   "metadata": {},
   "outputs": [
    {
     "name": "stderr",
     "output_type": "stream",
     "text": [
      "[nltk_data] Downloading package wordnet to /home/jovyan/nltk_data...\n",
      "[nltk_data]   Package wordnet is already up-to-date!\n"
     ]
    }
   ],
   "source": [
    "# выделим леммы\n",
    "nltk.download('wordnet')\n",
    "m = WordNetLemmatizer()\n"
   ]
  },
  {
   "cell_type": "code",
   "execution_count": 9,
   "metadata": {},
   "outputs": [],
   "source": [
    "def lemma(tokens):\n",
    "    lem = []\n",
    "    for token in tokens:\n",
    "        lem.append(m.lemmatize(token))\n",
    "        \n",
    "    return \" \".join(lem)"
   ]
  },
  {
   "cell_type": "code",
   "execution_count": 10,
   "metadata": {},
   "outputs": [],
   "source": [
    "data['lemmas'] = tokens.apply(lemma)"
   ]
  },
  {
   "cell_type": "code",
   "execution_count": 11,
   "metadata": {},
   "outputs": [
    {
     "data": {
      "text/plain": [
       "0         explanation why the edits made under my userna...\n",
       "1         d'aww he match this background colour i'm seem...\n",
       "2         hey man i'm really not trying to edit war it's...\n",
       "3         more i can't make any real suggestion on impro...\n",
       "4         you sir are my hero any chance you remember wh...\n",
       "                                ...                        \n",
       "159566    and for the second time of asking when your vi...\n",
       "159567    you should be ashamed of yourself that is a ho...\n",
       "159568    spitzer umm there no actual article for prosti...\n",
       "159569    and it look like it wa actually you who put on...\n",
       "159570    and i really don't think you understand i came...\n",
       "Name: lemmas, Length: 159571, dtype: object"
      ]
     },
     "execution_count": 11,
     "metadata": {},
     "output_type": "execute_result"
    }
   ],
   "source": [
    "data['lemmas']"
   ]
  },
  {
   "cell_type": "code",
   "execution_count": 12,
   "metadata": {},
   "outputs": [],
   "source": [
    "#делим данные на тестовую и обучающую выборки\n",
    "\n",
    "features_train, features_test, target_train, target_test = train_test_split(data['lemmas'], data['toxic'], random_state=10, test_size=0.2)\n"
   ]
  },
  {
   "cell_type": "code",
   "execution_count": 13,
   "metadata": {},
   "outputs": [
    {
     "name": "stderr",
     "output_type": "stream",
     "text": [
      "[nltk_data] Downloading package stopwords to /home/jovyan/nltk_data...\n",
      "[nltk_data]   Package stopwords is already up-to-date!\n"
     ]
    }
   ],
   "source": [
    "# создадим счетчик для построение tfidf матрицы\n",
    "nltk.download('stopwords')\n",
    "stopwords = set(nltk_stopwords.words('english'))\n",
    "count_tf_idf = TfidfVectorizer(stop_words=stopwords)"
   ]
  },
  {
   "cell_type": "code",
   "execution_count": 14,
   "metadata": {},
   "outputs": [],
   "source": [
    "# создадим матрицу для обучающей и тестовой выборки\n",
    "# посмотрим на результат модели логистической регрессии\n",
    "tdidf_train = count_tf_idf.fit_transform(features_train)\n",
    "\n",
    "tdidf_test = count_tf_idf.transform(features_test)"
   ]
  },
  {
   "cell_type": "markdown",
   "metadata": {},
   "source": [
    "Данные преобразованы в матричный вид, учитывающий важность отдельных слов методикой TD-IDF. Далее обучим несколько моделей на основе новых данных."
   ]
  },
  {
   "cell_type": "markdown",
   "metadata": {},
   "source": [
    "## Обучение"
   ]
  },
  {
   "cell_type": "code",
   "execution_count": 15,
   "metadata": {},
   "outputs": [
    {
     "data": {
      "text/plain": [
       "LogisticRegression(class_weight='balanced', random_state=10, solver='liblinear')"
      ]
     },
     "execution_count": 15,
     "metadata": {},
     "output_type": "execute_result"
    }
   ],
   "source": [
    "# постороим модель логистической регрессии\n",
    "logistic_m = LogisticRegression(random_state=10, solver ='liblinear', class_weight = 'balanced')\n",
    "\n",
    "logistic_m.fit(tdidf_train, target_train)"
   ]
  },
  {
   "cell_type": "code",
   "execution_count": 17,
   "metadata": {},
   "outputs": [
    {
     "data": {
      "text/plain": [
       "RandomForestClassifier(max_depth=5, n_estimators=60, random_state=10)"
      ]
     },
     "execution_count": 17,
     "metadata": {},
     "output_type": "execute_result"
    }
   ],
   "source": [
    "# постороим модель случайного леса\n",
    "forest_m = RandomForestClassifier(random_state=10, max_depth=5, n_estimators=60)\n",
    "\n",
    "forest_m.fit(tdidf_train, target_train)"
   ]
  },
  {
   "cell_type": "code",
   "execution_count": 18,
   "metadata": {},
   "outputs": [
    {
     "name": "stdout",
     "output_type": "stream",
     "text": [
      "Learning rate set to 0.081698\n",
      "0:\tlearn: 0.4522286\ttotal: 3.19s\tremaining: 53m 4s\n",
      "50:\tlearn: 0.5796465\ttotal: 2m 8s\tremaining: 39m 52s\n",
      "100:\tlearn: 0.6221924\ttotal: 4m 10s\tremaining: 37m 12s\n",
      "150:\tlearn: 0.6668982\ttotal: 6m 6s\tremaining: 34m 20s\n",
      "200:\tlearn: 0.6858509\ttotal: 8m 6s\tremaining: 32m 15s\n",
      "250:\tlearn: 0.7064334\ttotal: 10m 13s\tremaining: 30m 30s\n",
      "300:\tlearn: 0.7218890\ttotal: 12m 3s\tremaining: 28m\n",
      "350:\tlearn: 0.7319014\ttotal: 13m 58s\tremaining: 25m 51s\n",
      "400:\tlearn: 0.7434555\ttotal: 15m 51s\tremaining: 23m 41s\n",
      "450:\tlearn: 0.7486162\ttotal: 17m 41s\tremaining: 21m 32s\n",
      "500:\tlearn: 0.7568162\ttotal: 19m 32s\tremaining: 19m 27s\n",
      "550:\tlearn: 0.7608914\ttotal: 21m 29s\tremaining: 17m 30s\n",
      "600:\tlearn: 0.7645185\ttotal: 23m 19s\tremaining: 15m 29s\n",
      "650:\tlearn: 0.7672664\ttotal: 25m 12s\tremaining: 13m 30s\n",
      "700:\tlearn: 0.7699905\ttotal: 27m 6s\tremaining: 11m 33s\n",
      "750:\tlearn: 0.7746943\ttotal: 28m 58s\tremaining: 9m 36s\n",
      "800:\tlearn: 0.7806958\ttotal: 30m 57s\tremaining: 7m 41s\n",
      "850:\tlearn: 0.7845803\ttotal: 32m 49s\tremaining: 5m 44s\n",
      "900:\tlearn: 0.7868340\ttotal: 34m 38s\tremaining: 3m 48s\n",
      "950:\tlearn: 0.7905670\ttotal: 36m 26s\tremaining: 1m 52s\n",
      "999:\tlearn: 0.7937778\ttotal: 38m 13s\tremaining: 0us\n"
     ]
    },
    {
     "data": {
      "text/plain": [
       "<catboost.core.CatBoostClassifier at 0x7fac202f7940>"
      ]
     },
     "execution_count": 18,
     "metadata": {},
     "output_type": "execute_result"
    }
   ],
   "source": [
    "# постороим модель градиентного бустинга\n",
    "boost_m = CatBoostClassifier(iterations=1000,  eval_metric='F1', random_state=10, max_depth=6)\n",
    "\n",
    "boost_m.fit(tdidf_train, target_train, verbose=50)"
   ]
  },
  {
   "cell_type": "markdown",
   "metadata": {},
   "source": [
    "## Выводы"
   ]
  },
  {
   "cell_type": "code",
   "execution_count": 19,
   "metadata": {},
   "outputs": [
    {
     "name": "stdout",
     "output_type": "stream",
     "text": [
      "f1_score 0.7562465297057189\n"
     ]
    }
   ],
   "source": [
    "# посмотрим на результат модели логистической регрессии\n",
    "logistic_pred = logistic_m.predict(tdidf_test)\n",
    "print('f1_score', f1_score(target_test, logistic_pred))"
   ]
  },
  {
   "cell_type": "markdown",
   "metadata": {},
   "source": [
    "Модель логистической регрессии смогла успешно справиться с поставленной задачей  достичь заданной метрики. Посмотрим на другие модели."
   ]
  },
  {
   "cell_type": "code",
   "execution_count": 20,
   "metadata": {},
   "outputs": [
    {
     "name": "stdout",
     "output_type": "stream",
     "text": [
      "f1_score 0.0\n"
     ]
    }
   ],
   "source": [
    "# посмотрим на результат модели леса\n",
    "forest_pred = forest_m.predict(tdidf_test)\n",
    "print('f1_score', f1_score(target_test, forest_pred))"
   ]
  },
  {
   "cell_type": "markdown",
   "metadata": {},
   "source": [
    "Модель слуйчаного леса оказалась полностью  бесполезна для решения данной задачи. она пресдказала только одни 0, тем самым опустив свою метрику полноты до 0 и в свою очередь метрику f1. Возможно, для этой модели можно было бы увеличить количество положительных результатов, чтобы лучше ее научить, но она явно уступает другим моделям."
   ]
  },
  {
   "cell_type": "code",
   "execution_count": 21,
   "metadata": {},
   "outputs": [
    {
     "name": "stdout",
     "output_type": "stream",
     "text": [
      "f1_score 0.761835130689088\n"
     ]
    }
   ],
   "source": [
    "# посмотрим на результат catboost\n",
    "boost_pred = boost_m.predict(tdidf_test)\n",
    "print('f1_score', f1_score(target_test, boost_pred))"
   ]
  },
  {
   "cell_type": "markdown",
   "metadata": {},
   "source": [
    "Эта модель смогла добиться лучше результата незначительно обогнав модель логистической регрессии."
   ]
  },
  {
   "cell_type": "code",
   "execution_count": 21,
   "metadata": {},
   "outputs": [
    {
     "data": {
      "text/html": [
       "<div>\n",
       "<style scoped>\n",
       "    .dataframe tbody tr th:only-of-type {\n",
       "        vertical-align: middle;\n",
       "    }\n",
       "\n",
       "    .dataframe tbody tr th {\n",
       "        vertical-align: top;\n",
       "    }\n",
       "\n",
       "    .dataframe thead th {\n",
       "        text-align: right;\n",
       "    }\n",
       "</style>\n",
       "<table border=\"1\" class=\"dataframe\">\n",
       "  <thead>\n",
       "    <tr style=\"text-align: right;\">\n",
       "      <th></th>\n",
       "      <th>f1_score</th>\n",
       "    </tr>\n",
       "  </thead>\n",
       "  <tbody>\n",
       "    <tr>\n",
       "      <th>Логистическая Регрессия</th>\n",
       "      <td>0.726</td>\n",
       "    </tr>\n",
       "    <tr>\n",
       "      <th>Случайный лес</th>\n",
       "      <td>0.000</td>\n",
       "    </tr>\n",
       "    <tr>\n",
       "      <th>Catboost</th>\n",
       "      <td>0.742</td>\n",
       "    </tr>\n",
       "  </tbody>\n",
       "</table>\n",
       "</div>"
      ],
      "text/plain": [
       "                         f1_score\n",
       "Логистическая Регрессия     0.726\n",
       "Случайный лес               0.000\n",
       "Catboost                    0.742"
      ]
     },
     "metadata": {},
     "output_type": "display_data"
    }
   ],
   "source": [
    "#Сведем итоговую мини-табличку\n",
    "\n",
    "index = ['Логистическая Регрессия', 'Случайный лес', 'Catboost']\n",
    "\n",
    "results = 0.756, 0, 0.762\n",
    "\n",
    "display(pd.DataFrame(results, columns=['f1_score'], index=index))"
   ]
  },
  {
   "cell_type": "markdown",
   "metadata": {},
   "source": [
    "Для решения даннной задачи по поиску токсичных комментариев - лучшей моделью по результатам метрики стала модель градиентного бустинга. Однако стоит учесть, что скорость обучения у этой модели в разы ниже, чем у модели логистической регрессии. Поэтому если скорость является сильно подовляющим фактором, то явным чемпионом здесь будет логистическая регрессия."
   ]
  }
 ],
 "metadata": {
  "ExecuteTimeLog": [
   {
    "duration": 2354,
    "start_time": "2022-05-04T10:39:33.501Z"
   },
   {
    "duration": 5,
    "start_time": "2022-05-04T10:41:11.130Z"
   },
   {
    "duration": 286,
    "start_time": "2022-05-04T10:41:11.138Z"
   },
   {
    "duration": 0,
    "start_time": "2022-05-04T10:41:11.428Z"
   },
   {
    "duration": 0,
    "start_time": "2022-05-04T10:41:11.429Z"
   },
   {
    "duration": 0,
    "start_time": "2022-05-04T10:41:11.431Z"
   },
   {
    "duration": 0,
    "start_time": "2022-05-04T10:41:11.432Z"
   },
   {
    "duration": 0,
    "start_time": "2022-05-04T10:41:11.434Z"
   },
   {
    "duration": 0,
    "start_time": "2022-05-04T10:41:11.435Z"
   },
   {
    "duration": 0,
    "start_time": "2022-05-04T10:41:11.437Z"
   },
   {
    "duration": 144,
    "start_time": "2022-05-04T10:41:37.164Z"
   },
   {
    "duration": 5,
    "start_time": "2022-05-04T10:42:15.727Z"
   },
   {
    "duration": 1001,
    "start_time": "2022-05-04T10:42:15.734Z"
   },
   {
    "duration": 19,
    "start_time": "2022-05-04T10:42:16.737Z"
   },
   {
    "duration": 59,
    "start_time": "2022-05-04T10:42:16.758Z"
   },
   {
    "duration": 4,
    "start_time": "2022-05-04T10:42:16.819Z"
   },
   {
    "duration": 7,
    "start_time": "2022-05-04T10:42:16.825Z"
   },
   {
    "duration": 6385,
    "start_time": "2022-05-04T10:42:16.834Z"
   },
   {
    "duration": 4,
    "start_time": "2022-05-04T10:42:23.221Z"
   },
   {
    "duration": 113954,
    "start_time": "2022-05-04T10:42:23.227Z"
   },
   {
    "duration": 6,
    "start_time": "2022-05-04T10:48:55.914Z"
   },
   {
    "duration": 8,
    "start_time": "2022-05-04T10:49:04.387Z"
   },
   {
    "duration": 10,
    "start_time": "2022-05-04T10:50:21.147Z"
   },
   {
    "duration": 9,
    "start_time": "2022-05-04T10:50:21.890Z"
   },
   {
    "duration": 121866,
    "start_time": "2022-05-04T10:50:46.315Z"
   },
   {
    "duration": 8,
    "start_time": "2022-05-04T10:53:24.819Z"
   },
   {
    "duration": 2684,
    "start_time": "2022-05-04T10:53:46.706Z"
   },
   {
    "duration": 84,
    "start_time": "2022-05-04T10:56:30.131Z"
   },
   {
    "duration": 1956,
    "start_time": "2022-05-04T10:58:16.412Z"
   },
   {
    "duration": 1028,
    "start_time": "2022-05-04T10:58:18.370Z"
   },
   {
    "duration": 26,
    "start_time": "2022-05-04T10:58:19.400Z"
   },
   {
    "duration": 41,
    "start_time": "2022-05-04T10:58:19.428Z"
   },
   {
    "duration": 25,
    "start_time": "2022-05-04T10:58:19.472Z"
   },
   {
    "duration": 15,
    "start_time": "2022-05-04T10:58:19.499Z"
   },
   {
    "duration": 6201,
    "start_time": "2022-05-04T10:58:19.517Z"
   },
   {
    "duration": 5,
    "start_time": "2022-05-04T10:58:25.720Z"
   },
   {
    "duration": 120190,
    "start_time": "2022-05-04T10:58:25.728Z"
   },
   {
    "duration": 9,
    "start_time": "2022-05-04T11:00:25.922Z"
   },
   {
    "duration": 2813,
    "start_time": "2022-05-04T11:00:25.934Z"
   },
   {
    "duration": 77,
    "start_time": "2022-05-04T11:03:17.063Z"
   },
   {
    "duration": 2055,
    "start_time": "2022-05-04T11:04:22.934Z"
   },
   {
    "duration": 1056,
    "start_time": "2022-05-04T11:04:24.994Z"
   },
   {
    "duration": 24,
    "start_time": "2022-05-04T11:04:26.052Z"
   },
   {
    "duration": 63,
    "start_time": "2022-05-04T11:04:26.079Z"
   },
   {
    "duration": 3,
    "start_time": "2022-05-04T11:04:26.146Z"
   },
   {
    "duration": 7,
    "start_time": "2022-05-04T11:04:26.151Z"
   },
   {
    "duration": 6105,
    "start_time": "2022-05-04T11:04:26.160Z"
   },
   {
    "duration": 4,
    "start_time": "2022-05-04T11:04:32.268Z"
   },
   {
    "duration": 123186,
    "start_time": "2022-05-04T11:04:32.275Z"
   },
   {
    "duration": 9,
    "start_time": "2022-05-04T11:06:35.464Z"
   },
   {
    "duration": 2695,
    "start_time": "2022-05-04T11:06:35.475Z"
   },
   {
    "duration": 2214,
    "start_time": "2022-05-04T11:07:08.349Z"
   },
   {
    "duration": 1155,
    "start_time": "2022-05-04T11:07:10.566Z"
   },
   {
    "duration": 19,
    "start_time": "2022-05-04T11:07:11.723Z"
   },
   {
    "duration": 60,
    "start_time": "2022-05-04T11:07:11.745Z"
   },
   {
    "duration": 3,
    "start_time": "2022-05-04T11:07:11.809Z"
   },
   {
    "duration": 11,
    "start_time": "2022-05-04T11:07:11.814Z"
   },
   {
    "duration": 6111,
    "start_time": "2022-05-04T11:07:11.827Z"
   },
   {
    "duration": 5,
    "start_time": "2022-05-04T11:07:17.941Z"
   },
   {
    "duration": 123022,
    "start_time": "2022-05-04T11:07:17.948Z"
   },
   {
    "duration": 8,
    "start_time": "2022-05-04T11:09:20.973Z"
   },
   {
    "duration": 2758,
    "start_time": "2022-05-04T11:09:20.983Z"
   },
   {
    "duration": 85,
    "start_time": "2022-05-04T11:09:49.689Z"
   },
   {
    "duration": 2385,
    "start_time": "2022-05-04T11:14:07.336Z"
   },
   {
    "duration": 1404,
    "start_time": "2022-05-04T11:14:10.960Z"
   },
   {
    "duration": 27,
    "start_time": "2022-05-04T11:14:12.993Z"
   },
   {
    "duration": 54,
    "start_time": "2022-05-04T11:14:13.875Z"
   },
   {
    "duration": 3020,
    "start_time": "2022-05-04T11:14:15.019Z"
   },
   {
    "duration": 11,
    "start_time": "2022-05-04T11:14:18.043Z"
   },
   {
    "duration": 214,
    "start_time": "2022-05-04T11:14:18.056Z"
   },
   {
    "duration": 266,
    "start_time": "2022-05-04T11:14:29.938Z"
   },
   {
    "duration": 4,
    "start_time": "2022-05-04T11:14:30.546Z"
   },
   {
    "duration": 7904,
    "start_time": "2022-05-04T11:14:31.023Z"
   },
   {
    "duration": 4210,
    "start_time": "2022-05-04T11:14:50.185Z"
   },
   {
    "duration": 0,
    "start_time": "2022-05-04T11:14:54.398Z"
   },
   {
    "duration": 4,
    "start_time": "2022-05-04T11:15:05.074Z"
   },
   {
    "duration": 133477,
    "start_time": "2022-05-04T11:15:10.522Z"
   },
   {
    "duration": 12,
    "start_time": "2022-05-04T11:17:24.002Z"
   },
   {
    "duration": 3674,
    "start_time": "2022-05-04T11:17:40.017Z"
   },
   {
    "duration": 40,
    "start_time": "2022-05-04T11:17:52.034Z"
   },
   {
    "duration": 252,
    "start_time": "2022-05-04T11:17:57.680Z"
   },
   {
    "duration": 9624,
    "start_time": "2022-05-04T11:19:51.713Z"
   },
   {
    "duration": 16770,
    "start_time": "2022-05-04T11:20:09.929Z"
   },
   {
    "duration": 26685,
    "start_time": "2022-05-04T11:20:54.371Z"
   },
   {
    "duration": 4,
    "start_time": "2022-05-04T11:25:02.681Z"
   },
   {
    "duration": 61869,
    "start_time": "2022-05-04T11:25:29.434Z"
   },
   {
    "duration": 20,
    "start_time": "2022-05-04T11:26:57.569Z"
   },
   {
    "duration": 56,
    "start_time": "2022-05-04T11:27:32.946Z"
   },
   {
    "duration": 17585,
    "start_time": "2022-05-04T11:28:33.561Z"
   },
   {
    "duration": 30,
    "start_time": "2022-05-04T11:28:55.409Z"
   },
   {
    "duration": 34,
    "start_time": "2022-05-04T11:29:37.336Z"
   },
   {
    "duration": 11075,
    "start_time": "2022-05-04T11:32:59.272Z"
   },
   {
    "duration": 24,
    "start_time": "2022-05-04T11:33:13.770Z"
   },
   {
    "duration": 208,
    "start_time": "2022-05-04T11:44:19.282Z"
   },
   {
    "duration": 276,
    "start_time": "2022-05-04T11:44:25.146Z"
   },
   {
    "duration": 18,
    "start_time": "2022-05-04T11:44:30.203Z"
   },
   {
    "duration": 3154,
    "start_time": "2022-05-04T11:44:38.273Z"
   },
   {
    "duration": 731,
    "start_time": "2022-05-04T11:45:15.113Z"
   },
   {
    "duration": 614,
    "start_time": "2022-05-04T11:45:45.873Z"
   },
   {
    "duration": 2715,
    "start_time": "2022-05-04T11:45:58.472Z"
   },
   {
    "duration": 697,
    "start_time": "2022-05-04T11:46:10.615Z"
   },
   {
    "duration": 1474,
    "start_time": "2022-05-04T11:47:39.834Z"
   },
   {
    "duration": 783,
    "start_time": "2022-05-04T11:47:44.233Z"
   },
   {
    "duration": 1298,
    "start_time": "2022-05-04T11:47:54.242Z"
   },
   {
    "duration": 842,
    "start_time": "2022-05-04T11:47:57.057Z"
   },
   {
    "duration": 3068,
    "start_time": "2022-05-04T11:48:10.169Z"
   },
   {
    "duration": 684,
    "start_time": "2022-05-04T11:48:15.961Z"
   },
   {
    "duration": 3260,
    "start_time": "2022-05-04T11:48:43.857Z"
   },
   {
    "duration": 11375,
    "start_time": "2022-05-04T11:48:52.457Z"
   },
   {
    "duration": 24,
    "start_time": "2022-05-04T11:49:08.033Z"
   },
   {
    "duration": 5,
    "start_time": "2022-05-04T11:50:32.874Z"
   },
   {
    "duration": 7,
    "start_time": "2022-05-04T11:50:54.185Z"
   },
   {
    "duration": 6,
    "start_time": "2022-05-04T11:51:11.088Z"
   },
   {
    "duration": 9,
    "start_time": "2022-05-04T11:51:29.002Z"
   },
   {
    "duration": 4728,
    "start_time": "2022-05-04T11:51:46.100Z"
   },
   {
    "duration": 1107,
    "start_time": "2022-05-04T11:51:53.769Z"
   },
   {
    "duration": 7,
    "start_time": "2022-05-04T11:52:29.937Z"
   },
   {
    "duration": 6,
    "start_time": "2022-05-04T11:52:38.089Z"
   },
   {
    "duration": 6,
    "start_time": "2022-05-04T11:52:47.985Z"
   },
   {
    "duration": 2129,
    "start_time": "2022-05-04T11:53:22.664Z"
   },
   {
    "duration": 651,
    "start_time": "2022-05-04T11:53:26.393Z"
   },
   {
    "duration": 201,
    "start_time": "2022-05-04T11:56:32.541Z"
   },
   {
    "duration": 14,
    "start_time": "2022-05-04T11:58:29.119Z"
   },
   {
    "duration": 16,
    "start_time": "2022-05-04T12:01:00.631Z"
   },
   {
    "duration": 20,
    "start_time": "2022-05-04T12:01:13.783Z"
   },
   {
    "duration": 14,
    "start_time": "2022-05-04T12:03:08.927Z"
   },
   {
    "duration": 255,
    "start_time": "2022-05-04T12:05:31.210Z"
   },
   {
    "duration": 130014,
    "start_time": "2022-05-04T12:05:36.204Z"
   },
   {
    "duration": 2585,
    "start_time": "2022-05-04T12:08:27.846Z"
   },
   {
    "duration": 1153,
    "start_time": "2022-05-04T12:08:30.433Z"
   },
   {
    "duration": 27,
    "start_time": "2022-05-04T12:08:31.589Z"
   },
   {
    "duration": 70,
    "start_time": "2022-05-04T12:08:31.618Z"
   },
   {
    "duration": 25,
    "start_time": "2022-05-04T12:08:31.693Z"
   },
   {
    "duration": 27,
    "start_time": "2022-05-04T12:08:31.720Z"
   },
   {
    "duration": 7383,
    "start_time": "2022-05-04T12:08:31.750Z"
   },
   {
    "duration": 6,
    "start_time": "2022-05-04T12:08:39.136Z"
   },
   {
    "duration": 141209,
    "start_time": "2022-05-04T12:08:39.145Z"
   },
   {
    "duration": 8,
    "start_time": "2022-05-04T12:11:00.358Z"
   },
   {
    "duration": 103,
    "start_time": "2022-05-04T12:11:00.369Z"
   },
   {
    "duration": 197,
    "start_time": "2022-05-04T12:11:00.475Z"
   },
   {
    "duration": 19018,
    "start_time": "2022-05-04T12:11:00.675Z"
   },
   {
    "duration": 11159,
    "start_time": "2022-05-04T12:11:19.698Z"
   },
   {
    "duration": 2526,
    "start_time": "2022-05-04T12:11:30.860Z"
   },
   {
    "duration": 4088989,
    "start_time": "2022-05-04T12:11:33.388Z"
   },
   {
    "duration": 35,
    "start_time": "2022-05-04T13:19:42.380Z"
   },
   {
    "duration": 606,
    "start_time": "2022-05-04T13:19:42.418Z"
   },
   {
    "duration": 665,
    "start_time": "2022-05-04T13:19:53.220Z"
   },
   {
    "duration": 39,
    "start_time": "2022-05-04T13:20:06.244Z"
   },
   {
    "duration": 258,
    "start_time": "2022-05-04T13:20:07.564Z"
   },
   {
    "duration": 17254,
    "start_time": "2022-05-04T13:20:08.604Z"
   },
   {
    "duration": 9171,
    "start_time": "2022-05-04T13:20:30.452Z"
   },
   {
    "duration": 2152,
    "start_time": "2022-05-04T13:20:42.092Z"
   },
   {
    "duration": 19,
    "start_time": "2022-05-04T13:20:46.748Z"
   },
   {
    "duration": 542,
    "start_time": "2022-05-04T13:20:50.509Z"
   },
   {
    "duration": 2812188,
    "start_time": "2022-05-04T13:20:59.573Z"
   },
   {
    "duration": 647,
    "start_time": "2022-05-04T14:08:28.213Z"
   },
   {
    "duration": 46,
    "start_time": "2022-05-04T14:09:02.493Z"
   },
   {
    "duration": 19,
    "start_time": "2022-05-04T14:09:03.306Z"
   },
   {
    "duration": 18990,
    "start_time": "2022-05-04T14:09:04.054Z"
   },
   {
    "duration": 7980,
    "start_time": "2022-05-04T14:09:23.047Z"
   },
   {
    "duration": 20,
    "start_time": "2022-05-04T14:09:33.782Z"
   },
   {
    "duration": 39,
    "start_time": "2022-05-04T14:09:41.340Z"
   },
   {
    "duration": 18178,
    "start_time": "2022-05-04T14:09:49.198Z"
   },
   {
    "duration": 8678,
    "start_time": "2022-05-04T14:10:09.140Z"
   },
   {
    "duration": 26,
    "start_time": "2022-05-04T14:10:21.630Z"
   },
   {
    "duration": 39,
    "start_time": "2022-05-04T14:10:29.509Z"
   },
   {
    "duration": 16123,
    "start_time": "2022-05-04T14:10:31.033Z"
   },
   {
    "duration": 9267,
    "start_time": "2022-05-04T14:10:49.388Z"
   },
   {
    "duration": 21,
    "start_time": "2022-05-04T14:11:01.904Z"
   },
   {
    "duration": 37,
    "start_time": "2022-05-04T14:11:14.452Z"
   },
   {
    "duration": 16292,
    "start_time": "2022-05-04T14:11:15.711Z"
   },
   {
    "duration": 0,
    "start_time": "2022-05-04T14:12:49.112Z"
   },
   {
    "duration": 0,
    "start_time": "2022-05-04T14:12:49.114Z"
   },
   {
    "duration": 0,
    "start_time": "2022-05-04T14:12:49.116Z"
   },
   {
    "duration": 0,
    "start_time": "2022-05-04T14:12:49.118Z"
   },
   {
    "duration": 0,
    "start_time": "2022-05-04T14:12:49.119Z"
   },
   {
    "duration": 0,
    "start_time": "2022-05-04T14:12:49.121Z"
   },
   {
    "duration": 0,
    "start_time": "2022-05-04T14:12:49.122Z"
   },
   {
    "duration": 0,
    "start_time": "2022-05-04T14:12:49.124Z"
   },
   {
    "duration": 0,
    "start_time": "2022-05-04T14:12:49.125Z"
   },
   {
    "duration": 0,
    "start_time": "2022-05-04T14:12:49.127Z"
   },
   {
    "duration": 0,
    "start_time": "2022-05-04T14:12:49.131Z"
   },
   {
    "duration": 0,
    "start_time": "2022-05-04T14:12:49.132Z"
   },
   {
    "duration": 0,
    "start_time": "2022-05-04T14:12:49.133Z"
   },
   {
    "duration": 0,
    "start_time": "2022-05-04T14:12:49.135Z"
   },
   {
    "duration": 0,
    "start_time": "2022-05-04T14:12:49.136Z"
   },
   {
    "duration": 0,
    "start_time": "2022-05-04T14:12:49.137Z"
   },
   {
    "duration": 0,
    "start_time": "2022-05-04T14:12:49.138Z"
   },
   {
    "duration": 0,
    "start_time": "2022-05-04T14:12:49.140Z"
   },
   {
    "duration": 0,
    "start_time": "2022-05-04T14:12:49.141Z"
   },
   {
    "duration": 0,
    "start_time": "2022-05-04T14:12:49.143Z"
   },
   {
    "duration": 1950,
    "start_time": "2022-05-04T14:14:00.021Z"
   },
   {
    "duration": 1308,
    "start_time": "2022-05-04T14:14:01.974Z"
   },
   {
    "duration": 27,
    "start_time": "2022-05-04T14:14:03.285Z"
   },
   {
    "duration": 91,
    "start_time": "2022-05-04T14:14:03.314Z"
   },
   {
    "duration": 6,
    "start_time": "2022-05-04T14:14:03.409Z"
   },
   {
    "duration": 12,
    "start_time": "2022-05-04T14:14:03.417Z"
   },
   {
    "duration": 6155,
    "start_time": "2022-05-04T14:14:03.432Z"
   },
   {
    "duration": 4,
    "start_time": "2022-05-04T14:14:09.589Z"
   },
   {
    "duration": 115797,
    "start_time": "2022-05-04T14:14:09.596Z"
   },
   {
    "duration": 14,
    "start_time": "2022-05-04T14:16:05.395Z"
   },
   {
    "duration": 44,
    "start_time": "2022-05-04T14:16:05.412Z"
   },
   {
    "duration": 197,
    "start_time": "2022-05-04T14:16:05.458Z"
   },
   {
    "duration": 16352,
    "start_time": "2022-05-04T14:16:05.657Z"
   },
   {
    "duration": 10612,
    "start_time": "2022-05-04T14:16:22.013Z"
   },
   {
    "duration": 2125,
    "start_time": "2022-05-04T14:16:32.628Z"
   },
   {
    "duration": 2245,
    "start_time": "2022-05-04T14:22:09.152Z"
   },
   {
    "duration": 981,
    "start_time": "2022-05-04T14:22:11.400Z"
   },
   {
    "duration": 24,
    "start_time": "2022-05-04T14:22:12.383Z"
   },
   {
    "duration": 40,
    "start_time": "2022-05-04T14:22:12.410Z"
   },
   {
    "duration": 4,
    "start_time": "2022-05-04T14:22:12.453Z"
   },
   {
    "duration": 36,
    "start_time": "2022-05-04T14:22:12.459Z"
   },
   {
    "duration": 5374,
    "start_time": "2022-05-04T14:22:12.498Z"
   },
   {
    "duration": 4,
    "start_time": "2022-05-04T14:22:17.874Z"
   },
   {
    "duration": 116978,
    "start_time": "2022-05-04T14:22:17.881Z"
   },
   {
    "duration": 11,
    "start_time": "2022-05-04T14:24:14.863Z"
   },
   {
    "duration": 84,
    "start_time": "2022-05-04T14:24:14.877Z"
   },
   {
    "duration": 241,
    "start_time": "2022-05-04T14:24:14.964Z"
   },
   {
    "duration": 17555,
    "start_time": "2022-05-04T14:24:15.207Z"
   },
   {
    "duration": 9068,
    "start_time": "2022-05-04T14:24:32.766Z"
   },
   {
    "duration": 2180,
    "start_time": "2022-05-04T14:24:41.837Z"
   },
   {
    "duration": 83649,
    "start_time": "2022-05-04T14:24:44.020Z"
   },
   {
    "duration": 0,
    "start_time": "2022-05-04T14:26:07.672Z"
   },
   {
    "duration": 0,
    "start_time": "2022-05-04T14:26:07.674Z"
   },
   {
    "duration": 0,
    "start_time": "2022-05-04T14:26:07.676Z"
   },
   {
    "duration": 0,
    "start_time": "2022-05-04T14:26:07.678Z"
   },
   {
    "duration": 2060,
    "start_time": "2022-05-04T14:26:16.461Z"
   },
   {
    "duration": 1140,
    "start_time": "2022-05-04T14:26:18.523Z"
   },
   {
    "duration": 29,
    "start_time": "2022-05-04T14:26:19.665Z"
   },
   {
    "duration": 45,
    "start_time": "2022-05-04T14:26:19.696Z"
   },
   {
    "duration": 3,
    "start_time": "2022-05-04T14:26:19.744Z"
   },
   {
    "duration": 9,
    "start_time": "2022-05-04T14:26:19.749Z"
   },
   {
    "duration": 5949,
    "start_time": "2022-05-04T14:26:19.760Z"
   },
   {
    "duration": 5,
    "start_time": "2022-05-04T14:26:25.711Z"
   },
   {
    "duration": 140815,
    "start_time": "2022-05-04T14:26:25.718Z"
   },
   {
    "duration": 10,
    "start_time": "2022-05-04T14:28:46.535Z"
   },
   {
    "duration": 77,
    "start_time": "2022-05-04T14:28:46.548Z"
   },
   {
    "duration": 254,
    "start_time": "2022-05-04T14:28:46.628Z"
   },
   {
    "duration": 21060,
    "start_time": "2022-05-04T14:28:46.886Z"
   },
   {
    "duration": 10961,
    "start_time": "2022-05-04T14:29:07.950Z"
   },
   {
    "duration": 2697,
    "start_time": "2022-05-04T14:29:18.914Z"
   },
   {
    "duration": 776636,
    "start_time": "2022-05-04T14:29:21.614Z"
   },
   {
    "duration": 0,
    "start_time": "2022-05-04T14:42:18.253Z"
   },
   {
    "duration": 0,
    "start_time": "2022-05-04T14:42:18.255Z"
   },
   {
    "duration": 0,
    "start_time": "2022-05-04T14:42:18.257Z"
   },
   {
    "duration": 0,
    "start_time": "2022-05-04T14:42:18.259Z"
   },
   {
    "duration": 1975,
    "start_time": "2022-05-04T14:42:44.846Z"
   },
   {
    "duration": 1130,
    "start_time": "2022-05-04T14:42:46.823Z"
   },
   {
    "duration": 19,
    "start_time": "2022-05-04T14:42:47.955Z"
   },
   {
    "duration": 50,
    "start_time": "2022-05-04T14:42:47.978Z"
   },
   {
    "duration": 4,
    "start_time": "2022-05-04T14:42:48.031Z"
   },
   {
    "duration": 7,
    "start_time": "2022-05-04T14:42:48.038Z"
   },
   {
    "duration": 9884,
    "start_time": "2022-05-04T14:42:48.047Z"
   },
   {
    "duration": 5,
    "start_time": "2022-05-04T14:42:57.934Z"
   },
   {
    "duration": 116469,
    "start_time": "2022-05-04T14:42:57.941Z"
   },
   {
    "duration": 9,
    "start_time": "2022-05-04T14:44:54.413Z"
   },
   {
    "duration": 68,
    "start_time": "2022-05-04T14:44:54.425Z"
   },
   {
    "duration": 244,
    "start_time": "2022-05-04T14:44:54.496Z"
   },
   {
    "duration": 16297,
    "start_time": "2022-05-04T14:44:54.745Z"
   },
   {
    "duration": 10886,
    "start_time": "2022-05-04T14:45:11.045Z"
   },
   {
    "duration": 2130,
    "start_time": "2022-05-04T14:45:21.933Z"
   },
   {
    "duration": 412839,
    "start_time": "2022-05-04T14:45:24.066Z"
   },
   {
    "duration": 20,
    "start_time": "2022-05-04T14:52:16.907Z"
   },
   {
    "duration": 517,
    "start_time": "2022-05-04T14:52:16.929Z"
   },
   {
    "duration": 468,
    "start_time": "2022-05-04T14:52:17.448Z"
   },
   {
    "duration": 194,
    "start_time": "2022-05-04T14:52:17.918Z"
   },
   {
    "duration": 26,
    "start_time": "2022-05-04T14:53:02.182Z"
   },
   {
    "duration": 24,
    "start_time": "2022-05-04T14:53:15.318Z"
   },
   {
    "duration": 11,
    "start_time": "2022-05-04T14:53:59.655Z"
   },
   {
    "duration": 452985,
    "start_time": "2022-05-04T14:54:13.382Z"
   },
   {
    "duration": 458,
    "start_time": "2022-05-04T15:01:50.603Z"
   },
   {
    "duration": 615551,
    "start_time": "2022-05-04T15:02:10.371Z"
   },
   {
    "duration": 476,
    "start_time": "2022-05-04T15:13:26.469Z"
   },
   {
    "duration": 1581012,
    "start_time": "2022-05-04T15:13:41.081Z"
   },
   {
    "duration": 523,
    "start_time": "2022-05-04T15:44:54.588Z"
   },
   {
    "duration": 1232736,
    "start_time": "2022-05-04T15:45:03.645Z"
   },
   {
    "duration": 518,
    "start_time": "2022-05-04T16:10:38.976Z"
   },
   {
    "duration": 789238,
    "start_time": "2022-05-04T16:10:58.713Z"
   },
   {
    "duration": 589,
    "start_time": "2022-05-04T16:24:47.007Z"
   },
   {
    "duration": 2098,
    "start_time": "2022-05-04T16:33:23.552Z"
   },
   {
    "duration": 1015,
    "start_time": "2022-05-04T16:33:25.652Z"
   },
   {
    "duration": 29,
    "start_time": "2022-05-04T16:33:26.669Z"
   },
   {
    "duration": 41,
    "start_time": "2022-05-04T16:33:26.700Z"
   },
   {
    "duration": 4,
    "start_time": "2022-05-04T16:33:26.745Z"
   },
   {
    "duration": 12,
    "start_time": "2022-05-04T16:33:26.751Z"
   },
   {
    "duration": 5866,
    "start_time": "2022-05-04T16:33:26.766Z"
   },
   {
    "duration": 4,
    "start_time": "2022-05-04T16:33:32.634Z"
   },
   {
    "duration": 59262,
    "start_time": "2022-05-04T16:33:32.641Z"
   },
   {
    "duration": 0,
    "start_time": "2022-05-04T16:34:31.905Z"
   },
   {
    "duration": 0,
    "start_time": "2022-05-04T16:34:31.907Z"
   },
   {
    "duration": 0,
    "start_time": "2022-05-04T16:34:31.909Z"
   },
   {
    "duration": 0,
    "start_time": "2022-05-04T16:34:31.911Z"
   },
   {
    "duration": 0,
    "start_time": "2022-05-04T16:34:31.913Z"
   },
   {
    "duration": 0,
    "start_time": "2022-05-04T16:34:31.914Z"
   },
   {
    "duration": 0,
    "start_time": "2022-05-04T16:34:31.916Z"
   },
   {
    "duration": 0,
    "start_time": "2022-05-04T16:34:31.917Z"
   },
   {
    "duration": 0,
    "start_time": "2022-05-04T16:34:31.919Z"
   },
   {
    "duration": 0,
    "start_time": "2022-05-04T16:34:31.920Z"
   },
   {
    "duration": 0,
    "start_time": "2022-05-04T16:34:31.922Z"
   },
   {
    "duration": 5,
    "start_time": "2022-05-04T16:34:38.557Z"
   },
   {
    "duration": 5595,
    "start_time": "2022-05-04T16:34:39.389Z"
   },
   {
    "duration": 4,
    "start_time": "2022-05-04T16:35:05.253Z"
   },
   {
    "duration": 5614,
    "start_time": "2022-05-04T16:35:05.965Z"
   },
   {
    "duration": 5,
    "start_time": "2022-05-04T16:35:21.964Z"
   },
   {
    "duration": 113510,
    "start_time": "2022-05-04T16:37:23.238Z"
   },
   {
    "duration": 8,
    "start_time": "2022-05-04T16:39:16.750Z"
   },
   {
    "duration": 51,
    "start_time": "2022-05-04T16:39:16.761Z"
   },
   {
    "duration": 154,
    "start_time": "2022-05-04T16:39:16.815Z"
   },
   {
    "duration": 15131,
    "start_time": "2022-05-04T16:39:16.971Z"
   },
   {
    "duration": 9031,
    "start_time": "2022-05-04T16:39:32.104Z"
   },
   {
    "duration": 1983,
    "start_time": "2022-05-04T16:39:41.137Z"
   },
   {
    "duration": 2091,
    "start_time": "2022-05-04T16:44:39.780Z"
   },
   {
    "duration": 6,
    "start_time": "2022-05-04T16:45:03.072Z"
   },
   {
    "duration": 1064,
    "start_time": "2022-05-04T16:45:03.081Z"
   },
   {
    "duration": 21,
    "start_time": "2022-05-04T16:45:04.148Z"
   },
   {
    "duration": 67,
    "start_time": "2022-05-04T16:45:04.171Z"
   },
   {
    "duration": 4,
    "start_time": "2022-05-04T16:45:04.241Z"
   },
   {
    "duration": 6,
    "start_time": "2022-05-04T16:45:04.247Z"
   },
   {
    "duration": 5739,
    "start_time": "2022-05-04T16:45:04.255Z"
   },
   {
    "duration": 4,
    "start_time": "2022-05-04T16:45:09.996Z"
   },
   {
    "duration": 4904,
    "start_time": "2022-05-04T16:45:10.003Z"
   },
   {
    "duration": 10,
    "start_time": "2022-05-04T16:45:14.911Z"
   },
   {
    "duration": 42,
    "start_time": "2022-05-04T16:45:14.924Z"
   },
   {
    "duration": 267,
    "start_time": "2022-05-04T16:45:14.968Z"
   },
   {
    "duration": 16795,
    "start_time": "2022-05-04T16:45:15.237Z"
   },
   {
    "duration": 9009,
    "start_time": "2022-05-04T16:45:32.037Z"
   },
   {
    "duration": 2099,
    "start_time": "2022-05-04T16:45:41.048Z"
   },
   {
    "duration": 2056,
    "start_time": "2022-05-04T16:46:44.490Z"
   },
   {
    "duration": 1162,
    "start_time": "2022-05-04T16:46:46.549Z"
   },
   {
    "duration": 19,
    "start_time": "2022-05-04T16:46:47.714Z"
   },
   {
    "duration": 66,
    "start_time": "2022-05-04T16:46:47.735Z"
   },
   {
    "duration": 4,
    "start_time": "2022-05-04T16:46:47.806Z"
   },
   {
    "duration": 19,
    "start_time": "2022-05-04T16:46:47.813Z"
   },
   {
    "duration": 5646,
    "start_time": "2022-05-04T16:46:47.835Z"
   },
   {
    "duration": 272,
    "start_time": "2022-05-04T16:46:53.483Z"
   },
   {
    "duration": 4787,
    "start_time": "2022-05-04T16:46:53.758Z"
   },
   {
    "duration": 8,
    "start_time": "2022-05-04T16:46:58.547Z"
   },
   {
    "duration": 68,
    "start_time": "2022-05-04T16:46:58.557Z"
   },
   {
    "duration": 7,
    "start_time": "2022-05-04T16:46:58.627Z"
   },
   {
    "duration": 16281,
    "start_time": "2022-05-04T16:46:58.636Z"
   },
   {
    "duration": 9023,
    "start_time": "2022-05-04T16:47:14.921Z"
   },
   {
    "duration": 2104,
    "start_time": "2022-05-04T16:47:23.946Z"
   },
   {
    "duration": 2120,
    "start_time": "2022-05-04T16:56:48.296Z"
   },
   {
    "duration": 1071,
    "start_time": "2022-05-04T16:56:50.419Z"
   },
   {
    "duration": 26,
    "start_time": "2022-05-04T16:56:51.494Z"
   },
   {
    "duration": 42,
    "start_time": "2022-05-04T16:56:51.523Z"
   },
   {
    "duration": 5,
    "start_time": "2022-05-04T16:56:51.593Z"
   },
   {
    "duration": 18,
    "start_time": "2022-05-04T16:56:51.600Z"
   },
   {
    "duration": 6154,
    "start_time": "2022-05-04T16:56:51.620Z"
   },
   {
    "duration": 291,
    "start_time": "2022-05-04T16:56:57.776Z"
   },
   {
    "duration": 4960,
    "start_time": "2022-05-04T16:56:58.069Z"
   },
   {
    "duration": 8,
    "start_time": "2022-05-04T16:57:03.032Z"
   },
   {
    "duration": 72,
    "start_time": "2022-05-04T16:57:03.042Z"
   },
   {
    "duration": 6,
    "start_time": "2022-05-04T16:57:03.117Z"
   },
   {
    "duration": 6,
    "start_time": "2022-05-04T16:57:18.163Z"
   },
   {
    "duration": 1037,
    "start_time": "2022-05-04T16:57:19.043Z"
   },
   {
    "duration": 10,
    "start_time": "2022-05-04T16:57:20.651Z"
   },
   {
    "duration": 47,
    "start_time": "2022-05-04T16:57:21.475Z"
   },
   {
    "duration": 9,
    "start_time": "2022-05-04T16:57:22.675Z"
   },
   {
    "duration": 5,
    "start_time": "2022-05-04T16:57:23.236Z"
   },
   {
    "duration": 6377,
    "start_time": "2022-05-04T16:57:24.739Z"
   },
   {
    "duration": 6,
    "start_time": "2022-05-04T16:57:52.571Z"
   },
   {
    "duration": 5,
    "start_time": "2022-05-04T16:57:55.620Z"
   },
   {
    "duration": 3174,
    "start_time": "2022-05-04T16:57:58.675Z"
   },
   {
    "duration": 11,
    "start_time": "2022-05-04T16:58:08.564Z"
   },
   {
    "duration": 4,
    "start_time": "2022-05-04T17:02:42.851Z"
   },
   {
    "duration": 912,
    "start_time": "2022-05-04T17:02:43.538Z"
   },
   {
    "duration": 8,
    "start_time": "2022-05-04T17:02:47.129Z"
   },
   {
    "duration": 6,
    "start_time": "2022-05-04T17:03:44.538Z"
   },
   {
    "duration": 8,
    "start_time": "2022-05-04T17:03:45.386Z"
   },
   {
    "duration": 4,
    "start_time": "2022-05-04T17:06:22.018Z"
   },
   {
    "duration": 7,
    "start_time": "2022-05-04T17:06:23.248Z"
   },
   {
    "duration": 8,
    "start_time": "2022-05-04T17:06:25.057Z"
   },
   {
    "duration": 4,
    "start_time": "2022-05-04T17:06:29.234Z"
   },
   {
    "duration": 7,
    "start_time": "2022-05-04T17:06:29.812Z"
   },
   {
    "duration": 9,
    "start_time": "2022-05-04T17:06:30.625Z"
   },
   {
    "duration": 950,
    "start_time": "2022-05-04T17:07:18.946Z"
   },
   {
    "duration": 8,
    "start_time": "2022-05-04T17:07:21.762Z"
   },
   {
    "duration": 4,
    "start_time": "2022-05-04T17:08:22.554Z"
   },
   {
    "duration": 1000,
    "start_time": "2022-05-04T17:08:23.122Z"
   },
   {
    "duration": 4,
    "start_time": "2022-05-04T17:08:33.426Z"
   },
   {
    "duration": 2876,
    "start_time": "2022-05-04T17:08:34.106Z"
   },
   {
    "duration": 8,
    "start_time": "2022-05-04T17:08:38.304Z"
   },
   {
    "duration": 5,
    "start_time": "2022-05-04T17:09:36.136Z"
   },
   {
    "duration": 917,
    "start_time": "2022-05-04T17:09:36.666Z"
   },
   {
    "duration": 11,
    "start_time": "2022-05-04T17:09:38.289Z"
   },
   {
    "duration": 5,
    "start_time": "2022-05-04T17:09:41.869Z"
   },
   {
    "duration": 10387,
    "start_time": "2022-05-04T17:09:42.361Z"
   },
   {
    "duration": 5,
    "start_time": "2022-05-04T17:10:39.362Z"
   },
   {
    "duration": 316751,
    "start_time": "2022-05-04T17:10:41.216Z"
   },
   {
    "duration": 14,
    "start_time": "2022-05-04T17:16:01.858Z"
   },
   {
    "duration": 6,
    "start_time": "2022-05-04T17:16:43.562Z"
   },
   {
    "duration": 5,
    "start_time": "2022-05-04T17:16:53.961Z"
   },
   {
    "duration": 4018,
    "start_time": "2022-05-04T17:18:13.306Z"
   },
   {
    "duration": 8,
    "start_time": "2022-05-04T17:18:19.841Z"
   },
   {
    "duration": 11975,
    "start_time": "2022-05-04T17:19:31.178Z"
   },
   {
    "duration": 5,
    "start_time": "2022-05-04T17:19:44.899Z"
   },
   {
    "duration": 3342,
    "start_time": "2022-05-04T17:19:46.513Z"
   },
   {
    "duration": 8,
    "start_time": "2022-05-04T17:19:52.233Z"
   },
   {
    "duration": 216,
    "start_time": "2022-05-04T17:21:02.417Z"
   },
   {
    "duration": 14,
    "start_time": "2022-05-04T17:21:29.801Z"
   },
   {
    "duration": 277259,
    "start_time": "2022-05-04T17:21:30.689Z"
   },
   {
    "duration": 8,
    "start_time": "2022-05-04T17:28:02.488Z"
   },
   {
    "duration": 4,
    "start_time": "2022-05-04T17:28:34.752Z"
   },
   {
    "duration": 269249,
    "start_time": "2022-05-04T17:28:37.392Z"
   },
   {
    "duration": 9,
    "start_time": "2022-05-04T17:33:45.008Z"
   },
   {
    "duration": 4,
    "start_time": "2022-05-04T17:35:45.743Z"
   },
   {
    "duration": 7173,
    "start_time": "2022-05-04T17:35:46.644Z"
   },
   {
    "duration": 4,
    "start_time": "2022-05-04T17:36:09.263Z"
   },
   {
    "duration": 4,
    "start_time": "2022-05-04T17:36:10.535Z"
   },
   {
    "duration": 5545,
    "start_time": "2022-05-04T17:36:11.552Z"
   },
   {
    "duration": 4558,
    "start_time": "2022-05-04T17:36:54.976Z"
   },
   {
    "duration": 5774,
    "start_time": "2022-05-04T17:37:09.599Z"
   },
   {
    "duration": 6,
    "start_time": "2022-05-04T17:37:32.615Z"
   },
   {
    "duration": 50,
    "start_time": "2022-05-04T17:37:33.879Z"
   },
   {
    "duration": 60,
    "start_time": "2022-05-04T17:37:54.215Z"
   },
   {
    "duration": 13,
    "start_time": "2022-05-04T17:56:00.830Z"
   },
   {
    "duration": 6,
    "start_time": "2022-05-04T17:56:01.533Z"
   },
   {
    "duration": 4,
    "start_time": "2022-05-04T17:56:02.742Z"
   },
   {
    "duration": 6,
    "start_time": "2022-05-04T18:03:10.124Z"
   },
   {
    "duration": 928,
    "start_time": "2022-05-04T18:03:10.877Z"
   },
   {
    "duration": 906,
    "start_time": "2022-05-04T18:03:14.652Z"
   },
   {
    "duration": 5,
    "start_time": "2022-05-04T18:04:43.596Z"
   },
   {
    "duration": 2761,
    "start_time": "2022-05-04T18:04:44.204Z"
   },
   {
    "duration": 8,
    "start_time": "2022-05-04T18:04:48.980Z"
   },
   {
    "duration": 5,
    "start_time": "2022-05-04T18:06:44.947Z"
   },
   {
    "duration": 2357,
    "start_time": "2022-05-04T18:06:45.764Z"
   },
   {
    "duration": 8,
    "start_time": "2022-05-04T18:06:48.844Z"
   },
   {
    "duration": 1648,
    "start_time": "2022-05-05T16:15:46.091Z"
   },
   {
    "duration": 840,
    "start_time": "2022-05-05T16:15:47.741Z"
   },
   {
    "duration": 21,
    "start_time": "2022-05-05T16:15:48.583Z"
   },
   {
    "duration": 38,
    "start_time": "2022-05-05T16:15:48.607Z"
   },
   {
    "duration": 3,
    "start_time": "2022-05-05T16:15:48.647Z"
   },
   {
    "duration": 7,
    "start_time": "2022-05-05T16:15:48.652Z"
   },
   {
    "duration": 4983,
    "start_time": "2022-05-05T16:15:48.660Z"
   },
   {
    "duration": 327,
    "start_time": "2022-05-05T16:15:53.644Z"
   },
   {
    "duration": 3,
    "start_time": "2022-05-05T16:19:41.469Z"
   },
   {
    "duration": 4,
    "start_time": "2022-05-05T16:19:44.054Z"
   },
   {
    "duration": 4,
    "start_time": "2022-05-05T16:19:50.526Z"
   },
   {
    "duration": 14,
    "start_time": "2022-05-05T16:22:53.191Z"
   },
   {
    "duration": 11,
    "start_time": "2022-05-05T16:27:22.309Z"
   },
   {
    "duration": 4,
    "start_time": "2022-05-05T16:28:00.389Z"
   },
   {
    "duration": 3,
    "start_time": "2022-05-05T16:28:09.862Z"
   },
   {
    "duration": 4,
    "start_time": "2022-05-05T16:28:11.773Z"
   },
   {
    "duration": 603,
    "start_time": "2022-05-05T16:28:12.765Z"
   },
   {
    "duration": 4,
    "start_time": "2022-05-05T16:28:20.103Z"
   },
   {
    "duration": 1934,
    "start_time": "2022-05-05T16:28:21.213Z"
   },
   {
    "duration": 10,
    "start_time": "2022-05-05T16:31:22.999Z"
   },
   {
    "duration": 4,
    "start_time": "2022-05-05T16:31:37.421Z"
   },
   {
    "duration": 5,
    "start_time": "2022-05-05T16:31:47.948Z"
   },
   {
    "duration": 5,
    "start_time": "2022-05-05T16:31:58.588Z"
   },
   {
    "duration": 4,
    "start_time": "2022-05-05T16:32:02.685Z"
   },
   {
    "duration": 3,
    "start_time": "2022-05-05T16:33:53.316Z"
   },
   {
    "duration": 600,
    "start_time": "2022-05-05T16:33:54.229Z"
   },
   {
    "duration": 3,
    "start_time": "2022-05-05T16:34:55.852Z"
   },
   {
    "duration": 640,
    "start_time": "2022-05-05T16:34:56.492Z"
   },
   {
    "duration": 3,
    "start_time": "2022-05-05T16:35:04.828Z"
   },
   {
    "duration": 609,
    "start_time": "2022-05-05T16:35:07.006Z"
   },
   {
    "duration": 5,
    "start_time": "2022-05-05T16:36:01.412Z"
   },
   {
    "duration": 3,
    "start_time": "2022-05-05T16:36:44.468Z"
   },
   {
    "duration": 5990,
    "start_time": "2022-05-05T16:36:45.651Z"
   },
   {
    "duration": 5,
    "start_time": "2022-05-05T16:37:15.628Z"
   },
   {
    "duration": 605,
    "start_time": "2022-05-05T16:37:16.875Z"
   },
   {
    "duration": 3,
    "start_time": "2022-05-05T16:38:04.221Z"
   },
   {
    "duration": 588,
    "start_time": "2022-05-05T16:38:05.419Z"
   },
   {
    "duration": 3,
    "start_time": "2022-05-05T16:38:58.452Z"
   },
   {
    "duration": 1524,
    "start_time": "2022-05-05T16:38:59.195Z"
   },
   {
    "duration": 3,
    "start_time": "2022-05-05T16:39:49.523Z"
   },
   {
    "duration": 31158,
    "start_time": "2022-05-05T16:39:50.006Z"
   },
   {
    "duration": 4,
    "start_time": "2022-05-05T16:40:51.315Z"
   },
   {
    "duration": 41804,
    "start_time": "2022-05-05T16:40:52.229Z"
   },
   {
    "duration": 10,
    "start_time": "2022-05-05T16:41:35.915Z"
   },
   {
    "duration": 4,
    "start_time": "2022-05-05T16:41:57.770Z"
   },
   {
    "duration": 35458,
    "start_time": "2022-05-05T16:41:58.250Z"
   },
   {
    "duration": 5,
    "start_time": "2022-05-05T16:42:49.947Z"
   },
   {
    "duration": 4,
    "start_time": "2022-05-05T16:42:58.709Z"
   },
   {
    "duration": 38015,
    "start_time": "2022-05-05T16:42:59.206Z"
   },
   {
    "duration": 6,
    "start_time": "2022-05-05T16:43:52.026Z"
   },
   {
    "duration": 30,
    "start_time": "2022-05-05T16:44:02.146Z"
   },
   {
    "duration": 5,
    "start_time": "2022-05-05T16:44:02.811Z"
   },
   {
    "duration": 15432,
    "start_time": "2022-05-05T16:44:03.347Z"
   },
   {
    "duration": 11480,
    "start_time": "2022-05-05T16:44:23.458Z"
   },
   {
    "duration": 1880,
    "start_time": "2022-05-05T16:44:37.530Z"
   },
   {
    "duration": 1387601,
    "start_time": "2022-05-05T16:44:42.851Z"
   },
   {
    "duration": 16,
    "start_time": "2022-05-05T17:07:56.728Z"
   },
   {
    "duration": 288,
    "start_time": "2022-05-05T17:07:58.591Z"
   },
   {
    "duration": 539,
    "start_time": "2022-05-05T17:08:00.512Z"
   },
   {
    "duration": 3,
    "start_time": "2022-05-05T17:08:25.072Z"
   },
   {
    "duration": 4880,
    "start_time": "2022-05-05T17:08:25.872Z"
   },
   {
    "duration": 3,
    "start_time": "2022-05-05T17:08:31.920Z"
   },
   {
    "duration": 3,
    "start_time": "2022-05-05T17:08:33.904Z"
   },
   {
    "duration": 38790,
    "start_time": "2022-05-05T17:08:34.848Z"
   },
   {
    "duration": 6,
    "start_time": "2022-05-05T17:09:15.567Z"
   },
   {
    "duration": 52,
    "start_time": "2022-05-05T17:09:26.008Z"
   },
   {
    "duration": 14,
    "start_time": "2022-05-05T17:09:26.784Z"
   },
   {
    "duration": 1492,
    "start_time": "2022-05-05T17:10:05.126Z"
   },
   {
    "duration": 807,
    "start_time": "2022-05-05T17:10:06.620Z"
   },
   {
    "duration": 13,
    "start_time": "2022-05-05T17:10:07.429Z"
   },
   {
    "duration": 32,
    "start_time": "2022-05-05T17:10:07.445Z"
   },
   {
    "duration": 2,
    "start_time": "2022-05-05T17:10:07.492Z"
   },
   {
    "duration": 4,
    "start_time": "2022-05-05T17:10:07.496Z"
   },
   {
    "duration": 5018,
    "start_time": "2022-05-05T17:10:07.502Z"
   },
   {
    "duration": 200,
    "start_time": "2022-05-05T17:10:12.521Z"
   },
   {
    "duration": 3,
    "start_time": "2022-05-05T17:10:12.723Z"
   },
   {
    "duration": 31813,
    "start_time": "2022-05-05T17:10:12.728Z"
   },
   {
    "duration": 6,
    "start_time": "2022-05-05T17:10:44.543Z"
   },
   {
    "duration": 45,
    "start_time": "2022-05-05T17:10:44.551Z"
   },
   {
    "duration": 7,
    "start_time": "2022-05-05T17:10:44.600Z"
   },
   {
    "duration": 17756,
    "start_time": "2022-05-05T17:10:44.609Z"
   },
   {
    "duration": 10739,
    "start_time": "2022-05-05T17:11:05.084Z"
   },
   {
    "duration": 17,
    "start_time": "2022-05-05T17:11:19.322Z"
   },
   {
    "duration": 3,
    "start_time": "2022-05-05T17:11:48.161Z"
   },
   {
    "duration": 4941,
    "start_time": "2022-05-05T17:11:48.780Z"
   },
   {
    "duration": 4,
    "start_time": "2022-05-05T17:11:54.427Z"
   },
   {
    "duration": 3,
    "start_time": "2022-05-05T17:11:55.086Z"
   },
   {
    "duration": 31405,
    "start_time": "2022-05-05T17:11:55.715Z"
   },
   {
    "duration": 6,
    "start_time": "2022-05-05T17:12:29.006Z"
   },
   {
    "duration": 52,
    "start_time": "2022-05-05T17:12:30.043Z"
   },
   {
    "duration": 15,
    "start_time": "2022-05-05T17:12:31.259Z"
   },
   {
    "duration": 1615,
    "start_time": "2022-05-05T17:12:47.753Z"
   },
   {
    "duration": 888,
    "start_time": "2022-05-05T17:12:49.370Z"
   },
   {
    "duration": 12,
    "start_time": "2022-05-05T17:12:50.260Z"
   },
   {
    "duration": 46,
    "start_time": "2022-05-05T17:12:50.274Z"
   },
   {
    "duration": 11,
    "start_time": "2022-05-05T17:12:50.324Z"
   },
   {
    "duration": 11,
    "start_time": "2022-05-05T17:12:50.336Z"
   },
   {
    "duration": 5417,
    "start_time": "2022-05-05T17:12:50.349Z"
   },
   {
    "duration": 147,
    "start_time": "2022-05-05T17:12:55.767Z"
   },
   {
    "duration": 3,
    "start_time": "2022-05-05T17:12:55.916Z"
   },
   {
    "duration": 34681,
    "start_time": "2022-05-05T17:12:55.921Z"
   },
   {
    "duration": 6,
    "start_time": "2022-05-05T17:13:30.604Z"
   },
   {
    "duration": 70,
    "start_time": "2022-05-05T17:13:30.612Z"
   },
   {
    "duration": 6,
    "start_time": "2022-05-05T17:13:30.683Z"
   },
   {
    "duration": 11984,
    "start_time": "2022-05-05T17:13:30.691Z"
   },
   {
    "duration": 12205,
    "start_time": "2022-05-05T17:13:46.238Z"
   },
   {
    "duration": 12,
    "start_time": "2022-05-05T17:14:00.830Z"
   },
   {
    "duration": 48,
    "start_time": "2022-05-05T17:14:12.070Z"
   },
   {
    "duration": 22,
    "start_time": "2022-05-05T17:14:12.896Z"
   },
   {
    "duration": 12263,
    "start_time": "2022-05-05T17:14:13.718Z"
   },
   {
    "duration": 7619,
    "start_time": "2022-05-05T17:14:29.206Z"
   },
   {
    "duration": 17,
    "start_time": "2022-05-05T17:14:38.558Z"
   },
   {
    "duration": 1332,
    "start_time": "2022-05-05T17:14:42.346Z"
   },
   {
    "duration": 4165300,
    "start_time": "2022-05-05T17:14:51.262Z"
   },
   {
    "duration": 766,
    "start_time": "2022-05-05T18:24:55.216Z"
   },
   {
    "duration": 49825,
    "start_time": "2022-05-05T18:25:30.033Z"
   },
   {
    "duration": 13853,
    "start_time": "2022-05-05T18:26:54.085Z"
   },
   {
    "duration": 22,
    "start_time": "2022-05-05T18:27:12.928Z"
   },
   {
    "duration": 10,
    "start_time": "2022-05-05T18:27:58.439Z"
   },
   {
    "duration": 3,
    "start_time": "2022-05-05T18:43:26.162Z"
   },
   {
    "duration": 6155,
    "start_time": "2022-05-05T18:43:26.753Z"
   },
   {
    "duration": 230,
    "start_time": "2022-05-05T18:43:32.910Z"
   },
   {
    "duration": 3,
    "start_time": "2022-05-05T18:43:33.142Z"
   },
   {
    "duration": 45317,
    "start_time": "2022-05-05T18:43:33.148Z"
   },
   {
    "duration": 7,
    "start_time": "2022-05-05T18:44:18.467Z"
   },
   {
    "duration": 86,
    "start_time": "2022-05-05T18:44:18.477Z"
   },
   {
    "duration": 15,
    "start_time": "2022-05-05T18:44:18.565Z"
   },
   {
    "duration": 1614,
    "start_time": "2022-05-05T18:44:29.037Z"
   },
   {
    "duration": 1099,
    "start_time": "2022-05-05T18:44:30.653Z"
   },
   {
    "duration": 21,
    "start_time": "2022-05-05T18:44:31.755Z"
   },
   {
    "duration": 60,
    "start_time": "2022-05-05T18:44:31.778Z"
   },
   {
    "duration": 4,
    "start_time": "2022-05-05T18:44:31.842Z"
   },
   {
    "duration": 5,
    "start_time": "2022-05-05T18:44:31.848Z"
   },
   {
    "duration": 6377,
    "start_time": "2022-05-05T18:44:31.856Z"
   },
   {
    "duration": 232,
    "start_time": "2022-05-05T18:44:38.235Z"
   },
   {
    "duration": 4,
    "start_time": "2022-05-05T18:44:38.469Z"
   },
   {
    "duration": 45328,
    "start_time": "2022-05-05T18:44:38.474Z"
   },
   {
    "duration": 6,
    "start_time": "2022-05-05T18:45:23.804Z"
   },
   {
    "duration": 50,
    "start_time": "2022-05-05T18:45:23.812Z"
   },
   {
    "duration": 5,
    "start_time": "2022-05-05T18:45:23.864Z"
   },
   {
    "duration": 13739,
    "start_time": "2022-05-05T18:45:23.893Z"
   },
   {
    "duration": 15047,
    "start_time": "2022-05-05T18:46:01.666Z"
   },
   {
    "duration": 28,
    "start_time": "2022-05-05T18:46:21.882Z"
   },
   {
    "duration": 4,
    "start_time": "2022-05-05T18:47:21.154Z"
   },
   {
    "duration": 6081,
    "start_time": "2022-05-05T18:47:21.922Z"
   },
   {
    "duration": 4,
    "start_time": "2022-05-05T18:47:50.442Z"
   },
   {
    "duration": 5965,
    "start_time": "2022-05-05T18:47:51.115Z"
   },
   {
    "duration": 4,
    "start_time": "2022-05-05T18:50:44.469Z"
   },
   {
    "duration": 857,
    "start_time": "2022-05-05T18:50:44.475Z"
   },
   {
    "duration": 8,
    "start_time": "2022-05-05T18:50:45.333Z"
   },
   {
    "duration": 31,
    "start_time": "2022-05-05T18:50:45.342Z"
   },
   {
    "duration": 18,
    "start_time": "2022-05-05T18:50:45.376Z"
   },
   {
    "duration": 8,
    "start_time": "2022-05-05T18:50:45.398Z"
   },
   {
    "duration": 6880,
    "start_time": "2022-05-05T18:50:45.408Z"
   },
   {
    "duration": 4,
    "start_time": "2022-05-05T18:50:52.293Z"
   },
   {
    "duration": 33,
    "start_time": "2022-05-05T18:50:52.303Z"
   },
   {
    "duration": 42893,
    "start_time": "2022-05-05T18:50:52.338Z"
   },
   {
    "duration": 6,
    "start_time": "2022-05-05T18:51:35.233Z"
   },
   {
    "duration": 34,
    "start_time": "2022-05-05T18:51:35.241Z"
   },
   {
    "duration": 40,
    "start_time": "2022-05-05T18:51:35.277Z"
   },
   {
    "duration": 2179,
    "start_time": "2022-05-05T18:53:31.367Z"
   },
   {
    "duration": 940,
    "start_time": "2022-05-05T18:53:34.805Z"
   },
   {
    "duration": 16,
    "start_time": "2022-05-05T18:53:36.267Z"
   },
   {
    "duration": 38,
    "start_time": "2022-05-05T18:53:37.197Z"
   },
   {
    "duration": 168,
    "start_time": "2022-05-05T18:53:38.619Z"
   },
   {
    "duration": 296,
    "start_time": "2022-05-05T18:54:13.515Z"
   },
   {
    "duration": 8,
    "start_time": "2022-05-05T18:54:18.398Z"
   },
   {
    "duration": 6913,
    "start_time": "2022-05-05T18:54:20.416Z"
   },
   {
    "duration": 226,
    "start_time": "2022-05-05T18:54:32.429Z"
   },
   {
    "duration": 4,
    "start_time": "2022-05-05T18:54:34.240Z"
   },
   {
    "duration": 45626,
    "start_time": "2022-05-05T18:54:34.935Z"
   },
   {
    "duration": 6,
    "start_time": "2022-05-05T18:55:20.563Z"
   },
   {
    "duration": 63,
    "start_time": "2022-05-05T18:55:20.572Z"
   },
   {
    "duration": 14,
    "start_time": "2022-05-05T18:55:20.637Z"
   },
   {
    "duration": 14063,
    "start_time": "2022-05-05T18:55:20.654Z"
   },
   {
    "duration": 14211,
    "start_time": "2022-05-05T18:55:43.444Z"
   },
   {
    "duration": 20,
    "start_time": "2022-05-05T18:56:03.163Z"
   },
   {
    "duration": 16,
    "start_time": "2022-05-05T19:01:29.290Z"
   },
   {
    "duration": 4,
    "start_time": "2022-05-05T19:01:34.075Z"
   },
   {
    "duration": 15,
    "start_time": "2022-05-05T19:01:36.962Z"
   },
   {
    "duration": 3,
    "start_time": "2022-05-05T19:07:12.878Z"
   },
   {
    "duration": 4,
    "start_time": "2022-05-05T19:07:21.641Z"
   },
   {
    "duration": 819,
    "start_time": "2022-05-05T19:07:22.730Z"
   },
   {
    "duration": 8,
    "start_time": "2022-05-05T19:07:24.127Z"
   },
   {
    "duration": 31,
    "start_time": "2022-05-05T19:07:24.706Z"
   },
   {
    "duration": 228,
    "start_time": "2022-05-05T19:07:30.120Z"
   },
   {
    "duration": 3,
    "start_time": "2022-05-05T19:08:13.354Z"
   },
   {
    "duration": 661,
    "start_time": "2022-05-05T19:08:14.017Z"
   },
   {
    "duration": 5,
    "start_time": "2022-05-05T19:08:21.508Z"
   },
   {
    "duration": 106721,
    "start_time": "2022-05-05T19:08:22.177Z"
   },
   {
    "duration": 4,
    "start_time": "2022-05-05T19:13:27.624Z"
   },
   {
    "duration": 45580,
    "start_time": "2022-05-05T19:13:42.848Z"
   },
   {
    "duration": 3,
    "start_time": "2022-05-05T19:14:32.777Z"
   },
   {
    "duration": 6,
    "start_time": "2022-05-05T19:14:36.033Z"
   },
   {
    "duration": 9,
    "start_time": "2022-05-05T19:15:44.719Z"
   },
   {
    "duration": 3,
    "start_time": "2022-05-05T19:15:49.864Z"
   },
   {
    "duration": 7070,
    "start_time": "2022-05-05T19:15:50.536Z"
   },
   {
    "duration": 81,
    "start_time": "2022-05-05T19:15:59.099Z"
   },
   {
    "duration": 25,
    "start_time": "2022-05-05T19:16:00.081Z"
   },
   {
    "duration": 1088,
    "start_time": "2022-05-05T19:16:01.434Z"
   },
   {
    "duration": 17,
    "start_time": "2022-05-05T19:16:38.005Z"
   },
   {
    "duration": 41,
    "start_time": "2022-05-05T19:16:55.322Z"
   },
   {
    "duration": 7,
    "start_time": "2022-05-05T19:16:56.417Z"
   },
   {
    "duration": 15,
    "start_time": "2022-05-05T19:16:58.145Z"
   },
   {
    "duration": 4,
    "start_time": "2022-05-05T19:18:02.005Z"
   },
   {
    "duration": 836,
    "start_time": "2022-05-05T19:18:02.011Z"
   },
   {
    "duration": 8,
    "start_time": "2022-05-05T19:18:02.849Z"
   },
   {
    "duration": 55,
    "start_time": "2022-05-05T19:18:02.860Z"
   },
   {
    "duration": 275,
    "start_time": "2022-05-05T19:18:02.917Z"
   },
   {
    "duration": 6,
    "start_time": "2022-05-05T19:18:03.194Z"
   },
   {
    "duration": 86470,
    "start_time": "2022-05-05T19:18:03.202Z"
   },
   {
    "duration": 0,
    "start_time": "2022-05-05T19:19:29.674Z"
   },
   {
    "duration": 0,
    "start_time": "2022-05-05T19:19:29.676Z"
   },
   {
    "duration": 0,
    "start_time": "2022-05-05T19:19:29.677Z"
   },
   {
    "duration": 0,
    "start_time": "2022-05-05T19:19:29.678Z"
   },
   {
    "duration": 0,
    "start_time": "2022-05-05T19:19:29.679Z"
   },
   {
    "duration": 0,
    "start_time": "2022-05-05T19:19:29.679Z"
   },
   {
    "duration": 0,
    "start_time": "2022-05-05T19:19:29.681Z"
   },
   {
    "duration": 0,
    "start_time": "2022-05-05T19:19:29.682Z"
   },
   {
    "duration": 0,
    "start_time": "2022-05-05T19:19:29.683Z"
   },
   {
    "duration": 0,
    "start_time": "2022-05-05T19:19:29.684Z"
   },
   {
    "duration": 5,
    "start_time": "2022-05-05T19:19:47.459Z"
   },
   {
    "duration": 806,
    "start_time": "2022-05-05T19:19:47.467Z"
   },
   {
    "duration": 8,
    "start_time": "2022-05-05T19:19:48.275Z"
   },
   {
    "duration": 38,
    "start_time": "2022-05-05T19:19:48.292Z"
   },
   {
    "duration": 238,
    "start_time": "2022-05-05T19:19:48.334Z"
   },
   {
    "duration": 4,
    "start_time": "2022-05-05T19:19:48.574Z"
   },
   {
    "duration": 5015,
    "start_time": "2022-05-05T19:19:48.579Z"
   },
   {
    "duration": 4,
    "start_time": "2022-05-05T19:19:53.596Z"
   },
   {
    "duration": 29,
    "start_time": "2022-05-05T19:19:53.603Z"
   },
   {
    "duration": 39570,
    "start_time": "2022-05-05T19:19:53.634Z"
   },
   {
    "duration": 2271,
    "start_time": "2022-05-05T19:20:33.208Z"
   },
   {
    "duration": 2469,
    "start_time": "2022-05-05T19:20:35.481Z"
   },
   {
    "duration": 486,
    "start_time": "2022-05-05T19:20:37.952Z"
   },
   {
    "duration": 1837,
    "start_time": "2022-05-05T19:21:05.319Z"
   },
   {
    "duration": 940,
    "start_time": "2022-05-05T19:21:07.159Z"
   },
   {
    "duration": 19,
    "start_time": "2022-05-05T19:21:08.103Z"
   },
   {
    "duration": 39,
    "start_time": "2022-05-05T19:21:08.125Z"
   },
   {
    "duration": 289,
    "start_time": "2022-05-05T19:21:08.167Z"
   },
   {
    "duration": 4,
    "start_time": "2022-05-05T19:21:08.457Z"
   },
   {
    "duration": 5681,
    "start_time": "2022-05-05T19:21:08.462Z"
   },
   {
    "duration": 170,
    "start_time": "2022-05-05T19:21:14.146Z"
   },
   {
    "duration": 8,
    "start_time": "2022-05-05T19:21:14.318Z"
   },
   {
    "duration": 39070,
    "start_time": "2022-05-05T19:21:14.328Z"
   },
   {
    "duration": 7,
    "start_time": "2022-05-05T19:21:53.400Z"
   },
   {
    "duration": 56,
    "start_time": "2022-05-05T19:21:53.408Z"
   },
   {
    "duration": 5,
    "start_time": "2022-05-05T19:21:53.466Z"
   },
   {
    "duration": 13785,
    "start_time": "2022-05-05T19:21:53.474Z"
   },
   {
    "duration": 13939,
    "start_time": "2022-05-05T19:22:10.010Z"
   },
   {
    "duration": 33,
    "start_time": "2022-05-05T19:22:27.595Z"
   },
   {
    "duration": 1933,
    "start_time": "2022-05-05T19:24:05.970Z"
   },
   {
    "duration": 934,
    "start_time": "2022-05-05T19:24:07.906Z"
   },
   {
    "duration": 15,
    "start_time": "2022-05-05T19:24:08.842Z"
   },
   {
    "duration": 46,
    "start_time": "2022-05-05T19:24:08.858Z"
   },
   {
    "duration": 264,
    "start_time": "2022-05-05T19:24:08.907Z"
   },
   {
    "duration": 3,
    "start_time": "2022-05-05T19:24:09.173Z"
   },
   {
    "duration": 5761,
    "start_time": "2022-05-05T19:24:09.177Z"
   },
   {
    "duration": 212,
    "start_time": "2022-05-05T19:24:14.939Z"
   },
   {
    "duration": 3,
    "start_time": "2022-05-05T19:24:15.153Z"
   },
   {
    "duration": 44968,
    "start_time": "2022-05-05T19:24:15.159Z"
   },
   {
    "duration": 8,
    "start_time": "2022-05-05T19:25:00.130Z"
   },
   {
    "duration": 86,
    "start_time": "2022-05-05T19:25:00.141Z"
   },
   {
    "duration": 7,
    "start_time": "2022-05-05T19:25:00.230Z"
   },
   {
    "duration": 16511,
    "start_time": "2022-05-05T19:25:00.241Z"
   },
   {
    "duration": 13770,
    "start_time": "2022-05-05T19:25:16.755Z"
   },
   {
    "duration": 1884,
    "start_time": "2022-05-05T19:25:30.528Z"
   },
   {
    "duration": 1799,
    "start_time": "2022-05-05T19:27:17.335Z"
   },
   {
    "duration": 1035,
    "start_time": "2022-05-05T19:27:19.138Z"
   },
   {
    "duration": 26,
    "start_time": "2022-05-05T19:27:20.175Z"
   },
   {
    "duration": 64,
    "start_time": "2022-05-05T19:27:20.204Z"
   },
   {
    "duration": 311,
    "start_time": "2022-05-05T19:27:20.271Z"
   },
   {
    "duration": 11,
    "start_time": "2022-05-05T19:27:20.585Z"
   },
   {
    "duration": 6639,
    "start_time": "2022-05-05T19:27:20.600Z"
   },
   {
    "duration": 247,
    "start_time": "2022-05-05T19:27:27.241Z"
   },
   {
    "duration": 7,
    "start_time": "2022-05-05T19:27:27.490Z"
   },
   {
    "duration": 46038,
    "start_time": "2022-05-05T19:27:27.500Z"
   },
   {
    "duration": 5,
    "start_time": "2022-05-05T19:28:13.544Z"
   },
   {
    "duration": 36,
    "start_time": "2022-05-05T19:28:13.551Z"
   },
   {
    "duration": 19,
    "start_time": "2022-05-05T19:28:13.589Z"
   },
   {
    "duration": 14867,
    "start_time": "2022-05-05T19:28:13.612Z"
   },
   {
    "duration": 14167,
    "start_time": "2022-05-05T19:28:28.480Z"
   },
   {
    "duration": 1483,
    "start_time": "2022-05-05T19:28:42.649Z"
   },
   {
    "duration": 3502018,
    "start_time": "2022-05-05T19:28:44.136Z"
   },
   {
    "duration": 21,
    "start_time": "2022-05-05T20:27:06.156Z"
   },
   {
    "duration": 359,
    "start_time": "2022-05-05T20:27:06.179Z"
   },
   {
    "duration": 544,
    "start_time": "2022-05-05T20:27:06.540Z"
   },
   {
    "duration": 10,
    "start_time": "2022-05-05T20:27:07.086Z"
   },
   {
    "duration": 32,
    "start_time": "2022-05-05T20:27:46.017Z"
   },
   {
    "duration": 122,
    "start_time": "2022-05-05T20:27:46.934Z"
   },
   {
    "duration": 1500,
    "start_time": "2022-05-05T20:28:02.298Z"
   },
   {
    "duration": 815,
    "start_time": "2022-05-05T20:28:03.800Z"
   },
   {
    "duration": 14,
    "start_time": "2022-05-05T20:28:04.617Z"
   },
   {
    "duration": 38,
    "start_time": "2022-05-05T20:28:04.632Z"
   },
   {
    "duration": 235,
    "start_time": "2022-05-05T20:28:04.672Z"
   },
   {
    "duration": 4,
    "start_time": "2022-05-05T20:28:04.909Z"
   },
   {
    "duration": 5096,
    "start_time": "2022-05-05T20:28:04.914Z"
   },
   {
    "duration": 202,
    "start_time": "2022-05-05T20:28:10.012Z"
   },
   {
    "duration": 3,
    "start_time": "2022-05-05T20:28:10.215Z"
   },
   {
    "duration": 31017,
    "start_time": "2022-05-05T20:28:10.220Z"
   },
   {
    "duration": 6,
    "start_time": "2022-05-05T20:28:41.239Z"
   },
   {
    "duration": 69,
    "start_time": "2022-05-05T20:28:41.247Z"
   },
   {
    "duration": 5,
    "start_time": "2022-05-05T20:28:41.319Z"
   },
   {
    "duration": 17209,
    "start_time": "2022-05-05T20:28:41.327Z"
   },
   {
    "duration": 15486,
    "start_time": "2022-05-05T20:28:58.538Z"
   },
   {
    "duration": 15,
    "start_time": "2022-05-05T20:29:18.711Z"
   },
   {
    "duration": 1273,
    "start_time": "2022-05-05T20:30:02.646Z"
   },
   {
    "duration": 2332507,
    "start_time": "2022-05-05T20:30:06.514Z"
   },
   {
    "duration": 15,
    "start_time": "2022-05-05T21:09:33.592Z"
   },
   {
    "duration": 252,
    "start_time": "2022-05-05T21:09:35.224Z"
   },
   {
    "duration": 428,
    "start_time": "2022-05-05T21:09:36.704Z"
   }
  ],
  "kernelspec": {
   "display_name": "Python 3 (ipykernel)",
   "language": "python",
   "name": "python3"
  },
  "language_info": {
   "codemirror_mode": {
    "name": "ipython",
    "version": 3
   },
   "file_extension": ".py",
   "mimetype": "text/x-python",
   "name": "python",
   "nbconvert_exporter": "python",
   "pygments_lexer": "ipython3",
   "version": "3.9.7"
  },
  "toc": {
   "base_numbering": 1,
   "nav_menu": {},
   "number_sections": true,
   "sideBar": true,
   "skip_h1_title": true,
   "title_cell": "Содержание",
   "title_sidebar": "Contents",
   "toc_cell": true,
   "toc_position": {
    "height": "calc(100% - 180px)",
    "left": "10px",
    "top": "150px",
    "width": "302.391px"
   },
   "toc_section_display": true,
   "toc_window_display": false
  }
 },
 "nbformat": 4,
 "nbformat_minor": 2
}
