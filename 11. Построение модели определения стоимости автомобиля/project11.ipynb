{
 "cells": [
  {
   "cell_type": "markdown",
   "metadata": {},
   "source": [
    "# Определение стоимости автомобилей"
   ]
  },
  {
   "cell_type": "markdown",
   "metadata": {},
   "source": [
    "## Подготовка данных"
   ]
  },
  {
   "cell_type": "code",
   "execution_count": 53,
   "metadata": {},
   "outputs": [],
   "source": [
    "# импортируем библиотеки\n",
    "import pandas as pd\n",
    "import numpy as np\n",
    "from sklearn.model_selection import train_test_split\n",
    "from  lightgbm import LGBMRegressor\n",
    "from sklearn.ensemble import RandomForestRegressor\n",
    "from sklearn.linear_model import LinearRegression\n",
    "from sklearn.model_selection import GridSearchCV\n",
    "from sklearn.preprocessing import StandardScaler\n",
    "from sklearn.metrics import mean_squared_error\n",
    "import matplotlib.pyplot as plt"
   ]
  },
  {
   "cell_type": "code",
   "execution_count": 2,
   "metadata": {},
   "outputs": [],
   "source": [
    "#выгружаем данные\n",
    "data=pd.read_csv('/datasets/autos.csv')"
   ]
  },
  {
   "cell_type": "code",
   "execution_count": 3,
   "metadata": {
    "scrolled": true
   },
   "outputs": [
    {
     "data": {
      "text/html": [
       "<div>\n",
       "<style scoped>\n",
       "    .dataframe tbody tr th:only-of-type {\n",
       "        vertical-align: middle;\n",
       "    }\n",
       "\n",
       "    .dataframe tbody tr th {\n",
       "        vertical-align: top;\n",
       "    }\n",
       "\n",
       "    .dataframe thead th {\n",
       "        text-align: right;\n",
       "    }\n",
       "</style>\n",
       "<table border=\"1\" class=\"dataframe\">\n",
       "  <thead>\n",
       "    <tr style=\"text-align: right;\">\n",
       "      <th></th>\n",
       "      <th>DateCrawled</th>\n",
       "      <th>Price</th>\n",
       "      <th>VehicleType</th>\n",
       "      <th>RegistrationYear</th>\n",
       "      <th>Gearbox</th>\n",
       "      <th>Power</th>\n",
       "      <th>Model</th>\n",
       "      <th>Kilometer</th>\n",
       "      <th>RegistrationMonth</th>\n",
       "      <th>FuelType</th>\n",
       "      <th>Brand</th>\n",
       "      <th>NotRepaired</th>\n",
       "      <th>DateCreated</th>\n",
       "      <th>NumberOfPictures</th>\n",
       "      <th>PostalCode</th>\n",
       "      <th>LastSeen</th>\n",
       "    </tr>\n",
       "  </thead>\n",
       "  <tbody>\n",
       "    <tr>\n",
       "      <th>0</th>\n",
       "      <td>2016-03-24 11:52:17</td>\n",
       "      <td>480</td>\n",
       "      <td>NaN</td>\n",
       "      <td>1993</td>\n",
       "      <td>manual</td>\n",
       "      <td>0</td>\n",
       "      <td>golf</td>\n",
       "      <td>150000</td>\n",
       "      <td>0</td>\n",
       "      <td>petrol</td>\n",
       "      <td>volkswagen</td>\n",
       "      <td>NaN</td>\n",
       "      <td>2016-03-24 00:00:00</td>\n",
       "      <td>0</td>\n",
       "      <td>70435</td>\n",
       "      <td>2016-04-07 03:16:57</td>\n",
       "    </tr>\n",
       "    <tr>\n",
       "      <th>1</th>\n",
       "      <td>2016-03-24 10:58:45</td>\n",
       "      <td>18300</td>\n",
       "      <td>coupe</td>\n",
       "      <td>2011</td>\n",
       "      <td>manual</td>\n",
       "      <td>190</td>\n",
       "      <td>NaN</td>\n",
       "      <td>125000</td>\n",
       "      <td>5</td>\n",
       "      <td>gasoline</td>\n",
       "      <td>audi</td>\n",
       "      <td>yes</td>\n",
       "      <td>2016-03-24 00:00:00</td>\n",
       "      <td>0</td>\n",
       "      <td>66954</td>\n",
       "      <td>2016-04-07 01:46:50</td>\n",
       "    </tr>\n",
       "    <tr>\n",
       "      <th>2</th>\n",
       "      <td>2016-03-14 12:52:21</td>\n",
       "      <td>9800</td>\n",
       "      <td>suv</td>\n",
       "      <td>2004</td>\n",
       "      <td>auto</td>\n",
       "      <td>163</td>\n",
       "      <td>grand</td>\n",
       "      <td>125000</td>\n",
       "      <td>8</td>\n",
       "      <td>gasoline</td>\n",
       "      <td>jeep</td>\n",
       "      <td>NaN</td>\n",
       "      <td>2016-03-14 00:00:00</td>\n",
       "      <td>0</td>\n",
       "      <td>90480</td>\n",
       "      <td>2016-04-05 12:47:46</td>\n",
       "    </tr>\n",
       "    <tr>\n",
       "      <th>3</th>\n",
       "      <td>2016-03-17 16:54:04</td>\n",
       "      <td>1500</td>\n",
       "      <td>small</td>\n",
       "      <td>2001</td>\n",
       "      <td>manual</td>\n",
       "      <td>75</td>\n",
       "      <td>golf</td>\n",
       "      <td>150000</td>\n",
       "      <td>6</td>\n",
       "      <td>petrol</td>\n",
       "      <td>volkswagen</td>\n",
       "      <td>no</td>\n",
       "      <td>2016-03-17 00:00:00</td>\n",
       "      <td>0</td>\n",
       "      <td>91074</td>\n",
       "      <td>2016-03-17 17:40:17</td>\n",
       "    </tr>\n",
       "    <tr>\n",
       "      <th>4</th>\n",
       "      <td>2016-03-31 17:25:20</td>\n",
       "      <td>3600</td>\n",
       "      <td>small</td>\n",
       "      <td>2008</td>\n",
       "      <td>manual</td>\n",
       "      <td>69</td>\n",
       "      <td>fabia</td>\n",
       "      <td>90000</td>\n",
       "      <td>7</td>\n",
       "      <td>gasoline</td>\n",
       "      <td>skoda</td>\n",
       "      <td>no</td>\n",
       "      <td>2016-03-31 00:00:00</td>\n",
       "      <td>0</td>\n",
       "      <td>60437</td>\n",
       "      <td>2016-04-06 10:17:21</td>\n",
       "    </tr>\n",
       "  </tbody>\n",
       "</table>\n",
       "</div>"
      ],
      "text/plain": [
       "           DateCrawled  Price VehicleType  RegistrationYear Gearbox  Power  \\\n",
       "0  2016-03-24 11:52:17    480         NaN              1993  manual      0   \n",
       "1  2016-03-24 10:58:45  18300       coupe              2011  manual    190   \n",
       "2  2016-03-14 12:52:21   9800         suv              2004    auto    163   \n",
       "3  2016-03-17 16:54:04   1500       small              2001  manual     75   \n",
       "4  2016-03-31 17:25:20   3600       small              2008  manual     69   \n",
       "\n",
       "   Model  Kilometer  RegistrationMonth  FuelType       Brand NotRepaired  \\\n",
       "0   golf     150000                  0    petrol  volkswagen         NaN   \n",
       "1    NaN     125000                  5  gasoline        audi         yes   \n",
       "2  grand     125000                  8  gasoline        jeep         NaN   \n",
       "3   golf     150000                  6    petrol  volkswagen          no   \n",
       "4  fabia      90000                  7  gasoline       skoda          no   \n",
       "\n",
       "           DateCreated  NumberOfPictures  PostalCode             LastSeen  \n",
       "0  2016-03-24 00:00:00                 0       70435  2016-04-07 03:16:57  \n",
       "1  2016-03-24 00:00:00                 0       66954  2016-04-07 01:46:50  \n",
       "2  2016-03-14 00:00:00                 0       90480  2016-04-05 12:47:46  \n",
       "3  2016-03-17 00:00:00                 0       91074  2016-03-17 17:40:17  \n",
       "4  2016-03-31 00:00:00                 0       60437  2016-04-06 10:17:21  "
      ]
     },
     "execution_count": 3,
     "metadata": {},
     "output_type": "execute_result"
    }
   ],
   "source": [
    "data.head()"
   ]
  },
  {
   "cell_type": "code",
   "execution_count": 4,
   "metadata": {},
   "outputs": [
    {
     "name": "stdout",
     "output_type": "stream",
     "text": [
      "<class 'pandas.core.frame.DataFrame'>\n",
      "RangeIndex: 354369 entries, 0 to 354368\n",
      "Data columns (total 16 columns):\n",
      " #   Column             Non-Null Count   Dtype \n",
      "---  ------             --------------   ----- \n",
      " 0   DateCrawled        354369 non-null  object\n",
      " 1   Price              354369 non-null  int64 \n",
      " 2   VehicleType        316879 non-null  object\n",
      " 3   RegistrationYear   354369 non-null  int64 \n",
      " 4   Gearbox            334536 non-null  object\n",
      " 5   Power              354369 non-null  int64 \n",
      " 6   Model              334664 non-null  object\n",
      " 7   Kilometer          354369 non-null  int64 \n",
      " 8   RegistrationMonth  354369 non-null  int64 \n",
      " 9   FuelType           321474 non-null  object\n",
      " 10  Brand              354369 non-null  object\n",
      " 11  NotRepaired        283215 non-null  object\n",
      " 12  DateCreated        354369 non-null  object\n",
      " 13  NumberOfPictures   354369 non-null  int64 \n",
      " 14  PostalCode         354369 non-null  int64 \n",
      " 15  LastSeen           354369 non-null  object\n",
      "dtypes: int64(7), object(9)\n",
      "memory usage: 43.3+ MB\n"
     ]
    }
   ],
   "source": [
    "data.info()"
   ]
  },
  {
   "cell_type": "markdown",
   "metadata": {},
   "source": [
    "Данные представлены в удобном формате. Необходимо только убрать/заменить пропуски."
   ]
  },
  {
   "cell_type": "code",
   "execution_count": 5,
   "metadata": {},
   "outputs": [
    {
     "data": {
      "text/plain": [
       "DateCrawled          0.000000\n",
       "Price                0.000000\n",
       "VehicleType          0.105794\n",
       "RegistrationYear     0.000000\n",
       "Gearbox              0.055967\n",
       "Power                0.000000\n",
       "Model                0.055606\n",
       "Kilometer            0.000000\n",
       "RegistrationMonth    0.000000\n",
       "FuelType             0.092827\n",
       "Brand                0.000000\n",
       "NotRepaired          0.200791\n",
       "DateCreated          0.000000\n",
       "NumberOfPictures     0.000000\n",
       "PostalCode           0.000000\n",
       "LastSeen             0.000000\n",
       "dtype: float64"
      ]
     },
     "execution_count": 5,
     "metadata": {},
     "output_type": "execute_result"
    }
   ],
   "source": [
    "data.isna().mean()"
   ]
  },
  {
   "cell_type": "markdown",
   "metadata": {},
   "source": [
    "Пропуси обнаружены в 5 столбцах датасета.  Количество пропусков незначительное. Все столбики обладают категориальными признаками. Необходимости заменять пропуски по категориям смысла в данном случае и этот способ может быть неверным, тем более стобец \"NotRepaired\", где больше всего пропусков заменить логически  никак не выйдет. Можно их просто отбросить из датасета, либо заменить на 'unknown'. Выбран был второй вариант."
   ]
  },
  {
   "cell_type": "code",
   "execution_count": 6,
   "metadata": {},
   "outputs": [],
   "source": [
    "data['VehicleType']=data['VehicleType'].fillna('unknown')\n",
    "data['Gearbox']=data['Gearbox'].fillna('unknown')\n",
    "data['Model']=data['Model'].fillna('unknown')\n",
    "data['FuelType']=data['FuelType'].fillna('unknown')\n",
    "data['NotRepaired']=data['NotRepaired'].fillna('unknown')"
   ]
  },
  {
   "cell_type": "code",
   "execution_count": 7,
   "metadata": {},
   "outputs": [
    {
     "data": {
      "text/plain": [
       "DateCrawled          0.0\n",
       "Price                0.0\n",
       "VehicleType          0.0\n",
       "RegistrationYear     0.0\n",
       "Gearbox              0.0\n",
       "Power                0.0\n",
       "Model                0.0\n",
       "Kilometer            0.0\n",
       "RegistrationMonth    0.0\n",
       "FuelType             0.0\n",
       "Brand                0.0\n",
       "NotRepaired          0.0\n",
       "DateCreated          0.0\n",
       "NumberOfPictures     0.0\n",
       "PostalCode           0.0\n",
       "LastSeen             0.0\n",
       "dtype: float64"
      ]
     },
     "execution_count": 7,
     "metadata": {},
     "output_type": "execute_result"
    }
   ],
   "source": [
    "data.isna().mean()"
   ]
  },
  {
   "cell_type": "code",
   "execution_count": 8,
   "metadata": {},
   "outputs": [
    {
     "data": {
      "text/html": [
       "<div>\n",
       "<style scoped>\n",
       "    .dataframe tbody tr th:only-of-type {\n",
       "        vertical-align: middle;\n",
       "    }\n",
       "\n",
       "    .dataframe tbody tr th {\n",
       "        vertical-align: top;\n",
       "    }\n",
       "\n",
       "    .dataframe thead th {\n",
       "        text-align: right;\n",
       "    }\n",
       "</style>\n",
       "<table border=\"1\" class=\"dataframe\">\n",
       "  <thead>\n",
       "    <tr style=\"text-align: right;\">\n",
       "      <th></th>\n",
       "      <th>DateCrawled</th>\n",
       "      <th>Price</th>\n",
       "      <th>VehicleType</th>\n",
       "      <th>RegistrationYear</th>\n",
       "      <th>Gearbox</th>\n",
       "      <th>Power</th>\n",
       "      <th>Model</th>\n",
       "      <th>Kilometer</th>\n",
       "      <th>RegistrationMonth</th>\n",
       "      <th>FuelType</th>\n",
       "      <th>Brand</th>\n",
       "      <th>NotRepaired</th>\n",
       "      <th>DateCreated</th>\n",
       "      <th>NumberOfPictures</th>\n",
       "      <th>PostalCode</th>\n",
       "      <th>LastSeen</th>\n",
       "    </tr>\n",
       "  </thead>\n",
       "  <tbody>\n",
       "    <tr>\n",
       "      <th>0</th>\n",
       "      <td>3</td>\n",
       "      <td>480</td>\n",
       "      <td>unknown</td>\n",
       "      <td>1993</td>\n",
       "      <td>manual</td>\n",
       "      <td>0</td>\n",
       "      <td>golf</td>\n",
       "      <td>150000</td>\n",
       "      <td>0</td>\n",
       "      <td>petrol</td>\n",
       "      <td>volkswagen</td>\n",
       "      <td>unknown</td>\n",
       "      <td>3</td>\n",
       "      <td>0</td>\n",
       "      <td>70435</td>\n",
       "      <td>4</td>\n",
       "    </tr>\n",
       "    <tr>\n",
       "      <th>1</th>\n",
       "      <td>3</td>\n",
       "      <td>18300</td>\n",
       "      <td>coupe</td>\n",
       "      <td>2011</td>\n",
       "      <td>manual</td>\n",
       "      <td>190</td>\n",
       "      <td>unknown</td>\n",
       "      <td>125000</td>\n",
       "      <td>5</td>\n",
       "      <td>gasoline</td>\n",
       "      <td>audi</td>\n",
       "      <td>yes</td>\n",
       "      <td>3</td>\n",
       "      <td>0</td>\n",
       "      <td>66954</td>\n",
       "      <td>4</td>\n",
       "    </tr>\n",
       "    <tr>\n",
       "      <th>2</th>\n",
       "      <td>3</td>\n",
       "      <td>9800</td>\n",
       "      <td>suv</td>\n",
       "      <td>2004</td>\n",
       "      <td>auto</td>\n",
       "      <td>163</td>\n",
       "      <td>grand</td>\n",
       "      <td>125000</td>\n",
       "      <td>8</td>\n",
       "      <td>gasoline</td>\n",
       "      <td>jeep</td>\n",
       "      <td>unknown</td>\n",
       "      <td>3</td>\n",
       "      <td>0</td>\n",
       "      <td>90480</td>\n",
       "      <td>4</td>\n",
       "    </tr>\n",
       "    <tr>\n",
       "      <th>3</th>\n",
       "      <td>3</td>\n",
       "      <td>1500</td>\n",
       "      <td>small</td>\n",
       "      <td>2001</td>\n",
       "      <td>manual</td>\n",
       "      <td>75</td>\n",
       "      <td>golf</td>\n",
       "      <td>150000</td>\n",
       "      <td>6</td>\n",
       "      <td>petrol</td>\n",
       "      <td>volkswagen</td>\n",
       "      <td>no</td>\n",
       "      <td>3</td>\n",
       "      <td>0</td>\n",
       "      <td>91074</td>\n",
       "      <td>3</td>\n",
       "    </tr>\n",
       "    <tr>\n",
       "      <th>4</th>\n",
       "      <td>3</td>\n",
       "      <td>3600</td>\n",
       "      <td>small</td>\n",
       "      <td>2008</td>\n",
       "      <td>manual</td>\n",
       "      <td>69</td>\n",
       "      <td>fabia</td>\n",
       "      <td>90000</td>\n",
       "      <td>7</td>\n",
       "      <td>gasoline</td>\n",
       "      <td>skoda</td>\n",
       "      <td>no</td>\n",
       "      <td>3</td>\n",
       "      <td>0</td>\n",
       "      <td>60437</td>\n",
       "      <td>4</td>\n",
       "    </tr>\n",
       "    <tr>\n",
       "      <th>...</th>\n",
       "      <td>...</td>\n",
       "      <td>...</td>\n",
       "      <td>...</td>\n",
       "      <td>...</td>\n",
       "      <td>...</td>\n",
       "      <td>...</td>\n",
       "      <td>...</td>\n",
       "      <td>...</td>\n",
       "      <td>...</td>\n",
       "      <td>...</td>\n",
       "      <td>...</td>\n",
       "      <td>...</td>\n",
       "      <td>...</td>\n",
       "      <td>...</td>\n",
       "      <td>...</td>\n",
       "      <td>...</td>\n",
       "    </tr>\n",
       "    <tr>\n",
       "      <th>354364</th>\n",
       "      <td>3</td>\n",
       "      <td>0</td>\n",
       "      <td>unknown</td>\n",
       "      <td>2005</td>\n",
       "      <td>manual</td>\n",
       "      <td>0</td>\n",
       "      <td>colt</td>\n",
       "      <td>150000</td>\n",
       "      <td>7</td>\n",
       "      <td>petrol</td>\n",
       "      <td>mitsubishi</td>\n",
       "      <td>yes</td>\n",
       "      <td>3</td>\n",
       "      <td>0</td>\n",
       "      <td>2694</td>\n",
       "      <td>3</td>\n",
       "    </tr>\n",
       "    <tr>\n",
       "      <th>354365</th>\n",
       "      <td>3</td>\n",
       "      <td>2200</td>\n",
       "      <td>unknown</td>\n",
       "      <td>2005</td>\n",
       "      <td>unknown</td>\n",
       "      <td>0</td>\n",
       "      <td>unknown</td>\n",
       "      <td>20000</td>\n",
       "      <td>1</td>\n",
       "      <td>unknown</td>\n",
       "      <td>sonstige_autos</td>\n",
       "      <td>unknown</td>\n",
       "      <td>3</td>\n",
       "      <td>0</td>\n",
       "      <td>39576</td>\n",
       "      <td>4</td>\n",
       "    </tr>\n",
       "    <tr>\n",
       "      <th>354366</th>\n",
       "      <td>3</td>\n",
       "      <td>1199</td>\n",
       "      <td>convertible</td>\n",
       "      <td>2000</td>\n",
       "      <td>auto</td>\n",
       "      <td>101</td>\n",
       "      <td>fortwo</td>\n",
       "      <td>125000</td>\n",
       "      <td>3</td>\n",
       "      <td>petrol</td>\n",
       "      <td>smart</td>\n",
       "      <td>no</td>\n",
       "      <td>3</td>\n",
       "      <td>0</td>\n",
       "      <td>26135</td>\n",
       "      <td>3</td>\n",
       "    </tr>\n",
       "    <tr>\n",
       "      <th>354367</th>\n",
       "      <td>3</td>\n",
       "      <td>9200</td>\n",
       "      <td>bus</td>\n",
       "      <td>1996</td>\n",
       "      <td>manual</td>\n",
       "      <td>102</td>\n",
       "      <td>transporter</td>\n",
       "      <td>150000</td>\n",
       "      <td>3</td>\n",
       "      <td>gasoline</td>\n",
       "      <td>volkswagen</td>\n",
       "      <td>no</td>\n",
       "      <td>3</td>\n",
       "      <td>0</td>\n",
       "      <td>87439</td>\n",
       "      <td>4</td>\n",
       "    </tr>\n",
       "    <tr>\n",
       "      <th>354368</th>\n",
       "      <td>3</td>\n",
       "      <td>3400</td>\n",
       "      <td>wagon</td>\n",
       "      <td>2002</td>\n",
       "      <td>manual</td>\n",
       "      <td>100</td>\n",
       "      <td>golf</td>\n",
       "      <td>150000</td>\n",
       "      <td>6</td>\n",
       "      <td>gasoline</td>\n",
       "      <td>volkswagen</td>\n",
       "      <td>unknown</td>\n",
       "      <td>3</td>\n",
       "      <td>0</td>\n",
       "      <td>40764</td>\n",
       "      <td>3</td>\n",
       "    </tr>\n",
       "  </tbody>\n",
       "</table>\n",
       "<p>354369 rows × 16 columns</p>\n",
       "</div>"
      ],
      "text/plain": [
       "        DateCrawled  Price  VehicleType  RegistrationYear  Gearbox  Power  \\\n",
       "0                 3    480      unknown              1993   manual      0   \n",
       "1                 3  18300        coupe              2011   manual    190   \n",
       "2                 3   9800          suv              2004     auto    163   \n",
       "3                 3   1500        small              2001   manual     75   \n",
       "4                 3   3600        small              2008   manual     69   \n",
       "...             ...    ...          ...               ...      ...    ...   \n",
       "354364            3      0      unknown              2005   manual      0   \n",
       "354365            3   2200      unknown              2005  unknown      0   \n",
       "354366            3   1199  convertible              2000     auto    101   \n",
       "354367            3   9200          bus              1996   manual    102   \n",
       "354368            3   3400        wagon              2002   manual    100   \n",
       "\n",
       "              Model  Kilometer  RegistrationMonth  FuelType           Brand  \\\n",
       "0              golf     150000                  0    petrol      volkswagen   \n",
       "1           unknown     125000                  5  gasoline            audi   \n",
       "2             grand     125000                  8  gasoline            jeep   \n",
       "3              golf     150000                  6    petrol      volkswagen   \n",
       "4             fabia      90000                  7  gasoline           skoda   \n",
       "...             ...        ...                ...       ...             ...   \n",
       "354364         colt     150000                  7    petrol      mitsubishi   \n",
       "354365      unknown      20000                  1   unknown  sonstige_autos   \n",
       "354366       fortwo     125000                  3    petrol           smart   \n",
       "354367  transporter     150000                  3  gasoline      volkswagen   \n",
       "354368         golf     150000                  6  gasoline      volkswagen   \n",
       "\n",
       "       NotRepaired  DateCreated  NumberOfPictures  PostalCode  LastSeen  \n",
       "0          unknown            3                 0       70435         4  \n",
       "1              yes            3                 0       66954         4  \n",
       "2          unknown            3                 0       90480         4  \n",
       "3               no            3                 0       91074         3  \n",
       "4               no            3                 0       60437         4  \n",
       "...            ...          ...               ...         ...       ...  \n",
       "354364         yes            3                 0        2694         3  \n",
       "354365     unknown            3                 0       39576         4  \n",
       "354366          no            3                 0       26135         3  \n",
       "354367          no            3                 0       87439         4  \n",
       "354368     unknown            3                 0       40764         3  \n",
       "\n",
       "[354369 rows x 16 columns]"
      ]
     },
     "execution_count": 8,
     "metadata": {},
     "output_type": "execute_result"
    }
   ],
   "source": [
    "# также можно обработать столбцы с датами и убрать время. Маловероятно что оно играет роль при построенние цены. \n",
    "#Год здесь один, дни недели думаю сильного влияния на цену не оказывают в общем обьеме, оставим месяцы\n",
    "#лучше данный элекмент отбросить так данные станут более сгруппированными, чем с разбивкой по секундам\n",
    "data['DateCrawled'] = pd.to_datetime(data['DateCrawled'], format='%Y-%m-%d')\n",
    "data['DateCreated'] = pd.to_datetime(data['DateCreated'], format='%Y-%m-%d')\n",
    "data['LastSeen'] = pd.to_datetime(data['LastSeen'], format='%Y-%m-%d')\n",
    "data['DateCrawled']=pd.DatetimeIndex(data['DateCrawled']).month\n",
    "data['DateCreated']=pd.DatetimeIndex(data['DateCreated']).month\n",
    "data['LastSeen']=pd.DatetimeIndex(data['LastSeen']).month\n",
    "data"
   ]
  },
  {
   "cell_type": "code",
   "execution_count": 9,
   "metadata": {},
   "outputs": [
    {
     "data": {
      "text/html": [
       "<div>\n",
       "<style scoped>\n",
       "    .dataframe tbody tr th:only-of-type {\n",
       "        vertical-align: middle;\n",
       "    }\n",
       "\n",
       "    .dataframe tbody tr th {\n",
       "        vertical-align: top;\n",
       "    }\n",
       "\n",
       "    .dataframe thead th {\n",
       "        text-align: right;\n",
       "    }\n",
       "</style>\n",
       "<table border=\"1\" class=\"dataframe\">\n",
       "  <thead>\n",
       "    <tr style=\"text-align: right;\">\n",
       "      <th></th>\n",
       "      <th>DateCrawled</th>\n",
       "      <th>Price</th>\n",
       "      <th>RegistrationYear</th>\n",
       "      <th>Power</th>\n",
       "      <th>Kilometer</th>\n",
       "      <th>RegistrationMonth</th>\n",
       "      <th>DateCreated</th>\n",
       "      <th>NumberOfPictures</th>\n",
       "      <th>PostalCode</th>\n",
       "      <th>LastSeen</th>\n",
       "    </tr>\n",
       "  </thead>\n",
       "  <tbody>\n",
       "    <tr>\n",
       "      <th>count</th>\n",
       "      <td>354369.000000</td>\n",
       "      <td>354369.000000</td>\n",
       "      <td>354369.000000</td>\n",
       "      <td>354369.000000</td>\n",
       "      <td>354369.000000</td>\n",
       "      <td>354369.000000</td>\n",
       "      <td>354369.000000</td>\n",
       "      <td>354369.0</td>\n",
       "      <td>354369.000000</td>\n",
       "      <td>354369.000000</td>\n",
       "    </tr>\n",
       "    <tr>\n",
       "      <th>mean</th>\n",
       "      <td>3.162387</td>\n",
       "      <td>4416.656776</td>\n",
       "      <td>2004.234448</td>\n",
       "      <td>110.094337</td>\n",
       "      <td>128211.172535</td>\n",
       "      <td>5.714645</td>\n",
       "      <td>3.160189</td>\n",
       "      <td>0.0</td>\n",
       "      <td>50508.689087</td>\n",
       "      <td>3.564987</td>\n",
       "    </tr>\n",
       "    <tr>\n",
       "      <th>std</th>\n",
       "      <td>0.368806</td>\n",
       "      <td>4514.158514</td>\n",
       "      <td>90.227958</td>\n",
       "      <td>189.850405</td>\n",
       "      <td>37905.341530</td>\n",
       "      <td>3.726421</td>\n",
       "      <td>0.376284</td>\n",
       "      <td>0.0</td>\n",
       "      <td>25783.096248</td>\n",
       "      <td>0.495759</td>\n",
       "    </tr>\n",
       "    <tr>\n",
       "      <th>min</th>\n",
       "      <td>3.000000</td>\n",
       "      <td>0.000000</td>\n",
       "      <td>1000.000000</td>\n",
       "      <td>0.000000</td>\n",
       "      <td>5000.000000</td>\n",
       "      <td>0.000000</td>\n",
       "      <td>1.000000</td>\n",
       "      <td>0.0</td>\n",
       "      <td>1067.000000</td>\n",
       "      <td>3.000000</td>\n",
       "    </tr>\n",
       "    <tr>\n",
       "      <th>25%</th>\n",
       "      <td>3.000000</td>\n",
       "      <td>1050.000000</td>\n",
       "      <td>1999.000000</td>\n",
       "      <td>69.000000</td>\n",
       "      <td>125000.000000</td>\n",
       "      <td>3.000000</td>\n",
       "      <td>3.000000</td>\n",
       "      <td>0.0</td>\n",
       "      <td>30165.000000</td>\n",
       "      <td>3.000000</td>\n",
       "    </tr>\n",
       "    <tr>\n",
       "      <th>50%</th>\n",
       "      <td>3.000000</td>\n",
       "      <td>2700.000000</td>\n",
       "      <td>2003.000000</td>\n",
       "      <td>105.000000</td>\n",
       "      <td>150000.000000</td>\n",
       "      <td>6.000000</td>\n",
       "      <td>3.000000</td>\n",
       "      <td>0.0</td>\n",
       "      <td>49413.000000</td>\n",
       "      <td>4.000000</td>\n",
       "    </tr>\n",
       "    <tr>\n",
       "      <th>75%</th>\n",
       "      <td>3.000000</td>\n",
       "      <td>6400.000000</td>\n",
       "      <td>2008.000000</td>\n",
       "      <td>143.000000</td>\n",
       "      <td>150000.000000</td>\n",
       "      <td>9.000000</td>\n",
       "      <td>3.000000</td>\n",
       "      <td>0.0</td>\n",
       "      <td>71083.000000</td>\n",
       "      <td>4.000000</td>\n",
       "    </tr>\n",
       "    <tr>\n",
       "      <th>max</th>\n",
       "      <td>4.000000</td>\n",
       "      <td>20000.000000</td>\n",
       "      <td>9999.000000</td>\n",
       "      <td>20000.000000</td>\n",
       "      <td>150000.000000</td>\n",
       "      <td>12.000000</td>\n",
       "      <td>12.000000</td>\n",
       "      <td>0.0</td>\n",
       "      <td>99998.000000</td>\n",
       "      <td>4.000000</td>\n",
       "    </tr>\n",
       "  </tbody>\n",
       "</table>\n",
       "</div>"
      ],
      "text/plain": [
       "         DateCrawled          Price  RegistrationYear          Power  \\\n",
       "count  354369.000000  354369.000000     354369.000000  354369.000000   \n",
       "mean        3.162387    4416.656776       2004.234448     110.094337   \n",
       "std         0.368806    4514.158514         90.227958     189.850405   \n",
       "min         3.000000       0.000000       1000.000000       0.000000   \n",
       "25%         3.000000    1050.000000       1999.000000      69.000000   \n",
       "50%         3.000000    2700.000000       2003.000000     105.000000   \n",
       "75%         3.000000    6400.000000       2008.000000     143.000000   \n",
       "max         4.000000   20000.000000       9999.000000   20000.000000   \n",
       "\n",
       "           Kilometer  RegistrationMonth    DateCreated  NumberOfPictures  \\\n",
       "count  354369.000000      354369.000000  354369.000000          354369.0   \n",
       "mean   128211.172535           5.714645       3.160189               0.0   \n",
       "std     37905.341530           3.726421       0.376284               0.0   \n",
       "min      5000.000000           0.000000       1.000000               0.0   \n",
       "25%    125000.000000           3.000000       3.000000               0.0   \n",
       "50%    150000.000000           6.000000       3.000000               0.0   \n",
       "75%    150000.000000           9.000000       3.000000               0.0   \n",
       "max    150000.000000          12.000000      12.000000               0.0   \n",
       "\n",
       "          PostalCode       LastSeen  \n",
       "count  354369.000000  354369.000000  \n",
       "mean    50508.689087       3.564987  \n",
       "std     25783.096248       0.495759  \n",
       "min      1067.000000       3.000000  \n",
       "25%     30165.000000       3.000000  \n",
       "50%     49413.000000       4.000000  \n",
       "75%     71083.000000       4.000000  \n",
       "max     99998.000000       4.000000  "
      ]
     },
     "execution_count": 9,
     "metadata": {},
     "output_type": "execute_result"
    }
   ],
   "source": [
    "# проанализируем данные на предмет наличие страннных значений\n",
    "\n",
    "data.describe()"
   ]
  },
  {
   "cell_type": "markdown",
   "metadata": {},
   "source": [
    "- В колонке года регистрации минимальные и максимальные значения подозрительные.\n",
    "- В цене есть 0 значения. \n",
    "- Колонка силы имеет 0 значения, что не являются репрезентативными, вряд ли владельцы хотят поддержанные неработающие машины, равно как и наличие машин с 20 000 лошадинными силами. \n",
    "- Месяц регитсрации  содержит 0 значение, чего не может быть. \n",
    "- Колонка с количеством фотографий содержит только лишь 0 ее лучше вовсе убрать."
   ]
  },
  {
   "cell_type": "code",
   "execution_count": 10,
   "metadata": {},
   "outputs": [
    {
     "data": {
      "text/html": [
       "<div>\n",
       "<style scoped>\n",
       "    .dataframe tbody tr th:only-of-type {\n",
       "        vertical-align: middle;\n",
       "    }\n",
       "\n",
       "    .dataframe tbody tr th {\n",
       "        vertical-align: top;\n",
       "    }\n",
       "\n",
       "    .dataframe thead th {\n",
       "        text-align: right;\n",
       "    }\n",
       "</style>\n",
       "<table border=\"1\" class=\"dataframe\">\n",
       "  <thead>\n",
       "    <tr style=\"text-align: right;\">\n",
       "      <th></th>\n",
       "      <th>DateCrawled</th>\n",
       "      <th>Price</th>\n",
       "      <th>VehicleType</th>\n",
       "      <th>RegistrationYear</th>\n",
       "      <th>Gearbox</th>\n",
       "      <th>Power</th>\n",
       "      <th>Model</th>\n",
       "      <th>Kilometer</th>\n",
       "      <th>RegistrationMonth</th>\n",
       "      <th>FuelType</th>\n",
       "      <th>Brand</th>\n",
       "      <th>NotRepaired</th>\n",
       "      <th>DateCreated</th>\n",
       "      <th>NumberOfPictures</th>\n",
       "      <th>PostalCode</th>\n",
       "      <th>LastSeen</th>\n",
       "    </tr>\n",
       "  </thead>\n",
       "  <tbody>\n",
       "    <tr>\n",
       "      <th>622</th>\n",
       "      <td>3</td>\n",
       "      <td>0</td>\n",
       "      <td>unknown</td>\n",
       "      <td>1111</td>\n",
       "      <td>unknown</td>\n",
       "      <td>0</td>\n",
       "      <td>unknown</td>\n",
       "      <td>5000</td>\n",
       "      <td>0</td>\n",
       "      <td>unknown</td>\n",
       "      <td>opel</td>\n",
       "      <td>unknown</td>\n",
       "      <td>3</td>\n",
       "      <td>0</td>\n",
       "      <td>44628</td>\n",
       "      <td>3</td>\n",
       "    </tr>\n",
       "    <tr>\n",
       "      <th>12946</th>\n",
       "      <td>3</td>\n",
       "      <td>49</td>\n",
       "      <td>unknown</td>\n",
       "      <td>5000</td>\n",
       "      <td>unknown</td>\n",
       "      <td>0</td>\n",
       "      <td>golf</td>\n",
       "      <td>5000</td>\n",
       "      <td>12</td>\n",
       "      <td>unknown</td>\n",
       "      <td>volkswagen</td>\n",
       "      <td>unknown</td>\n",
       "      <td>3</td>\n",
       "      <td>0</td>\n",
       "      <td>74523</td>\n",
       "      <td>4</td>\n",
       "    </tr>\n",
       "    <tr>\n",
       "      <th>15147</th>\n",
       "      <td>3</td>\n",
       "      <td>0</td>\n",
       "      <td>unknown</td>\n",
       "      <td>9999</td>\n",
       "      <td>unknown</td>\n",
       "      <td>0</td>\n",
       "      <td>unknown</td>\n",
       "      <td>10000</td>\n",
       "      <td>0</td>\n",
       "      <td>unknown</td>\n",
       "      <td>sonstige_autos</td>\n",
       "      <td>unknown</td>\n",
       "      <td>3</td>\n",
       "      <td>0</td>\n",
       "      <td>32689</td>\n",
       "      <td>3</td>\n",
       "    </tr>\n",
       "    <tr>\n",
       "      <th>15870</th>\n",
       "      <td>4</td>\n",
       "      <td>1700</td>\n",
       "      <td>unknown</td>\n",
       "      <td>3200</td>\n",
       "      <td>unknown</td>\n",
       "      <td>0</td>\n",
       "      <td>unknown</td>\n",
       "      <td>5000</td>\n",
       "      <td>0</td>\n",
       "      <td>unknown</td>\n",
       "      <td>sonstige_autos</td>\n",
       "      <td>unknown</td>\n",
       "      <td>4</td>\n",
       "      <td>0</td>\n",
       "      <td>33649</td>\n",
       "      <td>4</td>\n",
       "    </tr>\n",
       "    <tr>\n",
       "      <th>16062</th>\n",
       "      <td>3</td>\n",
       "      <td>190</td>\n",
       "      <td>unknown</td>\n",
       "      <td>1000</td>\n",
       "      <td>unknown</td>\n",
       "      <td>0</td>\n",
       "      <td>mondeo</td>\n",
       "      <td>5000</td>\n",
       "      <td>0</td>\n",
       "      <td>unknown</td>\n",
       "      <td>ford</td>\n",
       "      <td>unknown</td>\n",
       "      <td>3</td>\n",
       "      <td>0</td>\n",
       "      <td>47166</td>\n",
       "      <td>4</td>\n",
       "    </tr>\n",
       "    <tr>\n",
       "      <th>...</th>\n",
       "      <td>...</td>\n",
       "      <td>...</td>\n",
       "      <td>...</td>\n",
       "      <td>...</td>\n",
       "      <td>...</td>\n",
       "      <td>...</td>\n",
       "      <td>...</td>\n",
       "      <td>...</td>\n",
       "      <td>...</td>\n",
       "      <td>...</td>\n",
       "      <td>...</td>\n",
       "      <td>...</td>\n",
       "      <td>...</td>\n",
       "      <td>...</td>\n",
       "      <td>...</td>\n",
       "      <td>...</td>\n",
       "    </tr>\n",
       "    <tr>\n",
       "      <th>340548</th>\n",
       "      <td>4</td>\n",
       "      <td>0</td>\n",
       "      <td>unknown</td>\n",
       "      <td>3500</td>\n",
       "      <td>manual</td>\n",
       "      <td>75</td>\n",
       "      <td>unknown</td>\n",
       "      <td>5000</td>\n",
       "      <td>3</td>\n",
       "      <td>petrol</td>\n",
       "      <td>sonstige_autos</td>\n",
       "      <td>unknown</td>\n",
       "      <td>4</td>\n",
       "      <td>0</td>\n",
       "      <td>96465</td>\n",
       "      <td>4</td>\n",
       "    </tr>\n",
       "    <tr>\n",
       "      <th>340759</th>\n",
       "      <td>4</td>\n",
       "      <td>700</td>\n",
       "      <td>unknown</td>\n",
       "      <td>1600</td>\n",
       "      <td>manual</td>\n",
       "      <td>1600</td>\n",
       "      <td>a3</td>\n",
       "      <td>150000</td>\n",
       "      <td>4</td>\n",
       "      <td>petrol</td>\n",
       "      <td>audi</td>\n",
       "      <td>no</td>\n",
       "      <td>4</td>\n",
       "      <td>0</td>\n",
       "      <td>86343</td>\n",
       "      <td>4</td>\n",
       "    </tr>\n",
       "    <tr>\n",
       "      <th>341791</th>\n",
       "      <td>3</td>\n",
       "      <td>1</td>\n",
       "      <td>unknown</td>\n",
       "      <td>3000</td>\n",
       "      <td>unknown</td>\n",
       "      <td>0</td>\n",
       "      <td>zafira</td>\n",
       "      <td>5000</td>\n",
       "      <td>0</td>\n",
       "      <td>unknown</td>\n",
       "      <td>opel</td>\n",
       "      <td>unknown</td>\n",
       "      <td>3</td>\n",
       "      <td>0</td>\n",
       "      <td>26624</td>\n",
       "      <td>4</td>\n",
       "    </tr>\n",
       "    <tr>\n",
       "      <th>348830</th>\n",
       "      <td>3</td>\n",
       "      <td>1</td>\n",
       "      <td>unknown</td>\n",
       "      <td>1000</td>\n",
       "      <td>unknown</td>\n",
       "      <td>1000</td>\n",
       "      <td>unknown</td>\n",
       "      <td>150000</td>\n",
       "      <td>0</td>\n",
       "      <td>unknown</td>\n",
       "      <td>sonstige_autos</td>\n",
       "      <td>unknown</td>\n",
       "      <td>3</td>\n",
       "      <td>0</td>\n",
       "      <td>41472</td>\n",
       "      <td>4</td>\n",
       "    </tr>\n",
       "    <tr>\n",
       "      <th>351682</th>\n",
       "      <td>3</td>\n",
       "      <td>11500</td>\n",
       "      <td>unknown</td>\n",
       "      <td>1800</td>\n",
       "      <td>unknown</td>\n",
       "      <td>16</td>\n",
       "      <td>other</td>\n",
       "      <td>5000</td>\n",
       "      <td>6</td>\n",
       "      <td>petrol</td>\n",
       "      <td>fiat</td>\n",
       "      <td>unknown</td>\n",
       "      <td>3</td>\n",
       "      <td>0</td>\n",
       "      <td>16515</td>\n",
       "      <td>4</td>\n",
       "    </tr>\n",
       "  </tbody>\n",
       "</table>\n",
       "<p>171 rows × 16 columns</p>\n",
       "</div>"
      ],
      "text/plain": [
       "        DateCrawled  Price VehicleType  RegistrationYear  Gearbox  Power  \\\n",
       "622               3      0     unknown              1111  unknown      0   \n",
       "12946             3     49     unknown              5000  unknown      0   \n",
       "15147             3      0     unknown              9999  unknown      0   \n",
       "15870             4   1700     unknown              3200  unknown      0   \n",
       "16062             3    190     unknown              1000  unknown      0   \n",
       "...             ...    ...         ...               ...      ...    ...   \n",
       "340548            4      0     unknown              3500   manual     75   \n",
       "340759            4    700     unknown              1600   manual   1600   \n",
       "341791            3      1     unknown              3000  unknown      0   \n",
       "348830            3      1     unknown              1000  unknown   1000   \n",
       "351682            3  11500     unknown              1800  unknown     16   \n",
       "\n",
       "          Model  Kilometer  RegistrationMonth FuelType           Brand  \\\n",
       "622     unknown       5000                  0  unknown            opel   \n",
       "12946      golf       5000                 12  unknown      volkswagen   \n",
       "15147   unknown      10000                  0  unknown  sonstige_autos   \n",
       "15870   unknown       5000                  0  unknown  sonstige_autos   \n",
       "16062    mondeo       5000                  0  unknown            ford   \n",
       "...         ...        ...                ...      ...             ...   \n",
       "340548  unknown       5000                  3   petrol  sonstige_autos   \n",
       "340759       a3     150000                  4   petrol            audi   \n",
       "341791   zafira       5000                  0  unknown            opel   \n",
       "348830  unknown     150000                  0  unknown  sonstige_autos   \n",
       "351682    other       5000                  6   petrol            fiat   \n",
       "\n",
       "       NotRepaired  DateCreated  NumberOfPictures  PostalCode  LastSeen  \n",
       "622        unknown            3                 0       44628         3  \n",
       "12946      unknown            3                 0       74523         4  \n",
       "15147      unknown            3                 0       32689         3  \n",
       "15870      unknown            4                 0       33649         4  \n",
       "16062      unknown            3                 0       47166         4  \n",
       "...            ...          ...               ...         ...       ...  \n",
       "340548     unknown            4                 0       96465         4  \n",
       "340759          no            4                 0       86343         4  \n",
       "341791     unknown            3                 0       26624         4  \n",
       "348830     unknown            3                 0       41472         4  \n",
       "351682     unknown            3                 0       16515         4  \n",
       "\n",
       "[171 rows x 16 columns]"
      ]
     },
     "execution_count": 10,
     "metadata": {},
     "output_type": "execute_result"
    }
   ],
   "source": [
    "#Найдем артефактыные значения по году\n",
    "\n",
    "data.query('2020<RegistrationYear or RegistrationYear<1900')"
   ]
  },
  {
   "cell_type": "markdown",
   "metadata": {},
   "source": [
    "Данные строки нужно убрать, их число не велико в отношении общей выборке, половина данных отсутвует или не соотвествует действительности."
   ]
  },
  {
   "cell_type": "code",
   "execution_count": 11,
   "metadata": {},
   "outputs": [],
   "source": [
    "# создадим новую дату, исключив данные строки\n",
    "\n",
    "data = data.query('2020>=RegistrationYear and RegistrationYear>1900')"
   ]
  },
  {
   "cell_type": "code",
   "execution_count": 12,
   "metadata": {},
   "outputs": [
    {
     "data": {
      "text/html": [
       "<div>\n",
       "<style scoped>\n",
       "    .dataframe tbody tr th:only-of-type {\n",
       "        vertical-align: middle;\n",
       "    }\n",
       "\n",
       "    .dataframe tbody tr th {\n",
       "        vertical-align: top;\n",
       "    }\n",
       "\n",
       "    .dataframe thead th {\n",
       "        text-align: right;\n",
       "    }\n",
       "</style>\n",
       "<table border=\"1\" class=\"dataframe\">\n",
       "  <thead>\n",
       "    <tr style=\"text-align: right;\">\n",
       "      <th></th>\n",
       "      <th>DateCrawled</th>\n",
       "      <th>Price</th>\n",
       "      <th>VehicleType</th>\n",
       "      <th>RegistrationYear</th>\n",
       "      <th>Gearbox</th>\n",
       "      <th>Power</th>\n",
       "      <th>Model</th>\n",
       "      <th>Kilometer</th>\n",
       "      <th>RegistrationMonth</th>\n",
       "      <th>FuelType</th>\n",
       "      <th>Brand</th>\n",
       "      <th>NotRepaired</th>\n",
       "      <th>DateCreated</th>\n",
       "      <th>NumberOfPictures</th>\n",
       "      <th>PostalCode</th>\n",
       "      <th>LastSeen</th>\n",
       "    </tr>\n",
       "  </thead>\n",
       "  <tbody>\n",
       "    <tr>\n",
       "      <th>7</th>\n",
       "      <td>3</td>\n",
       "      <td>0</td>\n",
       "      <td>sedan</td>\n",
       "      <td>1980</td>\n",
       "      <td>manual</td>\n",
       "      <td>50</td>\n",
       "      <td>other</td>\n",
       "      <td>40000</td>\n",
       "      <td>7</td>\n",
       "      <td>petrol</td>\n",
       "      <td>volkswagen</td>\n",
       "      <td>no</td>\n",
       "      <td>3</td>\n",
       "      <td>0</td>\n",
       "      <td>19348</td>\n",
       "      <td>3</td>\n",
       "    </tr>\n",
       "    <tr>\n",
       "      <th>40</th>\n",
       "      <td>3</td>\n",
       "      <td>0</td>\n",
       "      <td>unknown</td>\n",
       "      <td>1990</td>\n",
       "      <td>unknown</td>\n",
       "      <td>0</td>\n",
       "      <td>corsa</td>\n",
       "      <td>150000</td>\n",
       "      <td>1</td>\n",
       "      <td>petrol</td>\n",
       "      <td>opel</td>\n",
       "      <td>unknown</td>\n",
       "      <td>3</td>\n",
       "      <td>0</td>\n",
       "      <td>56412</td>\n",
       "      <td>3</td>\n",
       "    </tr>\n",
       "    <tr>\n",
       "      <th>59</th>\n",
       "      <td>3</td>\n",
       "      <td>1</td>\n",
       "      <td>suv</td>\n",
       "      <td>1994</td>\n",
       "      <td>manual</td>\n",
       "      <td>286</td>\n",
       "      <td>unknown</td>\n",
       "      <td>150000</td>\n",
       "      <td>11</td>\n",
       "      <td>unknown</td>\n",
       "      <td>sonstige_autos</td>\n",
       "      <td>unknown</td>\n",
       "      <td>3</td>\n",
       "      <td>0</td>\n",
       "      <td>53721</td>\n",
       "      <td>4</td>\n",
       "    </tr>\n",
       "    <tr>\n",
       "      <th>89</th>\n",
       "      <td>3</td>\n",
       "      <td>1</td>\n",
       "      <td>sedan</td>\n",
       "      <td>1995</td>\n",
       "      <td>manual</td>\n",
       "      <td>113</td>\n",
       "      <td>e_klasse</td>\n",
       "      <td>150000</td>\n",
       "      <td>4</td>\n",
       "      <td>gasoline</td>\n",
       "      <td>mercedes_benz</td>\n",
       "      <td>no</td>\n",
       "      <td>3</td>\n",
       "      <td>0</td>\n",
       "      <td>40589</td>\n",
       "      <td>4</td>\n",
       "    </tr>\n",
       "    <tr>\n",
       "      <th>111</th>\n",
       "      <td>3</td>\n",
       "      <td>0</td>\n",
       "      <td>unknown</td>\n",
       "      <td>2017</td>\n",
       "      <td>manual</td>\n",
       "      <td>0</td>\n",
       "      <td>golf</td>\n",
       "      <td>5000</td>\n",
       "      <td>12</td>\n",
       "      <td>petrol</td>\n",
       "      <td>volkswagen</td>\n",
       "      <td>unknown</td>\n",
       "      <td>3</td>\n",
       "      <td>0</td>\n",
       "      <td>21698</td>\n",
       "      <td>4</td>\n",
       "    </tr>\n",
       "    <tr>\n",
       "      <th>...</th>\n",
       "      <td>...</td>\n",
       "      <td>...</td>\n",
       "      <td>...</td>\n",
       "      <td>...</td>\n",
       "      <td>...</td>\n",
       "      <td>...</td>\n",
       "      <td>...</td>\n",
       "      <td>...</td>\n",
       "      <td>...</td>\n",
       "      <td>...</td>\n",
       "      <td>...</td>\n",
       "      <td>...</td>\n",
       "      <td>...</td>\n",
       "      <td>...</td>\n",
       "      <td>...</td>\n",
       "      <td>...</td>\n",
       "    </tr>\n",
       "    <tr>\n",
       "      <th>354205</th>\n",
       "      <td>3</td>\n",
       "      <td>0</td>\n",
       "      <td>unknown</td>\n",
       "      <td>2000</td>\n",
       "      <td>manual</td>\n",
       "      <td>65</td>\n",
       "      <td>corsa</td>\n",
       "      <td>150000</td>\n",
       "      <td>0</td>\n",
       "      <td>unknown</td>\n",
       "      <td>opel</td>\n",
       "      <td>yes</td>\n",
       "      <td>3</td>\n",
       "      <td>0</td>\n",
       "      <td>23758</td>\n",
       "      <td>3</td>\n",
       "    </tr>\n",
       "    <tr>\n",
       "      <th>354238</th>\n",
       "      <td>3</td>\n",
       "      <td>0</td>\n",
       "      <td>small</td>\n",
       "      <td>2002</td>\n",
       "      <td>manual</td>\n",
       "      <td>60</td>\n",
       "      <td>fiesta</td>\n",
       "      <td>150000</td>\n",
       "      <td>3</td>\n",
       "      <td>petrol</td>\n",
       "      <td>ford</td>\n",
       "      <td>unknown</td>\n",
       "      <td>3</td>\n",
       "      <td>0</td>\n",
       "      <td>33659</td>\n",
       "      <td>4</td>\n",
       "    </tr>\n",
       "    <tr>\n",
       "      <th>354248</th>\n",
       "      <td>3</td>\n",
       "      <td>0</td>\n",
       "      <td>small</td>\n",
       "      <td>1999</td>\n",
       "      <td>manual</td>\n",
       "      <td>53</td>\n",
       "      <td>swift</td>\n",
       "      <td>150000</td>\n",
       "      <td>3</td>\n",
       "      <td>petrol</td>\n",
       "      <td>suzuki</td>\n",
       "      <td>unknown</td>\n",
       "      <td>3</td>\n",
       "      <td>0</td>\n",
       "      <td>42329</td>\n",
       "      <td>4</td>\n",
       "    </tr>\n",
       "    <tr>\n",
       "      <th>354277</th>\n",
       "      <td>3</td>\n",
       "      <td>0</td>\n",
       "      <td>small</td>\n",
       "      <td>1999</td>\n",
       "      <td>manual</td>\n",
       "      <td>37</td>\n",
       "      <td>arosa</td>\n",
       "      <td>150000</td>\n",
       "      <td>7</td>\n",
       "      <td>petrol</td>\n",
       "      <td>seat</td>\n",
       "      <td>yes</td>\n",
       "      <td>3</td>\n",
       "      <td>0</td>\n",
       "      <td>22559</td>\n",
       "      <td>3</td>\n",
       "    </tr>\n",
       "    <tr>\n",
       "      <th>354364</th>\n",
       "      <td>3</td>\n",
       "      <td>0</td>\n",
       "      <td>unknown</td>\n",
       "      <td>2005</td>\n",
       "      <td>manual</td>\n",
       "      <td>0</td>\n",
       "      <td>colt</td>\n",
       "      <td>150000</td>\n",
       "      <td>7</td>\n",
       "      <td>petrol</td>\n",
       "      <td>mitsubishi</td>\n",
       "      <td>yes</td>\n",
       "      <td>3</td>\n",
       "      <td>0</td>\n",
       "      <td>2694</td>\n",
       "      <td>3</td>\n",
       "    </tr>\n",
       "  </tbody>\n",
       "</table>\n",
       "<p>11968 rows × 16 columns</p>\n",
       "</div>"
      ],
      "text/plain": [
       "        DateCrawled  Price VehicleType  RegistrationYear  Gearbox  Power  \\\n",
       "7                 3      0       sedan              1980   manual     50   \n",
       "40                3      0     unknown              1990  unknown      0   \n",
       "59                3      1         suv              1994   manual    286   \n",
       "89                3      1       sedan              1995   manual    113   \n",
       "111               3      0     unknown              2017   manual      0   \n",
       "...             ...    ...         ...               ...      ...    ...   \n",
       "354205            3      0     unknown              2000   manual     65   \n",
       "354238            3      0       small              2002   manual     60   \n",
       "354248            3      0       small              1999   manual     53   \n",
       "354277            3      0       small              1999   manual     37   \n",
       "354364            3      0     unknown              2005   manual      0   \n",
       "\n",
       "           Model  Kilometer  RegistrationMonth  FuelType           Brand  \\\n",
       "7          other      40000                  7    petrol      volkswagen   \n",
       "40         corsa     150000                  1    petrol            opel   \n",
       "59       unknown     150000                 11   unknown  sonstige_autos   \n",
       "89      e_klasse     150000                  4  gasoline   mercedes_benz   \n",
       "111         golf       5000                 12    petrol      volkswagen   \n",
       "...          ...        ...                ...       ...             ...   \n",
       "354205     corsa     150000                  0   unknown            opel   \n",
       "354238    fiesta     150000                  3    petrol            ford   \n",
       "354248     swift     150000                  3    petrol          suzuki   \n",
       "354277     arosa     150000                  7    petrol            seat   \n",
       "354364      colt     150000                  7    petrol      mitsubishi   \n",
       "\n",
       "       NotRepaired  DateCreated  NumberOfPictures  PostalCode  LastSeen  \n",
       "7               no            3                 0       19348         3  \n",
       "40         unknown            3                 0       56412         3  \n",
       "59         unknown            3                 0       53721         4  \n",
       "89              no            3                 0       40589         4  \n",
       "111        unknown            3                 0       21698         4  \n",
       "...            ...          ...               ...         ...       ...  \n",
       "354205         yes            3                 0       23758         3  \n",
       "354238     unknown            3                 0       33659         4  \n",
       "354248     unknown            3                 0       42329         4  \n",
       "354277         yes            3                 0       22559         3  \n",
       "354364         yes            3                 0        2694         3  \n",
       "\n",
       "[11968 rows x 16 columns]"
      ]
     },
     "execution_count": 12,
     "metadata": {},
     "output_type": "execute_result"
    }
   ],
   "source": [
    "# проверяем ценовые значения, по максимуму сложно судить, но отсекающем критерием сделаем сделки равные 5 и менее евро\n",
    "\n",
    "data.query('Price<=5')\n"
   ]
  },
  {
   "cell_type": "code",
   "execution_count": 13,
   "metadata": {},
   "outputs": [],
   "source": [
    "#количество сделок не значительно, также их отсекаем\n",
    "\n",
    "data = data.query('Price>5')"
   ]
  },
  {
   "cell_type": "code",
   "execution_count": 14,
   "metadata": {},
   "outputs": [
    {
     "data": {
      "text/html": [
       "<div>\n",
       "<style scoped>\n",
       "    .dataframe tbody tr th:only-of-type {\n",
       "        vertical-align: middle;\n",
       "    }\n",
       "\n",
       "    .dataframe tbody tr th {\n",
       "        vertical-align: top;\n",
       "    }\n",
       "\n",
       "    .dataframe thead th {\n",
       "        text-align: right;\n",
       "    }\n",
       "</style>\n",
       "<table border=\"1\" class=\"dataframe\">\n",
       "  <thead>\n",
       "    <tr style=\"text-align: right;\">\n",
       "      <th></th>\n",
       "      <th>DateCrawled</th>\n",
       "      <th>Price</th>\n",
       "      <th>VehicleType</th>\n",
       "      <th>RegistrationYear</th>\n",
       "      <th>Gearbox</th>\n",
       "      <th>Power</th>\n",
       "      <th>Model</th>\n",
       "      <th>Kilometer</th>\n",
       "      <th>RegistrationMonth</th>\n",
       "      <th>FuelType</th>\n",
       "      <th>Brand</th>\n",
       "      <th>NotRepaired</th>\n",
       "      <th>DateCreated</th>\n",
       "      <th>NumberOfPictures</th>\n",
       "      <th>PostalCode</th>\n",
       "      <th>LastSeen</th>\n",
       "    </tr>\n",
       "  </thead>\n",
       "  <tbody>\n",
       "    <tr>\n",
       "      <th>0</th>\n",
       "      <td>3</td>\n",
       "      <td>480</td>\n",
       "      <td>unknown</td>\n",
       "      <td>1993</td>\n",
       "      <td>manual</td>\n",
       "      <td>0</td>\n",
       "      <td>golf</td>\n",
       "      <td>150000</td>\n",
       "      <td>0</td>\n",
       "      <td>petrol</td>\n",
       "      <td>volkswagen</td>\n",
       "      <td>unknown</td>\n",
       "      <td>3</td>\n",
       "      <td>0</td>\n",
       "      <td>70435</td>\n",
       "      <td>4</td>\n",
       "    </tr>\n",
       "    <tr>\n",
       "      <th>15</th>\n",
       "      <td>3</td>\n",
       "      <td>450</td>\n",
       "      <td>small</td>\n",
       "      <td>1910</td>\n",
       "      <td>unknown</td>\n",
       "      <td>0</td>\n",
       "      <td>ka</td>\n",
       "      <td>5000</td>\n",
       "      <td>0</td>\n",
       "      <td>petrol</td>\n",
       "      <td>ford</td>\n",
       "      <td>unknown</td>\n",
       "      <td>3</td>\n",
       "      <td>0</td>\n",
       "      <td>24148</td>\n",
       "      <td>3</td>\n",
       "    </tr>\n",
       "    <tr>\n",
       "      <th>32</th>\n",
       "      <td>3</td>\n",
       "      <td>245</td>\n",
       "      <td>sedan</td>\n",
       "      <td>1994</td>\n",
       "      <td>unknown</td>\n",
       "      <td>0</td>\n",
       "      <td>golf</td>\n",
       "      <td>150000</td>\n",
       "      <td>2</td>\n",
       "      <td>petrol</td>\n",
       "      <td>volkswagen</td>\n",
       "      <td>no</td>\n",
       "      <td>3</td>\n",
       "      <td>0</td>\n",
       "      <td>44145</td>\n",
       "      <td>3</td>\n",
       "    </tr>\n",
       "    <tr>\n",
       "      <th>37</th>\n",
       "      <td>3</td>\n",
       "      <td>1500</td>\n",
       "      <td>unknown</td>\n",
       "      <td>2016</td>\n",
       "      <td>unknown</td>\n",
       "      <td>0</td>\n",
       "      <td>kangoo</td>\n",
       "      <td>150000</td>\n",
       "      <td>1</td>\n",
       "      <td>gasoline</td>\n",
       "      <td>renault</td>\n",
       "      <td>no</td>\n",
       "      <td>3</td>\n",
       "      <td>0</td>\n",
       "      <td>46483</td>\n",
       "      <td>3</td>\n",
       "    </tr>\n",
       "    <tr>\n",
       "      <th>54</th>\n",
       "      <td>3</td>\n",
       "      <td>4700</td>\n",
       "      <td>wagon</td>\n",
       "      <td>2005</td>\n",
       "      <td>manual</td>\n",
       "      <td>0</td>\n",
       "      <td>signum</td>\n",
       "      <td>150000</td>\n",
       "      <td>0</td>\n",
       "      <td>unknown</td>\n",
       "      <td>opel</td>\n",
       "      <td>no</td>\n",
       "      <td>3</td>\n",
       "      <td>0</td>\n",
       "      <td>88433</td>\n",
       "      <td>4</td>\n",
       "    </tr>\n",
       "    <tr>\n",
       "      <th>...</th>\n",
       "      <td>...</td>\n",
       "      <td>...</td>\n",
       "      <td>...</td>\n",
       "      <td>...</td>\n",
       "      <td>...</td>\n",
       "      <td>...</td>\n",
       "      <td>...</td>\n",
       "      <td>...</td>\n",
       "      <td>...</td>\n",
       "      <td>...</td>\n",
       "      <td>...</td>\n",
       "      <td>...</td>\n",
       "      <td>...</td>\n",
       "      <td>...</td>\n",
       "      <td>...</td>\n",
       "      <td>...</td>\n",
       "    </tr>\n",
       "    <tr>\n",
       "      <th>354336</th>\n",
       "      <td>3</td>\n",
       "      <td>3299</td>\n",
       "      <td>unknown</td>\n",
       "      <td>2005</td>\n",
       "      <td>auto</td>\n",
       "      <td>0</td>\n",
       "      <td>outlander</td>\n",
       "      <td>150000</td>\n",
       "      <td>4</td>\n",
       "      <td>petrol</td>\n",
       "      <td>mitsubishi</td>\n",
       "      <td>unknown</td>\n",
       "      <td>3</td>\n",
       "      <td>0</td>\n",
       "      <td>17034</td>\n",
       "      <td>3</td>\n",
       "    </tr>\n",
       "    <tr>\n",
       "      <th>354338</th>\n",
       "      <td>3</td>\n",
       "      <td>180</td>\n",
       "      <td>unknown</td>\n",
       "      <td>1995</td>\n",
       "      <td>unknown</td>\n",
       "      <td>0</td>\n",
       "      <td>unknown</td>\n",
       "      <td>125000</td>\n",
       "      <td>3</td>\n",
       "      <td>petrol</td>\n",
       "      <td>opel</td>\n",
       "      <td>unknown</td>\n",
       "      <td>3</td>\n",
       "      <td>0</td>\n",
       "      <td>41470</td>\n",
       "      <td>4</td>\n",
       "    </tr>\n",
       "    <tr>\n",
       "      <th>354346</th>\n",
       "      <td>3</td>\n",
       "      <td>2600</td>\n",
       "      <td>unknown</td>\n",
       "      <td>2005</td>\n",
       "      <td>auto</td>\n",
       "      <td>0</td>\n",
       "      <td>c_klasse</td>\n",
       "      <td>150000</td>\n",
       "      <td>9</td>\n",
       "      <td>unknown</td>\n",
       "      <td>mercedes_benz</td>\n",
       "      <td>unknown</td>\n",
       "      <td>3</td>\n",
       "      <td>0</td>\n",
       "      <td>61169</td>\n",
       "      <td>3</td>\n",
       "    </tr>\n",
       "    <tr>\n",
       "      <th>354363</th>\n",
       "      <td>3</td>\n",
       "      <td>1150</td>\n",
       "      <td>bus</td>\n",
       "      <td>2000</td>\n",
       "      <td>manual</td>\n",
       "      <td>0</td>\n",
       "      <td>zafira</td>\n",
       "      <td>150000</td>\n",
       "      <td>3</td>\n",
       "      <td>petrol</td>\n",
       "      <td>opel</td>\n",
       "      <td>no</td>\n",
       "      <td>3</td>\n",
       "      <td>0</td>\n",
       "      <td>26624</td>\n",
       "      <td>3</td>\n",
       "    </tr>\n",
       "    <tr>\n",
       "      <th>354365</th>\n",
       "      <td>3</td>\n",
       "      <td>2200</td>\n",
       "      <td>unknown</td>\n",
       "      <td>2005</td>\n",
       "      <td>unknown</td>\n",
       "      <td>0</td>\n",
       "      <td>unknown</td>\n",
       "      <td>20000</td>\n",
       "      <td>1</td>\n",
       "      <td>unknown</td>\n",
       "      <td>sonstige_autos</td>\n",
       "      <td>unknown</td>\n",
       "      <td>3</td>\n",
       "      <td>0</td>\n",
       "      <td>39576</td>\n",
       "      <td>4</td>\n",
       "    </tr>\n",
       "  </tbody>\n",
       "</table>\n",
       "<p>35831 rows × 16 columns</p>\n",
       "</div>"
      ],
      "text/plain": [
       "        DateCrawled  Price VehicleType  RegistrationYear  Gearbox  Power  \\\n",
       "0                 3    480     unknown              1993   manual      0   \n",
       "15                3    450       small              1910  unknown      0   \n",
       "32                3    245       sedan              1994  unknown      0   \n",
       "37                3   1500     unknown              2016  unknown      0   \n",
       "54                3   4700       wagon              2005   manual      0   \n",
       "...             ...    ...         ...               ...      ...    ...   \n",
       "354336            3   3299     unknown              2005     auto      0   \n",
       "354338            3    180     unknown              1995  unknown      0   \n",
       "354346            3   2600     unknown              2005     auto      0   \n",
       "354363            3   1150         bus              2000   manual      0   \n",
       "354365            3   2200     unknown              2005  unknown      0   \n",
       "\n",
       "            Model  Kilometer  RegistrationMonth  FuelType           Brand  \\\n",
       "0            golf     150000                  0    petrol      volkswagen   \n",
       "15             ka       5000                  0    petrol            ford   \n",
       "32           golf     150000                  2    petrol      volkswagen   \n",
       "37         kangoo     150000                  1  gasoline         renault   \n",
       "54         signum     150000                  0   unknown            opel   \n",
       "...           ...        ...                ...       ...             ...   \n",
       "354336  outlander     150000                  4    petrol      mitsubishi   \n",
       "354338    unknown     125000                  3    petrol            opel   \n",
       "354346   c_klasse     150000                  9   unknown   mercedes_benz   \n",
       "354363     zafira     150000                  3    petrol            opel   \n",
       "354365    unknown      20000                  1   unknown  sonstige_autos   \n",
       "\n",
       "       NotRepaired  DateCreated  NumberOfPictures  PostalCode  LastSeen  \n",
       "0          unknown            3                 0       70435         4  \n",
       "15         unknown            3                 0       24148         3  \n",
       "32              no            3                 0       44145         3  \n",
       "37              no            3                 0       46483         3  \n",
       "54              no            3                 0       88433         4  \n",
       "...            ...          ...               ...         ...       ...  \n",
       "354336     unknown            3                 0       17034         3  \n",
       "354338     unknown            3                 0       41470         4  \n",
       "354346     unknown            3                 0       61169         3  \n",
       "354363          no            3                 0       26624         3  \n",
       "354365     unknown            3                 0       39576         4  \n",
       "\n",
       "[35831 rows x 16 columns]"
      ]
     },
     "execution_count": 14,
     "metadata": {},
     "output_type": "execute_result"
    }
   ],
   "source": [
    "#проверим теперь колонку мощности автомобилей\n",
    "\n",
    "data.query('Power== 0 or Power>5000')"
   ]
  },
  {
   "cell_type": "code",
   "execution_count": 15,
   "metadata": {},
   "outputs": [],
   "source": [
    "# аналогично избавляемся\n",
    "\n",
    "data = data.query('Power>0 and Power<5000')"
   ]
  },
  {
   "cell_type": "code",
   "execution_count": 16,
   "metadata": {},
   "outputs": [
    {
     "data": {
      "text/html": [
       "<div>\n",
       "<style scoped>\n",
       "    .dataframe tbody tr th:only-of-type {\n",
       "        vertical-align: middle;\n",
       "    }\n",
       "\n",
       "    .dataframe tbody tr th {\n",
       "        vertical-align: top;\n",
       "    }\n",
       "\n",
       "    .dataframe thead th {\n",
       "        text-align: right;\n",
       "    }\n",
       "</style>\n",
       "<table border=\"1\" class=\"dataframe\">\n",
       "  <thead>\n",
       "    <tr style=\"text-align: right;\">\n",
       "      <th></th>\n",
       "      <th>DateCrawled</th>\n",
       "      <th>Price</th>\n",
       "      <th>VehicleType</th>\n",
       "      <th>RegistrationYear</th>\n",
       "      <th>Gearbox</th>\n",
       "      <th>Power</th>\n",
       "      <th>Model</th>\n",
       "      <th>Kilometer</th>\n",
       "      <th>RegistrationMonth</th>\n",
       "      <th>FuelType</th>\n",
       "      <th>Brand</th>\n",
       "      <th>NotRepaired</th>\n",
       "      <th>DateCreated</th>\n",
       "      <th>NumberOfPictures</th>\n",
       "      <th>PostalCode</th>\n",
       "      <th>LastSeen</th>\n",
       "    </tr>\n",
       "  </thead>\n",
       "  <tbody>\n",
       "    <tr>\n",
       "      <th>9</th>\n",
       "      <td>3</td>\n",
       "      <td>999</td>\n",
       "      <td>small</td>\n",
       "      <td>1998</td>\n",
       "      <td>manual</td>\n",
       "      <td>101</td>\n",
       "      <td>golf</td>\n",
       "      <td>150000</td>\n",
       "      <td>0</td>\n",
       "      <td>unknown</td>\n",
       "      <td>volkswagen</td>\n",
       "      <td>unknown</td>\n",
       "      <td>3</td>\n",
       "      <td>0</td>\n",
       "      <td>27472</td>\n",
       "      <td>3</td>\n",
       "    </tr>\n",
       "    <tr>\n",
       "      <th>16</th>\n",
       "      <td>4</td>\n",
       "      <td>300</td>\n",
       "      <td>unknown</td>\n",
       "      <td>2016</td>\n",
       "      <td>unknown</td>\n",
       "      <td>60</td>\n",
       "      <td>polo</td>\n",
       "      <td>150000</td>\n",
       "      <td>0</td>\n",
       "      <td>petrol</td>\n",
       "      <td>volkswagen</td>\n",
       "      <td>unknown</td>\n",
       "      <td>4</td>\n",
       "      <td>0</td>\n",
       "      <td>38871</td>\n",
       "      <td>4</td>\n",
       "    </tr>\n",
       "    <tr>\n",
       "      <th>36</th>\n",
       "      <td>3</td>\n",
       "      <td>1600</td>\n",
       "      <td>other</td>\n",
       "      <td>1991</td>\n",
       "      <td>manual</td>\n",
       "      <td>75</td>\n",
       "      <td>kadett</td>\n",
       "      <td>70000</td>\n",
       "      <td>0</td>\n",
       "      <td>unknown</td>\n",
       "      <td>opel</td>\n",
       "      <td>unknown</td>\n",
       "      <td>3</td>\n",
       "      <td>0</td>\n",
       "      <td>2943</td>\n",
       "      <td>4</td>\n",
       "    </tr>\n",
       "    <tr>\n",
       "      <th>80</th>\n",
       "      <td>4</td>\n",
       "      <td>250</td>\n",
       "      <td>wagon</td>\n",
       "      <td>2000</td>\n",
       "      <td>manual</td>\n",
       "      <td>155</td>\n",
       "      <td>156</td>\n",
       "      <td>150000</td>\n",
       "      <td>0</td>\n",
       "      <td>petrol</td>\n",
       "      <td>alfa_romeo</td>\n",
       "      <td>yes</td>\n",
       "      <td>4</td>\n",
       "      <td>0</td>\n",
       "      <td>8396</td>\n",
       "      <td>4</td>\n",
       "    </tr>\n",
       "    <tr>\n",
       "      <th>92</th>\n",
       "      <td>3</td>\n",
       "      <td>250</td>\n",
       "      <td>unknown</td>\n",
       "      <td>2000</td>\n",
       "      <td>unknown</td>\n",
       "      <td>60</td>\n",
       "      <td>ka</td>\n",
       "      <td>150000</td>\n",
       "      <td>0</td>\n",
       "      <td>unknown</td>\n",
       "      <td>ford</td>\n",
       "      <td>unknown</td>\n",
       "      <td>3</td>\n",
       "      <td>0</td>\n",
       "      <td>51427</td>\n",
       "      <td>3</td>\n",
       "    </tr>\n",
       "    <tr>\n",
       "      <th>...</th>\n",
       "      <td>...</td>\n",
       "      <td>...</td>\n",
       "      <td>...</td>\n",
       "      <td>...</td>\n",
       "      <td>...</td>\n",
       "      <td>...</td>\n",
       "      <td>...</td>\n",
       "      <td>...</td>\n",
       "      <td>...</td>\n",
       "      <td>...</td>\n",
       "      <td>...</td>\n",
       "      <td>...</td>\n",
       "      <td>...</td>\n",
       "      <td>...</td>\n",
       "      <td>...</td>\n",
       "      <td>...</td>\n",
       "    </tr>\n",
       "    <tr>\n",
       "      <th>354260</th>\n",
       "      <td>3</td>\n",
       "      <td>399</td>\n",
       "      <td>other</td>\n",
       "      <td>1994</td>\n",
       "      <td>unknown</td>\n",
       "      <td>1103</td>\n",
       "      <td>3er</td>\n",
       "      <td>150000</td>\n",
       "      <td>0</td>\n",
       "      <td>unknown</td>\n",
       "      <td>bmw</td>\n",
       "      <td>unknown</td>\n",
       "      <td>3</td>\n",
       "      <td>0</td>\n",
       "      <td>56235</td>\n",
       "      <td>3</td>\n",
       "    </tr>\n",
       "    <tr>\n",
       "      <th>354297</th>\n",
       "      <td>3</td>\n",
       "      <td>400</td>\n",
       "      <td>wagon</td>\n",
       "      <td>1996</td>\n",
       "      <td>manual</td>\n",
       "      <td>150</td>\n",
       "      <td>a4</td>\n",
       "      <td>150000</td>\n",
       "      <td>0</td>\n",
       "      <td>petrol</td>\n",
       "      <td>audi</td>\n",
       "      <td>unknown</td>\n",
       "      <td>3</td>\n",
       "      <td>0</td>\n",
       "      <td>85110</td>\n",
       "      <td>3</td>\n",
       "    </tr>\n",
       "    <tr>\n",
       "      <th>354326</th>\n",
       "      <td>3</td>\n",
       "      <td>1300</td>\n",
       "      <td>small</td>\n",
       "      <td>1999</td>\n",
       "      <td>manual</td>\n",
       "      <td>75</td>\n",
       "      <td>2_reihe</td>\n",
       "      <td>125000</td>\n",
       "      <td>0</td>\n",
       "      <td>unknown</td>\n",
       "      <td>peugeot</td>\n",
       "      <td>unknown</td>\n",
       "      <td>3</td>\n",
       "      <td>0</td>\n",
       "      <td>35102</td>\n",
       "      <td>4</td>\n",
       "    </tr>\n",
       "    <tr>\n",
       "      <th>354329</th>\n",
       "      <td>3</td>\n",
       "      <td>350</td>\n",
       "      <td>small</td>\n",
       "      <td>1996</td>\n",
       "      <td>unknown</td>\n",
       "      <td>65</td>\n",
       "      <td>punto</td>\n",
       "      <td>150000</td>\n",
       "      <td>0</td>\n",
       "      <td>unknown</td>\n",
       "      <td>fiat</td>\n",
       "      <td>unknown</td>\n",
       "      <td>3</td>\n",
       "      <td>0</td>\n",
       "      <td>25436</td>\n",
       "      <td>4</td>\n",
       "    </tr>\n",
       "    <tr>\n",
       "      <th>354337</th>\n",
       "      <td>3</td>\n",
       "      <td>11500</td>\n",
       "      <td>sedan</td>\n",
       "      <td>2004</td>\n",
       "      <td>auto</td>\n",
       "      <td>445</td>\n",
       "      <td>7er</td>\n",
       "      <td>125000</td>\n",
       "      <td>0</td>\n",
       "      <td>petrol</td>\n",
       "      <td>bmw</td>\n",
       "      <td>unknown</td>\n",
       "      <td>3</td>\n",
       "      <td>0</td>\n",
       "      <td>4107</td>\n",
       "      <td>4</td>\n",
       "    </tr>\n",
       "  </tbody>\n",
       "</table>\n",
       "<p>19885 rows × 16 columns</p>\n",
       "</div>"
      ],
      "text/plain": [
       "        DateCrawled  Price VehicleType  RegistrationYear  Gearbox  Power  \\\n",
       "9                 3    999       small              1998   manual    101   \n",
       "16                4    300     unknown              2016  unknown     60   \n",
       "36                3   1600       other              1991   manual     75   \n",
       "80                4    250       wagon              2000   manual    155   \n",
       "92                3    250     unknown              2000  unknown     60   \n",
       "...             ...    ...         ...               ...      ...    ...   \n",
       "354260            3    399       other              1994  unknown   1103   \n",
       "354297            3    400       wagon              1996   manual    150   \n",
       "354326            3   1300       small              1999   manual     75   \n",
       "354329            3    350       small              1996  unknown     65   \n",
       "354337            3  11500       sedan              2004     auto    445   \n",
       "\n",
       "          Model  Kilometer  RegistrationMonth FuelType       Brand  \\\n",
       "9          golf     150000                  0  unknown  volkswagen   \n",
       "16         polo     150000                  0   petrol  volkswagen   \n",
       "36       kadett      70000                  0  unknown        opel   \n",
       "80          156     150000                  0   petrol  alfa_romeo   \n",
       "92           ka     150000                  0  unknown        ford   \n",
       "...         ...        ...                ...      ...         ...   \n",
       "354260      3er     150000                  0  unknown         bmw   \n",
       "354297       a4     150000                  0   petrol        audi   \n",
       "354326  2_reihe     125000                  0  unknown     peugeot   \n",
       "354329    punto     150000                  0  unknown        fiat   \n",
       "354337      7er     125000                  0   petrol         bmw   \n",
       "\n",
       "       NotRepaired  DateCreated  NumberOfPictures  PostalCode  LastSeen  \n",
       "9          unknown            3                 0       27472         3  \n",
       "16         unknown            4                 0       38871         4  \n",
       "36         unknown            3                 0        2943         4  \n",
       "80             yes            4                 0        8396         4  \n",
       "92         unknown            3                 0       51427         3  \n",
       "...            ...          ...               ...         ...       ...  \n",
       "354260     unknown            3                 0       56235         3  \n",
       "354297     unknown            3                 0       85110         3  \n",
       "354326     unknown            3                 0       35102         4  \n",
       "354329     unknown            3                 0       25436         4  \n",
       "354337     unknown            3                 0        4107         4  \n",
       "\n",
       "[19885 rows x 16 columns]"
      ]
     },
     "execution_count": 16,
     "metadata": {},
     "output_type": "execute_result"
    }
   ],
   "source": [
    "# проверяем последний артефакт\n",
    "\n",
    "data.query('RegistrationMonth== 0')"
   ]
  },
  {
   "cell_type": "markdown",
   "metadata": {},
   "source": [
    "В данном случае критичного здесь ничего нет. 0 месяц будет по логике будет как 'unknown'"
   ]
  },
  {
   "cell_type": "code",
   "execution_count": 17,
   "metadata": {},
   "outputs": [],
   "source": [
    "# убираем бесполезную 0 колонку\n",
    "\n",
    "data = data.drop('NumberOfPictures', axis=1)"
   ]
  },
  {
   "cell_type": "code",
   "execution_count": 18,
   "metadata": {},
   "outputs": [],
   "source": [
    "#обрабатываем прямым кодированием\n",
    "data_new = pd.get_dummies(data, drop_first=True)"
   ]
  },
  {
   "cell_type": "code",
   "execution_count": 19,
   "metadata": {},
   "outputs": [],
   "source": [
    "# для новых данных сделаем отдельные выборки и проведем масштабирование признаков\n",
    "features_new = data_new.drop('Price', axis=1)\n",
    "target_new = data_new['Price']\n",
    "\n",
    "train_features_new, test_features_new, train_target_new, test_target_new = train_test_split(features_new, target_new, random_state=100, test_size=0.25)\n"
   ]
  },
  {
   "cell_type": "code",
   "execution_count": 20,
   "metadata": {},
   "outputs": [
    {
     "name": "stderr",
     "output_type": "stream",
     "text": [
      "/tmp/ipykernel_74/4124068595.py:5: SettingWithCopyWarning: \n",
      "A value is trying to be set on a copy of a slice from a DataFrame.\n",
      "Try using .loc[row_indexer,col_indexer] = value instead\n",
      "\n",
      "See the caveats in the documentation: https://pandas.pydata.org/pandas-docs/stable/user_guide/indexing.html#returning-a-view-versus-a-copy\n",
      "  train_features_new[numeric] = scale.transform(train_features_new[numeric])\n",
      "/opt/conda/lib/python3.9/site-packages/pandas/core/indexing.py:1738: SettingWithCopyWarning: \n",
      "A value is trying to be set on a copy of a slice from a DataFrame.\n",
      "Try using .loc[row_indexer,col_indexer] = value instead\n",
      "\n",
      "See the caveats in the documentation: https://pandas.pydata.org/pandas-docs/stable/user_guide/indexing.html#returning-a-view-versus-a-copy\n",
      "  self._setitem_single_column(loc, value[:, i].tolist(), pi)\n",
      "/tmp/ipykernel_74/4124068595.py:6: SettingWithCopyWarning: \n",
      "A value is trying to be set on a copy of a slice from a DataFrame.\n",
      "Try using .loc[row_indexer,col_indexer] = value instead\n",
      "\n",
      "See the caveats in the documentation: https://pandas.pydata.org/pandas-docs/stable/user_guide/indexing.html#returning-a-view-versus-a-copy\n",
      "  test_features_new[numeric]= scale.transform(test_features_new[numeric])\n",
      "/opt/conda/lib/python3.9/site-packages/pandas/core/indexing.py:1738: SettingWithCopyWarning: \n",
      "A value is trying to be set on a copy of a slice from a DataFrame.\n",
      "Try using .loc[row_indexer,col_indexer] = value instead\n",
      "\n",
      "See the caveats in the documentation: https://pandas.pydata.org/pandas-docs/stable/user_guide/indexing.html#returning-a-view-versus-a-copy\n",
      "  self._setitem_single_column(loc, value[:, i].tolist(), pi)\n"
     ]
    }
   ],
   "source": [
    "numeric = ['RegistrationYear', 'Power', 'Kilometer', 'RegistrationMonth', 'PostalCode']\n",
    "scale = StandardScaler()\n",
    "scale.fit(train_features_new[numeric])\n",
    "\n",
    "train_features_new[numeric] = scale.transform(train_features_new[numeric])\n",
    "test_features_new[numeric]= scale.transform(test_features_new[numeric])"
   ]
  },
  {
   "cell_type": "markdown",
   "metadata": {},
   "source": [
    "Пропуски устранены. Сами данные раздлены на выборки и готовы к дальнейшей работе с различными моделями."
   ]
  },
  {
   "cell_type": "markdown",
   "metadata": {},
   "source": [
    "## Обучение моделей"
   ]
  },
  {
   "cell_type": "code",
   "execution_count": 21,
   "metadata": {},
   "outputs": [],
   "source": [
    "#обучим три модели: Модель, предсказывающая медиану, Линейную регрессию, Случайный лес и Градиентный бустинг\n",
    "# создадим простую модель\n",
    "\n",
    "class simple_model:\n",
    "    def fit(self, train_features_new, train_target_new):\n",
    "        self.median = train_target_new.median()\n",
    "        \n",
    "        \n",
    "    def predict(self, test_features_new):\n",
    "        x = pd.Series(self.median, index=test_features_new.index)\n",
    "        return x\n",
    "\n",
    "\n",
    "simple_model= simple_model()"
   ]
  },
  {
   "cell_type": "code",
   "execution_count": 22,
   "metadata": {},
   "outputs": [
    {
     "name": "stdout",
     "output_type": "stream",
     "text": [
      "CPU times: user 5.52 ms, sys: 260 µs, total: 5.78 ms\n",
      "Wall time: 5.34 ms\n"
     ]
    }
   ],
   "source": [
    "%%time\n",
    "\n",
    "simple_model.fit(train_features_new, train_target_new)"
   ]
  },
  {
   "cell_type": "markdown",
   "metadata": {},
   "source": [
    "Данная модель обучается очень быстро всего лишь 7 милисекунд."
   ]
  },
  {
   "cell_type": "code",
   "execution_count": 23,
   "metadata": {},
   "outputs": [],
   "source": [
    "#модель линейной регрессии\n",
    "model_linear = LinearRegression()"
   ]
  },
  {
   "cell_type": "code",
   "execution_count": 24,
   "metadata": {},
   "outputs": [
    {
     "name": "stdout",
     "output_type": "stream",
     "text": [
      "CPU times: user 32 s, sys: 34.9 s, total: 1min 6s\n",
      "Wall time: 1min 6s\n"
     ]
    },
    {
     "data": {
      "text/plain": [
       "LinearRegression()"
      ]
     },
     "execution_count": 24,
     "metadata": {},
     "output_type": "execute_result"
    }
   ],
   "source": [
    "%%time\n",
    "model_linear.fit(train_features_new, train_target_new)"
   ]
  },
  {
   "cell_type": "markdown",
   "metadata": {},
   "source": [
    "Тут уже более затратная работа более полминуты, машина явно думала:)"
   ]
  },
  {
   "cell_type": "code",
   "execution_count": 25,
   "metadata": {},
   "outputs": [],
   "source": [
    "# переходим к модели случайного леса\n",
    "model_forest = RandomForestRegressor(random_state=100, n_estimators=50,max_depth=7)\n",
    "\n",
    "#Пытался через GridSearchCV подобрать, но очень сильно зависает либо там многочасовой просчет(, пришлось вручную"
   ]
  },
  {
   "cell_type": "code",
   "execution_count": 26,
   "metadata": {},
   "outputs": [
    {
     "name": "stdout",
     "output_type": "stream",
     "text": [
      "CPU times: user 2min 15s, sys: 0 ns, total: 2min 15s\n",
      "Wall time: 2min 16s\n"
     ]
    },
    {
     "data": {
      "text/plain": [
       "RandomForestRegressor(max_depth=7, n_estimators=50, random_state=100)"
      ]
     },
     "execution_count": 26,
     "metadata": {},
     "output_type": "execute_result"
    }
   ],
   "source": [
    "%%time\n",
    "model_forest.fit(train_features_new, train_target_new)"
   ]
  },
  {
   "cell_type": "code",
   "execution_count": 58,
   "metadata": {},
   "outputs": [
    {
     "data": {
      "text/plain": [
       "RegistrationYear           0.563741\n",
       "Power                      0.320169\n",
       "Kilometer                  0.081064\n",
       "VehicleType_convertible    0.011869\n",
       "Model_transporter          0.009743\n",
       "VehicleType_unknown        0.006533\n",
       "NotRepaired_yes            0.002120\n",
       "FuelType_gasoline          0.001229\n",
       "Brand_volkswagen           0.000670\n",
       "Model_sl                   0.000312\n",
       "dtype: float64"
      ]
     },
     "execution_count": 58,
     "metadata": {},
     "output_type": "execute_result"
    }
   ],
   "source": [
    "imp_forest = pd.Series(model_forest.feature_importances_, index = train_features_new.columns)\n",
    "imp_top_forest = imp.sort_values(ascending=False).head(10)\n",
    "imp_top_forest"
   ]
  },
  {
   "cell_type": "code",
   "execution_count": 59,
   "metadata": {},
   "outputs": [
    {
     "data": {
      "text/plain": [
       "([0, 1, 2, 3, 4, 5, 6, 7, 8, 9],\n",
       " [Text(0, 0, ''),\n",
       "  Text(0, 0, ''),\n",
       "  Text(0, 0, ''),\n",
       "  Text(0, 0, ''),\n",
       "  Text(0, 0, ''),\n",
       "  Text(0, 0, ''),\n",
       "  Text(0, 0, ''),\n",
       "  Text(0, 0, ''),\n",
       "  Text(0, 0, ''),\n",
       "  Text(0, 0, '')])"
      ]
     },
     "execution_count": 59,
     "metadata": {},
     "output_type": "execute_result"
    },
    {
     "data": {
      "image/png": "[encoded data removed]",
      "text/plain": [
       "<Figure size 432x288 with 1 Axes>"
      ]
     },
     "metadata": {
      "needs_background": "light"
     },
     "output_type": "display_data"
    }
   ],
   "source": [
    "# Главными факторами вляющими на цену оказались год выпуска,мощность, пробег, что не удивительно. \n",
    "#Построим график топ 10 важных признаков\n",
    "plt.figsize=(30,20)\n",
    "plt.bar(imp_top_forest.index, imp_top_forest)\n",
    "plt.xticks(rotation=90)"
   ]
  },
  {
   "cell_type": "markdown",
   "metadata": {},
   "source": [
    "Лесу потребовалось более двух минут времени для обучения"
   ]
  },
  {
   "cell_type": "code",
   "execution_count": 27,
   "metadata": {},
   "outputs": [],
   "source": [
    "#теперь обучим последнюю модель градиентного бустинга\n",
    "\n",
    "lgbm_model = LGBMRegressor(n_estimators = 50, max_depth=7, min_child_samples=3)\n"
   ]
  },
  {
   "cell_type": "code",
   "execution_count": 28,
   "metadata": {},
   "outputs": [
    {
     "name": "stdout",
     "output_type": "stream",
     "text": [
      "CPU times: user 1min 5s, sys: 366 ms, total: 1min 6s\n",
      "Wall time: 1min 6s\n"
     ]
    },
    {
     "data": {
      "text/plain": [
       "LGBMRegressor(max_depth=7, min_child_samples=3, n_estimators=50)"
      ]
     },
     "execution_count": 28,
     "metadata": {},
     "output_type": "execute_result"
    }
   ],
   "source": [
    "%%time\n",
    "lgbm_model.fit(train_features_new, train_target_new)"
   ]
  },
  {
   "cell_type": "markdown",
   "metadata": {},
   "source": [
    "На обучение здесь ушло аналогичное время как у линейной регрессии"
   ]
  },
  {
   "cell_type": "code",
   "execution_count": 60,
   "metadata": {},
   "outputs": [
    {
     "data": {
      "text/plain": [
       "RegistrationYear           0.563741\n",
       "Power                      0.320169\n",
       "Kilometer                  0.081064\n",
       "VehicleType_convertible    0.011869\n",
       "Model_transporter          0.009743\n",
       "VehicleType_unknown        0.006533\n",
       "NotRepaired_yes            0.002120\n",
       "FuelType_gasoline          0.001229\n",
       "Brand_volkswagen           0.000670\n",
       "Model_sl                   0.000312\n",
       "dtype: float64"
      ]
     },
     "execution_count": 60,
     "metadata": {},
     "output_type": "execute_result"
    }
   ],
   "source": [
    "# узнаем мнение модели градиентного бустинга касательно важности фаткоров\n",
    "imp_lgbm = pd.Series(lgbm_model.feature_importances_, index = train_features_new.columns)\n",
    "imp_top_lgbm = imp.sort_values(ascending=False).head(10)\n",
    "imp_top_lgbm"
   ]
  },
  {
   "cell_type": "markdown",
   "metadata": {},
   "source": [
    "Мнения двух моделей а важности совпадают график стоить уже не будем."
   ]
  },
  {
   "cell_type": "markdown",
   "metadata": {},
   "source": [
    "## Анализ моделей"
   ]
  },
  {
   "cell_type": "markdown",
   "metadata": {},
   "source": [
    "Проведем предсказания и посчитаем метрику MSE для каждой модели\n"
   ]
  },
  {
   "cell_type": "code",
   "execution_count": 29,
   "metadata": {},
   "outputs": [
    {
     "name": "stdout",
     "output_type": "stream",
     "text": [
      "CPU times: user 1.19 ms, sys: 0 ns, total: 1.19 ms\n",
      "Wall time: 1.2 ms\n"
     ]
    }
   ],
   "source": [
    "%%time\n",
    "predict_simple = simple_model.predict(test_features_new)"
   ]
  },
  {
   "cell_type": "markdown",
   "metadata": {},
   "source": [
    "Модель предсказала также бысто, как и обучалась."
   ]
  },
  {
   "cell_type": "code",
   "execution_count": 30,
   "metadata": {},
   "outputs": [
    {
     "name": "stdout",
     "output_type": "stream",
     "text": [
      "MSE: 23557576.552441254\n",
      "RMSE: 4853.6147923420185\n"
     ]
    }
   ],
   "source": [
    "print('MSE:', mean_squared_error(test_target_new, predict_simple))\n",
    "print('RMSE:', (mean_squared_error(test_target_new, predict_simple))**0.5)"
   ]
  },
  {
   "cell_type": "markdown",
   "metadata": {},
   "source": [
    "Такая модель всреднем ошибается на 5000 рублей по цене. Проверим другие."
   ]
  },
  {
   "cell_type": "code",
   "execution_count": 31,
   "metadata": {},
   "outputs": [
    {
     "name": "stdout",
     "output_type": "stream",
     "text": [
      "CPU times: user 74.9 ms, sys: 68.1 ms, total: 143 ms\n",
      "Wall time: 92.3 ms\n"
     ]
    }
   ],
   "source": [
    "%%time\n",
    "predict_linear = model_linear.predict(test_features_new)"
   ]
  },
  {
   "cell_type": "markdown",
   "metadata": {},
   "source": [
    "Предсказала модель тоже очень быстро. Проверим метрики."
   ]
  },
  {
   "cell_type": "code",
   "execution_count": 32,
   "metadata": {},
   "outputs": [
    {
     "name": "stdout",
     "output_type": "stream",
     "text": [
      "MSE: 7200285.915136034\n",
      "RMSE: 2683.3348496108406\n"
     ]
    }
   ],
   "source": [
    "print('MSE:', mean_squared_error(test_target_new, predict_linear))\n",
    "print('RMSE:', (mean_squared_error(test_target_new, predict_linear))**0.5)"
   ]
  },
  {
   "cell_type": "markdown",
   "metadata": {},
   "source": [
    "Тут уже лучше результат эта модель ошибается на более 2,6 тысячи рублей всреднем."
   ]
  },
  {
   "cell_type": "code",
   "execution_count": 33,
   "metadata": {},
   "outputs": [
    {
     "name": "stdout",
     "output_type": "stream",
     "text": [
      "CPU times: user 252 ms, sys: 56.3 ms, total: 309 ms\n",
      "Wall time: 307 ms\n"
     ]
    }
   ],
   "source": [
    "%%time\n",
    "predict_forest = model_forest.predict(test_features_new)"
   ]
  },
  {
   "cell_type": "markdown",
   "metadata": {},
   "source": [
    "У этой модели предсказание уже чуть медление, провда речь о милисекундах."
   ]
  },
  {
   "cell_type": "code",
   "execution_count": 34,
   "metadata": {},
   "outputs": [
    {
     "name": "stdout",
     "output_type": "stream",
     "text": [
      "MSE: 4543746.44814149\n",
      "RMSE: 2131.6065415881726\n"
     ]
    }
   ],
   "source": [
    "print('MSE:', mean_squared_error(test_target_new, predict_forest))\n",
    "print('RMSE:', (mean_squared_error(test_target_new, predict_forest))**0.5)"
   ]
  },
  {
   "cell_type": "markdown",
   "metadata": {},
   "source": [
    "Ошибка еще снизилась на практически на половину тысячи рублей. Проверим последнюю модель"
   ]
  },
  {
   "cell_type": "code",
   "execution_count": 35,
   "metadata": {},
   "outputs": [
    {
     "name": "stdout",
     "output_type": "stream",
     "text": [
      "CPU times: user 511 ms, sys: 71.2 ms, total: 582 ms\n",
      "Wall time: 573 ms\n"
     ]
    }
   ],
   "source": [
    "%%time\n",
    "lgbm_predict = lgbm_model.predict(test_features_new)"
   ]
  },
  {
   "cell_type": "markdown",
   "metadata": {},
   "source": [
    "Предсказание получилось в два раза дольше, чем у леса"
   ]
  },
  {
   "cell_type": "code",
   "execution_count": 36,
   "metadata": {},
   "outputs": [
    {
     "name": "stdout",
     "output_type": "stream",
     "text": [
      "MSE: 3116912.6461746846\n",
      "RMSE: 1765.4780220027335\n"
     ]
    }
   ],
   "source": [
    "print('MSE:', mean_squared_error(test_target_new, lgbm_predict))\n",
    "print('RMSE:', (mean_squared_error(test_target_new, lgbm_predict))**0.5)"
   ]
  },
  {
   "cell_type": "markdown",
   "metadata": {},
   "source": [
    "Метрики улучшились еще. Ошибка всреднем составляет менее 2 тысяч рублей. "
   ]
  },
  {
   "cell_type": "markdown",
   "metadata": {},
   "source": [
    "Таким образом, самой эффективной моделью оказалась модель градиентного бустинга. Но из всех изученных моделей она оказалась и самой медленной при формировании предсказания. Как показало исследование более быстрые модели склоны чаще ошибаться, медленные модели наоборот имеют меньше ошибок. Тут как обычно встает главный вопрос соотношения скорости и качества. Если на предсказаниях различия скорости не так бросаются в глаза, то на стадии обучения моделей это более заметно, хотя модель градиентного бустинга смогла обучиться быстрее леса. Все же рекомендовано использовать модель градиентного бустинга, не смотря на ее медлительность при предсказаниях."
   ]
  },
  {
   "cell_type": "code",
   "execution_count": 67,
   "metadata": {
    "scrolled": true
   },
   "outputs": [
    {
     "data": {
      "text/html": [
       "<div>\n",
       "<style scoped>\n",
       "    .dataframe tbody tr th:only-of-type {\n",
       "        vertical-align: middle;\n",
       "    }\n",
       "\n",
       "    .dataframe tbody tr th {\n",
       "        vertical-align: top;\n",
       "    }\n",
       "\n",
       "    .dataframe thead th {\n",
       "        text-align: right;\n",
       "    }\n",
       "</style>\n",
       "<table border=\"1\" class=\"dataframe\">\n",
       "  <thead>\n",
       "    <tr style=\"text-align: right;\">\n",
       "      <th></th>\n",
       "      <th>Качество_метрики_RSME(rub.)</th>\n",
       "      <th>Скорость_обучения(s.)</th>\n",
       "      <th>Скорость_предсказания(ms.)</th>\n",
       "    </tr>\n",
       "  </thead>\n",
       "  <tbody>\n",
       "    <tr>\n",
       "      <th>Простая_модель</th>\n",
       "      <td>4853</td>\n",
       "      <td>0.00578</td>\n",
       "      <td>1.2</td>\n",
       "    </tr>\n",
       "    <tr>\n",
       "      <th>Линейная_регрессия</th>\n",
       "      <td>2683</td>\n",
       "      <td>66.00000</td>\n",
       "      <td>143.0</td>\n",
       "    </tr>\n",
       "    <tr>\n",
       "      <th>Случайный_лес</th>\n",
       "      <td>2131</td>\n",
       "      <td>135.00000</td>\n",
       "      <td>309.0</td>\n",
       "    </tr>\n",
       "    <tr>\n",
       "      <th>Градиентный_бустинг</th>\n",
       "      <td>1765</td>\n",
       "      <td>66.00000</td>\n",
       "      <td>582.0</td>\n",
       "    </tr>\n",
       "  </tbody>\n",
       "</table>\n",
       "</div>"
      ],
      "text/plain": [
       "                     Качество_метрики_RSME(rub.)  Скорость_обучения(s.)  \\\n",
       "Простая_модель                              4853                0.00578   \n",
       "Линейная_регрессия                          2683               66.00000   \n",
       "Случайный_лес                               2131              135.00000   \n",
       "Градиентный_бустинг                         1765               66.00000   \n",
       "\n",
       "                     Скорость_предсказания(ms.)  \n",
       "Простая_модель                              1.2  \n",
       "Линейная_регрессия                        143.0  \n",
       "Случайный_лес                             309.0  \n",
       "Градиентный_бустинг                       582.0  "
      ]
     },
     "metadata": {},
     "output_type": "display_data"
    }
   ],
   "source": [
    "name = ['Простая_модель', 'Линейная_регрессия', 'Случайный_лес', 'Градиентный_бустинг']\n",
    "\n",
    "columns = ['Качество_метрики_RSME(rub.)', 'Скорость_обучения(s.)', 'Скорость_предсказания(ms.)']\n",
    "\n",
    "results = [[4853, 0.00578, 1.2],\n",
    "          [2683, 66, 143],\n",
    "          [2131, 135, 309],\n",
    "          [1765, 66, 582]]\n",
    "\n",
    "display(pd.DataFrame(results, index=name, columns=columns))"
   ]
  }
 ],
 "metadata": {
  "ExecuteTimeLog": [
   {
    "duration": 1179,
    "start_time": "2022-04-12T10:48:53.150Z"
   },
   {
    "duration": 110,
    "start_time": "2022-04-12T10:50:03.387Z"
   },
   {
    "duration": 20,
    "start_time": "2022-04-12T10:50:11.169Z"
   },
   {
    "duration": 853,
    "start_time": "2022-04-12T10:50:21.404Z"
   },
   {
    "duration": 1393,
    "start_time": "2022-04-12T13:05:20.089Z"
   },
   {
    "duration": 785,
    "start_time": "2022-04-12T13:05:21.484Z"
   },
   {
    "duration": 20,
    "start_time": "2022-04-12T13:05:42.553Z"
   },
   {
    "duration": 127,
    "start_time": "2022-04-12T13:07:15.793Z"
   },
   {
    "duration": 145,
    "start_time": "2022-04-12T13:08:30.254Z"
   },
   {
    "duration": 116,
    "start_time": "2022-04-12T13:09:08.712Z"
   },
   {
    "duration": 2633,
    "start_time": "2022-04-12T13:17:59.213Z"
   },
   {
    "duration": 94,
    "start_time": "2022-04-12T13:18:13.197Z"
   },
   {
    "duration": 136,
    "start_time": "2022-04-12T13:18:31.808Z"
   },
   {
    "duration": 1464,
    "start_time": "2022-04-13T06:46:09.982Z"
   },
   {
    "duration": 7720,
    "start_time": "2022-04-13T06:46:11.449Z"
   },
   {
    "duration": 23,
    "start_time": "2022-04-13T06:46:19.171Z"
   },
   {
    "duration": 158,
    "start_time": "2022-04-13T06:46:19.197Z"
   },
   {
    "duration": 132,
    "start_time": "2022-04-13T06:46:19.358Z"
   },
   {
    "duration": 104,
    "start_time": "2022-04-13T06:46:19.492Z"
   },
   {
    "duration": 157,
    "start_time": "2022-04-13T06:46:19.598Z"
   },
   {
    "duration": 3,
    "start_time": "2022-04-13T06:50:21.683Z"
   },
   {
    "duration": 1027,
    "start_time": "2022-04-13T06:51:06.115Z"
   },
   {
    "duration": 3,
    "start_time": "2022-04-13T06:54:17.513Z"
   },
   {
    "duration": 3,
    "start_time": "2022-04-13T07:16:08.585Z"
   },
   {
    "duration": 3,
    "start_time": "2022-04-13T07:17:09.759Z"
   },
   {
    "duration": 67,
    "start_time": "2022-04-13T07:27:13.264Z"
   },
   {
    "duration": 54,
    "start_time": "2022-04-13T07:27:28.975Z"
   },
   {
    "duration": 178,
    "start_time": "2022-04-13T07:28:02.210Z"
   },
   {
    "duration": 4,
    "start_time": "2022-04-13T07:28:06.263Z"
   },
   {
    "duration": 12,
    "start_time": "2022-04-13T07:28:24.823Z"
   },
   {
    "duration": 3,
    "start_time": "2022-04-13T07:28:34.023Z"
   },
   {
    "duration": 13,
    "start_time": "2022-04-13T07:28:34.766Z"
   },
   {
    "duration": 4,
    "start_time": "2022-04-13T07:28:45.582Z"
   },
   {
    "duration": 10,
    "start_time": "2022-04-13T07:28:55.878Z"
   },
   {
    "duration": 4,
    "start_time": "2022-04-13T07:29:18.735Z"
   },
   {
    "duration": 10,
    "start_time": "2022-04-13T07:29:32.167Z"
   },
   {
    "duration": 4,
    "start_time": "2022-04-13T07:29:38.686Z"
   },
   {
    "duration": 13,
    "start_time": "2022-04-13T07:29:55.630Z"
   },
   {
    "duration": 10,
    "start_time": "2022-04-13T07:30:40.974Z"
   },
   {
    "duration": 3,
    "start_time": "2022-04-13T08:24:46.912Z"
   },
   {
    "duration": 188,
    "start_time": "2022-04-13T08:28:32.472Z"
   },
   {
    "duration": 3,
    "start_time": "2022-04-13T08:28:38.393Z"
   },
   {
    "duration": 10,
    "start_time": "2022-04-13T08:28:57.112Z"
   },
   {
    "duration": 11,
    "start_time": "2022-04-13T08:29:05.777Z"
   },
   {
    "duration": 5,
    "start_time": "2022-04-13T08:30:49.464Z"
   },
   {
    "duration": 16728,
    "start_time": "2022-04-13T08:31:57.376Z"
   },
   {
    "duration": 4,
    "start_time": "2022-04-13T08:43:28.669Z"
   },
   {
    "duration": 3,
    "start_time": "2022-04-13T08:43:53.855Z"
   },
   {
    "duration": 320,
    "start_time": "2022-04-13T08:44:25.295Z"
   },
   {
    "duration": 759,
    "start_time": "2022-04-13T08:47:10.272Z"
   },
   {
    "duration": 862,
    "start_time": "2022-04-13T08:47:52.982Z"
   },
   {
    "duration": 219,
    "start_time": "2022-04-13T09:24:48.649Z"
   },
   {
    "duration": 45,
    "start_time": "2022-04-13T09:24:54.834Z"
   },
   {
    "duration": 111,
    "start_time": "2022-04-13T09:24:57.482Z"
   },
   {
    "duration": 935,
    "start_time": "2022-04-13T09:25:23.722Z"
   },
   {
    "duration": 4,
    "start_time": "2022-04-13T09:26:11.218Z"
   },
   {
    "duration": 561,
    "start_time": "2022-04-13T09:29:04.778Z"
   },
   {
    "duration": 467,
    "start_time": "2022-04-13T09:32:04.386Z"
   },
   {
    "duration": 914,
    "start_time": "2022-04-13T09:32:45.930Z"
   },
   {
    "duration": 373,
    "start_time": "2022-04-13T09:34:03.426Z"
   },
   {
    "duration": 1440,
    "start_time": "2022-04-13T09:34:29.908Z"
   },
   {
    "duration": 788,
    "start_time": "2022-04-13T09:34:31.350Z"
   },
   {
    "duration": 22,
    "start_time": "2022-04-13T09:34:32.139Z"
   },
   {
    "duration": 147,
    "start_time": "2022-04-13T09:34:32.162Z"
   },
   {
    "duration": 172,
    "start_time": "2022-04-13T09:34:32.311Z"
   },
   {
    "duration": 104,
    "start_time": "2022-04-13T09:34:32.484Z"
   },
   {
    "duration": 156,
    "start_time": "2022-04-13T09:34:32.590Z"
   },
   {
    "duration": 292,
    "start_time": "2022-04-13T09:34:32.748Z"
   },
   {
    "duration": 42,
    "start_time": "2022-04-13T09:34:33.042Z"
   },
   {
    "duration": 127,
    "start_time": "2022-04-13T09:34:33.086Z"
   },
   {
    "duration": 903,
    "start_time": "2022-04-13T09:34:33.214Z"
   },
   {
    "duration": 934,
    "start_time": "2022-04-13T09:34:34.119Z"
   },
   {
    "duration": 5,
    "start_time": "2022-04-13T09:34:35.055Z"
   },
   {
    "duration": 12,
    "start_time": "2022-04-13T09:34:35.062Z"
   },
   {
    "duration": 2,
    "start_time": "2022-04-13T09:34:35.076Z"
   },
   {
    "duration": 483,
    "start_time": "2022-04-13T09:34:35.080Z"
   },
   {
    "duration": 4,
    "start_time": "2022-04-13T09:34:35.565Z"
   },
   {
    "duration": 53,
    "start_time": "2022-04-13T09:35:57.280Z"
   },
   {
    "duration": 1415,
    "start_time": "2022-04-13T09:36:02.450Z"
   },
   {
    "duration": 939,
    "start_time": "2022-04-13T09:36:03.868Z"
   },
   {
    "duration": 30,
    "start_time": "2022-04-13T09:36:04.808Z"
   },
   {
    "duration": 163,
    "start_time": "2022-04-13T09:36:04.840Z"
   },
   {
    "duration": 162,
    "start_time": "2022-04-13T09:36:05.006Z"
   },
   {
    "duration": 122,
    "start_time": "2022-04-13T09:36:05.170Z"
   },
   {
    "duration": 142,
    "start_time": "2022-04-13T09:36:05.293Z"
   },
   {
    "duration": 290,
    "start_time": "2022-04-13T09:36:05.437Z"
   },
   {
    "duration": 35,
    "start_time": "2022-04-13T09:36:05.729Z"
   },
   {
    "duration": 110,
    "start_time": "2022-04-13T09:36:05.767Z"
   },
   {
    "duration": 932,
    "start_time": "2022-04-13T09:36:05.879Z"
   },
   {
    "duration": 609,
    "start_time": "2022-04-13T09:36:06.813Z"
   },
   {
    "duration": 139,
    "start_time": "2022-04-13T09:36:07.424Z"
   },
   {
    "duration": 0,
    "start_time": "2022-04-13T09:36:07.566Z"
   },
   {
    "duration": 0,
    "start_time": "2022-04-13T09:36:07.567Z"
   },
   {
    "duration": 0,
    "start_time": "2022-04-13T09:36:07.568Z"
   },
   {
    "duration": 0,
    "start_time": "2022-04-13T09:36:07.569Z"
   },
   {
    "duration": 0,
    "start_time": "2022-04-13T09:36:07.570Z"
   },
   {
    "duration": 0,
    "start_time": "2022-04-13T09:36:07.572Z"
   },
   {
    "duration": 52,
    "start_time": "2022-04-13T09:36:20.136Z"
   },
   {
    "duration": 313,
    "start_time": "2022-04-13T09:37:51.536Z"
   },
   {
    "duration": 3,
    "start_time": "2022-04-13T09:38:41.032Z"
   },
   {
    "duration": 420,
    "start_time": "2022-04-13T09:38:41.840Z"
   },
   {
    "duration": 214,
    "start_time": "2022-04-13T09:38:52.192Z"
   },
   {
    "duration": 197,
    "start_time": "2022-04-13T09:39:19.632Z"
   },
   {
    "duration": 5,
    "start_time": "2022-04-13T09:39:23.352Z"
   },
   {
    "duration": 15538,
    "start_time": "2022-04-13T09:39:24.304Z"
   },
   {
    "duration": 1651,
    "start_time": "2022-04-13T09:40:20.671Z"
   },
   {
    "duration": 902,
    "start_time": "2022-04-13T09:40:22.325Z"
   },
   {
    "duration": 28,
    "start_time": "2022-04-13T09:40:23.228Z"
   },
   {
    "duration": 178,
    "start_time": "2022-04-13T09:40:23.258Z"
   },
   {
    "duration": 165,
    "start_time": "2022-04-13T09:40:23.439Z"
   },
   {
    "duration": 109,
    "start_time": "2022-04-13T09:40:23.605Z"
   },
   {
    "duration": 126,
    "start_time": "2022-04-13T09:40:23.722Z"
   },
   {
    "duration": 281,
    "start_time": "2022-04-13T09:40:23.850Z"
   },
   {
    "duration": 39,
    "start_time": "2022-04-13T09:40:24.134Z"
   },
   {
    "duration": 139,
    "start_time": "2022-04-13T09:40:24.178Z"
   },
   {
    "duration": 1171,
    "start_time": "2022-04-13T09:40:24.319Z"
   },
   {
    "duration": 653,
    "start_time": "2022-04-13T09:40:25.492Z"
   },
   {
    "duration": 45,
    "start_time": "2022-04-13T09:40:26.147Z"
   },
   {
    "duration": 4,
    "start_time": "2022-04-13T09:40:26.195Z"
   },
   {
    "duration": 29,
    "start_time": "2022-04-13T09:40:26.200Z"
   },
   {
    "duration": 3,
    "start_time": "2022-04-13T09:40:26.231Z"
   },
   {
    "duration": 624,
    "start_time": "2022-04-13T09:40:26.236Z"
   },
   {
    "duration": 0,
    "start_time": "2022-04-13T09:40:26.862Z"
   },
   {
    "duration": 0,
    "start_time": "2022-04-13T09:40:26.864Z"
   },
   {
    "duration": 957,
    "start_time": "2022-04-13T09:40:52.228Z"
   },
   {
    "duration": 101,
    "start_time": "2022-04-13T09:46:56.629Z"
   },
   {
    "duration": 51,
    "start_time": "2022-04-13T09:47:07.949Z"
   },
   {
    "duration": 432,
    "start_time": "2022-04-13T09:47:24.012Z"
   },
   {
    "duration": 3178,
    "start_time": "2022-04-13T09:47:41.752Z"
   },
   {
    "duration": 819,
    "start_time": "2022-04-13T09:47:47.319Z"
   },
   {
    "duration": 21,
    "start_time": "2022-04-13T09:47:48.655Z"
   },
   {
    "duration": 155,
    "start_time": "2022-04-13T09:47:51.399Z"
   },
   {
    "duration": 131,
    "start_time": "2022-04-13T09:47:53.695Z"
   },
   {
    "duration": 87,
    "start_time": "2022-04-13T09:47:56.167Z"
   },
   {
    "duration": 136,
    "start_time": "2022-04-13T09:47:58.063Z"
   },
   {
    "duration": 288,
    "start_time": "2022-04-13T09:48:00.464Z"
   },
   {
    "duration": 145,
    "start_time": "2022-04-13T09:54:13.335Z"
   },
   {
    "duration": 34,
    "start_time": "2022-04-13T09:54:14.646Z"
   },
   {
    "duration": 62,
    "start_time": "2022-04-13T09:54:19.711Z"
   },
   {
    "duration": 101,
    "start_time": "2022-04-13T09:55:05.224Z"
   },
   {
    "duration": 54,
    "start_time": "2022-04-13T09:55:14.287Z"
   },
   {
    "duration": 112,
    "start_time": "2022-04-13T09:56:10.982Z"
   },
   {
    "duration": 53,
    "start_time": "2022-04-13T09:56:26.599Z"
   },
   {
    "duration": 53,
    "start_time": "2022-04-13T09:59:37.982Z"
   },
   {
    "duration": 123,
    "start_time": "2022-04-13T09:59:42.663Z"
   },
   {
    "duration": 121,
    "start_time": "2022-04-13T09:59:49.534Z"
   },
   {
    "duration": 34,
    "start_time": "2022-04-13T09:59:55.510Z"
   },
   {
    "duration": 126,
    "start_time": "2022-04-13T09:59:59.357Z"
   },
   {
    "duration": 59,
    "start_time": "2022-04-13T10:01:01.199Z"
   },
   {
    "duration": 3030,
    "start_time": "2022-04-13T10:01:18.993Z"
   },
   {
    "duration": 3,
    "start_time": "2022-04-13T10:13:01.989Z"
   },
   {
    "duration": 1731,
    "start_time": "2022-04-13T10:13:19.421Z"
   },
   {
    "duration": 2445,
    "start_time": "2022-04-13T10:13:30.757Z"
   },
   {
    "duration": 4598,
    "start_time": "2022-04-13T10:13:46.141Z"
   },
   {
    "duration": 4,
    "start_time": "2022-04-13T10:14:18.254Z"
   },
   {
    "duration": 2492,
    "start_time": "2022-04-13T10:14:35.478Z"
   },
   {
    "duration": 2881,
    "start_time": "2022-04-13T10:15:05.084Z"
   },
   {
    "duration": 4,
    "start_time": "2022-04-13T10:15:26.639Z"
   },
   {
    "duration": 890,
    "start_time": "2022-04-13T10:15:26.645Z"
   },
   {
    "duration": 15,
    "start_time": "2022-04-13T10:15:27.537Z"
   },
   {
    "duration": 143,
    "start_time": "2022-04-13T10:15:27.553Z"
   },
   {
    "duration": 143,
    "start_time": "2022-04-13T10:15:27.699Z"
   },
   {
    "duration": 125,
    "start_time": "2022-04-13T10:15:27.844Z"
   },
   {
    "duration": 133,
    "start_time": "2022-04-13T10:15:27.972Z"
   },
   {
    "duration": 280,
    "start_time": "2022-04-13T10:15:28.107Z"
   },
   {
    "duration": 35,
    "start_time": "2022-04-13T10:15:28.389Z"
   },
   {
    "duration": 118,
    "start_time": "2022-04-13T10:15:28.426Z"
   },
   {
    "duration": 1459,
    "start_time": "2022-04-13T10:15:28.548Z"
   },
   {
    "duration": 571,
    "start_time": "2022-04-13T10:15:30.009Z"
   },
   {
    "duration": 380,
    "start_time": "2022-04-13T10:15:30.582Z"
   },
   {
    "duration": 5,
    "start_time": "2022-04-13T10:15:30.966Z"
   },
   {
    "duration": 35,
    "start_time": "2022-04-13T10:15:30.973Z"
   },
   {
    "duration": 22,
    "start_time": "2022-04-13T10:15:31.010Z"
   },
   {
    "duration": 244,
    "start_time": "2022-04-13T10:15:31.034Z"
   },
   {
    "duration": 0,
    "start_time": "2022-04-13T10:15:31.280Z"
   },
   {
    "duration": 0,
    "start_time": "2022-04-13T10:15:31.282Z"
   },
   {
    "duration": 54,
    "start_time": "2022-04-13T10:17:14.900Z"
   },
   {
    "duration": 199,
    "start_time": "2022-04-13T10:17:49.037Z"
   },
   {
    "duration": 193,
    "start_time": "2022-04-13T10:17:57.828Z"
   },
   {
    "duration": 171,
    "start_time": "2022-04-13T10:18:14.236Z"
   },
   {
    "duration": 179,
    "start_time": "2022-04-13T10:18:22.045Z"
   },
   {
    "duration": 113,
    "start_time": "2022-04-13T10:18:35.051Z"
   },
   {
    "duration": 388,
    "start_time": "2022-04-13T10:23:55.172Z"
   },
   {
    "duration": 481,
    "start_time": "2022-04-13T10:23:58.627Z"
   },
   {
    "duration": 136,
    "start_time": "2022-04-13T10:24:00.372Z"
   },
   {
    "duration": 138,
    "start_time": "2022-04-13T10:24:08.764Z"
   },
   {
    "duration": 307,
    "start_time": "2022-04-13T10:24:10.344Z"
   },
   {
    "duration": 1645,
    "start_time": "2022-04-13T10:24:12.379Z"
   },
   {
    "duration": 1347,
    "start_time": "2022-04-13T10:24:45.476Z"
   },
   {
    "duration": 941,
    "start_time": "2022-04-13T10:24:49.372Z"
   },
   {
    "duration": 418,
    "start_time": "2022-04-13T10:24:51.667Z"
   },
   {
    "duration": 4,
    "start_time": "2022-04-13T10:25:01.884Z"
   },
   {
    "duration": 12,
    "start_time": "2022-04-13T10:25:03.483Z"
   },
   {
    "duration": 3,
    "start_time": "2022-04-13T10:25:05.914Z"
   },
   {
    "duration": 130833,
    "start_time": "2022-04-13T10:25:06.891Z"
   },
   {
    "duration": 143569,
    "start_time": "2022-04-13T10:27:35.963Z"
   },
   {
    "duration": 6,
    "start_time": "2022-04-13T10:31:11.292Z"
   },
   {
    "duration": 1282789,
    "start_time": "2022-04-13T10:31:14.322Z"
   },
   {
    "duration": 3,
    "start_time": "2022-04-13T10:53:16.097Z"
   },
   {
    "duration": 2842402,
    "start_time": "2022-04-13T10:53:17.681Z"
   },
   {
    "duration": 8,
    "start_time": "2022-04-13T11:41:27.127Z"
   },
   {
    "duration": 909,
    "start_time": "2022-04-13T11:41:27.138Z"
   },
   {
    "duration": 18,
    "start_time": "2022-04-13T11:41:28.049Z"
   },
   {
    "duration": 177,
    "start_time": "2022-04-13T11:41:28.069Z"
   },
   {
    "duration": 158,
    "start_time": "2022-04-13T11:41:28.249Z"
   },
   {
    "duration": 124,
    "start_time": "2022-04-13T11:41:28.408Z"
   },
   {
    "duration": 167,
    "start_time": "2022-04-13T11:41:28.535Z"
   },
   {
    "duration": 651,
    "start_time": "2022-04-13T11:41:28.704Z"
   },
   {
    "duration": 112,
    "start_time": "2022-04-13T11:41:29.357Z"
   },
   {
    "duration": 228,
    "start_time": "2022-04-13T11:41:29.471Z"
   },
   {
    "duration": 1504,
    "start_time": "2022-04-13T11:41:29.701Z"
   },
   {
    "duration": 873,
    "start_time": "2022-04-13T11:41:31.207Z"
   },
   {
    "duration": 400,
    "start_time": "2022-04-13T11:41:32.082Z"
   },
   {
    "duration": 3,
    "start_time": "2022-04-13T11:41:32.485Z"
   },
   {
    "duration": 10,
    "start_time": "2022-04-13T11:41:32.490Z"
   },
   {
    "duration": 2,
    "start_time": "2022-04-13T11:41:32.502Z"
   },
   {
    "duration": 1371,
    "start_time": "2022-04-13T11:41:50.483Z"
   },
   {
    "duration": 1453,
    "start_time": "2022-04-13T11:43:52.255Z"
   },
   {
    "duration": 852,
    "start_time": "2022-04-13T11:43:54.920Z"
   },
   {
    "duration": 21,
    "start_time": "2022-04-13T11:43:56.367Z"
   },
   {
    "duration": 187,
    "start_time": "2022-04-13T11:43:57.879Z"
   },
   {
    "duration": 169,
    "start_time": "2022-04-13T11:43:58.311Z"
   },
   {
    "duration": 178,
    "start_time": "2022-04-13T11:43:58.672Z"
   },
   {
    "duration": 263,
    "start_time": "2022-04-13T11:43:58.880Z"
   },
   {
    "duration": 772,
    "start_time": "2022-04-13T11:43:59.146Z"
   },
   {
    "duration": 127,
    "start_time": "2022-04-13T11:43:59.930Z"
   },
   {
    "duration": 203,
    "start_time": "2022-04-13T11:44:00.061Z"
   },
   {
    "duration": 1712,
    "start_time": "2022-04-13T11:44:00.267Z"
   },
   {
    "duration": 817,
    "start_time": "2022-04-13T11:44:01.981Z"
   },
   {
    "duration": 365,
    "start_time": "2022-04-13T11:44:02.800Z"
   },
   {
    "duration": 4,
    "start_time": "2022-04-13T11:44:03.167Z"
   },
   {
    "duration": 12,
    "start_time": "2022-04-13T11:44:03.172Z"
   },
   {
    "duration": 6,
    "start_time": "2022-04-13T11:44:06.727Z"
   },
   {
    "duration": 4,
    "start_time": "2022-04-13T11:44:08.376Z"
   },
   {
    "duration": 5479,
    "start_time": "2022-04-13T11:44:48.382Z"
   },
   {
    "duration": 535692,
    "start_time": "2022-04-13T11:44:59.408Z"
   },
   {
    "duration": 21,
    "start_time": "2022-04-13T11:54:49.132Z"
   },
   {
    "duration": 13,
    "start_time": "2022-04-13T11:55:35.398Z"
   },
   {
    "duration": 1486,
    "start_time": "2022-04-13T11:55:59.518Z"
   },
   {
    "duration": 934,
    "start_time": "2022-04-13T11:56:01.006Z"
   },
   {
    "duration": 24,
    "start_time": "2022-04-13T11:56:01.943Z"
   },
   {
    "duration": 148,
    "start_time": "2022-04-13T11:56:02.149Z"
   },
   {
    "duration": 145,
    "start_time": "2022-04-13T11:56:06.549Z"
   },
   {
    "duration": 108,
    "start_time": "2022-04-13T11:56:08.686Z"
   },
   {
    "duration": 151,
    "start_time": "2022-04-13T11:56:14.336Z"
   },
   {
    "duration": 337,
    "start_time": "2022-04-13T11:56:30.550Z"
   },
   {
    "duration": 131,
    "start_time": "2022-04-13T11:57:41.614Z"
   },
   {
    "duration": 61,
    "start_time": "2022-04-13T11:57:55.758Z"
   },
   {
    "duration": 172,
    "start_time": "2022-04-13T11:58:09.830Z"
   },
   {
    "duration": 77,
    "start_time": "2022-04-13T11:58:17.366Z"
   },
   {
    "duration": 141,
    "start_time": "2022-04-13T11:58:25.767Z"
   },
   {
    "duration": 80,
    "start_time": "2022-04-13T11:58:33.934Z"
   },
   {
    "duration": 54,
    "start_time": "2022-04-13T11:58:41.982Z"
   },
   {
    "duration": 4,
    "start_time": "2022-04-13T11:58:56.463Z"
   },
   {
    "duration": 792,
    "start_time": "2022-04-13T11:58:56.469Z"
   },
   {
    "duration": 13,
    "start_time": "2022-04-13T11:58:57.263Z"
   },
   {
    "duration": 161,
    "start_time": "2022-04-13T11:58:57.277Z"
   },
   {
    "duration": 142,
    "start_time": "2022-04-13T11:58:57.440Z"
   },
   {
    "duration": 278,
    "start_time": "2022-04-13T11:59:10.833Z"
   },
   {
    "duration": 72,
    "start_time": "2022-04-13T11:59:22.463Z"
   },
   {
    "duration": 62,
    "start_time": "2022-04-13T11:59:33.342Z"
   },
   {
    "duration": 164,
    "start_time": "2022-04-13T11:59:42.134Z"
   },
   {
    "duration": 3,
    "start_time": "2022-04-13T11:59:52.406Z"
   },
   {
    "duration": 817,
    "start_time": "2022-04-13T11:59:52.411Z"
   },
   {
    "duration": 19,
    "start_time": "2022-04-13T11:59:53.230Z"
   },
   {
    "duration": 143,
    "start_time": "2022-04-13T11:59:53.251Z"
   },
   {
    "duration": 139,
    "start_time": "2022-04-13T11:59:53.396Z"
   },
   {
    "duration": 122,
    "start_time": "2022-04-13T11:59:53.537Z"
   },
   {
    "duration": 136,
    "start_time": "2022-04-13T11:59:53.661Z"
   },
   {
    "duration": 315,
    "start_time": "2022-04-13T11:59:53.799Z"
   },
   {
    "duration": 46,
    "start_time": "2022-04-13T11:59:54.116Z"
   },
   {
    "duration": 108,
    "start_time": "2022-04-13T11:59:54.164Z"
   },
   {
    "duration": 888,
    "start_time": "2022-04-13T11:59:54.273Z"
   },
   {
    "duration": 581,
    "start_time": "2022-04-13T11:59:55.163Z"
   },
   {
    "duration": 352,
    "start_time": "2022-04-13T11:59:55.747Z"
   },
   {
    "duration": 4,
    "start_time": "2022-04-13T11:59:56.101Z"
   },
   {
    "duration": 39,
    "start_time": "2022-04-13T11:59:56.106Z"
   },
   {
    "duration": 11,
    "start_time": "2022-04-13T11:59:56.148Z"
   },
   {
    "duration": 398,
    "start_time": "2022-04-13T11:59:56.161Z"
   },
   {
    "duration": 3,
    "start_time": "2022-04-13T11:59:56.561Z"
   },
   {
    "duration": 6085,
    "start_time": "2022-04-13T11:59:56.566Z"
   },
   {
    "duration": 79,
    "start_time": "2022-04-13T12:00:07.975Z"
   },
   {
    "duration": 82,
    "start_time": "2022-04-13T12:00:49.070Z"
   },
   {
    "duration": 3,
    "start_time": "2022-04-13T12:01:00.063Z"
   },
   {
    "duration": 827,
    "start_time": "2022-04-13T12:01:00.068Z"
   },
   {
    "duration": 14,
    "start_time": "2022-04-13T12:01:00.898Z"
   },
   {
    "duration": 170,
    "start_time": "2022-04-13T12:01:00.913Z"
   },
   {
    "duration": 147,
    "start_time": "2022-04-13T12:01:01.086Z"
   },
   {
    "duration": 118,
    "start_time": "2022-04-13T12:01:01.235Z"
   },
   {
    "duration": 134,
    "start_time": "2022-04-13T12:01:01.355Z"
   },
   {
    "duration": 308,
    "start_time": "2022-04-13T12:01:03.846Z"
   },
   {
    "duration": 6,
    "start_time": "2022-04-13T12:01:25.484Z"
   },
   {
    "duration": 112,
    "start_time": "2022-04-13T12:01:39.854Z"
   },
   {
    "duration": 7,
    "start_time": "2022-04-13T12:01:54.141Z"
   },
   {
    "duration": 8,
    "start_time": "2022-04-13T12:02:06.405Z"
   },
   {
    "duration": 8,
    "start_time": "2022-04-13T12:02:41.949Z"
   },
   {
    "duration": 7,
    "start_time": "2022-04-13T12:03:09.285Z"
   },
   {
    "duration": 27,
    "start_time": "2022-04-13T12:03:41.871Z"
   },
   {
    "duration": 139,
    "start_time": "2022-04-13T12:03:47.133Z"
   },
   {
    "duration": 8,
    "start_time": "2022-04-13T12:03:49.549Z"
   },
   {
    "duration": 128,
    "start_time": "2022-04-13T12:06:25.486Z"
   },
   {
    "duration": 4,
    "start_time": "2022-04-13T12:06:36.342Z"
   },
   {
    "duration": 867,
    "start_time": "2022-04-13T12:06:36.348Z"
   },
   {
    "duration": 22,
    "start_time": "2022-04-13T12:06:37.216Z"
   },
   {
    "duration": 153,
    "start_time": "2022-04-13T12:06:37.241Z"
   },
   {
    "duration": 158,
    "start_time": "2022-04-13T12:06:37.396Z"
   },
   {
    "duration": 115,
    "start_time": "2022-04-13T12:06:37.556Z"
   },
   {
    "duration": 140,
    "start_time": "2022-04-13T12:06:37.673Z"
   },
   {
    "duration": 393,
    "start_time": "2022-04-13T12:06:37.815Z"
   },
   {
    "duration": 58,
    "start_time": "2022-04-13T12:06:38.211Z"
   },
   {
    "duration": 120,
    "start_time": "2022-04-13T12:06:38.271Z"
   },
   {
    "duration": 888,
    "start_time": "2022-04-13T12:06:38.393Z"
   },
   {
    "duration": 535,
    "start_time": "2022-04-13T12:06:39.283Z"
   },
   {
    "duration": 374,
    "start_time": "2022-04-13T12:06:39.820Z"
   },
   {
    "duration": 4,
    "start_time": "2022-04-13T12:06:40.196Z"
   },
   {
    "duration": 30,
    "start_time": "2022-04-13T12:06:40.201Z"
   },
   {
    "duration": 5,
    "start_time": "2022-04-13T12:06:40.233Z"
   },
   {
    "duration": 57918,
    "start_time": "2022-04-13T12:06:40.239Z"
   },
   {
    "duration": 4,
    "start_time": "2022-04-13T12:07:38.160Z"
   },
   {
    "duration": 552109,
    "start_time": "2022-04-13T12:07:38.166Z"
   },
   {
    "duration": 1439,
    "start_time": "2022-04-13T12:20:10.379Z"
   },
   {
    "duration": 889,
    "start_time": "2022-04-13T12:20:11.820Z"
   },
   {
    "duration": 33,
    "start_time": "2022-04-13T12:20:12.711Z"
   },
   {
    "duration": 156,
    "start_time": "2022-04-13T12:20:12.746Z"
   },
   {
    "duration": 168,
    "start_time": "2022-04-13T12:20:12.904Z"
   },
   {
    "duration": 120,
    "start_time": "2022-04-13T12:20:13.074Z"
   },
   {
    "duration": 149,
    "start_time": "2022-04-13T12:20:13.195Z"
   },
   {
    "duration": 413,
    "start_time": "2022-04-13T12:20:13.346Z"
   },
   {
    "duration": 62,
    "start_time": "2022-04-13T12:20:13.761Z"
   },
   {
    "duration": 109,
    "start_time": "2022-04-13T12:20:13.824Z"
   },
   {
    "duration": 932,
    "start_time": "2022-04-13T12:20:13.936Z"
   },
   {
    "duration": 552,
    "start_time": "2022-04-13T12:20:14.870Z"
   },
   {
    "duration": 383,
    "start_time": "2022-04-13T12:20:15.425Z"
   },
   {
    "duration": 4,
    "start_time": "2022-04-13T12:20:15.811Z"
   },
   {
    "duration": 14,
    "start_time": "2022-04-13T12:20:15.824Z"
   },
   {
    "duration": 6,
    "start_time": "2022-04-13T12:20:15.840Z"
   },
   {
    "duration": 69002,
    "start_time": "2022-04-13T12:20:15.848Z"
   },
   {
    "duration": 4,
    "start_time": "2022-04-13T12:21:24.852Z"
   },
   {
    "duration": 883636,
    "start_time": "2022-04-13T12:21:24.857Z"
   },
   {
    "duration": 5,
    "start_time": "2022-04-13T12:37:43.846Z"
   },
   {
    "duration": 30206,
    "start_time": "2022-04-13T12:37:45.086Z"
   },
   {
    "duration": 3,
    "start_time": "2022-04-13T12:39:11.990Z"
   },
   {
    "duration": 196849,
    "start_time": "2022-04-13T12:39:12.525Z"
   },
   {
    "duration": 133,
    "start_time": "2022-04-13T12:44:58.813Z"
   },
   {
    "duration": 4,
    "start_time": "2022-04-13T12:45:17.277Z"
   },
   {
    "duration": 5,
    "start_time": "2022-04-13T13:28:22.424Z"
   },
   {
    "duration": 4,
    "start_time": "2022-04-13T13:33:14.896Z"
   },
   {
    "duration": 2,
    "start_time": "2022-04-13T13:33:22.984Z"
   },
   {
    "duration": 209,
    "start_time": "2022-04-13T13:37:38.192Z"
   },
   {
    "duration": 3,
    "start_time": "2022-04-13T13:38:17.184Z"
   },
   {
    "duration": 10,
    "start_time": "2022-04-13T13:38:28.769Z"
   },
   {
    "duration": 3,
    "start_time": "2022-04-13T13:39:31.888Z"
   },
   {
    "duration": 3,
    "start_time": "2022-04-13T13:40:12.783Z"
   },
   {
    "duration": 9,
    "start_time": "2022-04-13T13:40:16.711Z"
   },
   {
    "duration": 10,
    "start_time": "2022-04-13T13:40:24.599Z"
   },
   {
    "duration": 233,
    "start_time": "2022-04-13T13:48:17.959Z"
   },
   {
    "duration": 176,
    "start_time": "2022-04-13T13:48:45.767Z"
   },
   {
    "duration": 21,
    "start_time": "2022-04-13T13:48:52.031Z"
   },
   {
    "duration": 185,
    "start_time": "2022-04-13T13:48:57.398Z"
   },
   {
    "duration": 12,
    "start_time": "2022-04-13T13:48:58.526Z"
   },
   {
    "duration": 3,
    "start_time": "2022-04-13T13:49:08.271Z"
   },
   {
    "duration": 192,
    "start_time": "2022-04-13T13:49:14.256Z"
   },
   {
    "duration": 9,
    "start_time": "2022-04-13T13:49:16.350Z"
   },
   {
    "duration": 4,
    "start_time": "2022-04-13T13:53:15.103Z"
   },
   {
    "duration": 6,
    "start_time": "2022-04-13T13:53:21.718Z"
   },
   {
    "duration": 193,
    "start_time": "2022-04-13T13:54:06.375Z"
   },
   {
    "duration": 10,
    "start_time": "2022-04-13T13:54:13.631Z"
   },
   {
    "duration": 4,
    "start_time": "2022-04-13T13:54:29.063Z"
   },
   {
    "duration": 4,
    "start_time": "2022-04-13T13:54:52.143Z"
   },
   {
    "duration": 3,
    "start_time": "2022-04-13T13:55:18.166Z"
   },
   {
    "duration": 16,
    "start_time": "2022-04-13T13:55:37.293Z"
   },
   {
    "duration": 40,
    "start_time": "2022-04-13T13:56:08.550Z"
   },
   {
    "duration": 5,
    "start_time": "2022-04-13T13:59:55.141Z"
   },
   {
    "duration": 4,
    "start_time": "2022-04-13T14:01:03.846Z"
   },
   {
    "duration": 43,
    "start_time": "2022-04-13T14:01:05.573Z"
   },
   {
    "duration": 4,
    "start_time": "2022-04-13T14:01:19.701Z"
   },
   {
    "duration": 48,
    "start_time": "2022-04-13T14:01:23.045Z"
   },
   {
    "duration": 245,
    "start_time": "2022-04-13T14:01:47.054Z"
   },
   {
    "duration": 240,
    "start_time": "2022-04-13T14:02:03.709Z"
   },
   {
    "duration": 273,
    "start_time": "2022-04-13T14:02:18.110Z"
   },
   {
    "duration": 248,
    "start_time": "2022-04-13T14:04:23.294Z"
   },
   {
    "duration": 4,
    "start_time": "2022-04-13T14:05:25.373Z"
   },
   {
    "duration": 1519,
    "start_time": "2022-04-13T14:05:53.681Z"
   },
   {
    "duration": 10076,
    "start_time": "2022-04-13T14:05:55.203Z"
   },
   {
    "duration": 21,
    "start_time": "2022-04-13T14:06:05.280Z"
   },
   {
    "duration": 176,
    "start_time": "2022-04-13T14:06:05.303Z"
   },
   {
    "duration": 169,
    "start_time": "2022-04-13T14:06:05.481Z"
   },
   {
    "duration": 113,
    "start_time": "2022-04-13T14:06:05.654Z"
   },
   {
    "duration": 147,
    "start_time": "2022-04-13T14:06:05.768Z"
   },
   {
    "duration": 424,
    "start_time": "2022-04-13T14:06:05.934Z"
   },
   {
    "duration": 51,
    "start_time": "2022-04-13T14:06:06.360Z"
   },
   {
    "duration": 120,
    "start_time": "2022-04-13T14:06:06.422Z"
   },
   {
    "duration": 1158,
    "start_time": "2022-04-13T14:06:06.544Z"
   },
   {
    "duration": 543,
    "start_time": "2022-04-13T14:06:07.704Z"
   },
   {
    "duration": 390,
    "start_time": "2022-04-13T14:06:08.249Z"
   },
   {
    "duration": 6,
    "start_time": "2022-04-13T14:06:08.641Z"
   },
   {
    "duration": 13,
    "start_time": "2022-04-13T14:06:08.649Z"
   },
   {
    "duration": 3,
    "start_time": "2022-04-13T14:06:08.664Z"
   },
   {
    "duration": 83398,
    "start_time": "2022-04-13T14:06:08.669Z"
   },
   {
    "duration": 4,
    "start_time": "2022-04-13T14:07:32.069Z"
   },
   {
    "duration": 202297,
    "start_time": "2022-04-13T14:07:32.075Z"
   },
   {
    "duration": 3,
    "start_time": "2022-04-13T14:10:54.374Z"
   },
   {
    "duration": 10659,
    "start_time": "2022-04-13T14:10:54.379Z"
   },
   {
    "duration": 6,
    "start_time": "2022-04-13T14:12:56.637Z"
   },
   {
    "duration": 1553,
    "start_time": "2022-04-13T14:18:09.900Z"
   },
   {
    "duration": 1465,
    "start_time": "2022-04-13T14:18:11.455Z"
   },
   {
    "duration": 40,
    "start_time": "2022-04-13T14:18:12.923Z"
   },
   {
    "duration": 243,
    "start_time": "2022-04-13T14:18:12.968Z"
   },
   {
    "duration": 198,
    "start_time": "2022-04-13T14:18:13.214Z"
   },
   {
    "duration": 169,
    "start_time": "2022-04-13T14:18:13.414Z"
   },
   {
    "duration": 195,
    "start_time": "2022-04-13T14:18:13.587Z"
   },
   {
    "duration": 503,
    "start_time": "2022-04-13T14:18:13.784Z"
   },
   {
    "duration": 1195,
    "start_time": "2022-04-13T14:18:14.289Z"
   },
   {
    "duration": 598,
    "start_time": "2022-04-13T14:18:15.485Z"
   },
   {
    "duration": 502,
    "start_time": "2022-04-13T14:18:16.085Z"
   },
   {
    "duration": 8,
    "start_time": "2022-04-13T14:18:22.121Z"
   },
   {
    "duration": 1612,
    "start_time": "2022-04-13T14:22:22.534Z"
   },
   {
    "duration": 1142,
    "start_time": "2022-04-13T14:22:24.148Z"
   },
   {
    "duration": 20,
    "start_time": "2022-04-13T14:22:25.291Z"
   },
   {
    "duration": 198,
    "start_time": "2022-04-13T14:22:25.313Z"
   },
   {
    "duration": 181,
    "start_time": "2022-04-13T14:22:25.513Z"
   },
   {
    "duration": 134,
    "start_time": "2022-04-13T14:22:25.695Z"
   },
   {
    "duration": 183,
    "start_time": "2022-04-13T14:22:25.832Z"
   },
   {
    "duration": 487,
    "start_time": "2022-04-13T14:22:26.017Z"
   },
   {
    "duration": 1072,
    "start_time": "2022-04-13T14:22:26.506Z"
   },
   {
    "duration": 631,
    "start_time": "2022-04-13T14:22:27.579Z"
   },
   {
    "duration": 486,
    "start_time": "2022-04-13T14:22:28.212Z"
   },
   {
    "duration": 3,
    "start_time": "2022-04-13T14:22:38.331Z"
   },
   {
    "duration": 1571,
    "start_time": "2022-04-13T14:27:40.640Z"
   },
   {
    "duration": 919,
    "start_time": "2022-04-13T14:27:42.213Z"
   },
   {
    "duration": 31,
    "start_time": "2022-04-13T14:27:43.134Z"
   },
   {
    "duration": 156,
    "start_time": "2022-04-13T14:27:43.167Z"
   },
   {
    "duration": 155,
    "start_time": "2022-04-13T14:27:43.330Z"
   },
   {
    "duration": 130,
    "start_time": "2022-04-13T14:27:43.486Z"
   },
   {
    "duration": 186,
    "start_time": "2022-04-13T14:27:43.617Z"
   },
   {
    "duration": 479,
    "start_time": "2022-04-13T14:27:43.805Z"
   },
   {
    "duration": 1105,
    "start_time": "2022-04-13T14:27:44.286Z"
   },
   {
    "duration": 666,
    "start_time": "2022-04-13T14:27:45.392Z"
   },
   {
    "duration": 399,
    "start_time": "2022-04-13T14:27:46.060Z"
   },
   {
    "duration": 4,
    "start_time": "2022-04-13T14:27:47.997Z"
   },
   {
    "duration": 153085,
    "start_time": "2022-04-13T14:27:50.669Z"
   },
   {
    "duration": 3,
    "start_time": "2022-04-13T14:31:34.686Z"
   },
   {
    "duration": 146229,
    "start_time": "2022-04-13T14:31:35.357Z"
   },
   {
    "duration": 180,
    "start_time": "2022-04-13T14:36:35.308Z"
   },
   {
    "duration": 3,
    "start_time": "2022-04-13T14:36:46.893Z"
   },
   {
    "duration": 5,
    "start_time": "2022-04-13T14:37:05.342Z"
   },
   {
    "duration": 330,
    "start_time": "2022-04-13T14:37:06.134Z"
   },
   {
    "duration": 14,
    "start_time": "2022-04-13T14:37:18.332Z"
   },
   {
    "duration": 222,
    "start_time": "2022-04-13T14:37:45.868Z"
   },
   {
    "duration": 184,
    "start_time": "2022-04-13T14:37:51.289Z"
   },
   {
    "duration": 190,
    "start_time": "2022-04-13T14:38:23.196Z"
   },
   {
    "duration": 196,
    "start_time": "2022-04-13T14:38:58.548Z"
   },
   {
    "duration": 3,
    "start_time": "2022-04-13T14:39:11.180Z"
   },
   {
    "duration": 10,
    "start_time": "2022-04-13T14:39:11.908Z"
   },
   {
    "duration": 3,
    "start_time": "2022-04-13T14:39:50.796Z"
   },
   {
    "duration": 193,
    "start_time": "2022-04-13T14:39:56.693Z"
   },
   {
    "duration": 5,
    "start_time": "2022-04-13T14:40:16.061Z"
   },
   {
    "duration": 13,
    "start_time": "2022-04-13T14:40:16.731Z"
   },
   {
    "duration": 4,
    "start_time": "2022-04-13T14:40:34.028Z"
   },
   {
    "duration": 18,
    "start_time": "2022-04-13T14:40:34.427Z"
   },
   {
    "duration": 457,
    "start_time": "2022-04-13T14:40:38.356Z"
   },
   {
    "duration": 4,
    "start_time": "2022-04-13T14:42:01.558Z"
   },
   {
    "duration": 7,
    "start_time": "2022-04-13T14:42:04.996Z"
   },
   {
    "duration": 5,
    "start_time": "2022-04-13T14:42:24.828Z"
   },
   {
    "duration": 17,
    "start_time": "2022-04-13T14:43:54.682Z"
   },
   {
    "duration": 8,
    "start_time": "2022-04-13T14:44:26.580Z"
   },
   {
    "duration": 14,
    "start_time": "2022-04-13T14:44:33.795Z"
   },
   {
    "duration": 6,
    "start_time": "2022-04-13T14:45:49.955Z"
   },
   {
    "duration": 14,
    "start_time": "2022-04-13T14:47:34.363Z"
   },
   {
    "duration": 7,
    "start_time": "2022-04-13T14:48:54.749Z"
   },
   {
    "duration": 5,
    "start_time": "2022-04-13T14:49:31.051Z"
   },
   {
    "duration": 10,
    "start_time": "2022-04-13T14:49:32.179Z"
   },
   {
    "duration": 193,
    "start_time": "2022-04-13T14:49:39.067Z"
   },
   {
    "duration": 192,
    "start_time": "2022-04-13T14:49:50.163Z"
   },
   {
    "duration": 4,
    "start_time": "2022-04-13T14:50:51.587Z"
   },
   {
    "duration": 10,
    "start_time": "2022-04-13T14:50:52.259Z"
   },
   {
    "duration": 202,
    "start_time": "2022-04-13T14:51:00.699Z"
   },
   {
    "duration": 3,
    "start_time": "2022-04-13T14:55:57.979Z"
   },
   {
    "duration": 16,
    "start_time": "2022-04-13T14:55:58.726Z"
   },
   {
    "duration": 5,
    "start_time": "2022-04-13T14:56:06.995Z"
   },
   {
    "duration": 14,
    "start_time": "2022-04-13T14:56:11.434Z"
   },
   {
    "duration": 6,
    "start_time": "2022-04-13T14:57:14.058Z"
   },
   {
    "duration": 5,
    "start_time": "2022-04-13T14:59:09.722Z"
   },
   {
    "duration": 86818,
    "start_time": "2022-04-13T14:59:10.650Z"
   },
   {
    "duration": 230,
    "start_time": "2022-04-13T15:01:26.946Z"
   },
   {
    "duration": 7,
    "start_time": "2022-04-13T15:02:22.715Z"
   },
   {
    "duration": 3,
    "start_time": "2022-04-13T15:03:39.234Z"
   },
   {
    "duration": 161634,
    "start_time": "2022-04-13T15:03:42.042Z"
   },
   {
    "duration": 371,
    "start_time": "2022-04-13T15:12:34.936Z"
   },
   {
    "duration": 6,
    "start_time": "2022-04-13T15:13:39.784Z"
   },
   {
    "duration": 680,
    "start_time": "2022-04-13T15:15:32.289Z"
   },
   {
    "duration": 8,
    "start_time": "2022-04-13T15:17:17.264Z"
   },
   {
    "duration": 185,
    "start_time": "2022-04-13T15:17:48.029Z"
   },
   {
    "duration": 1560,
    "start_time": "2022-04-15T10:36:31.059Z"
   },
   {
    "duration": 825,
    "start_time": "2022-04-15T10:36:32.621Z"
   },
   {
    "duration": 23,
    "start_time": "2022-04-15T10:36:33.447Z"
   },
   {
    "duration": 129,
    "start_time": "2022-04-15T10:36:33.471Z"
   },
   {
    "duration": 127,
    "start_time": "2022-04-15T10:36:33.602Z"
   },
   {
    "duration": 96,
    "start_time": "2022-04-15T10:36:33.731Z"
   },
   {
    "duration": 125,
    "start_time": "2022-04-15T10:36:33.829Z"
   },
   {
    "duration": 352,
    "start_time": "2022-04-15T10:36:33.956Z"
   },
   {
    "duration": 1301,
    "start_time": "2022-04-15T10:36:34.310Z"
   },
   {
    "duration": 101,
    "start_time": "2022-04-15T10:38:26.112Z"
   },
   {
    "duration": 150,
    "start_time": "2022-04-15T10:50:14.519Z"
   },
   {
    "duration": 45,
    "start_time": "2022-04-15T10:50:35.057Z"
   },
   {
    "duration": 35,
    "start_time": "2022-04-15T10:50:42.401Z"
   },
   {
    "duration": 27,
    "start_time": "2022-04-15T10:55:15.311Z"
   },
   {
    "duration": 20,
    "start_time": "2022-04-15T10:55:23.431Z"
   },
   {
    "duration": 42,
    "start_time": "2022-04-15T10:56:03.934Z"
   },
   {
    "duration": 28,
    "start_time": "2022-04-15T10:56:05.032Z"
   },
   {
    "duration": 34,
    "start_time": "2022-04-15T11:00:34.950Z"
   },
   {
    "duration": 25,
    "start_time": "2022-04-15T11:01:11.694Z"
   },
   {
    "duration": 30,
    "start_time": "2022-04-15T11:01:19.952Z"
   },
   {
    "duration": 46,
    "start_time": "2022-04-15T11:02:27.247Z"
   },
   {
    "duration": 128,
    "start_time": "2022-04-15T11:03:31.588Z"
   },
   {
    "duration": 40,
    "start_time": "2022-04-15T11:03:48.441Z"
   },
   {
    "duration": 29,
    "start_time": "2022-04-15T11:04:22.273Z"
   },
   {
    "duration": 34,
    "start_time": "2022-04-15T11:07:40.448Z"
   },
   {
    "duration": 39,
    "start_time": "2022-04-15T11:07:46.047Z"
   },
   {
    "duration": 154,
    "start_time": "2022-04-15T11:08:52.894Z"
   },
   {
    "duration": 27,
    "start_time": "2022-04-15T11:09:24.214Z"
   },
   {
    "duration": 3,
    "start_time": "2022-04-15T11:11:45.481Z"
   },
   {
    "duration": 785,
    "start_time": "2022-04-15T11:11:45.486Z"
   },
   {
    "duration": 13,
    "start_time": "2022-04-15T11:11:46.273Z"
   },
   {
    "duration": 154,
    "start_time": "2022-04-15T11:11:46.287Z"
   },
   {
    "duration": 199,
    "start_time": "2022-04-15T11:11:46.444Z"
   },
   {
    "duration": 156,
    "start_time": "2022-04-15T11:11:46.645Z"
   },
   {
    "duration": 135,
    "start_time": "2022-04-15T11:11:46.803Z"
   },
   {
    "duration": 452,
    "start_time": "2022-04-15T11:11:46.940Z"
   },
   {
    "duration": 125,
    "start_time": "2022-04-15T11:11:47.394Z"
   },
   {
    "duration": 22,
    "start_time": "2022-04-15T11:11:47.521Z"
   },
   {
    "duration": 35,
    "start_time": "2022-04-15T11:11:47.556Z"
   },
   {
    "duration": 26,
    "start_time": "2022-04-15T11:11:47.593Z"
   },
   {
    "duration": 64,
    "start_time": "2022-04-15T11:11:47.621Z"
   },
   {
    "duration": 27,
    "start_time": "2022-04-15T11:11:47.688Z"
   },
   {
    "duration": 47,
    "start_time": "2022-04-15T11:11:47.717Z"
   },
   {
    "duration": 29,
    "start_time": "2022-04-15T11:11:47.765Z"
   },
   {
    "duration": 20,
    "start_time": "2022-04-15T11:12:45.171Z"
   },
   {
    "duration": 633,
    "start_time": "2022-04-15T11:12:48.979Z"
   },
   {
    "duration": 487,
    "start_time": "2022-04-15T11:12:58.995Z"
   },
   {
    "duration": 13,
    "start_time": "2022-04-15T11:13:00.412Z"
   },
   {
    "duration": 238,
    "start_time": "2022-04-15T11:13:11.271Z"
   },
   {
    "duration": 4,
    "start_time": "2022-04-15T11:13:18.411Z"
   },
   {
    "duration": 8,
    "start_time": "2022-04-15T11:13:20.835Z"
   },
   {
    "duration": 2,
    "start_time": "2022-04-15T11:13:22.307Z"
   },
   {
    "duration": 37128,
    "start_time": "2022-04-15T11:13:23.835Z"
   },
   {
    "duration": 2,
    "start_time": "2022-04-15T11:14:44.011Z"
   },
   {
    "duration": 137234,
    "start_time": "2022-04-15T11:14:46.867Z"
   },
   {
    "duration": 3,
    "start_time": "2022-04-15T11:18:54.096Z"
   },
   {
    "duration": 765,
    "start_time": "2022-04-15T11:18:54.101Z"
   },
   {
    "duration": 16,
    "start_time": "2022-04-15T11:18:54.868Z"
   },
   {
    "duration": 245,
    "start_time": "2022-04-15T11:18:54.886Z"
   },
   {
    "duration": 230,
    "start_time": "2022-04-15T11:18:55.133Z"
   },
   {
    "duration": 118,
    "start_time": "2022-04-15T11:18:55.367Z"
   },
   {
    "duration": 134,
    "start_time": "2022-04-15T11:18:55.487Z"
   },
   {
    "duration": 332,
    "start_time": "2022-04-15T11:18:55.623Z"
   },
   {
    "duration": 145,
    "start_time": "2022-04-15T11:18:55.957Z"
   },
   {
    "duration": 24,
    "start_time": "2022-04-15T11:18:56.104Z"
   },
   {
    "duration": 51,
    "start_time": "2022-04-15T11:18:56.130Z"
   },
   {
    "duration": 28,
    "start_time": "2022-04-15T11:18:56.183Z"
   },
   {
    "duration": 60,
    "start_time": "2022-04-15T11:18:56.213Z"
   },
   {
    "duration": 28,
    "start_time": "2022-04-15T11:18:56.277Z"
   },
   {
    "duration": 27,
    "start_time": "2022-04-15T11:18:56.307Z"
   },
   {
    "duration": 46,
    "start_time": "2022-04-15T11:18:56.335Z"
   },
   {
    "duration": 19,
    "start_time": "2022-04-15T11:18:56.383Z"
   },
   {
    "duration": 815,
    "start_time": "2022-04-15T11:18:56.404Z"
   },
   {
    "duration": 510,
    "start_time": "2022-04-15T11:18:57.221Z"
   },
   {
    "duration": 275,
    "start_time": "2022-04-15T11:18:57.733Z"
   },
   {
    "duration": 4,
    "start_time": "2022-04-15T11:18:58.009Z"
   },
   {
    "duration": 13,
    "start_time": "2022-04-15T11:18:58.014Z"
   },
   {
    "duration": 3,
    "start_time": "2022-04-15T11:18:58.029Z"
   },
   {
    "duration": 40953,
    "start_time": "2022-04-15T11:18:58.034Z"
   },
   {
    "duration": 2,
    "start_time": "2022-04-15T11:19:38.989Z"
   },
   {
    "duration": 141673,
    "start_time": "2022-04-15T11:19:38.993Z"
   },
   {
    "duration": 4,
    "start_time": "2022-04-15T11:22:00.667Z"
   },
   {
    "duration": 154370,
    "start_time": "2022-04-15T11:23:34.547Z"
   },
   {
    "duration": 1576,
    "start_time": "2022-04-15T11:26:17.041Z"
   },
   {
    "duration": 860,
    "start_time": "2022-04-15T11:26:18.619Z"
   },
   {
    "duration": 20,
    "start_time": "2022-04-15T11:26:19.481Z"
   },
   {
    "duration": 156,
    "start_time": "2022-04-15T11:26:19.503Z"
   },
   {
    "duration": 152,
    "start_time": "2022-04-15T11:26:19.663Z"
   },
   {
    "duration": 117,
    "start_time": "2022-04-15T11:26:19.816Z"
   },
   {
    "duration": 147,
    "start_time": "2022-04-15T11:26:19.934Z"
   },
   {
    "duration": 394,
    "start_time": "2022-04-15T11:26:20.083Z"
   },
   {
    "duration": 154,
    "start_time": "2022-04-15T11:26:20.479Z"
   },
   {
    "duration": 28,
    "start_time": "2022-04-15T11:26:20.635Z"
   },
   {
    "duration": 34,
    "start_time": "2022-04-15T11:26:20.666Z"
   },
   {
    "duration": 25,
    "start_time": "2022-04-15T11:26:20.702Z"
   },
   {
    "duration": 65,
    "start_time": "2022-04-15T11:26:20.729Z"
   },
   {
    "duration": 29,
    "start_time": "2022-04-15T11:26:20.797Z"
   },
   {
    "duration": 44,
    "start_time": "2022-04-15T11:26:20.828Z"
   },
   {
    "duration": 29,
    "start_time": "2022-04-15T11:26:20.876Z"
   },
   {
    "duration": 19,
    "start_time": "2022-04-15T11:26:20.907Z"
   },
   {
    "duration": 742,
    "start_time": "2022-04-15T11:26:20.928Z"
   },
   {
    "duration": 492,
    "start_time": "2022-04-15T11:26:21.672Z"
   },
   {
    "duration": 350,
    "start_time": "2022-04-15T11:26:22.166Z"
   },
   {
    "duration": 3,
    "start_time": "2022-04-15T11:26:22.518Z"
   },
   {
    "duration": 12,
    "start_time": "2022-04-15T11:26:22.523Z"
   },
   {
    "duration": 3,
    "start_time": "2022-04-15T11:26:22.536Z"
   },
   {
    "duration": 66942,
    "start_time": "2022-04-15T11:26:22.541Z"
   },
   {
    "duration": 3,
    "start_time": "2022-04-15T11:27:29.485Z"
   },
   {
    "duration": 136752,
    "start_time": "2022-04-15T11:27:29.490Z"
   },
   {
    "duration": 3,
    "start_time": "2022-04-15T11:29:46.243Z"
   },
   {
    "duration": 66614,
    "start_time": "2022-04-15T11:29:46.248Z"
   },
   {
    "duration": 8,
    "start_time": "2022-04-15T11:30:52.864Z"
   },
   {
    "duration": 14,
    "start_time": "2022-04-15T11:30:52.876Z"
   },
   {
    "duration": 99,
    "start_time": "2022-04-15T11:30:52.891Z"
   },
   {
    "duration": 14,
    "start_time": "2022-04-15T11:30:53.064Z"
   },
   {
    "duration": 404,
    "start_time": "2022-04-15T11:30:53.084Z"
   },
   {
    "duration": 6,
    "start_time": "2022-04-15T11:30:53.489Z"
   },
   {
    "duration": 584,
    "start_time": "2022-04-15T11:30:53.497Z"
   },
   {
    "duration": 5,
    "start_time": "2022-04-15T11:30:54.087Z"
   },
   {
    "duration": 99,
    "start_time": "2022-04-15T11:50:51.607Z"
   },
   {
    "duration": 12,
    "start_time": "2022-04-15T11:50:58.806Z"
   },
   {
    "duration": 7,
    "start_time": "2022-04-15T11:53:07.184Z"
   },
   {
    "duration": 14,
    "start_time": "2022-04-15T11:54:00.823Z"
   },
   {
    "duration": 13,
    "start_time": "2022-04-15T11:54:24.807Z"
   },
   {
    "duration": 8,
    "start_time": "2022-04-15T11:55:04.016Z"
   },
   {
    "duration": 9,
    "start_time": "2022-04-15T11:55:09.375Z"
   },
   {
    "duration": 15,
    "start_time": "2022-04-15T11:56:07.839Z"
   },
   {
    "duration": 14,
    "start_time": "2022-04-15T11:56:12.344Z"
   },
   {
    "duration": 16,
    "start_time": "2022-04-15T11:56:36.111Z"
   },
   {
    "duration": 9,
    "start_time": "2022-04-15T11:56:50.468Z"
   },
   {
    "duration": 21,
    "start_time": "2022-04-15T11:56:55.304Z"
   },
   {
    "duration": 14,
    "start_time": "2022-04-15T11:58:07.048Z"
   },
   {
    "duration": 13,
    "start_time": "2022-04-15T11:58:33.432Z"
   },
   {
    "duration": 10,
    "start_time": "2022-04-15T11:58:50.135Z"
   },
   {
    "duration": 10,
    "start_time": "2022-04-15T12:03:35.085Z"
   },
   {
    "duration": 376,
    "start_time": "2022-04-15T12:04:04.151Z"
   },
   {
    "duration": 187,
    "start_time": "2022-04-15T12:04:10.493Z"
   },
   {
    "duration": 13,
    "start_time": "2022-04-15T12:04:38.881Z"
   },
   {
    "duration": 119,
    "start_time": "2022-04-15T12:04:40.813Z"
   },
   {
    "duration": 9,
    "start_time": "2022-04-15T12:06:10.482Z"
   },
   {
    "duration": 11,
    "start_time": "2022-04-15T12:06:31.269Z"
   },
   {
    "duration": 139,
    "start_time": "2022-04-15T12:06:32.316Z"
   },
   {
    "duration": 6,
    "start_time": "2022-04-15T12:06:39.213Z"
   },
   {
    "duration": 173,
    "start_time": "2022-04-15T12:06:54.863Z"
   },
   {
    "duration": 29,
    "start_time": "2022-04-15T12:19:23.462Z"
   },
   {
    "duration": 10,
    "start_time": "2022-04-15T12:19:29.731Z"
   },
   {
    "duration": 11,
    "start_time": "2022-04-15T12:20:10.803Z"
   },
   {
    "duration": 8,
    "start_time": "2022-04-15T12:20:42.619Z"
   },
   {
    "duration": 7,
    "start_time": "2022-04-15T12:20:56.099Z"
   },
   {
    "duration": 11,
    "start_time": "2022-04-15T12:21:56.565Z"
   }
  ],
  "kernelspec": {
   "display_name": "Python 3 (ipykernel)",
   "language": "python",
   "name": "python3"
  },
  "language_info": {
   "codemirror_mode": {
    "name": "ipython",
    "version": 3
   },
   "file_extension": ".py",
   "mimetype": "text/x-python",
   "name": "python",
   "nbconvert_exporter": "python",
   "pygments_lexer": "ipython3",
   "version": "3.9.7"
  },
  "toc": {
   "base_numbering": 1,
   "nav_menu": {},
   "number_sections": true,
   "sideBar": true,
   "skip_h1_title": true,
   "title_cell": "Table of Contents",
   "title_sidebar": "Contents",
   "toc_cell": false,
   "toc_position": {},
   "toc_section_display": true,
   "toc_window_display": false
  }
 },
 "nbformat": 4,
 "nbformat_minor": 2
}
