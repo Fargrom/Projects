{
 "cells": [
  {
   "cell_type": "markdown",
   "metadata": {},
   "source": [
    "# Исследование объявлений о продаже квартир\n"
   ]
  },
  {
   "cell_type": "markdown",
   "metadata": {},
   "source": [
    "## Изучение данных из файла"
   ]
  },
  {
   "cell_type": "code",
   "execution_count": 428,
   "metadata": {},
   "outputs": [],
   "source": [
    "#выгружаем данные\n",
    "import pandas as pd\n",
    "data = pd.read_csv('/datasets/real_estate_data.csv', sep='\\t')\n"
   ]
  },
  {
   "cell_type": "code",
   "execution_count": 429,
   "metadata": {},
   "outputs": [
    {
     "name": "stdout",
     "output_type": "stream",
     "text": [
      "<class 'pandas.core.frame.DataFrame'>\n",
      "RangeIndex: 23699 entries, 0 to 23698\n",
      "Data columns (total 22 columns):\n",
      "total_images            23699 non-null int64\n",
      "last_price              23699 non-null float64\n",
      "total_area              23699 non-null float64\n",
      "first_day_exposition    23699 non-null object\n",
      "rooms                   23699 non-null int64\n",
      "ceiling_height          14504 non-null float64\n",
      "floors_total            23613 non-null float64\n",
      "living_area             21796 non-null float64\n",
      "floor                   23699 non-null int64\n",
      "is_apartment            2775 non-null object\n",
      "studio                  23699 non-null bool\n",
      "open_plan               23699 non-null bool\n",
      "kitchen_area            21421 non-null float64\n",
      "balcony                 12180 non-null float64\n",
      "locality_name           23650 non-null object\n",
      "airports_nearest        18157 non-null float64\n",
      "cityCenters_nearest     18180 non-null float64\n",
      "parks_around3000        18181 non-null float64\n",
      "parks_nearest           8079 non-null float64\n",
      "ponds_around3000        18181 non-null float64\n",
      "ponds_nearest           9110 non-null float64\n",
      "days_exposition         20518 non-null float64\n",
      "dtypes: bool(2), float64(14), int64(3), object(3)\n",
      "memory usage: 3.7+ MB\n"
     ]
    }
   ],
   "source": [
    "data.info()"
   ]
  },
  {
   "cell_type": "markdown",
   "metadata": {},
   "source": [
    "Для большего удобство выведем также строки этой таблицы."
   ]
  },
  {
   "cell_type": "code",
   "execution_count": 430,
   "metadata": {},
   "outputs": [
    {
     "data": {
      "text/html": [
       "<div>\n",
       "<style scoped>\n",
       "    .dataframe tbody tr th:only-of-type {\n",
       "        vertical-align: middle;\n",
       "    }\n",
       "\n",
       "    .dataframe tbody tr th {\n",
       "        vertical-align: top;\n",
       "    }\n",
       "\n",
       "    .dataframe thead th {\n",
       "        text-align: right;\n",
       "    }\n",
       "</style>\n",
       "<table border=\"1\" class=\"dataframe\">\n",
       "  <thead>\n",
       "    <tr style=\"text-align: right;\">\n",
       "      <th></th>\n",
       "      <th>total_images</th>\n",
       "      <th>last_price</th>\n",
       "      <th>total_area</th>\n",
       "      <th>first_day_exposition</th>\n",
       "      <th>rooms</th>\n",
       "      <th>ceiling_height</th>\n",
       "      <th>floors_total</th>\n",
       "      <th>living_area</th>\n",
       "      <th>floor</th>\n",
       "      <th>is_apartment</th>\n",
       "      <th>...</th>\n",
       "      <th>kitchen_area</th>\n",
       "      <th>balcony</th>\n",
       "      <th>locality_name</th>\n",
       "      <th>airports_nearest</th>\n",
       "      <th>cityCenters_nearest</th>\n",
       "      <th>parks_around3000</th>\n",
       "      <th>parks_nearest</th>\n",
       "      <th>ponds_around3000</th>\n",
       "      <th>ponds_nearest</th>\n",
       "      <th>days_exposition</th>\n",
       "    </tr>\n",
       "  </thead>\n",
       "  <tbody>\n",
       "    <tr>\n",
       "      <td>0</td>\n",
       "      <td>20</td>\n",
       "      <td>13,000,000.00</td>\n",
       "      <td>108.00</td>\n",
       "      <td>2019-03-07T00:00:00</td>\n",
       "      <td>3</td>\n",
       "      <td>2.70</td>\n",
       "      <td>16.00</td>\n",
       "      <td>51.00</td>\n",
       "      <td>8</td>\n",
       "      <td>NaN</td>\n",
       "      <td>...</td>\n",
       "      <td>25.00</td>\n",
       "      <td>nan</td>\n",
       "      <td>Санкт-Петербург</td>\n",
       "      <td>18,863.00</td>\n",
       "      <td>16,028.00</td>\n",
       "      <td>1.00</td>\n",
       "      <td>482.00</td>\n",
       "      <td>2.00</td>\n",
       "      <td>755.00</td>\n",
       "      <td>nan</td>\n",
       "    </tr>\n",
       "    <tr>\n",
       "      <td>1</td>\n",
       "      <td>7</td>\n",
       "      <td>3,350,000.00</td>\n",
       "      <td>40.40</td>\n",
       "      <td>2018-12-04T00:00:00</td>\n",
       "      <td>1</td>\n",
       "      <td>nan</td>\n",
       "      <td>11.00</td>\n",
       "      <td>18.60</td>\n",
       "      <td>1</td>\n",
       "      <td>NaN</td>\n",
       "      <td>...</td>\n",
       "      <td>11.00</td>\n",
       "      <td>2.00</td>\n",
       "      <td>посёлок Шушары</td>\n",
       "      <td>12,817.00</td>\n",
       "      <td>18,603.00</td>\n",
       "      <td>0.00</td>\n",
       "      <td>nan</td>\n",
       "      <td>0.00</td>\n",
       "      <td>nan</td>\n",
       "      <td>81.00</td>\n",
       "    </tr>\n",
       "    <tr>\n",
       "      <td>2</td>\n",
       "      <td>10</td>\n",
       "      <td>5,196,000.00</td>\n",
       "      <td>56.00</td>\n",
       "      <td>2015-08-20T00:00:00</td>\n",
       "      <td>2</td>\n",
       "      <td>nan</td>\n",
       "      <td>5.00</td>\n",
       "      <td>34.30</td>\n",
       "      <td>4</td>\n",
       "      <td>NaN</td>\n",
       "      <td>...</td>\n",
       "      <td>8.30</td>\n",
       "      <td>0.00</td>\n",
       "      <td>Санкт-Петербург</td>\n",
       "      <td>21,741.00</td>\n",
       "      <td>13,933.00</td>\n",
       "      <td>1.00</td>\n",
       "      <td>90.00</td>\n",
       "      <td>2.00</td>\n",
       "      <td>574.00</td>\n",
       "      <td>558.00</td>\n",
       "    </tr>\n",
       "    <tr>\n",
       "      <td>3</td>\n",
       "      <td>0</td>\n",
       "      <td>64,900,000.00</td>\n",
       "      <td>159.00</td>\n",
       "      <td>2015-07-24T00:00:00</td>\n",
       "      <td>3</td>\n",
       "      <td>nan</td>\n",
       "      <td>14.00</td>\n",
       "      <td>nan</td>\n",
       "      <td>9</td>\n",
       "      <td>NaN</td>\n",
       "      <td>...</td>\n",
       "      <td>nan</td>\n",
       "      <td>0.00</td>\n",
       "      <td>Санкт-Петербург</td>\n",
       "      <td>28,098.00</td>\n",
       "      <td>6,800.00</td>\n",
       "      <td>2.00</td>\n",
       "      <td>84.00</td>\n",
       "      <td>3.00</td>\n",
       "      <td>234.00</td>\n",
       "      <td>424.00</td>\n",
       "    </tr>\n",
       "    <tr>\n",
       "      <td>4</td>\n",
       "      <td>2</td>\n",
       "      <td>10,000,000.00</td>\n",
       "      <td>100.00</td>\n",
       "      <td>2018-06-19T00:00:00</td>\n",
       "      <td>2</td>\n",
       "      <td>3.03</td>\n",
       "      <td>14.00</td>\n",
       "      <td>32.00</td>\n",
       "      <td>13</td>\n",
       "      <td>NaN</td>\n",
       "      <td>...</td>\n",
       "      <td>41.00</td>\n",
       "      <td>nan</td>\n",
       "      <td>Санкт-Петербург</td>\n",
       "      <td>31,856.00</td>\n",
       "      <td>8,098.00</td>\n",
       "      <td>2.00</td>\n",
       "      <td>112.00</td>\n",
       "      <td>1.00</td>\n",
       "      <td>48.00</td>\n",
       "      <td>121.00</td>\n",
       "    </tr>\n",
       "    <tr>\n",
       "      <td>5</td>\n",
       "      <td>10</td>\n",
       "      <td>2,890,000.00</td>\n",
       "      <td>30.40</td>\n",
       "      <td>2018-09-10T00:00:00</td>\n",
       "      <td>1</td>\n",
       "      <td>nan</td>\n",
       "      <td>12.00</td>\n",
       "      <td>14.40</td>\n",
       "      <td>5</td>\n",
       "      <td>NaN</td>\n",
       "      <td>...</td>\n",
       "      <td>9.10</td>\n",
       "      <td>nan</td>\n",
       "      <td>городской посёлок Янино-1</td>\n",
       "      <td>nan</td>\n",
       "      <td>nan</td>\n",
       "      <td>nan</td>\n",
       "      <td>nan</td>\n",
       "      <td>nan</td>\n",
       "      <td>nan</td>\n",
       "      <td>55.00</td>\n",
       "    </tr>\n",
       "    <tr>\n",
       "      <td>6</td>\n",
       "      <td>6</td>\n",
       "      <td>3,700,000.00</td>\n",
       "      <td>37.30</td>\n",
       "      <td>2017-11-02T00:00:00</td>\n",
       "      <td>1</td>\n",
       "      <td>nan</td>\n",
       "      <td>26.00</td>\n",
       "      <td>10.60</td>\n",
       "      <td>6</td>\n",
       "      <td>NaN</td>\n",
       "      <td>...</td>\n",
       "      <td>14.40</td>\n",
       "      <td>1.00</td>\n",
       "      <td>посёлок Парголово</td>\n",
       "      <td>52,996.00</td>\n",
       "      <td>19,143.00</td>\n",
       "      <td>0.00</td>\n",
       "      <td>nan</td>\n",
       "      <td>0.00</td>\n",
       "      <td>nan</td>\n",
       "      <td>155.00</td>\n",
       "    </tr>\n",
       "    <tr>\n",
       "      <td>7</td>\n",
       "      <td>5</td>\n",
       "      <td>7,915,000.00</td>\n",
       "      <td>71.60</td>\n",
       "      <td>2019-04-18T00:00:00</td>\n",
       "      <td>2</td>\n",
       "      <td>nan</td>\n",
       "      <td>24.00</td>\n",
       "      <td>nan</td>\n",
       "      <td>22</td>\n",
       "      <td>NaN</td>\n",
       "      <td>...</td>\n",
       "      <td>18.90</td>\n",
       "      <td>2.00</td>\n",
       "      <td>Санкт-Петербург</td>\n",
       "      <td>23,982.00</td>\n",
       "      <td>11,634.00</td>\n",
       "      <td>0.00</td>\n",
       "      <td>nan</td>\n",
       "      <td>0.00</td>\n",
       "      <td>nan</td>\n",
       "      <td>nan</td>\n",
       "    </tr>\n",
       "    <tr>\n",
       "      <td>8</td>\n",
       "      <td>20</td>\n",
       "      <td>2,900,000.00</td>\n",
       "      <td>33.16</td>\n",
       "      <td>2018-05-23T00:00:00</td>\n",
       "      <td>1</td>\n",
       "      <td>nan</td>\n",
       "      <td>27.00</td>\n",
       "      <td>15.43</td>\n",
       "      <td>26</td>\n",
       "      <td>NaN</td>\n",
       "      <td>...</td>\n",
       "      <td>8.81</td>\n",
       "      <td>nan</td>\n",
       "      <td>посёлок Мурино</td>\n",
       "      <td>nan</td>\n",
       "      <td>nan</td>\n",
       "      <td>nan</td>\n",
       "      <td>nan</td>\n",
       "      <td>nan</td>\n",
       "      <td>nan</td>\n",
       "      <td>189.00</td>\n",
       "    </tr>\n",
       "    <tr>\n",
       "      <td>9</td>\n",
       "      <td>18</td>\n",
       "      <td>5,400,000.00</td>\n",
       "      <td>61.00</td>\n",
       "      <td>2017-02-26T00:00:00</td>\n",
       "      <td>3</td>\n",
       "      <td>2.50</td>\n",
       "      <td>9.00</td>\n",
       "      <td>43.60</td>\n",
       "      <td>7</td>\n",
       "      <td>NaN</td>\n",
       "      <td>...</td>\n",
       "      <td>6.50</td>\n",
       "      <td>2.00</td>\n",
       "      <td>Санкт-Петербург</td>\n",
       "      <td>50,898.00</td>\n",
       "      <td>15,008.00</td>\n",
       "      <td>0.00</td>\n",
       "      <td>nan</td>\n",
       "      <td>0.00</td>\n",
       "      <td>nan</td>\n",
       "      <td>289.00</td>\n",
       "    </tr>\n",
       "  </tbody>\n",
       "</table>\n",
       "<p>10 rows × 22 columns</p>\n",
       "</div>"
      ],
      "text/plain": [
       "   total_images    last_price  total_area first_day_exposition  rooms  \\\n",
       "0            20 13,000,000.00      108.00  2019-03-07T00:00:00      3   \n",
       "1             7  3,350,000.00       40.40  2018-12-04T00:00:00      1   \n",
       "2            10  5,196,000.00       56.00  2015-08-20T00:00:00      2   \n",
       "3             0 64,900,000.00      159.00  2015-07-24T00:00:00      3   \n",
       "4             2 10,000,000.00      100.00  2018-06-19T00:00:00      2   \n",
       "5            10  2,890,000.00       30.40  2018-09-10T00:00:00      1   \n",
       "6             6  3,700,000.00       37.30  2017-11-02T00:00:00      1   \n",
       "7             5  7,915,000.00       71.60  2019-04-18T00:00:00      2   \n",
       "8            20  2,900,000.00       33.16  2018-05-23T00:00:00      1   \n",
       "9            18  5,400,000.00       61.00  2017-02-26T00:00:00      3   \n",
       "\n",
       "   ceiling_height  floors_total  living_area  floor is_apartment  ...  \\\n",
       "0            2.70         16.00        51.00      8          NaN  ...   \n",
       "1             nan         11.00        18.60      1          NaN  ...   \n",
       "2             nan          5.00        34.30      4          NaN  ...   \n",
       "3             nan         14.00          nan      9          NaN  ...   \n",
       "4            3.03         14.00        32.00     13          NaN  ...   \n",
       "5             nan         12.00        14.40      5          NaN  ...   \n",
       "6             nan         26.00        10.60      6          NaN  ...   \n",
       "7             nan         24.00          nan     22          NaN  ...   \n",
       "8             nan         27.00        15.43     26          NaN  ...   \n",
       "9            2.50          9.00        43.60      7          NaN  ...   \n",
       "\n",
       "   kitchen_area  balcony              locality_name  airports_nearest  \\\n",
       "0         25.00      nan            Санкт-Петербург         18,863.00   \n",
       "1         11.00     2.00             посёлок Шушары         12,817.00   \n",
       "2          8.30     0.00            Санкт-Петербург         21,741.00   \n",
       "3           nan     0.00            Санкт-Петербург         28,098.00   \n",
       "4         41.00      nan            Санкт-Петербург         31,856.00   \n",
       "5          9.10      nan  городской посёлок Янино-1               nan   \n",
       "6         14.40     1.00          посёлок Парголово         52,996.00   \n",
       "7         18.90     2.00            Санкт-Петербург         23,982.00   \n",
       "8          8.81      nan             посёлок Мурино               nan   \n",
       "9          6.50     2.00            Санкт-Петербург         50,898.00   \n",
       "\n",
       "  cityCenters_nearest  parks_around3000  parks_nearest  ponds_around3000  \\\n",
       "0           16,028.00              1.00         482.00              2.00   \n",
       "1           18,603.00              0.00            nan              0.00   \n",
       "2           13,933.00              1.00          90.00              2.00   \n",
       "3            6,800.00              2.00          84.00              3.00   \n",
       "4            8,098.00              2.00         112.00              1.00   \n",
       "5                 nan               nan            nan               nan   \n",
       "6           19,143.00              0.00            nan              0.00   \n",
       "7           11,634.00              0.00            nan              0.00   \n",
       "8                 nan               nan            nan               nan   \n",
       "9           15,008.00              0.00            nan              0.00   \n",
       "\n",
       "   ponds_nearest  days_exposition  \n",
       "0         755.00              nan  \n",
       "1            nan            81.00  \n",
       "2         574.00           558.00  \n",
       "3         234.00           424.00  \n",
       "4          48.00           121.00  \n",
       "5            nan            55.00  \n",
       "6            nan           155.00  \n",
       "7            nan              nan  \n",
       "8            nan           189.00  \n",
       "9            nan           289.00  \n",
       "\n",
       "[10 rows x 22 columns]"
      ]
     },
     "execution_count": 430,
     "metadata": {},
     "output_type": "execute_result"
    }
   ],
   "source": [
    "data.head(10)"
   ]
  },
  {
   "cell_type": "markdown",
   "metadata": {},
   "source": [
    "Название столбца  cityCenters_nearest можно было бы переименовать.\n",
    "Имеются пропуски данных в столбцах.\n",
    "Некоторые столбцы имеют неудобные форматы для работы. К примеру, стобец first_day_exposition можно перевести в 'datatime'. Столбец balcony и floors_total можно перевести в целые числа и т.д. \n",
    "На первый взгляд, каких то явных артефактов или каких то выбросов значений данных не обнаружено в целом не считая пропусков первые строки выгляд нормально."
   ]
  },
  {
   "cell_type": "code",
   "execution_count": 431,
   "metadata": {},
   "outputs": [],
   "source": [
    "data = data.rename(columns={'cityCenters_nearest':'city_centers_nearest'})"
   ]
  },
  {
   "cell_type": "code",
   "execution_count": 432,
   "metadata": {},
   "outputs": [
    {
     "data": {
      "text/plain": [
       "0"
      ]
     },
     "execution_count": 432,
     "metadata": {},
     "output_type": "execute_result"
    }
   ],
   "source": [
    "#проверим явные дубликаты\n",
    "data.duplicated().sum()"
   ]
  },
  {
   "cell_type": "code",
   "execution_count": 433,
   "metadata": {},
   "outputs": [
    {
     "data": {
      "text/html": [
       "<div>\n",
       "<style scoped>\n",
       "    .dataframe tbody tr th:only-of-type {\n",
       "        vertical-align: middle;\n",
       "    }\n",
       "\n",
       "    .dataframe tbody tr th {\n",
       "        vertical-align: top;\n",
       "    }\n",
       "\n",
       "    .dataframe thead th {\n",
       "        text-align: right;\n",
       "    }\n",
       "</style>\n",
       "<table border=\"1\" class=\"dataframe\">\n",
       "  <thead>\n",
       "    <tr style=\"text-align: right;\">\n",
       "      <th></th>\n",
       "      <th>total_images</th>\n",
       "      <th>last_price</th>\n",
       "      <th>total_area</th>\n",
       "      <th>rooms</th>\n",
       "      <th>ceiling_height</th>\n",
       "      <th>floors_total</th>\n",
       "      <th>living_area</th>\n",
       "      <th>floor</th>\n",
       "      <th>kitchen_area</th>\n",
       "      <th>balcony</th>\n",
       "      <th>airports_nearest</th>\n",
       "      <th>city_centers_nearest</th>\n",
       "      <th>parks_around3000</th>\n",
       "      <th>parks_nearest</th>\n",
       "      <th>ponds_around3000</th>\n",
       "      <th>ponds_nearest</th>\n",
       "      <th>days_exposition</th>\n",
       "    </tr>\n",
       "  </thead>\n",
       "  <tbody>\n",
       "    <tr>\n",
       "      <td>count</td>\n",
       "      <td>23,699.00</td>\n",
       "      <td>23,699.00</td>\n",
       "      <td>23,699.00</td>\n",
       "      <td>23,699.00</td>\n",
       "      <td>14,504.00</td>\n",
       "      <td>23,613.00</td>\n",
       "      <td>21,796.00</td>\n",
       "      <td>23,699.00</td>\n",
       "      <td>21,421.00</td>\n",
       "      <td>12,180.00</td>\n",
       "      <td>18,157.00</td>\n",
       "      <td>18,180.00</td>\n",
       "      <td>18,181.00</td>\n",
       "      <td>8,079.00</td>\n",
       "      <td>18,181.00</td>\n",
       "      <td>9,110.00</td>\n",
       "      <td>20,518.00</td>\n",
       "    </tr>\n",
       "    <tr>\n",
       "      <td>mean</td>\n",
       "      <td>9.86</td>\n",
       "      <td>6,541,548.77</td>\n",
       "      <td>60.35</td>\n",
       "      <td>2.07</td>\n",
       "      <td>2.77</td>\n",
       "      <td>10.67</td>\n",
       "      <td>34.46</td>\n",
       "      <td>5.89</td>\n",
       "      <td>10.57</td>\n",
       "      <td>1.15</td>\n",
       "      <td>28,793.67</td>\n",
       "      <td>14,191.28</td>\n",
       "      <td>0.61</td>\n",
       "      <td>490.80</td>\n",
       "      <td>0.77</td>\n",
       "      <td>517.98</td>\n",
       "      <td>180.89</td>\n",
       "    </tr>\n",
       "    <tr>\n",
       "      <td>std</td>\n",
       "      <td>5.68</td>\n",
       "      <td>10,887,013.27</td>\n",
       "      <td>35.65</td>\n",
       "      <td>1.08</td>\n",
       "      <td>1.26</td>\n",
       "      <td>6.60</td>\n",
       "      <td>22.03</td>\n",
       "      <td>4.89</td>\n",
       "      <td>5.91</td>\n",
       "      <td>1.07</td>\n",
       "      <td>12,630.88</td>\n",
       "      <td>8,608.39</td>\n",
       "      <td>0.80</td>\n",
       "      <td>342.32</td>\n",
       "      <td>0.94</td>\n",
       "      <td>277.72</td>\n",
       "      <td>219.73</td>\n",
       "    </tr>\n",
       "    <tr>\n",
       "      <td>min</td>\n",
       "      <td>0.00</td>\n",
       "      <td>12,190.00</td>\n",
       "      <td>12.00</td>\n",
       "      <td>0.00</td>\n",
       "      <td>1.00</td>\n",
       "      <td>1.00</td>\n",
       "      <td>2.00</td>\n",
       "      <td>1.00</td>\n",
       "      <td>1.30</td>\n",
       "      <td>0.00</td>\n",
       "      <td>0.00</td>\n",
       "      <td>181.00</td>\n",
       "      <td>0.00</td>\n",
       "      <td>1.00</td>\n",
       "      <td>0.00</td>\n",
       "      <td>13.00</td>\n",
       "      <td>1.00</td>\n",
       "    </tr>\n",
       "    <tr>\n",
       "      <td>25%</td>\n",
       "      <td>6.00</td>\n",
       "      <td>3,400,000.00</td>\n",
       "      <td>40.00</td>\n",
       "      <td>1.00</td>\n",
       "      <td>2.52</td>\n",
       "      <td>5.00</td>\n",
       "      <td>18.60</td>\n",
       "      <td>2.00</td>\n",
       "      <td>7.00</td>\n",
       "      <td>0.00</td>\n",
       "      <td>18,585.00</td>\n",
       "      <td>9,238.00</td>\n",
       "      <td>0.00</td>\n",
       "      <td>288.00</td>\n",
       "      <td>0.00</td>\n",
       "      <td>294.00</td>\n",
       "      <td>45.00</td>\n",
       "    </tr>\n",
       "    <tr>\n",
       "      <td>50%</td>\n",
       "      <td>9.00</td>\n",
       "      <td>4,650,000.00</td>\n",
       "      <td>52.00</td>\n",
       "      <td>2.00</td>\n",
       "      <td>2.65</td>\n",
       "      <td>9.00</td>\n",
       "      <td>30.00</td>\n",
       "      <td>4.00</td>\n",
       "      <td>9.10</td>\n",
       "      <td>1.00</td>\n",
       "      <td>26,726.00</td>\n",
       "      <td>13,098.50</td>\n",
       "      <td>0.00</td>\n",
       "      <td>455.00</td>\n",
       "      <td>1.00</td>\n",
       "      <td>502.00</td>\n",
       "      <td>95.00</td>\n",
       "    </tr>\n",
       "    <tr>\n",
       "      <td>75%</td>\n",
       "      <td>14.00</td>\n",
       "      <td>6,800,000.00</td>\n",
       "      <td>69.90</td>\n",
       "      <td>3.00</td>\n",
       "      <td>2.80</td>\n",
       "      <td>16.00</td>\n",
       "      <td>42.30</td>\n",
       "      <td>8.00</td>\n",
       "      <td>12.00</td>\n",
       "      <td>2.00</td>\n",
       "      <td>37,273.00</td>\n",
       "      <td>16,293.00</td>\n",
       "      <td>1.00</td>\n",
       "      <td>612.00</td>\n",
       "      <td>1.00</td>\n",
       "      <td>729.00</td>\n",
       "      <td>232.00</td>\n",
       "    </tr>\n",
       "    <tr>\n",
       "      <td>max</td>\n",
       "      <td>50.00</td>\n",
       "      <td>763,000,000.00</td>\n",
       "      <td>900.00</td>\n",
       "      <td>19.00</td>\n",
       "      <td>100.00</td>\n",
       "      <td>60.00</td>\n",
       "      <td>409.70</td>\n",
       "      <td>33.00</td>\n",
       "      <td>112.00</td>\n",
       "      <td>5.00</td>\n",
       "      <td>84,869.00</td>\n",
       "      <td>65,968.00</td>\n",
       "      <td>3.00</td>\n",
       "      <td>3,190.00</td>\n",
       "      <td>3.00</td>\n",
       "      <td>1,344.00</td>\n",
       "      <td>1,580.00</td>\n",
       "    </tr>\n",
       "  </tbody>\n",
       "</table>\n",
       "</div>"
      ],
      "text/plain": [
       "       total_images     last_price  total_area     rooms  ceiling_height  \\\n",
       "count     23,699.00      23,699.00   23,699.00 23,699.00       14,504.00   \n",
       "mean           9.86   6,541,548.77       60.35      2.07            2.77   \n",
       "std            5.68  10,887,013.27       35.65      1.08            1.26   \n",
       "min            0.00      12,190.00       12.00      0.00            1.00   \n",
       "25%            6.00   3,400,000.00       40.00      1.00            2.52   \n",
       "50%            9.00   4,650,000.00       52.00      2.00            2.65   \n",
       "75%           14.00   6,800,000.00       69.90      3.00            2.80   \n",
       "max           50.00 763,000,000.00      900.00     19.00          100.00   \n",
       "\n",
       "       floors_total  living_area     floor  kitchen_area   balcony  \\\n",
       "count     23,613.00    21,796.00 23,699.00     21,421.00 12,180.00   \n",
       "mean          10.67        34.46      5.89         10.57      1.15   \n",
       "std            6.60        22.03      4.89          5.91      1.07   \n",
       "min            1.00         2.00      1.00          1.30      0.00   \n",
       "25%            5.00        18.60      2.00          7.00      0.00   \n",
       "50%            9.00        30.00      4.00          9.10      1.00   \n",
       "75%           16.00        42.30      8.00         12.00      2.00   \n",
       "max           60.00       409.70     33.00        112.00      5.00   \n",
       "\n",
       "       airports_nearest  city_centers_nearest  parks_around3000  \\\n",
       "count         18,157.00             18,180.00         18,181.00   \n",
       "mean          28,793.67             14,191.28              0.61   \n",
       "std           12,630.88              8,608.39              0.80   \n",
       "min                0.00                181.00              0.00   \n",
       "25%           18,585.00              9,238.00              0.00   \n",
       "50%           26,726.00             13,098.50              0.00   \n",
       "75%           37,273.00             16,293.00              1.00   \n",
       "max           84,869.00             65,968.00              3.00   \n",
       "\n",
       "       parks_nearest  ponds_around3000  ponds_nearest  days_exposition  \n",
       "count       8,079.00         18,181.00       9,110.00        20,518.00  \n",
       "mean          490.80              0.77         517.98           180.89  \n",
       "std           342.32              0.94         277.72           219.73  \n",
       "min             1.00              0.00          13.00             1.00  \n",
       "25%           288.00              0.00         294.00            45.00  \n",
       "50%           455.00              1.00         502.00            95.00  \n",
       "75%           612.00              1.00         729.00           232.00  \n",
       "max         3,190.00              3.00       1,344.00         1,580.00  "
      ]
     },
     "execution_count": 433,
     "metadata": {},
     "output_type": "execute_result"
    }
   ],
   "source": [
    "#изучим данные методом describe()\n",
    "pd.set_option('display.float_format', '{:,.2f}'.format)\n",
    "data.describe()"
   ]
  },
  {
   "cell_type": "markdown",
   "metadata": {},
   "source": [
    "Видны странные значение в разных колонках. В колонке rooms минимальное значение комнат 0, чего не может быть. А максимальное отражает 19 комнат. Возможно такие квартиры и существуют, но думаю вряд ли они подходят для нашего анализа. В целом по данной колонке очень сильное значение стнадартного отклонения, по которому сразу ясно что есть сильные выбросы. Аналогично и с колонками living_area, ceiling_height, kitchen_area максимальное и минимальное значения сильно вызывают сомнения, у living_area тоже сильное стнадартное отклонение.\n",
    "Данный метод странно подсчитал значения для колонки last_price, даже количество строк получило странную запись. Для данной колонки выделю хотя бы максимальное и минимальное значение отдельно.\n"
   ]
  },
  {
   "cell_type": "code",
   "execution_count": 434,
   "metadata": {},
   "outputs": [
    {
     "name": "stdout",
     "output_type": "stream",
     "text": [
      "12190.0\n"
     ]
    },
    {
     "data": {
      "text/plain": [
       "763000000.0"
      ]
     },
     "execution_count": 434,
     "metadata": {},
     "output_type": "execute_result"
    }
   ],
   "source": [
    "print(data['last_price'].min())\n",
    "data['last_price'].max()"
   ]
  },
  {
   "cell_type": "markdown",
   "metadata": {},
   "source": [
    "Явных ошибок тут нет. Однако данные значения могут сигнализировать о наличие выбросов."
   ]
  },
  {
   "cell_type": "markdown",
   "metadata": {},
   "source": [
    "### Вывод"
   ]
  },
  {
   "cell_type": "markdown",
   "metadata": {},
   "source": [
    "Изучение данных помогло выявить следующие моменты:\n",
    "- Имеются пропуски данных\n",
    "- Некоторые колонки можно преобразовать в другой тип данных для удобства, также упростить их значеня(к примеру, колонку цен перевести в тысячи и т. п.)\n",
    "- Были замечаны выбросы значений или значения нехарактерные для тех или иных параметров."
   ]
  },
  {
   "cell_type": "markdown",
   "metadata": {},
   "source": [
    "## Предобработка данных"
   ]
  },
  {
   "cell_type": "markdown",
   "metadata": {},
   "source": [
    "### Работа с пропусками"
   ]
  },
  {
   "cell_type": "code",
   "execution_count": 435,
   "metadata": {},
   "outputs": [
    {
     "data": {
      "text/plain": [
       "0.002067597788936242"
      ]
     },
     "execution_count": 435,
     "metadata": {},
     "output_type": "execute_result"
    }
   ],
   "source": [
    "# оценим количество пропусков в столбце locality_name\n",
    "data['locality_name'].isna().sum()/len(data)"
   ]
  },
  {
   "cell_type": "code",
   "execution_count": 436,
   "metadata": {},
   "outputs": [],
   "source": [
    "# строками с этими пропусками можно пренебречь уберем их из таблицы\n",
    "data = data.dropna(subset=['locality_name']).reset_index(drop=True)"
   ]
  },
  {
   "cell_type": "code",
   "execution_count": 437,
   "metadata": {},
   "outputs": [],
   "source": [
    "# пропуски в колонке is_apartment скорее всего значат, что это тоже не апартаменты\n",
    "data['is_apartment'] = data['is_apartment'].fillna(False)"
   ]
  },
  {
   "cell_type": "code",
   "execution_count": 438,
   "metadata": {},
   "outputs": [],
   "source": [
    "# Пропуски в колонке balcony скорее всего вызване тем, что люди из-за отсутсвия балкона не стали заполнять этт параметр\n",
    "#Поэтому можем заменить значения в столбце на 0\n",
    "data['balcony'] = data['balcony'].fillna(0)"
   ]
  },
  {
   "cell_type": "code",
   "execution_count": 439,
   "metadata": {},
   "outputs": [
    {
     "data": {
      "text/plain": [
       "0.003594080338266385"
      ]
     },
     "execution_count": 439,
     "metadata": {},
     "output_type": "execute_result"
    }
   ],
   "source": [
    "#высоту полотков вряд ли сгруппируешь по предложенным критериям про легче произвести замену по медиане столбца. \n",
    "data['ceiling_height'] = data['ceiling_height'].fillna(data['ceiling_height'].median())\n",
    "#с количесвтом этажей сложнее однако пропусков совсем немного, незначительное число. \n",
    "data['floors_total'].isna().sum()/len(data)\n",
    "\n"
   ]
  },
  {
   "cell_type": "code",
   "execution_count": 440,
   "metadata": {},
   "outputs": [],
   "source": [
    "# строками с этими пропусками можно пренебречь уберем их из таблицы\n",
    "data = data.dropna(subset=['floors_total']).reset_index(drop=True)"
   ]
  },
  {
   "cell_type": "code",
   "execution_count": 441,
   "metadata": {},
   "outputs": [],
   "source": [
    "# заменим пропуски по площадям, но сначала созданим колонки соотношения по долям между общей площадь с жилой и кухонной зоной\n",
    "data['living_to_total'] = data['living_area']/data['total_area']*100\n",
    "data['kitchen_to_total'] = data['kitchen_area']/data['total_area']*100"
   ]
  },
  {
   "cell_type": "code",
   "execution_count": 442,
   "metadata": {},
   "outputs": [],
   "source": [
    "# теперь построим сводную таблицу содержащее медиану по долям в зависимости от комнат\n",
    "data_area = data.pivot_table(index='rooms', values=['living_area','kitchen_area'], aggfunc='median')\n",
    "#пропишем функцию замены для этих пропусков\n",
    "def replace_living(row):\n",
    "    if pd.isna(row['living_area']):\n",
    "        return (data_area.loc[row['rooms'], 'living_area'])*row['total_area']/100\n",
    "    return row['living_area']\n",
    "\n",
    "data['living_area']  = data.apply(replace_living, axis=1)\n",
    "\n",
    "def replace_kitchen(row):\n",
    "    if pd.isna(row['kitchen_area']):\n",
    "        return (data_area.loc[row['rooms'],'kitchen_area'])*row['total_area']/100\n",
    "    return row['kitchen_area']\n",
    "\n",
    "data['kitchen_area']  = data.apply(replace_kitchen, axis=1)"
   ]
  },
  {
   "cell_type": "code",
   "execution_count": 443,
   "metadata": {},
   "outputs": [
    {
     "data": {
      "text/html": [
       "<div>\n",
       "<style scoped>\n",
       "    .dataframe tbody tr th:only-of-type {\n",
       "        vertical-align: middle;\n",
       "    }\n",
       "\n",
       "    .dataframe tbody tr th {\n",
       "        vertical-align: top;\n",
       "    }\n",
       "\n",
       "    .dataframe thead th {\n",
       "        text-align: right;\n",
       "    }\n",
       "</style>\n",
       "<table border=\"1\" class=\"dataframe\">\n",
       "  <thead>\n",
       "    <tr style=\"text-align: right;\">\n",
       "      <th></th>\n",
       "      <th>kitchen_area</th>\n",
       "      <th>living_area</th>\n",
       "    </tr>\n",
       "    <tr>\n",
       "      <th>rooms</th>\n",
       "      <th></th>\n",
       "      <th></th>\n",
       "    </tr>\n",
       "  </thead>\n",
       "  <tbody>\n",
       "    <tr>\n",
       "      <td>0</td>\n",
       "      <td>nan</td>\n",
       "      <td>18.00</td>\n",
       "    </tr>\n",
       "    <tr>\n",
       "      <td>1</td>\n",
       "      <td>9.00</td>\n",
       "      <td>17.40</td>\n",
       "    </tr>\n",
       "    <tr>\n",
       "      <td>2</td>\n",
       "      <td>8.30</td>\n",
       "      <td>30.00</td>\n",
       "    </tr>\n",
       "    <tr>\n",
       "      <td>3</td>\n",
       "      <td>9.00</td>\n",
       "      <td>44.10</td>\n",
       "    </tr>\n",
       "    <tr>\n",
       "      <td>4</td>\n",
       "      <td>11.00</td>\n",
       "      <td>64.00</td>\n",
       "    </tr>\n",
       "    <tr>\n",
       "      <td>5</td>\n",
       "      <td>16.00</td>\n",
       "      <td>95.00</td>\n",
       "    </tr>\n",
       "    <tr>\n",
       "      <td>6</td>\n",
       "      <td>20.00</td>\n",
       "      <td>126.50</td>\n",
       "    </tr>\n",
       "    <tr>\n",
       "      <td>7</td>\n",
       "      <td>20.12</td>\n",
       "      <td>151.40</td>\n",
       "    </tr>\n",
       "    <tr>\n",
       "      <td>8</td>\n",
       "      <td>27.70</td>\n",
       "      <td>161.00</td>\n",
       "    </tr>\n",
       "    <tr>\n",
       "      <td>9</td>\n",
       "      <td>23.60</td>\n",
       "      <td>189.10</td>\n",
       "    </tr>\n",
       "    <tr>\n",
       "      <td>10</td>\n",
       "      <td>19.80</td>\n",
       "      <td>161.40</td>\n",
       "    </tr>\n",
       "    <tr>\n",
       "      <td>11</td>\n",
       "      <td>12.60</td>\n",
       "      <td>133.90</td>\n",
       "    </tr>\n",
       "    <tr>\n",
       "      <td>12</td>\n",
       "      <td>112.00</td>\n",
       "      <td>409.70</td>\n",
       "    </tr>\n",
       "    <tr>\n",
       "      <td>14</td>\n",
       "      <td>21.25</td>\n",
       "      <td>195.15</td>\n",
       "    </tr>\n",
       "    <tr>\n",
       "      <td>15</td>\n",
       "      <td>100.00</td>\n",
       "      <td>409.00</td>\n",
       "    </tr>\n",
       "    <tr>\n",
       "      <td>16</td>\n",
       "      <td>13.00</td>\n",
       "      <td>180.00</td>\n",
       "    </tr>\n",
       "    <tr>\n",
       "      <td>19</td>\n",
       "      <td>27.60</td>\n",
       "      <td>264.50</td>\n",
       "    </tr>\n",
       "  </tbody>\n",
       "</table>\n",
       "</div>"
      ],
      "text/plain": [
       "       kitchen_area  living_area\n",
       "rooms                           \n",
       "0               nan        18.00\n",
       "1              9.00        17.40\n",
       "2              8.30        30.00\n",
       "3              9.00        44.10\n",
       "4             11.00        64.00\n",
       "5             16.00        95.00\n",
       "6             20.00       126.50\n",
       "7             20.12       151.40\n",
       "8             27.70       161.00\n",
       "9             23.60       189.10\n",
       "10            19.80       161.40\n",
       "11            12.60       133.90\n",
       "12           112.00       409.70\n",
       "14            21.25       195.15\n",
       "15           100.00       409.00\n",
       "16            13.00       180.00\n",
       "19            27.60       264.50"
      ]
     },
     "execution_count": 443,
     "metadata": {},
     "output_type": "execute_result"
    }
   ],
   "source": [
    "# проверим медианы\n",
    "data.pivot_table(index='rooms', values=['living_area','kitchen_area'], aggfunc='median')"
   ]
  },
  {
   "cell_type": "code",
   "execution_count": 444,
   "metadata": {},
   "outputs": [],
   "source": [
    "# для площадь кухонь с 0 комнаты таких данных не было, \n",
    "#однако недвижимость без комнат это ошибочные данные, которыми можно пренебречь\n",
    "data = data.dropna(subset=['kitchen_area']).reset_index(drop=True)"
   ]
  },
  {
   "cell_type": "code",
   "execution_count": 445,
   "metadata": {},
   "outputs": [
    {
     "name": "stdout",
     "output_type": "stream",
     "text": [
      "<class 'pandas.core.frame.DataFrame'>\n",
      "RangeIndex: 23371 entries, 0 to 23370\n",
      "Data columns (total 24 columns):\n",
      "total_images            23371 non-null int64\n",
      "last_price              23371 non-null float64\n",
      "total_area              23371 non-null float64\n",
      "first_day_exposition    23371 non-null object\n",
      "rooms                   23371 non-null int64\n",
      "ceiling_height          23371 non-null float64\n",
      "floors_total            23371 non-null float64\n",
      "living_area             23371 non-null float64\n",
      "floor                   23371 non-null int64\n",
      "is_apartment            23371 non-null bool\n",
      "studio                  23371 non-null bool\n",
      "open_plan               23371 non-null bool\n",
      "kitchen_area            23371 non-null float64\n",
      "balcony                 23371 non-null float64\n",
      "locality_name           23371 non-null object\n",
      "airports_nearest        17924 non-null float64\n",
      "city_centers_nearest    17947 non-null float64\n",
      "parks_around3000        17948 non-null float64\n",
      "parks_nearest           8002 non-null float64\n",
      "ponds_around3000        17948 non-null float64\n",
      "ponds_nearest           8968 non-null float64\n",
      "days_exposition         20214 non-null float64\n",
      "living_to_total         21517 non-null float64\n",
      "kitchen_to_total        21343 non-null float64\n",
      "dtypes: bool(3), float64(16), int64(3), object(2)\n",
      "memory usage: 3.8+ MB\n"
     ]
    }
   ],
   "source": [
    "data.info()"
   ]
  },
  {
   "cell_type": "markdown",
   "metadata": {},
   "source": [
    "Пропусков подходящих для замены больше не обнаружено."
   ]
  },
  {
   "cell_type": "markdown",
   "metadata": {},
   "source": [
    "### Изменение типов данных"
   ]
  },
  {
   "cell_type": "code",
   "execution_count": 446,
   "metadata": {},
   "outputs": [],
   "source": [
    "#переведем столбец first_day_exposition в пригодный для работы с датами формат, оставив только одну дату часы нам не понадобятся\n",
    "data['first_day_exposition'] =pd.to_datetime(data['first_day_exposition'], format='%Y-%m-%d')"
   ]
  },
  {
   "cell_type": "code",
   "execution_count": 447,
   "metadata": {},
   "outputs": [],
   "source": [
    "# переведем ряд столбцов в целые числа отбрасив десятичные дроби, \n",
    "#там где они не столь сущесвтенные или не логичны совсем, цены и метры также заодно упростим до тысяч или километров\n",
    "data['last_price'] = (data['last_price']/1000).astype('int')\n",
    "\n",
    "data['floors_total'] = data['floors_total'].astype('int')\n",
    "data['balcony'] = data['balcony'].astype('int')\n",
    "\n",
    "# расстояние для удобства переведем в километры \n",
    "data['city_centers_nearest'] = data['city_centers_nearest']/1000\n"
   ]
  },
  {
   "cell_type": "code",
   "execution_count": 448,
   "metadata": {},
   "outputs": [
    {
     "name": "stdout",
     "output_type": "stream",
     "text": [
      "<class 'pandas.core.frame.DataFrame'>\n",
      "RangeIndex: 23371 entries, 0 to 23370\n",
      "Data columns (total 24 columns):\n",
      "total_images            23371 non-null int64\n",
      "last_price              23371 non-null int64\n",
      "total_area              23371 non-null float64\n",
      "first_day_exposition    23371 non-null datetime64[ns]\n",
      "rooms                   23371 non-null int64\n",
      "ceiling_height          23371 non-null float64\n",
      "floors_total            23371 non-null int64\n",
      "living_area             23371 non-null float64\n",
      "floor                   23371 non-null int64\n",
      "is_apartment            23371 non-null bool\n",
      "studio                  23371 non-null bool\n",
      "open_plan               23371 non-null bool\n",
      "kitchen_area            23371 non-null float64\n",
      "balcony                 23371 non-null int64\n",
      "locality_name           23371 non-null object\n",
      "airports_nearest        17924 non-null float64\n",
      "city_centers_nearest    17947 non-null float64\n",
      "parks_around3000        17948 non-null float64\n",
      "parks_nearest           8002 non-null float64\n",
      "ponds_around3000        17948 non-null float64\n",
      "ponds_nearest           8968 non-null float64\n",
      "days_exposition         20214 non-null float64\n",
      "living_to_total         21517 non-null float64\n",
      "kitchen_to_total        21343 non-null float64\n",
      "dtypes: bool(3), datetime64[ns](1), float64(13), int64(6), object(1)\n",
      "memory usage: 3.8+ MB\n"
     ]
    }
   ],
   "source": [
    "data.info()"
   ]
  },
  {
   "cell_type": "markdown",
   "metadata": {},
   "source": [
    "Типы данных необходимых для анализа стали нагляднее и легче для восприятия и работы с ними. "
   ]
  },
  {
   "cell_type": "markdown",
   "metadata": {},
   "source": [
    "## Расчёты и добавление результатов в таблицу"
   ]
  },
  {
   "cell_type": "code",
   "execution_count": 449,
   "metadata": {},
   "outputs": [],
   "source": [
    "# добавим соотношения по площадям уже было добавлено ранее\n",
    "#добавляем колонку с ценой квадратного метра\n",
    "data['price_for_metr']=data['last_price']/data['total_area']\n",
    "#добавляем в таблицу день недели, год и месяц\n",
    "data['weekday'] = pd.DatetimeIndex(data['first_day_exposition']).weekday\n",
    "data['month'] = pd.DatetimeIndex(data['first_day_exposition']).month\n",
    "data['year'] = pd.DatetimeIndex(data['first_day_exposition']).year\n",
    "#добавляем группировку по этажам\n",
    "def group_floor(row):\n",
    "    if row['floors_total'] == row['floor']:\n",
    "        if row['floor'] == 1:\n",
    "            return 'первый'  \n",
    "        else:\n",
    "            return 'последний'\n",
    "    return 'другой'\n",
    "data['group_floor']=data.apply(group_floor, axis=1)"
   ]
  },
  {
   "cell_type": "code",
   "execution_count": 450,
   "metadata": {},
   "outputs": [
    {
     "data": {
      "text/html": [
       "<div>\n",
       "<style scoped>\n",
       "    .dataframe tbody tr th:only-of-type {\n",
       "        vertical-align: middle;\n",
       "    }\n",
       "\n",
       "    .dataframe tbody tr th {\n",
       "        vertical-align: top;\n",
       "    }\n",
       "\n",
       "    .dataframe thead th {\n",
       "        text-align: right;\n",
       "    }\n",
       "</style>\n",
       "<table border=\"1\" class=\"dataframe\">\n",
       "  <thead>\n",
       "    <tr style=\"text-align: right;\">\n",
       "      <th></th>\n",
       "      <th>total_images</th>\n",
       "      <th>last_price</th>\n",
       "      <th>total_area</th>\n",
       "      <th>first_day_exposition</th>\n",
       "      <th>rooms</th>\n",
       "      <th>ceiling_height</th>\n",
       "      <th>floors_total</th>\n",
       "      <th>living_area</th>\n",
       "      <th>floor</th>\n",
       "      <th>is_apartment</th>\n",
       "      <th>...</th>\n",
       "      <th>ponds_around3000</th>\n",
       "      <th>ponds_nearest</th>\n",
       "      <th>days_exposition</th>\n",
       "      <th>living_to_total</th>\n",
       "      <th>kitchen_to_total</th>\n",
       "      <th>price_for_metr</th>\n",
       "      <th>weekday</th>\n",
       "      <th>month</th>\n",
       "      <th>year</th>\n",
       "      <th>group_floor</th>\n",
       "    </tr>\n",
       "  </thead>\n",
       "  <tbody>\n",
       "    <tr>\n",
       "      <td>0</td>\n",
       "      <td>20</td>\n",
       "      <td>13000</td>\n",
       "      <td>108.00</td>\n",
       "      <td>2019-03-07</td>\n",
       "      <td>3</td>\n",
       "      <td>2.70</td>\n",
       "      <td>16</td>\n",
       "      <td>51.00</td>\n",
       "      <td>8</td>\n",
       "      <td>False</td>\n",
       "      <td>...</td>\n",
       "      <td>2.00</td>\n",
       "      <td>755.00</td>\n",
       "      <td>nan</td>\n",
       "      <td>47.22</td>\n",
       "      <td>23.15</td>\n",
       "      <td>120.37</td>\n",
       "      <td>3</td>\n",
       "      <td>3</td>\n",
       "      <td>2019</td>\n",
       "      <td>другой</td>\n",
       "    </tr>\n",
       "    <tr>\n",
       "      <td>1</td>\n",
       "      <td>7</td>\n",
       "      <td>3350</td>\n",
       "      <td>40.40</td>\n",
       "      <td>2018-12-04</td>\n",
       "      <td>1</td>\n",
       "      <td>2.65</td>\n",
       "      <td>11</td>\n",
       "      <td>18.60</td>\n",
       "      <td>1</td>\n",
       "      <td>False</td>\n",
       "      <td>...</td>\n",
       "      <td>0.00</td>\n",
       "      <td>nan</td>\n",
       "      <td>81.00</td>\n",
       "      <td>46.04</td>\n",
       "      <td>27.23</td>\n",
       "      <td>82.92</td>\n",
       "      <td>1</td>\n",
       "      <td>12</td>\n",
       "      <td>2018</td>\n",
       "      <td>другой</td>\n",
       "    </tr>\n",
       "    <tr>\n",
       "      <td>2</td>\n",
       "      <td>10</td>\n",
       "      <td>5196</td>\n",
       "      <td>56.00</td>\n",
       "      <td>2015-08-20</td>\n",
       "      <td>2</td>\n",
       "      <td>2.65</td>\n",
       "      <td>5</td>\n",
       "      <td>34.30</td>\n",
       "      <td>4</td>\n",
       "      <td>False</td>\n",
       "      <td>...</td>\n",
       "      <td>2.00</td>\n",
       "      <td>574.00</td>\n",
       "      <td>558.00</td>\n",
       "      <td>61.25</td>\n",
       "      <td>14.82</td>\n",
       "      <td>92.79</td>\n",
       "      <td>3</td>\n",
       "      <td>8</td>\n",
       "      <td>2015</td>\n",
       "      <td>другой</td>\n",
       "    </tr>\n",
       "    <tr>\n",
       "      <td>3</td>\n",
       "      <td>0</td>\n",
       "      <td>64900</td>\n",
       "      <td>159.00</td>\n",
       "      <td>2015-07-24</td>\n",
       "      <td>3</td>\n",
       "      <td>2.65</td>\n",
       "      <td>14</td>\n",
       "      <td>71.55</td>\n",
       "      <td>9</td>\n",
       "      <td>False</td>\n",
       "      <td>...</td>\n",
       "      <td>3.00</td>\n",
       "      <td>234.00</td>\n",
       "      <td>424.00</td>\n",
       "      <td>nan</td>\n",
       "      <td>nan</td>\n",
       "      <td>408.18</td>\n",
       "      <td>4</td>\n",
       "      <td>7</td>\n",
       "      <td>2015</td>\n",
       "      <td>другой</td>\n",
       "    </tr>\n",
       "    <tr>\n",
       "      <td>4</td>\n",
       "      <td>2</td>\n",
       "      <td>10000</td>\n",
       "      <td>100.00</td>\n",
       "      <td>2018-06-19</td>\n",
       "      <td>2</td>\n",
       "      <td>3.03</td>\n",
       "      <td>14</td>\n",
       "      <td>32.00</td>\n",
       "      <td>13</td>\n",
       "      <td>False</td>\n",
       "      <td>...</td>\n",
       "      <td>1.00</td>\n",
       "      <td>48.00</td>\n",
       "      <td>121.00</td>\n",
       "      <td>32.00</td>\n",
       "      <td>41.00</td>\n",
       "      <td>100.00</td>\n",
       "      <td>1</td>\n",
       "      <td>6</td>\n",
       "      <td>2018</td>\n",
       "      <td>другой</td>\n",
       "    </tr>\n",
       "    <tr>\n",
       "      <td>5</td>\n",
       "      <td>10</td>\n",
       "      <td>2890</td>\n",
       "      <td>30.40</td>\n",
       "      <td>2018-09-10</td>\n",
       "      <td>1</td>\n",
       "      <td>2.65</td>\n",
       "      <td>12</td>\n",
       "      <td>14.40</td>\n",
       "      <td>5</td>\n",
       "      <td>False</td>\n",
       "      <td>...</td>\n",
       "      <td>nan</td>\n",
       "      <td>nan</td>\n",
       "      <td>55.00</td>\n",
       "      <td>47.37</td>\n",
       "      <td>29.93</td>\n",
       "      <td>95.07</td>\n",
       "      <td>0</td>\n",
       "      <td>9</td>\n",
       "      <td>2018</td>\n",
       "      <td>другой</td>\n",
       "    </tr>\n",
       "    <tr>\n",
       "      <td>6</td>\n",
       "      <td>6</td>\n",
       "      <td>3700</td>\n",
       "      <td>37.30</td>\n",
       "      <td>2017-11-02</td>\n",
       "      <td>1</td>\n",
       "      <td>2.65</td>\n",
       "      <td>26</td>\n",
       "      <td>10.60</td>\n",
       "      <td>6</td>\n",
       "      <td>False</td>\n",
       "      <td>...</td>\n",
       "      <td>0.00</td>\n",
       "      <td>nan</td>\n",
       "      <td>155.00</td>\n",
       "      <td>28.42</td>\n",
       "      <td>38.61</td>\n",
       "      <td>99.20</td>\n",
       "      <td>3</td>\n",
       "      <td>11</td>\n",
       "      <td>2017</td>\n",
       "      <td>другой</td>\n",
       "    </tr>\n",
       "    <tr>\n",
       "      <td>7</td>\n",
       "      <td>5</td>\n",
       "      <td>7915</td>\n",
       "      <td>71.60</td>\n",
       "      <td>2019-04-18</td>\n",
       "      <td>2</td>\n",
       "      <td>2.65</td>\n",
       "      <td>24</td>\n",
       "      <td>21.84</td>\n",
       "      <td>22</td>\n",
       "      <td>False</td>\n",
       "      <td>...</td>\n",
       "      <td>0.00</td>\n",
       "      <td>nan</td>\n",
       "      <td>nan</td>\n",
       "      <td>nan</td>\n",
       "      <td>26.40</td>\n",
       "      <td>110.54</td>\n",
       "      <td>3</td>\n",
       "      <td>4</td>\n",
       "      <td>2019</td>\n",
       "      <td>другой</td>\n",
       "    </tr>\n",
       "    <tr>\n",
       "      <td>8</td>\n",
       "      <td>20</td>\n",
       "      <td>2900</td>\n",
       "      <td>33.16</td>\n",
       "      <td>2018-05-23</td>\n",
       "      <td>1</td>\n",
       "      <td>2.65</td>\n",
       "      <td>27</td>\n",
       "      <td>15.43</td>\n",
       "      <td>26</td>\n",
       "      <td>False</td>\n",
       "      <td>...</td>\n",
       "      <td>nan</td>\n",
       "      <td>nan</td>\n",
       "      <td>189.00</td>\n",
       "      <td>46.53</td>\n",
       "      <td>26.57</td>\n",
       "      <td>87.45</td>\n",
       "      <td>2</td>\n",
       "      <td>5</td>\n",
       "      <td>2018</td>\n",
       "      <td>другой</td>\n",
       "    </tr>\n",
       "    <tr>\n",
       "      <td>9</td>\n",
       "      <td>18</td>\n",
       "      <td>5400</td>\n",
       "      <td>61.00</td>\n",
       "      <td>2017-02-26</td>\n",
       "      <td>3</td>\n",
       "      <td>2.50</td>\n",
       "      <td>9</td>\n",
       "      <td>43.60</td>\n",
       "      <td>7</td>\n",
       "      <td>False</td>\n",
       "      <td>...</td>\n",
       "      <td>0.00</td>\n",
       "      <td>nan</td>\n",
       "      <td>289.00</td>\n",
       "      <td>71.48</td>\n",
       "      <td>10.66</td>\n",
       "      <td>88.52</td>\n",
       "      <td>6</td>\n",
       "      <td>2</td>\n",
       "      <td>2017</td>\n",
       "      <td>другой</td>\n",
       "    </tr>\n",
       "  </tbody>\n",
       "</table>\n",
       "<p>10 rows × 29 columns</p>\n",
       "</div>"
      ],
      "text/plain": [
       "   total_images  last_price  total_area first_day_exposition  rooms  \\\n",
       "0            20       13000      108.00           2019-03-07      3   \n",
       "1             7        3350       40.40           2018-12-04      1   \n",
       "2            10        5196       56.00           2015-08-20      2   \n",
       "3             0       64900      159.00           2015-07-24      3   \n",
       "4             2       10000      100.00           2018-06-19      2   \n",
       "5            10        2890       30.40           2018-09-10      1   \n",
       "6             6        3700       37.30           2017-11-02      1   \n",
       "7             5        7915       71.60           2019-04-18      2   \n",
       "8            20        2900       33.16           2018-05-23      1   \n",
       "9            18        5400       61.00           2017-02-26      3   \n",
       "\n",
       "   ceiling_height  floors_total  living_area  floor  is_apartment  ...  \\\n",
       "0            2.70            16        51.00      8         False  ...   \n",
       "1            2.65            11        18.60      1         False  ...   \n",
       "2            2.65             5        34.30      4         False  ...   \n",
       "3            2.65            14        71.55      9         False  ...   \n",
       "4            3.03            14        32.00     13         False  ...   \n",
       "5            2.65            12        14.40      5         False  ...   \n",
       "6            2.65            26        10.60      6         False  ...   \n",
       "7            2.65            24        21.84     22         False  ...   \n",
       "8            2.65            27        15.43     26         False  ...   \n",
       "9            2.50             9        43.60      7         False  ...   \n",
       "\n",
       "   ponds_around3000  ponds_nearest  days_exposition  living_to_total  \\\n",
       "0              2.00         755.00              nan            47.22   \n",
       "1              0.00            nan            81.00            46.04   \n",
       "2              2.00         574.00           558.00            61.25   \n",
       "3              3.00         234.00           424.00              nan   \n",
       "4              1.00          48.00           121.00            32.00   \n",
       "5               nan            nan            55.00            47.37   \n",
       "6              0.00            nan           155.00            28.42   \n",
       "7              0.00            nan              nan              nan   \n",
       "8               nan            nan           189.00            46.53   \n",
       "9              0.00            nan           289.00            71.48   \n",
       "\n",
       "  kitchen_to_total  price_for_metr  weekday  month  year  group_floor  \n",
       "0            23.15          120.37        3      3  2019       другой  \n",
       "1            27.23           82.92        1     12  2018       другой  \n",
       "2            14.82           92.79        3      8  2015       другой  \n",
       "3              nan          408.18        4      7  2015       другой  \n",
       "4            41.00          100.00        1      6  2018       другой  \n",
       "5            29.93           95.07        0      9  2018       другой  \n",
       "6            38.61           99.20        3     11  2017       другой  \n",
       "7            26.40          110.54        3      4  2019       другой  \n",
       "8            26.57           87.45        2      5  2018       другой  \n",
       "9            10.66           88.52        6      2  2017       другой  \n",
       "\n",
       "[10 rows x 29 columns]"
      ]
     },
     "execution_count": 450,
     "metadata": {},
     "output_type": "execute_result"
    }
   ],
   "source": [
    "data.head(10)"
   ]
  },
  {
   "cell_type": "markdown",
   "metadata": {},
   "source": [
    "Необходимые расчеты произведены. Данные успешно добавлены в таблицу. Теперь можно переходить к исследовательскому анализу"
   ]
  },
  {
   "cell_type": "markdown",
   "metadata": {},
   "source": [
    "## Исследовательский анализ данных"
   ]
  },
  {
   "cell_type": "markdown",
   "metadata": {},
   "source": [
    "### Предварительный анализ параметров"
   ]
  },
  {
   "cell_type": "markdown",
   "metadata": {},
   "source": [
    "Ранее мы уже находили минимальное и максимальное значение для цены. Разброс цен большой от 12 000 до 783 000 000. Возможно в данном параметры имеют выбросы. Для того чтобы лучше разобраться выведем среднюю и медиану по цене."
   ]
  },
  {
   "cell_type": "code",
   "execution_count": 451,
   "metadata": {},
   "outputs": [
    {
     "name": "stdout",
     "output_type": "stream",
     "text": [
      "6566.56895297591\n"
     ]
    },
    {
     "data": {
      "text/plain": [
       "4650.0"
      ]
     },
     "execution_count": 451,
     "metadata": {},
     "output_type": "execute_result"
    }
   ],
   "source": [
    "print(data['last_price'].mean())\n",
    "data['last_price'].median()"
   ]
  },
  {
   "cell_type": "markdown",
   "metadata": {},
   "source": [
    "Медиана и средняя сильно отличаются почти что в 2 млн. рублей такие данные явно не будут пригодны для полноценного анализа нужно будет избавится отвыбросов. В целом 4,6 млн за недвижимость похоже на правду. Касательно других параметров то их выбросы были замечены еще в первой разделе проекта, когда использовался метод describe(). Высота потолков варьируется от 1 метра до 100 метров, к примеру. С площадью пока что менее очевидно есть ли там сущесвтенные выбросы, хотя площадь в 900 м2 слишком большая даже для ангаров. Касательно комнат посчитаем значения для наглядности."
   ]
  },
  {
   "cell_type": "code",
   "execution_count": 452,
   "metadata": {},
   "outputs": [
    {
     "data": {
      "text/plain": [
       "1     8004\n",
       "2     7897\n",
       "3     5779\n",
       "4     1172\n",
       "5      325\n",
       "6      104\n",
       "7       59\n",
       "8       12\n",
       "9        8\n",
       "10       3\n",
       "14       2\n",
       "11       2\n",
       "15       1\n",
       "12       1\n",
       "19       1\n",
       "16       1\n",
       "Name: rooms, dtype: int64"
      ]
     },
     "execution_count": 452,
     "metadata": {},
     "output_type": "execute_result"
    }
   ],
   "source": [
    "data['rooms'].value_counts()"
   ]
  },
  {
   "cell_type": "markdown",
   "metadata": {},
   "source": [
    "В этих данных не так все критично. Слишком больших значений мало в общей выборке. 0 комнат тоже немного. Для интереса выгрузим строку с самым большим количеством комнат."
   ]
  },
  {
   "cell_type": "code",
   "execution_count": 453,
   "metadata": {},
   "outputs": [
    {
     "data": {
      "text/html": [
       "<div>\n",
       "<style scoped>\n",
       "    .dataframe tbody tr th:only-of-type {\n",
       "        vertical-align: middle;\n",
       "    }\n",
       "\n",
       "    .dataframe tbody tr th {\n",
       "        vertical-align: top;\n",
       "    }\n",
       "\n",
       "    .dataframe thead th {\n",
       "        text-align: right;\n",
       "    }\n",
       "</style>\n",
       "<table border=\"1\" class=\"dataframe\">\n",
       "  <thead>\n",
       "    <tr style=\"text-align: right;\">\n",
       "      <th></th>\n",
       "      <th>total_images</th>\n",
       "      <th>last_price</th>\n",
       "      <th>total_area</th>\n",
       "      <th>first_day_exposition</th>\n",
       "      <th>rooms</th>\n",
       "      <th>ceiling_height</th>\n",
       "      <th>floors_total</th>\n",
       "      <th>living_area</th>\n",
       "      <th>floor</th>\n",
       "      <th>is_apartment</th>\n",
       "      <th>...</th>\n",
       "      <th>ponds_around3000</th>\n",
       "      <th>ponds_nearest</th>\n",
       "      <th>days_exposition</th>\n",
       "      <th>living_to_total</th>\n",
       "      <th>kitchen_to_total</th>\n",
       "      <th>price_for_metr</th>\n",
       "      <th>weekday</th>\n",
       "      <th>month</th>\n",
       "      <th>year</th>\n",
       "      <th>group_floor</th>\n",
       "    </tr>\n",
       "  </thead>\n",
       "  <tbody>\n",
       "    <tr>\n",
       "      <td>14302</td>\n",
       "      <td>6</td>\n",
       "      <td>32250</td>\n",
       "      <td>374.60</td>\n",
       "      <td>2018-06-09</td>\n",
       "      <td>19</td>\n",
       "      <td>2.65</td>\n",
       "      <td>5</td>\n",
       "      <td>264.50</td>\n",
       "      <td>2</td>\n",
       "      <td>False</td>\n",
       "      <td>...</td>\n",
       "      <td>2.00</td>\n",
       "      <td>548.00</td>\n",
       "      <td>114.00</td>\n",
       "      <td>70.61</td>\n",
       "      <td>7.37</td>\n",
       "      <td>86.09</td>\n",
       "      <td>5</td>\n",
       "      <td>6</td>\n",
       "      <td>2018</td>\n",
       "      <td>другой</td>\n",
       "    </tr>\n",
       "  </tbody>\n",
       "</table>\n",
       "<p>1 rows × 29 columns</p>\n",
       "</div>"
      ],
      "text/plain": [
       "       total_images  last_price  total_area first_day_exposition  rooms  \\\n",
       "14302             6       32250      374.60           2018-06-09     19   \n",
       "\n",
       "       ceiling_height  floors_total  living_area  floor  is_apartment  ...  \\\n",
       "14302            2.65             5       264.50      2         False  ...   \n",
       "\n",
       "       ponds_around3000  ponds_nearest  days_exposition  living_to_total  \\\n",
       "14302              2.00         548.00           114.00            70.61   \n",
       "\n",
       "      kitchen_to_total  price_for_metr  weekday  month  year  group_floor  \n",
       "14302             7.37           86.09        5      6  2018       другой  \n",
       "\n",
       "[1 rows x 29 columns]"
      ]
     },
     "execution_count": 453,
     "metadata": {},
     "output_type": "execute_result"
    }
   ],
   "source": [
    "data.query('rooms ==rooms.max()')"
   ]
  },
  {
   "cell_type": "markdown",
   "metadata": {},
   "source": [
    "В целом глядя на параметры, это выглядит как возможное реальное предложение, к примеру, сдача гостиницы в жилом доме, для более точного понимания пригодились данные целей сдач и и тп., однако для этого исследования это явный выброс. Выгружать и изучать таким образом строки будет долгий процесс, поэтому соберем изучаемые параметры в одну таблицу и посчитаем для них матрицы корреляции и матрицу распределения. Можно еще добавить  и соотношения площадей."
   ]
  },
  {
   "cell_type": "code",
   "execution_count": 454,
   "metadata": {},
   "outputs": [
    {
     "data": {
      "text/html": [
       "<div>\n",
       "<style scoped>\n",
       "    .dataframe tbody tr th:only-of-type {\n",
       "        vertical-align: middle;\n",
       "    }\n",
       "\n",
       "    .dataframe tbody tr th {\n",
       "        vertical-align: top;\n",
       "    }\n",
       "\n",
       "    .dataframe thead th {\n",
       "        text-align: right;\n",
       "    }\n",
       "</style>\n",
       "<table border=\"1\" class=\"dataframe\">\n",
       "  <thead>\n",
       "    <tr style=\"text-align: right;\">\n",
       "      <th></th>\n",
       "      <th>last_price</th>\n",
       "      <th>rooms</th>\n",
       "      <th>ceiling_height</th>\n",
       "      <th>total_area</th>\n",
       "      <th>living_to_total</th>\n",
       "      <th>kitchen_to_total</th>\n",
       "    </tr>\n",
       "  </thead>\n",
       "  <tbody>\n",
       "    <tr>\n",
       "      <td>last_price</td>\n",
       "      <td>1.00</td>\n",
       "      <td>0.36</td>\n",
       "      <td>0.07</td>\n",
       "      <td>0.65</td>\n",
       "      <td>0.01</td>\n",
       "      <td>-0.09</td>\n",
       "    </tr>\n",
       "    <tr>\n",
       "      <td>rooms</td>\n",
       "      <td>0.36</td>\n",
       "      <td>1.00</td>\n",
       "      <td>0.05</td>\n",
       "      <td>0.76</td>\n",
       "      <td>0.51</td>\n",
       "      <td>-0.59</td>\n",
       "    </tr>\n",
       "    <tr>\n",
       "      <td>ceiling_height</td>\n",
       "      <td>0.07</td>\n",
       "      <td>0.05</td>\n",
       "      <td>1.00</td>\n",
       "      <td>0.08</td>\n",
       "      <td>0.01</td>\n",
       "      <td>0.01</td>\n",
       "    </tr>\n",
       "    <tr>\n",
       "      <td>total_area</td>\n",
       "      <td>0.65</td>\n",
       "      <td>0.76</td>\n",
       "      <td>0.08</td>\n",
       "      <td>1.00</td>\n",
       "      <td>0.15</td>\n",
       "      <td>-0.32</td>\n",
       "    </tr>\n",
       "    <tr>\n",
       "      <td>living_to_total</td>\n",
       "      <td>0.01</td>\n",
       "      <td>0.51</td>\n",
       "      <td>0.01</td>\n",
       "      <td>0.15</td>\n",
       "      <td>1.00</td>\n",
       "      <td>-0.72</td>\n",
       "    </tr>\n",
       "    <tr>\n",
       "      <td>kitchen_to_total</td>\n",
       "      <td>-0.09</td>\n",
       "      <td>-0.59</td>\n",
       "      <td>0.01</td>\n",
       "      <td>-0.32</td>\n",
       "      <td>-0.72</td>\n",
       "      <td>1.00</td>\n",
       "    </tr>\n",
       "  </tbody>\n",
       "</table>\n",
       "</div>"
      ],
      "text/plain": [
       "                  last_price  rooms  ceiling_height  total_area  \\\n",
       "last_price              1.00   0.36            0.07        0.65   \n",
       "rooms                   0.36   1.00            0.05        0.76   \n",
       "ceiling_height          0.07   0.05            1.00        0.08   \n",
       "total_area              0.65   0.76            0.08        1.00   \n",
       "living_to_total         0.01   0.51            0.01        0.15   \n",
       "kitchen_to_total       -0.09  -0.59            0.01       -0.32   \n",
       "\n",
       "                  living_to_total  kitchen_to_total  \n",
       "last_price                   0.01             -0.09  \n",
       "rooms                        0.51             -0.59  \n",
       "ceiling_height               0.01              0.01  \n",
       "total_area                   0.15             -0.32  \n",
       "living_to_total              1.00             -0.72  \n",
       "kitchen_to_total            -0.72              1.00  "
      ]
     },
     "metadata": {},
     "output_type": "display_data"
    }
   ],
   "source": [
    "data_for_corr = data[['last_price', 'rooms', 'ceiling_height', 'total_area', 'living_to_total', 'kitchen_to_total']]\n",
    "display(data_for_corr.corr())"
   ]
  },
  {
   "cell_type": "markdown",
   "metadata": {},
   "source": [
    "Взаимосвязи данных в принципе вышли вполне ожидаемые или имеют разумное обьяснение:\n",
    "- Цена сильнее зависит от площади и высоты помещений, чем от числа комнат. Обьясняется тем, что в выгружке недвижимость не только для жилья выставляется. Плюс нужно учитывать возможность свободной планировки, что позволяет отдавать предпочтения количеству метров в первую очередь.\n",
    "- Комнаты имеют хорошую положительную корреляцию с площадью. что в вполне логично.\n",
    "- А вот площадь и высота практически не имеют связи между собой, что скорее всего правда ведь люди не могут как цену корректировать эти параметры. Поэтому данные в разнобой, в отличие от тех же комнат, которые как правило зависят от площади.\n",
    "- У соотношений площадей практически отсутвует корреляция со многими параметрами. Выявляется отрицательная корреляция между числом комнат и кухонной зоной, что логично так как кухня все равно будет одна, как правило, на разное число комнат, тоже самое касается и взаимосвязи с общей площадью и жилой. "
   ]
  },
  {
   "cell_type": "code",
   "execution_count": 455,
   "metadata": {},
   "outputs": [
    {
     "data": {
      "text/plain": [
       "array([[<matplotlib.axes._subplots.AxesSubplot object at 0x7fdef474a690>,\n",
       "        <matplotlib.axes._subplots.AxesSubplot object at 0x7fdef476b9d0>,\n",
       "        <matplotlib.axes._subplots.AxesSubplot object at 0x7fdef39d8690>,\n",
       "        <matplotlib.axes._subplots.AxesSubplot object at 0x7fdef3868990>],\n",
       "       [<matplotlib.axes._subplots.AxesSubplot object at 0x7fdef3ab9c90>,\n",
       "        <matplotlib.axes._subplots.AxesSubplot object at 0x7fdef3aabf90>,\n",
       "        <matplotlib.axes._subplots.AxesSubplot object at 0x7fdef4674dd0>,\n",
       "        <matplotlib.axes._subplots.AxesSubplot object at 0x7fdef45a95d0>],\n",
       "       [<matplotlib.axes._subplots.AxesSubplot object at 0x7fdef45b3090>,\n",
       "        <matplotlib.axes._subplots.AxesSubplot object at 0x7fdef45674d0>,\n",
       "        <matplotlib.axes._subplots.AxesSubplot object at 0x7fdef44cc690>,\n",
       "        <matplotlib.axes._subplots.AxesSubplot object at 0x7fdef44ffe90>],\n",
       "       [<matplotlib.axes._subplots.AxesSubplot object at 0x7fdef44416d0>,\n",
       "        <matplotlib.axes._subplots.AxesSubplot object at 0x7fdef4474ed0>,\n",
       "        <matplotlib.axes._subplots.AxesSubplot object at 0x7fdef43f5710>,\n",
       "        <matplotlib.axes._subplots.AxesSubplot object at 0x7fdef43aaed0>]],\n",
       "      dtype=object)"
      ]
     },
     "execution_count": 455,
     "metadata": {},
     "output_type": "execute_result"
    },
    {
     "data": {
      "image/png": "[encoded data removed]",
      "text/plain": [
       "<Figure size 1080x1080 with 16 Axes>"
      ]
     },
     "metadata": {
      "needs_background": "light"
     },
     "output_type": "display_data"
    }
   ],
   "source": [
    "#строим матрицу распределения убрав из таблицы соотношения площадей, они будут лишнимим и перегрузят матрицу\n",
    "data_for_matrix =data[['last_price', 'rooms', 'ceiling_height', 'total_area']]\n",
    "pd.plotting.scatter_matrix(data_for_matrix, figsize=(15,15))"
   ]
  },
  {
   "cell_type": "markdown",
   "metadata": {},
   "source": [
    "Судя по характеру гистограмм в данных очень много выбосов больших значений, однако в целом данные имеют нормальное распределение четко прослеживается центральные значения гистограмм параметров. \n",
    "- Расределение цены и комнат идет на рост, чем больше комнат тем дороже, однако после комнат 6 цена за комнату идет на спад. Основная цена до 10 млн. по предложениям.\n",
    "- Площади и цена растут равномерно, чем больше цена тем больше площадь\n",
    "- Почти половину данных высоты потолков мы меняли ранее на медиану в виду отсутствия значений, поэтому ее распределение похоже на линию. Конечно, это повлияло на данные, но лучшей замены все равно не было и в целом медиана по своему значению подходила.\n"
   ]
  },
  {
   "cell_type": "markdown",
   "metadata": {},
   "source": [
    "### Изучение времени продажи квартиры"
   ]
  },
  {
   "cell_type": "markdown",
   "metadata": {},
   "source": [
    "Время продажи квартир находится в столбце days_exposition. Найдем медиану, среднее и построим гистограмму.\n"
   ]
  },
  {
   "cell_type": "code",
   "execution_count": 456,
   "metadata": {},
   "outputs": [
    {
     "name": "stdout",
     "output_type": "stream",
     "text": [
      "181.3684575046997\n",
      "96.0\n"
     ]
    },
    {
     "data": {
      "text/plain": [
       "array([[<matplotlib.axes._subplots.AxesSubplot object at 0x7fdef413b850>]],\n",
       "      dtype=object)"
      ]
     },
     "execution_count": 456,
     "metadata": {},
     "output_type": "execute_result"
    },
    {
     "data": {
      "image/png": "[encoded data removed]",
      "text/plain": [
       "<Figure size 432x288 with 1 Axes>"
      ]
     },
     "metadata": {
      "needs_background": "light"
     },
     "output_type": "display_data"
    }
   ],
   "source": [
    "print(data['days_exposition'].mean())\n",
    "print(data['days_exposition'].median())\n",
    "data.hist('days_exposition', bins=20)"
   ]
  },
  {
   "cell_type": "markdown",
   "metadata": {},
   "source": [
    "Медиана и средняя сильно отличаются. Значит в выборке есть много выбросов. Глядя на медиану видно что в целом обьявления висят примерно от 2-3 месяцев, что гистограмма тоже подтверждает. Глядя на гистограмму, значения свыше 400 дней можно взять как очень долгие. С быстрыми не особо пока ясно построем еще одну гистограмму, задав границы значений."
   ]
  },
  {
   "cell_type": "code",
   "execution_count": 457,
   "metadata": {},
   "outputs": [
    {
     "data": {
      "text/plain": [
       "array([[<matplotlib.axes._subplots.AxesSubplot object at 0x7fdef40597d0>]],\n",
       "      dtype=object)"
      ]
     },
     "execution_count": 457,
     "metadata": {},
     "output_type": "execute_result"
    },
    {
     "data": {
      "image/png": "[encoded data removed]",
      "text/plain": [
       "<Figure size 432x288 with 1 Axes>"
      ]
     },
     "metadata": {
      "needs_background": "light"
     },
     "output_type": "display_data"
    }
   ],
   "source": [
    "data.hist('days_exposition', bins=50, range=(0, 100))"
   ]
  },
  {
   "cell_type": "markdown",
   "metadata": {},
   "source": [
    "На графике видны резкие скачки, но первое 0 значение было поставлено вручную при замене пропусков, исходя из того, что система считает количесвто дней я обьевления могли закрывать в тот же самый день, его можно убрать и посмотреть еще раз на гистограмму.\n"
   ]
  },
  {
   "cell_type": "code",
   "execution_count": 458,
   "metadata": {},
   "outputs": [
    {
     "data": {
      "text/plain": [
       "array([[<matplotlib.axes._subplots.AxesSubplot object at 0x7fdef3f90c50>]],\n",
       "      dtype=object)"
      ]
     },
     "execution_count": 458,
     "metadata": {},
     "output_type": "execute_result"
    },
    {
     "data": {
      "image/png": "[encoded data removed]",
      "text/plain": [
       "<Figure size 432x288 with 1 Axes>"
      ]
     },
     "metadata": {
      "needs_background": "light"
     },
     "output_type": "display_data"
    }
   ],
   "source": [
    "data.hist('days_exposition', bins=50, range=(1, 100))"
   ]
  },
  {
   "cell_type": "markdown",
   "metadata": {},
   "source": [
    "Слишком коротких продаж теперь практически не стало, есть парочка продаж 1-2 дней, для чистоты данных их можно будет откинуть. Однако очень интересны два явных пика на гистограмме, пока их природа неясна. "
   ]
  },
  {
   "cell_type": "code",
   "execution_count": 459,
   "metadata": {},
   "outputs": [
    {
     "data": {
      "text/plain": [
       "45.00    868\n",
       "60.00    534\n",
       "44.00    136\n",
       "42.00    112\n",
       "54.00    110\n",
       "43.00    107\n",
       "59.00    105\n",
       "46.00     90\n",
       "56.00     84\n",
       "52.00     84\n",
       "53.00     80\n",
       "48.00     77\n",
       "47.00     77\n",
       "55.00     75\n",
       "57.00     74\n",
       "58.00     70\n",
       "49.00     67\n",
       "50.00     59\n",
       "51.00     49\n",
       "Name: days_exposition, dtype: int64"
      ]
     },
     "execution_count": 459,
     "metadata": {},
     "output_type": "execute_result"
    }
   ],
   "source": [
    "#Изучим пиковые значения, найдем количество дней в которые были пиковые значения\n",
    "data.query('42<=days_exposition<=60')['days_exposition'].value_counts()"
   ]
  },
  {
   "cell_type": "code",
   "execution_count": 460,
   "metadata": {},
   "outputs": [
    {
     "data": {
      "text/html": [
       "<div>\n",
       "<style scoped>\n",
       "    .dataframe tbody tr th:only-of-type {\n",
       "        vertical-align: middle;\n",
       "    }\n",
       "\n",
       "    .dataframe tbody tr th {\n",
       "        vertical-align: top;\n",
       "    }\n",
       "\n",
       "    .dataframe thead th {\n",
       "        text-align: right;\n",
       "    }\n",
       "</style>\n",
       "<table border=\"1\" class=\"dataframe\">\n",
       "  <thead>\n",
       "    <tr style=\"text-align: right;\">\n",
       "      <th></th>\n",
       "      <th></th>\n",
       "      <th>last_price</th>\n",
       "    </tr>\n",
       "    <tr>\n",
       "      <th>year</th>\n",
       "      <th>month</th>\n",
       "      <th></th>\n",
       "    </tr>\n",
       "  </thead>\n",
       "  <tbody>\n",
       "    <tr>\n",
       "      <td rowspan=\"4\" valign=\"top\">2016</td>\n",
       "      <td>4</td>\n",
       "      <td>11</td>\n",
       "    </tr>\n",
       "    <tr>\n",
       "      <td>5</td>\n",
       "      <td>7</td>\n",
       "    </tr>\n",
       "    <tr>\n",
       "      <td>6</td>\n",
       "      <td>14</td>\n",
       "    </tr>\n",
       "    <tr>\n",
       "      <td>7</td>\n",
       "      <td>2</td>\n",
       "    </tr>\n",
       "    <tr>\n",
       "      <td rowspan=\"11\" valign=\"top\">2017</td>\n",
       "      <td>1</td>\n",
       "      <td>2</td>\n",
       "    </tr>\n",
       "    <tr>\n",
       "      <td>2</td>\n",
       "      <td>2</td>\n",
       "    </tr>\n",
       "    <tr>\n",
       "      <td>4</td>\n",
       "      <td>17</td>\n",
       "    </tr>\n",
       "    <tr>\n",
       "      <td>5</td>\n",
       "      <td>12</td>\n",
       "    </tr>\n",
       "    <tr>\n",
       "      <td>6</td>\n",
       "      <td>10</td>\n",
       "    </tr>\n",
       "    <tr>\n",
       "      <td>7</td>\n",
       "      <td>8</td>\n",
       "    </tr>\n",
       "    <tr>\n",
       "      <td>8</td>\n",
       "      <td>11</td>\n",
       "    </tr>\n",
       "    <tr>\n",
       "      <td>9</td>\n",
       "      <td>16</td>\n",
       "    </tr>\n",
       "    <tr>\n",
       "      <td>10</td>\n",
       "      <td>8</td>\n",
       "    </tr>\n",
       "    <tr>\n",
       "      <td>11</td>\n",
       "      <td>39</td>\n",
       "    </tr>\n",
       "    <tr>\n",
       "      <td>12</td>\n",
       "      <td>63</td>\n",
       "    </tr>\n",
       "    <tr>\n",
       "      <td rowspan=\"11\" valign=\"top\">2018</td>\n",
       "      <td>1</td>\n",
       "      <td>34</td>\n",
       "    </tr>\n",
       "    <tr>\n",
       "      <td>2</td>\n",
       "      <td>50</td>\n",
       "    </tr>\n",
       "    <tr>\n",
       "      <td>3</td>\n",
       "      <td>42</td>\n",
       "    </tr>\n",
       "    <tr>\n",
       "      <td>4</td>\n",
       "      <td>5</td>\n",
       "    </tr>\n",
       "    <tr>\n",
       "      <td>6</td>\n",
       "      <td>18</td>\n",
       "    </tr>\n",
       "    <tr>\n",
       "      <td>7</td>\n",
       "      <td>46</td>\n",
       "    </tr>\n",
       "    <tr>\n",
       "      <td>8</td>\n",
       "      <td>28</td>\n",
       "    </tr>\n",
       "    <tr>\n",
       "      <td>9</td>\n",
       "      <td>17</td>\n",
       "    </tr>\n",
       "    <tr>\n",
       "      <td>10</td>\n",
       "      <td>19</td>\n",
       "    </tr>\n",
       "    <tr>\n",
       "      <td>11</td>\n",
       "      <td>16</td>\n",
       "    </tr>\n",
       "    <tr>\n",
       "      <td>12</td>\n",
       "      <td>6</td>\n",
       "    </tr>\n",
       "    <tr>\n",
       "      <td rowspan=\"2\" valign=\"top\">2019</td>\n",
       "      <td>1</td>\n",
       "      <td>14</td>\n",
       "    </tr>\n",
       "    <tr>\n",
       "      <td>2</td>\n",
       "      <td>17</td>\n",
       "    </tr>\n",
       "  </tbody>\n",
       "</table>\n",
       "</div>"
      ],
      "text/plain": [
       "            last_price\n",
       "year month            \n",
       "2016 4              11\n",
       "     5               7\n",
       "     6              14\n",
       "     7               2\n",
       "2017 1               2\n",
       "     2               2\n",
       "     4              17\n",
       "     5              12\n",
       "     6              10\n",
       "     7               8\n",
       "     8              11\n",
       "     9              16\n",
       "     10              8\n",
       "     11             39\n",
       "     12             63\n",
       "2018 1              34\n",
       "     2              50\n",
       "     3              42\n",
       "     4               5\n",
       "     6              18\n",
       "     7              46\n",
       "     8              28\n",
       "     9              17\n",
       "     10             19\n",
       "     11             16\n",
       "     12              6\n",
       "2019 1              14\n",
       "     2              17"
      ]
     },
     "metadata": {},
     "output_type": "display_data"
    },
    {
     "data": {
      "text/html": [
       "<div>\n",
       "<style scoped>\n",
       "    .dataframe tbody tr th:only-of-type {\n",
       "        vertical-align: middle;\n",
       "    }\n",
       "\n",
       "    .dataframe tbody tr th {\n",
       "        vertical-align: top;\n",
       "    }\n",
       "\n",
       "    .dataframe thead th {\n",
       "        text-align: right;\n",
       "    }\n",
       "</style>\n",
       "<table border=\"1\" class=\"dataframe\">\n",
       "  <thead>\n",
       "    <tr style=\"text-align: right;\">\n",
       "      <th></th>\n",
       "      <th></th>\n",
       "    </tr>\n",
       "    <tr>\n",
       "      <th>year</th>\n",
       "      <th>month</th>\n",
       "    </tr>\n",
       "  </thead>\n",
       "  <tbody>\n",
       "  </tbody>\n",
       "</table>\n",
       "</div>"
      ],
      "text/plain": [
       "Empty DataFrame\n",
       "Columns: []\n",
       "Index: []"
      ]
     },
     "execution_count": 460,
     "metadata": {},
     "output_type": "execute_result"
    }
   ],
   "source": [
    "# убедимся, что это не одна какая-то сделка или аномалия, посчтиаем количесвто обьявлений по месяцам\n",
    "display(data.query('days_exposition ==60').pivot_table(index=['year','month'], values='last_price', aggfunc='count'))\n",
    "data.query('days_exposition ==45').pivot_table(index=['year','month'], values='last_price', aggfunc='count')"
   ]
  },
  {
   "cell_type": "markdown",
   "metadata": {},
   "source": [
    "Видно, что эти пики разные сделки просто совпадение или возможно ккая то фирма выставляет обьевления по сроку реализации.\n",
    "Подводя итог то в среднем размещения идут от 2-3 месяцев. Менее 3 дней принято считать для этой выборки очень быстрыми сделками, а сделки более 500 дней слишком долгими."
   ]
  },
  {
   "cell_type": "markdown",
   "metadata": {},
   "source": [
    "### Убираем редкие и выбивающиеся значения"
   ]
  },
  {
   "cell_type": "code",
   "execution_count": 461,
   "metadata": {},
   "outputs": [],
   "source": [
    "#вовращаясь к матрице распределений убираем из таблицы редкие и странные значения. начнем с комнат\n",
    "data_pured= data.query('1<=rooms<=6')\n",
    "# высоту потолков я бы оставил от 2 м до 4 m\n",
    "data_pured= data_pured.query('2<=ceiling_height<=4')\n",
    "#теперь убирем редкие значения по площади исходя из гистограммы\n",
    "data_pured= data_pured.query('total_area<=150')\n",
    "# убирем орчень быстрые и очень долгие сделки\n",
    "data_pured= data_pured.query('3<=days_exposition<=400')"
   ]
  },
  {
   "cell_type": "code",
   "execution_count": 462,
   "metadata": {},
   "outputs": [
    {
     "data": {
      "text/html": [
       "<div>\n",
       "<style scoped>\n",
       "    .dataframe tbody tr th:only-of-type {\n",
       "        vertical-align: middle;\n",
       "    }\n",
       "\n",
       "    .dataframe tbody tr th {\n",
       "        vertical-align: top;\n",
       "    }\n",
       "\n",
       "    .dataframe thead th {\n",
       "        text-align: right;\n",
       "    }\n",
       "</style>\n",
       "<table border=\"1\" class=\"dataframe\">\n",
       "  <thead>\n",
       "    <tr style=\"text-align: right;\">\n",
       "      <th></th>\n",
       "      <th>total_images</th>\n",
       "      <th>last_price</th>\n",
       "      <th>total_area</th>\n",
       "      <th>rooms</th>\n",
       "      <th>ceiling_height</th>\n",
       "      <th>floors_total</th>\n",
       "      <th>living_area</th>\n",
       "      <th>floor</th>\n",
       "      <th>kitchen_area</th>\n",
       "      <th>balcony</th>\n",
       "      <th>...</th>\n",
       "      <th>parks_nearest</th>\n",
       "      <th>ponds_around3000</th>\n",
       "      <th>ponds_nearest</th>\n",
       "      <th>days_exposition</th>\n",
       "      <th>living_to_total</th>\n",
       "      <th>kitchen_to_total</th>\n",
       "      <th>price_for_metr</th>\n",
       "      <th>weekday</th>\n",
       "      <th>month</th>\n",
       "      <th>year</th>\n",
       "    </tr>\n",
       "  </thead>\n",
       "  <tbody>\n",
       "    <tr>\n",
       "      <td>count</td>\n",
       "      <td>17,263.00</td>\n",
       "      <td>17,263.00</td>\n",
       "      <td>17,263.00</td>\n",
       "      <td>17,263.00</td>\n",
       "      <td>17,263.00</td>\n",
       "      <td>17,263.00</td>\n",
       "      <td>17,263.00</td>\n",
       "      <td>17,263.00</td>\n",
       "      <td>17,263.00</td>\n",
       "      <td>17,263.00</td>\n",
       "      <td>...</td>\n",
       "      <td>5,646.00</td>\n",
       "      <td>13,273.00</td>\n",
       "      <td>6,403.00</td>\n",
       "      <td>17,263.00</td>\n",
       "      <td>15,781.00</td>\n",
       "      <td>15,630.00</td>\n",
       "      <td>17,263.00</td>\n",
       "      <td>17,263.00</td>\n",
       "      <td>17,263.00</td>\n",
       "      <td>17,263.00</td>\n",
       "    </tr>\n",
       "    <tr>\n",
       "      <td>mean</td>\n",
       "      <td>9.70</td>\n",
       "      <td>5,385.92</td>\n",
       "      <td>54.86</td>\n",
       "      <td>1.96</td>\n",
       "      <td>2.68</td>\n",
       "      <td>10.97</td>\n",
       "      <td>30.20</td>\n",
       "      <td>6.01</td>\n",
       "      <td>9.49</td>\n",
       "      <td>0.60</td>\n",
       "      <td>...</td>\n",
       "      <td>490.09</td>\n",
       "      <td>0.72</td>\n",
       "      <td>531.00</td>\n",
       "      <td>110.80</td>\n",
       "      <td>56.09</td>\n",
       "      <td>19.10</td>\n",
       "      <td>95.65</td>\n",
       "      <td>2.59</td>\n",
       "      <td>6.58</td>\n",
       "      <td>2,017.41</td>\n",
       "    </tr>\n",
       "    <tr>\n",
       "      <td>std</td>\n",
       "      <td>5.65</td>\n",
       "      <td>4,090.21</td>\n",
       "      <td>21.37</td>\n",
       "      <td>0.91</td>\n",
       "      <td>0.18</td>\n",
       "      <td>6.65</td>\n",
       "      <td>15.06</td>\n",
       "      <td>4.94</td>\n",
       "      <td>4.66</td>\n",
       "      <td>0.95</td>\n",
       "      <td>...</td>\n",
       "      <td>338.13</td>\n",
       "      <td>0.91</td>\n",
       "      <td>275.43</td>\n",
       "      <td>97.59</td>\n",
       "      <td>10.39</td>\n",
       "      <td>7.15</td>\n",
       "      <td>37.68</td>\n",
       "      <td>1.79</td>\n",
       "      <td>3.49</td>\n",
       "      <td>0.81</td>\n",
       "    </tr>\n",
       "    <tr>\n",
       "      <td>min</td>\n",
       "      <td>0.00</td>\n",
       "      <td>12.00</td>\n",
       "      <td>12.00</td>\n",
       "      <td>1.00</td>\n",
       "      <td>2.00</td>\n",
       "      <td>1.00</td>\n",
       "      <td>2.00</td>\n",
       "      <td>1.00</td>\n",
       "      <td>1.08</td>\n",
       "      <td>0.00</td>\n",
       "      <td>...</td>\n",
       "      <td>1.00</td>\n",
       "      <td>0.00</td>\n",
       "      <td>13.00</td>\n",
       "      <td>3.00</td>\n",
       "      <td>2.16</td>\n",
       "      <td>4.35</td>\n",
       "      <td>0.11</td>\n",
       "      <td>0.00</td>\n",
       "      <td>1.00</td>\n",
       "      <td>2,015.00</td>\n",
       "    </tr>\n",
       "    <tr>\n",
       "      <td>25%</td>\n",
       "      <td>6.00</td>\n",
       "      <td>3,387.50</td>\n",
       "      <td>39.00</td>\n",
       "      <td>1.00</td>\n",
       "      <td>2.60</td>\n",
       "      <td>5.00</td>\n",
       "      <td>18.00</td>\n",
       "      <td>2.00</td>\n",
       "      <td>6.50</td>\n",
       "      <td>0.00</td>\n",
       "      <td>...</td>\n",
       "      <td>288.00</td>\n",
       "      <td>0.00</td>\n",
       "      <td>315.00</td>\n",
       "      <td>38.00</td>\n",
       "      <td>49.07</td>\n",
       "      <td>13.73</td>\n",
       "      <td>76.16</td>\n",
       "      <td>1.00</td>\n",
       "      <td>3.00</td>\n",
       "      <td>2,017.00</td>\n",
       "    </tr>\n",
       "    <tr>\n",
       "      <td>50%</td>\n",
       "      <td>9.00</td>\n",
       "      <td>4,450.00</td>\n",
       "      <td>50.00</td>\n",
       "      <td>2.00</td>\n",
       "      <td>2.65</td>\n",
       "      <td>9.00</td>\n",
       "      <td>28.57</td>\n",
       "      <td>4.00</td>\n",
       "      <td>8.80</td>\n",
       "      <td>0.00</td>\n",
       "      <td>...</td>\n",
       "      <td>455.00</td>\n",
       "      <td>0.00</td>\n",
       "      <td>521.00</td>\n",
       "      <td>77.00</td>\n",
       "      <td>56.39</td>\n",
       "      <td>17.70</td>\n",
       "      <td>93.58</td>\n",
       "      <td>3.00</td>\n",
       "      <td>7.00</td>\n",
       "      <td>2,017.00</td>\n",
       "    </tr>\n",
       "    <tr>\n",
       "      <td>75%</td>\n",
       "      <td>14.00</td>\n",
       "      <td>6,200.00</td>\n",
       "      <td>65.00</td>\n",
       "      <td>3.00</td>\n",
       "      <td>2.70</td>\n",
       "      <td>16.00</td>\n",
       "      <td>39.00</td>\n",
       "      <td>8.00</td>\n",
       "      <td>11.00</td>\n",
       "      <td>1.00</td>\n",
       "      <td>...</td>\n",
       "      <td>613.00</td>\n",
       "      <td>1.00</td>\n",
       "      <td>741.00</td>\n",
       "      <td>161.00</td>\n",
       "      <td>63.33</td>\n",
       "      <td>23.55</td>\n",
       "      <td>110.95</td>\n",
       "      <td>4.00</td>\n",
       "      <td>10.00</td>\n",
       "      <td>2,018.00</td>\n",
       "    </tr>\n",
       "    <tr>\n",
       "      <td>max</td>\n",
       "      <td>50.00</td>\n",
       "      <td>124,000.00</td>\n",
       "      <td>150.00</td>\n",
       "      <td>6.00</td>\n",
       "      <td>4.00</td>\n",
       "      <td>60.00</td>\n",
       "      <td>131.86</td>\n",
       "      <td>33.00</td>\n",
       "      <td>93.00</td>\n",
       "      <td>5.00</td>\n",
       "      <td>...</td>\n",
       "      <td>3,190.00</td>\n",
       "      <td>3.00</td>\n",
       "      <td>1,344.00</td>\n",
       "      <td>400.00</td>\n",
       "      <td>98.34</td>\n",
       "      <td>78.79</td>\n",
       "      <td>995.98</td>\n",
       "      <td>6.00</td>\n",
       "      <td>12.00</td>\n",
       "      <td>2,019.00</td>\n",
       "    </tr>\n",
       "  </tbody>\n",
       "</table>\n",
       "<p>8 rows × 23 columns</p>\n",
       "</div>"
      ],
      "text/plain": [
       "       total_images  last_price  total_area     rooms  ceiling_height  \\\n",
       "count     17,263.00   17,263.00   17,263.00 17,263.00       17,263.00   \n",
       "mean           9.70    5,385.92       54.86      1.96            2.68   \n",
       "std            5.65    4,090.21       21.37      0.91            0.18   \n",
       "min            0.00       12.00       12.00      1.00            2.00   \n",
       "25%            6.00    3,387.50       39.00      1.00            2.60   \n",
       "50%            9.00    4,450.00       50.00      2.00            2.65   \n",
       "75%           14.00    6,200.00       65.00      3.00            2.70   \n",
       "max           50.00  124,000.00      150.00      6.00            4.00   \n",
       "\n",
       "       floors_total  living_area     floor  kitchen_area   balcony  ...  \\\n",
       "count     17,263.00    17,263.00 17,263.00     17,263.00 17,263.00  ...   \n",
       "mean          10.97        30.20      6.01          9.49      0.60  ...   \n",
       "std            6.65        15.06      4.94          4.66      0.95  ...   \n",
       "min            1.00         2.00      1.00          1.08      0.00  ...   \n",
       "25%            5.00        18.00      2.00          6.50      0.00  ...   \n",
       "50%            9.00        28.57      4.00          8.80      0.00  ...   \n",
       "75%           16.00        39.00      8.00         11.00      1.00  ...   \n",
       "max           60.00       131.86     33.00         93.00      5.00  ...   \n",
       "\n",
       "       parks_nearest  ponds_around3000  ponds_nearest  days_exposition  \\\n",
       "count       5,646.00         13,273.00       6,403.00        17,263.00   \n",
       "mean          490.09              0.72         531.00           110.80   \n",
       "std           338.13              0.91         275.43            97.59   \n",
       "min             1.00              0.00          13.00             3.00   \n",
       "25%           288.00              0.00         315.00            38.00   \n",
       "50%           455.00              0.00         521.00            77.00   \n",
       "75%           613.00              1.00         741.00           161.00   \n",
       "max         3,190.00              3.00       1,344.00           400.00   \n",
       "\n",
       "       living_to_total  kitchen_to_total  price_for_metr   weekday     month  \\\n",
       "count        15,781.00         15,630.00       17,263.00 17,263.00 17,263.00   \n",
       "mean             56.09             19.10           95.65      2.59      6.58   \n",
       "std              10.39              7.15           37.68      1.79      3.49   \n",
       "min               2.16              4.35            0.11      0.00      1.00   \n",
       "25%              49.07             13.73           76.16      1.00      3.00   \n",
       "50%              56.39             17.70           93.58      3.00      7.00   \n",
       "75%              63.33             23.55          110.95      4.00     10.00   \n",
       "max              98.34             78.79          995.98      6.00     12.00   \n",
       "\n",
       "           year  \n",
       "count 17,263.00  \n",
       "mean   2,017.41  \n",
       "std        0.81  \n",
       "min    2,015.00  \n",
       "25%    2,017.00  \n",
       "50%    2,017.00  \n",
       "75%    2,018.00  \n",
       "max    2,019.00  \n",
       "\n",
       "[8 rows x 23 columns]"
      ]
     },
     "execution_count": 462,
     "metadata": {},
     "output_type": "execute_result"
    }
   ],
   "source": [
    "#посмотрим на данные таблицы\n",
    "data_pured.describe()"
   ]
  },
  {
   "cell_type": "markdown",
   "metadata": {},
   "source": [
    "Выборка сократилась примерно на 25% однако стала намного лучше. Во многих столбиках сократились стандартные отклонения, значит выбросов стало намного меньше. Однако по цене все еще велико отклонение построем отдельную гистограмму и определим выбросы."
   ]
  },
  {
   "cell_type": "code",
   "execution_count": 463,
   "metadata": {},
   "outputs": [
    {
     "data": {
      "text/plain": [
       "array([[<matplotlib.axes._subplots.AxesSubplot object at 0x7fdef3e4fa50>]],\n",
       "      dtype=object)"
      ]
     },
     "execution_count": 463,
     "metadata": {},
     "output_type": "execute_result"
    },
    {
     "data": {
      "image/png": "[encoded data removed]",
      "text/plain": [
       "<Figure size 432x288 with 1 Axes>"
      ]
     },
     "metadata": {
      "needs_background": "light"
     },
     "output_type": "display_data"
    }
   ],
   "source": [
    "data_pured.hist('last_price', bins=100, range=(0,20000))"
   ]
  },
  {
   "cell_type": "code",
   "execution_count": 464,
   "metadata": {},
   "outputs": [
    {
     "data": {
      "text/html": [
       "<div>\n",
       "<style scoped>\n",
       "    .dataframe tbody tr th:only-of-type {\n",
       "        vertical-align: middle;\n",
       "    }\n",
       "\n",
       "    .dataframe tbody tr th {\n",
       "        vertical-align: top;\n",
       "    }\n",
       "\n",
       "    .dataframe thead th {\n",
       "        text-align: right;\n",
       "    }\n",
       "</style>\n",
       "<table border=\"1\" class=\"dataframe\">\n",
       "  <thead>\n",
       "    <tr style=\"text-align: right;\">\n",
       "      <th></th>\n",
       "      <th>total_images</th>\n",
       "      <th>last_price</th>\n",
       "      <th>total_area</th>\n",
       "      <th>rooms</th>\n",
       "      <th>ceiling_height</th>\n",
       "      <th>floors_total</th>\n",
       "      <th>living_area</th>\n",
       "      <th>floor</th>\n",
       "      <th>kitchen_area</th>\n",
       "      <th>balcony</th>\n",
       "      <th>...</th>\n",
       "      <th>parks_nearest</th>\n",
       "      <th>ponds_around3000</th>\n",
       "      <th>ponds_nearest</th>\n",
       "      <th>days_exposition</th>\n",
       "      <th>living_to_total</th>\n",
       "      <th>kitchen_to_total</th>\n",
       "      <th>price_for_metr</th>\n",
       "      <th>weekday</th>\n",
       "      <th>month</th>\n",
       "      <th>year</th>\n",
       "    </tr>\n",
       "  </thead>\n",
       "  <tbody>\n",
       "    <tr>\n",
       "      <td>count</td>\n",
       "      <td>15,381.00</td>\n",
       "      <td>15,381.00</td>\n",
       "      <td>15,381.00</td>\n",
       "      <td>15,381.00</td>\n",
       "      <td>15,381.00</td>\n",
       "      <td>15,381.00</td>\n",
       "      <td>15,381.00</td>\n",
       "      <td>15,381.00</td>\n",
       "      <td>15,381.00</td>\n",
       "      <td>15,381.00</td>\n",
       "      <td>...</td>\n",
       "      <td>4,626.00</td>\n",
       "      <td>11,580.00</td>\n",
       "      <td>5,353.00</td>\n",
       "      <td>15,381.00</td>\n",
       "      <td>14,104.00</td>\n",
       "      <td>13,942.00</td>\n",
       "      <td>15,381.00</td>\n",
       "      <td>15,381.00</td>\n",
       "      <td>15,381.00</td>\n",
       "      <td>15,381.00</td>\n",
       "    </tr>\n",
       "    <tr>\n",
       "      <td>mean</td>\n",
       "      <td>9.53</td>\n",
       "      <td>4,485.08</td>\n",
       "      <td>50.60</td>\n",
       "      <td>1.85</td>\n",
       "      <td>2.66</td>\n",
       "      <td>10.98</td>\n",
       "      <td>27.78</td>\n",
       "      <td>6.00</td>\n",
       "      <td>8.84</td>\n",
       "      <td>0.59</td>\n",
       "      <td>...</td>\n",
       "      <td>481.70</td>\n",
       "      <td>0.66</td>\n",
       "      <td>543.75</td>\n",
       "      <td>108.46</td>\n",
       "      <td>56.01</td>\n",
       "      <td>19.28</td>\n",
       "      <td>90.53</td>\n",
       "      <td>2.59</td>\n",
       "      <td>6.59</td>\n",
       "      <td>2,017.42</td>\n",
       "    </tr>\n",
       "    <tr>\n",
       "      <td>std</td>\n",
       "      <td>5.51</td>\n",
       "      <td>1,692.89</td>\n",
       "      <td>16.11</td>\n",
       "      <td>0.85</td>\n",
       "      <td>0.15</td>\n",
       "      <td>6.62</td>\n",
       "      <td>12.40</td>\n",
       "      <td>4.92</td>\n",
       "      <td>3.58</td>\n",
       "      <td>0.92</td>\n",
       "      <td>...</td>\n",
       "      <td>316.45</td>\n",
       "      <td>0.85</td>\n",
       "      <td>274.87</td>\n",
       "      <td>96.72</td>\n",
       "      <td>10.35</td>\n",
       "      <td>7.05</td>\n",
       "      <td>26.56</td>\n",
       "      <td>1.79</td>\n",
       "      <td>3.49</td>\n",
       "      <td>0.81</td>\n",
       "    </tr>\n",
       "    <tr>\n",
       "      <td>min</td>\n",
       "      <td>0.00</td>\n",
       "      <td>1,010.00</td>\n",
       "      <td>12.00</td>\n",
       "      <td>1.00</td>\n",
       "      <td>2.00</td>\n",
       "      <td>1.00</td>\n",
       "      <td>2.00</td>\n",
       "      <td>1.00</td>\n",
       "      <td>1.08</td>\n",
       "      <td>0.00</td>\n",
       "      <td>...</td>\n",
       "      <td>1.00</td>\n",
       "      <td>0.00</td>\n",
       "      <td>16.00</td>\n",
       "      <td>3.00</td>\n",
       "      <td>3.85</td>\n",
       "      <td>4.35</td>\n",
       "      <td>10.51</td>\n",
       "      <td>0.00</td>\n",
       "      <td>1.00</td>\n",
       "      <td>2,015.00</td>\n",
       "    </tr>\n",
       "    <tr>\n",
       "      <td>25%</td>\n",
       "      <td>6.00</td>\n",
       "      <td>3,300.00</td>\n",
       "      <td>38.00</td>\n",
       "      <td>1.00</td>\n",
       "      <td>2.60</td>\n",
       "      <td>5.00</td>\n",
       "      <td>17.70</td>\n",
       "      <td>2.00</td>\n",
       "      <td>6.30</td>\n",
       "      <td>0.00</td>\n",
       "      <td>...</td>\n",
       "      <td>288.00</td>\n",
       "      <td>0.00</td>\n",
       "      <td>333.00</td>\n",
       "      <td>37.00</td>\n",
       "      <td>48.79</td>\n",
       "      <td>13.92</td>\n",
       "      <td>74.55</td>\n",
       "      <td>1.00</td>\n",
       "      <td>3.00</td>\n",
       "      <td>2,017.00</td>\n",
       "    </tr>\n",
       "    <tr>\n",
       "      <td>50%</td>\n",
       "      <td>9.00</td>\n",
       "      <td>4,220.00</td>\n",
       "      <td>46.90</td>\n",
       "      <td>2.00</td>\n",
       "      <td>2.65</td>\n",
       "      <td>9.00</td>\n",
       "      <td>27.50</td>\n",
       "      <td>4.00</td>\n",
       "      <td>8.40</td>\n",
       "      <td>0.00</td>\n",
       "      <td>...</td>\n",
       "      <td>451.00</td>\n",
       "      <td>0.00</td>\n",
       "      <td>537.00</td>\n",
       "      <td>73.00</td>\n",
       "      <td>56.31</td>\n",
       "      <td>18.00</td>\n",
       "      <td>91.18</td>\n",
       "      <td>3.00</td>\n",
       "      <td>7.00</td>\n",
       "      <td>2,017.00</td>\n",
       "    </tr>\n",
       "    <tr>\n",
       "      <td>75%</td>\n",
       "      <td>13.00</td>\n",
       "      <td>5,500.00</td>\n",
       "      <td>60.00</td>\n",
       "      <td>2.00</td>\n",
       "      <td>2.65</td>\n",
       "      <td>16.00</td>\n",
       "      <td>35.30</td>\n",
       "      <td>8.00</td>\n",
       "      <td>10.51</td>\n",
       "      <td>1.00</td>\n",
       "      <td>...</td>\n",
       "      <td>609.00</td>\n",
       "      <td>1.00</td>\n",
       "      <td>753.00</td>\n",
       "      <td>158.00</td>\n",
       "      <td>63.26</td>\n",
       "      <td>23.91</td>\n",
       "      <td>106.25</td>\n",
       "      <td>4.00</td>\n",
       "      <td>10.00</td>\n",
       "      <td>2,018.00</td>\n",
       "    </tr>\n",
       "    <tr>\n",
       "      <td>max</td>\n",
       "      <td>39.00</td>\n",
       "      <td>8,999.00</td>\n",
       "      <td>146.00</td>\n",
       "      <td>6.00</td>\n",
       "      <td>4.00</td>\n",
       "      <td>60.00</td>\n",
       "      <td>110.14</td>\n",
       "      <td>31.00</td>\n",
       "      <td>64.00</td>\n",
       "      <td>5.00</td>\n",
       "      <td>...</td>\n",
       "      <td>3,190.00</td>\n",
       "      <td>3.00</td>\n",
       "      <td>1,344.00</td>\n",
       "      <td>400.00</td>\n",
       "      <td>97.33</td>\n",
       "      <td>78.79</td>\n",
       "      <td>292.31</td>\n",
       "      <td>6.00</td>\n",
       "      <td>12.00</td>\n",
       "      <td>2,019.00</td>\n",
       "    </tr>\n",
       "  </tbody>\n",
       "</table>\n",
       "<p>8 rows × 23 columns</p>\n",
       "</div>"
      ],
      "text/plain": [
       "       total_images  last_price  total_area     rooms  ceiling_height  \\\n",
       "count     15,381.00   15,381.00   15,381.00 15,381.00       15,381.00   \n",
       "mean           9.53    4,485.08       50.60      1.85            2.66   \n",
       "std            5.51    1,692.89       16.11      0.85            0.15   \n",
       "min            0.00    1,010.00       12.00      1.00            2.00   \n",
       "25%            6.00    3,300.00       38.00      1.00            2.60   \n",
       "50%            9.00    4,220.00       46.90      2.00            2.65   \n",
       "75%           13.00    5,500.00       60.00      2.00            2.65   \n",
       "max           39.00    8,999.00      146.00      6.00            4.00   \n",
       "\n",
       "       floors_total  living_area     floor  kitchen_area   balcony  ...  \\\n",
       "count     15,381.00    15,381.00 15,381.00     15,381.00 15,381.00  ...   \n",
       "mean          10.98        27.78      6.00          8.84      0.59  ...   \n",
       "std            6.62        12.40      4.92          3.58      0.92  ...   \n",
       "min            1.00         2.00      1.00          1.08      0.00  ...   \n",
       "25%            5.00        17.70      2.00          6.30      0.00  ...   \n",
       "50%            9.00        27.50      4.00          8.40      0.00  ...   \n",
       "75%           16.00        35.30      8.00         10.51      1.00  ...   \n",
       "max           60.00       110.14     31.00         64.00      5.00  ...   \n",
       "\n",
       "       parks_nearest  ponds_around3000  ponds_nearest  days_exposition  \\\n",
       "count       4,626.00         11,580.00       5,353.00        15,381.00   \n",
       "mean          481.70              0.66         543.75           108.46   \n",
       "std           316.45              0.85         274.87            96.72   \n",
       "min             1.00              0.00          16.00             3.00   \n",
       "25%           288.00              0.00         333.00            37.00   \n",
       "50%           451.00              0.00         537.00            73.00   \n",
       "75%           609.00              1.00         753.00           158.00   \n",
       "max         3,190.00              3.00       1,344.00           400.00   \n",
       "\n",
       "       living_to_total  kitchen_to_total  price_for_metr   weekday     month  \\\n",
       "count        14,104.00         13,942.00       15,381.00 15,381.00 15,381.00   \n",
       "mean             56.01             19.28           90.53      2.59      6.59   \n",
       "std              10.35              7.05           26.56      1.79      3.49   \n",
       "min               3.85              4.35           10.51      0.00      1.00   \n",
       "25%              48.79             13.92           74.55      1.00      3.00   \n",
       "50%              56.31             18.00           91.18      3.00      7.00   \n",
       "75%              63.26             23.91          106.25      4.00     10.00   \n",
       "max              97.33             78.79          292.31      6.00     12.00   \n",
       "\n",
       "           year  \n",
       "count 15,381.00  \n",
       "mean   2,017.42  \n",
       "std        0.81  \n",
       "min    2,015.00  \n",
       "25%    2,017.00  \n",
       "50%    2,017.00  \n",
       "75%    2,018.00  \n",
       "max    2,019.00  \n",
       "\n",
       "[8 rows x 23 columns]"
      ]
     },
     "execution_count": 464,
     "metadata": {},
     "output_type": "execute_result"
    }
   ],
   "source": [
    "#уберем сделки с слишом большими ценами и маленькими ценами\n",
    "data_pured= data_pured.query('1000<last_price<9000')\n",
    "data_pured.describe()"
   ]
  },
  {
   "cell_type": "markdown",
   "metadata": {},
   "source": [
    "\n",
    "\n",
    "Теперь данные выборки стали намного чище и более пригодны для анализа и выявления закономерностей."
   ]
  },
  {
   "cell_type": "markdown",
   "metadata": {},
   "source": [
    "### Изучение влияния параметров на цену квартиры"
   ]
  },
  {
   "cell_type": "code",
   "execution_count": 465,
   "metadata": {},
   "outputs": [],
   "source": [
    "# По отчищенным данным изучим зависимость цены от комнат, площади, этажности, удалености от центра,  атакже в зависимости от времени размещения.\n",
    "# Создадим спец таблицу для матрицы корреляции\n",
    "data_pured_for_corr= data_pured[['last_price', 'rooms', 'total_area', 'living_to_total', 'kitchen_to_total', 'weekday', 'month', 'year', 'city_centers_nearest']]\n"
   ]
  },
  {
   "cell_type": "code",
   "execution_count": 466,
   "metadata": {},
   "outputs": [
    {
     "data": {
      "text/html": [
       "<div>\n",
       "<style scoped>\n",
       "    .dataframe tbody tr th:only-of-type {\n",
       "        vertical-align: middle;\n",
       "    }\n",
       "\n",
       "    .dataframe tbody tr th {\n",
       "        vertical-align: top;\n",
       "    }\n",
       "\n",
       "    .dataframe thead th {\n",
       "        text-align: right;\n",
       "    }\n",
       "</style>\n",
       "<table border=\"1\" class=\"dataframe\">\n",
       "  <thead>\n",
       "    <tr style=\"text-align: right;\">\n",
       "      <th></th>\n",
       "      <th>last_price</th>\n",
       "      <th>rooms</th>\n",
       "      <th>total_area</th>\n",
       "      <th>living_to_total</th>\n",
       "      <th>kitchen_to_total</th>\n",
       "      <th>weekday</th>\n",
       "      <th>month</th>\n",
       "      <th>year</th>\n",
       "      <th>city_centers_nearest</th>\n",
       "    </tr>\n",
       "  </thead>\n",
       "  <tbody>\n",
       "    <tr>\n",
       "      <td>last_price</td>\n",
       "      <td>1.00</td>\n",
       "      <td>0.41</td>\n",
       "      <td>0.64</td>\n",
       "      <td>0.04</td>\n",
       "      <td>-0.13</td>\n",
       "      <td>-0.00</td>\n",
       "      <td>0.01</td>\n",
       "      <td>0.02</td>\n",
       "      <td>-0.32</td>\n",
       "    </tr>\n",
       "    <tr>\n",
       "      <td>rooms</td>\n",
       "      <td>0.41</td>\n",
       "      <td>1.00</td>\n",
       "      <td>0.80</td>\n",
       "      <td>0.62</td>\n",
       "      <td>-0.67</td>\n",
       "      <td>0.00</td>\n",
       "      <td>-0.00</td>\n",
       "      <td>-0.05</td>\n",
       "      <td>-0.04</td>\n",
       "    </tr>\n",
       "    <tr>\n",
       "      <td>total_area</td>\n",
       "      <td>0.64</td>\n",
       "      <td>0.80</td>\n",
       "      <td>1.00</td>\n",
       "      <td>0.29</td>\n",
       "      <td>-0.45</td>\n",
       "      <td>0.00</td>\n",
       "      <td>0.01</td>\n",
       "      <td>-0.06</td>\n",
       "      <td>-0.05</td>\n",
       "    </tr>\n",
       "    <tr>\n",
       "      <td>living_to_total</td>\n",
       "      <td>0.04</td>\n",
       "      <td>0.62</td>\n",
       "      <td>0.29</td>\n",
       "      <td>1.00</td>\n",
       "      <td>-0.75</td>\n",
       "      <td>0.01</td>\n",
       "      <td>-0.02</td>\n",
       "      <td>-0.02</td>\n",
       "      <td>-0.02</td>\n",
       "    </tr>\n",
       "    <tr>\n",
       "      <td>kitchen_to_total</td>\n",
       "      <td>-0.13</td>\n",
       "      <td>-0.67</td>\n",
       "      <td>-0.45</td>\n",
       "      <td>-0.75</td>\n",
       "      <td>1.00</td>\n",
       "      <td>-0.00</td>\n",
       "      <td>0.01</td>\n",
       "      <td>0.04</td>\n",
       "      <td>-0.02</td>\n",
       "    </tr>\n",
       "    <tr>\n",
       "      <td>weekday</td>\n",
       "      <td>-0.00</td>\n",
       "      <td>0.00</td>\n",
       "      <td>0.00</td>\n",
       "      <td>0.01</td>\n",
       "      <td>-0.00</td>\n",
       "      <td>1.00</td>\n",
       "      <td>0.01</td>\n",
       "      <td>-0.00</td>\n",
       "      <td>0.01</td>\n",
       "    </tr>\n",
       "    <tr>\n",
       "      <td>month</td>\n",
       "      <td>0.01</td>\n",
       "      <td>-0.00</td>\n",
       "      <td>0.01</td>\n",
       "      <td>-0.02</td>\n",
       "      <td>0.01</td>\n",
       "      <td>0.01</td>\n",
       "      <td>1.00</td>\n",
       "      <td>-0.24</td>\n",
       "      <td>-0.02</td>\n",
       "    </tr>\n",
       "    <tr>\n",
       "      <td>year</td>\n",
       "      <td>0.02</td>\n",
       "      <td>-0.05</td>\n",
       "      <td>-0.06</td>\n",
       "      <td>-0.02</td>\n",
       "      <td>0.04</td>\n",
       "      <td>-0.00</td>\n",
       "      <td>-0.24</td>\n",
       "      <td>1.00</td>\n",
       "      <td>-0.00</td>\n",
       "    </tr>\n",
       "    <tr>\n",
       "      <td>city_centers_nearest</td>\n",
       "      <td>-0.32</td>\n",
       "      <td>-0.04</td>\n",
       "      <td>-0.05</td>\n",
       "      <td>-0.02</td>\n",
       "      <td>-0.02</td>\n",
       "      <td>0.01</td>\n",
       "      <td>-0.02</td>\n",
       "      <td>-0.00</td>\n",
       "      <td>1.00</td>\n",
       "    </tr>\n",
       "  </tbody>\n",
       "</table>\n",
       "</div>"
      ],
      "text/plain": [
       "                      last_price  rooms  total_area  living_to_total  \\\n",
       "last_price                  1.00   0.41        0.64             0.04   \n",
       "rooms                       0.41   1.00        0.80             0.62   \n",
       "total_area                  0.64   0.80        1.00             0.29   \n",
       "living_to_total             0.04   0.62        0.29             1.00   \n",
       "kitchen_to_total           -0.13  -0.67       -0.45            -0.75   \n",
       "weekday                    -0.00   0.00        0.00             0.01   \n",
       "month                       0.01  -0.00        0.01            -0.02   \n",
       "year                        0.02  -0.05       -0.06            -0.02   \n",
       "city_centers_nearest       -0.32  -0.04       -0.05            -0.02   \n",
       "\n",
       "                      kitchen_to_total  weekday  month  year  \\\n",
       "last_price                       -0.13    -0.00   0.01  0.02   \n",
       "rooms                            -0.67     0.00  -0.00 -0.05   \n",
       "total_area                       -0.45     0.00   0.01 -0.06   \n",
       "living_to_total                  -0.75     0.01  -0.02 -0.02   \n",
       "kitchen_to_total                  1.00    -0.00   0.01  0.04   \n",
       "weekday                          -0.00     1.00   0.01 -0.00   \n",
       "month                             0.01     0.01   1.00 -0.24   \n",
       "year                              0.04    -0.00  -0.24  1.00   \n",
       "city_centers_nearest             -0.02     0.01  -0.02 -0.00   \n",
       "\n",
       "                      city_centers_nearest  \n",
       "last_price                           -0.32  \n",
       "rooms                                -0.04  \n",
       "total_area                           -0.05  \n",
       "living_to_total                      -0.02  \n",
       "kitchen_to_total                     -0.02  \n",
       "weekday                               0.01  \n",
       "month                                -0.02  \n",
       "year                                 -0.00  \n",
       "city_centers_nearest                  1.00  "
      ]
     },
     "execution_count": 466,
     "metadata": {},
     "output_type": "execute_result"
    }
   ],
   "source": [
    "#выводим матрицу кореляции\n",
    "data_pured_for_corr.corr()"
   ]
  },
  {
   "cell_type": "markdown",
   "metadata": {},
   "source": [
    "- Касательно зависимость цены от комнат уже говорилось ранее что там не сильная зависимость\n",
    "- По площади выводы тоже не изменились после отчситки данных\n",
    "- По корреляции видно, что день, месяц или  год не имееют четкой взаимосвязи с ценой. Возможно цены растут, но на фоне разнообразия параметров и сделок выявить четкую взаимосвязь не получится, только если группировать однотипные предложения и смотреть их изменений сквозь года, что в данной выборке, учитывая что предложения в среднем живут по 2-3 месяца не представляется возможным, да и цены на рынке недвижимости имеют стихийную составляющую в плане их формирования.\n",
    "- Касательно удалености то тут имеет место несильно выраженная отрицательная кореляция, значит чем меньше расстояние, тем цена становится дороже, что в целом звучит логично. \n",
    "Посмотрим влияет ли этаж на цены построим сводные таблицу и выделим медианы по ценам"
   ]
  },
  {
   "cell_type": "code",
   "execution_count": 467,
   "metadata": {},
   "outputs": [
    {
     "data": {
      "text/html": [
       "<div>\n",
       "<style scoped>\n",
       "    .dataframe tbody tr th:only-of-type {\n",
       "        vertical-align: middle;\n",
       "    }\n",
       "\n",
       "    .dataframe tbody tr th {\n",
       "        vertical-align: top;\n",
       "    }\n",
       "\n",
       "    .dataframe thead th {\n",
       "        text-align: right;\n",
       "    }\n",
       "</style>\n",
       "<table border=\"1\" class=\"dataframe\">\n",
       "  <thead>\n",
       "    <tr style=\"text-align: right;\">\n",
       "      <th></th>\n",
       "      <th>last_price</th>\n",
       "    </tr>\n",
       "    <tr>\n",
       "      <th>group_floor</th>\n",
       "      <th></th>\n",
       "    </tr>\n",
       "  </thead>\n",
       "  <tbody>\n",
       "    <tr>\n",
       "      <td>другой</td>\n",
       "      <td>4299</td>\n",
       "    </tr>\n",
       "    <tr>\n",
       "      <td>первый</td>\n",
       "      <td>2990</td>\n",
       "    </tr>\n",
       "    <tr>\n",
       "      <td>последний</td>\n",
       "      <td>3950</td>\n",
       "    </tr>\n",
       "  </tbody>\n",
       "</table>\n",
       "</div>"
      ],
      "text/plain": [
       "             last_price\n",
       "group_floor            \n",
       "другой             4299\n",
       "первый             2990\n",
       "последний          3950"
      ]
     },
     "execution_count": 467,
     "metadata": {},
     "output_type": "execute_result"
    }
   ],
   "source": [
    "data_pured.pivot_table(index='group_floor', values='last_price', aggfunc='median')"
   ]
  },
  {
   "cell_type": "code",
   "execution_count": 468,
   "metadata": {},
   "outputs": [
    {
     "data": {
      "text/plain": [
       "<matplotlib.axes._subplots.AxesSubplot at 0x7fdef3e11b10>"
      ]
     },
     "execution_count": 468,
     "metadata": {},
     "output_type": "execute_result"
    },
    {
     "data": {
      "image/png": "[encoded data removed]",
      "text/plain": [
       "<Figure size 432x288 with 1 Axes>"
      ]
     },
     "metadata": {
      "needs_background": "light"
     },
     "output_type": "display_data"
    }
   ],
   "source": [
    "# Для наглядности построим график\n",
    "data_pured.pivot_table(index='group_floor', values='last_price', aggfunc='median').plot(kind='bar')"
   ]
  },
  {
   "cell_type": "markdown",
   "metadata": {},
   "source": [
    "Как и ожидалось квартиры на первом этаже стоят дешевле, чем на других этажах и последнем. Изучим цены в разрезе населенных пунктов."
   ]
  },
  {
   "cell_type": "code",
   "execution_count": 469,
   "metadata": {},
   "outputs": [
    {
     "data": {
      "text/html": [
       "<div>\n",
       "<style scoped>\n",
       "    .dataframe tbody tr th:only-of-type {\n",
       "        vertical-align: middle;\n",
       "    }\n",
       "\n",
       "    .dataframe tbody tr th {\n",
       "        vertical-align: top;\n",
       "    }\n",
       "\n",
       "    .dataframe thead th {\n",
       "        text-align: right;\n",
       "    }\n",
       "</style>\n",
       "<table border=\"1\" class=\"dataframe\">\n",
       "  <thead>\n",
       "    <tr style=\"text-align: right;\">\n",
       "      <th></th>\n",
       "      <th>count</th>\n",
       "      <th>mean</th>\n",
       "    </tr>\n",
       "    <tr>\n",
       "      <th>locality_name</th>\n",
       "      <th></th>\n",
       "      <th></th>\n",
       "    </tr>\n",
       "  </thead>\n",
       "  <tbody>\n",
       "    <tr>\n",
       "      <td>Санкт-Петербург</td>\n",
       "      <td>9732</td>\n",
       "      <td>102.50</td>\n",
       "    </tr>\n",
       "    <tr>\n",
       "      <td>посёлок Мурино</td>\n",
       "      <td>446</td>\n",
       "      <td>85.39</td>\n",
       "    </tr>\n",
       "    <tr>\n",
       "      <td>посёлок Шушары</td>\n",
       "      <td>362</td>\n",
       "      <td>77.61</td>\n",
       "    </tr>\n",
       "    <tr>\n",
       "      <td>Всеволожск</td>\n",
       "      <td>281</td>\n",
       "      <td>66.58</td>\n",
       "    </tr>\n",
       "    <tr>\n",
       "      <td>Колпино</td>\n",
       "      <td>278</td>\n",
       "      <td>74.48</td>\n",
       "    </tr>\n",
       "    <tr>\n",
       "      <td>посёлок Парголово</td>\n",
       "      <td>266</td>\n",
       "      <td>89.25</td>\n",
       "    </tr>\n",
       "    <tr>\n",
       "      <td>Пушкин</td>\n",
       "      <td>241</td>\n",
       "      <td>98.40</td>\n",
       "    </tr>\n",
       "    <tr>\n",
       "      <td>деревня Кудрово</td>\n",
       "      <td>241</td>\n",
       "      <td>91.93</td>\n",
       "    </tr>\n",
       "    <tr>\n",
       "      <td>Гатчина</td>\n",
       "      <td>228</td>\n",
       "      <td>68.28</td>\n",
       "    </tr>\n",
       "    <tr>\n",
       "      <td>Выборг</td>\n",
       "      <td>178</td>\n",
       "      <td>57.46</td>\n",
       "    </tr>\n",
       "  </tbody>\n",
       "</table>\n",
       "</div>"
      ],
      "text/plain": [
       "                   count   mean\n",
       "locality_name                  \n",
       "Санкт-Петербург     9732 102.50\n",
       "посёлок Мурино       446  85.39\n",
       "посёлок Шушары       362  77.61\n",
       "Всеволожск           281  66.58\n",
       "Колпино              278  74.48\n",
       "посёлок Парголово    266  89.25\n",
       "Пушкин               241  98.40\n",
       "деревня Кудрово      241  91.93\n",
       "Гатчина              228  68.28\n",
       "Выборг               178  57.46"
      ]
     },
     "execution_count": 469,
     "metadata": {},
     "output_type": "execute_result"
    }
   ],
   "source": [
    "top_locality= data_pured.pivot_table(index='locality_name', values='price_for_metr', aggfunc=['count', 'mean'])\n",
    "top_locality.columns =['count', 'mean']\n",
    "top_locality.sort_values('count', ascending=False).head(10)\n",
    "\n",
    "                                    "
   ]
  },
  {
   "cell_type": "markdown",
   "metadata": {},
   "source": [
    "Больше всего предложений сосредоточено в культурной столице, но там же и самая дорогая цена за квадратнй метр.\n",
    "А вот Выборг пользуется куда меньшей популярностью, но и цена там гораздо ниже, чем в Питере. В целом по всей 10 цены примерно в одном диапозоне от 70 до 100 тысяч за метр. Причем нельзя однозначно выделить прямую зависимость от количесвта обьявлений. Там где обьявлений меньше не всегда цена тоже девешле, чем в соседних городах."
   ]
  },
  {
   "cell_type": "markdown",
   "metadata": {},
   "source": [
    "Как оказалось на цену в первую очередь вляет площадь, затем уже важными парметрами становятся количество комнат и удаленность от центра. Дата размещения практически не играет никакой роли. Больше всего обьявлений в Питере, что ожидаемо, цены между населенными пунктами разбросаны в одном диапозоне, у городов с меньшей популярностьюцена иногда выше."
   ]
  },
  {
   "cell_type": "markdown",
   "metadata": {},
   "source": [
    "### Выделение центрального сегмента картир в Питере"
   ]
  },
  {
   "cell_type": "code",
   "execution_count": 470,
   "metadata": {},
   "outputs": [
    {
     "data": {
      "text/plain": [
       "0.0016440608302507192"
      ]
     },
     "execution_count": 470,
     "metadata": {},
     "output_type": "execute_result"
    }
   ],
   "source": [
    "# отбираем данные по Питеру, столбец растояния и так уже в киллометрах, переводим в целое число\n",
    "data_pured_piter = data_pured.query('locality_name == \"Санкт-Петербург\"')\n",
    "#посмотрим сколько пропусков в столбце расстояния, чтобы произвести замену на целые числа \n",
    "data_pured_piter['city_centers_nearest'].isna().sum()/len(data_pured_piter)\n"
   ]
  },
  {
   "cell_type": "code",
   "execution_count": 471,
   "metadata": {},
   "outputs": [],
   "source": [
    "#незначительное число избавимся от пропусков\n",
    "data_pured_piter = data_pured_piter.dropna(subset=['city_centers_nearest']).reset_index(drop=True)"
   ]
  },
  {
   "cell_type": "code",
   "execution_count": 472,
   "metadata": {},
   "outputs": [
    {
     "data": {
      "text/plain": [
       "<matplotlib.axes._subplots.AxesSubplot at 0x7fdef3cb9450>"
      ]
     },
     "execution_count": 472,
     "metadata": {},
     "output_type": "execute_result"
    },
    {
     "data": {
      "image/png": "[encoded data removed]",
      "text/plain": [
       "<Figure size 432x288 with 1 Axes>"
      ]
     },
     "metadata": {
      "needs_background": "light"
     },
     "output_type": "display_data"
    }
   ],
   "source": [
    "data_pured_piter['city_centers_nearest'] = data_pured_piter['city_centers_nearest'].astype('int')\n",
    "data_pured_piter.pivot_table(index='city_centers_nearest', values='price_for_metr').plot(y='price_for_metr', grid=True)"
   ]
  },
  {
   "cell_type": "markdown",
   "metadata": {},
   "source": [
    "На графике наглядно видно прямую зависимость от удаленности от центра. Хотя в определенных местах, есть всплески, тенденция идет к уменьшению цены. Центральную зонуможно выделить по 6 киллометр включительно, в связи с тем что это граница первого постоянного (то есть цены выше уже не поднималась) снижения цены."
   ]
  },
  {
   "cell_type": "markdown",
   "metadata": {},
   "source": [
    "### Анализ центрального сегмента"
   ]
  },
  {
   "cell_type": "code",
   "execution_count": 473,
   "metadata": {},
   "outputs": [
    {
     "data": {
      "text/html": [
       "<div>\n",
       "<style scoped>\n",
       "    .dataframe tbody tr th:only-of-type {\n",
       "        vertical-align: middle;\n",
       "    }\n",
       "\n",
       "    .dataframe tbody tr th {\n",
       "        vertical-align: top;\n",
       "    }\n",
       "\n",
       "    .dataframe thead th {\n",
       "        text-align: right;\n",
       "    }\n",
       "</style>\n",
       "<table border=\"1\" class=\"dataframe\">\n",
       "  <thead>\n",
       "    <tr style=\"text-align: right;\">\n",
       "      <th></th>\n",
       "      <th>total_images</th>\n",
       "      <th>last_price</th>\n",
       "      <th>total_area</th>\n",
       "      <th>rooms</th>\n",
       "      <th>ceiling_height</th>\n",
       "      <th>floors_total</th>\n",
       "      <th>living_area</th>\n",
       "      <th>floor</th>\n",
       "      <th>kitchen_area</th>\n",
       "      <th>balcony</th>\n",
       "      <th>...</th>\n",
       "      <th>parks_nearest</th>\n",
       "      <th>ponds_around3000</th>\n",
       "      <th>ponds_nearest</th>\n",
       "      <th>days_exposition</th>\n",
       "      <th>living_to_total</th>\n",
       "      <th>kitchen_to_total</th>\n",
       "      <th>price_for_metr</th>\n",
       "      <th>weekday</th>\n",
       "      <th>month</th>\n",
       "      <th>year</th>\n",
       "    </tr>\n",
       "  </thead>\n",
       "  <tbody>\n",
       "    <tr>\n",
       "      <td>count</td>\n",
       "      <td>1,156.00</td>\n",
       "      <td>1,156.00</td>\n",
       "      <td>1,156.00</td>\n",
       "      <td>1,156.00</td>\n",
       "      <td>1,156.00</td>\n",
       "      <td>1,156.00</td>\n",
       "      <td>1,156.00</td>\n",
       "      <td>1,156.00</td>\n",
       "      <td>1,156.00</td>\n",
       "      <td>1,156.00</td>\n",
       "      <td>...</td>\n",
       "      <td>753.00</td>\n",
       "      <td>1,156.00</td>\n",
       "      <td>819.00</td>\n",
       "      <td>1,156.00</td>\n",
       "      <td>1,071.00</td>\n",
       "      <td>1,045.00</td>\n",
       "      <td>1,156.00</td>\n",
       "      <td>1,156.00</td>\n",
       "      <td>1,156.00</td>\n",
       "      <td>1,156.00</td>\n",
       "    </tr>\n",
       "    <tr>\n",
       "      <td>mean</td>\n",
       "      <td>9.43</td>\n",
       "      <td>6,383.50</td>\n",
       "      <td>59.28</td>\n",
       "      <td>2.15</td>\n",
       "      <td>2.85</td>\n",
       "      <td>6.56</td>\n",
       "      <td>33.74</td>\n",
       "      <td>3.68</td>\n",
       "      <td>9.80</td>\n",
       "      <td>0.23</td>\n",
       "      <td>...</td>\n",
       "      <td>464.60</td>\n",
       "      <td>1.23</td>\n",
       "      <td>489.96</td>\n",
       "      <td>120.69</td>\n",
       "      <td>57.55</td>\n",
       "      <td>18.38</td>\n",
       "      <td>113.74</td>\n",
       "      <td>2.56</td>\n",
       "      <td>6.77</td>\n",
       "      <td>2,017.33</td>\n",
       "    </tr>\n",
       "    <tr>\n",
       "      <td>std</td>\n",
       "      <td>5.53</td>\n",
       "      <td>1,547.28</td>\n",
       "      <td>19.61</td>\n",
       "      <td>0.91</td>\n",
       "      <td>0.30</td>\n",
       "      <td>3.48</td>\n",
       "      <td>15.19</td>\n",
       "      <td>2.48</td>\n",
       "      <td>4.08</td>\n",
       "      <td>0.61</td>\n",
       "      <td>...</td>\n",
       "      <td>311.68</td>\n",
       "      <td>1.07</td>\n",
       "      <td>270.90</td>\n",
       "      <td>103.05</td>\n",
       "      <td>11.15</td>\n",
       "      <td>7.66</td>\n",
       "      <td>28.78</td>\n",
       "      <td>1.72</td>\n",
       "      <td>3.38</td>\n",
       "      <td>0.85</td>\n",
       "    </tr>\n",
       "    <tr>\n",
       "      <td>min</td>\n",
       "      <td>0.00</td>\n",
       "      <td>1,600.00</td>\n",
       "      <td>12.00</td>\n",
       "      <td>1.00</td>\n",
       "      <td>2.40</td>\n",
       "      <td>2.00</td>\n",
       "      <td>2.00</td>\n",
       "      <td>1.00</td>\n",
       "      <td>1.08</td>\n",
       "      <td>0.00</td>\n",
       "      <td>...</td>\n",
       "      <td>13.00</td>\n",
       "      <td>0.00</td>\n",
       "      <td>27.00</td>\n",
       "      <td>3.00</td>\n",
       "      <td>3.85</td>\n",
       "      <td>6.06</td>\n",
       "      <td>15.35</td>\n",
       "      <td>0.00</td>\n",
       "      <td>1.00</td>\n",
       "      <td>2,015.00</td>\n",
       "    </tr>\n",
       "    <tr>\n",
       "      <td>25%</td>\n",
       "      <td>6.00</td>\n",
       "      <td>5,250.00</td>\n",
       "      <td>44.50</td>\n",
       "      <td>1.00</td>\n",
       "      <td>2.65</td>\n",
       "      <td>5.00</td>\n",
       "      <td>21.50</td>\n",
       "      <td>2.00</td>\n",
       "      <td>7.12</td>\n",
       "      <td>0.00</td>\n",
       "      <td>...</td>\n",
       "      <td>276.00</td>\n",
       "      <td>0.00</td>\n",
       "      <td>262.50</td>\n",
       "      <td>38.00</td>\n",
       "      <td>50.94</td>\n",
       "      <td>13.16</td>\n",
       "      <td>93.02</td>\n",
       "      <td>1.00</td>\n",
       "      <td>4.00</td>\n",
       "      <td>2,017.00</td>\n",
       "    </tr>\n",
       "    <tr>\n",
       "      <td>50%</td>\n",
       "      <td>9.00</td>\n",
       "      <td>6,500.00</td>\n",
       "      <td>56.70</td>\n",
       "      <td>2.00</td>\n",
       "      <td>2.70</td>\n",
       "      <td>5.00</td>\n",
       "      <td>32.00</td>\n",
       "      <td>3.00</td>\n",
       "      <td>9.00</td>\n",
       "      <td>0.00</td>\n",
       "      <td>...</td>\n",
       "      <td>420.00</td>\n",
       "      <td>1.00</td>\n",
       "      <td>474.00</td>\n",
       "      <td>83.00</td>\n",
       "      <td>59.18</td>\n",
       "      <td>16.30</td>\n",
       "      <td>108.94</td>\n",
       "      <td>3.00</td>\n",
       "      <td>7.00</td>\n",
       "      <td>2,017.00</td>\n",
       "    </tr>\n",
       "    <tr>\n",
       "      <td>75%</td>\n",
       "      <td>13.00</td>\n",
       "      <td>7,600.00</td>\n",
       "      <td>72.00</td>\n",
       "      <td>3.00</td>\n",
       "      <td>3.00</td>\n",
       "      <td>7.00</td>\n",
       "      <td>44.00</td>\n",
       "      <td>5.00</td>\n",
       "      <td>11.85</td>\n",
       "      <td>0.00</td>\n",
       "      <td>...</td>\n",
       "      <td>587.00</td>\n",
       "      <td>2.00</td>\n",
       "      <td>694.00</td>\n",
       "      <td>188.00</td>\n",
       "      <td>65.29</td>\n",
       "      <td>21.96</td>\n",
       "      <td>130.32</td>\n",
       "      <td>4.00</td>\n",
       "      <td>10.00</td>\n",
       "      <td>2,018.00</td>\n",
       "    </tr>\n",
       "    <tr>\n",
       "      <td>max</td>\n",
       "      <td>32.00</td>\n",
       "      <td>8,999.00</td>\n",
       "      <td>138.70</td>\n",
       "      <td>5.00</td>\n",
       "      <td>4.00</td>\n",
       "      <td>25.00</td>\n",
       "      <td>95.00</td>\n",
       "      <td>21.00</td>\n",
       "      <td>36.60</td>\n",
       "      <td>5.00</td>\n",
       "      <td>...</td>\n",
       "      <td>2,295.00</td>\n",
       "      <td>3.00</td>\n",
       "      <td>1,199.00</td>\n",
       "      <td>400.00</td>\n",
       "      <td>97.22</td>\n",
       "      <td>56.05</td>\n",
       "      <td>292.31</td>\n",
       "      <td>6.00</td>\n",
       "      <td>12.00</td>\n",
       "      <td>2,019.00</td>\n",
       "    </tr>\n",
       "  </tbody>\n",
       "</table>\n",
       "<p>8 rows × 23 columns</p>\n",
       "</div>"
      ],
      "text/plain": [
       "       total_images  last_price  total_area    rooms  ceiling_height  \\\n",
       "count      1,156.00    1,156.00    1,156.00 1,156.00        1,156.00   \n",
       "mean           9.43    6,383.50       59.28     2.15            2.85   \n",
       "std            5.53    1,547.28       19.61     0.91            0.30   \n",
       "min            0.00    1,600.00       12.00     1.00            2.40   \n",
       "25%            6.00    5,250.00       44.50     1.00            2.65   \n",
       "50%            9.00    6,500.00       56.70     2.00            2.70   \n",
       "75%           13.00    7,600.00       72.00     3.00            3.00   \n",
       "max           32.00    8,999.00      138.70     5.00            4.00   \n",
       "\n",
       "       floors_total  living_area    floor  kitchen_area  balcony  ...  \\\n",
       "count      1,156.00     1,156.00 1,156.00      1,156.00 1,156.00  ...   \n",
       "mean           6.56        33.74     3.68          9.80     0.23  ...   \n",
       "std            3.48        15.19     2.48          4.08     0.61  ...   \n",
       "min            2.00         2.00     1.00          1.08     0.00  ...   \n",
       "25%            5.00        21.50     2.00          7.12     0.00  ...   \n",
       "50%            5.00        32.00     3.00          9.00     0.00  ...   \n",
       "75%            7.00        44.00     5.00         11.85     0.00  ...   \n",
       "max           25.00        95.00    21.00         36.60     5.00  ...   \n",
       "\n",
       "       parks_nearest  ponds_around3000  ponds_nearest  days_exposition  \\\n",
       "count         753.00          1,156.00         819.00         1,156.00   \n",
       "mean          464.60              1.23         489.96           120.69   \n",
       "std           311.68              1.07         270.90           103.05   \n",
       "min            13.00              0.00          27.00             3.00   \n",
       "25%           276.00              0.00         262.50            38.00   \n",
       "50%           420.00              1.00         474.00            83.00   \n",
       "75%           587.00              2.00         694.00           188.00   \n",
       "max         2,295.00              3.00       1,199.00           400.00   \n",
       "\n",
       "       living_to_total  kitchen_to_total  price_for_metr  weekday    month  \\\n",
       "count         1,071.00          1,045.00        1,156.00 1,156.00 1,156.00   \n",
       "mean             57.55             18.38          113.74     2.56     6.77   \n",
       "std              11.15              7.66           28.78     1.72     3.38   \n",
       "min               3.85              6.06           15.35     0.00     1.00   \n",
       "25%              50.94             13.16           93.02     1.00     4.00   \n",
       "50%              59.18             16.30          108.94     3.00     7.00   \n",
       "75%              65.29             21.96          130.32     4.00    10.00   \n",
       "max              97.22             56.05          292.31     6.00    12.00   \n",
       "\n",
       "          year  \n",
       "count 1,156.00  \n",
       "mean  2,017.33  \n",
       "std       0.85  \n",
       "min   2,015.00  \n",
       "25%   2,017.00  \n",
       "50%   2,017.00  \n",
       "75%   2,018.00  \n",
       "max   2,019.00  \n",
       "\n",
       "[8 rows x 23 columns]"
      ]
     },
     "execution_count": 473,
     "metadata": {},
     "output_type": "execute_result"
    }
   ],
   "source": [
    "#создадим таблицу с датами центраьнго сегмента\n",
    "data_pured_piter_center=data_pured_piter.query('city_centers_nearest <=6')\n",
    "data_pured_piter_center.describe()"
   ]
  },
  {
   "cell_type": "markdown",
   "metadata": {},
   "source": [
    "Все показатели остались примерно такими же, однако выросла мелиана и средняя цены, что логично так как это более дорогой сегмент. Остальные параметры площади, высоты числа комнат примерно аналогичны другим выборкам.\n",
    "Выделим другим факторы, которые оказывают влияние."
   ]
  },
  {
   "cell_type": "code",
   "execution_count": 474,
   "metadata": {},
   "outputs": [
    {
     "data": {
      "text/html": [
       "<div>\n",
       "<style scoped>\n",
       "    .dataframe tbody tr th:only-of-type {\n",
       "        vertical-align: middle;\n",
       "    }\n",
       "\n",
       "    .dataframe tbody tr th {\n",
       "        vertical-align: top;\n",
       "    }\n",
       "\n",
       "    .dataframe thead th {\n",
       "        text-align: right;\n",
       "    }\n",
       "</style>\n",
       "<table border=\"1\" class=\"dataframe\">\n",
       "  <thead>\n",
       "    <tr style=\"text-align: right;\">\n",
       "      <th></th>\n",
       "      <th>last_price</th>\n",
       "      <th>rooms</th>\n",
       "      <th>total_area</th>\n",
       "      <th>weekday</th>\n",
       "      <th>month</th>\n",
       "      <th>year</th>\n",
       "      <th>city_centers_nearest</th>\n",
       "    </tr>\n",
       "  </thead>\n",
       "  <tbody>\n",
       "    <tr>\n",
       "      <td>last_price</td>\n",
       "      <td>1.00</td>\n",
       "      <td>0.42</td>\n",
       "      <td>0.63</td>\n",
       "      <td>0.08</td>\n",
       "      <td>-0.00</td>\n",
       "      <td>0.05</td>\n",
       "      <td>-0.09</td>\n",
       "    </tr>\n",
       "    <tr>\n",
       "      <td>rooms</td>\n",
       "      <td>0.42</td>\n",
       "      <td>1.00</td>\n",
       "      <td>0.81</td>\n",
       "      <td>0.03</td>\n",
       "      <td>0.02</td>\n",
       "      <td>-0.05</td>\n",
       "      <td>-0.12</td>\n",
       "    </tr>\n",
       "    <tr>\n",
       "      <td>total_area</td>\n",
       "      <td>0.63</td>\n",
       "      <td>0.81</td>\n",
       "      <td>1.00</td>\n",
       "      <td>0.03</td>\n",
       "      <td>0.03</td>\n",
       "      <td>-0.09</td>\n",
       "      <td>-0.13</td>\n",
       "    </tr>\n",
       "    <tr>\n",
       "      <td>weekday</td>\n",
       "      <td>0.08</td>\n",
       "      <td>0.03</td>\n",
       "      <td>0.03</td>\n",
       "      <td>1.00</td>\n",
       "      <td>-0.00</td>\n",
       "      <td>0.03</td>\n",
       "      <td>-0.02</td>\n",
       "    </tr>\n",
       "    <tr>\n",
       "      <td>month</td>\n",
       "      <td>-0.00</td>\n",
       "      <td>0.02</td>\n",
       "      <td>0.03</td>\n",
       "      <td>-0.00</td>\n",
       "      <td>1.00</td>\n",
       "      <td>-0.23</td>\n",
       "      <td>-0.03</td>\n",
       "    </tr>\n",
       "    <tr>\n",
       "      <td>year</td>\n",
       "      <td>0.05</td>\n",
       "      <td>-0.05</td>\n",
       "      <td>-0.09</td>\n",
       "      <td>0.03</td>\n",
       "      <td>-0.23</td>\n",
       "      <td>1.00</td>\n",
       "      <td>0.06</td>\n",
       "    </tr>\n",
       "    <tr>\n",
       "      <td>city_centers_nearest</td>\n",
       "      <td>-0.09</td>\n",
       "      <td>-0.12</td>\n",
       "      <td>-0.13</td>\n",
       "      <td>-0.02</td>\n",
       "      <td>-0.03</td>\n",
       "      <td>0.06</td>\n",
       "      <td>1.00</td>\n",
       "    </tr>\n",
       "  </tbody>\n",
       "</table>\n",
       "</div>"
      ],
      "text/plain": [
       "                      last_price  rooms  total_area  weekday  month  year  \\\n",
       "last_price                  1.00   0.42        0.63     0.08  -0.00  0.05   \n",
       "rooms                       0.42   1.00        0.81     0.03   0.02 -0.05   \n",
       "total_area                  0.63   0.81        1.00     0.03   0.03 -0.09   \n",
       "weekday                     0.08   0.03        0.03     1.00  -0.00  0.03   \n",
       "month                      -0.00   0.02        0.03    -0.00   1.00 -0.23   \n",
       "year                        0.05  -0.05       -0.09     0.03  -0.23  1.00   \n",
       "city_centers_nearest       -0.09  -0.12       -0.13    -0.02  -0.03  0.06   \n",
       "\n",
       "                      city_centers_nearest  \n",
       "last_price                           -0.09  \n",
       "rooms                                -0.12  \n",
       "total_area                           -0.13  \n",
       "weekday                              -0.02  \n",
       "month                                -0.03  \n",
       "year                                  0.06  \n",
       "city_centers_nearest                  1.00  "
      ]
     },
     "execution_count": 474,
     "metadata": {},
     "output_type": "execute_result"
    }
   ],
   "source": [
    "data_pured_piter_center_for_corr= data_pured_piter_center[['last_price', 'rooms', 'total_area', 'weekday', 'month', 'year', 'city_centers_nearest']]\n",
    "data_pured_piter_center_for_corr.corr()"
   ]
  },
  {
   "cell_type": "markdown",
   "metadata": {},
   "source": [
    "Параметры оказывают аналогичное влияние на цену. Единственное снизилось влияние расстояния, что логично, так как это и была цель этой выборки отделить данный центрального сегмента, значит расстояние уже не имеет сильную корреляцию."
   ]
  },
  {
   "cell_type": "code",
   "execution_count": 475,
   "metadata": {},
   "outputs": [
    {
     "data": {
      "text/html": [
       "<div>\n",
       "<style scoped>\n",
       "    .dataframe tbody tr th:only-of-type {\n",
       "        vertical-align: middle;\n",
       "    }\n",
       "\n",
       "    .dataframe tbody tr th {\n",
       "        vertical-align: top;\n",
       "    }\n",
       "\n",
       "    .dataframe thead th {\n",
       "        text-align: right;\n",
       "    }\n",
       "</style>\n",
       "<table border=\"1\" class=\"dataframe\">\n",
       "  <thead>\n",
       "    <tr style=\"text-align: right;\">\n",
       "      <th></th>\n",
       "      <th>last_price</th>\n",
       "    </tr>\n",
       "    <tr>\n",
       "      <th>group_floor</th>\n",
       "      <th></th>\n",
       "    </tr>\n",
       "  </thead>\n",
       "  <tbody>\n",
       "    <tr>\n",
       "      <td>другой</td>\n",
       "      <td>6500</td>\n",
       "    </tr>\n",
       "    <tr>\n",
       "      <td>последний</td>\n",
       "      <td>6500</td>\n",
       "    </tr>\n",
       "  </tbody>\n",
       "</table>\n",
       "</div>"
      ],
      "text/plain": [
       "             last_price\n",
       "group_floor            \n",
       "другой             6500\n",
       "последний          6500"
      ]
     },
     "execution_count": 475,
     "metadata": {},
     "output_type": "execute_result"
    }
   ],
   "source": [
    "data_pured_piter_center.pivot_table(index='group_floor', values='last_price', aggfunc='median')\n"
   ]
  },
  {
   "cell_type": "markdown",
   "metadata": {},
   "source": [
    "Этажность перестала влиять на выборку. Очевидно это из-за того, что сама выборка содержит не очень большое число значений для данного параметра, также изначально не было сильной разницы между последним и другими этажами, учитывая, что первых этажей в выборке по центру не осталось."
   ]
  },
  {
   "cell_type": "markdown",
   "metadata": {},
   "source": [
    "Можно сказать, что выборка по центру обладает теме же зависимостями  и параметрами аналогично общей очищенной выборке. Единственные явные отличия снижения влияния расстояния на цену и рост средней цены."
   ]
  },
  {
   "cell_type": "markdown",
   "metadata": {},
   "source": [
    "## Общий вывод"
   ]
  },
  {
   "cell_type": "markdown",
   "metadata": {},
   "source": [
    "Изучив данные можно сделать следующие выводы:\n",
    "- Цена прежде всего зависит от площади обьекта, также весомое влияние оказывают расположение квартиры относительно центра и число комнат. Этажность также влияет, люди предпочитают недвижимость не на первом этаже.\n",
    "- Четкой засимости между датами публикации и ценой нет.\n",
    "- Квартиры в центре подчиняются тем же правилам, что и в остальных сегментах, только влияния на расположение к центру практически не оказывает влияния."
   ]
  },
  {
   "cell_type": "code",
   "execution_count": null,
   "metadata": {},
   "outputs": [],
   "source": []
  }
 ],
 "metadata": {
  "ExecuteTimeLog": [
   {
    "duration": 1254,
    "start_time": "2021-12-13T06:41:44.199Z"
   },
   {
    "duration": 76,
    "start_time": "2021-12-13T06:41:56.705Z"
   },
   {
    "duration": 13,
    "start_time": "2021-12-13T06:44:36.914Z"
   },
   {
    "duration": 2938,
    "start_time": "2021-12-13T06:45:51.538Z"
   },
   {
    "duration": 901,
    "start_time": "2021-12-13T06:45:53.578Z"
   },
   {
    "duration": 72,
    "start_time": "2021-12-13T06:46:04.746Z"
   },
   {
    "duration": 11,
    "start_time": "2021-12-13T06:46:07.394Z"
   },
   {
    "duration": 19,
    "start_time": "2021-12-13T06:46:42.041Z"
   },
   {
    "duration": 85,
    "start_time": "2021-12-13T06:47:20.153Z"
   },
   {
    "duration": 15,
    "start_time": "2021-12-13T06:47:21.617Z"
   },
   {
    "duration": 43,
    "start_time": "2021-12-13T06:47:25.370Z"
   },
   {
    "duration": 37,
    "start_time": "2021-12-13T06:51:03.843Z"
   },
   {
    "duration": 36,
    "start_time": "2021-12-13T07:02:16.942Z"
   },
   {
    "duration": 111,
    "start_time": "2021-12-13T07:02:59.648Z"
   },
   {
    "duration": 8,
    "start_time": "2021-12-13T07:22:06.524Z"
   },
   {
    "duration": 37,
    "start_time": "2021-12-13T07:37:04.305Z"
   },
   {
    "duration": 38,
    "start_time": "2021-12-13T07:37:27.170Z"
   },
   {
    "duration": 6,
    "start_time": "2021-12-13T07:37:54.762Z"
   },
   {
    "duration": 147,
    "start_time": "2021-12-13T07:45:42.257Z"
   },
   {
    "duration": 66,
    "start_time": "2021-12-13T07:45:54.473Z"
   },
   {
    "duration": 47,
    "start_time": "2021-12-13T07:46:05.185Z"
   },
   {
    "duration": 181,
    "start_time": "2021-12-13T07:55:59.720Z"
   },
   {
    "duration": 464,
    "start_time": "2021-12-13T07:56:22.222Z"
   },
   {
    "duration": 39,
    "start_time": "2021-12-13T07:56:37.177Z"
   },
   {
    "duration": 40,
    "start_time": "2021-12-13T07:56:58.856Z"
   },
   {
    "duration": 37,
    "start_time": "2021-12-13T07:58:56.680Z"
   },
   {
    "duration": 36,
    "start_time": "2021-12-13T07:59:03.472Z"
   },
   {
    "duration": 38,
    "start_time": "2021-12-13T07:59:18.936Z"
   },
   {
    "duration": 57,
    "start_time": "2021-12-13T07:59:38.671Z"
   },
   {
    "duration": 87,
    "start_time": "2021-12-13T08:00:40.736Z"
   },
   {
    "duration": 15,
    "start_time": "2021-12-13T08:00:40.826Z"
   },
   {
    "duration": 50,
    "start_time": "2021-12-13T08:00:40.844Z"
   },
   {
    "duration": 38,
    "start_time": "2021-12-13T08:00:40.897Z"
   },
   {
    "duration": 129,
    "start_time": "2021-12-13T08:00:40.937Z"
   },
   {
    "duration": 8,
    "start_time": "2021-12-13T08:00:41.069Z"
   },
   {
    "duration": 10294,
    "start_time": "2021-12-13T08:28:53.266Z"
   },
   {
    "duration": 885,
    "start_time": "2021-12-13T08:29:02.680Z"
   },
   {
    "duration": 80,
    "start_time": "2021-12-13T08:29:07.189Z"
   },
   {
    "duration": 15,
    "start_time": "2021-12-13T08:29:07.272Z"
   },
   {
    "duration": 38,
    "start_time": "2021-12-13T08:29:07.290Z"
   },
   {
    "duration": 59,
    "start_time": "2021-12-13T08:29:07.331Z"
   },
   {
    "duration": 115,
    "start_time": "2021-12-13T08:29:07.392Z"
   },
   {
    "duration": 8,
    "start_time": "2021-12-13T08:29:07.510Z"
   },
   {
    "duration": 9442,
    "start_time": "2021-12-13T08:29:07.521Z"
   },
   {
    "duration": 891,
    "start_time": "2021-12-13T08:29:16.075Z"
   },
   {
    "duration": 8,
    "start_time": "2021-12-13T08:29:35.795Z"
   },
   {
    "duration": 22,
    "start_time": "2021-12-13T08:29:43.762Z"
   },
   {
    "duration": 13,
    "start_time": "2021-12-13T08:32:37.066Z"
   },
   {
    "duration": 16,
    "start_time": "2021-12-13T08:32:38.666Z"
   },
   {
    "duration": 15,
    "start_time": "2021-12-13T08:33:28.482Z"
   },
   {
    "duration": 16,
    "start_time": "2021-12-13T08:33:30.715Z"
   },
   {
    "duration": 7,
    "start_time": "2021-12-13T08:39:45.584Z"
   },
   {
    "duration": 16,
    "start_time": "2021-12-13T08:39:47.385Z"
   },
   {
    "duration": 418,
    "start_time": "2021-12-13T08:46:34.853Z"
   },
   {
    "duration": 406,
    "start_time": "2021-12-13T08:46:41.961Z"
   },
   {
    "duration": 388,
    "start_time": "2021-12-13T08:47:02.489Z"
   },
   {
    "duration": 26,
    "start_time": "2021-12-13T08:49:06.997Z"
   },
   {
    "duration": 55,
    "start_time": "2021-12-13T08:49:23.600Z"
   },
   {
    "duration": 7,
    "start_time": "2021-12-13T08:50:49.792Z"
   },
   {
    "duration": 24,
    "start_time": "2021-12-13T08:50:52.864Z"
   },
   {
    "duration": 37,
    "start_time": "2021-12-13T08:51:04.767Z"
   },
   {
    "duration": 14,
    "start_time": "2021-12-13T08:51:20.663Z"
   },
   {
    "duration": 11155,
    "start_time": "2021-12-13T08:53:04.056Z"
   },
   {
    "duration": 866,
    "start_time": "2021-12-13T08:53:14.349Z"
   },
   {
    "duration": 14,
    "start_time": "2021-12-13T08:53:16.016Z"
   },
   {
    "duration": 16,
    "start_time": "2021-12-13T08:53:18.551Z"
   },
   {
    "duration": 16,
    "start_time": "2021-12-13T09:03:12.894Z"
   },
   {
    "duration": 17,
    "start_time": "2021-12-13T09:03:14.782Z"
   },
   {
    "duration": 17,
    "start_time": "2021-12-13T09:11:56.238Z"
   },
   {
    "duration": 11,
    "start_time": "2021-12-13T09:11:57.133Z"
   },
   {
    "duration": 17,
    "start_time": "2021-12-13T09:11:58.268Z"
   },
   {
    "duration": 456,
    "start_time": "2021-12-13T09:32:12.841Z"
   },
   {
    "duration": 395,
    "start_time": "2021-12-13T09:32:18.306Z"
   },
   {
    "duration": 24,
    "start_time": "2021-12-13T09:33:26.306Z"
   },
   {
    "duration": 24,
    "start_time": "2021-12-13T09:33:30.690Z"
   },
   {
    "duration": 884,
    "start_time": "2021-12-13T09:35:00.165Z"
   },
   {
    "duration": 881,
    "start_time": "2021-12-13T09:35:00.170Z"
   },
   {
    "duration": 16,
    "start_time": "2021-12-13T09:35:01.833Z"
   },
   {
    "duration": 887,
    "start_time": "2021-12-13T09:35:31.425Z"
   },
   {
    "duration": 888,
    "start_time": "2021-12-13T09:35:50.201Z"
   },
   {
    "duration": 888,
    "start_time": "2021-12-13T09:35:50.203Z"
   },
   {
    "duration": 887,
    "start_time": "2021-12-13T09:36:07.569Z"
   },
   {
    "duration": 884,
    "start_time": "2021-12-13T09:36:07.573Z"
   },
   {
    "duration": 885,
    "start_time": "2021-12-13T09:36:07.574Z"
   },
   {
    "duration": 885,
    "start_time": "2021-12-13T09:36:07.575Z"
   },
   {
    "duration": 886,
    "start_time": "2021-12-13T09:36:07.576Z"
   },
   {
    "duration": 885,
    "start_time": "2021-12-13T09:36:07.578Z"
   },
   {
    "duration": 884,
    "start_time": "2021-12-13T09:36:07.581Z"
   },
   {
    "duration": 884,
    "start_time": "2021-12-13T09:36:07.582Z"
   },
   {
    "duration": 885,
    "start_time": "2021-12-13T09:36:07.583Z"
   },
   {
    "duration": 84,
    "start_time": "2021-12-13T09:36:20.386Z"
   },
   {
    "duration": 26,
    "start_time": "2021-12-13T09:36:20.473Z"
   },
   {
    "duration": 63,
    "start_time": "2021-12-13T09:36:20.502Z"
   },
   {
    "duration": 35,
    "start_time": "2021-12-13T09:36:20.569Z"
   },
   {
    "duration": 120,
    "start_time": "2021-12-13T09:36:20.607Z"
   },
   {
    "duration": 9,
    "start_time": "2021-12-13T09:36:20.729Z"
   },
   {
    "duration": 18,
    "start_time": "2021-12-13T09:36:20.759Z"
   },
   {
    "duration": 13504,
    "start_time": "2021-12-13T09:36:20.780Z"
   },
   {
    "duration": 884,
    "start_time": "2021-12-13T09:36:33.402Z"
   },
   {
    "duration": 12245,
    "start_time": "2021-12-13T09:38:03.810Z"
   },
   {
    "duration": 872,
    "start_time": "2021-12-13T09:38:15.187Z"
   },
   {
    "duration": 24,
    "start_time": "2021-12-13T09:38:57.449Z"
   },
   {
    "duration": 29,
    "start_time": "2021-12-13T09:39:22.120Z"
   },
   {
    "duration": 14141,
    "start_time": "2021-12-13T09:41:01.281Z"
   },
   {
    "duration": 137,
    "start_time": "2021-12-13T09:43:26.274Z"
   },
   {
    "duration": 12934,
    "start_time": "2021-12-13T09:43:55.120Z"
   },
   {
    "duration": 10167,
    "start_time": "2021-12-13T09:45:59.824Z"
   },
   {
    "duration": 16,
    "start_time": "2021-12-13T09:46:26.855Z"
   },
   {
    "duration": 85,
    "start_time": "2021-12-13T09:53:23.224Z"
   },
   {
    "duration": 15,
    "start_time": "2021-12-13T09:53:23.312Z"
   },
   {
    "duration": 78,
    "start_time": "2021-12-13T09:53:23.331Z"
   },
   {
    "duration": 67,
    "start_time": "2021-12-13T09:53:23.413Z"
   },
   {
    "duration": 169,
    "start_time": "2021-12-13T09:53:23.483Z"
   },
   {
    "duration": 8,
    "start_time": "2021-12-13T09:53:23.659Z"
   },
   {
    "duration": 17,
    "start_time": "2021-12-13T09:53:23.669Z"
   },
   {
    "duration": 12952,
    "start_time": "2021-12-13T09:53:23.689Z"
   },
   {
    "duration": 869,
    "start_time": "2021-12-13T09:53:35.775Z"
   },
   {
    "duration": 11991,
    "start_time": "2021-12-13T09:54:57.591Z"
   },
   {
    "duration": 18,
    "start_time": "2021-12-13T09:59:37.967Z"
   },
   {
    "duration": 17,
    "start_time": "2021-12-13T09:59:40.357Z"
   },
   {
    "duration": 6,
    "start_time": "2021-12-13T10:00:53.518Z"
   },
   {
    "duration": 24,
    "start_time": "2021-12-13T10:01:26.390Z"
   },
   {
    "duration": 15,
    "start_time": "2021-12-13T10:01:28.189Z"
   },
   {
    "duration": 20,
    "start_time": "2021-12-13T10:02:59.485Z"
   },
   {
    "duration": 16,
    "start_time": "2021-12-13T10:03:00.221Z"
   },
   {
    "duration": 41,
    "start_time": "2021-12-13T10:03:21.581Z"
   },
   {
    "duration": 7,
    "start_time": "2021-12-13T10:04:01.678Z"
   },
   {
    "duration": 10,
    "start_time": "2021-12-13T10:04:12.909Z"
   },
   {
    "duration": 6,
    "start_time": "2021-12-13T10:04:44.197Z"
   },
   {
    "duration": 168,
    "start_time": "2021-12-13T10:07:16.204Z"
   },
   {
    "duration": 534,
    "start_time": "2021-12-13T10:07:24.356Z"
   },
   {
    "duration": 9,
    "start_time": "2021-12-13T10:07:54.989Z"
   },
   {
    "duration": 89,
    "start_time": "2021-12-13T10:08:00.462Z"
   },
   {
    "duration": 20,
    "start_time": "2021-12-13T10:08:00.553Z"
   },
   {
    "duration": 45,
    "start_time": "2021-12-13T10:08:00.578Z"
   },
   {
    "duration": 35,
    "start_time": "2021-12-13T10:08:00.626Z"
   },
   {
    "duration": 41,
    "start_time": "2021-12-13T10:08:00.664Z"
   },
   {
    "duration": 125,
    "start_time": "2021-12-13T10:08:00.707Z"
   },
   {
    "duration": 8,
    "start_time": "2021-12-13T10:08:00.835Z"
   },
   {
    "duration": 17,
    "start_time": "2021-12-13T10:08:00.859Z"
   },
   {
    "duration": 471,
    "start_time": "2021-12-13T10:08:00.879Z"
   },
   {
    "duration": 887,
    "start_time": "2021-12-13T10:08:00.466Z"
   },
   {
    "duration": 19,
    "start_time": "2021-12-13T10:08:26.485Z"
   },
   {
    "duration": 10570,
    "start_time": "2021-12-13T10:08:30.628Z"
   },
   {
    "duration": 6,
    "start_time": "2021-12-13T10:08:48.525Z"
   },
   {
    "duration": 22,
    "start_time": "2021-12-13T10:10:02.549Z"
   },
   {
    "duration": 26,
    "start_time": "2021-12-13T10:11:55.333Z"
   },
   {
    "duration": 58,
    "start_time": "2021-12-13T10:12:20.852Z"
   },
   {
    "duration": 31,
    "start_time": "2021-12-13T10:14:09.677Z"
   },
   {
    "duration": 46,
    "start_time": "2021-12-13T10:16:11.724Z"
   },
   {
    "duration": 42,
    "start_time": "2021-12-13T10:17:01.197Z"
   },
   {
    "duration": 2529,
    "start_time": "2021-12-13T10:21:26.979Z"
   },
   {
    "duration": 40,
    "start_time": "2021-12-13T10:21:44.963Z"
   },
   {
    "duration": 16,
    "start_time": "2021-12-13T10:22:15.611Z"
   },
   {
    "duration": 11,
    "start_time": "2021-12-13T10:23:03.051Z"
   },
   {
    "duration": 5,
    "start_time": "2021-12-13T10:27:06.884Z"
   },
   {
    "duration": 154,
    "start_time": "2021-12-13T10:30:31.913Z"
   },
   {
    "duration": 837,
    "start_time": "2021-12-13T10:30:48.153Z"
   },
   {
    "duration": 6,
    "start_time": "2021-12-13T10:31:06.938Z"
   },
   {
    "duration": 16,
    "start_time": "2021-12-13T10:31:28.137Z"
   },
   {
    "duration": 12,
    "start_time": "2021-12-13T10:50:22.486Z"
   },
   {
    "duration": 37,
    "start_time": "2021-12-13T10:50:32.638Z"
   },
   {
    "duration": 15,
    "start_time": "2021-12-13T10:50:58.623Z"
   },
   {
    "duration": 7,
    "start_time": "2021-12-13T10:55:07.341Z"
   },
   {
    "duration": 15,
    "start_time": "2021-12-13T10:55:26.253Z"
   },
   {
    "duration": 17,
    "start_time": "2021-12-13T11:02:36.389Z"
   },
   {
    "duration": 16,
    "start_time": "2021-12-13T11:02:39.484Z"
   },
   {
    "duration": 137,
    "start_time": "2021-12-13T11:03:20.100Z"
   },
   {
    "duration": 82,
    "start_time": "2021-12-13T11:04:41.662Z"
   },
   {
    "duration": 21,
    "start_time": "2021-12-13T11:04:41.747Z"
   },
   {
    "duration": 41,
    "start_time": "2021-12-13T11:04:41.771Z"
   },
   {
    "duration": 8,
    "start_time": "2021-12-13T11:04:41.815Z"
   },
   {
    "duration": 61,
    "start_time": "2021-12-13T11:04:41.826Z"
   },
   {
    "duration": 148,
    "start_time": "2021-12-13T11:04:41.889Z"
   },
   {
    "duration": 7,
    "start_time": "2021-12-13T11:04:42.039Z"
   },
   {
    "duration": 16,
    "start_time": "2021-12-13T11:04:42.060Z"
   },
   {
    "duration": 39,
    "start_time": "2021-12-13T11:04:42.080Z"
   },
   {
    "duration": 816,
    "start_time": "2021-12-13T11:04:42.122Z"
   },
   {
    "duration": 27,
    "start_time": "2021-12-13T11:04:42.941Z"
   },
   {
    "duration": 12,
    "start_time": "2021-12-13T11:04:42.971Z"
   },
   {
    "duration": 19,
    "start_time": "2021-12-13T11:04:42.985Z"
   },
   {
    "duration": 14,
    "start_time": "2021-12-13T11:04:43.006Z"
   },
   {
    "duration": 16,
    "start_time": "2021-12-13T11:04:58.388Z"
   },
   {
    "duration": 15,
    "start_time": "2021-12-13T11:04:58.924Z"
   },
   {
    "duration": 77,
    "start_time": "2021-12-13T11:05:01.606Z"
   },
   {
    "duration": 14,
    "start_time": "2021-12-13T11:05:01.686Z"
   },
   {
    "duration": 38,
    "start_time": "2021-12-13T11:05:01.704Z"
   },
   {
    "duration": 8,
    "start_time": "2021-12-13T11:05:01.760Z"
   },
   {
    "duration": 38,
    "start_time": "2021-12-13T11:05:01.771Z"
   },
   {
    "duration": 136,
    "start_time": "2021-12-13T11:05:01.811Z"
   },
   {
    "duration": 14,
    "start_time": "2021-12-13T11:05:01.949Z"
   },
   {
    "duration": 16,
    "start_time": "2021-12-13T11:05:01.965Z"
   },
   {
    "duration": 42,
    "start_time": "2021-12-13T11:05:01.985Z"
   },
   {
    "duration": 780,
    "start_time": "2021-12-13T11:05:02.059Z"
   },
   {
    "duration": 23,
    "start_time": "2021-12-13T11:05:02.842Z"
   },
   {
    "duration": 14,
    "start_time": "2021-12-13T11:05:02.867Z"
   },
   {
    "duration": 20,
    "start_time": "2021-12-13T11:05:02.884Z"
   },
   {
    "duration": 55,
    "start_time": "2021-12-13T11:05:02.907Z"
   },
   {
    "duration": 11354,
    "start_time": "2021-12-13T11:06:31.324Z"
   },
   {
    "duration": 866,
    "start_time": "2021-12-13T11:06:41.815Z"
   },
   {
    "duration": 19,
    "start_time": "2021-12-13T11:06:57.140Z"
   },
   {
    "duration": 17,
    "start_time": "2021-12-13T11:06:57.851Z"
   },
   {
    "duration": 543,
    "start_time": "2021-12-13T11:13:21.570Z"
   },
   {
    "duration": 5,
    "start_time": "2021-12-13T11:13:31.954Z"
   },
   {
    "duration": 20,
    "start_time": "2021-12-13T11:17:57.913Z"
   },
   {
    "duration": 32,
    "start_time": "2021-12-13T11:18:12.001Z"
   },
   {
    "duration": 18,
    "start_time": "2021-12-13T11:18:39.625Z"
   },
   {
    "duration": 47,
    "start_time": "2021-12-13T11:18:41.217Z"
   },
   {
    "duration": 665,
    "start_time": "2021-12-13T11:19:02.937Z"
   },
   {
    "duration": 18,
    "start_time": "2021-12-13T11:19:14.521Z"
   },
   {
    "duration": 2297,
    "start_time": "2021-12-13T11:19:23.793Z"
   },
   {
    "duration": 17,
    "start_time": "2021-12-13T11:19:38.283Z"
   },
   {
    "duration": 80,
    "start_time": "2021-12-13T11:21:00.236Z"
   },
   {
    "duration": 15,
    "start_time": "2021-12-13T11:21:00.319Z"
   },
   {
    "duration": 56,
    "start_time": "2021-12-13T11:21:00.337Z"
   },
   {
    "duration": 8,
    "start_time": "2021-12-13T11:21:00.396Z"
   },
   {
    "duration": 63,
    "start_time": "2021-12-13T11:21:00.406Z"
   },
   {
    "duration": 113,
    "start_time": "2021-12-13T11:21:00.472Z"
   },
   {
    "duration": 9,
    "start_time": "2021-12-13T11:21:00.587Z"
   },
   {
    "duration": 17,
    "start_time": "2021-12-13T11:21:00.599Z"
   },
   {
    "duration": 76,
    "start_time": "2021-12-13T11:21:00.619Z"
   },
   {
    "duration": 925,
    "start_time": "2021-12-13T11:21:00.697Z"
   },
   {
    "duration": 14,
    "start_time": "2021-12-13T11:21:01.625Z"
   },
   {
    "duration": 28,
    "start_time": "2021-12-13T11:21:01.642Z"
   },
   {
    "duration": 25,
    "start_time": "2021-12-13T11:21:01.673Z"
   },
   {
    "duration": 16,
    "start_time": "2021-12-13T11:21:01.701Z"
   },
   {
    "duration": 43,
    "start_time": "2021-12-13T11:21:01.719Z"
   },
   {
    "duration": 32,
    "start_time": "2021-12-13T11:21:01.765Z"
   },
   {
    "duration": 713,
    "start_time": "2021-12-13T11:27:16.256Z"
   },
   {
    "duration": 737,
    "start_time": "2021-12-13T11:28:45.097Z"
   },
   {
    "duration": 9,
    "start_time": "2021-12-13T11:30:41.873Z"
   },
   {
    "duration": 8,
    "start_time": "2021-12-13T11:31:03.337Z"
   },
   {
    "duration": 776,
    "start_time": "2021-12-13T11:31:35.929Z"
   },
   {
    "duration": 767,
    "start_time": "2021-12-13T11:32:07.769Z"
   },
   {
    "duration": 812,
    "start_time": "2021-12-13T11:32:19.225Z"
   },
   {
    "duration": 9,
    "start_time": "2021-12-13T11:32:23.881Z"
   },
   {
    "duration": 36,
    "start_time": "2021-12-13T11:32:31.520Z"
   },
   {
    "duration": 25,
    "start_time": "2021-12-13T11:33:02.151Z"
   },
   {
    "duration": 865,
    "start_time": "2021-12-13T11:33:25.497Z"
   },
   {
    "duration": 57,
    "start_time": "2021-12-13T11:33:28.009Z"
   },
   {
    "duration": 32,
    "start_time": "2021-12-13T11:33:47.944Z"
   },
   {
    "duration": 456,
    "start_time": "2021-12-13T11:39:23.767Z"
   },
   {
    "duration": 10019,
    "start_time": "2021-12-13T11:39:36.024Z"
   },
   {
    "duration": 7,
    "start_time": "2021-12-13T11:39:58.496Z"
   },
   {
    "duration": 38,
    "start_time": "2021-12-13T11:40:02.047Z"
   },
   {
    "duration": 7,
    "start_time": "2021-12-13T11:40:43.168Z"
   },
   {
    "duration": 38,
    "start_time": "2021-12-13T11:40:43.808Z"
   },
   {
    "duration": 39,
    "start_time": "2021-12-13T12:05:53.746Z"
   },
   {
    "duration": 94,
    "start_time": "2021-12-13T12:06:01.667Z"
   },
   {
    "duration": 23,
    "start_time": "2021-12-13T12:06:01.765Z"
   },
   {
    "duration": 40,
    "start_time": "2021-12-13T12:06:01.791Z"
   },
   {
    "duration": 8,
    "start_time": "2021-12-13T12:06:01.859Z"
   },
   {
    "duration": 40,
    "start_time": "2021-12-13T12:06:01.870Z"
   },
   {
    "duration": 128,
    "start_time": "2021-12-13T12:06:01.913Z"
   },
   {
    "duration": 7,
    "start_time": "2021-12-13T12:06:02.059Z"
   },
   {
    "duration": 17,
    "start_time": "2021-12-13T12:06:02.068Z"
   },
   {
    "duration": 38,
    "start_time": "2021-12-13T12:06:02.088Z"
   },
   {
    "duration": 901,
    "start_time": "2021-12-13T12:06:02.128Z"
   },
   {
    "duration": 28,
    "start_time": "2021-12-13T12:06:03.031Z"
   },
   {
    "duration": 14,
    "start_time": "2021-12-13T12:06:03.062Z"
   },
   {
    "duration": 26,
    "start_time": "2021-12-13T12:06:03.080Z"
   },
   {
    "duration": 16,
    "start_time": "2021-12-13T12:06:03.108Z"
   },
   {
    "duration": 997,
    "start_time": "2021-12-13T12:06:03.126Z"
   },
   {
    "duration": 8,
    "start_time": "2021-12-13T12:06:04.125Z"
   },
   {
    "duration": 62,
    "start_time": "2021-12-13T12:06:04.135Z"
   },
   {
    "duration": 364,
    "start_time": "2021-12-13T12:06:32.025Z"
   },
   {
    "duration": 44,
    "start_time": "2021-12-13T12:06:49.888Z"
   },
   {
    "duration": 80,
    "start_time": "2021-12-13T12:07:02.106Z"
   },
   {
    "duration": 17,
    "start_time": "2021-12-13T12:07:02.189Z"
   },
   {
    "duration": 56,
    "start_time": "2021-12-13T12:07:02.210Z"
   },
   {
    "duration": 9,
    "start_time": "2021-12-13T12:07:02.270Z"
   },
   {
    "duration": 36,
    "start_time": "2021-12-13T12:07:02.282Z"
   },
   {
    "duration": 158,
    "start_time": "2021-12-13T12:07:02.321Z"
   },
   {
    "duration": 8,
    "start_time": "2021-12-13T12:07:02.482Z"
   },
   {
    "duration": 16,
    "start_time": "2021-12-13T12:07:02.492Z"
   },
   {
    "duration": 71,
    "start_time": "2021-12-13T12:07:02.512Z"
   },
   {
    "duration": 756,
    "start_time": "2021-12-13T12:07:02.586Z"
   },
   {
    "duration": 27,
    "start_time": "2021-12-13T12:07:03.345Z"
   },
   {
    "duration": 13,
    "start_time": "2021-12-13T12:07:03.375Z"
   },
   {
    "duration": 26,
    "start_time": "2021-12-13T12:07:03.390Z"
   },
   {
    "duration": 42,
    "start_time": "2021-12-13T12:07:03.418Z"
   },
   {
    "duration": 829,
    "start_time": "2021-12-13T12:07:03.463Z"
   },
   {
    "duration": 9,
    "start_time": "2021-12-13T12:07:04.294Z"
   },
   {
    "duration": 39,
    "start_time": "2021-12-13T12:07:04.360Z"
   },
   {
    "duration": 50,
    "start_time": "2021-12-13T12:07:38.632Z"
   },
   {
    "duration": 84,
    "start_time": "2021-12-13T12:07:52.323Z"
   },
   {
    "duration": 18,
    "start_time": "2021-12-13T12:07:52.410Z"
   },
   {
    "duration": 54,
    "start_time": "2021-12-13T12:07:52.431Z"
   },
   {
    "duration": 11,
    "start_time": "2021-12-13T12:07:52.489Z"
   },
   {
    "duration": 66,
    "start_time": "2021-12-13T12:07:52.503Z"
   },
   {
    "duration": 121,
    "start_time": "2021-12-13T12:07:52.572Z"
   },
   {
    "duration": 8,
    "start_time": "2021-12-13T12:07:52.696Z"
   },
   {
    "duration": 17,
    "start_time": "2021-12-13T12:07:52.706Z"
   },
   {
    "duration": 69,
    "start_time": "2021-12-13T12:07:52.726Z"
   },
   {
    "duration": 780,
    "start_time": "2021-12-13T12:07:52.798Z"
   },
   {
    "duration": 15,
    "start_time": "2021-12-13T12:07:53.581Z"
   },
   {
    "duration": 10,
    "start_time": "2021-12-13T12:07:53.599Z"
   },
   {
    "duration": 53,
    "start_time": "2021-12-13T12:07:53.612Z"
   },
   {
    "duration": 17,
    "start_time": "2021-12-13T12:07:53.667Z"
   },
   {
    "duration": 806,
    "start_time": "2021-12-13T12:07:53.687Z"
   },
   {
    "duration": 10,
    "start_time": "2021-12-13T12:07:54.495Z"
   },
   {
    "duration": 63,
    "start_time": "2021-12-13T12:07:54.507Z"
   },
   {
    "duration": 53,
    "start_time": "2021-12-13T12:08:22.936Z"
   },
   {
    "duration": 80,
    "start_time": "2021-12-13T12:08:31.885Z"
   },
   {
    "duration": 15,
    "start_time": "2021-12-13T12:08:31.968Z"
   },
   {
    "duration": 39,
    "start_time": "2021-12-13T12:08:31.987Z"
   },
   {
    "duration": 7,
    "start_time": "2021-12-13T12:08:32.060Z"
   },
   {
    "duration": 39,
    "start_time": "2021-12-13T12:08:32.070Z"
   },
   {
    "duration": 125,
    "start_time": "2021-12-13T12:08:32.111Z"
   },
   {
    "duration": 7,
    "start_time": "2021-12-13T12:08:32.238Z"
   },
   {
    "duration": 16,
    "start_time": "2021-12-13T12:08:32.259Z"
   },
   {
    "duration": 43,
    "start_time": "2021-12-13T12:08:32.278Z"
   },
   {
    "duration": 783,
    "start_time": "2021-12-13T12:08:32.324Z"
   },
   {
    "duration": 15,
    "start_time": "2021-12-13T12:08:33.110Z"
   },
   {
    "duration": 11,
    "start_time": "2021-12-13T12:08:33.127Z"
   },
   {
    "duration": 24,
    "start_time": "2021-12-13T12:08:33.160Z"
   },
   {
    "duration": 15,
    "start_time": "2021-12-13T12:08:33.187Z"
   },
   {
    "duration": 863,
    "start_time": "2021-12-13T12:08:33.205Z"
   },
   {
    "duration": 7,
    "start_time": "2021-12-13T12:08:34.071Z"
   },
   {
    "duration": 40,
    "start_time": "2021-12-13T12:08:34.080Z"
   },
   {
    "duration": 47,
    "start_time": "2021-12-13T12:09:26.232Z"
   },
   {
    "duration": 84,
    "start_time": "2021-12-13T12:09:36.409Z"
   },
   {
    "duration": 15,
    "start_time": "2021-12-13T12:09:36.495Z"
   },
   {
    "duration": 53,
    "start_time": "2021-12-13T12:09:36.513Z"
   },
   {
    "duration": 9,
    "start_time": "2021-12-13T12:09:36.569Z"
   },
   {
    "duration": 36,
    "start_time": "2021-12-13T12:09:36.581Z"
   },
   {
    "duration": 129,
    "start_time": "2021-12-13T12:09:36.620Z"
   },
   {
    "duration": 7,
    "start_time": "2021-12-13T12:09:36.759Z"
   },
   {
    "duration": 17,
    "start_time": "2021-12-13T12:09:36.768Z"
   },
   {
    "duration": 70,
    "start_time": "2021-12-13T12:09:36.789Z"
   },
   {
    "duration": 787,
    "start_time": "2021-12-13T12:09:36.861Z"
   },
   {
    "duration": 20,
    "start_time": "2021-12-13T12:09:37.651Z"
   },
   {
    "duration": 11,
    "start_time": "2021-12-13T12:09:37.673Z"
   },
   {
    "duration": 24,
    "start_time": "2021-12-13T12:09:37.686Z"
   },
   {
    "duration": 15,
    "start_time": "2021-12-13T12:09:37.713Z"
   },
   {
    "duration": 804,
    "start_time": "2021-12-13T12:09:37.759Z"
   },
   {
    "duration": 7,
    "start_time": "2021-12-13T12:09:38.565Z"
   },
   {
    "duration": 37,
    "start_time": "2021-12-13T12:09:38.575Z"
   },
   {
    "duration": 88,
    "start_time": "2021-12-13T12:10:19.131Z"
   },
   {
    "duration": 18,
    "start_time": "2021-12-13T12:10:19.222Z"
   },
   {
    "duration": 50,
    "start_time": "2021-12-13T12:10:19.243Z"
   },
   {
    "duration": 9,
    "start_time": "2021-12-13T12:10:19.296Z"
   },
   {
    "duration": 61,
    "start_time": "2021-12-13T12:10:19.308Z"
   },
   {
    "duration": 114,
    "start_time": "2021-12-13T12:10:19.371Z"
   },
   {
    "duration": 7,
    "start_time": "2021-12-13T12:10:19.488Z"
   },
   {
    "duration": 16,
    "start_time": "2021-12-13T12:10:19.497Z"
   },
   {
    "duration": 69,
    "start_time": "2021-12-13T12:10:19.517Z"
   },
   {
    "duration": 809,
    "start_time": "2021-12-13T12:10:19.590Z"
   },
   {
    "duration": 16,
    "start_time": "2021-12-13T12:10:20.401Z"
   },
   {
    "duration": 10,
    "start_time": "2021-12-13T12:10:20.419Z"
   },
   {
    "duration": 50,
    "start_time": "2021-12-13T12:10:20.431Z"
   },
   {
    "duration": 16,
    "start_time": "2021-12-13T12:10:20.483Z"
   },
   {
    "duration": 825,
    "start_time": "2021-12-13T12:10:20.501Z"
   },
   {
    "duration": 8,
    "start_time": "2021-12-13T12:10:21.328Z"
   },
   {
    "duration": 52,
    "start_time": "2021-12-13T12:10:21.338Z"
   },
   {
    "duration": 400,
    "start_time": "2021-12-14T06:42:05.157Z"
   },
   {
    "duration": 783,
    "start_time": "2021-12-14T06:42:17.448Z"
   },
   {
    "duration": 16,
    "start_time": "2021-12-14T06:42:18.233Z"
   },
   {
    "duration": 47,
    "start_time": "2021-12-14T06:42:18.252Z"
   },
   {
    "duration": 10,
    "start_time": "2021-12-14T06:42:18.323Z"
   },
   {
    "duration": 37,
    "start_time": "2021-12-14T06:42:18.335Z"
   },
   {
    "duration": 127,
    "start_time": "2021-12-14T06:42:18.374Z"
   },
   {
    "duration": 21,
    "start_time": "2021-12-14T06:42:18.504Z"
   },
   {
    "duration": 18,
    "start_time": "2021-12-14T06:42:18.528Z"
   },
   {
    "duration": 40,
    "start_time": "2021-12-14T06:42:18.551Z"
   },
   {
    "duration": 860,
    "start_time": "2021-12-14T06:42:18.624Z"
   },
   {
    "duration": 15,
    "start_time": "2021-12-14T06:42:19.486Z"
   },
   {
    "duration": 27,
    "start_time": "2021-12-14T06:42:19.503Z"
   },
   {
    "duration": 30,
    "start_time": "2021-12-14T06:42:19.533Z"
   },
   {
    "duration": 17,
    "start_time": "2021-12-14T06:42:19.565Z"
   },
   {
    "duration": 811,
    "start_time": "2021-12-14T06:42:19.585Z"
   },
   {
    "duration": 7,
    "start_time": "2021-12-14T06:42:20.399Z"
   },
   {
    "duration": 44,
    "start_time": "2021-12-14T06:42:20.408Z"
   },
   {
    "duration": 11,
    "start_time": "2021-12-14T06:42:20.454Z"
   },
   {
    "duration": 9,
    "start_time": "2021-12-14T06:42:32.645Z"
   },
   {
    "duration": 9,
    "start_time": "2021-12-14T06:55:57.379Z"
   },
   {
    "duration": 324,
    "start_time": "2021-12-14T06:58:16.491Z"
   },
   {
    "duration": 102,
    "start_time": "2021-12-14T06:58:27.747Z"
   },
   {
    "duration": 303,
    "start_time": "2021-12-14T06:58:40.771Z"
   },
   {
    "duration": 34,
    "start_time": "2021-12-14T06:58:52.180Z"
   },
   {
    "duration": 37,
    "start_time": "2021-12-14T07:02:48.681Z"
   },
   {
    "duration": 5,
    "start_time": "2021-12-14T07:18:15.217Z"
   },
   {
    "duration": 5,
    "start_time": "2021-12-14T07:18:18.391Z"
   },
   {
    "duration": 15,
    "start_time": "2021-12-14T07:18:44.777Z"
   },
   {
    "duration": 19,
    "start_time": "2021-12-14T07:26:38.913Z"
   },
   {
    "duration": 294,
    "start_time": "2021-12-14T07:32:05.855Z"
   },
   {
    "duration": 19413,
    "start_time": "2021-12-14T07:32:18.446Z"
   },
   {
    "duration": 18517,
    "start_time": "2021-12-14T07:33:13.638Z"
   },
   {
    "duration": 19180,
    "start_time": "2021-12-14T07:33:46.798Z"
   },
   {
    "duration": 8549,
    "start_time": "2021-12-14T07:36:14.590Z"
   },
   {
    "duration": 8119,
    "start_time": "2021-12-14T07:36:42.477Z"
   },
   {
    "duration": 3465,
    "start_time": "2021-12-14T07:43:34.205Z"
   },
   {
    "duration": 8350,
    "start_time": "2021-12-14T07:43:40.573Z"
   },
   {
    "duration": 375,
    "start_time": "2021-12-14T08:20:17.640Z"
   },
   {
    "duration": 454,
    "start_time": "2021-12-14T08:22:32.809Z"
   },
   {
    "duration": 623,
    "start_time": "2021-12-14T08:23:01.185Z"
   },
   {
    "duration": 341,
    "start_time": "2021-12-14T08:23:12.944Z"
   },
   {
    "duration": 349,
    "start_time": "2021-12-14T08:23:18.913Z"
   },
   {
    "duration": 557,
    "start_time": "2021-12-14T08:23:55.737Z"
   },
   {
    "duration": 366,
    "start_time": "2021-12-14T08:24:15.089Z"
   },
   {
    "duration": 628,
    "start_time": "2021-12-14T08:29:20.473Z"
   },
   {
    "duration": 355,
    "start_time": "2021-12-14T08:29:29.436Z"
   },
   {
    "duration": 339,
    "start_time": "2021-12-14T08:32:26.314Z"
   },
   {
    "duration": 383,
    "start_time": "2021-12-14T08:32:35.186Z"
   },
   {
    "duration": 351,
    "start_time": "2021-12-14T08:34:18.745Z"
   },
   {
    "duration": 414,
    "start_time": "2021-12-14T08:34:36.953Z"
   },
   {
    "duration": 425,
    "start_time": "2021-12-14T08:38:24.824Z"
   },
   {
    "duration": 672,
    "start_time": "2021-12-14T08:41:30.271Z"
   },
   {
    "duration": 439,
    "start_time": "2021-12-14T08:42:13.069Z"
   },
   {
    "duration": 430,
    "start_time": "2021-12-14T08:45:06.949Z"
   },
   {
    "duration": 437,
    "start_time": "2021-12-14T08:45:18.238Z"
   },
   {
    "duration": 636,
    "start_time": "2021-12-14T08:45:25.958Z"
   },
   {
    "duration": 573,
    "start_time": "2021-12-14T08:45:39.262Z"
   },
   {
    "duration": 307,
    "start_time": "2021-12-14T08:46:48.765Z"
   },
   {
    "duration": 349,
    "start_time": "2021-12-14T08:47:20.173Z"
   },
   {
    "duration": 135,
    "start_time": "2021-12-14T08:47:46.949Z"
   },
   {
    "duration": 14,
    "start_time": "2021-12-14T08:47:54.077Z"
   },
   {
    "duration": 48,
    "start_time": "2021-12-14T08:49:13.396Z"
   },
   {
    "duration": 671,
    "start_time": "2021-12-14T08:52:18.293Z"
   },
   {
    "duration": 321,
    "start_time": "2021-12-14T08:52:25.237Z"
   },
   {
    "duration": 26,
    "start_time": "2021-12-14T08:52:36.580Z"
   },
   {
    "duration": 40,
    "start_time": "2021-12-14T08:53:56.044Z"
   },
   {
    "duration": 45,
    "start_time": "2021-12-14T08:54:14.364Z"
   },
   {
    "duration": 15,
    "start_time": "2021-12-14T09:06:32.145Z"
   },
   {
    "duration": 21,
    "start_time": "2021-12-14T09:11:06.161Z"
   },
   {
    "duration": 26,
    "start_time": "2021-12-14T09:12:28.993Z"
   },
   {
    "duration": 127,
    "start_time": "2021-12-14T09:14:09.761Z"
   },
   {
    "duration": 121,
    "start_time": "2021-12-14T09:14:26.237Z"
   },
   {
    "duration": 38,
    "start_time": "2021-12-14T09:17:23.407Z"
   },
   {
    "duration": 125,
    "start_time": "2021-12-14T09:17:24.721Z"
   },
   {
    "duration": 26,
    "start_time": "2021-12-14T09:17:50.329Z"
   },
   {
    "duration": 119,
    "start_time": "2021-12-14T09:17:50.953Z"
   },
   {
    "duration": 36,
    "start_time": "2021-12-14T09:18:06.817Z"
   },
   {
    "duration": 135,
    "start_time": "2021-12-14T09:18:07.425Z"
   },
   {
    "duration": 33,
    "start_time": "2021-12-14T09:18:12.144Z"
   },
   {
    "duration": 120,
    "start_time": "2021-12-14T09:18:12.601Z"
   },
   {
    "duration": 36,
    "start_time": "2021-12-14T09:19:21.792Z"
   },
   {
    "duration": 122,
    "start_time": "2021-12-14T09:19:23.960Z"
   },
   {
    "duration": 382,
    "start_time": "2021-12-14T09:23:09.511Z"
   },
   {
    "duration": 400,
    "start_time": "2021-12-14T09:25:26.741Z"
   },
   {
    "duration": 645,
    "start_time": "2021-12-14T09:25:39.703Z"
   },
   {
    "duration": 143,
    "start_time": "2021-12-14T09:26:11.920Z"
   },
   {
    "duration": 139,
    "start_time": "2021-12-14T09:26:41.997Z"
   },
   {
    "duration": 88,
    "start_time": "2021-12-14T09:26:47.963Z"
   },
   {
    "duration": 14,
    "start_time": "2021-12-14T09:26:48.054Z"
   },
   {
    "duration": 52,
    "start_time": "2021-12-14T09:26:48.071Z"
   },
   {
    "duration": 10,
    "start_time": "2021-12-14T09:26:48.128Z"
   },
   {
    "duration": 43,
    "start_time": "2021-12-14T09:26:48.140Z"
   },
   {
    "duration": 142,
    "start_time": "2021-12-14T09:26:48.185Z"
   },
   {
    "duration": 10,
    "start_time": "2021-12-14T09:26:48.330Z"
   },
   {
    "duration": 17,
    "start_time": "2021-12-14T09:26:48.342Z"
   },
   {
    "duration": 87,
    "start_time": "2021-12-14T09:26:48.363Z"
   },
   {
    "duration": 805,
    "start_time": "2021-12-14T09:26:48.453Z"
   },
   {
    "duration": 14,
    "start_time": "2021-12-14T09:26:49.261Z"
   },
   {
    "duration": 10,
    "start_time": "2021-12-14T09:26:49.278Z"
   },
   {
    "duration": 53,
    "start_time": "2021-12-14T09:26:49.291Z"
   },
   {
    "duration": 16,
    "start_time": "2021-12-14T09:26:49.346Z"
   },
   {
    "duration": 1150,
    "start_time": "2021-12-14T09:26:49.364Z"
   },
   {
    "duration": 8,
    "start_time": "2021-12-14T09:26:50.517Z"
   },
   {
    "duration": 51,
    "start_time": "2021-12-14T09:26:50.527Z"
   },
   {
    "duration": 10,
    "start_time": "2021-12-14T09:26:50.582Z"
   },
   {
    "duration": 33,
    "start_time": "2021-12-14T09:26:50.595Z"
   },
   {
    "duration": 41,
    "start_time": "2021-12-14T09:26:50.631Z"
   },
   {
    "duration": 53,
    "start_time": "2021-12-14T09:26:50.675Z"
   },
   {
    "duration": 9338,
    "start_time": "2021-12-14T09:26:50.731Z"
   },
   {
    "duration": 530,
    "start_time": "2021-12-14T09:27:00.071Z"
   },
   {
    "duration": 571,
    "start_time": "2021-12-14T09:27:00.603Z"
   },
   {
    "duration": 428,
    "start_time": "2021-12-14T09:27:01.177Z"
   },
   {
    "duration": 30,
    "start_time": "2021-12-14T09:27:01.607Z"
   },
   {
    "duration": 104,
    "start_time": "2021-12-14T09:27:01.642Z"
   },
   {
    "duration": 41,
    "start_time": "2021-12-14T09:27:01.749Z"
   },
   {
    "duration": 154,
    "start_time": "2021-12-14T09:27:01.792Z"
   },
   {
    "duration": 567,
    "start_time": "2021-12-14T09:27:01.948Z"
   },
   {
    "duration": 147,
    "start_time": "2021-12-14T09:27:02.523Z"
   },
   {
    "duration": 124,
    "start_time": "2021-12-14T09:27:16.359Z"
   },
   {
    "duration": 129,
    "start_time": "2021-12-14T09:27:37.944Z"
   },
   {
    "duration": 560,
    "start_time": "2021-12-14T09:28:50.479Z"
   },
   {
    "duration": 86,
    "start_time": "2021-12-14T09:29:21.498Z"
   },
   {
    "duration": 15,
    "start_time": "2021-12-14T09:29:21.586Z"
   },
   {
    "duration": 59,
    "start_time": "2021-12-14T09:29:21.604Z"
   },
   {
    "duration": 7,
    "start_time": "2021-12-14T09:29:21.666Z"
   },
   {
    "duration": 65,
    "start_time": "2021-12-14T09:29:21.675Z"
   },
   {
    "duration": 115,
    "start_time": "2021-12-14T09:29:21.742Z"
   },
   {
    "duration": 7,
    "start_time": "2021-12-14T09:29:21.860Z"
   },
   {
    "duration": 16,
    "start_time": "2021-12-14T09:29:21.869Z"
   },
   {
    "duration": 68,
    "start_time": "2021-12-14T09:29:21.889Z"
   },
   {
    "duration": 844,
    "start_time": "2021-12-14T09:29:21.960Z"
   },
   {
    "duration": 20,
    "start_time": "2021-12-14T09:29:22.806Z"
   },
   {
    "duration": 17,
    "start_time": "2021-12-14T09:29:22.829Z"
   },
   {
    "duration": 25,
    "start_time": "2021-12-14T09:29:22.850Z"
   },
   {
    "duration": 49,
    "start_time": "2021-12-14T09:29:22.878Z"
   },
   {
    "duration": 884,
    "start_time": "2021-12-14T09:29:22.930Z"
   },
   {
    "duration": 14,
    "start_time": "2021-12-14T09:29:23.817Z"
   },
   {
    "duration": 43,
    "start_time": "2021-12-14T09:29:23.834Z"
   },
   {
    "duration": 45,
    "start_time": "2021-12-14T09:29:23.879Z"
   },
   {
    "duration": 12,
    "start_time": "2021-12-14T09:29:23.928Z"
   },
   {
    "duration": 44,
    "start_time": "2021-12-14T09:29:23.943Z"
   },
   {
    "duration": 53,
    "start_time": "2021-12-14T09:29:23.990Z"
   },
   {
    "duration": 9640,
    "start_time": "2021-12-14T09:29:24.046Z"
   },
   {
    "duration": 387,
    "start_time": "2021-12-14T09:29:33.688Z"
   },
   {
    "duration": 424,
    "start_time": "2021-12-14T09:29:34.078Z"
   },
   {
    "duration": 412,
    "start_time": "2021-12-14T09:29:34.504Z"
   },
   {
    "duration": 21,
    "start_time": "2021-12-14T09:29:34.923Z"
   },
   {
    "duration": 75,
    "start_time": "2021-12-14T09:29:34.949Z"
   },
   {
    "duration": 38,
    "start_time": "2021-12-14T09:29:35.028Z"
   },
   {
    "duration": 136,
    "start_time": "2021-12-14T09:29:35.068Z"
   },
   {
    "duration": 557,
    "start_time": "2021-12-14T09:29:35.206Z"
   },
   {
    "duration": 137,
    "start_time": "2021-12-14T09:29:35.765Z"
   },
   {
    "duration": 284,
    "start_time": "2021-12-14T09:31:31.415Z"
   },
   {
    "duration": 141,
    "start_time": "2021-12-14T09:31:38.766Z"
   },
   {
    "duration": 133,
    "start_time": "2021-12-14T09:31:58.631Z"
   },
   {
    "duration": 125,
    "start_time": "2021-12-14T09:32:41.679Z"
   },
   {
    "duration": 38,
    "start_time": "2021-12-14T09:36:08.158Z"
   },
   {
    "duration": 125,
    "start_time": "2021-12-14T09:36:09.262Z"
   },
   {
    "duration": 568,
    "start_time": "2021-12-14T09:36:12.838Z"
   },
   {
    "duration": 127,
    "start_time": "2021-12-14T09:36:15.535Z"
   },
   {
    "duration": 22,
    "start_time": "2021-12-14T09:56:00.860Z"
   },
   {
    "duration": 22,
    "start_time": "2021-12-14T09:57:54.738Z"
   },
   {
    "duration": 23,
    "start_time": "2021-12-14T09:58:03.500Z"
   },
   {
    "duration": 22,
    "start_time": "2021-12-14T09:58:51.796Z"
   },
   {
    "duration": 375,
    "start_time": "2021-12-14T10:06:28.940Z"
   },
   {
    "duration": 19,
    "start_time": "2021-12-14T10:06:36.002Z"
   },
   {
    "duration": 23,
    "start_time": "2021-12-14T10:10:57.436Z"
   },
   {
    "duration": 34,
    "start_time": "2021-12-14T10:14:17.441Z"
   },
   {
    "duration": 41,
    "start_time": "2021-12-14T10:15:06.233Z"
   },
   {
    "duration": 29,
    "start_time": "2021-12-14T10:16:24.553Z"
   },
   {
    "duration": 345,
    "start_time": "2021-12-14T10:21:51.535Z"
   },
   {
    "duration": 38,
    "start_time": "2021-12-14T10:21:59.239Z"
   },
   {
    "duration": 24,
    "start_time": "2021-12-14T10:31:37.175Z"
   },
   {
    "duration": 6,
    "start_time": "2021-12-14T10:32:04.152Z"
   },
   {
    "duration": 39,
    "start_time": "2021-12-14T10:39:54.213Z"
   },
   {
    "duration": 31,
    "start_time": "2021-12-14T10:42:39.886Z"
   },
   {
    "duration": 132,
    "start_time": "2021-12-14T10:56:00.324Z"
   },
   {
    "duration": 13,
    "start_time": "2021-12-14T10:56:37.163Z"
   },
   {
    "duration": 10,
    "start_time": "2021-12-14T10:57:32.795Z"
   },
   {
    "duration": 24,
    "start_time": "2021-12-14T10:59:29.658Z"
   },
   {
    "duration": 8471,
    "start_time": "2021-12-14T11:01:40.499Z"
   },
   {
    "duration": 293,
    "start_time": "2021-12-14T11:02:59.248Z"
   },
   {
    "duration": 572,
    "start_time": "2021-12-14T11:06:35.434Z"
   },
   {
    "duration": 306,
    "start_time": "2021-12-14T11:06:40.618Z"
   },
   {
    "duration": 10,
    "start_time": "2021-12-14T11:18:38.887Z"
   },
   {
    "duration": 286,
    "start_time": "2021-12-14T11:19:06.434Z"
   },
   {
    "duration": 170,
    "start_time": "2021-12-14T11:20:08.416Z"
   },
   {
    "duration": 25,
    "start_time": "2021-12-14T11:26:17.736Z"
   },
   {
    "duration": 286,
    "start_time": "2021-12-14T11:29:20.079Z"
   },
   {
    "duration": 20,
    "start_time": "2021-12-14T11:29:30.111Z"
   },
   {
    "duration": 1313,
    "start_time": "2021-12-14T11:42:01.895Z"
   },
   {
    "duration": -53,
    "start_time": "2021-12-14T11:42:03.264Z"
   },
   {
    "duration": 7,
    "start_time": "2021-12-14T11:42:20.981Z"
   },
   {
    "duration": 37,
    "start_time": "2021-12-14T11:42:24.749Z"
   },
   {
    "duration": 32,
    "start_time": "2021-12-14T11:42:27.527Z"
   },
   {
    "duration": 126,
    "start_time": "2021-12-14T11:43:27.085Z"
   },
   {
    "duration": 39,
    "start_time": "2021-12-14T11:43:27.733Z"
   },
   {
    "duration": 6,
    "start_time": "2021-12-14T11:43:31.901Z"
   },
   {
    "duration": 38,
    "start_time": "2021-12-14T11:43:32.564Z"
   },
   {
    "duration": 28,
    "start_time": "2021-12-14T11:43:33.238Z"
   },
   {
    "duration": 820,
    "start_time": "2021-12-14T18:55:55.024Z"
   },
   {
    "duration": 15,
    "start_time": "2021-12-14T18:55:55.847Z"
   },
   {
    "duration": 65,
    "start_time": "2021-12-14T18:55:55.865Z"
   },
   {
    "duration": 10,
    "start_time": "2021-12-14T18:55:55.933Z"
   },
   {
    "duration": 38,
    "start_time": "2021-12-14T18:55:55.947Z"
   },
   {
    "duration": 121,
    "start_time": "2021-12-14T18:55:55.987Z"
   },
   {
    "duration": 17,
    "start_time": "2021-12-14T18:55:56.110Z"
   },
   {
    "duration": 23,
    "start_time": "2021-12-14T18:55:56.132Z"
   },
   {
    "duration": 38,
    "start_time": "2021-12-14T18:55:56.158Z"
   },
   {
    "duration": 750,
    "start_time": "2021-12-14T18:55:56.199Z"
   },
   {
    "duration": 14,
    "start_time": "2021-12-14T18:55:56.951Z"
   },
   {
    "duration": 11,
    "start_time": "2021-12-14T18:55:56.967Z"
   },
   {
    "duration": 47,
    "start_time": "2021-12-14T18:55:56.980Z"
   },
   {
    "duration": 15,
    "start_time": "2021-12-14T18:55:57.030Z"
   },
   {
    "duration": 808,
    "start_time": "2021-12-14T18:55:57.047Z"
   },
   {
    "duration": 7,
    "start_time": "2021-12-14T18:55:57.857Z"
   },
   {
    "duration": 36,
    "start_time": "2021-12-14T18:55:57.866Z"
   },
   {
    "duration": 24,
    "start_time": "2021-12-14T18:55:57.904Z"
   },
   {
    "duration": 9,
    "start_time": "2021-12-14T18:55:57.931Z"
   },
   {
    "duration": 39,
    "start_time": "2021-12-14T18:55:57.943Z"
   },
   {
    "duration": 18,
    "start_time": "2021-12-14T18:55:58.024Z"
   },
   {
    "duration": 8572,
    "start_time": "2021-12-14T18:55:58.044Z"
   },
   {
    "duration": 335,
    "start_time": "2021-12-14T18:56:06.626Z"
   },
   {
    "duration": 383,
    "start_time": "2021-12-14T18:56:06.964Z"
   },
   {
    "duration": 388,
    "start_time": "2021-12-14T18:56:07.350Z"
   },
   {
    "duration": 16,
    "start_time": "2021-12-14T18:56:07.741Z"
   },
   {
    "duration": 78,
    "start_time": "2021-12-14T18:56:07.760Z"
   },
   {
    "duration": 35,
    "start_time": "2021-12-14T18:56:07.841Z"
   },
   {
    "duration": 132,
    "start_time": "2021-12-14T18:56:07.879Z"
   },
   {
    "duration": 583,
    "start_time": "2021-12-14T18:56:08.014Z"
   },
   {
    "duration": 133,
    "start_time": "2021-12-14T18:56:08.599Z"
   },
   {
    "duration": 5,
    "start_time": "2021-12-14T18:56:08.734Z"
   },
   {
    "duration": 44,
    "start_time": "2021-12-14T18:56:08.741Z"
   },
   {
    "duration": 44,
    "start_time": "2021-12-14T18:56:08.787Z"
   },
   {
    "duration": 18,
    "start_time": "2021-12-14T18:56:08.834Z"
   },
   {
    "duration": 30,
    "start_time": "2021-12-14T18:56:08.854Z"
   },
   {
    "duration": 314,
    "start_time": "2021-12-14T18:56:08.886Z"
   },
   {
    "duration": 121,
    "start_time": "2021-12-14T18:56:09.202Z"
   },
   {
    "duration": 17,
    "start_time": "2021-12-14T18:56:09.326Z"
   },
   {
    "duration": 19,
    "start_time": "2021-12-14T18:56:09.345Z"
   },
   {
    "duration": 87,
    "start_time": "2021-12-15T06:11:40.901Z"
   },
   {
    "duration": 398,
    "start_time": "2021-12-15T06:14:00.685Z"
   },
   {
    "duration": 743,
    "start_time": "2021-12-15T06:14:07.421Z"
   },
   {
    "duration": 13,
    "start_time": "2021-12-15T06:14:08.166Z"
   },
   {
    "duration": 49,
    "start_time": "2021-12-15T06:14:08.182Z"
   },
   {
    "duration": 30,
    "start_time": "2021-12-15T06:14:08.233Z"
   },
   {
    "duration": 54,
    "start_time": "2021-12-15T06:14:08.265Z"
   },
   {
    "duration": 72,
    "start_time": "2021-12-15T06:14:08.321Z"
   },
   {
    "duration": 6,
    "start_time": "2021-12-15T06:14:08.395Z"
   },
   {
    "duration": 40,
    "start_time": "2021-12-15T06:14:08.405Z"
   },
   {
    "duration": 75,
    "start_time": "2021-12-15T06:14:08.447Z"
   },
   {
    "duration": 498,
    "start_time": "2021-12-15T06:14:08.524Z"
   },
   {
    "duration": 20,
    "start_time": "2021-12-15T06:14:09.024Z"
   },
   {
    "duration": 27,
    "start_time": "2021-12-15T06:14:09.046Z"
   },
   {
    "duration": 63,
    "start_time": "2021-12-15T06:14:09.075Z"
   },
   {
    "duration": 24,
    "start_time": "2021-12-15T06:14:09.140Z"
   },
   {
    "duration": 516,
    "start_time": "2021-12-15T06:14:09.166Z"
   },
   {
    "duration": 6,
    "start_time": "2021-12-15T06:14:09.684Z"
   },
   {
    "duration": 23,
    "start_time": "2021-12-15T06:14:09.691Z"
   },
   {
    "duration": 6,
    "start_time": "2021-12-15T06:14:09.716Z"
   },
   {
    "duration": 25,
    "start_time": "2021-12-15T06:14:09.724Z"
   },
   {
    "duration": 22,
    "start_time": "2021-12-15T06:14:09.751Z"
   },
   {
    "duration": 11,
    "start_time": "2021-12-15T06:14:09.775Z"
   },
   {
    "duration": 6062,
    "start_time": "2021-12-15T06:14:09.788Z"
   },
   {
    "duration": 224,
    "start_time": "2021-12-15T06:14:15.853Z"
   },
   {
    "duration": 268,
    "start_time": "2021-12-15T06:14:16.079Z"
   },
   {
    "duration": 256,
    "start_time": "2021-12-15T06:14:16.348Z"
   },
   {
    "duration": 11,
    "start_time": "2021-12-15T06:14:16.605Z"
   },
   {
    "duration": 48,
    "start_time": "2021-12-15T06:14:16.617Z"
   },
   {
    "duration": 27,
    "start_time": "2021-12-15T06:14:16.667Z"
   },
   {
    "duration": 88,
    "start_time": "2021-12-15T06:14:16.696Z"
   },
   {
    "duration": 414,
    "start_time": "2021-12-15T06:14:16.786Z"
   },
   {
    "duration": 85,
    "start_time": "2021-12-15T06:14:17.202Z"
   },
   {
    "duration": 4,
    "start_time": "2021-12-15T06:14:17.288Z"
   },
   {
    "duration": 42,
    "start_time": "2021-12-15T06:14:17.294Z"
   },
   {
    "duration": 17,
    "start_time": "2021-12-15T06:14:17.338Z"
   },
   {
    "duration": 13,
    "start_time": "2021-12-15T06:14:17.357Z"
   },
   {
    "duration": 28,
    "start_time": "2021-12-15T06:14:17.371Z"
   },
   {
    "duration": 201,
    "start_time": "2021-12-15T06:14:17.400Z"
   },
   {
    "duration": 74,
    "start_time": "2021-12-15T06:14:17.602Z"
   },
   {
    "duration": 10,
    "start_time": "2021-12-15T06:14:17.678Z"
   },
   {
    "duration": 20,
    "start_time": "2021-12-15T06:14:17.690Z"
   },
   {
    "duration": 7,
    "start_time": "2021-12-15T06:27:37.490Z"
   },
   {
    "duration": 4,
    "start_time": "2021-12-15T06:27:38.899Z"
   },
   {
    "duration": 71,
    "start_time": "2021-12-15T06:28:10.249Z"
   },
   {
    "duration": 12,
    "start_time": "2021-12-15T06:28:10.322Z"
   },
   {
    "duration": 30,
    "start_time": "2021-12-15T06:28:10.336Z"
   },
   {
    "duration": 8,
    "start_time": "2021-12-15T06:28:10.368Z"
   },
   {
    "duration": 41,
    "start_time": "2021-12-15T06:28:10.378Z"
   },
   {
    "duration": 79,
    "start_time": "2021-12-15T06:28:10.421Z"
   },
   {
    "duration": 6,
    "start_time": "2021-12-15T06:28:10.502Z"
   },
   {
    "duration": 28,
    "start_time": "2021-12-15T06:28:10.510Z"
   },
   {
    "duration": 42,
    "start_time": "2021-12-15T06:28:10.540Z"
   },
   {
    "duration": 33,
    "start_time": "2021-12-15T06:28:10.584Z"
   },
   {
    "duration": 47,
    "start_time": "2021-12-15T06:28:10.619Z"
   },
   {
    "duration": 9805,
    "start_time": "2021-12-15T06:28:10.668Z"
   },
   {
    "duration": 1328,
    "start_time": "2021-12-15T06:28:19.148Z"
   },
   {
    "duration": 1313,
    "start_time": "2021-12-15T06:28:19.165Z"
   },
   {
    "duration": 1309,
    "start_time": "2021-12-15T06:28:19.170Z"
   },
   {
    "duration": 1308,
    "start_time": "2021-12-15T06:28:19.172Z"
   },
   {
    "duration": 1308,
    "start_time": "2021-12-15T06:28:19.173Z"
   },
   {
    "duration": 1306,
    "start_time": "2021-12-15T06:28:19.175Z"
   },
   {
    "duration": 1306,
    "start_time": "2021-12-15T06:28:19.177Z"
   },
   {
    "duration": 1305,
    "start_time": "2021-12-15T06:28:19.179Z"
   },
   {
    "duration": 1304,
    "start_time": "2021-12-15T06:28:19.181Z"
   },
   {
    "duration": 1302,
    "start_time": "2021-12-15T06:28:19.183Z"
   },
   {
    "duration": 1297,
    "start_time": "2021-12-15T06:28:19.189Z"
   },
   {
    "duration": 1296,
    "start_time": "2021-12-15T06:28:19.191Z"
   },
   {
    "duration": 1296,
    "start_time": "2021-12-15T06:28:19.193Z"
   },
   {
    "duration": 1295,
    "start_time": "2021-12-15T06:28:19.195Z"
   },
   {
    "duration": 1293,
    "start_time": "2021-12-15T06:28:19.198Z"
   },
   {
    "duration": 1288,
    "start_time": "2021-12-15T06:28:19.204Z"
   },
   {
    "duration": 1288,
    "start_time": "2021-12-15T06:28:19.206Z"
   },
   {
    "duration": 1287,
    "start_time": "2021-12-15T06:28:19.208Z"
   },
   {
    "duration": 1286,
    "start_time": "2021-12-15T06:28:19.210Z"
   },
   {
    "duration": 1285,
    "start_time": "2021-12-15T06:28:19.212Z"
   },
   {
    "duration": 1284,
    "start_time": "2021-12-15T06:28:19.214Z"
   },
   {
    "duration": 1283,
    "start_time": "2021-12-15T06:28:19.216Z"
   },
   {
    "duration": 1279,
    "start_time": "2021-12-15T06:28:19.221Z"
   },
   {
    "duration": 1277,
    "start_time": "2021-12-15T06:28:19.224Z"
   },
   {
    "duration": 1277,
    "start_time": "2021-12-15T06:28:19.225Z"
   },
   {
    "duration": 1276,
    "start_time": "2021-12-15T06:28:19.227Z"
   },
   {
    "duration": 1275,
    "start_time": "2021-12-15T06:28:19.229Z"
   },
   {
    "duration": 1274,
    "start_time": "2021-12-15T06:28:19.231Z"
   },
   {
    "duration": 1273,
    "start_time": "2021-12-15T06:28:19.233Z"
   },
   {
    "duration": 1269,
    "start_time": "2021-12-15T06:28:19.238Z"
   },
   {
    "duration": 5,
    "start_time": "2021-12-15T06:28:41.743Z"
   },
   {
    "duration": 22,
    "start_time": "2021-12-15T06:28:41.750Z"
   },
   {
    "duration": 33,
    "start_time": "2021-12-15T06:28:41.774Z"
   },
   {
    "duration": 6,
    "start_time": "2021-12-15T06:29:18.019Z"
   },
   {
    "duration": 4,
    "start_time": "2021-12-15T06:29:18.475Z"
   },
   {
    "duration": 5,
    "start_time": "2021-12-15T06:29:18.882Z"
   },
   {
    "duration": 6,
    "start_time": "2021-12-15T06:31:36.746Z"
   },
   {
    "duration": 375,
    "start_time": "2021-12-15T06:32:31.186Z"
   },
   {
    "duration": 6,
    "start_time": "2021-12-15T06:32:38.514Z"
   },
   {
    "duration": 6,
    "start_time": "2021-12-15T06:33:02.458Z"
   },
   {
    "duration": 38,
    "start_time": "2021-12-15T06:35:04.994Z"
   },
   {
    "duration": 10,
    "start_time": "2021-12-15T06:36:47.922Z"
   },
   {
    "duration": 9,
    "start_time": "2021-12-15T06:45:34.810Z"
   },
   {
    "duration": 8,
    "start_time": "2021-12-15T06:48:45.761Z"
   },
   {
    "duration": 10,
    "start_time": "2021-12-15T06:48:54.896Z"
   },
   {
    "duration": 71,
    "start_time": "2021-12-15T06:49:01.375Z"
   },
   {
    "duration": 11,
    "start_time": "2021-12-15T06:49:01.448Z"
   },
   {
    "duration": 59,
    "start_time": "2021-12-15T06:49:01.461Z"
   },
   {
    "duration": 52,
    "start_time": "2021-12-15T06:49:01.522Z"
   },
   {
    "duration": 62,
    "start_time": "2021-12-15T06:49:01.576Z"
   },
   {
    "duration": 63,
    "start_time": "2021-12-15T06:49:01.640Z"
   },
   {
    "duration": 5,
    "start_time": "2021-12-15T06:49:01.705Z"
   },
   {
    "duration": 26,
    "start_time": "2021-12-15T06:49:01.712Z"
   },
   {
    "duration": 67,
    "start_time": "2021-12-15T06:49:01.742Z"
   },
   {
    "duration": 7,
    "start_time": "2021-12-15T06:49:01.812Z"
   },
   {
    "duration": 31,
    "start_time": "2021-12-15T06:49:01.820Z"
   },
   {
    "duration": 79,
    "start_time": "2021-12-15T06:49:01.852Z"
   },
   {
    "duration": 21,
    "start_time": "2021-12-15T06:49:01.932Z"
   },
   {
    "duration": 19,
    "start_time": "2021-12-15T06:49:01.955Z"
   },
   {
    "duration": 287,
    "start_time": "2021-12-15T06:49:01.975Z"
   },
   {
    "duration": -28,
    "start_time": "2021-12-15T06:49:02.292Z"
   },
   {
    "duration": -29,
    "start_time": "2021-12-15T06:49:02.294Z"
   },
   {
    "duration": -30,
    "start_time": "2021-12-15T06:49:02.296Z"
   },
   {
    "duration": -31,
    "start_time": "2021-12-15T06:49:02.298Z"
   },
   {
    "duration": -32,
    "start_time": "2021-12-15T06:49:02.300Z"
   },
   {
    "duration": -33,
    "start_time": "2021-12-15T06:49:02.302Z"
   },
   {
    "duration": -33,
    "start_time": "2021-12-15T06:49:02.303Z"
   },
   {
    "duration": -34,
    "start_time": "2021-12-15T06:49:02.305Z"
   },
   {
    "duration": -35,
    "start_time": "2021-12-15T06:49:02.307Z"
   },
   {
    "duration": -36,
    "start_time": "2021-12-15T06:49:02.309Z"
   },
   {
    "duration": -37,
    "start_time": "2021-12-15T06:49:02.311Z"
   },
   {
    "duration": -38,
    "start_time": "2021-12-15T06:49:02.313Z"
   },
   {
    "duration": -38,
    "start_time": "2021-12-15T06:49:02.314Z"
   },
   {
    "duration": -39,
    "start_time": "2021-12-15T06:49:02.316Z"
   },
   {
    "duration": -45,
    "start_time": "2021-12-15T06:49:02.323Z"
   },
   {
    "duration": -46,
    "start_time": "2021-12-15T06:49:02.325Z"
   },
   {
    "duration": -47,
    "start_time": "2021-12-15T06:49:02.327Z"
   },
   {
    "duration": -48,
    "start_time": "2021-12-15T06:49:02.329Z"
   },
   {
    "duration": -48,
    "start_time": "2021-12-15T06:49:02.330Z"
   },
   {
    "duration": -50,
    "start_time": "2021-12-15T06:49:02.332Z"
   },
   {
    "duration": -50,
    "start_time": "2021-12-15T06:49:02.333Z"
   },
   {
    "duration": -51,
    "start_time": "2021-12-15T06:49:02.335Z"
   },
   {
    "duration": -52,
    "start_time": "2021-12-15T06:49:02.337Z"
   },
   {
    "duration": -53,
    "start_time": "2021-12-15T06:49:02.339Z"
   },
   {
    "duration": -53,
    "start_time": "2021-12-15T06:49:02.340Z"
   },
   {
    "duration": -55,
    "start_time": "2021-12-15T06:49:02.342Z"
   },
   {
    "duration": -56,
    "start_time": "2021-12-15T06:49:02.344Z"
   },
   {
    "duration": 39,
    "start_time": "2021-12-15T06:49:52.112Z"
   },
   {
    "duration": 9,
    "start_time": "2021-12-15T06:50:15.280Z"
   },
   {
    "duration": 73,
    "start_time": "2021-12-15T06:50:37.574Z"
   },
   {
    "duration": 10,
    "start_time": "2021-12-15T06:50:37.648Z"
   },
   {
    "duration": 20,
    "start_time": "2021-12-15T06:50:37.660Z"
   },
   {
    "duration": 8,
    "start_time": "2021-12-15T06:50:37.682Z"
   },
   {
    "duration": 26,
    "start_time": "2021-12-15T06:50:37.692Z"
   },
   {
    "duration": 65,
    "start_time": "2021-12-15T06:50:37.744Z"
   },
   {
    "duration": 5,
    "start_time": "2021-12-15T06:50:37.811Z"
   },
   {
    "duration": 27,
    "start_time": "2021-12-15T06:50:37.819Z"
   },
   {
    "duration": 40,
    "start_time": "2021-12-15T06:50:37.849Z"
   },
   {
    "duration": 6,
    "start_time": "2021-12-15T06:50:37.891Z"
   },
   {
    "duration": 7,
    "start_time": "2021-12-15T06:50:37.899Z"
   },
   {
    "duration": 12,
    "start_time": "2021-12-15T06:50:37.908Z"
   },
   {
    "duration": 58,
    "start_time": "2021-12-15T06:50:37.922Z"
   },
   {
    "duration": 10,
    "start_time": "2021-12-15T06:50:37.982Z"
   },
   {
    "duration": 11,
    "start_time": "2021-12-15T06:50:37.993Z"
   },
   {
    "duration": 321,
    "start_time": "2021-12-15T06:50:38.006Z"
   },
   {
    "duration": -44,
    "start_time": "2021-12-15T06:50:38.374Z"
   },
   {
    "duration": -45,
    "start_time": "2021-12-15T06:50:38.376Z"
   },
   {
    "duration": -47,
    "start_time": "2021-12-15T06:50:38.379Z"
   },
   {
    "duration": -48,
    "start_time": "2021-12-15T06:50:38.381Z"
   },
   {
    "duration": -49,
    "start_time": "2021-12-15T06:50:38.383Z"
   },
   {
    "duration": -50,
    "start_time": "2021-12-15T06:50:38.385Z"
   },
   {
    "duration": -56,
    "start_time": "2021-12-15T06:50:38.391Z"
   },
   {
    "duration": -57,
    "start_time": "2021-12-15T06:50:38.393Z"
   },
   {
    "duration": -58,
    "start_time": "2021-12-15T06:50:38.395Z"
   },
   {
    "duration": -59,
    "start_time": "2021-12-15T06:50:38.397Z"
   },
   {
    "duration": -60,
    "start_time": "2021-12-15T06:50:38.399Z"
   },
   {
    "duration": -61,
    "start_time": "2021-12-15T06:50:38.401Z"
   },
   {
    "duration": -62,
    "start_time": "2021-12-15T06:50:38.403Z"
   },
   {
    "duration": -63,
    "start_time": "2021-12-15T06:50:38.405Z"
   },
   {
    "duration": -64,
    "start_time": "2021-12-15T06:50:38.407Z"
   },
   {
    "duration": -64,
    "start_time": "2021-12-15T06:50:38.408Z"
   },
   {
    "duration": -65,
    "start_time": "2021-12-15T06:50:38.410Z"
   },
   {
    "duration": -66,
    "start_time": "2021-12-15T06:50:38.412Z"
   },
   {
    "duration": -67,
    "start_time": "2021-12-15T06:50:38.414Z"
   },
   {
    "duration": -68,
    "start_time": "2021-12-15T06:50:38.416Z"
   },
   {
    "duration": -69,
    "start_time": "2021-12-15T06:50:38.418Z"
   },
   {
    "duration": -68,
    "start_time": "2021-12-15T06:50:38.419Z"
   },
   {
    "duration": -70,
    "start_time": "2021-12-15T06:50:38.422Z"
   },
   {
    "duration": -72,
    "start_time": "2021-12-15T06:50:38.424Z"
   },
   {
    "duration": -71,
    "start_time": "2021-12-15T06:50:38.425Z"
   },
   {
    "duration": -72,
    "start_time": "2021-12-15T06:50:38.427Z"
   },
   {
    "duration": -73,
    "start_time": "2021-12-15T06:50:38.429Z"
   },
   {
    "duration": 10,
    "start_time": "2021-12-15T06:51:22.681Z"
   },
   {
    "duration": 8,
    "start_time": "2021-12-15T06:51:31.721Z"
   },
   {
    "duration": 9,
    "start_time": "2021-12-15T06:51:34.784Z"
   },
   {
    "duration": 38,
    "start_time": "2021-12-15T06:51:48.336Z"
   },
   {
    "duration": 9,
    "start_time": "2021-12-15T06:52:07.473Z"
   },
   {
    "duration": 34,
    "start_time": "2021-12-15T06:52:11.888Z"
   },
   {
    "duration": 9,
    "start_time": "2021-12-15T06:52:14.463Z"
   },
   {
    "duration": 9,
    "start_time": "2021-12-15T06:52:21.017Z"
   },
   {
    "duration": 10,
    "start_time": "2021-12-15T06:52:25.536Z"
   },
   {
    "duration": 11,
    "start_time": "2021-12-15T07:08:29.406Z"
   },
   {
    "duration": 6,
    "start_time": "2021-12-15T07:08:31.814Z"
   },
   {
    "duration": 15,
    "start_time": "2021-12-15T07:08:32.357Z"
   },
   {
    "duration": 15,
    "start_time": "2021-12-15T07:08:38.293Z"
   },
   {
    "duration": 95,
    "start_time": "2021-12-15T07:18:00.333Z"
   },
   {
    "duration": 914,
    "start_time": "2021-12-15T07:18:34.868Z"
   },
   {
    "duration": 91,
    "start_time": "2021-12-15T07:19:23.949Z"
   },
   {
    "duration": 85,
    "start_time": "2021-12-15T07:21:04.396Z"
   },
   {
    "duration": 86,
    "start_time": "2021-12-15T07:22:09.116Z"
   },
   {
    "duration": 86,
    "start_time": "2021-12-15T07:23:47.372Z"
   },
   {
    "duration": 86,
    "start_time": "2021-12-15T07:24:05.756Z"
   },
   {
    "duration": 14,
    "start_time": "2021-12-15T07:24:34.940Z"
   },
   {
    "duration": 12,
    "start_time": "2021-12-15T07:24:44.564Z"
   },
   {
    "duration": 155,
    "start_time": "2021-12-15T07:25:12.195Z"
   },
   {
    "duration": 146,
    "start_time": "2021-12-15T07:25:36.108Z"
   },
   {
    "duration": 85,
    "start_time": "2021-12-15T07:26:22.532Z"
   },
   {
    "duration": 100,
    "start_time": "2021-12-15T07:26:36.708Z"
   },
   {
    "duration": 918,
    "start_time": "2021-12-15T07:26:52.156Z"
   },
   {
    "duration": 985,
    "start_time": "2021-12-15T07:27:02.611Z"
   },
   {
    "duration": 9,
    "start_time": "2021-12-15T07:27:19.683Z"
   },
   {
    "duration": 20,
    "start_time": "2021-12-15T07:27:43.043Z"
   },
   {
    "duration": 15,
    "start_time": "2021-12-15T07:28:01.187Z"
   },
   {
    "duration": 67,
    "start_time": "2021-12-15T07:28:11.118Z"
   },
   {
    "duration": 13,
    "start_time": "2021-12-15T07:28:11.186Z"
   },
   {
    "duration": 50,
    "start_time": "2021-12-15T07:28:11.201Z"
   },
   {
    "duration": 5,
    "start_time": "2021-12-15T07:28:11.254Z"
   },
   {
    "duration": 25,
    "start_time": "2021-12-15T07:28:11.261Z"
   },
   {
    "duration": 87,
    "start_time": "2021-12-15T07:28:11.288Z"
   },
   {
    "duration": 5,
    "start_time": "2021-12-15T07:28:11.377Z"
   },
   {
    "duration": 5,
    "start_time": "2021-12-15T07:28:11.384Z"
   },
   {
    "duration": 14,
    "start_time": "2021-12-15T07:28:11.391Z"
   },
   {
    "duration": 6,
    "start_time": "2021-12-15T07:28:11.406Z"
   },
   {
    "duration": 35,
    "start_time": "2021-12-15T07:28:11.414Z"
   },
   {
    "duration": 8,
    "start_time": "2021-12-15T07:28:11.451Z"
   },
   {
    "duration": 9,
    "start_time": "2021-12-15T07:28:11.461Z"
   },
   {
    "duration": 5,
    "start_time": "2021-12-15T07:28:11.472Z"
   },
   {
    "duration": 17,
    "start_time": "2021-12-15T07:28:11.479Z"
   },
   {
    "duration": 473,
    "start_time": "2021-12-15T07:28:11.497Z"
   },
   {
    "duration": -52,
    "start_time": "2021-12-15T07:28:12.025Z"
   },
   {
    "duration": -55,
    "start_time": "2021-12-15T07:28:12.029Z"
   },
   {
    "duration": -56,
    "start_time": "2021-12-15T07:28:12.031Z"
   },
   {
    "duration": -57,
    "start_time": "2021-12-15T07:28:12.033Z"
   },
   {
    "duration": -59,
    "start_time": "2021-12-15T07:28:12.036Z"
   },
   {
    "duration": -60,
    "start_time": "2021-12-15T07:28:12.038Z"
   },
   {
    "duration": -60,
    "start_time": "2021-12-15T07:28:12.039Z"
   },
   {
    "duration": -62,
    "start_time": "2021-12-15T07:28:12.042Z"
   },
   {
    "duration": -62,
    "start_time": "2021-12-15T07:28:12.043Z"
   },
   {
    "duration": -63,
    "start_time": "2021-12-15T07:28:12.045Z"
   },
   {
    "duration": -68,
    "start_time": "2021-12-15T07:28:12.051Z"
   },
   {
    "duration": -70,
    "start_time": "2021-12-15T07:28:12.054Z"
   },
   {
    "duration": -70,
    "start_time": "2021-12-15T07:28:12.055Z"
   },
   {
    "duration": -70,
    "start_time": "2021-12-15T07:28:12.057Z"
   },
   {
    "duration": -71,
    "start_time": "2021-12-15T07:28:12.059Z"
   },
   {
    "duration": -73,
    "start_time": "2021-12-15T07:28:12.061Z"
   },
   {
    "duration": -74,
    "start_time": "2021-12-15T07:28:12.063Z"
   },
   {
    "duration": -74,
    "start_time": "2021-12-15T07:28:12.064Z"
   },
   {
    "duration": -75,
    "start_time": "2021-12-15T07:28:12.066Z"
   },
   {
    "duration": -77,
    "start_time": "2021-12-15T07:28:12.069Z"
   },
   {
    "duration": -78,
    "start_time": "2021-12-15T07:28:12.071Z"
   },
   {
    "duration": -79,
    "start_time": "2021-12-15T07:28:12.072Z"
   },
   {
    "duration": -80,
    "start_time": "2021-12-15T07:28:12.074Z"
   },
   {
    "duration": -81,
    "start_time": "2021-12-15T07:28:12.076Z"
   },
   {
    "duration": -82,
    "start_time": "2021-12-15T07:28:12.078Z"
   },
   {
    "duration": -83,
    "start_time": "2021-12-15T07:28:12.080Z"
   },
   {
    "duration": -84,
    "start_time": "2021-12-15T07:28:12.082Z"
   },
   {
    "duration": -85,
    "start_time": "2021-12-15T07:28:12.084Z"
   },
   {
    "duration": -86,
    "start_time": "2021-12-15T07:28:12.086Z"
   },
   {
    "duration": -87,
    "start_time": "2021-12-15T07:28:12.088Z"
   },
   {
    "duration": 885,
    "start_time": "2021-12-15T07:28:43.851Z"
   },
   {
    "duration": 22,
    "start_time": "2021-12-15T07:28:47.458Z"
   },
   {
    "duration": 282,
    "start_time": "2021-12-15T07:29:08.876Z"
   },
   {
    "duration": 15,
    "start_time": "2021-12-15T07:29:18.955Z"
   },
   {
    "duration": 11,
    "start_time": "2021-12-15T07:29:26.578Z"
   },
   {
    "duration": 11,
    "start_time": "2021-12-15T07:30:50.123Z"
   },
   {
    "duration": 9,
    "start_time": "2021-12-15T07:33:20.475Z"
   },
   {
    "duration": 11,
    "start_time": "2021-12-15T07:33:24.690Z"
   },
   {
    "duration": 77,
    "start_time": "2021-12-15T07:34:08.576Z"
   },
   {
    "duration": 12,
    "start_time": "2021-12-15T07:34:08.655Z"
   },
   {
    "duration": 22,
    "start_time": "2021-12-15T07:34:08.669Z"
   },
   {
    "duration": 7,
    "start_time": "2021-12-15T07:34:08.693Z"
   },
   {
    "duration": 57,
    "start_time": "2021-12-15T07:34:08.701Z"
   },
   {
    "duration": 64,
    "start_time": "2021-12-15T07:34:08.760Z"
   },
   {
    "duration": 20,
    "start_time": "2021-12-15T07:34:08.825Z"
   },
   {
    "duration": 6,
    "start_time": "2021-12-15T07:34:08.846Z"
   },
   {
    "duration": 10,
    "start_time": "2021-12-15T07:34:08.854Z"
   },
   {
    "duration": 5,
    "start_time": "2021-12-15T07:34:08.867Z"
   },
   {
    "duration": 8,
    "start_time": "2021-12-15T07:34:08.874Z"
   },
   {
    "duration": 8,
    "start_time": "2021-12-15T07:34:08.884Z"
   },
   {
    "duration": 10,
    "start_time": "2021-12-15T07:34:08.893Z"
   },
   {
    "duration": 40,
    "start_time": "2021-12-15T07:34:08.904Z"
   },
   {
    "duration": 969,
    "start_time": "2021-12-15T07:34:08.946Z"
   },
   {
    "duration": 14,
    "start_time": "2021-12-15T07:34:09.917Z"
   },
   {
    "duration": 17,
    "start_time": "2021-12-15T07:34:09.933Z"
   },
   {
    "duration": 10,
    "start_time": "2021-12-15T07:34:09.952Z"
   },
   {
    "duration": 12,
    "start_time": "2021-12-15T07:34:09.964Z"
   },
   {
    "duration": 264,
    "start_time": "2021-12-15T07:34:09.978Z"
   },
   {
    "duration": -33,
    "start_time": "2021-12-15T07:34:10.278Z"
   },
   {
    "duration": -35,
    "start_time": "2021-12-15T07:34:10.281Z"
   },
   {
    "duration": -35,
    "start_time": "2021-12-15T07:34:10.282Z"
   },
   {
    "duration": -37,
    "start_time": "2021-12-15T07:34:10.285Z"
   },
   {
    "duration": -38,
    "start_time": "2021-12-15T07:34:10.287Z"
   },
   {
    "duration": -39,
    "start_time": "2021-12-15T07:34:10.289Z"
   },
   {
    "duration": -40,
    "start_time": "2021-12-15T07:34:10.291Z"
   },
   {
    "duration": -41,
    "start_time": "2021-12-15T07:34:10.293Z"
   },
   {
    "duration": -42,
    "start_time": "2021-12-15T07:34:10.295Z"
   },
   {
    "duration": -43,
    "start_time": "2021-12-15T07:34:10.297Z"
   },
   {
    "duration": -44,
    "start_time": "2021-12-15T07:34:10.299Z"
   },
   {
    "duration": -45,
    "start_time": "2021-12-15T07:34:10.301Z"
   },
   {
    "duration": -46,
    "start_time": "2021-12-15T07:34:10.303Z"
   },
   {
    "duration": -46,
    "start_time": "2021-12-15T07:34:10.305Z"
   },
   {
    "duration": -47,
    "start_time": "2021-12-15T07:34:10.307Z"
   },
   {
    "duration": -49,
    "start_time": "2021-12-15T07:34:10.309Z"
   },
   {
    "duration": -49,
    "start_time": "2021-12-15T07:34:10.310Z"
   },
   {
    "duration": -50,
    "start_time": "2021-12-15T07:34:10.312Z"
   },
   {
    "duration": -51,
    "start_time": "2021-12-15T07:34:10.314Z"
   },
   {
    "duration": -57,
    "start_time": "2021-12-15T07:34:10.321Z"
   },
   {
    "duration": -58,
    "start_time": "2021-12-15T07:34:10.323Z"
   },
   {
    "duration": -60,
    "start_time": "2021-12-15T07:34:10.326Z"
   },
   {
    "duration": -60,
    "start_time": "2021-12-15T07:34:10.327Z"
   },
   {
    "duration": -61,
    "start_time": "2021-12-15T07:34:10.329Z"
   },
   {
    "duration": -62,
    "start_time": "2021-12-15T07:34:10.331Z"
   },
   {
    "duration": -63,
    "start_time": "2021-12-15T07:34:10.332Z"
   },
   {
    "duration": 4,
    "start_time": "2021-12-15T07:35:10.499Z"
   },
   {
    "duration": 304,
    "start_time": "2021-12-15T07:35:14.234Z"
   },
   {
    "duration": 297,
    "start_time": "2021-12-15T07:35:40.779Z"
   },
   {
    "duration": 274,
    "start_time": "2021-12-15T07:35:54.386Z"
   },
   {
    "duration": 6,
    "start_time": "2021-12-15T07:36:09.467Z"
   },
   {
    "duration": 544,
    "start_time": "2021-12-15T07:36:29.322Z"
   },
   {
    "duration": 7,
    "start_time": "2021-12-15T07:37:17.410Z"
   },
   {
    "duration": 7,
    "start_time": "2021-12-15T07:37:24.610Z"
   },
   {
    "duration": 272,
    "start_time": "2021-12-15T07:37:31.818Z"
   },
   {
    "duration": 365,
    "start_time": "2021-12-15T07:46:10.090Z"
   },
   {
    "duration": 266,
    "start_time": "2021-12-15T07:46:35.633Z"
   },
   {
    "duration": 6,
    "start_time": "2021-12-15T07:47:39.610Z"
   },
   {
    "duration": 13,
    "start_time": "2021-12-15T07:48:00.689Z"
   },
   {
    "duration": 12,
    "start_time": "2021-12-15T07:48:02.152Z"
   },
   {
    "duration": 276,
    "start_time": "2021-12-15T07:48:38.338Z"
   },
   {
    "duration": 310,
    "start_time": "2021-12-15T07:52:42.601Z"
   },
   {
    "duration": 7,
    "start_time": "2021-12-15T07:52:59.225Z"
   },
   {
    "duration": 11,
    "start_time": "2021-12-15T07:53:01.007Z"
   },
   {
    "duration": 8,
    "start_time": "2021-12-15T07:53:40.296Z"
   },
   {
    "duration": 9,
    "start_time": "2021-12-15T07:53:42.832Z"
   },
   {
    "duration": 347,
    "start_time": "2021-12-15T07:53:52.280Z"
   },
   {
    "duration": 65,
    "start_time": "2021-12-15T07:58:47.749Z"
   },
   {
    "duration": 28,
    "start_time": "2021-12-15T07:58:47.816Z"
   },
   {
    "duration": 20,
    "start_time": "2021-12-15T07:58:47.847Z"
   },
   {
    "duration": 7,
    "start_time": "2021-12-15T07:58:47.870Z"
   },
   {
    "duration": 26,
    "start_time": "2021-12-15T07:58:47.879Z"
   },
   {
    "duration": 99,
    "start_time": "2021-12-15T07:58:47.907Z"
   },
   {
    "duration": 7,
    "start_time": "2021-12-15T07:58:48.008Z"
   },
   {
    "duration": 29,
    "start_time": "2021-12-15T07:58:48.017Z"
   },
   {
    "duration": 10,
    "start_time": "2021-12-15T07:58:48.050Z"
   },
   {
    "duration": 6,
    "start_time": "2021-12-15T07:58:48.063Z"
   },
   {
    "duration": 6,
    "start_time": "2021-12-15T07:58:48.071Z"
   },
   {
    "duration": 9,
    "start_time": "2021-12-15T07:58:48.079Z"
   },
   {
    "duration": 10,
    "start_time": "2021-12-15T07:58:48.090Z"
   },
   {
    "duration": 6,
    "start_time": "2021-12-15T07:58:48.102Z"
   },
   {
    "duration": 941,
    "start_time": "2021-12-15T07:58:48.145Z"
   },
   {
    "duration": 15,
    "start_time": "2021-12-15T07:58:49.088Z"
   },
   {
    "duration": 9,
    "start_time": "2021-12-15T07:58:49.105Z"
   },
   {
    "duration": 36,
    "start_time": "2021-12-15T07:58:49.116Z"
   },
   {
    "duration": 8,
    "start_time": "2021-12-15T07:58:49.154Z"
   },
   {
    "duration": 10,
    "start_time": "2021-12-15T07:58:49.164Z"
   },
   {
    "duration": 11,
    "start_time": "2021-12-15T07:58:49.176Z"
   },
   {
    "duration": 511,
    "start_time": "2021-12-15T07:58:49.188Z"
   },
   {
    "duration": 21,
    "start_time": "2021-12-15T07:58:49.700Z"
   },
   {
    "duration": 22,
    "start_time": "2021-12-15T07:58:49.723Z"
   },
   {
    "duration": 6,
    "start_time": "2021-12-15T07:58:49.746Z"
   },
   {
    "duration": 21,
    "start_time": "2021-12-15T07:58:49.753Z"
   },
   {
    "duration": 12,
    "start_time": "2021-12-15T07:58:49.777Z"
   },
   {
    "duration": 5845,
    "start_time": "2021-12-15T07:58:49.791Z"
   },
   {
    "duration": 219,
    "start_time": "2021-12-15T07:58:55.638Z"
   },
   {
    "duration": 256,
    "start_time": "2021-12-15T07:58:55.858Z"
   },
   {
    "duration": 254,
    "start_time": "2021-12-15T07:58:56.115Z"
   },
   {
    "duration": 10,
    "start_time": "2021-12-15T07:58:56.371Z"
   },
   {
    "duration": 27,
    "start_time": "2021-12-15T07:58:56.383Z"
   },
   {
    "duration": 44,
    "start_time": "2021-12-15T07:58:56.412Z"
   },
   {
    "duration": 73,
    "start_time": "2021-12-15T07:58:56.457Z"
   },
   {
    "duration": 343,
    "start_time": "2021-12-15T07:58:56.544Z"
   },
   {
    "duration": 88,
    "start_time": "2021-12-15T07:58:56.890Z"
   },
   {
    "duration": 5,
    "start_time": "2021-12-15T07:58:56.981Z"
   },
   {
    "duration": 15,
    "start_time": "2021-12-15T07:58:56.988Z"
   },
   {
    "duration": 44,
    "start_time": "2021-12-15T07:58:57.005Z"
   },
   {
    "duration": 25,
    "start_time": "2021-12-15T07:58:57.051Z"
   },
   {
    "duration": 240,
    "start_time": "2021-12-15T07:58:57.078Z"
   },
   {
    "duration": 65,
    "start_time": "2021-12-15T07:58:57.320Z"
   },
   {
    "duration": 24,
    "start_time": "2021-12-15T07:58:57.387Z"
   },
   {
    "duration": 43,
    "start_time": "2021-12-15T07:58:57.413Z"
   },
   {
    "duration": 68,
    "start_time": "2021-12-15T07:59:05.974Z"
   },
   {
    "duration": 11,
    "start_time": "2021-12-15T07:59:06.045Z"
   },
   {
    "duration": 33,
    "start_time": "2021-12-15T07:59:06.058Z"
   },
   {
    "duration": 10,
    "start_time": "2021-12-15T07:59:06.093Z"
   },
   {
    "duration": 43,
    "start_time": "2021-12-15T07:59:06.104Z"
   },
   {
    "duration": 68,
    "start_time": "2021-12-15T07:59:06.149Z"
   },
   {
    "duration": 6,
    "start_time": "2021-12-15T07:59:06.219Z"
   },
   {
    "duration": 37,
    "start_time": "2021-12-15T07:59:06.227Z"
   },
   {
    "duration": 24,
    "start_time": "2021-12-15T07:59:06.266Z"
   },
   {
    "duration": 17,
    "start_time": "2021-12-15T07:59:06.291Z"
   },
   {
    "duration": 35,
    "start_time": "2021-12-15T07:59:06.310Z"
   },
   {
    "duration": 26,
    "start_time": "2021-12-15T07:59:06.346Z"
   },
   {
    "duration": 18,
    "start_time": "2021-12-15T07:59:06.374Z"
   },
   {
    "duration": 19,
    "start_time": "2021-12-15T07:59:06.393Z"
   },
   {
    "duration": 904,
    "start_time": "2021-12-15T07:59:06.414Z"
   },
   {
    "duration": 26,
    "start_time": "2021-12-15T07:59:07.319Z"
   },
   {
    "duration": 9,
    "start_time": "2021-12-15T07:59:07.347Z"
   },
   {
    "duration": 17,
    "start_time": "2021-12-15T07:59:07.358Z"
   },
   {
    "duration": 8,
    "start_time": "2021-12-15T07:59:07.376Z"
   },
   {
    "duration": 14,
    "start_time": "2021-12-15T07:59:07.386Z"
   },
   {
    "duration": 11,
    "start_time": "2021-12-15T07:59:07.402Z"
   },
   {
    "duration": 606,
    "start_time": "2021-12-15T07:59:07.415Z"
   },
   {
    "duration": 28,
    "start_time": "2021-12-15T07:59:08.024Z"
   },
   {
    "duration": 7,
    "start_time": "2021-12-15T07:59:08.054Z"
   },
   {
    "duration": 8,
    "start_time": "2021-12-15T07:59:08.062Z"
   },
   {
    "duration": 32,
    "start_time": "2021-12-15T07:59:08.072Z"
   },
   {
    "duration": 11,
    "start_time": "2021-12-15T07:59:08.106Z"
   },
   {
    "duration": 6603,
    "start_time": "2021-12-15T07:59:08.119Z"
   },
   {
    "duration": 220,
    "start_time": "2021-12-15T07:59:14.724Z"
   },
   {
    "duration": 252,
    "start_time": "2021-12-15T07:59:14.945Z"
   },
   {
    "duration": 269,
    "start_time": "2021-12-15T07:59:15.199Z"
   },
   {
    "duration": 10,
    "start_time": "2021-12-15T07:59:15.470Z"
   },
   {
    "duration": 43,
    "start_time": "2021-12-15T07:59:15.482Z"
   },
   {
    "duration": 33,
    "start_time": "2021-12-15T07:59:15.527Z"
   },
   {
    "duration": 83,
    "start_time": "2021-12-15T07:59:15.562Z"
   },
   {
    "duration": 346,
    "start_time": "2021-12-15T07:59:15.647Z"
   },
   {
    "duration": 207,
    "start_time": "2021-12-15T07:59:15.995Z"
   },
   {
    "duration": 4,
    "start_time": "2021-12-15T07:59:16.204Z"
   },
   {
    "duration": 16,
    "start_time": "2021-12-15T07:59:16.209Z"
   },
   {
    "duration": 27,
    "start_time": "2021-12-15T07:59:16.226Z"
   },
   {
    "duration": 22,
    "start_time": "2021-12-15T07:59:16.255Z"
   },
   {
    "duration": 225,
    "start_time": "2021-12-15T07:59:16.279Z"
   },
   {
    "duration": 67,
    "start_time": "2021-12-15T07:59:16.505Z"
   },
   {
    "duration": 10,
    "start_time": "2021-12-15T07:59:16.574Z"
   },
   {
    "duration": 13,
    "start_time": "2021-12-15T07:59:16.586Z"
   },
   {
    "duration": 11,
    "start_time": "2021-12-15T07:59:50.343Z"
   },
   {
    "duration": 384,
    "start_time": "2021-12-15T10:56:43.562Z"
   },
   {
    "duration": 415,
    "start_time": "2021-12-15T11:01:10.743Z"
   },
   {
    "duration": 733,
    "start_time": "2021-12-15T11:01:29.919Z"
   },
   {
    "duration": 11,
    "start_time": "2021-12-15T11:01:30.654Z"
   },
   {
    "duration": 40,
    "start_time": "2021-12-15T11:01:30.667Z"
   },
   {
    "duration": 8,
    "start_time": "2021-12-15T11:01:30.709Z"
   },
   {
    "duration": 28,
    "start_time": "2021-12-15T11:01:30.719Z"
   },
   {
    "duration": 81,
    "start_time": "2021-12-15T11:01:30.749Z"
   },
   {
    "duration": 6,
    "start_time": "2021-12-15T11:01:30.832Z"
   },
   {
    "duration": 6,
    "start_time": "2021-12-15T11:01:30.841Z"
   },
   {
    "duration": 13,
    "start_time": "2021-12-15T11:01:30.849Z"
   },
   {
    "duration": 5,
    "start_time": "2021-12-15T11:01:30.864Z"
   },
   {
    "duration": 36,
    "start_time": "2021-12-15T11:01:30.871Z"
   },
   {
    "duration": 7,
    "start_time": "2021-12-15T11:01:30.909Z"
   },
   {
    "duration": 11,
    "start_time": "2021-12-15T11:01:30.917Z"
   },
   {
    "duration": 10,
    "start_time": "2021-12-15T11:01:30.930Z"
   },
   {
    "duration": 957,
    "start_time": "2021-12-15T11:01:30.941Z"
   },
   {
    "duration": 13,
    "start_time": "2021-12-15T11:01:31.900Z"
   },
   {
    "duration": 9,
    "start_time": "2021-12-15T11:01:31.915Z"
   },
   {
    "duration": 9,
    "start_time": "2021-12-15T11:01:31.926Z"
   },
   {
    "duration": 7,
    "start_time": "2021-12-15T11:01:31.937Z"
   },
   {
    "duration": 10,
    "start_time": "2021-12-15T11:01:31.946Z"
   },
   {
    "duration": 10,
    "start_time": "2021-12-15T11:01:31.957Z"
   },
   {
    "duration": 562,
    "start_time": "2021-12-15T11:01:31.969Z"
   },
   {
    "duration": 19,
    "start_time": "2021-12-15T11:01:32.535Z"
   },
   {
    "duration": 6,
    "start_time": "2021-12-15T11:01:32.556Z"
   },
   {
    "duration": 10,
    "start_time": "2021-12-15T11:01:32.563Z"
   },
   {
    "duration": 45,
    "start_time": "2021-12-15T11:01:32.575Z"
   },
   {
    "duration": 11,
    "start_time": "2021-12-15T11:01:32.622Z"
   },
   {
    "duration": 6793,
    "start_time": "2021-12-15T11:01:32.634Z"
   },
   {
    "duration": 221,
    "start_time": "2021-12-15T11:01:39.429Z"
   },
   {
    "duration": 260,
    "start_time": "2021-12-15T11:01:39.652Z"
   },
   {
    "duration": 258,
    "start_time": "2021-12-15T11:01:39.913Z"
   },
   {
    "duration": 10,
    "start_time": "2021-12-15T11:01:40.173Z"
   },
   {
    "duration": 39,
    "start_time": "2021-12-15T11:01:40.184Z"
   },
   {
    "duration": 25,
    "start_time": "2021-12-15T11:01:40.225Z"
   },
   {
    "duration": 95,
    "start_time": "2021-12-15T11:01:40.252Z"
   },
   {
    "duration": 389,
    "start_time": "2021-12-15T11:01:40.349Z"
   },
   {
    "duration": 84,
    "start_time": "2021-12-15T11:01:40.739Z"
   },
   {
    "duration": 6,
    "start_time": "2021-12-15T11:01:40.825Z"
   },
   {
    "duration": 25,
    "start_time": "2021-12-15T11:01:40.832Z"
   },
   {
    "duration": 15,
    "start_time": "2021-12-15T11:01:40.859Z"
   },
   {
    "duration": 49,
    "start_time": "2021-12-15T11:01:40.876Z"
   },
   {
    "duration": 238,
    "start_time": "2021-12-15T11:01:40.927Z"
   },
   {
    "duration": 99,
    "start_time": "2021-12-15T11:01:41.167Z"
   },
   {
    "duration": 13,
    "start_time": "2021-12-15T11:01:41.269Z"
   },
   {
    "duration": 33,
    "start_time": "2021-12-15T11:01:41.284Z"
   },
   {
    "duration": 18,
    "start_time": "2021-12-15T11:02:29.095Z"
   },
   {
    "duration": 5,
    "start_time": "2021-12-15T11:03:15.631Z"
   },
   {
    "duration": 9,
    "start_time": "2021-12-15T11:05:14.583Z"
   },
   {
    "duration": 17,
    "start_time": "2021-12-15T11:05:16.450Z"
   },
   {
    "duration": 5,
    "start_time": "2021-12-15T11:05:21.582Z"
   },
   {
    "duration": 6,
    "start_time": "2021-12-15T11:06:31.911Z"
   },
   {
    "duration": 11,
    "start_time": "2021-12-15T11:06:32.670Z"
   },
   {
    "duration": 5,
    "start_time": "2021-12-15T11:06:33.790Z"
   },
   {
    "duration": 483,
    "start_time": "2021-12-15T11:08:45.607Z"
   },
   {
    "duration": 6,
    "start_time": "2021-12-15T11:18:56.414Z"
   },
   {
    "duration": 5,
    "start_time": "2021-12-15T11:19:00.653Z"
   },
   {
    "duration": 529,
    "start_time": "2021-12-15T11:19:09.413Z"
   },
   {
    "duration": 6,
    "start_time": "2021-12-15T11:19:14.998Z"
   },
   {
    "duration": 6,
    "start_time": "2021-12-15T11:19:36.157Z"
   },
   {
    "duration": 70,
    "start_time": "2021-12-15T11:19:46.138Z"
   },
   {
    "duration": 12,
    "start_time": "2021-12-15T11:19:46.210Z"
   },
   {
    "duration": 21,
    "start_time": "2021-12-15T11:19:46.225Z"
   },
   {
    "duration": 7,
    "start_time": "2021-12-15T11:19:46.248Z"
   },
   {
    "duration": 59,
    "start_time": "2021-12-15T11:19:46.256Z"
   },
   {
    "duration": 62,
    "start_time": "2021-12-15T11:19:46.316Z"
   },
   {
    "duration": 5,
    "start_time": "2021-12-15T11:19:46.380Z"
   },
   {
    "duration": 23,
    "start_time": "2021-12-15T11:19:46.387Z"
   },
   {
    "duration": 13,
    "start_time": "2021-12-15T11:19:46.412Z"
   },
   {
    "duration": 6,
    "start_time": "2021-12-15T11:19:46.427Z"
   },
   {
    "duration": 6,
    "start_time": "2021-12-15T11:19:46.434Z"
   },
   {
    "duration": 10,
    "start_time": "2021-12-15T11:19:46.441Z"
   },
   {
    "duration": 8,
    "start_time": "2021-12-15T11:19:46.453Z"
   },
   {
    "duration": 7,
    "start_time": "2021-12-15T11:19:46.462Z"
   },
   {
    "duration": 929,
    "start_time": "2021-12-15T11:19:46.471Z"
   },
   {
    "duration": 15,
    "start_time": "2021-12-15T11:19:47.402Z"
   },
   {
    "duration": 11,
    "start_time": "2021-12-15T11:19:47.419Z"
   },
   {
    "duration": 15,
    "start_time": "2021-12-15T11:19:47.432Z"
   },
   {
    "duration": 12,
    "start_time": "2021-12-15T11:19:47.449Z"
   },
   {
    "duration": 43,
    "start_time": "2021-12-15T11:19:47.463Z"
   },
   {
    "duration": 12,
    "start_time": "2021-12-15T11:19:47.509Z"
   },
   {
    "duration": 7,
    "start_time": "2021-12-15T11:19:47.523Z"
   },
   {
    "duration": 521,
    "start_time": "2021-12-15T11:19:47.533Z"
   },
   {
    "duration": 20,
    "start_time": "2021-12-15T11:19:48.056Z"
   },
   {
    "duration": 7,
    "start_time": "2021-12-15T11:19:48.078Z"
   },
   {
    "duration": 22,
    "start_time": "2021-12-15T11:19:48.086Z"
   },
   {
    "duration": 20,
    "start_time": "2021-12-15T11:19:48.110Z"
   },
   {
    "duration": 13,
    "start_time": "2021-12-15T11:19:48.132Z"
   },
   {
    "duration": 8686,
    "start_time": "2021-12-15T11:19:48.147Z"
   },
   {
    "duration": 426,
    "start_time": "2021-12-15T11:19:56.836Z"
   },
   {
    "duration": 403,
    "start_time": "2021-12-15T11:19:57.264Z"
   },
   {
    "duration": 397,
    "start_time": "2021-12-15T11:19:57.670Z"
   },
   {
    "duration": 10,
    "start_time": "2021-12-15T11:19:58.069Z"
   },
   {
    "duration": 44,
    "start_time": "2021-12-15T11:19:58.080Z"
   },
   {
    "duration": 22,
    "start_time": "2021-12-15T11:19:58.125Z"
   },
   {
    "duration": 90,
    "start_time": "2021-12-15T11:19:58.148Z"
   },
   {
    "duration": 340,
    "start_time": "2021-12-15T11:19:58.239Z"
   },
   {
    "duration": 83,
    "start_time": "2021-12-15T11:19:58.580Z"
   },
   {
    "duration": 4,
    "start_time": "2021-12-15T11:19:58.665Z"
   },
   {
    "duration": 34,
    "start_time": "2021-12-15T11:19:58.670Z"
   },
   {
    "duration": 23,
    "start_time": "2021-12-15T11:19:58.706Z"
   },
   {
    "duration": 32,
    "start_time": "2021-12-15T11:19:58.731Z"
   },
   {
    "duration": 212,
    "start_time": "2021-12-15T11:19:58.764Z"
   },
   {
    "duration": 68,
    "start_time": "2021-12-15T11:19:58.978Z"
   },
   {
    "duration": 9,
    "start_time": "2021-12-15T11:19:59.048Z"
   },
   {
    "duration": 49,
    "start_time": "2021-12-15T11:19:59.059Z"
   },
   {
    "duration": 6,
    "start_time": "2021-12-15T11:20:46.318Z"
   },
   {
    "duration": 11,
    "start_time": "2021-12-15T11:20:47.109Z"
   },
   {
    "duration": 8,
    "start_time": "2021-12-15T11:20:50.525Z"
   },
   {
    "duration": 73,
    "start_time": "2021-12-15T11:21:02.049Z"
   },
   {
    "duration": 14,
    "start_time": "2021-12-15T11:21:02.124Z"
   },
   {
    "duration": 20,
    "start_time": "2021-12-15T11:21:02.140Z"
   },
   {
    "duration": 7,
    "start_time": "2021-12-15T11:21:02.163Z"
   },
   {
    "duration": 57,
    "start_time": "2021-12-15T11:21:02.171Z"
   },
   {
    "duration": 86,
    "start_time": "2021-12-15T11:21:02.229Z"
   },
   {
    "duration": 5,
    "start_time": "2021-12-15T11:21:02.317Z"
   },
   {
    "duration": 15,
    "start_time": "2021-12-15T11:21:02.325Z"
   },
   {
    "duration": 12,
    "start_time": "2021-12-15T11:21:02.342Z"
   },
   {
    "duration": 8,
    "start_time": "2021-12-15T11:21:02.356Z"
   },
   {
    "duration": 12,
    "start_time": "2021-12-15T11:21:02.366Z"
   },
   {
    "duration": 14,
    "start_time": "2021-12-15T11:21:02.379Z"
   },
   {
    "duration": 27,
    "start_time": "2021-12-15T11:21:02.395Z"
   },
   {
    "duration": 9,
    "start_time": "2021-12-15T11:21:02.424Z"
   },
   {
    "duration": 1620,
    "start_time": "2021-12-15T11:21:02.435Z"
   },
   {
    "duration": 21,
    "start_time": "2021-12-15T11:21:04.057Z"
   },
   {
    "duration": 26,
    "start_time": "2021-12-15T11:21:04.080Z"
   },
   {
    "duration": 15,
    "start_time": "2021-12-15T11:21:04.108Z"
   },
   {
    "duration": 13,
    "start_time": "2021-12-15T11:21:04.126Z"
   },
   {
    "duration": 11,
    "start_time": "2021-12-15T11:21:04.141Z"
   },
   {
    "duration": 14,
    "start_time": "2021-12-15T11:21:04.154Z"
   },
   {
    "duration": 38,
    "start_time": "2021-12-15T11:21:04.170Z"
   },
   {
    "duration": 542,
    "start_time": "2021-12-15T11:21:04.211Z"
   },
   {
    "duration": 21,
    "start_time": "2021-12-15T11:21:04.755Z"
   },
   {
    "duration": 7,
    "start_time": "2021-12-15T11:21:04.778Z"
   },
   {
    "duration": 7,
    "start_time": "2021-12-15T11:21:04.807Z"
   },
   {
    "duration": 24,
    "start_time": "2021-12-15T11:21:04.816Z"
   },
   {
    "duration": 14,
    "start_time": "2021-12-15T11:21:04.843Z"
   },
   {
    "duration": 6727,
    "start_time": "2021-12-15T11:21:04.859Z"
   },
   {
    "duration": 231,
    "start_time": "2021-12-15T11:21:11.587Z"
   },
   {
    "duration": 276,
    "start_time": "2021-12-15T11:21:11.820Z"
   },
   {
    "duration": 285,
    "start_time": "2021-12-15T11:21:12.099Z"
   },
   {
    "duration": 21,
    "start_time": "2021-12-15T11:21:12.386Z"
   },
   {
    "duration": 30,
    "start_time": "2021-12-15T11:21:12.409Z"
   },
   {
    "duration": 27,
    "start_time": "2021-12-15T11:21:12.442Z"
   },
   {
    "duration": 115,
    "start_time": "2021-12-15T11:21:12.471Z"
   },
   {
    "duration": 366,
    "start_time": "2021-12-15T11:21:12.588Z"
   },
   {
    "duration": 87,
    "start_time": "2021-12-15T11:21:12.956Z"
   },
   {
    "duration": 4,
    "start_time": "2021-12-15T11:21:13.045Z"
   },
   {
    "duration": 16,
    "start_time": "2021-12-15T11:21:13.051Z"
   },
   {
    "duration": 39,
    "start_time": "2021-12-15T11:21:13.069Z"
   },
   {
    "duration": 21,
    "start_time": "2021-12-15T11:21:13.110Z"
   },
   {
    "duration": 231,
    "start_time": "2021-12-15T11:21:13.133Z"
   },
   {
    "duration": 101,
    "start_time": "2021-12-15T11:21:13.366Z"
   },
   {
    "duration": 15,
    "start_time": "2021-12-15T11:21:13.470Z"
   },
   {
    "duration": 28,
    "start_time": "2021-12-15T11:21:13.487Z"
   },
   {
    "duration": 7,
    "start_time": "2021-12-15T11:22:18.197Z"
   },
   {
    "duration": 12,
    "start_time": "2021-12-15T11:22:18.821Z"
   },
   {
    "duration": 6,
    "start_time": "2021-12-15T11:22:24.333Z"
   },
   {
    "duration": 11,
    "start_time": "2021-12-15T11:22:24.781Z"
   },
   {
    "duration": 6,
    "start_time": "2021-12-15T11:22:27.116Z"
   },
   {
    "duration": 6,
    "start_time": "2021-12-15T11:22:53.566Z"
   },
   {
    "duration": 11,
    "start_time": "2021-12-15T11:22:54.133Z"
   },
   {
    "duration": 9,
    "start_time": "2021-12-15T11:22:56.317Z"
   },
   {
    "duration": 6,
    "start_time": "2021-12-15T11:23:00.557Z"
   },
   {
    "duration": 15,
    "start_time": "2021-12-15T11:23:01.084Z"
   },
   {
    "duration": 8,
    "start_time": "2021-12-15T11:23:03.588Z"
   },
   {
    "duration": 104,
    "start_time": "2021-12-15T11:23:07.610Z"
   },
   {
    "duration": 11,
    "start_time": "2021-12-15T11:23:07.716Z"
   },
   {
    "duration": 21,
    "start_time": "2021-12-15T11:23:07.729Z"
   },
   {
    "duration": 8,
    "start_time": "2021-12-15T11:23:07.752Z"
   },
   {
    "duration": 60,
    "start_time": "2021-12-15T11:23:07.762Z"
   },
   {
    "duration": 84,
    "start_time": "2021-12-15T11:23:07.824Z"
   },
   {
    "duration": 6,
    "start_time": "2021-12-15T11:23:07.910Z"
   },
   {
    "duration": 12,
    "start_time": "2021-12-15T11:23:07.919Z"
   },
   {
    "duration": 14,
    "start_time": "2021-12-15T11:23:07.933Z"
   },
   {
    "duration": 13,
    "start_time": "2021-12-15T11:23:07.949Z"
   },
   {
    "duration": 10,
    "start_time": "2021-12-15T11:23:07.964Z"
   },
   {
    "duration": 13,
    "start_time": "2021-12-15T11:23:07.976Z"
   },
   {
    "duration": 23,
    "start_time": "2021-12-15T11:23:07.991Z"
   },
   {
    "duration": 6,
    "start_time": "2021-12-15T11:23:08.016Z"
   },
   {
    "duration": 1011,
    "start_time": "2021-12-15T11:23:08.023Z"
   },
   {
    "duration": 16,
    "start_time": "2021-12-15T11:23:09.035Z"
   },
   {
    "duration": 10,
    "start_time": "2021-12-15T11:23:09.053Z"
   },
   {
    "duration": 11,
    "start_time": "2021-12-15T11:23:09.065Z"
   },
   {
    "duration": 37,
    "start_time": "2021-12-15T11:23:09.078Z"
   },
   {
    "duration": 10,
    "start_time": "2021-12-15T11:23:09.116Z"
   },
   {
    "duration": 11,
    "start_time": "2021-12-15T11:23:09.128Z"
   },
   {
    "duration": 14,
    "start_time": "2021-12-15T11:23:09.141Z"
   },
   {
    "duration": 739,
    "start_time": "2021-12-15T11:23:09.159Z"
   },
   {
    "duration": 82,
    "start_time": "2021-12-15T11:23:09.911Z"
   },
   {
    "duration": 33,
    "start_time": "2021-12-15T11:23:10.008Z"
   },
   {
    "duration": 39,
    "start_time": "2021-12-15T11:23:10.054Z"
   },
   {
    "duration": 75,
    "start_time": "2021-12-15T11:23:10.110Z"
   },
   {
    "duration": 53,
    "start_time": "2021-12-15T11:23:10.203Z"
   },
   {
    "duration": 6400,
    "start_time": "2021-12-15T11:23:10.259Z"
   },
   {
    "duration": 218,
    "start_time": "2021-12-15T11:23:16.661Z"
   },
   {
    "duration": 260,
    "start_time": "2021-12-15T11:23:16.881Z"
   },
   {
    "duration": 258,
    "start_time": "2021-12-15T11:23:17.142Z"
   },
   {
    "duration": 10,
    "start_time": "2021-12-15T11:23:17.407Z"
   },
   {
    "duration": 40,
    "start_time": "2021-12-15T11:23:17.420Z"
   },
   {
    "duration": 24,
    "start_time": "2021-12-15T11:23:17.461Z"
   },
   {
    "duration": 90,
    "start_time": "2021-12-15T11:23:17.487Z"
   },
   {
    "duration": 347,
    "start_time": "2021-12-15T11:23:17.579Z"
   },
   {
    "duration": 86,
    "start_time": "2021-12-15T11:23:17.928Z"
   },
   {
    "duration": 4,
    "start_time": "2021-12-15T11:23:18.016Z"
   },
   {
    "duration": 15,
    "start_time": "2021-12-15T11:23:18.022Z"
   },
   {
    "duration": 13,
    "start_time": "2021-12-15T11:23:18.039Z"
   },
   {
    "duration": 21,
    "start_time": "2021-12-15T11:23:18.053Z"
   },
   {
    "duration": 247,
    "start_time": "2021-12-15T11:23:18.075Z"
   },
   {
    "duration": 198,
    "start_time": "2021-12-15T11:23:18.324Z"
   },
   {
    "duration": 15,
    "start_time": "2021-12-15T11:23:18.524Z"
   },
   {
    "duration": 15,
    "start_time": "2021-12-15T11:23:18.541Z"
   },
   {
    "duration": 7,
    "start_time": "2021-12-15T11:23:52.269Z"
   },
   {
    "duration": 11,
    "start_time": "2021-12-15T11:23:52.796Z"
   },
   {
    "duration": 7,
    "start_time": "2021-12-15T11:23:57.332Z"
   },
   {
    "duration": 7,
    "start_time": "2021-12-15T11:24:12.844Z"
   },
   {
    "duration": 12,
    "start_time": "2021-12-15T11:24:13.460Z"
   },
   {
    "duration": 6,
    "start_time": "2021-12-15T11:24:16.508Z"
   },
   {
    "duration": 7,
    "start_time": "2021-12-15T11:24:25.132Z"
   },
   {
    "duration": 7,
    "start_time": "2021-12-15T11:24:30.812Z"
   },
   {
    "duration": 11,
    "start_time": "2021-12-15T11:24:31.381Z"
   },
   {
    "duration": 6,
    "start_time": "2021-12-15T11:24:33.324Z"
   },
   {
    "duration": 6,
    "start_time": "2021-12-15T11:24:36.148Z"
   },
   {
    "duration": 77,
    "start_time": "2021-12-15T11:24:38.593Z"
   },
   {
    "duration": 40,
    "start_time": "2021-12-15T11:24:38.671Z"
   },
   {
    "duration": 23,
    "start_time": "2021-12-15T11:24:38.713Z"
   },
   {
    "duration": 7,
    "start_time": "2021-12-15T11:24:38.739Z"
   },
   {
    "duration": 29,
    "start_time": "2021-12-15T11:24:38.747Z"
   },
   {
    "duration": 90,
    "start_time": "2021-12-15T11:24:38.778Z"
   },
   {
    "duration": 5,
    "start_time": "2021-12-15T11:24:38.869Z"
   },
   {
    "duration": 29,
    "start_time": "2021-12-15T11:24:38.877Z"
   },
   {
    "duration": 10,
    "start_time": "2021-12-15T11:24:38.909Z"
   },
   {
    "duration": 7,
    "start_time": "2021-12-15T11:24:38.921Z"
   },
   {
    "duration": 7,
    "start_time": "2021-12-15T11:24:38.930Z"
   },
   {
    "duration": 9,
    "start_time": "2021-12-15T11:24:38.939Z"
   },
   {
    "duration": 10,
    "start_time": "2021-12-15T11:24:38.950Z"
   },
   {
    "duration": 6,
    "start_time": "2021-12-15T11:24:38.962Z"
   },
   {
    "duration": 979,
    "start_time": "2021-12-15T11:24:38.969Z"
   },
   {
    "duration": 13,
    "start_time": "2021-12-15T11:24:39.950Z"
   },
   {
    "duration": 8,
    "start_time": "2021-12-15T11:24:39.965Z"
   },
   {
    "duration": 35,
    "start_time": "2021-12-15T11:24:39.975Z"
   },
   {
    "duration": 18,
    "start_time": "2021-12-15T11:24:40.011Z"
   },
   {
    "duration": 8,
    "start_time": "2021-12-15T11:24:40.031Z"
   },
   {
    "duration": 11,
    "start_time": "2021-12-15T11:24:40.041Z"
   },
   {
    "duration": 7,
    "start_time": "2021-12-15T11:24:40.054Z"
   },
   {
    "duration": 538,
    "start_time": "2021-12-15T11:24:40.065Z"
   },
   {
    "duration": 20,
    "start_time": "2021-12-15T11:24:40.607Z"
   },
   {
    "duration": 8,
    "start_time": "2021-12-15T11:24:40.628Z"
   },
   {
    "duration": 5,
    "start_time": "2021-12-15T11:24:40.638Z"
   },
   {
    "duration": 19,
    "start_time": "2021-12-15T11:24:40.645Z"
   },
   {
    "duration": 52,
    "start_time": "2021-12-15T11:24:40.666Z"
   },
   {
    "duration": 6176,
    "start_time": "2021-12-15T11:24:40.719Z"
   },
   {
    "duration": 229,
    "start_time": "2021-12-15T11:24:46.897Z"
   },
   {
    "duration": 250,
    "start_time": "2021-12-15T11:24:47.128Z"
   },
   {
    "duration": 252,
    "start_time": "2021-12-15T11:24:47.380Z"
   },
   {
    "duration": 9,
    "start_time": "2021-12-15T11:24:47.634Z"
   },
   {
    "duration": 27,
    "start_time": "2021-12-15T11:24:47.645Z"
   },
   {
    "duration": 48,
    "start_time": "2021-12-15T11:24:47.674Z"
   },
   {
    "duration": 83,
    "start_time": "2021-12-15T11:24:47.724Z"
   },
   {
    "duration": 328,
    "start_time": "2021-12-15T11:24:47.809Z"
   },
   {
    "duration": 89,
    "start_time": "2021-12-15T11:24:48.138Z"
   },
   {
    "duration": 4,
    "start_time": "2021-12-15T11:24:48.229Z"
   },
   {
    "duration": 32,
    "start_time": "2021-12-15T11:24:48.235Z"
   },
   {
    "duration": 14,
    "start_time": "2021-12-15T11:24:48.269Z"
   },
   {
    "duration": 31,
    "start_time": "2021-12-15T11:24:48.285Z"
   },
   {
    "duration": 215,
    "start_time": "2021-12-15T11:24:48.317Z"
   },
   {
    "duration": 223,
    "start_time": "2021-12-15T11:24:48.534Z"
   },
   {
    "duration": 10,
    "start_time": "2021-12-15T11:24:48.759Z"
   },
   {
    "duration": 24,
    "start_time": "2021-12-15T11:24:48.771Z"
   },
   {
    "duration": 7,
    "start_time": "2021-12-15T11:25:44.021Z"
   },
   {
    "duration": 12,
    "start_time": "2021-12-15T11:25:44.516Z"
   },
   {
    "duration": 7,
    "start_time": "2021-12-15T11:25:46.524Z"
   },
   {
    "duration": 77,
    "start_time": "2021-12-15T11:26:02.771Z"
   },
   {
    "duration": 11,
    "start_time": "2021-12-15T11:26:02.850Z"
   },
   {
    "duration": 54,
    "start_time": "2021-12-15T11:26:02.864Z"
   },
   {
    "duration": 7,
    "start_time": "2021-12-15T11:26:02.921Z"
   },
   {
    "duration": 29,
    "start_time": "2021-12-15T11:26:02.929Z"
   },
   {
    "duration": 103,
    "start_time": "2021-12-15T11:26:02.960Z"
   },
   {
    "duration": 6,
    "start_time": "2021-12-15T11:26:03.064Z"
   },
   {
    "duration": 7,
    "start_time": "2021-12-15T11:26:03.073Z"
   },
   {
    "duration": 28,
    "start_time": "2021-12-15T11:26:03.083Z"
   },
   {
    "duration": 6,
    "start_time": "2021-12-15T11:26:03.113Z"
   },
   {
    "duration": 5,
    "start_time": "2021-12-15T11:26:03.121Z"
   },
   {
    "duration": 9,
    "start_time": "2021-12-15T11:26:03.128Z"
   },
   {
    "duration": 9,
    "start_time": "2021-12-15T11:26:03.139Z"
   },
   {
    "duration": 6,
    "start_time": "2021-12-15T11:26:03.150Z"
   },
   {
    "duration": 1012,
    "start_time": "2021-12-15T11:26:03.157Z"
   },
   {
    "duration": 15,
    "start_time": "2021-12-15T11:26:04.171Z"
   },
   {
    "duration": 19,
    "start_time": "2021-12-15T11:26:04.188Z"
   },
   {
    "duration": 12,
    "start_time": "2021-12-15T11:26:04.210Z"
   },
   {
    "duration": 9,
    "start_time": "2021-12-15T11:26:04.224Z"
   },
   {
    "duration": 18,
    "start_time": "2021-12-15T11:26:04.235Z"
   },
   {
    "duration": 16,
    "start_time": "2021-12-15T11:26:04.255Z"
   },
   {
    "duration": 35,
    "start_time": "2021-12-15T11:26:04.274Z"
   },
   {
    "duration": 602,
    "start_time": "2021-12-15T11:26:04.314Z"
   },
   {
    "duration": 20,
    "start_time": "2021-12-15T11:26:04.918Z"
   },
   {
    "duration": 6,
    "start_time": "2021-12-15T11:26:04.939Z"
   },
   {
    "duration": 7,
    "start_time": "2021-12-15T11:26:04.947Z"
   },
   {
    "duration": 52,
    "start_time": "2021-12-15T11:26:04.956Z"
   },
   {
    "duration": 12,
    "start_time": "2021-12-15T11:26:05.010Z"
   },
   {
    "duration": 5999,
    "start_time": "2021-12-15T11:26:05.024Z"
   },
   {
    "duration": 250,
    "start_time": "2021-12-15T11:26:11.026Z"
   },
   {
    "duration": 269,
    "start_time": "2021-12-15T11:26:11.278Z"
   },
   {
    "duration": 257,
    "start_time": "2021-12-15T11:26:11.549Z"
   },
   {
    "duration": 10,
    "start_time": "2021-12-15T11:26:11.807Z"
   },
   {
    "duration": 28,
    "start_time": "2021-12-15T11:26:11.819Z"
   },
   {
    "duration": 25,
    "start_time": "2021-12-15T11:26:11.849Z"
   },
   {
    "duration": 99,
    "start_time": "2021-12-15T11:26:11.875Z"
   },
   {
    "duration": 366,
    "start_time": "2021-12-15T11:26:11.976Z"
   },
   {
    "duration": 90,
    "start_time": "2021-12-15T11:26:12.344Z"
   },
   {
    "duration": 5,
    "start_time": "2021-12-15T11:26:12.436Z"
   },
   {
    "duration": 17,
    "start_time": "2021-12-15T11:26:12.443Z"
   },
   {
    "duration": 13,
    "start_time": "2021-12-15T11:26:12.462Z"
   },
   {
    "duration": 48,
    "start_time": "2021-12-15T11:26:12.477Z"
   },
   {
    "duration": 202,
    "start_time": "2021-12-15T11:26:12.527Z"
   },
   {
    "duration": 79,
    "start_time": "2021-12-15T11:26:12.731Z"
   },
   {
    "duration": 14,
    "start_time": "2021-12-15T11:26:12.812Z"
   },
   {
    "duration": 17,
    "start_time": "2021-12-15T11:26:12.828Z"
   },
   {
    "duration": 8,
    "start_time": "2021-12-15T11:26:23.756Z"
   },
   {
    "duration": 13,
    "start_time": "2021-12-15T11:26:24.956Z"
   },
   {
    "duration": 7,
    "start_time": "2021-12-15T11:26:27.940Z"
   },
   {
    "duration": 8,
    "start_time": "2021-12-15T11:26:45.996Z"
   },
   {
    "duration": 14,
    "start_time": "2021-12-15T11:26:46.659Z"
   },
   {
    "duration": 6,
    "start_time": "2021-12-15T11:26:47.940Z"
   },
   {
    "duration": 71,
    "start_time": "2021-12-15T11:26:49.762Z"
   },
   {
    "duration": 10,
    "start_time": "2021-12-15T11:26:49.835Z"
   },
   {
    "duration": 21,
    "start_time": "2021-12-15T11:26:49.848Z"
   },
   {
    "duration": 40,
    "start_time": "2021-12-15T11:26:49.871Z"
   },
   {
    "duration": 24,
    "start_time": "2021-12-15T11:26:49.913Z"
   },
   {
    "duration": 83,
    "start_time": "2021-12-15T11:26:49.939Z"
   },
   {
    "duration": 5,
    "start_time": "2021-12-15T11:26:50.024Z"
   },
   {
    "duration": 6,
    "start_time": "2021-12-15T11:26:50.032Z"
   },
   {
    "duration": 13,
    "start_time": "2021-12-15T11:26:50.041Z"
   },
   {
    "duration": 6,
    "start_time": "2021-12-15T11:26:50.056Z"
   },
   {
    "duration": 11,
    "start_time": "2021-12-15T11:26:50.064Z"
   },
   {
    "duration": 31,
    "start_time": "2021-12-15T11:26:50.077Z"
   },
   {
    "duration": 9,
    "start_time": "2021-12-15T11:26:50.110Z"
   },
   {
    "duration": 6,
    "start_time": "2021-12-15T11:26:50.121Z"
   },
   {
    "duration": 1004,
    "start_time": "2021-12-15T11:26:50.128Z"
   },
   {
    "duration": 15,
    "start_time": "2021-12-15T11:26:51.134Z"
   },
   {
    "duration": 8,
    "start_time": "2021-12-15T11:26:51.151Z"
   },
   {
    "duration": 13,
    "start_time": "2021-12-15T11:26:51.161Z"
   },
   {
    "duration": 41,
    "start_time": "2021-12-15T11:26:51.176Z"
   },
   {
    "duration": 24,
    "start_time": "2021-12-15T11:26:51.219Z"
   },
   {
    "duration": 13,
    "start_time": "2021-12-15T11:26:51.245Z"
   },
   {
    "duration": 8,
    "start_time": "2021-12-15T11:26:51.260Z"
   },
   {
    "duration": 713,
    "start_time": "2021-12-15T11:26:51.273Z"
   },
   {
    "duration": 35,
    "start_time": "2021-12-15T11:26:51.988Z"
   },
   {
    "duration": 7,
    "start_time": "2021-12-15T11:26:52.026Z"
   },
   {
    "duration": 8,
    "start_time": "2021-12-15T11:26:52.035Z"
   },
   {
    "duration": 30,
    "start_time": "2021-12-15T11:26:52.045Z"
   },
   {
    "duration": 44,
    "start_time": "2021-12-15T11:26:52.078Z"
   },
   {
    "duration": 6018,
    "start_time": "2021-12-15T11:26:52.124Z"
   },
   {
    "duration": 214,
    "start_time": "2021-12-15T11:26:58.143Z"
   },
   {
    "duration": 251,
    "start_time": "2021-12-15T11:26:58.359Z"
   },
   {
    "duration": 242,
    "start_time": "2021-12-15T11:26:58.612Z"
   },
   {
    "duration": 10,
    "start_time": "2021-12-15T11:26:58.856Z"
   },
   {
    "duration": 44,
    "start_time": "2021-12-15T11:26:58.868Z"
   },
   {
    "duration": 23,
    "start_time": "2021-12-15T11:26:58.914Z"
   },
   {
    "duration": 89,
    "start_time": "2021-12-15T11:26:58.939Z"
   },
   {
    "duration": 340,
    "start_time": "2021-12-15T11:26:59.030Z"
   },
   {
    "duration": 90,
    "start_time": "2021-12-15T11:26:59.372Z"
   },
   {
    "duration": 4,
    "start_time": "2021-12-15T11:26:59.464Z"
   },
   {
    "duration": 15,
    "start_time": "2021-12-15T11:26:59.469Z"
   },
   {
    "duration": 31,
    "start_time": "2021-12-15T11:26:59.486Z"
   },
   {
    "duration": 21,
    "start_time": "2021-12-15T11:26:59.518Z"
   },
   {
    "duration": 223,
    "start_time": "2021-12-15T11:26:59.541Z"
   },
   {
    "duration": 78,
    "start_time": "2021-12-15T11:26:59.767Z"
   },
   {
    "duration": 10,
    "start_time": "2021-12-15T11:26:59.847Z"
   },
   {
    "duration": 13,
    "start_time": "2021-12-15T11:26:59.859Z"
   },
   {
    "duration": 69,
    "start_time": "2021-12-15T11:29:24.137Z"
   },
   {
    "duration": 10,
    "start_time": "2021-12-15T11:29:24.208Z"
   },
   {
    "duration": 20,
    "start_time": "2021-12-15T11:29:24.220Z"
   },
   {
    "duration": 6,
    "start_time": "2021-12-15T11:29:24.241Z"
   },
   {
    "duration": 25,
    "start_time": "2021-12-15T11:29:24.248Z"
   },
   {
    "duration": 62,
    "start_time": "2021-12-15T11:29:24.307Z"
   },
   {
    "duration": 5,
    "start_time": "2021-12-15T11:29:24.371Z"
   },
   {
    "duration": 30,
    "start_time": "2021-12-15T11:29:24.379Z"
   },
   {
    "duration": 13,
    "start_time": "2021-12-15T11:29:24.411Z"
   },
   {
    "duration": 6,
    "start_time": "2021-12-15T11:29:24.427Z"
   },
   {
    "duration": 5,
    "start_time": "2021-12-15T11:29:24.435Z"
   },
   {
    "duration": 9,
    "start_time": "2021-12-15T11:29:24.441Z"
   },
   {
    "duration": 12,
    "start_time": "2021-12-15T11:29:24.453Z"
   },
   {
    "duration": 7,
    "start_time": "2021-12-15T11:29:24.467Z"
   },
   {
    "duration": 919,
    "start_time": "2021-12-15T11:29:24.507Z"
   },
   {
    "duration": 14,
    "start_time": "2021-12-15T11:29:25.428Z"
   },
   {
    "duration": 11,
    "start_time": "2021-12-15T11:29:25.444Z"
   },
   {
    "duration": 15,
    "start_time": "2021-12-15T11:29:25.457Z"
   },
   {
    "duration": 36,
    "start_time": "2021-12-15T11:29:25.474Z"
   },
   {
    "duration": 11,
    "start_time": "2021-12-15T11:29:25.513Z"
   },
   {
    "duration": 13,
    "start_time": "2021-12-15T11:29:25.526Z"
   },
   {
    "duration": 838,
    "start_time": "2021-12-15T11:29:25.541Z"
   },
   {
    "duration": 29,
    "start_time": "2021-12-15T11:29:26.384Z"
   },
   {
    "duration": 6,
    "start_time": "2021-12-15T11:29:26.415Z"
   },
   {
    "duration": 7,
    "start_time": "2021-12-15T11:29:26.423Z"
   },
   {
    "duration": 18,
    "start_time": "2021-12-15T11:29:26.432Z"
   },
   {
    "duration": 10,
    "start_time": "2021-12-15T11:29:26.452Z"
   },
   {
    "duration": 5992,
    "start_time": "2021-12-15T11:29:26.464Z"
   },
   {
    "duration": 236,
    "start_time": "2021-12-15T11:29:32.458Z"
   },
   {
    "duration": 271,
    "start_time": "2021-12-15T11:29:32.697Z"
   },
   {
    "duration": 278,
    "start_time": "2021-12-15T11:29:32.970Z"
   },
   {
    "duration": 11,
    "start_time": "2021-12-15T11:29:33.250Z"
   },
   {
    "duration": 52,
    "start_time": "2021-12-15T11:29:33.262Z"
   },
   {
    "duration": 24,
    "start_time": "2021-12-15T11:29:33.315Z"
   },
   {
    "duration": 104,
    "start_time": "2021-12-15T11:29:33.341Z"
   },
   {
    "duration": 366,
    "start_time": "2021-12-15T11:29:33.447Z"
   },
   {
    "duration": 77,
    "start_time": "2021-12-15T11:29:33.815Z"
   },
   {
    "duration": 4,
    "start_time": "2021-12-15T11:29:33.907Z"
   },
   {
    "duration": 17,
    "start_time": "2021-12-15T11:29:33.913Z"
   },
   {
    "duration": 14,
    "start_time": "2021-12-15T11:29:33.932Z"
   },
   {
    "duration": 24,
    "start_time": "2021-12-15T11:29:33.948Z"
   },
   {
    "duration": 250,
    "start_time": "2021-12-15T11:29:33.974Z"
   },
   {
    "duration": 80,
    "start_time": "2021-12-15T11:29:34.226Z"
   },
   {
    "duration": 13,
    "start_time": "2021-12-15T11:29:34.308Z"
   },
   {
    "duration": 13,
    "start_time": "2021-12-15T11:29:34.323Z"
   },
   {
    "duration": 373,
    "start_time": "2021-12-15T11:31:02.676Z"
   },
   {
    "duration": 155,
    "start_time": "2021-12-15T11:31:52.435Z"
   },
   {
    "duration": 417,
    "start_time": "2021-12-15T11:34:07.852Z"
   },
   {
    "duration": 11,
    "start_time": "2021-12-15T11:35:00.604Z"
   },
   {
    "duration": 10,
    "start_time": "2021-12-15T11:35:23.339Z"
   },
   {
    "duration": 115,
    "start_time": "2021-12-15T11:38:59.315Z"
   },
   {
    "duration": 9,
    "start_time": "2021-12-15T11:39:05.499Z"
   },
   {
    "duration": 36,
    "start_time": "2021-12-15T11:39:27.227Z"
   },
   {
    "duration": 9,
    "start_time": "2021-12-15T11:39:50.532Z"
   },
   {
    "duration": 9,
    "start_time": "2021-12-15T11:41:18.971Z"
   },
   {
    "duration": 175,
    "start_time": "2021-12-15T11:41:20.370Z"
   },
   {
    "duration": 94,
    "start_time": "2021-12-15T11:45:56.713Z"
   },
   {
    "duration": 11,
    "start_time": "2021-12-15T11:45:56.809Z"
   },
   {
    "duration": 20,
    "start_time": "2021-12-15T11:45:56.823Z"
   },
   {
    "duration": 6,
    "start_time": "2021-12-15T11:45:56.846Z"
   },
   {
    "duration": 60,
    "start_time": "2021-12-15T11:45:56.854Z"
   },
   {
    "duration": 66,
    "start_time": "2021-12-15T11:45:56.916Z"
   },
   {
    "duration": 23,
    "start_time": "2021-12-15T11:45:56.984Z"
   },
   {
    "duration": 5,
    "start_time": "2021-12-15T11:45:57.011Z"
   },
   {
    "duration": 12,
    "start_time": "2021-12-15T11:45:57.018Z"
   },
   {
    "duration": 12,
    "start_time": "2021-12-15T11:45:57.032Z"
   },
   {
    "duration": 6,
    "start_time": "2021-12-15T11:45:57.046Z"
   },
   {
    "duration": 9,
    "start_time": "2021-12-15T11:45:57.054Z"
   },
   {
    "duration": 9,
    "start_time": "2021-12-15T11:45:57.065Z"
   },
   {
    "duration": 30,
    "start_time": "2021-12-15T11:45:57.076Z"
   },
   {
    "duration": 920,
    "start_time": "2021-12-15T11:45:57.108Z"
   },
   {
    "duration": 14,
    "start_time": "2021-12-15T11:45:58.030Z"
   },
   {
    "duration": 10,
    "start_time": "2021-12-15T11:45:58.045Z"
   },
   {
    "duration": 12,
    "start_time": "2021-12-15T11:45:58.056Z"
   },
   {
    "duration": 11,
    "start_time": "2021-12-15T11:45:58.069Z"
   },
   {
    "duration": 33,
    "start_time": "2021-12-15T11:45:58.082Z"
   },
   {
    "duration": 11,
    "start_time": "2021-12-15T11:45:58.116Z"
   },
   {
    "duration": 522,
    "start_time": "2021-12-15T11:45:58.129Z"
   },
   {
    "duration": 20,
    "start_time": "2021-12-15T11:45:58.654Z"
   },
   {
    "duration": 7,
    "start_time": "2021-12-15T11:45:58.676Z"
   },
   {
    "duration": 23,
    "start_time": "2021-12-15T11:45:58.684Z"
   },
   {
    "duration": 19,
    "start_time": "2021-12-15T11:45:58.709Z"
   },
   {
    "duration": 11,
    "start_time": "2021-12-15T11:45:58.729Z"
   },
   {
    "duration": 5942,
    "start_time": "2021-12-15T11:45:58.741Z"
   },
   {
    "duration": 239,
    "start_time": "2021-12-15T11:46:04.685Z"
   },
   {
    "duration": 273,
    "start_time": "2021-12-15T11:46:04.927Z"
   },
   {
    "duration": 263,
    "start_time": "2021-12-15T11:46:05.202Z"
   },
   {
    "duration": 12,
    "start_time": "2021-12-15T11:46:05.467Z"
   },
   {
    "duration": 50,
    "start_time": "2021-12-15T11:46:05.481Z"
   },
   {
    "duration": 27,
    "start_time": "2021-12-15T11:46:05.533Z"
   },
   {
    "duration": 97,
    "start_time": "2021-12-15T11:46:05.562Z"
   },
   {
    "duration": 368,
    "start_time": "2021-12-15T11:46:05.660Z"
   },
   {
    "duration": 93,
    "start_time": "2021-12-15T11:46:06.030Z"
   },
   {
    "duration": 4,
    "start_time": "2021-12-15T11:46:06.125Z"
   },
   {
    "duration": 16,
    "start_time": "2021-12-15T11:46:06.131Z"
   },
   {
    "duration": 14,
    "start_time": "2021-12-15T11:46:06.149Z"
   },
   {
    "duration": 192,
    "start_time": "2021-12-15T11:46:06.165Z"
   },
   {
    "duration": 23,
    "start_time": "2021-12-15T11:46:06.358Z"
   },
   {
    "duration": 26,
    "start_time": "2021-12-15T11:46:06.383Z"
   },
   {
    "duration": 8,
    "start_time": "2021-12-15T11:46:06.411Z"
   },
   {
    "duration": 635,
    "start_time": "2021-12-15T11:46:06.421Z"
   },
   {
    "duration": 75,
    "start_time": "2021-12-15T11:46:07.058Z"
   },
   {
    "duration": 12,
    "start_time": "2021-12-15T11:46:07.136Z"
   },
   {
    "duration": 25,
    "start_time": "2021-12-15T11:46:07.150Z"
   }
  ],
  "kernelspec": {
   "display_name": "Python 3 (ipykernel)",
   "language": "python",
   "name": "python3"
  },
  "language_info": {
   "codemirror_mode": {
    "name": "ipython",
    "version": 3
   },
   "file_extension": ".py",
   "mimetype": "text/x-python",
   "name": "python",
   "nbconvert_exporter": "python",
   "pygments_lexer": "ipython3",
   "version": "3.9.7"
  },
  "toc": {
   "base_numbering": 1,
   "nav_menu": {},
   "number_sections": true,
   "sideBar": true,
   "skip_h1_title": true,
   "title_cell": "Содержание",
   "title_sidebar": "Contents",
   "toc_cell": true,
   "toc_position": {},
   "toc_section_display": true,
   "toc_window_display": false
  }
 },
 "nbformat": 4,
 "nbformat_minor": 2
}
