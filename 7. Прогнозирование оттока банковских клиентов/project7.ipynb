{
 "cells": [
  {
   "cell_type": "markdown",
   "metadata": {},
   "source": [
    "# Отток клиентов"
   ]
  },
  {
   "cell_type": "markdown",
   "metadata": {},
   "source": [
    "## Подготовка данных"
   ]
  },
  {
   "cell_type": "markdown",
   "metadata": {},
   "source": [
    "### Общий взгляд на датасет, избавление от лишнего"
   ]
  },
  {
   "cell_type": "code",
   "execution_count": 91,
   "metadata": {},
   "outputs": [],
   "source": [
    "# загружаем библиотеки\n",
    "import pandas as pd\n",
    "import numpy\n",
    "import warnings\n",
    "import matplotlib.pyplot as plt\n",
    "from sklearn.tree import DecisionTreeClassifier\n",
    "from sklearn.ensemble import RandomForestClassifier\n",
    "from sklearn.linear_model import LogisticRegression\n",
    "from sklearn.model_selection import train_test_split\n",
    "from sklearn.preprocessing import StandardScaler\n",
    "from sklearn.utils import shuffle\n",
    "from sklearn.metrics import f1_score\n",
    "from sklearn.metrics import roc_auc_score"
   ]
  },
  {
   "cell_type": "code",
   "execution_count": 92,
   "metadata": {},
   "outputs": [],
   "source": [
    "warnings.filterwarnings('ignore')"
   ]
  },
  {
   "cell_type": "code",
   "execution_count": 93,
   "metadata": {},
   "outputs": [
    {
     "data": {
      "text/html": [
       "<div>\n",
       "<style scoped>\n",
       "    .dataframe tbody tr th:only-of-type {\n",
       "        vertical-align: middle;\n",
       "    }\n",
       "\n",
       "    .dataframe tbody tr th {\n",
       "        vertical-align: top;\n",
       "    }\n",
       "\n",
       "    .dataframe thead th {\n",
       "        text-align: right;\n",
       "    }\n",
       "</style>\n",
       "<table border=\"1\" class=\"dataframe\">\n",
       "  <thead>\n",
       "    <tr style=\"text-align: right;\">\n",
       "      <th></th>\n",
       "      <th>RowNumber</th>\n",
       "      <th>CustomerId</th>\n",
       "      <th>Surname</th>\n",
       "      <th>CreditScore</th>\n",
       "      <th>Geography</th>\n",
       "      <th>Gender</th>\n",
       "      <th>Age</th>\n",
       "      <th>Tenure</th>\n",
       "      <th>Balance</th>\n",
       "      <th>NumOfProducts</th>\n",
       "      <th>HasCrCard</th>\n",
       "      <th>IsActiveMember</th>\n",
       "      <th>EstimatedSalary</th>\n",
       "      <th>Exited</th>\n",
       "    </tr>\n",
       "  </thead>\n",
       "  <tbody>\n",
       "    <tr>\n",
       "      <td>0</td>\n",
       "      <td>1</td>\n",
       "      <td>15634602</td>\n",
       "      <td>Hargrave</td>\n",
       "      <td>619</td>\n",
       "      <td>France</td>\n",
       "      <td>Female</td>\n",
       "      <td>42</td>\n",
       "      <td>2.0</td>\n",
       "      <td>0.00</td>\n",
       "      <td>1</td>\n",
       "      <td>1</td>\n",
       "      <td>1</td>\n",
       "      <td>101348.88</td>\n",
       "      <td>1</td>\n",
       "    </tr>\n",
       "    <tr>\n",
       "      <td>1</td>\n",
       "      <td>2</td>\n",
       "      <td>15647311</td>\n",
       "      <td>Hill</td>\n",
       "      <td>608</td>\n",
       "      <td>Spain</td>\n",
       "      <td>Female</td>\n",
       "      <td>41</td>\n",
       "      <td>1.0</td>\n",
       "      <td>83807.86</td>\n",
       "      <td>1</td>\n",
       "      <td>0</td>\n",
       "      <td>1</td>\n",
       "      <td>112542.58</td>\n",
       "      <td>0</td>\n",
       "    </tr>\n",
       "    <tr>\n",
       "      <td>2</td>\n",
       "      <td>3</td>\n",
       "      <td>15619304</td>\n",
       "      <td>Onio</td>\n",
       "      <td>502</td>\n",
       "      <td>France</td>\n",
       "      <td>Female</td>\n",
       "      <td>42</td>\n",
       "      <td>8.0</td>\n",
       "      <td>159660.80</td>\n",
       "      <td>3</td>\n",
       "      <td>1</td>\n",
       "      <td>0</td>\n",
       "      <td>113931.57</td>\n",
       "      <td>1</td>\n",
       "    </tr>\n",
       "    <tr>\n",
       "      <td>3</td>\n",
       "      <td>4</td>\n",
       "      <td>15701354</td>\n",
       "      <td>Boni</td>\n",
       "      <td>699</td>\n",
       "      <td>France</td>\n",
       "      <td>Female</td>\n",
       "      <td>39</td>\n",
       "      <td>1.0</td>\n",
       "      <td>0.00</td>\n",
       "      <td>2</td>\n",
       "      <td>0</td>\n",
       "      <td>0</td>\n",
       "      <td>93826.63</td>\n",
       "      <td>0</td>\n",
       "    </tr>\n",
       "    <tr>\n",
       "      <td>4</td>\n",
       "      <td>5</td>\n",
       "      <td>15737888</td>\n",
       "      <td>Mitchell</td>\n",
       "      <td>850</td>\n",
       "      <td>Spain</td>\n",
       "      <td>Female</td>\n",
       "      <td>43</td>\n",
       "      <td>2.0</td>\n",
       "      <td>125510.82</td>\n",
       "      <td>1</td>\n",
       "      <td>1</td>\n",
       "      <td>1</td>\n",
       "      <td>79084.10</td>\n",
       "      <td>0</td>\n",
       "    </tr>\n",
       "  </tbody>\n",
       "</table>\n",
       "</div>"
      ],
      "text/plain": [
       "   RowNumber  CustomerId   Surname  CreditScore Geography  Gender  Age  \\\n",
       "0          1    15634602  Hargrave          619    France  Female   42   \n",
       "1          2    15647311      Hill          608     Spain  Female   41   \n",
       "2          3    15619304      Onio          502    France  Female   42   \n",
       "3          4    15701354      Boni          699    France  Female   39   \n",
       "4          5    15737888  Mitchell          850     Spain  Female   43   \n",
       "\n",
       "   Tenure    Balance  NumOfProducts  HasCrCard  IsActiveMember  \\\n",
       "0     2.0       0.00              1          1               1   \n",
       "1     1.0   83807.86              1          0               1   \n",
       "2     8.0  159660.80              3          1               0   \n",
       "3     1.0       0.00              2          0               0   \n",
       "4     2.0  125510.82              1          1               1   \n",
       "\n",
       "   EstimatedSalary  Exited  \n",
       "0        101348.88       1  \n",
       "1        112542.58       0  \n",
       "2        113931.57       1  \n",
       "3         93826.63       0  \n",
       "4         79084.10       0  "
      ]
     },
     "execution_count": 93,
     "metadata": {},
     "output_type": "execute_result"
    }
   ],
   "source": [
    "#читаем файл и смотрим на него\n",
    "data = pd.read_csv('/datasets/Churn.csv')\n",
    "data.head()"
   ]
  },
  {
   "cell_type": "code",
   "execution_count": 94,
   "metadata": {},
   "outputs": [
    {
     "name": "stdout",
     "output_type": "stream",
     "text": [
      "<class 'pandas.core.frame.DataFrame'>\n",
      "RangeIndex: 10000 entries, 0 to 9999\n",
      "Data columns (total 14 columns):\n",
      "RowNumber          10000 non-null int64\n",
      "CustomerId         10000 non-null int64\n",
      "Surname            10000 non-null object\n",
      "CreditScore        10000 non-null int64\n",
      "Geography          10000 non-null object\n",
      "Gender             10000 non-null object\n",
      "Age                10000 non-null int64\n",
      "Tenure             9091 non-null float64\n",
      "Balance            10000 non-null float64\n",
      "NumOfProducts      10000 non-null int64\n",
      "HasCrCard          10000 non-null int64\n",
      "IsActiveMember     10000 non-null int64\n",
      "EstimatedSalary    10000 non-null float64\n",
      "Exited             10000 non-null int64\n",
      "dtypes: float64(3), int64(8), object(3)\n",
      "memory usage: 1.1+ MB\n"
     ]
    }
   ],
   "source": [
    "data.info()"
   ]
  },
  {
   "cell_type": "markdown",
   "metadata": {},
   "source": [
    "Числовые признаки перемешаны с категориальными. Поэтому проведем предварительную обработку методом прямого кодирования. Также в столбце Tenure есть пропуски, их тоже необходимо убрать. Некоторые признаки можно удалить из таблицы, так как они не несут никакого смысла для целевого параметра."
   ]
  },
  {
   "cell_type": "code",
   "execution_count": 95,
   "metadata": {},
   "outputs": [
    {
     "name": "stdout",
     "output_type": "stream",
     "text": [
      "<class 'pandas.core.frame.DataFrame'>\n",
      "RangeIndex: 10000 entries, 0 to 9999\n",
      "Data columns (total 11 columns):\n",
      "CreditScore        10000 non-null int64\n",
      "Geography          10000 non-null object\n",
      "Gender             10000 non-null object\n",
      "Age                10000 non-null int64\n",
      "Tenure             9091 non-null float64\n",
      "Balance            10000 non-null float64\n",
      "NumOfProducts      10000 non-null int64\n",
      "HasCrCard          10000 non-null int64\n",
      "IsActiveMember     10000 non-null int64\n",
      "EstimatedSalary    10000 non-null float64\n",
      "Exited             10000 non-null int64\n",
      "dtypes: float64(3), int64(6), object(2)\n",
      "memory usage: 859.5+ KB\n"
     ]
    }
   ],
   "source": [
    "data.drop(['RowNumber', 'CustomerId', 'Surname'], axis=1, inplace=True)\n",
    "data.info()"
   ]
  },
  {
   "cell_type": "markdown",
   "metadata": {},
   "source": [
    "### Работа с пропусками"
   ]
  },
  {
   "cell_type": "code",
   "execution_count": 96,
   "metadata": {},
   "outputs": [
    {
     "name": "stdout",
     "output_type": "stream",
     "text": [
      "1.0     952\n",
      "2.0     950\n",
      "8.0     933\n",
      "3.0     928\n",
      "5.0     927\n",
      "7.0     925\n",
      "4.0     885\n",
      "9.0     882\n",
      "6.0     881\n",
      "10.0    446\n",
      "0.0     382\n",
      "Name: Tenure, dtype: int64\n"
     ]
    },
    {
     "data": {
      "text/html": [
       "<div>\n",
       "<style scoped>\n",
       "    .dataframe tbody tr th:only-of-type {\n",
       "        vertical-align: middle;\n",
       "    }\n",
       "\n",
       "    .dataframe tbody tr th {\n",
       "        vertical-align: top;\n",
       "    }\n",
       "\n",
       "    .dataframe thead th {\n",
       "        text-align: right;\n",
       "    }\n",
       "</style>\n",
       "<table border=\"1\" class=\"dataframe\">\n",
       "  <thead>\n",
       "    <tr style=\"text-align: right;\">\n",
       "      <th></th>\n",
       "      <th>CreditScore</th>\n",
       "      <th>Geography</th>\n",
       "      <th>Gender</th>\n",
       "      <th>Age</th>\n",
       "      <th>Tenure</th>\n",
       "      <th>Balance</th>\n",
       "      <th>NumOfProducts</th>\n",
       "      <th>HasCrCard</th>\n",
       "      <th>IsActiveMember</th>\n",
       "      <th>EstimatedSalary</th>\n",
       "      <th>Exited</th>\n",
       "    </tr>\n",
       "  </thead>\n",
       "  <tbody>\n",
       "    <tr>\n",
       "      <td>30</td>\n",
       "      <td>591</td>\n",
       "      <td>Spain</td>\n",
       "      <td>Female</td>\n",
       "      <td>39</td>\n",
       "      <td>NaN</td>\n",
       "      <td>0.00</td>\n",
       "      <td>3</td>\n",
       "      <td>1</td>\n",
       "      <td>0</td>\n",
       "      <td>140469.38</td>\n",
       "      <td>1</td>\n",
       "    </tr>\n",
       "    <tr>\n",
       "      <td>48</td>\n",
       "      <td>550</td>\n",
       "      <td>Germany</td>\n",
       "      <td>Male</td>\n",
       "      <td>38</td>\n",
       "      <td>NaN</td>\n",
       "      <td>103391.38</td>\n",
       "      <td>1</td>\n",
       "      <td>0</td>\n",
       "      <td>1</td>\n",
       "      <td>90878.13</td>\n",
       "      <td>0</td>\n",
       "    </tr>\n",
       "    <tr>\n",
       "      <td>51</td>\n",
       "      <td>585</td>\n",
       "      <td>Germany</td>\n",
       "      <td>Male</td>\n",
       "      <td>36</td>\n",
       "      <td>NaN</td>\n",
       "      <td>146050.97</td>\n",
       "      <td>2</td>\n",
       "      <td>0</td>\n",
       "      <td>0</td>\n",
       "      <td>86424.57</td>\n",
       "      <td>0</td>\n",
       "    </tr>\n",
       "    <tr>\n",
       "      <td>53</td>\n",
       "      <td>655</td>\n",
       "      <td>Germany</td>\n",
       "      <td>Male</td>\n",
       "      <td>41</td>\n",
       "      <td>NaN</td>\n",
       "      <td>125561.97</td>\n",
       "      <td>1</td>\n",
       "      <td>0</td>\n",
       "      <td>0</td>\n",
       "      <td>164040.94</td>\n",
       "      <td>1</td>\n",
       "    </tr>\n",
       "    <tr>\n",
       "      <td>60</td>\n",
       "      <td>742</td>\n",
       "      <td>Germany</td>\n",
       "      <td>Male</td>\n",
       "      <td>35</td>\n",
       "      <td>NaN</td>\n",
       "      <td>136857.00</td>\n",
       "      <td>1</td>\n",
       "      <td>0</td>\n",
       "      <td>0</td>\n",
       "      <td>84509.57</td>\n",
       "      <td>0</td>\n",
       "    </tr>\n",
       "    <tr>\n",
       "      <td>...</td>\n",
       "      <td>...</td>\n",
       "      <td>...</td>\n",
       "      <td>...</td>\n",
       "      <td>...</td>\n",
       "      <td>...</td>\n",
       "      <td>...</td>\n",
       "      <td>...</td>\n",
       "      <td>...</td>\n",
       "      <td>...</td>\n",
       "      <td>...</td>\n",
       "      <td>...</td>\n",
       "    </tr>\n",
       "    <tr>\n",
       "      <td>9944</td>\n",
       "      <td>744</td>\n",
       "      <td>Germany</td>\n",
       "      <td>Male</td>\n",
       "      <td>41</td>\n",
       "      <td>NaN</td>\n",
       "      <td>190409.34</td>\n",
       "      <td>2</td>\n",
       "      <td>1</td>\n",
       "      <td>1</td>\n",
       "      <td>138361.48</td>\n",
       "      <td>0</td>\n",
       "    </tr>\n",
       "    <tr>\n",
       "      <td>9956</td>\n",
       "      <td>520</td>\n",
       "      <td>France</td>\n",
       "      <td>Female</td>\n",
       "      <td>46</td>\n",
       "      <td>NaN</td>\n",
       "      <td>85216.61</td>\n",
       "      <td>1</td>\n",
       "      <td>1</td>\n",
       "      <td>0</td>\n",
       "      <td>117369.52</td>\n",
       "      <td>1</td>\n",
       "    </tr>\n",
       "    <tr>\n",
       "      <td>9964</td>\n",
       "      <td>479</td>\n",
       "      <td>France</td>\n",
       "      <td>Male</td>\n",
       "      <td>34</td>\n",
       "      <td>NaN</td>\n",
       "      <td>117593.48</td>\n",
       "      <td>2</td>\n",
       "      <td>0</td>\n",
       "      <td>0</td>\n",
       "      <td>113308.29</td>\n",
       "      <td>0</td>\n",
       "    </tr>\n",
       "    <tr>\n",
       "      <td>9985</td>\n",
       "      <td>659</td>\n",
       "      <td>France</td>\n",
       "      <td>Male</td>\n",
       "      <td>36</td>\n",
       "      <td>NaN</td>\n",
       "      <td>123841.49</td>\n",
       "      <td>2</td>\n",
       "      <td>1</td>\n",
       "      <td>0</td>\n",
       "      <td>96833.00</td>\n",
       "      <td>0</td>\n",
       "    </tr>\n",
       "    <tr>\n",
       "      <td>9999</td>\n",
       "      <td>792</td>\n",
       "      <td>France</td>\n",
       "      <td>Female</td>\n",
       "      <td>28</td>\n",
       "      <td>NaN</td>\n",
       "      <td>130142.79</td>\n",
       "      <td>1</td>\n",
       "      <td>1</td>\n",
       "      <td>0</td>\n",
       "      <td>38190.78</td>\n",
       "      <td>0</td>\n",
       "    </tr>\n",
       "  </tbody>\n",
       "</table>\n",
       "<p>909 rows × 11 columns</p>\n",
       "</div>"
      ],
      "text/plain": [
       "      CreditScore Geography  Gender  Age  Tenure    Balance  NumOfProducts  \\\n",
       "30            591     Spain  Female   39     NaN       0.00              3   \n",
       "48            550   Germany    Male   38     NaN  103391.38              1   \n",
       "51            585   Germany    Male   36     NaN  146050.97              2   \n",
       "53            655   Germany    Male   41     NaN  125561.97              1   \n",
       "60            742   Germany    Male   35     NaN  136857.00              1   \n",
       "...           ...       ...     ...  ...     ...        ...            ...   \n",
       "9944          744   Germany    Male   41     NaN  190409.34              2   \n",
       "9956          520    France  Female   46     NaN   85216.61              1   \n",
       "9964          479    France    Male   34     NaN  117593.48              2   \n",
       "9985          659    France    Male   36     NaN  123841.49              2   \n",
       "9999          792    France  Female   28     NaN  130142.79              1   \n",
       "\n",
       "      HasCrCard  IsActiveMember  EstimatedSalary  Exited  \n",
       "30            1               0        140469.38       1  \n",
       "48            0               1         90878.13       0  \n",
       "51            0               0         86424.57       0  \n",
       "53            0               0        164040.94       1  \n",
       "60            0               0         84509.57       0  \n",
       "...         ...             ...              ...     ...  \n",
       "9944          1               1        138361.48       0  \n",
       "9956          1               0        117369.52       1  \n",
       "9964          0               0        113308.29       0  \n",
       "9985          1               0         96833.00       0  \n",
       "9999          1               0         38190.78       0  \n",
       "\n",
       "[909 rows x 11 columns]"
      ]
     },
     "execution_count": 96,
     "metadata": {},
     "output_type": "execute_result"
    }
   ],
   "source": [
    "# изучим природу пропусков \n",
    "print(data['Tenure'].value_counts())\n",
    "data.query('Tenure == \"Nan\"')"
   ]
  },
  {
   "cell_type": "markdown",
   "metadata": {},
   "source": [
    "Сложно сказать, чем заменить пропуски в данной датасете. Правильнее всего было бы уточнить у заказчика. Явной замены здесь нет, обьекты с пропусками разнообразны по признакам. Отбросить 10% данных из-за одного пропуска тоже не уместно. Наиболее вероятная замена 0. Скорее всего это клиенты, которые в банке меньше года.\n"
   ]
  },
  {
   "cell_type": "code",
   "execution_count": 97,
   "metadata": {},
   "outputs": [],
   "source": [
    "data['Tenure']= data['Tenure'].fillna(0)"
   ]
  },
  {
   "cell_type": "markdown",
   "metadata": {},
   "source": [
    "### Подготовка данных для модели (прямое кодирование, деление выборок, мастабирование)"
   ]
  },
  {
   "cell_type": "code",
   "execution_count": 98,
   "metadata": {},
   "outputs": [],
   "source": [
    "data_new = pd.get_dummies(data, drop_first=True)"
   ]
  },
  {
   "cell_type": "markdown",
   "metadata": {},
   "source": [
    "Также числовые признаки выражены в разных масштабах, к примеру, balance может измеряться в сотнях тысячах, тогда как возраст это цифра двузначная. Применим мастабирование к датасету. Но сначала паделим его на обучающую, валидационную и тестовую выборки."
   ]
  },
  {
   "cell_type": "code",
   "execution_count": 99,
   "metadata": {},
   "outputs": [
    {
     "data": {
      "text/plain": [
       "((6000, 11), (2000, 11), (2000, 11))"
      ]
     },
     "execution_count": 99,
     "metadata": {},
     "output_type": "execute_result"
    }
   ],
   "source": [
    "features = data_new.drop('Exited', axis=1)\n",
    "target = data_new['Exited']\n",
    "\n",
    "features_train, features_rest, target_train, target_rest = train_test_split(features, target, test_size=0.4, random_state=100)\n",
    "features_valid, features_test, target_valid, target_test = train_test_split(features_rest, target_rest, test_size=0.5, random_state=100)\n",
    "\n",
    "#проверим размер\n",
    "features_train.shape, features_valid.shape, features_test.shape"
   ]
  },
  {
   "cell_type": "code",
   "execution_count": 100,
   "metadata": {},
   "outputs": [],
   "source": [
    "# переходим к масштабированию\n",
    "numeric = ['CreditScore', 'Age', 'Tenure', 'Balance', 'NumOfProducts', 'HasCrCard', 'IsActiveMember', 'EstimatedSalary']\n",
    "scale = StandardScaler()\n",
    "scale.fit(features_train[numeric])\n",
    "\n",
    "\n",
    "features_train[numeric] = scale.transform(features_train[numeric])\n",
    "features_valid[numeric] = scale.transform(features_valid[numeric])\n",
    "features_test[numeric]= scale.transform(features_test[numeric])"
   ]
  },
  {
   "cell_type": "markdown",
   "metadata": {},
   "source": [
    "Данные готовы для обучения и оценивания моделей."
   ]
  },
  {
   "cell_type": "markdown",
   "metadata": {},
   "source": [
    "## Исследование задачи"
   ]
  },
  {
   "cell_type": "markdown",
   "metadata": {},
   "source": [
    "###  Изучение моделей при дисбалансе"
   ]
  },
  {
   "cell_type": "code",
   "execution_count": 101,
   "metadata": {},
   "outputs": [
    {
     "data": {
      "text/plain": [
       "0.2037"
      ]
     },
     "execution_count": 101,
     "metadata": {},
     "output_type": "execute_result"
    }
   ],
   "source": [
    "# узнаем долю по оттоку клиентов\n",
    "sum(data['Exited'])/len(data_new)\n"
   ]
  },
  {
   "cell_type": "markdown",
   "metadata": {},
   "source": [
    "Всего лишь 20% выборки имеет положительный ответ, скорее всего этого будет мало, чтобы получить качественную модель. Однако изучим, сначала как того требует проект, модели на несбалансированной выборке."
   ]
  },
  {
   "cell_type": "code",
   "execution_count": 102,
   "metadata": {},
   "outputs": [
    {
     "data": {
      "text/plain": [
       "(0.5766312594840667, 7)"
      ]
     },
     "execution_count": 102,
     "metadata": {},
     "output_type": "execute_result"
    }
   ],
   "source": [
    "#дерево решений\n",
    "best_result=0\n",
    "best_depth=0\n",
    "for i in range(1,15):\n",
    "    model = DecisionTreeClassifier(random_state=100, max_depth=i)\n",
    "    model.fit(features_train,target_train)\n",
    "    predictions = model.predict(features_valid)\n",
    "    result= f1_score(target_valid, predictions)\n",
    "    if result>best_result:\n",
    "        best_result= result\n",
    "        best_depth=i\n",
    "        \n",
    "best_result, best_depth "
   ]
  },
  {
   "cell_type": "markdown",
   "metadata": {},
   "source": [
    "Лучший результат дерева решений при глубине 7. Метрика на приемлимом уровне."
   ]
  },
  {
   "cell_type": "code",
   "execution_count": 103,
   "metadata": {},
   "outputs": [
    {
     "data": {
      "text/plain": [
       "(0.6070287539936102, 12, 60)"
      ]
     },
     "execution_count": 103,
     "metadata": {},
     "output_type": "execute_result"
    }
   ],
   "source": [
    "# случайный лес\n",
    "best_result=0\n",
    "best_depth=0\n",
    "best_estimators = 0\n",
    "for i in range(1,15):\n",
    "    for a in range(10,80,10):\n",
    "        model = RandomForestClassifier(random_state=100, max_depth=i, n_estimators=a)\n",
    "        model.fit(features_train,target_train)\n",
    "        predictions = model.predict(features_valid)\n",
    "        result= f1_score(target_valid, predictions)\n",
    "        if result>best_result:\n",
    "            best_result= result\n",
    "            best_depth=i\n",
    "            best_estimators =a\n",
    "        \n",
    "best_result, best_depth, best_estimators"
   ]
  },
  {
   "cell_type": "markdown",
   "metadata": {},
   "source": [
    "Лучший результат случайного леса при глубине 12 и количестве деревьев 60. Результат f1 уже на приемлимом уровне - 0,61."
   ]
  },
  {
   "cell_type": "code",
   "execution_count": 104,
   "metadata": {},
   "outputs": [
    {
     "data": {
      "text/plain": [
       "0.3074003795066414"
      ]
     },
     "execution_count": 104,
     "metadata": {},
     "output_type": "execute_result"
    }
   ],
   "source": [
    "#логистическая регрессия\n",
    "\n",
    "model = LogisticRegression(random_state=100, solver='liblinear')\n",
    "model.fit(features_train,target_train)\n",
    "predictions = model.predict(features_valid)\n",
    "result= f1_score(target_valid, predictions)\n",
    "result"
   ]
  },
  {
   "cell_type": "markdown",
   "metadata": {},
   "source": [
    "У логистической регрессии худший показатель."
   ]
  },
  {
   "cell_type": "markdown",
   "metadata": {},
   "source": [
    "## Борьба с дисбалансом"
   ]
  },
  {
   "cell_type": "markdown",
   "metadata": {},
   "source": [
    "###  Балансирование моделей c гиперпараметром class_weight"
   ]
  },
  {
   "cell_type": "code",
   "execution_count": 105,
   "metadata": {},
   "outputs": [
    {
     "data": {
      "text/plain": [
       "0.5119152691968225"
      ]
     },
     "execution_count": 105,
     "metadata": {},
     "output_type": "execute_result"
    }
   ],
   "source": [
    "# посмотрим как поменяются результаты, если сбалансировать классы\n",
    "# начнем с гиперпараметра class_weight\n",
    "#логистическая регрессия\n",
    "model = LogisticRegression(random_state=100, solver='liblinear', class_weight='balanced')\n",
    "model.fit(features_train,target_train)\n",
    "predictions = model.predict(features_valid)\n",
    "result= f1_score(target_valid, predictions)\n",
    "result\n"
   ]
  },
  {
   "cell_type": "markdown",
   "metadata": {},
   "source": [
    "Все же резузьтат логистической регрессии оставляет желать лучшего. Ее дальше проверять нет смысла."
   ]
  },
  {
   "cell_type": "code",
   "execution_count": 106,
   "metadata": {},
   "outputs": [
    {
     "data": {
      "text/plain": [
       "(0.5720620842572062, 8)"
      ]
     },
     "execution_count": 106,
     "metadata": {},
     "output_type": "execute_result"
    }
   ],
   "source": [
    "#дерево решений\n",
    "best_result=0\n",
    "best_depth=0\n",
    "for i in range(1,15):\n",
    "    model = DecisionTreeClassifier(random_state=100, max_depth=i, class_weight='balanced')\n",
    "    model.fit(features_train,target_train)\n",
    "    predictions = model.predict(features_valid)\n",
    "    result= f1_score(target_valid, predictions)\n",
    "    if result>best_result:\n",
    "        best_result= result\n",
    "        best_depth=i        \n",
    "\n",
    "best_result, best_depth"
   ]
  },
  {
   "cell_type": "markdown",
   "metadata": {},
   "source": [
    "Удивительно, но меткрика f1 немного сократилась у дерева решений. Хотя бы уже нет ошибок про 0 f1. Значит другие варианты в цикле в целом улучшились, но мы все таки ищем лучшую модель."
   ]
  },
  {
   "cell_type": "code",
   "execution_count": 107,
   "metadata": {},
   "outputs": [
    {
     "data": {
      "text/plain": [
       "(0.6281407035175879, 10, 60)"
      ]
     },
     "execution_count": 107,
     "metadata": {},
     "output_type": "execute_result"
    }
   ],
   "source": [
    "# случайный лес\n",
    "best_result=0\n",
    "best_depth=0\n",
    "best_estimators = 0\n",
    "for i in range(1,15):\n",
    "    for a in range(10,80,10):\n",
    "        model = RandomForestClassifier(random_state=100, max_depth=i, n_estimators=a, class_weight='balanced')\n",
    "        model.fit(features_train,target_train)\n",
    "        predictions = model.predict(features_valid)\n",
    "        result= f1_score(target_valid, predictions)\n",
    "        if result>best_result:\n",
    "            best_result= result\n",
    "            best_depth=i\n",
    "            best_estimators =a\n",
    "        \n",
    "best_result, best_depth, best_estimators"
   ]
  },
  {
   "cell_type": "markdown",
   "metadata": {},
   "source": [
    "Случайному лесу балансировка классов пошла явно на пользу. Ушли ошибки 0 f1 метрики. Показатель метрики стал лучше и достиг 0,63."
   ]
  },
  {
   "cell_type": "markdown",
   "metadata": {},
   "source": [
    "### Балансирование моделей методом увеличения выборки"
   ]
  },
  {
   "cell_type": "code",
   "execution_count": 130,
   "metadata": {},
   "outputs": [],
   "source": [
    "# создадим выборки с  увеличеными положительными ответами\n",
    "features_train_0 = features_train[target_train==0]\n",
    "features_train_1 = features_train[target_train==1]\n",
    "target_train_0 = target_train[target_train==0]\n",
    "target_train_1 = target_train[target_train==1]\n",
    "\n",
    "target_up = pd.concat([target_train_0]+[target_train_1]*5)\n",
    "features_up = pd.concat([features_train_0]+[features_train_1]*5)\n",
    "\n",
    "features_up, target_up = shuffle(features_up, target_up, random_state=100)\n"
   ]
  },
  {
   "cell_type": "code",
   "execution_count": 131,
   "metadata": {},
   "outputs": [
    {
     "data": {
      "text/plain": [
       "(0.550408719346049, 5)"
      ]
     },
     "execution_count": 131,
     "metadata": {},
     "output_type": "execute_result"
    }
   ],
   "source": [
    "#дерево решений\n",
    "best_result=0\n",
    "best_depth=0\n",
    "for i in range(1,15):\n",
    "    model = DecisionTreeClassifier(random_state=100, max_depth=i)\n",
    "    model.fit(features_up, target_up)\n",
    "    predictions = model.predict(features_valid)\n",
    "    result= f1_score(target_valid, predictions)\n",
    "    if result>best_result:\n",
    "        best_result= result\n",
    "        best_depth=i        \n",
    "\n",
    "best_result, best_depth"
   ]
  },
  {
   "cell_type": "markdown",
   "metadata": {},
   "source": [
    "Дерево стало хуже предсказывать при таком подходе."
   ]
  },
  {
   "cell_type": "code",
   "execution_count": 132,
   "metadata": {},
   "outputs": [
    {
     "data": {
      "text/plain": [
       "(0.6253101736972706, 13, 50)"
      ]
     },
     "execution_count": 132,
     "metadata": {},
     "output_type": "execute_result"
    }
   ],
   "source": [
    "# случайный лес\n",
    "best_result=0\n",
    "best_depth=0\n",
    "best_estimators = 0\n",
    "for i in range(1,15):\n",
    "    for a in range(10,80,10):\n",
    "        model = RandomForestClassifier(random_state=100, max_depth=i, n_estimators=a)\n",
    "        model.fit(features_up, target_up)\n",
    "        predictions = model.predict(features_valid)\n",
    "        result= f1_score(target_valid, predictions)\n",
    "        if result>best_result:\n",
    "            best_result= result\n",
    "            best_depth=i\n",
    "            best_estimators =a\n",
    "        \n",
    "best_result, best_depth, best_estimators"
   ]
  },
  {
   "cell_type": "markdown",
   "metadata": {},
   "source": [
    "Лес тоже стал хуже предсказывать при увеличение выборки."
   ]
  },
  {
   "cell_type": "markdown",
   "metadata": {},
   "source": [
    "### Балансирование моделей методом уменьшения выборки"
   ]
  },
  {
   "cell_type": "code",
   "execution_count": 136,
   "metadata": {},
   "outputs": [],
   "source": [
    "# создадим выборки с уменьшенными отрицательными  ответами\n",
    "target_down = pd.concat([target_train_0.sample(frac=0.4, random_state=100)]+[target_train_1])\n",
    "features_down = pd.concat([features_train_0.sample(frac=0.4, random_state=100)]+[features_train_1])\n",
    "\n",
    "features_down, target_down = shuffle(features_down, target_down, random_state=100)\n"
   ]
  },
  {
   "cell_type": "code",
   "execution_count": 137,
   "metadata": {},
   "outputs": [
    {
     "data": {
      "text/plain": [
       "(0.5746835443037974, 6)"
      ]
     },
     "execution_count": 137,
     "metadata": {},
     "output_type": "execute_result"
    }
   ],
   "source": [
    "#дерево решений\n",
    "best_result=0\n",
    "best_depth=0\n",
    "for i in range(1,15):\n",
    "    model = DecisionTreeClassifier(random_state=100, max_depth=i)\n",
    "    model.fit(features_down, target_down)\n",
    "    predictions = model.predict(features_valid)\n",
    "    result= f1_score(target_valid, predictions)\n",
    "    if result>best_result:\n",
    "        best_result= result\n",
    "        best_depth=i        \n",
    "\n",
    "best_result, best_depth"
   ]
  },
  {
   "cell_type": "markdown",
   "metadata": {},
   "source": [
    "Для дерева данный метод оказался лучшим. проверим его на случайном лесе."
   ]
  },
  {
   "cell_type": "code",
   "execution_count": 138,
   "metadata": {},
   "outputs": [
    {
     "data": {
      "text/plain": [
       "(0.6355382619974059, 9, 70)"
      ]
     },
     "execution_count": 138,
     "metadata": {},
     "output_type": "execute_result"
    }
   ],
   "source": [
    "# случайный лес\n",
    "best_result=0\n",
    "best_depth=0\n",
    "best_estimators = 0\n",
    "for i in range(1,15):\n",
    "    for a in range(10,80,10):\n",
    "        model = RandomForestClassifier(random_state=100, max_depth=i, n_estimators=a)\n",
    "        model.fit(features_down, target_down)\n",
    "        predictions = model.predict(features_valid)\n",
    "        result= f1_score(target_valid, predictions)\n",
    "        if result>best_result:\n",
    "            best_result= result\n",
    "            best_depth=i\n",
    "            best_estimators =a\n",
    "        \n",
    "best_result, best_depth, best_estimators"
   ]
  },
  {
   "cell_type": "markdown",
   "metadata": {},
   "source": [
    "Данный метод оказался самым лучшим и для случайного леса, дава самый высокий показатель метрики f1. Данную модель будем использовать как итоговый вариант."
   ]
  },
  {
   "cell_type": "markdown",
   "metadata": {},
   "source": [
    "## Тестирование модели"
   ]
  },
  {
   "cell_type": "code",
   "execution_count": 140,
   "metadata": {},
   "outputs": [],
   "source": [
    "# собираем воедино обучающую и валидационную выборку\n",
    "features_trainvalid = pd.concat([features_train] + [features_valid])\n",
    "target_trainvalid = pd.concat([target_train] + [target_valid])\n",
    "\n",
    "# уменьшаем выборку (да понимаю тут функция бы и пригодилась, но быстрее уже ручками будет:)\n",
    "features_trainvalid_0 = features_trainvalid[target_trainvalid==0]\n",
    "features_trainvalid_1 = features_trainvalid[target_trainvalid==1]\n",
    "target_trainvalid_0 = target_trainvalid[target_trainvalid==0]\n",
    "target_trainvalid_1 = target_trainvalid[target_trainvalid==1]\n",
    "\n",
    "target_trainvalid_down = pd.concat([target_trainvalid_0.sample(frac=0.4, random_state=100)]+[target_trainvalid_1])\n",
    "features_trainvalid_down = pd.concat([features_trainvalid_0.sample(frac=0.4, random_state=100)]+[features_trainvalid_1])\n",
    "\n",
    "features_trainvalid_down, target_trainvalid_down = shuffle(features_trainvalid_down, target_trainvalid_down, random_state=100)\n"
   ]
  },
  {
   "cell_type": "code",
   "execution_count": 141,
   "metadata": {},
   "outputs": [
    {
     "data": {
      "text/plain": [
       "0.6031746031746033"
      ]
     },
     "execution_count": 141,
     "metadata": {},
     "output_type": "execute_result"
    }
   ],
   "source": [
    "# тестируем итоговую модель\n",
    "model = RandomForestClassifier(random_state=100, max_depth=11, n_estimators=30)\n",
    "model.fit(features_trainvalid_down, target_trainvalid_down)\n",
    "predictions = model.predict(features_test)\n",
    "result= f1_score(target_test, predictions)\n",
    "\n",
    "result"
   ]
  },
  {
   "cell_type": "markdown",
   "metadata": {},
   "source": [
    "Модель прошла тест метрика f1 = 0.6032. Посмотрим результат метрики AUC-ROC для этой модели."
   ]
  },
  {
   "cell_type": "code",
   "execution_count": 142,
   "metadata": {},
   "outputs": [
    {
     "data": {
      "text/plain": [
       "0.8496111864164944"
      ]
     },
     "execution_count": 142,
     "metadata": {},
     "output_type": "execute_result"
    }
   ],
   "source": [
    "predictions_proba = model.predict_proba(features_test)\n",
    "auc = roc_auc_score(target_test, predictions_proba[:,1])\n",
    "auc"
   ]
  },
  {
   "cell_type": "markdown",
   "metadata": {},
   "source": [
    "Метрика составляет 0,8496 что явно лучше результата случайной модели, у которой метрика равняется 0,5. значит данная модель обладает высоким качеством. Она не совершенна, но данное значение говорит, что она часто угадывает истенно положительные ответы и нечасто дает ложно положительные."
   ]
  },
  {
   "cell_type": "code",
   "execution_count": 143,
   "metadata": {},
   "outputs": [
    {
     "data": {
      "text/plain": [
       "([0, 1, 2, 3, 4, 5, 6, 7, 8, 9, 10], <a list of 11 Text xticklabel objects>)"
      ]
     },
     "execution_count": 143,
     "metadata": {},
     "output_type": "execute_result"
    },
    {
     "data": {
      "image/png": "[encoded data removed]",
      "text/plain": [
       "<Figure size 432x288 with 1 Axes>"
      ]
     },
     "metadata": {
      "needs_background": "light"
     },
     "output_type": "display_data"
    }
   ],
   "source": [
    "model = RandomForestClassifier(random_state=100, max_depth=11, n_estimators=30)\n",
    "model.fit(features_up, target_up)\n",
    "imp=pd.Series(model.feature_importances_, index=features_train.columns)\n",
    "\n",
    "plt.figsize=(30,20)\n",
    "plt.bar(imp.index, imp)\n",
    "plt.xticks(rotation=90)"
   ]
  },
  {
   "cell_type": "markdown",
   "metadata": {},
   "source": [
    "## Итоговый вывод"
   ]
  },
  {
   "cell_type": "markdown",
   "metadata": {},
   "source": [
    "Лучшей моделью с наибольшей метрикой f1 (0.5993) стала модель случайного леса, которая была обучена на выборке методом увеличения положительных ответов. Лучшие гиперпараметры этой модели: глубина -11 и количество деревьев - 30. AUC-ROC данной модели тоже достаточно высок, что дает большую уверенность в работе данной модели.\n"
   ]
  }
 ],
 "metadata": {
  "ExecuteTimeLog": [
   {
    "duration": 1456,
    "start_time": "2022-02-14T06:23:37.870Z"
   },
   {
    "duration": 285,
    "start_time": "2022-02-14T06:25:24.114Z"
   },
   {
    "duration": 4,
    "start_time": "2022-02-14T06:25:33.916Z"
   },
   {
    "duration": 358,
    "start_time": "2022-02-14T06:30:22.788Z"
   },
   {
    "duration": 45,
    "start_time": "2022-02-14T06:30:28.699Z"
   },
   {
    "duration": 230,
    "start_time": "2022-02-14T06:34:14.039Z"
   },
   {
    "duration": 749,
    "start_time": "2022-02-14T06:40:23.883Z"
   },
   {
    "duration": 68,
    "start_time": "2022-02-14T06:40:45.915Z"
   },
   {
    "duration": 32,
    "start_time": "2022-02-14T06:41:03.578Z"
   },
   {
    "duration": 202,
    "start_time": "2022-02-14T06:43:01.251Z"
   },
   {
    "duration": 277,
    "start_time": "2022-02-14T06:44:23.707Z"
   },
   {
    "duration": 288,
    "start_time": "2022-02-14T06:45:04.683Z"
   },
   {
    "duration": 282,
    "start_time": "2022-02-14T06:46:00.282Z"
   },
   {
    "duration": 277,
    "start_time": "2022-02-14T06:46:07.242Z"
   },
   {
    "duration": 3,
    "start_time": "2022-02-14T06:47:29.890Z"
   },
   {
    "duration": 411,
    "start_time": "2022-02-14T06:47:44.210Z"
   },
   {
    "duration": 10,
    "start_time": "2022-02-14T06:50:01.426Z"
   },
   {
    "duration": 270,
    "start_time": "2022-02-14T07:05:00.535Z"
   },
   {
    "duration": 13,
    "start_time": "2022-02-14T07:05:31.095Z"
   },
   {
    "duration": -19,
    "start_time": "2022-02-14T07:40:54.460Z"
   },
   {
    "duration": 6830,
    "start_time": "2022-02-14T07:41:19.978Z"
   },
   {
    "duration": 4,
    "start_time": "2022-02-14T07:41:42.427Z"
   },
   {
    "duration": 5,
    "start_time": "2022-02-14T07:41:49.890Z"
   },
   {
    "duration": 674,
    "start_time": "2022-02-14T07:49:55.306Z"
   },
   {
    "duration": 280,
    "start_time": "2022-02-14T07:50:05.361Z"
   },
   {
    "duration": 109,
    "start_time": "2022-02-14T07:53:10.777Z"
   },
   {
    "duration": 23,
    "start_time": "2022-02-14T07:53:42.682Z"
   },
   {
    "duration": 24,
    "start_time": "2022-02-14T07:59:28.457Z"
   },
   {
    "duration": 268,
    "start_time": "2022-02-14T08:00:25.433Z"
   },
   {
    "duration": 25,
    "start_time": "2022-02-14T08:00:32.992Z"
   },
   {
    "duration": 6,
    "start_time": "2022-02-14T08:11:38.456Z"
   },
   {
    "duration": 4,
    "start_time": "2022-02-14T08:12:54.147Z"
   },
   {
    "duration": 37,
    "start_time": "2022-02-14T08:12:54.153Z"
   },
   {
    "duration": 8,
    "start_time": "2022-02-14T08:12:54.192Z"
   },
   {
    "duration": 28,
    "start_time": "2022-02-14T08:12:54.202Z"
   },
   {
    "duration": 6,
    "start_time": "2022-02-14T08:12:54.231Z"
   },
   {
    "duration": 221,
    "start_time": "2022-02-14T08:12:54.239Z"
   },
   {
    "duration": 299,
    "start_time": "2022-02-14T08:12:54.462Z"
   },
   {
    "duration": 14,
    "start_time": "2022-02-14T08:12:54.762Z"
   },
   {
    "duration": 5,
    "start_time": "2022-02-14T08:12:54.778Z"
   },
   {
    "duration": 333,
    "start_time": "2022-02-14T08:12:54.784Z"
   },
   {
    "duration": 4,
    "start_time": "2022-02-14T08:13:26.776Z"
   },
   {
    "duration": 4,
    "start_time": "2022-02-14T08:13:29.955Z"
   },
   {
    "duration": 37,
    "start_time": "2022-02-14T08:13:29.960Z"
   },
   {
    "duration": 10,
    "start_time": "2022-02-14T08:13:29.999Z"
   },
   {
    "duration": 34,
    "start_time": "2022-02-14T08:13:30.011Z"
   },
   {
    "duration": 4,
    "start_time": "2022-02-14T08:13:30.046Z"
   },
   {
    "duration": 216,
    "start_time": "2022-02-14T08:13:30.052Z"
   },
   {
    "duration": 306,
    "start_time": "2022-02-14T08:13:30.270Z"
   },
   {
    "duration": 28,
    "start_time": "2022-02-14T08:13:30.578Z"
   },
   {
    "duration": 5,
    "start_time": "2022-02-14T08:13:30.608Z"
   },
   {
    "duration": 608,
    "start_time": "2022-02-14T08:13:30.615Z"
   },
   {
    "duration": 92,
    "start_time": "2022-02-14T08:16:02.888Z"
   },
   {
    "duration": 690,
    "start_time": "2022-02-14T08:16:37.984Z"
   },
   {
    "duration": 695,
    "start_time": "2022-02-14T08:16:44.056Z"
   },
   {
    "duration": 1148,
    "start_time": "2022-02-14T08:19:05.299Z"
   },
   {
    "duration": 44,
    "start_time": "2022-02-14T08:19:06.450Z"
   },
   {
    "duration": 10,
    "start_time": "2022-02-14T08:19:06.496Z"
   },
   {
    "duration": 26,
    "start_time": "2022-02-14T08:19:06.509Z"
   },
   {
    "duration": 4,
    "start_time": "2022-02-14T08:19:06.536Z"
   },
   {
    "duration": 239,
    "start_time": "2022-02-14T08:19:06.541Z"
   },
   {
    "duration": 321,
    "start_time": "2022-02-14T08:19:06.782Z"
   },
   {
    "duration": 13,
    "start_time": "2022-02-14T08:19:07.104Z"
   },
   {
    "duration": 4,
    "start_time": "2022-02-14T08:19:07.120Z"
   },
   {
    "duration": 606,
    "start_time": "2022-02-14T08:19:07.126Z"
   },
   {
    "duration": 84,
    "start_time": "2022-02-14T08:21:23.146Z"
   },
   {
    "duration": 97,
    "start_time": "2022-02-14T08:22:44.768Z"
   },
   {
    "duration": 137598,
    "start_time": "2022-02-14T08:22:50.960Z"
   },
   {
    "duration": 613,
    "start_time": "2022-02-14T08:31:44.904Z"
   },
   {
    "duration": 397,
    "start_time": "2022-02-14T08:36:15.750Z"
   },
   {
    "duration": 1679,
    "start_time": "2022-02-14T08:36:29.774Z"
   },
   {
    "duration": 67,
    "start_time": "2022-02-14T08:36:43.438Z"
   },
   {
    "duration": 107,
    "start_time": "2022-02-14T08:40:19.294Z"
   },
   {
    "duration": 575,
    "start_time": "2022-02-14T08:41:38.814Z"
   },
   {
    "duration": 1183,
    "start_time": "2022-02-14T08:47:07.776Z"
   },
   {
    "duration": 46,
    "start_time": "2022-02-14T08:47:08.961Z"
   },
   {
    "duration": 8,
    "start_time": "2022-02-14T08:47:09.010Z"
   },
   {
    "duration": 28,
    "start_time": "2022-02-14T08:47:09.021Z"
   },
   {
    "duration": 4,
    "start_time": "2022-02-14T08:47:09.051Z"
   },
   {
    "duration": 251,
    "start_time": "2022-02-14T08:47:09.057Z"
   },
   {
    "duration": 337,
    "start_time": "2022-02-14T08:47:09.310Z"
   },
   {
    "duration": 13,
    "start_time": "2022-02-14T08:47:09.649Z"
   },
   {
    "duration": 5,
    "start_time": "2022-02-14T08:47:09.665Z"
   },
   {
    "duration": 638,
    "start_time": "2022-02-14T08:47:09.672Z"
   },
   {
    "duration": 104,
    "start_time": "2022-02-14T08:48:16.595Z"
   },
   {
    "duration": 104,
    "start_time": "2022-02-14T08:48:16.701Z"
   },
   {
    "duration": 795,
    "start_time": "2022-02-14T08:48:16.808Z"
   },
   {
    "duration": 1139,
    "start_time": "2022-02-14T08:49:15.176Z"
   },
   {
    "duration": 48,
    "start_time": "2022-02-14T08:49:16.317Z"
   },
   {
    "duration": 11,
    "start_time": "2022-02-14T08:49:16.367Z"
   },
   {
    "duration": 40,
    "start_time": "2022-02-14T08:49:16.381Z"
   },
   {
    "duration": 4,
    "start_time": "2022-02-14T08:49:16.422Z"
   },
   {
    "duration": 231,
    "start_time": "2022-02-14T08:49:16.428Z"
   },
   {
    "duration": 319,
    "start_time": "2022-02-14T08:49:16.661Z"
   },
   {
    "duration": 22,
    "start_time": "2022-02-14T08:49:16.982Z"
   },
   {
    "duration": 5,
    "start_time": "2022-02-14T08:49:17.007Z"
   },
   {
    "duration": 388,
    "start_time": "2022-02-14T08:49:17.014Z"
   },
   {
    "duration": 40886,
    "start_time": "2022-02-14T08:49:17.404Z"
   },
   {
    "duration": 21,
    "start_time": "2022-02-14T08:49:58.292Z"
   },
   {
    "duration": 186,
    "start_time": "2022-02-14T08:49:58.315Z"
   },
   {
    "duration": 668,
    "start_time": "2022-02-14T08:49:58.504Z"
   },
   {
    "duration": 63376,
    "start_time": "2022-02-14T08:49:59.174Z"
   },
   {
    "duration": 29,
    "start_time": "2022-02-14T08:51:19.221Z"
   },
   {
    "duration": 316,
    "start_time": "2022-02-14T08:52:12.821Z"
   },
   {
    "duration": 303,
    "start_time": "2022-02-14T08:52:29.485Z"
   },
   {
    "duration": 372,
    "start_time": "2022-02-14T08:52:37.628Z"
   },
   {
    "duration": 399,
    "start_time": "2022-02-14T09:25:17.963Z"
   },
   {
    "duration": 275,
    "start_time": "2022-02-14T09:25:27.779Z"
   },
   {
    "duration": 5,
    "start_time": "2022-02-14T09:25:38.842Z"
   },
   {
    "duration": 13,
    "start_time": "2022-02-14T09:25:46.907Z"
   },
   {
    "duration": 4,
    "start_time": "2022-02-14T09:25:50.350Z"
   },
   {
    "duration": 40,
    "start_time": "2022-02-14T09:25:50.356Z"
   },
   {
    "duration": 8,
    "start_time": "2022-02-14T09:25:50.399Z"
   },
   {
    "duration": 7,
    "start_time": "2022-02-14T09:25:50.409Z"
   },
   {
    "duration": 32,
    "start_time": "2022-02-14T09:25:50.418Z"
   },
   {
    "duration": 4,
    "start_time": "2022-02-14T09:25:50.452Z"
   },
   {
    "duration": 16,
    "start_time": "2022-02-14T09:25:50.457Z"
   },
   {
    "duration": 27,
    "start_time": "2022-02-14T09:25:50.476Z"
   },
   {
    "duration": 12,
    "start_time": "2022-02-14T09:25:50.505Z"
   },
   {
    "duration": 31,
    "start_time": "2022-02-14T09:25:50.519Z"
   },
   {
    "duration": 279,
    "start_time": "2022-02-14T09:25:50.552Z"
   },
   {
    "duration": 28715,
    "start_time": "2022-02-14T09:25:50.833Z"
   },
   {
    "duration": 52,
    "start_time": "2022-02-14T09:26:19.550Z"
   },
   {
    "duration": 107,
    "start_time": "2022-02-14T09:26:19.604Z"
   },
   {
    "duration": 446,
    "start_time": "2022-02-14T09:26:19.714Z"
   },
   {
    "duration": 43068,
    "start_time": "2022-02-14T09:26:20.162Z"
   },
   {
    "duration": 3,
    "start_time": "2022-02-14T09:27:03.232Z"
   },
   {
    "duration": 269,
    "start_time": "2022-02-14T09:28:32.539Z"
   },
   {
    "duration": 280,
    "start_time": "2022-02-14T09:28:36.619Z"
   },
   {
    "duration": 319,
    "start_time": "2022-02-14T09:29:05.507Z"
   },
   {
    "duration": 276,
    "start_time": "2022-02-14T09:29:13.034Z"
   },
   {
    "duration": 270,
    "start_time": "2022-02-14T09:29:31.067Z"
   },
   {
    "duration": 7108,
    "start_time": "2022-02-14T09:29:48.394Z"
   },
   {
    "duration": 472,
    "start_time": "2022-02-14T09:30:00.835Z"
   },
   {
    "duration": 4,
    "start_time": "2022-02-14T09:31:14.285Z"
   },
   {
    "duration": 43,
    "start_time": "2022-02-14T09:31:14.292Z"
   },
   {
    "duration": 9,
    "start_time": "2022-02-14T09:31:14.337Z"
   },
   {
    "duration": 5,
    "start_time": "2022-02-14T09:31:14.348Z"
   },
   {
    "duration": 31,
    "start_time": "2022-02-14T09:31:14.355Z"
   },
   {
    "duration": 14,
    "start_time": "2022-02-14T09:31:14.387Z"
   },
   {
    "duration": 276,
    "start_time": "2022-02-14T09:31:14.402Z"
   },
   {
    "duration": -21,
    "start_time": "2022-02-14T09:31:14.702Z"
   },
   {
    "duration": -20,
    "start_time": "2022-02-14T09:31:14.703Z"
   },
   {
    "duration": -19,
    "start_time": "2022-02-14T09:31:14.704Z"
   },
   {
    "duration": -20,
    "start_time": "2022-02-14T09:31:14.706Z"
   },
   {
    "duration": -19,
    "start_time": "2022-02-14T09:31:14.707Z"
   },
   {
    "duration": -19,
    "start_time": "2022-02-14T09:31:14.708Z"
   },
   {
    "duration": -19,
    "start_time": "2022-02-14T09:31:14.710Z"
   },
   {
    "duration": -22,
    "start_time": "2022-02-14T09:31:14.714Z"
   },
   {
    "duration": -21,
    "start_time": "2022-02-14T09:31:14.715Z"
   },
   {
    "duration": -21,
    "start_time": "2022-02-14T09:31:14.716Z"
   },
   {
    "duration": 271,
    "start_time": "2022-02-14T09:31:34.586Z"
   },
   {
    "duration": 3,
    "start_time": "2022-02-14T09:31:37.941Z"
   },
   {
    "duration": 44,
    "start_time": "2022-02-14T09:31:37.946Z"
   },
   {
    "duration": 7,
    "start_time": "2022-02-14T09:31:37.992Z"
   },
   {
    "duration": 23,
    "start_time": "2022-02-14T09:31:38.001Z"
   },
   {
    "duration": 34,
    "start_time": "2022-02-14T09:31:38.026Z"
   },
   {
    "duration": 3,
    "start_time": "2022-02-14T09:31:38.062Z"
   },
   {
    "duration": 259,
    "start_time": "2022-02-14T09:31:38.067Z"
   },
   {
    "duration": -36,
    "start_time": "2022-02-14T09:31:38.365Z"
   },
   {
    "duration": -36,
    "start_time": "2022-02-14T09:31:38.366Z"
   },
   {
    "duration": -36,
    "start_time": "2022-02-14T09:31:38.367Z"
   },
   {
    "duration": -36,
    "start_time": "2022-02-14T09:31:38.368Z"
   },
   {
    "duration": -36,
    "start_time": "2022-02-14T09:31:38.369Z"
   },
   {
    "duration": -37,
    "start_time": "2022-02-14T09:31:38.371Z"
   },
   {
    "duration": -37,
    "start_time": "2022-02-14T09:31:38.372Z"
   },
   {
    "duration": -38,
    "start_time": "2022-02-14T09:31:38.374Z"
   },
   {
    "duration": -38,
    "start_time": "2022-02-14T09:31:38.375Z"
   },
   {
    "duration": -38,
    "start_time": "2022-02-14T09:31:38.376Z"
   },
   {
    "duration": 13,
    "start_time": "2022-02-14T09:31:57.450Z"
   },
   {
    "duration": 17,
    "start_time": "2022-02-14T09:32:11.194Z"
   },
   {
    "duration": 12,
    "start_time": "2022-02-14T09:32:58.522Z"
   },
   {
    "duration": 8,
    "start_time": "2022-02-14T09:33:10.802Z"
   },
   {
    "duration": 4,
    "start_time": "2022-02-14T09:33:12.013Z"
   },
   {
    "duration": 39,
    "start_time": "2022-02-14T09:33:12.020Z"
   },
   {
    "duration": 8,
    "start_time": "2022-02-14T09:33:12.061Z"
   },
   {
    "duration": 9,
    "start_time": "2022-02-14T09:33:12.071Z"
   },
   {
    "duration": 29,
    "start_time": "2022-02-14T09:33:12.082Z"
   },
   {
    "duration": 3,
    "start_time": "2022-02-14T09:33:12.113Z"
   },
   {
    "duration": 16,
    "start_time": "2022-02-14T09:33:12.118Z"
   },
   {
    "duration": 14,
    "start_time": "2022-02-14T09:33:12.137Z"
   },
   {
    "duration": 16,
    "start_time": "2022-02-14T09:33:12.153Z"
   },
   {
    "duration": 29,
    "start_time": "2022-02-14T09:33:12.171Z"
   },
   {
    "duration": 272,
    "start_time": "2022-02-14T09:33:12.202Z"
   },
   {
    "duration": 28483,
    "start_time": "2022-02-14T09:33:12.477Z"
   },
   {
    "duration": 38,
    "start_time": "2022-02-14T09:33:40.962Z"
   },
   {
    "duration": 106,
    "start_time": "2022-02-14T09:33:41.002Z"
   },
   {
    "duration": 441,
    "start_time": "2022-02-14T09:33:41.110Z"
   },
   {
    "duration": 43344,
    "start_time": "2022-02-14T09:33:41.553Z"
   },
   {
    "duration": 2,
    "start_time": "2022-02-14T09:34:24.899Z"
   },
   {
    "duration": 12,
    "start_time": "2022-02-14T09:39:10.602Z"
   },
   {
    "duration": 263,
    "start_time": "2022-02-14T09:52:00.000Z"
   },
   {
    "duration": 15,
    "start_time": "2022-02-14T09:52:12.639Z"
   },
   {
    "duration": 304,
    "start_time": "2022-02-14T09:52:15.182Z"
   },
   {
    "duration": 521,
    "start_time": "2022-02-14T09:54:12.943Z"
   },
   {
    "duration": 3,
    "start_time": "2022-02-14T09:54:57.858Z"
   },
   {
    "duration": 45,
    "start_time": "2022-02-14T09:54:57.863Z"
   },
   {
    "duration": 9,
    "start_time": "2022-02-14T09:54:57.910Z"
   },
   {
    "duration": 8,
    "start_time": "2022-02-14T09:54:57.921Z"
   },
   {
    "duration": 23,
    "start_time": "2022-02-14T09:54:57.931Z"
   },
   {
    "duration": 4,
    "start_time": "2022-02-14T09:54:57.956Z"
   },
   {
    "duration": 44,
    "start_time": "2022-02-14T09:54:57.962Z"
   },
   {
    "duration": 14,
    "start_time": "2022-02-14T09:54:58.009Z"
   },
   {
    "duration": 14,
    "start_time": "2022-02-14T09:54:58.026Z"
   },
   {
    "duration": 6,
    "start_time": "2022-02-14T09:54:58.042Z"
   },
   {
    "duration": 290,
    "start_time": "2022-02-14T09:54:58.050Z"
   },
   {
    "duration": 27634,
    "start_time": "2022-02-14T09:54:58.342Z"
   },
   {
    "duration": 25,
    "start_time": "2022-02-14T09:55:25.978Z"
   },
   {
    "duration": 98,
    "start_time": "2022-02-14T09:55:26.005Z"
   },
   {
    "duration": 450,
    "start_time": "2022-02-14T09:55:26.106Z"
   },
   {
    "duration": 42782,
    "start_time": "2022-02-14T09:55:26.558Z"
   },
   {
    "duration": 14,
    "start_time": "2022-02-14T09:56:09.342Z"
   },
   {
    "duration": 390,
    "start_time": "2022-02-14T09:56:09.357Z"
   },
   {
    "duration": 4,
    "start_time": "2022-02-14T09:56:29.958Z"
   },
   {
    "duration": 5,
    "start_time": "2022-02-14T09:56:37.046Z"
   },
   {
    "duration": 17,
    "start_time": "2022-02-14T09:56:57.694Z"
   },
   {
    "duration": 5,
    "start_time": "2022-02-14T09:57:33.853Z"
   },
   {
    "duration": 18,
    "start_time": "2022-02-14T09:57:46.566Z"
   },
   {
    "duration": 4,
    "start_time": "2022-02-14T09:58:26.054Z"
   },
   {
    "duration": 4,
    "start_time": "2022-02-14T09:58:39.670Z"
   },
   {
    "duration": 286,
    "start_time": "2022-02-14T09:59:13.574Z"
   },
   {
    "duration": 5,
    "start_time": "2022-02-14T10:00:51.974Z"
   },
   {
    "duration": 263,
    "start_time": "2022-02-14T10:01:07.910Z"
   },
   {
    "duration": 5,
    "start_time": "2022-02-14T10:01:13.325Z"
   },
   {
    "duration": 276,
    "start_time": "2022-02-14T10:02:26.173Z"
   },
   {
    "duration": 14,
    "start_time": "2022-02-14T10:02:47.630Z"
   },
   {
    "duration": 19,
    "start_time": "2022-02-14T10:03:57.992Z"
   },
   {
    "duration": 26,
    "start_time": "2022-02-14T10:04:02.982Z"
   },
   {
    "duration": 262,
    "start_time": "2022-02-14T10:05:00.677Z"
   },
   {
    "duration": 377,
    "start_time": "2022-02-14T10:05:17.869Z"
   },
   {
    "duration": 17,
    "start_time": "2022-02-14T10:05:29.325Z"
   },
   {
    "duration": 375,
    "start_time": "2022-02-14T10:05:29.789Z"
   },
   {
    "duration": 23,
    "start_time": "2022-02-14T10:06:38.109Z"
   },
   {
    "duration": 355,
    "start_time": "2022-02-14T10:07:00.197Z"
   },
   {
    "duration": 24,
    "start_time": "2022-02-14T10:07:28.045Z"
   },
   {
    "duration": 63577,
    "start_time": "2022-02-14T10:07:57.757Z"
   },
   {
    "duration": 21,
    "start_time": "2022-02-14T10:10:21.261Z"
   },
   {
    "duration": 442,
    "start_time": "2022-02-14T10:10:21.725Z"
   },
   {
    "duration": 18,
    "start_time": "2022-02-14T10:10:32.852Z"
   },
   {
    "duration": 347,
    "start_time": "2022-02-14T10:10:33.316Z"
   },
   {
    "duration": 12,
    "start_time": "2022-02-14T10:14:06.821Z"
   },
   {
    "duration": 117,
    "start_time": "2022-02-14T10:14:16.748Z"
   },
   {
    "duration": 261,
    "start_time": "2022-02-14T10:15:46.501Z"
   },
   {
    "duration": 386,
    "start_time": "2022-02-14T10:15:51.124Z"
   },
   {
    "duration": 14,
    "start_time": "2022-02-14T10:16:08.333Z"
   },
   {
    "duration": 129,
    "start_time": "2022-02-14T10:16:09.292Z"
   },
   {
    "duration": 23730,
    "start_time": "2022-02-14T10:16:14.057Z"
   },
   {
    "duration": 595,
    "start_time": "2022-02-14T10:19:54.420Z"
   },
   {
    "duration": 641,
    "start_time": "2022-02-14T10:20:10.212Z"
   },
   {
    "duration": 124,
    "start_time": "2022-02-14T10:20:27.740Z"
   },
   {
    "duration": 89864,
    "start_time": "2022-02-14T10:20:52.172Z"
   },
   {
    "duration": 1098,
    "start_time": "2022-02-14T10:22:27.566Z"
   },
   {
    "duration": 46,
    "start_time": "2022-02-14T10:22:28.666Z"
   },
   {
    "duration": 9,
    "start_time": "2022-02-14T10:22:28.714Z"
   },
   {
    "duration": 10,
    "start_time": "2022-02-14T10:22:28.725Z"
   },
   {
    "duration": 24,
    "start_time": "2022-02-14T10:22:28.737Z"
   },
   {
    "duration": 3,
    "start_time": "2022-02-14T10:22:28.763Z"
   },
   {
    "duration": 41,
    "start_time": "2022-02-14T10:22:28.768Z"
   },
   {
    "duration": 14,
    "start_time": "2022-02-14T10:22:28.812Z"
   },
   {
    "duration": 16,
    "start_time": "2022-02-14T10:22:28.829Z"
   },
   {
    "duration": 11,
    "start_time": "2022-02-14T10:22:28.847Z"
   },
   {
    "duration": 271,
    "start_time": "2022-02-14T10:22:28.860Z"
   },
   {
    "duration": 27869,
    "start_time": "2022-02-14T10:22:29.132Z"
   },
   {
    "duration": 97,
    "start_time": "2022-02-14T10:22:57.002Z"
   },
   {
    "duration": 109,
    "start_time": "2022-02-14T10:22:57.102Z"
   },
   {
    "duration": 451,
    "start_time": "2022-02-14T10:22:57.214Z"
   },
   {
    "duration": 93628,
    "start_time": "2022-02-14T10:22:57.667Z"
   },
   {
    "duration": 21,
    "start_time": "2022-02-14T10:24:31.297Z"
   },
   {
    "duration": 366,
    "start_time": "2022-02-14T10:24:31.320Z"
   },
   {
    "duration": 136676,
    "start_time": "2022-02-14T10:24:31.688Z"
   },
   {
    "duration": 11,
    "start_time": "2022-02-14T10:26:48.366Z"
   },
   {
    "duration": 144,
    "start_time": "2022-02-14T10:26:48.380Z"
   },
   {
    "duration": 52581,
    "start_time": "2022-02-14T10:26:48.526Z"
   },
   {
    "duration": 131,
    "start_time": "2022-02-14T10:27:41.110Z"
   },
   {
    "duration": 14,
    "start_time": "2022-02-14T10:28:06.786Z"
   },
   {
    "duration": 136,
    "start_time": "2022-02-14T10:28:07.626Z"
   },
   {
    "duration": 54657,
    "start_time": "2022-02-14T10:28:11.466Z"
   },
   {
    "duration": 358,
    "start_time": "2022-02-14T10:31:25.050Z"
   },
   {
    "duration": 307,
    "start_time": "2022-02-14T10:32:35.610Z"
   },
   {
    "duration": 283,
    "start_time": "2022-02-14T10:33:47.802Z"
   },
   {
    "duration": 5,
    "start_time": "2022-02-14T10:34:00.586Z"
   },
   {
    "duration": 10,
    "start_time": "2022-02-14T10:36:07.401Z"
   },
   {
    "duration": 5,
    "start_time": "2022-02-14T10:36:26.910Z"
   },
   {
    "duration": 56,
    "start_time": "2022-02-14T10:36:26.918Z"
   },
   {
    "duration": 21,
    "start_time": "2022-02-14T10:36:26.977Z"
   },
   {
    "duration": 10,
    "start_time": "2022-02-14T10:36:27.001Z"
   },
   {
    "duration": 31,
    "start_time": "2022-02-14T10:36:27.013Z"
   },
   {
    "duration": 9,
    "start_time": "2022-02-14T10:36:27.047Z"
   },
   {
    "duration": 5,
    "start_time": "2022-02-14T10:36:27.058Z"
   },
   {
    "duration": 45,
    "start_time": "2022-02-14T10:36:27.065Z"
   },
   {
    "duration": 26,
    "start_time": "2022-02-14T10:36:27.113Z"
   },
   {
    "duration": 23,
    "start_time": "2022-02-14T10:36:27.142Z"
   },
   {
    "duration": 22,
    "start_time": "2022-02-14T10:36:27.167Z"
   },
   {
    "duration": 283,
    "start_time": "2022-02-14T10:36:27.191Z"
   },
   {
    "duration": 6275,
    "start_time": "2022-02-14T10:36:27.476Z"
   },
   {
    "duration": -25,
    "start_time": "2022-02-14T10:36:33.779Z"
   },
   {
    "duration": -26,
    "start_time": "2022-02-14T10:36:33.780Z"
   },
   {
    "duration": -27,
    "start_time": "2022-02-14T10:36:33.782Z"
   },
   {
    "duration": -27,
    "start_time": "2022-02-14T10:36:33.783Z"
   },
   {
    "duration": -26,
    "start_time": "2022-02-14T10:36:33.784Z"
   },
   {
    "duration": -33,
    "start_time": "2022-02-14T10:36:33.792Z"
   },
   {
    "duration": -33,
    "start_time": "2022-02-14T10:36:33.793Z"
   },
   {
    "duration": -47,
    "start_time": "2022-02-14T10:36:33.808Z"
   },
   {
    "duration": -46,
    "start_time": "2022-02-14T10:36:33.809Z"
   },
   {
    "duration": -47,
    "start_time": "2022-02-14T10:36:33.811Z"
   },
   {
    "duration": -47,
    "start_time": "2022-02-14T10:36:33.812Z"
   },
   {
    "duration": 3,
    "start_time": "2022-02-14T10:45:53.285Z"
   },
   {
    "duration": 43,
    "start_time": "2022-02-14T10:45:53.290Z"
   },
   {
    "duration": 9,
    "start_time": "2022-02-14T10:45:53.335Z"
   },
   {
    "duration": 9,
    "start_time": "2022-02-14T10:45:53.346Z"
   },
   {
    "duration": 42,
    "start_time": "2022-02-14T10:45:53.357Z"
   },
   {
    "duration": 4,
    "start_time": "2022-02-14T10:45:53.401Z"
   },
   {
    "duration": 16,
    "start_time": "2022-02-14T10:45:53.407Z"
   },
   {
    "duration": 15,
    "start_time": "2022-02-14T10:45:53.426Z"
   },
   {
    "duration": 13,
    "start_time": "2022-02-14T10:45:53.443Z"
   },
   {
    "duration": 12,
    "start_time": "2022-02-14T10:45:53.458Z"
   },
   {
    "duration": 278,
    "start_time": "2022-02-14T10:45:53.472Z"
   },
   {
    "duration": 28818,
    "start_time": "2022-02-14T10:45:53.752Z"
   },
   {
    "duration": 33,
    "start_time": "2022-02-14T10:46:22.572Z"
   },
   {
    "duration": 198,
    "start_time": "2022-02-14T10:46:22.608Z"
   },
   {
    "duration": 362,
    "start_time": "2022-02-14T10:46:22.898Z"
   },
   {
    "duration": 89817,
    "start_time": "2022-02-14T10:46:23.263Z"
   },
   {
    "duration": 30,
    "start_time": "2022-02-14T10:47:53.082Z"
   },
   {
    "duration": 340,
    "start_time": "2022-02-14T10:47:53.114Z"
   },
   {
    "duration": 135079,
    "start_time": "2022-02-14T10:47:53.456Z"
   },
   {
    "duration": 13,
    "start_time": "2022-02-14T10:50:08.537Z"
   },
   {
    "duration": 148,
    "start_time": "2022-02-14T10:50:08.551Z"
   },
   {
    "duration": 53970,
    "start_time": "2022-02-14T10:50:08.701Z"
   },
   {
    "duration": 146,
    "start_time": "2022-02-14T10:51:02.675Z"
   },
   {
    "duration": 4,
    "start_time": "2022-02-14T10:52:11.275Z"
   },
   {
    "duration": 50,
    "start_time": "2022-02-14T10:52:11.281Z"
   },
   {
    "duration": 11,
    "start_time": "2022-02-14T10:52:11.334Z"
   },
   {
    "duration": 14,
    "start_time": "2022-02-14T10:52:11.347Z"
   },
   {
    "duration": 56,
    "start_time": "2022-02-14T10:52:11.363Z"
   },
   {
    "duration": 9,
    "start_time": "2022-02-14T10:52:11.422Z"
   },
   {
    "duration": 22,
    "start_time": "2022-02-14T10:52:11.433Z"
   },
   {
    "duration": 15,
    "start_time": "2022-02-14T10:52:11.458Z"
   },
   {
    "duration": 44,
    "start_time": "2022-02-14T10:52:11.476Z"
   },
   {
    "duration": 6,
    "start_time": "2022-02-14T10:52:11.523Z"
   },
   {
    "duration": 350,
    "start_time": "2022-02-14T10:52:11.532Z"
   },
   {
    "duration": 30505,
    "start_time": "2022-02-14T10:52:11.885Z"
   },
   {
    "duration": 23,
    "start_time": "2022-02-14T10:52:42.392Z"
   },
   {
    "duration": 193,
    "start_time": "2022-02-14T10:52:42.418Z"
   },
   {
    "duration": 462,
    "start_time": "2022-02-14T10:52:42.614Z"
   },
   {
    "duration": 93768,
    "start_time": "2022-02-14T10:52:43.078Z"
   },
   {
    "duration": 17,
    "start_time": "2022-02-14T10:54:16.848Z"
   },
   {
    "duration": 356,
    "start_time": "2022-02-14T10:54:16.867Z"
   },
   {
    "duration": 134423,
    "start_time": "2022-02-14T10:54:17.225Z"
   },
   {
    "duration": 12,
    "start_time": "2022-02-14T10:56:31.650Z"
   },
   {
    "duration": 146,
    "start_time": "2022-02-14T10:56:31.663Z"
   },
   {
    "duration": 53351,
    "start_time": "2022-02-14T10:56:31.810Z"
   },
   {
    "duration": 126,
    "start_time": "2022-02-14T10:57:25.163Z"
   },
   {
    "duration": 231818,
    "start_time": "2022-02-14T11:00:32.663Z"
   },
   {
    "duration": 1095,
    "start_time": "2022-02-14T11:17:20.569Z"
   },
   {
    "duration": 47,
    "start_time": "2022-02-14T11:17:21.666Z"
   },
   {
    "duration": 9,
    "start_time": "2022-02-14T11:17:21.715Z"
   },
   {
    "duration": 10,
    "start_time": "2022-02-14T11:17:21.726Z"
   },
   {
    "duration": 24,
    "start_time": "2022-02-14T11:17:21.738Z"
   },
   {
    "duration": 4,
    "start_time": "2022-02-14T11:17:21.763Z"
   },
   {
    "duration": 40,
    "start_time": "2022-02-14T11:17:21.768Z"
   },
   {
    "duration": 13,
    "start_time": "2022-02-14T11:17:21.811Z"
   },
   {
    "duration": 18,
    "start_time": "2022-02-14T11:17:21.827Z"
   },
   {
    "duration": 5,
    "start_time": "2022-02-14T11:17:21.847Z"
   },
   {
    "duration": 278,
    "start_time": "2022-02-14T11:17:21.853Z"
   },
   {
    "duration": 27764,
    "start_time": "2022-02-14T11:17:22.132Z"
   },
   {
    "duration": 20,
    "start_time": "2022-02-14T11:17:49.899Z"
   },
   {
    "duration": 114,
    "start_time": "2022-02-14T11:17:50.000Z"
   },
   {
    "duration": 433,
    "start_time": "2022-02-14T11:17:50.118Z"
   },
   {
    "duration": 51923,
    "start_time": "2022-02-14T11:17:50.553Z"
   },
   {
    "duration": -41,
    "start_time": "2022-02-14T11:18:42.519Z"
   },
   {
    "duration": -42,
    "start_time": "2022-02-14T11:18:42.521Z"
   },
   {
    "duration": -42,
    "start_time": "2022-02-14T11:18:42.522Z"
   },
   {
    "duration": -42,
    "start_time": "2022-02-14T11:18:42.523Z"
   },
   {
    "duration": -42,
    "start_time": "2022-02-14T11:18:42.524Z"
   },
   {
    "duration": -43,
    "start_time": "2022-02-14T11:18:42.526Z"
   },
   {
    "duration": -43,
    "start_time": "2022-02-14T11:18:42.527Z"
   },
   {
    "duration": 4,
    "start_time": "2022-02-14T11:19:14.840Z"
   },
   {
    "duration": 44,
    "start_time": "2022-02-14T11:19:14.845Z"
   },
   {
    "duration": 8,
    "start_time": "2022-02-14T11:19:14.891Z"
   },
   {
    "duration": 13,
    "start_time": "2022-02-14T11:19:14.901Z"
   },
   {
    "duration": 23,
    "start_time": "2022-02-14T11:19:14.915Z"
   },
   {
    "duration": 3,
    "start_time": "2022-02-14T11:19:14.939Z"
   },
   {
    "duration": 17,
    "start_time": "2022-02-14T11:19:14.944Z"
   },
   {
    "duration": 15,
    "start_time": "2022-02-14T11:19:14.963Z"
   },
   {
    "duration": 14,
    "start_time": "2022-02-14T11:19:14.997Z"
   },
   {
    "duration": 18,
    "start_time": "2022-02-14T11:19:15.013Z"
   },
   {
    "duration": 254,
    "start_time": "2022-02-14T11:19:15.033Z"
   },
   {
    "duration": 27373,
    "start_time": "2022-02-14T11:19:15.288Z"
   },
   {
    "duration": 40,
    "start_time": "2022-02-14T11:19:42.662Z"
   },
   {
    "duration": 197,
    "start_time": "2022-02-14T11:19:42.705Z"
   },
   {
    "duration": 357,
    "start_time": "2022-02-14T11:19:42.905Z"
   },
   {
    "duration": 149709,
    "start_time": "2022-02-14T11:19:43.264Z"
   },
   {
    "duration": 25,
    "start_time": "2022-02-14T11:22:12.975Z"
   },
   {
    "duration": 355,
    "start_time": "2022-02-14T11:22:13.002Z"
   },
   {
    "duration": 62485,
    "start_time": "2022-02-14T11:22:13.358Z"
   },
   {
    "duration": -37,
    "start_time": "2022-02-14T11:23:15.882Z"
   },
   {
    "duration": -37,
    "start_time": "2022-02-14T11:23:15.884Z"
   },
   {
    "duration": -37,
    "start_time": "2022-02-14T11:23:15.885Z"
   },
   {
    "duration": -37,
    "start_time": "2022-02-14T11:23:15.886Z"
   },
   {
    "duration": 127,
    "start_time": "2022-02-14T11:24:14.204Z"
   },
   {
    "duration": 254,
    "start_time": "2022-02-14T11:24:40.900Z"
   },
   {
    "duration": 12,
    "start_time": "2022-02-14T11:24:45.604Z"
   },
   {
    "duration": 10483,
    "start_time": "2022-02-14T11:24:47.276Z"
   },
   {
    "duration": 12,
    "start_time": "2022-02-14T11:25:09.532Z"
   },
   {
    "duration": 9433,
    "start_time": "2022-02-14T11:25:11.396Z"
   },
   {
    "duration": 12,
    "start_time": "2022-02-14T11:25:33.756Z"
   },
   {
    "duration": 11711,
    "start_time": "2022-02-14T11:25:35.636Z"
   },
   {
    "duration": 206,
    "start_time": "2022-02-14T11:27:26.676Z"
   },
   {
    "duration": 20,
    "start_time": "2022-02-14T11:28:48.532Z"
   },
   {
    "duration": 34286,
    "start_time": "2022-02-14T11:28:50.796Z"
   },
   {
    "duration": 17,
    "start_time": "2022-02-14T11:29:48.587Z"
   },
   {
    "duration": 26087,
    "start_time": "2022-02-14T11:29:50.420Z"
   },
   {
    "duration": 17,
    "start_time": "2022-02-14T11:30:26.083Z"
   },
   {
    "duration": 22274,
    "start_time": "2022-02-14T11:30:27.379Z"
   },
   {
    "duration": 306,
    "start_time": "2022-02-14T11:31:24.171Z"
   },
   {
    "duration": 20,
    "start_time": "2022-02-14T11:32:31.451Z"
   },
   {
    "duration": 353,
    "start_time": "2022-02-14T11:32:32.387Z"
   },
   {
    "duration": 18,
    "start_time": "2022-02-14T11:32:45.707Z"
   },
   {
    "duration": 359,
    "start_time": "2022-02-14T11:32:47.251Z"
   },
   {
    "duration": 26844,
    "start_time": "2022-02-14T11:33:14.795Z"
   },
   {
    "duration": 306,
    "start_time": "2022-02-14T11:37:05.267Z"
   },
   {
    "duration": 36,
    "start_time": "2022-02-14T11:37:36.458Z"
   },
   {
    "duration": 204,
    "start_time": "2022-02-14T11:42:06.874Z"
   },
   {
    "duration": 390,
    "start_time": "2022-02-14T11:43:55.611Z"
   },
   {
    "duration": 27138,
    "start_time": "2022-02-14T11:44:09.147Z"
   },
   {
    "duration": 200,
    "start_time": "2022-02-14T11:47:01.842Z"
   },
   {
    "duration": 25,
    "start_time": "2022-02-14T11:47:03.529Z"
   },
   {
    "duration": 225,
    "start_time": "2022-02-14T11:47:08.361Z"
   },
   {
    "duration": 24,
    "start_time": "2022-02-14T11:47:10.458Z"
   },
   {
    "duration": 151,
    "start_time": "2022-02-14T11:47:56.361Z"
   },
   {
    "duration": 13,
    "start_time": "2022-02-14T11:48:03.217Z"
   },
   {
    "duration": 135,
    "start_time": "2022-02-14T11:48:05.322Z"
   },
   {
    "duration": 13,
    "start_time": "2022-02-14T11:48:15.274Z"
   },
   {
    "duration": 147,
    "start_time": "2022-02-14T11:48:16.601Z"
   },
   {
    "duration": 11954,
    "start_time": "2022-02-14T11:48:19.785Z"
   },
   {
    "duration": 175,
    "start_time": "2022-02-14T11:48:44.065Z"
   },
   {
    "duration": 12,
    "start_time": "2022-02-14T11:48:58.114Z"
   },
   {
    "duration": 126,
    "start_time": "2022-02-14T11:48:59.137Z"
   },
   {
    "duration": 10621,
    "start_time": "2022-02-14T11:49:05.985Z"
   },
   {
    "duration": 11076,
    "start_time": "2022-02-14T11:50:03.329Z"
   },
   {
    "duration": 10775,
    "start_time": "2022-02-14T11:50:32.073Z"
   },
   {
    "duration": 90,
    "start_time": "2022-02-14T11:50:57.193Z"
   },
   {
    "duration": 159,
    "start_time": "2022-02-14T11:51:09.881Z"
   },
   {
    "duration": 77,
    "start_time": "2022-02-14T11:51:29.553Z"
   },
   {
    "duration": 18163,
    "start_time": "2022-02-14T11:51:51.010Z"
   },
   {
    "duration": 131,
    "start_time": "2022-02-14T11:52:21.770Z"
   },
   {
    "duration": 13,
    "start_time": "2022-02-14T11:53:52.393Z"
   },
   {
    "duration": 102,
    "start_time": "2022-02-14T11:53:52.992Z"
   },
   {
    "duration": 9503,
    "start_time": "2022-02-14T11:53:56.049Z"
   },
   {
    "duration": 11,
    "start_time": "2022-02-14T11:54:17.801Z"
   },
   {
    "duration": 129,
    "start_time": "2022-02-14T11:54:18.377Z"
   },
   {
    "duration": 10881,
    "start_time": "2022-02-14T11:54:21.257Z"
   },
   {
    "duration": 19,
    "start_time": "2022-02-14T11:54:59.089Z"
   },
   {
    "duration": 323,
    "start_time": "2022-02-14T11:54:59.569Z"
   },
   {
    "duration": 24513,
    "start_time": "2022-02-14T11:55:02.777Z"
   },
   {
    "duration": 24470,
    "start_time": "2022-02-14T11:55:48.856Z"
   },
   {
    "duration": 18,
    "start_time": "2022-02-14T11:56:32.040Z"
   },
   {
    "duration": 27495,
    "start_time": "2022-02-14T11:56:33.520Z"
   },
   {
    "duration": 19,
    "start_time": "2022-02-14T11:57:32.272Z"
   },
   {
    "duration": 22566,
    "start_time": "2022-02-14T11:57:34.416Z"
   },
   {
    "duration": 22331,
    "start_time": "2022-02-14T11:58:06.640Z"
   },
   {
    "duration": 239,
    "start_time": "2022-02-14T12:00:15.951Z"
   },
   {
    "duration": 18,
    "start_time": "2022-02-14T12:00:30.759Z"
   },
   {
    "duration": 1075,
    "start_time": "2022-02-14T16:52:34.130Z"
   },
   {
    "duration": 40,
    "start_time": "2022-02-14T16:52:35.207Z"
   },
   {
    "duration": 14,
    "start_time": "2022-02-14T16:52:35.249Z"
   },
   {
    "duration": 11,
    "start_time": "2022-02-14T16:52:36.128Z"
   },
   {
    "duration": 23,
    "start_time": "2022-02-14T16:52:36.821Z"
   },
   {
    "duration": 4,
    "start_time": "2022-02-14T16:52:37.122Z"
   },
   {
    "duration": 13,
    "start_time": "2022-02-14T16:52:38.099Z"
   },
   {
    "duration": 12,
    "start_time": "2022-02-14T16:52:38.954Z"
   },
   {
    "duration": 13,
    "start_time": "2022-02-14T16:52:39.123Z"
   },
   {
    "duration": 5,
    "start_time": "2022-02-14T16:53:39.123Z"
   },
   {
    "duration": 256,
    "start_time": "2022-02-14T16:54:01.984Z"
   },
   {
    "duration": 15813,
    "start_time": "2022-02-14T16:54:04.685Z"
   },
   {
    "duration": 65,
    "start_time": "2022-02-14T16:54:20.500Z"
   },
   {
    "duration": 14,
    "start_time": "2022-02-14T16:55:04.949Z"
   },
   {
    "duration": 236,
    "start_time": "2022-02-14T16:55:06.386Z"
   },
   {
    "duration": 15397,
    "start_time": "2022-02-14T16:55:07.696Z"
   },
   {
    "duration": 17,
    "start_time": "2022-02-14T16:55:23.095Z"
   },
   {
    "duration": 285,
    "start_time": "2022-02-14T16:55:23.113Z"
   },
   {
    "duration": 19218,
    "start_time": "2022-02-14T16:55:24.182Z"
   },
   {
    "duration": 11,
    "start_time": "2022-02-14T16:55:43.403Z"
   },
   {
    "duration": 132,
    "start_time": "2022-02-14T16:55:43.416Z"
   },
   {
    "duration": 9242,
    "start_time": "2022-02-14T16:55:43.550Z"
   },
   {
    "duration": 221,
    "start_time": "2022-02-14T16:55:52.794Z"
   },
   {
    "duration": 17,
    "start_time": "2022-02-14T16:55:53.017Z"
   },
   {
    "duration": 1392,
    "start_time": "2022-02-16T06:57:03.070Z"
   },
   {
    "duration": 53,
    "start_time": "2022-02-16T06:57:04.465Z"
   },
   {
    "duration": 26,
    "start_time": "2022-02-16T06:57:04.522Z"
   },
   {
    "duration": 17,
    "start_time": "2022-02-16T06:57:04.551Z"
   },
   {
    "duration": 38,
    "start_time": "2022-02-16T06:57:04.571Z"
   },
   {
    "duration": 4,
    "start_time": "2022-02-16T06:57:04.612Z"
   },
   {
    "duration": 51,
    "start_time": "2022-02-16T06:57:04.619Z"
   },
   {
    "duration": 23,
    "start_time": "2022-02-16T06:57:04.674Z"
   },
   {
    "duration": 16,
    "start_time": "2022-02-16T06:57:04.700Z"
   },
   {
    "duration": 6,
    "start_time": "2022-02-16T06:57:04.718Z"
   },
   {
    "duration": 312,
    "start_time": "2022-02-16T06:57:04.749Z"
   },
   {
    "duration": 23456,
    "start_time": "2022-02-16T06:57:05.063Z"
   },
   {
    "duration": 128,
    "start_time": "2022-02-16T06:57:28.521Z"
   },
   {
    "duration": 198,
    "start_time": "2022-02-16T06:57:28.652Z"
   },
   {
    "duration": 412,
    "start_time": "2022-02-16T06:57:28.854Z"
   },
   {
    "duration": 23897,
    "start_time": "2022-02-16T06:57:29.268Z"
   },
   {
    "duration": 27,
    "start_time": "2022-02-16T06:57:53.168Z"
   },
   {
    "duration": 421,
    "start_time": "2022-02-16T06:57:53.197Z"
   },
   {
    "duration": 32351,
    "start_time": "2022-02-16T06:57:53.620Z"
   },
   {
    "duration": 16,
    "start_time": "2022-02-16T06:58:25.973Z"
   },
   {
    "duration": 175,
    "start_time": "2022-02-16T06:58:25.991Z"
   },
   {
    "duration": 15048,
    "start_time": "2022-02-16T06:58:26.169Z"
   },
   {
    "duration": 308,
    "start_time": "2022-02-16T06:58:41.221Z"
   },
   {
    "duration": 34,
    "start_time": "2022-02-16T06:58:41.532Z"
   },
   {
    "duration": 765,
    "start_time": "2022-02-16T06:58:41.568Z"
   },
   {
    "duration": 5,
    "start_time": "2022-02-16T07:03:54.305Z"
   },
   {
    "duration": 934,
    "start_time": "2022-02-16T07:04:01.092Z"
   },
   {
    "duration": 692,
    "start_time": "2022-02-16T07:04:09.209Z"
   },
   {
    "duration": 550,
    "start_time": "2022-02-16T07:07:25.803Z"
   },
   {
    "duration": 282,
    "start_time": "2022-02-16T07:07:42.696Z"
   },
   {
    "duration": 284,
    "start_time": "2022-02-16T07:08:04.065Z"
   },
   {
    "duration": 626,
    "start_time": "2022-02-16T07:08:19.729Z"
   },
   {
    "duration": 113,
    "start_time": "2022-02-16T07:09:09.753Z"
   },
   {
    "duration": 710,
    "start_time": "2022-02-16T07:09:29.609Z"
   },
   {
    "duration": 581,
    "start_time": "2022-02-16T07:10:16.969Z"
   },
   {
    "duration": 793,
    "start_time": "2022-02-16T07:12:14.689Z"
   },
   {
    "duration": 609,
    "start_time": "2022-02-16T07:12:26.672Z"
   },
   {
    "duration": 566,
    "start_time": "2022-02-16T07:13:07.712Z"
   },
   {
    "duration": 296,
    "start_time": "2022-02-16T07:13:42.200Z"
   },
   {
    "duration": 653,
    "start_time": "2022-02-16T07:13:53.648Z"
   },
   {
    "duration": 292,
    "start_time": "2022-02-16T07:16:20.585Z"
   },
   {
    "duration": 646,
    "start_time": "2022-02-16T07:19:33.072Z"
   },
   {
    "duration": 371,
    "start_time": "2022-02-16T07:19:57.136Z"
   },
   {
    "duration": 739,
    "start_time": "2022-02-16T07:21:02.040Z"
   },
   {
    "duration": 302,
    "start_time": "2022-02-16T07:21:36.376Z"
   },
   {
    "duration": 632,
    "start_time": "2022-02-16T07:22:00.367Z"
   },
   {
    "duration": 645,
    "start_time": "2022-02-16T07:22:08.071Z"
   },
   {
    "duration": 544,
    "start_time": "2022-02-16T07:22:50.575Z"
   },
   {
    "duration": 801,
    "start_time": "2022-02-16T07:23:14.992Z"
   },
   {
    "duration": 550,
    "start_time": "2022-02-16T07:24:26.632Z"
   },
   {
    "duration": 555,
    "start_time": "2022-02-16T07:24:33.319Z"
   },
   {
    "duration": 573,
    "start_time": "2022-02-16T07:24:40.797Z"
   },
   {
    "duration": 608,
    "start_time": "2022-02-16T07:24:47.343Z"
   },
   {
    "duration": 536,
    "start_time": "2022-02-16T07:24:55.143Z"
   },
   {
    "duration": 558,
    "start_time": "2022-02-16T07:27:02.670Z"
   },
   {
    "duration": 540,
    "start_time": "2022-02-16T07:27:09.038Z"
   },
   {
    "duration": 45,
    "start_time": "2022-02-16T07:29:56.015Z"
   },
   {
    "duration": 6,
    "start_time": "2022-02-16T07:30:28.198Z"
   },
   {
    "duration": 4,
    "start_time": "2022-02-16T07:30:28.654Z"
   },
   {
    "duration": 36,
    "start_time": "2022-02-16T07:30:32.951Z"
   },
   {
    "duration": 23,
    "start_time": "2022-02-16T07:30:45.678Z"
   },
   {
    "duration": 8,
    "start_time": "2022-02-16T07:33:05.300Z"
   },
   {
    "duration": 8,
    "start_time": "2022-02-16T07:33:05.311Z"
   },
   {
    "duration": 53,
    "start_time": "2022-02-16T07:33:05.322Z"
   },
   {
    "duration": 13,
    "start_time": "2022-02-16T07:33:05.378Z"
   },
   {
    "duration": 13,
    "start_time": "2022-02-16T07:33:05.394Z"
   },
   {
    "duration": 66,
    "start_time": "2022-02-16T07:33:05.411Z"
   },
   {
    "duration": 5,
    "start_time": "2022-02-16T07:33:05.480Z"
   },
   {
    "duration": 23,
    "start_time": "2022-02-16T07:33:05.487Z"
   },
   {
    "duration": 41,
    "start_time": "2022-02-16T07:33:05.514Z"
   },
   {
    "duration": 39,
    "start_time": "2022-02-16T07:33:05.559Z"
   },
   {
    "duration": 6,
    "start_time": "2022-02-16T07:33:05.600Z"
   },
   {
    "duration": 342,
    "start_time": "2022-02-16T07:33:05.608Z"
   },
   {
    "duration": 23819,
    "start_time": "2022-02-16T07:33:05.952Z"
   },
   {
    "duration": 77,
    "start_time": "2022-02-16T07:33:29.774Z"
   },
   {
    "duration": 197,
    "start_time": "2022-02-16T07:33:29.854Z"
   },
   {
    "duration": 420,
    "start_time": "2022-02-16T07:33:30.054Z"
   },
   {
    "duration": 828,
    "start_time": "2022-02-16T07:33:30.477Z"
   },
   {
    "duration": 1014,
    "start_time": "2022-02-16T07:33:30.294Z"
   },
   {
    "duration": 1014,
    "start_time": "2022-02-16T07:33:30.296Z"
   },
   {
    "duration": 1013,
    "start_time": "2022-02-16T07:33:30.298Z"
   },
   {
    "duration": 1014,
    "start_time": "2022-02-16T07:33:30.299Z"
   },
   {
    "duration": 1013,
    "start_time": "2022-02-16T07:33:30.301Z"
   },
   {
    "duration": 1014,
    "start_time": "2022-02-16T07:33:30.302Z"
   },
   {
    "duration": 1014,
    "start_time": "2022-02-16T07:33:30.304Z"
   },
   {
    "duration": 1013,
    "start_time": "2022-02-16T07:33:30.306Z"
   },
   {
    "duration": 1004,
    "start_time": "2022-02-16T07:33:30.317Z"
   },
   {
    "duration": 6,
    "start_time": "2022-02-16T07:34:57.028Z"
   },
   {
    "duration": 10,
    "start_time": "2022-02-16T07:34:57.037Z"
   },
   {
    "duration": 46,
    "start_time": "2022-02-16T07:34:57.052Z"
   },
   {
    "duration": 14,
    "start_time": "2022-02-16T07:34:57.102Z"
   },
   {
    "duration": 16,
    "start_time": "2022-02-16T07:34:57.150Z"
   },
   {
    "duration": 36,
    "start_time": "2022-02-16T07:34:57.169Z"
   },
   {
    "duration": 5,
    "start_time": "2022-02-16T07:34:57.207Z"
   },
   {
    "duration": 24,
    "start_time": "2022-02-16T07:34:57.251Z"
   },
   {
    "duration": 18,
    "start_time": "2022-02-16T07:34:57.278Z"
   },
   {
    "duration": 70,
    "start_time": "2022-02-16T07:34:57.298Z"
   },
   {
    "duration": 6,
    "start_time": "2022-02-16T07:34:57.371Z"
   },
   {
    "duration": 324,
    "start_time": "2022-02-16T07:34:57.380Z"
   },
   {
    "duration": 1028,
    "start_time": "2022-02-16T07:34:56.679Z"
   },
   {
    "duration": 1028,
    "start_time": "2022-02-16T07:34:56.680Z"
   },
   {
    "duration": 1020,
    "start_time": "2022-02-16T07:34:56.690Z"
   },
   {
    "duration": 1021,
    "start_time": "2022-02-16T07:34:56.691Z"
   },
   {
    "duration": 1020,
    "start_time": "2022-02-16T07:34:56.693Z"
   },
   {
    "duration": 1018,
    "start_time": "2022-02-16T07:34:56.697Z"
   },
   {
    "duration": 1018,
    "start_time": "2022-02-16T07:34:56.699Z"
   },
   {
    "duration": 1014,
    "start_time": "2022-02-16T07:34:56.704Z"
   },
   {
    "duration": 1013,
    "start_time": "2022-02-16T07:34:56.706Z"
   },
   {
    "duration": 1014,
    "start_time": "2022-02-16T07:34:56.707Z"
   },
   {
    "duration": 1013,
    "start_time": "2022-02-16T07:34:56.709Z"
   },
   {
    "duration": 1012,
    "start_time": "2022-02-16T07:34:56.711Z"
   },
   {
    "duration": 1013,
    "start_time": "2022-02-16T07:34:56.712Z"
   },
   {
    "duration": 1012,
    "start_time": "2022-02-16T07:34:56.714Z"
   },
   {
    "duration": 6,
    "start_time": "2022-02-16T07:36:16.620Z"
   },
   {
    "duration": 6,
    "start_time": "2022-02-16T07:36:16.629Z"
   },
   {
    "duration": 49,
    "start_time": "2022-02-16T07:36:16.638Z"
   },
   {
    "duration": 14,
    "start_time": "2022-02-16T07:36:16.691Z"
   },
   {
    "duration": 13,
    "start_time": "2022-02-16T07:36:16.707Z"
   },
   {
    "duration": 32,
    "start_time": "2022-02-16T07:36:16.749Z"
   },
   {
    "duration": 5,
    "start_time": "2022-02-16T07:36:16.783Z"
   },
   {
    "duration": 30,
    "start_time": "2022-02-16T07:36:16.791Z"
   },
   {
    "duration": 40,
    "start_time": "2022-02-16T07:36:16.825Z"
   },
   {
    "duration": 41,
    "start_time": "2022-02-16T07:36:16.869Z"
   },
   {
    "duration": 36,
    "start_time": "2022-02-16T07:36:16.913Z"
   },
   {
    "duration": 370,
    "start_time": "2022-02-16T07:36:16.951Z"
   },
   {
    "duration": 25443,
    "start_time": "2022-02-16T07:36:17.323Z"
   },
   {
    "duration": 85,
    "start_time": "2022-02-16T07:36:42.769Z"
   },
   {
    "duration": 197,
    "start_time": "2022-02-16T07:36:42.857Z"
   },
   {
    "duration": 451,
    "start_time": "2022-02-16T07:36:43.058Z"
   },
   {
    "duration": 25214,
    "start_time": "2022-02-16T07:36:43.512Z"
   },
   {
    "duration": 42,
    "start_time": "2022-02-16T07:37:08.728Z"
   },
   {
    "duration": 387,
    "start_time": "2022-02-16T07:37:08.772Z"
   },
   {
    "duration": 30975,
    "start_time": "2022-02-16T07:37:09.162Z"
   },
   {
    "duration": 26,
    "start_time": "2022-02-16T07:37:40.140Z"
   },
   {
    "duration": 196,
    "start_time": "2022-02-16T07:37:40.169Z"
   },
   {
    "duration": 15104,
    "start_time": "2022-02-16T07:37:40.368Z"
   },
   {
    "duration": 327,
    "start_time": "2022-02-16T07:37:55.475Z"
   },
   {
    "duration": 21,
    "start_time": "2022-02-16T07:37:55.805Z"
   },
   {
    "duration": 637,
    "start_time": "2022-02-16T07:37:55.829Z"
   },
   {
    "duration": 35,
    "start_time": "2022-02-16T07:39:47.814Z"
   },
   {
    "duration": 463,
    "start_time": "2022-02-16T07:39:50.045Z"
   },
   {
    "duration": 37193,
    "start_time": "2022-02-16T07:40:01.302Z"
   },
   {
    "duration": 21,
    "start_time": "2022-02-16T07:41:50.181Z"
   },
   {
    "duration": 167,
    "start_time": "2022-02-16T07:41:50.949Z"
   },
   {
    "duration": 13533,
    "start_time": "2022-02-16T07:41:53.653Z"
   },
   {
    "duration": 682,
    "start_time": "2022-02-16T07:45:06.989Z"
   },
   {
    "duration": 684,
    "start_time": "2022-02-16T07:45:18.668Z"
   },
   {
    "duration": 733,
    "start_time": "2022-02-16T07:45:35.796Z"
   },
   {
    "duration": 52,
    "start_time": "2022-02-16T07:47:53.005Z"
   },
   {
    "duration": 22,
    "start_time": "2022-02-16T07:48:35.292Z"
   },
   {
    "duration": 38,
    "start_time": "2022-02-16T07:49:26.102Z"
   },
   {
    "duration": 74,
    "start_time": "2022-02-16T07:50:22.181Z"
   },
   {
    "duration": 17,
    "start_time": "2022-02-16T07:51:26.053Z"
   },
   {
    "duration": 544,
    "start_time": "2022-02-16T07:51:37.229Z"
   },
   {
    "duration": 40753,
    "start_time": "2022-02-16T07:51:43.797Z"
   },
   {
    "duration": 14,
    "start_time": "2022-02-16T07:52:24.553Z"
   },
   {
    "duration": 228,
    "start_time": "2022-02-16T07:52:24.570Z"
   },
   {
    "duration": 16129,
    "start_time": "2022-02-16T07:53:26.325Z"
   },
   {
    "duration": 12,
    "start_time": "2022-02-16T07:54:03.868Z"
   },
   {
    "duration": 221,
    "start_time": "2022-02-16T07:54:04.556Z"
   },
   {
    "duration": 16990,
    "start_time": "2022-02-16T07:54:19.276Z"
   },
   {
    "duration": 4,
    "start_time": "2022-02-16T07:56:42.141Z"
   },
   {
    "duration": 23,
    "start_time": "2022-02-16T08:01:00.668Z"
   },
   {
    "duration": 198,
    "start_time": "2022-02-16T08:01:16.459Z"
   },
   {
    "duration": 26,
    "start_time": "2022-02-16T08:01:31.707Z"
   },
   {
    "duration": 696,
    "start_time": "2022-02-16T08:01:44.284Z"
   }
  ],
  "kernelspec": {
   "display_name": "Python 3 (ipykernel)",
   "language": "python",
   "name": "python3"
  },
  "language_info": {
   "codemirror_mode": {
    "name": "ipython",
    "version": 3
   },
   "file_extension": ".py",
   "mimetype": "text/x-python",
   "name": "python",
   "nbconvert_exporter": "python",
   "pygments_lexer": "ipython3",
   "version": "3.9.5"
  },
  "toc": {
   "base_numbering": 1,
   "nav_menu": {},
   "number_sections": true,
   "sideBar": true,
   "skip_h1_title": true,
   "title_cell": "Содержание",
   "title_sidebar": "Contents",
   "toc_cell": true,
   "toc_position": {},
   "toc_section_display": true,
   "toc_window_display": true
  }
 },
 "nbformat": 4,
 "nbformat_minor": 2
}
