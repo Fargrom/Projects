{
 "cells": [
  {
   "cell_type": "markdown",
   "metadata": {},
   "source": [
    "# Выбор локации для скважины"
   ]
  },
  {
   "cell_type": "markdown",
   "metadata": {},
   "source": [
    "## Загрузка и подготовка данных"
   ]
  },
  {
   "cell_type": "code",
   "execution_count": 67,
   "metadata": {},
   "outputs": [],
   "source": [
    "#выгружаем библиотеки\n",
    "import pandas as pd\n",
    "import numpy as np\n",
    "from scipy import stats as st\n",
    "from sklearn.model_selection import train_test_split\n",
    "from sklearn.linear_model import LinearRegression\n",
    "from sklearn.metrics import mean_squared_error"
   ]
  },
  {
   "cell_type": "code",
   "execution_count": 68,
   "metadata": {},
   "outputs": [],
   "source": [
    "# читаем файлы\n",
    "data1 = pd.read_csv('/datasets/geo_data_0.csv')\n",
    "data2 = pd.read_csv('/datasets/geo_data_1.csv')\n",
    "data3 = pd.read_csv('/datasets/geo_data_2.csv')"
   ]
  },
  {
   "cell_type": "code",
   "execution_count": 69,
   "metadata": {},
   "outputs": [
    {
     "name": "stdout",
     "output_type": "stream",
     "text": [
      "<class 'pandas.core.frame.DataFrame'>\n",
      "RangeIndex: 100000 entries, 0 to 99999\n",
      "Data columns (total 5 columns):\n",
      "id         100000 non-null object\n",
      "f0         100000 non-null float64\n",
      "f1         100000 non-null float64\n",
      "f2         100000 non-null float64\n",
      "product    100000 non-null float64\n",
      "dtypes: float64(4), object(1)\n",
      "memory usage: 3.8+ MB\n",
      "<class 'pandas.core.frame.DataFrame'>\n",
      "RangeIndex: 100000 entries, 0 to 99999\n",
      "Data columns (total 5 columns):\n",
      "id         100000 non-null object\n",
      "f0         100000 non-null float64\n",
      "f1         100000 non-null float64\n",
      "f2         100000 non-null float64\n",
      "product    100000 non-null float64\n",
      "dtypes: float64(4), object(1)\n",
      "memory usage: 3.8+ MB\n",
      "<class 'pandas.core.frame.DataFrame'>\n",
      "RangeIndex: 100000 entries, 0 to 99999\n",
      "Data columns (total 5 columns):\n",
      "id         100000 non-null object\n",
      "f0         100000 non-null float64\n",
      "f1         100000 non-null float64\n",
      "f2         100000 non-null float64\n",
      "product    100000 non-null float64\n",
      "dtypes: float64(4), object(1)\n",
      "memory usage: 3.8+ MB\n"
     ]
    },
    {
     "data": {
      "text/plain": [
       "(None, None, None)"
      ]
     },
     "execution_count": 69,
     "metadata": {},
     "output_type": "execute_result"
    }
   ],
   "source": [
    "data1.info(), data2.info(), data3.info()"
   ]
  },
  {
   "cell_type": "code",
   "execution_count": 70,
   "metadata": {},
   "outputs": [
    {
     "data": {
      "text/html": [
       "<div>\n",
       "<style scoped>\n",
       "    .dataframe tbody tr th:only-of-type {\n",
       "        vertical-align: middle;\n",
       "    }\n",
       "\n",
       "    .dataframe tbody tr th {\n",
       "        vertical-align: top;\n",
       "    }\n",
       "\n",
       "    .dataframe thead th {\n",
       "        text-align: right;\n",
       "    }\n",
       "</style>\n",
       "<table border=\"1\" class=\"dataframe\">\n",
       "  <thead>\n",
       "    <tr style=\"text-align: right;\">\n",
       "      <th></th>\n",
       "      <th>id</th>\n",
       "      <th>f0</th>\n",
       "      <th>f1</th>\n",
       "      <th>f2</th>\n",
       "      <th>product</th>\n",
       "    </tr>\n",
       "  </thead>\n",
       "  <tbody>\n",
       "    <tr>\n",
       "      <td>0</td>\n",
       "      <td>txEyH</td>\n",
       "      <td>0.705745</td>\n",
       "      <td>-0.497823</td>\n",
       "      <td>1.221170</td>\n",
       "      <td>105.280062</td>\n",
       "    </tr>\n",
       "    <tr>\n",
       "      <td>1</td>\n",
       "      <td>2acmU</td>\n",
       "      <td>1.334711</td>\n",
       "      <td>-0.340164</td>\n",
       "      <td>4.365080</td>\n",
       "      <td>73.037750</td>\n",
       "    </tr>\n",
       "    <tr>\n",
       "      <td>2</td>\n",
       "      <td>409Wp</td>\n",
       "      <td>1.022732</td>\n",
       "      <td>0.151990</td>\n",
       "      <td>1.419926</td>\n",
       "      <td>85.265647</td>\n",
       "    </tr>\n",
       "    <tr>\n",
       "      <td>3</td>\n",
       "      <td>iJLyR</td>\n",
       "      <td>-0.032172</td>\n",
       "      <td>0.139033</td>\n",
       "      <td>2.978566</td>\n",
       "      <td>168.620776</td>\n",
       "    </tr>\n",
       "    <tr>\n",
       "      <td>4</td>\n",
       "      <td>Xdl7t</td>\n",
       "      <td>1.988431</td>\n",
       "      <td>0.155413</td>\n",
       "      <td>4.751769</td>\n",
       "      <td>154.036647</td>\n",
       "    </tr>\n",
       "  </tbody>\n",
       "</table>\n",
       "</div>"
      ],
      "text/plain": [
       "      id        f0        f1        f2     product\n",
       "0  txEyH  0.705745 -0.497823  1.221170  105.280062\n",
       "1  2acmU  1.334711 -0.340164  4.365080   73.037750\n",
       "2  409Wp  1.022732  0.151990  1.419926   85.265647\n",
       "3  iJLyR -0.032172  0.139033  2.978566  168.620776\n",
       "4  Xdl7t  1.988431  0.155413  4.751769  154.036647"
      ]
     },
     "metadata": {},
     "output_type": "display_data"
    },
    {
     "data": {
      "text/html": [
       "<div>\n",
       "<style scoped>\n",
       "    .dataframe tbody tr th:only-of-type {\n",
       "        vertical-align: middle;\n",
       "    }\n",
       "\n",
       "    .dataframe tbody tr th {\n",
       "        vertical-align: top;\n",
       "    }\n",
       "\n",
       "    .dataframe thead th {\n",
       "        text-align: right;\n",
       "    }\n",
       "</style>\n",
       "<table border=\"1\" class=\"dataframe\">\n",
       "  <thead>\n",
       "    <tr style=\"text-align: right;\">\n",
       "      <th></th>\n",
       "      <th>id</th>\n",
       "      <th>f0</th>\n",
       "      <th>f1</th>\n",
       "      <th>f2</th>\n",
       "      <th>product</th>\n",
       "    </tr>\n",
       "  </thead>\n",
       "  <tbody>\n",
       "    <tr>\n",
       "      <td>0</td>\n",
       "      <td>kBEdx</td>\n",
       "      <td>-15.001348</td>\n",
       "      <td>-8.276000</td>\n",
       "      <td>-0.005876</td>\n",
       "      <td>3.179103</td>\n",
       "    </tr>\n",
       "    <tr>\n",
       "      <td>1</td>\n",
       "      <td>62mP7</td>\n",
       "      <td>14.272088</td>\n",
       "      <td>-3.475083</td>\n",
       "      <td>0.999183</td>\n",
       "      <td>26.953261</td>\n",
       "    </tr>\n",
       "    <tr>\n",
       "      <td>2</td>\n",
       "      <td>vyE1P</td>\n",
       "      <td>6.263187</td>\n",
       "      <td>-5.948386</td>\n",
       "      <td>5.001160</td>\n",
       "      <td>134.766305</td>\n",
       "    </tr>\n",
       "    <tr>\n",
       "      <td>3</td>\n",
       "      <td>KcrkZ</td>\n",
       "      <td>-13.081196</td>\n",
       "      <td>-11.506057</td>\n",
       "      <td>4.999415</td>\n",
       "      <td>137.945408</td>\n",
       "    </tr>\n",
       "    <tr>\n",
       "      <td>4</td>\n",
       "      <td>AHL4O</td>\n",
       "      <td>12.702195</td>\n",
       "      <td>-8.147433</td>\n",
       "      <td>5.004363</td>\n",
       "      <td>134.766305</td>\n",
       "    </tr>\n",
       "  </tbody>\n",
       "</table>\n",
       "</div>"
      ],
      "text/plain": [
       "      id         f0         f1        f2     product\n",
       "0  kBEdx -15.001348  -8.276000 -0.005876    3.179103\n",
       "1  62mP7  14.272088  -3.475083  0.999183   26.953261\n",
       "2  vyE1P   6.263187  -5.948386  5.001160  134.766305\n",
       "3  KcrkZ -13.081196 -11.506057  4.999415  137.945408\n",
       "4  AHL4O  12.702195  -8.147433  5.004363  134.766305"
      ]
     },
     "metadata": {},
     "output_type": "display_data"
    },
    {
     "data": {
      "text/html": [
       "<div>\n",
       "<style scoped>\n",
       "    .dataframe tbody tr th:only-of-type {\n",
       "        vertical-align: middle;\n",
       "    }\n",
       "\n",
       "    .dataframe tbody tr th {\n",
       "        vertical-align: top;\n",
       "    }\n",
       "\n",
       "    .dataframe thead th {\n",
       "        text-align: right;\n",
       "    }\n",
       "</style>\n",
       "<table border=\"1\" class=\"dataframe\">\n",
       "  <thead>\n",
       "    <tr style=\"text-align: right;\">\n",
       "      <th></th>\n",
       "      <th>id</th>\n",
       "      <th>f0</th>\n",
       "      <th>f1</th>\n",
       "      <th>f2</th>\n",
       "      <th>product</th>\n",
       "    </tr>\n",
       "  </thead>\n",
       "  <tbody>\n",
       "    <tr>\n",
       "      <td>0</td>\n",
       "      <td>fwXo0</td>\n",
       "      <td>-1.146987</td>\n",
       "      <td>0.963328</td>\n",
       "      <td>-0.828965</td>\n",
       "      <td>27.758673</td>\n",
       "    </tr>\n",
       "    <tr>\n",
       "      <td>1</td>\n",
       "      <td>WJtFt</td>\n",
       "      <td>0.262778</td>\n",
       "      <td>0.269839</td>\n",
       "      <td>-2.530187</td>\n",
       "      <td>56.069697</td>\n",
       "    </tr>\n",
       "    <tr>\n",
       "      <td>2</td>\n",
       "      <td>ovLUW</td>\n",
       "      <td>0.194587</td>\n",
       "      <td>0.289035</td>\n",
       "      <td>-5.586433</td>\n",
       "      <td>62.871910</td>\n",
       "    </tr>\n",
       "    <tr>\n",
       "      <td>3</td>\n",
       "      <td>q6cA6</td>\n",
       "      <td>2.236060</td>\n",
       "      <td>-0.553760</td>\n",
       "      <td>0.930038</td>\n",
       "      <td>114.572842</td>\n",
       "    </tr>\n",
       "    <tr>\n",
       "      <td>4</td>\n",
       "      <td>WPMUX</td>\n",
       "      <td>-0.515993</td>\n",
       "      <td>1.716266</td>\n",
       "      <td>5.899011</td>\n",
       "      <td>149.600746</td>\n",
       "    </tr>\n",
       "  </tbody>\n",
       "</table>\n",
       "</div>"
      ],
      "text/plain": [
       "      id        f0        f1        f2     product\n",
       "0  fwXo0 -1.146987  0.963328 -0.828965   27.758673\n",
       "1  WJtFt  0.262778  0.269839 -2.530187   56.069697\n",
       "2  ovLUW  0.194587  0.289035 -5.586433   62.871910\n",
       "3  q6cA6  2.236060 -0.553760  0.930038  114.572842\n",
       "4  WPMUX -0.515993  1.716266  5.899011  149.600746"
      ]
     },
     "execution_count": 70,
     "metadata": {},
     "output_type": "execute_result"
    }
   ],
   "source": [
    "display(data1.head())\n",
    "display(data2.head())\n",
    "data3.head()"
   ]
  },
  {
   "cell_type": "markdown",
   "metadata": {},
   "source": [
    "Колонка id - не является нужным признаком для построение модели, однако там содержиться название скважины, поэтому сохраним id в виде индексов датасета."
   ]
  },
  {
   "cell_type": "code",
   "execution_count": 71,
   "metadata": {},
   "outputs": [],
   "source": [
    "data1.set_index('id', inplace=True)\n",
    "data2.set_index('id', inplace=True)\n",
    "data3.set_index('id', inplace=True)"
   ]
  },
  {
   "cell_type": "code",
   "execution_count": 72,
   "metadata": {},
   "outputs": [],
   "source": [
    "# обучения и предсказания модели\n",
    "def get_target(data):\n",
    "    features = data.drop(['product'], axis =1)\n",
    "    target = data['product']\n",
    "    features_train, features_valid, target_train, target_valid = train_test_split(features, target, test_size=0.25, random_state=100)\n",
    "    return target_valid\n",
    "\n",
    "def training(data):\n",
    "    features = data.drop(['product'], axis =1)\n",
    "    target = data['product']\n",
    "    features_train, features_valid, target_train, target_valid = train_test_split(features, target, test_size=0.25, random_state=100)\n",
    "    \n",
    "    model = LinearRegression()\n",
    "    model.fit(features_train, target_train)\n",
    "    predictions = model.predict(features_valid)\n",
    "    return predictions\n",
    "    \n",
    "def metrics(data, predictions): \n",
    "    features = data.drop(['product'], axis =1)\n",
    "    target = data['product']\n",
    "    features_train, features_valid, target_train, target_valid = train_test_split(features, target, test_size=0.25, random_state=100)\n",
    "    mean_predicted_product = predictions.mean()\n",
    "    rmse = (mean_squared_error(target_valid,predictions))**0.5\n",
    "    print(f'Средний запас предсказанного сырья: {mean_predicted_product:.2f} тыс. барралей')\n",
    "    print(f\"Метрика RMSE: {rmse:.2f}\")  \n",
    "    "
   ]
  },
  {
   "cell_type": "code",
   "execution_count": 73,
   "metadata": {},
   "outputs": [
    {
     "name": "stdout",
     "output_type": "stream",
     "text": [
      "Средний запас предсказанного сырья: 92.36 тыс. барралей\n",
      "Метрика RMSE: 37.70\n"
     ]
    }
   ],
   "source": [
    "# смотрим первый регион\n",
    "target1 = get_target(data1)\n",
    "predictions1=training(data1)\n",
    "metrics(data1, predictions1)\n"
   ]
  },
  {
   "cell_type": "markdown",
   "metadata": {},
   "source": [
    "Средний обьем запасов региона около 92 тыс. барралей. Метрика MSE очень большая и достигает 38 на обьект"
   ]
  },
  {
   "cell_type": "code",
   "execution_count": 74,
   "metadata": {},
   "outputs": [
    {
     "name": "stdout",
     "output_type": "stream",
     "text": [
      "Средний запас предсказанного сырья: 68.77 тыс. барралей\n",
      "Метрика RMSE: 0.89\n"
     ]
    }
   ],
   "source": [
    "target2 = get_target(data2)\n",
    "predictions2=training(data2)\n",
    "metrics(data2, predictions2)"
   ]
  },
  {
   "cell_type": "markdown",
   "metadata": {},
   "source": [
    "Средний обьем региона 2 уже скромнее, но в тоже время ошибка практически отсуствует"
   ]
  },
  {
   "cell_type": "code",
   "execution_count": 75,
   "metadata": {},
   "outputs": [
    {
     "name": "stdout",
     "output_type": "stream",
     "text": [
      "Средний запас предсказанного сырья: 94.91 тыс. барралей\n",
      "Метрика RMSE: 40.11\n"
     ]
    }
   ],
   "source": [
    "target3 = get_target(data3)\n",
    "predictions3=training(data3)\n",
    "metrics(data3, predictions3)\n",
    "    "
   ]
  },
  {
   "cell_type": "markdown",
   "metadata": {},
   "source": [
    "Тут такая же ситуация как и с первым регионом сквожины всреднем по мнению модели имеют большее количество нефти, однако MSE уже составляет около 40 тыс. барралей."
   ]
  },
  {
   "cell_type": "markdown",
   "metadata": {},
   "source": [
    "Регионы 1 и 3 богаче региона 2 в среднем, однако метрики MSE у них гораздо хуже, а значит у них и больший риск убытка."
   ]
  },
  {
   "cell_type": "markdown",
   "metadata": {},
   "source": [
    "## Подготовка к расчёту прибыли"
   ]
  },
  {
   "cell_type": "code",
   "execution_count": 76,
   "metadata": {},
   "outputs": [],
   "source": [
    "# выпишим ключевые переменные для расчета прибыли\n",
    "budget = 10000000000\n",
    "well_scouting = 500\n",
    "well_developing = 200\n",
    "price_for_barell = 450000\n",
    "probability_losses = 0.025"
   ]
  },
  {
   "cell_type": "code",
   "execution_count": 77,
   "metadata": {},
   "outputs": [
    {
     "data": {
      "text/plain": [
       "111.11111111111111"
      ]
     },
     "execution_count": 77,
     "metadata": {},
     "output_type": "execute_result"
    }
   ],
   "source": [
    "# расчитаем минимальное средние количество запасов нефти\n",
    "# разделим бюджет на цену тыс. барралей и на количество скважин для разработки\n",
    "min_mean_value = budget/price_for_barell/well_developing\n",
    "min_mean_value"
   ]
  },
  {
   "cell_type": "markdown",
   "metadata": {},
   "source": [
    "Выходит чтобы покрыть расходы на бюджет нужно, чтобы каждая из 200 скважин в среднем имела запас 111,12 тыс. барралей. Учитывая данные полученные выше по регионам, необходимо более детально отобрать наиболее богатые скважины, иначе данный проект может стать убыточным."
   ]
  },
  {
   "cell_type": "code",
   "execution_count": 78,
   "metadata": {},
   "outputs": [],
   "source": [
    "#Пропишем функцию для расчета прибыли\n",
    "def revenue(selected, price_for_barell, budget):\n",
    "    revenue = selected[:200].sum()*price_for_barell-budget\n",
    "    return revenue\n"
   ]
  },
  {
   "cell_type": "markdown",
   "metadata": {},
   "source": [
    "## Расчёт прибыли и рисков "
   ]
  },
  {
   "cell_type": "code",
   "execution_count": 91,
   "metadata": {},
   "outputs": [],
   "source": [
    "# расчитаем распределение прибыли по регионам с помощью Bootstrap:\n",
    "def count_revenue(predictions, target):\n",
    "    state = np.random.RandomState(100)\n",
    "    values = []\n",
    "    for i in range(1000):\n",
    "        predictions = pd.Series(predictions, index=target.index)\n",
    "        wells_for_scouting = predictions.sample(n=well_scouting, random_state=state, replace=True)\n",
    "        wells = wells_for_scouting.sort_values(ascending=False)  \n",
    "        selected = target[wells.index]\n",
    "        x = revenue(selected, price_for_barell, budget)\n",
    "        values.append(x.mean()/1000000)\n",
    "    return values\n",
    "    \n",
    " "
   ]
  },
  {
   "cell_type": "code",
   "execution_count": 92,
   "metadata": {},
   "outputs": [
    {
     "data": {
      "text/plain": [
       "473.6865498309988"
      ]
     },
     "execution_count": 92,
     "metadata": {},
     "output_type": "execute_result"
    }
   ],
   "source": [
    "values1 = count_revenue(predictions1, target1)\n",
    "values1=pd.Series(values1)\n",
    "values1.mean()"
   ]
  },
  {
   "cell_type": "markdown",
   "metadata": {},
   "source": [
    "Средняя прибыль региона 1 около 474 млн. р. "
   ]
  },
  {
   "cell_type": "code",
   "execution_count": 110,
   "metadata": {},
   "outputs": [
    {
     "name": "stdout",
     "output_type": "stream",
     "text": [
      "6.21590654734547\n"
     ]
    },
    {
     "data": {
      "text/plain": [
       "77.39498916026398"
      ]
     },
     "execution_count": 110,
     "metadata": {},
     "output_type": "execute_result"
    }
   ],
   "source": [
    "#найдем доверительный интервал месторождений 1 региона\n",
    "profit1 = target1*price_for_barell/1000000\n",
    "print(profit1.quantile(0.025))\n",
    "profit1.quantile(0.975)"
   ]
  },
  {
   "cell_type": "code",
   "execution_count": 93,
   "metadata": {},
   "outputs": [
    {
     "data": {
      "text/plain": [
       "-38.70556500310792"
      ]
     },
     "execution_count": 93,
     "metadata": {},
     "output_type": "execute_result"
    }
   ],
   "source": [
    "#оценим убыточность для этого найдем 0.025 квантиль\n",
    "values1.quantile(probability_losses)"
   ]
  },
  {
   "cell_type": "markdown",
   "metadata": {},
   "source": [
    "Квантиль отрицательный - регион имеет вероятность убытков свыше 2,5%"
   ]
  },
  {
   "cell_type": "code",
   "execution_count": 94,
   "metadata": {},
   "outputs": [
    {
     "data": {
      "text/plain": [
       "441.0958734877939"
      ]
     },
     "execution_count": 94,
     "metadata": {},
     "output_type": "execute_result"
    }
   ],
   "source": [
    "# расчитаем для 2 региона\n",
    "values2 = count_revenue(predictions2, target2)\n",
    "values2=pd.Series(values2)\n",
    "values2.mean()"
   ]
  },
  {
   "cell_type": "markdown",
   "metadata": {},
   "source": [
    "Средняя прибыль региона 2 немного ниже 440 млн р."
   ]
  },
  {
   "cell_type": "code",
   "execution_count": 111,
   "metadata": {},
   "outputs": [
    {
     "name": "stdout",
     "output_type": "stream",
     "text": [
      "0.0\n"
     ]
    },
    {
     "data": {
      "text/plain": [
       "62.07543348340754"
      ]
     },
     "execution_count": 111,
     "metadata": {},
     "output_type": "execute_result"
    }
   ],
   "source": [
    "profit2 = target2*price_for_barell/1000000\n",
    "print(profit2.quantile(0.025))\n",
    "profit2.quantile(0.975)"
   ]
  },
  {
   "cell_type": "code",
   "execution_count": 95,
   "metadata": {},
   "outputs": [
    {
     "data": {
      "text/plain": [
       "52.31096479856335"
      ]
     },
     "execution_count": 95,
     "metadata": {},
     "output_type": "execute_result"
    }
   ],
   "source": [
    "#оценим убыточность для этого найдем 0.025 квантиль\n",
    "values2.quantile(probability_losses)"
   ]
  },
  {
   "cell_type": "markdown",
   "metadata": {},
   "source": [
    "Квантиль положительный регион не убыточный."
   ]
  },
  {
   "cell_type": "code",
   "execution_count": 96,
   "metadata": {},
   "outputs": [
    {
     "data": {
      "text/plain": [
       "377.52432889425586"
      ]
     },
     "execution_count": 96,
     "metadata": {},
     "output_type": "execute_result"
    }
   ],
   "source": [
    "# расчитаем для 3 региона\n",
    "values3 = count_revenue(predictions3, target3)\n",
    "values3=pd.Series(values3)\n",
    "values3.mean()"
   ]
  },
  {
   "cell_type": "code",
   "execution_count": 112,
   "metadata": {},
   "outputs": [
    {
     "name": "stdout",
     "output_type": "stream",
     "text": [
      "5.690919525508897\n"
     ]
    },
    {
     "data": {
      "text/plain": [
       "80.45185089788957"
      ]
     },
     "execution_count": 112,
     "metadata": {},
     "output_type": "execute_result"
    }
   ],
   "source": [
    "profit3 = target3*price_for_barell/1000000\n",
    "print(profit3.quantile(0.025))\n",
    "profit3.quantile(0.975)"
   ]
  },
  {
   "cell_type": "markdown",
   "metadata": {},
   "source": [
    "Регион 3 имеет намного ниже параметры. Средняя прибыль 378 млн.р. "
   ]
  },
  {
   "cell_type": "code",
   "execution_count": 97,
   "metadata": {},
   "outputs": [
    {
     "data": {
      "text/plain": [
       "-173.8663137285789"
      ]
     },
     "execution_count": 97,
     "metadata": {},
     "output_type": "execute_result"
    }
   ],
   "source": [
    "#оценим убыточность для этого найдем 0.025 квантиль\n",
    "values3.quantile(probability_losses)"
   ]
  },
  {
   "cell_type": "markdown",
   "metadata": {},
   "source": [
    "Квантиль отрицательный регион убыточный"
   ]
  },
  {
   "cell_type": "markdown",
   "metadata": {},
   "source": [
    "При анализе только регион 2 имеет низкую степень убыточности. При анализе Boostrap с использованием самых дорогих точек этот регион обладает высоким результатом для нефтедобывающего проекта. Также стоит отметить, что метрика MSE  у региона 2 была ниже всех, значит прогноз региона модель делает с хорошей надежностью."
   ]
  }
 ],
 "metadata": {
  "ExecuteTimeLog": [
   {
    "duration": 66,
    "start_time": "2022-02-24T10:11:11.523Z"
   },
   {
    "duration": 73,
    "start_time": "2022-02-24T10:12:26.098Z"
   },
   {
    "duration": 1050,
    "start_time": "2022-02-24T10:13:11.507Z"
   },
   {
    "duration": 362,
    "start_time": "2022-02-24T10:14:22.076Z"
   },
   {
    "duration": 1052,
    "start_time": "2022-02-24T14:54:15.129Z"
   },
   {
    "duration": 372,
    "start_time": "2022-02-24T14:54:16.183Z"
   },
   {
    "duration": 31,
    "start_time": "2022-02-24T14:54:46.809Z"
   },
   {
    "duration": 13,
    "start_time": "2022-02-24T14:55:39.105Z"
   },
   {
    "duration": 13,
    "start_time": "2022-02-24T14:55:52.953Z"
   },
   {
    "duration": 13,
    "start_time": "2022-02-24T14:56:02.329Z"
   },
   {
    "duration": 11,
    "start_time": "2022-02-24T14:56:15.484Z"
   },
   {
    "duration": 16,
    "start_time": "2022-02-24T14:56:38.905Z"
   },
   {
    "duration": 22,
    "start_time": "2022-02-24T14:56:55.881Z"
   },
   {
    "duration": 25,
    "start_time": "2022-02-24T15:06:21.815Z"
   },
   {
    "duration": 24,
    "start_time": "2022-02-24T15:06:21.842Z"
   },
   {
    "duration": 24,
    "start_time": "2022-02-24T15:06:40.583Z"
   },
   {
    "duration": 254,
    "start_time": "2022-02-24T15:18:03.253Z"
   },
   {
    "duration": 3,
    "start_time": "2022-02-24T15:19:18.100Z"
   },
   {
    "duration": 4,
    "start_time": "2022-02-24T15:22:49.523Z"
   },
   {
    "duration": 365,
    "start_time": "2022-02-24T15:23:27.659Z"
   },
   {
    "duration": 4,
    "start_time": "2022-02-24T15:23:45.164Z"
   },
   {
    "duration": 373,
    "start_time": "2022-02-24T15:23:46.340Z"
   },
   {
    "duration": 5,
    "start_time": "2022-02-24T15:25:04.435Z"
   },
   {
    "duration": 379,
    "start_time": "2022-02-24T15:25:05.187Z"
   },
   {
    "duration": 4,
    "start_time": "2022-02-24T15:25:38.227Z"
   },
   {
    "duration": 259,
    "start_time": "2022-02-24T15:25:40.171Z"
   },
   {
    "duration": 370,
    "start_time": "2022-02-24T15:25:48.531Z"
   },
   {
    "duration": 4,
    "start_time": "2022-02-24T15:27:17.235Z"
   },
   {
    "duration": 368,
    "start_time": "2022-02-24T15:27:17.282Z"
   },
   {
    "duration": 13,
    "start_time": "2022-02-24T15:27:34.011Z"
   },
   {
    "duration": 353,
    "start_time": "2022-02-24T15:27:35.571Z"
   },
   {
    "duration": 4,
    "start_time": "2022-02-24T15:27:56.827Z"
   },
   {
    "duration": 368,
    "start_time": "2022-02-24T15:27:57.939Z"
   },
   {
    "duration": 3,
    "start_time": "2022-02-24T15:28:36.069Z"
   },
   {
    "duration": 358,
    "start_time": "2022-02-24T15:28:36.074Z"
   },
   {
    "duration": 38,
    "start_time": "2022-02-24T15:28:36.434Z"
   },
   {
    "duration": 20,
    "start_time": "2022-02-24T15:28:36.474Z"
   },
   {
    "duration": 4,
    "start_time": "2022-02-24T15:28:36.496Z"
   },
   {
    "duration": 465,
    "start_time": "2022-02-24T15:28:36.501Z"
   },
   {
    "duration": 4,
    "start_time": "2022-02-24T15:28:54.850Z"
   },
   {
    "duration": 438,
    "start_time": "2022-02-24T15:28:55.594Z"
   },
   {
    "duration": 4,
    "start_time": "2022-02-24T15:29:18.459Z"
   },
   {
    "duration": 378,
    "start_time": "2022-02-24T15:29:19.211Z"
   },
   {
    "duration": 6,
    "start_time": "2022-02-24T15:31:09.620Z"
   },
   {
    "duration": 413,
    "start_time": "2022-02-24T15:31:10.548Z"
   },
   {
    "duration": 4,
    "start_time": "2022-02-24T15:38:55.750Z"
   },
   {
    "duration": 188,
    "start_time": "2022-02-24T15:42:42.486Z"
   },
   {
    "duration": 11,
    "start_time": "2022-02-24T15:43:01.223Z"
   },
   {
    "duration": 4,
    "start_time": "2022-02-24T15:43:05.583Z"
   },
   {
    "duration": 420,
    "start_time": "2022-02-24T15:43:08.935Z"
   },
   {
    "duration": 20,
    "start_time": "2022-02-24T15:43:37.767Z"
   },
   {
    "duration": 119,
    "start_time": "2022-02-24T15:45:01.271Z"
   },
   {
    "duration": 4867,
    "start_time": "2022-02-24T15:45:08.903Z"
   },
   {
    "duration": 60,
    "start_time": "2022-02-24T15:45:41.887Z"
   },
   {
    "duration": 7,
    "start_time": "2022-02-24T15:45:49.095Z"
   },
   {
    "duration": 8,
    "start_time": "2022-02-24T15:46:07.392Z"
   },
   {
    "duration": 3,
    "start_time": "2022-02-24T15:46:49.959Z"
   },
   {
    "duration": 5,
    "start_time": "2022-02-24T15:47:37.128Z"
   },
   {
    "duration": 401,
    "start_time": "2022-02-24T15:47:55.759Z"
   },
   {
    "duration": 4,
    "start_time": "2022-02-24T15:48:56.743Z"
   },
   {
    "duration": 117,
    "start_time": "2022-02-24T15:48:58.247Z"
   },
   {
    "duration": 4,
    "start_time": "2022-02-24T15:49:14.039Z"
   },
   {
    "duration": 410,
    "start_time": "2022-02-24T15:49:14.070Z"
   },
   {
    "duration": 8,
    "start_time": "2022-02-24T15:49:18.791Z"
   },
   {
    "duration": 109,
    "start_time": "2022-02-24T15:49:19.655Z"
   },
   {
    "duration": 4,
    "start_time": "2022-02-24T15:50:39.287Z"
   },
   {
    "duration": 4,
    "start_time": "2022-02-24T15:51:06.079Z"
   },
   {
    "duration": 90,
    "start_time": "2022-02-24T15:51:06.479Z"
   },
   {
    "duration": 4,
    "start_time": "2022-02-24T15:51:14.239Z"
   },
   {
    "duration": 53,
    "start_time": "2022-02-24T15:51:14.607Z"
   },
   {
    "duration": 5,
    "start_time": "2022-02-24T15:51:54.111Z"
   },
   {
    "duration": 160,
    "start_time": "2022-02-24T15:51:55.599Z"
   },
   {
    "duration": 5,
    "start_time": "2022-02-24T15:52:36.271Z"
   },
   {
    "duration": 133,
    "start_time": "2022-02-24T15:52:36.927Z"
   },
   {
    "duration": 5,
    "start_time": "2022-02-24T15:52:41.799Z"
   },
   {
    "duration": 160,
    "start_time": "2022-02-24T15:52:42.599Z"
   },
   {
    "duration": 5,
    "start_time": "2022-02-24T15:53:15.879Z"
   },
   {
    "duration": 90,
    "start_time": "2022-02-24T15:53:16.271Z"
   },
   {
    "duration": 5,
    "start_time": "2022-02-24T15:53:48.879Z"
   },
   {
    "duration": 93,
    "start_time": "2022-02-24T15:53:49.167Z"
   },
   {
    "duration": 116,
    "start_time": "2022-02-24T15:59:26.247Z"
   },
   {
    "duration": 123,
    "start_time": "2022-02-24T16:01:15.551Z"
   },
   {
    "duration": 5,
    "start_time": "2022-02-24T16:05:49.919Z"
   },
   {
    "duration": 7,
    "start_time": "2022-02-24T16:06:16.800Z"
   },
   {
    "duration": 100,
    "start_time": "2022-02-24T16:08:05.023Z"
   },
   {
    "duration": 364,
    "start_time": "2022-02-24T16:08:05.125Z"
   },
   {
    "duration": 202,
    "start_time": "2022-02-24T16:31:57.632Z"
   },
   {
    "duration": 3,
    "start_time": "2022-02-24T16:32:01.640Z"
   },
   {
    "duration": 3,
    "start_time": "2022-02-24T16:32:03.415Z"
   },
   {
    "duration": 4,
    "start_time": "2022-02-24T16:32:09.767Z"
   },
   {
    "duration": 6,
    "start_time": "2022-02-24T16:42:06.421Z"
   },
   {
    "duration": 459,
    "start_time": "2022-02-24T16:42:30.559Z"
   },
   {
    "duration": 186,
    "start_time": "2022-02-24T16:46:19.262Z"
   },
   {
    "duration": 225,
    "start_time": "2022-02-24T16:46:27.150Z"
   },
   {
    "duration": 4,
    "start_time": "2022-02-24T16:46:56.648Z"
   },
   {
    "duration": 392,
    "start_time": "2022-02-24T16:46:56.654Z"
   },
   {
    "duration": 30,
    "start_time": "2022-02-24T16:46:57.048Z"
   },
   {
    "duration": 21,
    "start_time": "2022-02-24T16:46:57.079Z"
   },
   {
    "duration": 10,
    "start_time": "2022-02-24T16:46:57.102Z"
   },
   {
    "duration": 304,
    "start_time": "2022-02-24T16:46:57.114Z"
   },
   {
    "duration": 1275,
    "start_time": "2022-02-24T16:46:56.145Z"
   },
   {
    "duration": 1275,
    "start_time": "2022-02-24T16:46:56.146Z"
   },
   {
    "duration": 1273,
    "start_time": "2022-02-24T16:46:56.149Z"
   },
   {
    "duration": 1273,
    "start_time": "2022-02-24T16:46:56.150Z"
   },
   {
    "duration": 1274,
    "start_time": "2022-02-24T16:46:56.150Z"
   },
   {
    "duration": 232,
    "start_time": "2022-02-24T16:47:15.590Z"
   },
   {
    "duration": 113,
    "start_time": "2022-02-24T16:47:19.046Z"
   },
   {
    "duration": 125,
    "start_time": "2022-02-24T16:48:00.141Z"
   },
   {
    "duration": 127,
    "start_time": "2022-02-24T16:48:25.134Z"
   },
   {
    "duration": 189,
    "start_time": "2022-02-24T16:50:18.973Z"
   },
   {
    "duration": 5,
    "start_time": "2022-02-24T16:50:33.517Z"
   },
   {
    "duration": 213,
    "start_time": "2022-02-24T16:50:45.069Z"
   },
   {
    "duration": 4,
    "start_time": "2022-02-24T16:50:54.133Z"
   },
   {
    "duration": 4,
    "start_time": "2022-02-24T16:51:19.021Z"
   },
   {
    "duration": 3,
    "start_time": "2022-02-24T16:52:12.396Z"
   },
   {
    "duration": 3,
    "start_time": "2022-02-24T16:52:19.581Z"
   },
   {
    "duration": 4,
    "start_time": "2022-02-24T16:52:20.229Z"
   },
   {
    "duration": 1024,
    "start_time": "2022-02-25T06:58:35.735Z"
   },
   {
    "duration": 359,
    "start_time": "2022-02-25T06:58:36.760Z"
   },
   {
    "duration": 30,
    "start_time": "2022-02-25T06:58:37.121Z"
   },
   {
    "duration": 20,
    "start_time": "2022-02-25T06:58:37.153Z"
   },
   {
    "duration": 9,
    "start_time": "2022-02-25T06:58:37.174Z"
   },
   {
    "duration": 150,
    "start_time": "2022-02-25T06:58:37.185Z"
   },
   {
    "duration": 197,
    "start_time": "2022-02-25T06:58:37.338Z"
   },
   {
    "duration": 193,
    "start_time": "2022-02-25T06:58:37.538Z"
   },
   {
    "duration": 4,
    "start_time": "2022-02-25T06:58:37.734Z"
   },
   {
    "duration": 97,
    "start_time": "2022-02-25T06:58:37.740Z"
   },
   {
    "duration": 5,
    "start_time": "2022-02-25T06:58:37.839Z"
   },
   {
    "duration": 276,
    "start_time": "2022-02-25T06:58:37.846Z"
   },
   {
    "duration": 342,
    "start_time": "2022-02-25T07:00:40.490Z"
   },
   {
    "duration": 3,
    "start_time": "2022-02-25T07:01:26.086Z"
   },
   {
    "duration": 396,
    "start_time": "2022-02-25T07:01:27.323Z"
   },
   {
    "duration": 4,
    "start_time": "2022-02-25T07:01:55.331Z"
   },
   {
    "duration": 307,
    "start_time": "2022-02-25T07:01:57.169Z"
   },
   {
    "duration": 857,
    "start_time": "2022-02-25T07:02:04.097Z"
   },
   {
    "duration": 225,
    "start_time": "2022-02-25T07:05:30.231Z"
   },
   {
    "duration": 4,
    "start_time": "2022-02-25T07:05:32.261Z"
   },
   {
    "duration": 47,
    "start_time": "2022-02-25T07:05:34.087Z"
   },
   {
    "duration": 4,
    "start_time": "2022-02-25T07:05:50.319Z"
   },
   {
    "duration": 4,
    "start_time": "2022-02-25T07:08:25.599Z"
   },
   {
    "duration": 189,
    "start_time": "2022-02-25T07:08:26.301Z"
   },
   {
    "duration": 206,
    "start_time": "2022-02-25T07:08:33.208Z"
   },
   {
    "duration": 3,
    "start_time": "2022-02-25T07:08:41.713Z"
   },
   {
    "duration": 112,
    "start_time": "2022-02-25T07:08:42.520Z"
   },
   {
    "duration": 4,
    "start_time": "2022-02-25T07:08:45.776Z"
   },
   {
    "duration": 9,
    "start_time": "2022-02-25T07:10:07.504Z"
   },
   {
    "duration": 106,
    "start_time": "2022-02-25T07:10:07.524Z"
   },
   {
    "duration": 130,
    "start_time": "2022-02-25T07:10:23.105Z"
   },
   {
    "duration": 69,
    "start_time": "2022-02-25T07:11:11.962Z"
   },
   {
    "duration": 73,
    "start_time": "2022-02-25T07:12:40.958Z"
   },
   {
    "duration": 5,
    "start_time": "2022-02-25T07:12:51.827Z"
   },
   {
    "duration": 82,
    "start_time": "2022-02-25T07:12:52.349Z"
   },
   {
    "duration": 63,
    "start_time": "2022-02-25T07:12:53.390Z"
   },
   {
    "duration": 4,
    "start_time": "2022-02-25T07:14:26.006Z"
   },
   {
    "duration": 384,
    "start_time": "2022-02-25T07:14:27.117Z"
   },
   {
    "duration": 4,
    "start_time": "2022-02-25T07:14:34.398Z"
   },
   {
    "duration": 381,
    "start_time": "2022-02-25T07:14:35.038Z"
   },
   {
    "duration": 4,
    "start_time": "2022-02-25T07:14:52.506Z"
   },
   {
    "duration": 3,
    "start_time": "2022-02-25T07:14:55.694Z"
   },
   {
    "duration": 426,
    "start_time": "2022-02-25T07:14:55.699Z"
   },
   {
    "duration": 28,
    "start_time": "2022-02-25T07:14:56.127Z"
   },
   {
    "duration": 20,
    "start_time": "2022-02-25T07:14:56.157Z"
   },
   {
    "duration": 9,
    "start_time": "2022-02-25T07:14:56.178Z"
   },
   {
    "duration": 5,
    "start_time": "2022-02-25T07:14:56.188Z"
   },
   {
    "duration": 139,
    "start_time": "2022-02-25T07:14:56.195Z"
   },
   {
    "duration": 199,
    "start_time": "2022-02-25T07:14:56.336Z"
   },
   {
    "duration": 192,
    "start_time": "2022-02-25T07:14:56.539Z"
   },
   {
    "duration": 3,
    "start_time": "2022-02-25T07:14:56.734Z"
   },
   {
    "duration": 98,
    "start_time": "2022-02-25T07:14:56.739Z"
   },
   {
    "duration": 4,
    "start_time": "2022-02-25T07:14:56.839Z"
   },
   {
    "duration": 868,
    "start_time": "2022-02-25T07:14:56.845Z"
   },
   {
    "duration": 37,
    "start_time": "2022-02-25T07:15:22.598Z"
   },
   {
    "duration": 3,
    "start_time": "2022-02-25T07:16:58.591Z"
   },
   {
    "duration": 355,
    "start_time": "2022-02-25T07:16:58.596Z"
   },
   {
    "duration": 24,
    "start_time": "2022-02-25T07:16:58.953Z"
   },
   {
    "duration": 18,
    "start_time": "2022-02-25T07:16:58.979Z"
   },
   {
    "duration": 33,
    "start_time": "2022-02-25T07:16:58.998Z"
   },
   {
    "duration": 7,
    "start_time": "2022-02-25T07:16:59.033Z"
   },
   {
    "duration": 90,
    "start_time": "2022-02-25T07:16:59.042Z"
   },
   {
    "duration": 199,
    "start_time": "2022-02-25T07:16:59.133Z"
   },
   {
    "duration": 199,
    "start_time": "2022-02-25T07:16:59.335Z"
   },
   {
    "duration": 94,
    "start_time": "2022-02-25T07:16:59.536Z"
   },
   {
    "duration": 13,
    "start_time": "2022-02-25T07:16:59.632Z"
   },
   {
    "duration": 22,
    "start_time": "2022-02-25T07:16:59.646Z"
   },
   {
    "duration": 852,
    "start_time": "2022-02-25T07:16:59.669Z"
   },
   {
    "duration": 1641,
    "start_time": "2022-02-25T07:17:17.926Z"
   },
   {
    "duration": 4,
    "start_time": "2022-02-25T07:19:34.822Z"
   },
   {
    "duration": 850,
    "start_time": "2022-02-25T07:20:03.185Z"
   },
   {
    "duration": 875,
    "start_time": "2022-02-25T07:20:25.013Z"
   },
   {
    "duration": 3,
    "start_time": "2022-02-25T07:20:32.365Z"
   },
   {
    "duration": 3,
    "start_time": "2022-02-25T07:20:41.848Z"
   },
   {
    "duration": 4,
    "start_time": "2022-02-25T07:20:59.650Z"
   },
   {
    "duration": 844,
    "start_time": "2022-02-25T07:21:00.325Z"
   },
   {
    "duration": 817,
    "start_time": "2022-02-25T07:21:02.189Z"
   },
   {
    "duration": 1115,
    "start_time": "2022-02-25T07:21:55.069Z"
   },
   {
    "duration": 7177,
    "start_time": "2022-02-25T07:22:37.063Z"
   },
   {
    "duration": 890,
    "start_time": "2022-02-25T07:23:01.678Z"
   },
   {
    "duration": 952,
    "start_time": "2022-02-25T07:23:12.530Z"
   },
   {
    "duration": 5,
    "start_time": "2022-02-25T07:29:51.556Z"
   },
   {
    "duration": 1036,
    "start_time": "2022-02-25T07:29:52.340Z"
   },
   {
    "duration": 15,
    "start_time": "2022-02-25T07:29:54.807Z"
   },
   {
    "duration": 187,
    "start_time": "2022-02-25T07:30:25.921Z"
   },
   {
    "duration": 5,
    "start_time": "2022-02-25T07:30:55.306Z"
   },
   {
    "duration": 4,
    "start_time": "2022-02-25T07:32:03.147Z"
   },
   {
    "duration": 4,
    "start_time": "2022-02-25T07:32:04.202Z"
   },
   {
    "duration": 667,
    "start_time": "2022-02-25T07:32:04.879Z"
   },
   {
    "duration": 3,
    "start_time": "2022-02-25T07:33:14.023Z"
   },
   {
    "duration": 4,
    "start_time": "2022-02-25T07:33:14.786Z"
   },
   {
    "duration": 716,
    "start_time": "2022-02-25T07:33:15.218Z"
   },
   {
    "duration": 5,
    "start_time": "2022-02-25T07:33:38.114Z"
   },
   {
    "duration": 4,
    "start_time": "2022-02-25T07:35:03.259Z"
   },
   {
    "duration": 4,
    "start_time": "2022-02-25T07:35:04.106Z"
   },
   {
    "duration": 1166,
    "start_time": "2022-02-25T07:35:05.708Z"
   },
   {
    "duration": 5,
    "start_time": "2022-02-25T07:38:09.706Z"
   },
   {
    "duration": 5,
    "start_time": "2022-02-25T07:38:31.079Z"
   },
   {
    "duration": 218,
    "start_time": "2022-02-25T07:38:46.153Z"
   },
   {
    "duration": 5,
    "start_time": "2022-02-25T07:38:50.240Z"
   },
   {
    "duration": 5,
    "start_time": "2022-02-25T07:38:56.584Z"
   },
   {
    "duration": 171,
    "start_time": "2022-02-25T07:39:09.540Z"
   },
   {
    "duration": 178,
    "start_time": "2022-02-25T07:39:28.701Z"
   },
   {
    "duration": 247,
    "start_time": "2022-02-25T07:39:32.040Z"
   },
   {
    "duration": 182,
    "start_time": "2022-02-25T07:39:39.377Z"
   },
   {
    "duration": 5,
    "start_time": "2022-02-25T07:39:45.624Z"
   },
   {
    "duration": 3,
    "start_time": "2022-02-25T07:40:33.352Z"
   },
   {
    "duration": 5,
    "start_time": "2022-02-25T07:40:34.546Z"
   },
   {
    "duration": 901,
    "start_time": "2022-02-25T07:40:36.645Z"
   },
   {
    "duration": 5,
    "start_time": "2022-02-25T07:43:09.789Z"
   },
   {
    "duration": 290,
    "start_time": "2022-02-25T07:43:10.209Z"
   },
   {
    "duration": 202,
    "start_time": "2022-02-25T07:43:24.648Z"
   },
   {
    "duration": 217,
    "start_time": "2022-02-25T07:43:41.633Z"
   },
   {
    "duration": 5,
    "start_time": "2022-02-25T07:44:02.185Z"
   },
   {
    "duration": 222,
    "start_time": "2022-02-25T07:44:03.027Z"
   },
   {
    "duration": 208,
    "start_time": "2022-02-25T07:44:04.345Z"
   },
   {
    "duration": 201,
    "start_time": "2022-02-25T07:44:44.762Z"
   },
   {
    "duration": 3,
    "start_time": "2022-02-25T07:46:07.666Z"
   },
   {
    "duration": 4,
    "start_time": "2022-02-25T07:46:08.118Z"
   },
   {
    "duration": 5,
    "start_time": "2022-02-25T07:46:09.433Z"
   },
   {
    "duration": 3,
    "start_time": "2022-02-25T07:46:09.464Z"
   },
   {
    "duration": 3,
    "start_time": "2022-02-25T07:46:18.904Z"
   },
   {
    "duration": 5,
    "start_time": "2022-02-25T07:46:20.629Z"
   },
   {
    "duration": 815,
    "start_time": "2022-02-25T07:46:21.234Z"
   },
   {
    "duration": 886,
    "start_time": "2022-02-25T07:49:00.508Z"
   },
   {
    "duration": 1094,
    "start_time": "2022-02-25T07:49:06.084Z"
   },
   {
    "duration": 1035,
    "start_time": "2022-02-25T07:50:05.823Z"
   },
   {
    "duration": 1015,
    "start_time": "2022-02-25T07:51:24.691Z"
   },
   {
    "duration": 848,
    "start_time": "2022-02-25T07:51:56.994Z"
   },
   {
    "duration": 954,
    "start_time": "2022-02-25T07:52:03.057Z"
   },
   {
    "duration": 5,
    "start_time": "2022-02-25T07:52:32.965Z"
   },
   {
    "duration": 4,
    "start_time": "2022-02-25T07:52:55.938Z"
   },
   {
    "duration": 4,
    "start_time": "2022-02-25T07:53:15.618Z"
   },
   {
    "duration": 7,
    "start_time": "2022-02-25T07:53:18.443Z"
   },
   {
    "duration": 1012,
    "start_time": "2022-02-25T07:54:09.452Z"
   },
   {
    "duration": 5,
    "start_time": "2022-02-25T07:54:17.802Z"
   },
   {
    "duration": 1058,
    "start_time": "2022-02-25T07:54:36.649Z"
   },
   {
    "duration": 5,
    "start_time": "2022-02-25T07:54:54.130Z"
   },
   {
    "duration": 1008,
    "start_time": "2022-02-25T07:57:52.186Z"
   },
   {
    "duration": 1081,
    "start_time": "2022-02-25T07:59:07.097Z"
   },
   {
    "duration": 1061,
    "start_time": "2022-02-25T07:59:40.880Z"
   },
   {
    "duration": 1062,
    "start_time": "2022-02-25T07:59:52.322Z"
   },
   {
    "duration": 1015,
    "start_time": "2022-02-25T07:59:56.406Z"
   },
   {
    "duration": 4,
    "start_time": "2022-02-25T08:00:37.725Z"
   },
   {
    "duration": 419,
    "start_time": "2022-02-25T08:00:37.732Z"
   },
   {
    "duration": 24,
    "start_time": "2022-02-25T08:00:38.153Z"
   },
   {
    "duration": 23,
    "start_time": "2022-02-25T08:00:38.179Z"
   },
   {
    "duration": 42,
    "start_time": "2022-02-25T08:00:38.204Z"
   },
   {
    "duration": 16,
    "start_time": "2022-02-25T08:00:38.249Z"
   },
   {
    "duration": 190,
    "start_time": "2022-02-25T08:00:38.267Z"
   },
   {
    "duration": 292,
    "start_time": "2022-02-25T08:00:38.458Z"
   },
   {
    "duration": 205,
    "start_time": "2022-02-25T08:00:38.753Z"
   },
   {
    "duration": 3,
    "start_time": "2022-02-25T08:00:38.961Z"
   },
   {
    "duration": 7,
    "start_time": "2022-02-25T08:00:38.966Z"
   },
   {
    "duration": 4,
    "start_time": "2022-02-25T08:00:38.975Z"
   },
   {
    "duration": 58,
    "start_time": "2022-02-25T08:00:38.980Z"
   },
   {
    "duration": 1076,
    "start_time": "2022-02-25T08:00:39.040Z"
   },
   {
    "duration": 1056,
    "start_time": "2022-02-25T08:00:40.119Z"
   },
   {
    "duration": 72,
    "start_time": "2022-02-25T08:00:41.176Z"
   },
   {
    "duration": 1028,
    "start_time": "2022-02-25T08:01:42.566Z"
   },
   {
    "duration": 1208,
    "start_time": "2022-02-25T08:01:46.471Z"
   },
   {
    "duration": 1042,
    "start_time": "2022-02-25T08:01:51.065Z"
   },
   {
    "duration": 1049,
    "start_time": "2022-02-25T08:01:54.723Z"
   },
   {
    "duration": 785,
    "start_time": "2022-02-25T08:06:42.255Z"
   },
   {
    "duration": 796,
    "start_time": "2022-02-25T08:08:59.737Z"
   },
   {
    "duration": 4,
    "start_time": "2022-02-25T08:11:15.044Z"
   },
   {
    "duration": 1002,
    "start_time": "2022-02-25T08:20:06.146Z"
   },
   {
    "duration": 996,
    "start_time": "2022-02-25T08:20:15.753Z"
   },
   {
    "duration": 1010,
    "start_time": "2022-02-25T08:20:21.226Z"
   },
   {
    "duration": 793,
    "start_time": "2022-02-25T08:20:31.246Z"
   },
   {
    "duration": 772,
    "start_time": "2022-02-25T08:22:32.551Z"
   },
   {
    "duration": 853,
    "start_time": "2022-02-25T08:23:04.869Z"
   },
   {
    "duration": 794,
    "start_time": "2022-02-25T08:23:14.818Z"
   },
   {
    "duration": 857,
    "start_time": "2022-02-25T08:23:19.586Z"
   },
   {
    "duration": 821,
    "start_time": "2022-02-25T08:23:27.759Z"
   },
   {
    "duration": 802,
    "start_time": "2022-02-25T08:23:30.465Z"
   },
   {
    "duration": 910,
    "start_time": "2022-02-25T08:24:09.258Z"
   },
   {
    "duration": 821,
    "start_time": "2022-02-25T08:34:05.549Z"
   },
   {
    "duration": 803,
    "start_time": "2022-02-25T08:34:29.360Z"
   },
   {
    "duration": 796,
    "start_time": "2022-02-25T08:34:49.658Z"
   },
   {
    "duration": 5,
    "start_time": "2022-02-25T08:39:09.456Z"
   },
   {
    "duration": 5,
    "start_time": "2022-02-25T08:40:29.279Z"
   },
   {
    "duration": 5,
    "start_time": "2022-02-25T08:40:37.546Z"
   },
   {
    "duration": 6,
    "start_time": "2022-02-25T08:42:12.487Z"
   },
   {
    "duration": 7,
    "start_time": "2022-02-25T08:42:21.000Z"
   },
   {
    "duration": 6,
    "start_time": "2022-02-25T08:42:27.197Z"
   },
   {
    "duration": 5,
    "start_time": "2022-02-25T08:42:46.513Z"
   },
   {
    "duration": 6,
    "start_time": "2022-02-25T08:42:51.967Z"
   },
   {
    "duration": 6,
    "start_time": "2022-02-25T08:42:57.085Z"
   },
   {
    "duration": 811,
    "start_time": "2022-02-25T08:43:02.592Z"
   },
   {
    "duration": 3,
    "start_time": "2022-02-25T08:46:46.237Z"
   },
   {
    "duration": 383,
    "start_time": "2022-02-25T08:46:46.242Z"
   },
   {
    "duration": 32,
    "start_time": "2022-02-25T08:46:46.627Z"
   },
   {
    "duration": 19,
    "start_time": "2022-02-25T08:46:46.660Z"
   },
   {
    "duration": 8,
    "start_time": "2022-02-25T08:46:46.681Z"
   },
   {
    "duration": 5,
    "start_time": "2022-02-25T08:46:46.691Z"
   },
   {
    "duration": 247,
    "start_time": "2022-02-25T08:46:46.697Z"
   },
   {
    "duration": 201,
    "start_time": "2022-02-25T08:46:46.948Z"
   },
   {
    "duration": 201,
    "start_time": "2022-02-25T08:46:47.151Z"
   },
   {
    "duration": 3,
    "start_time": "2022-02-25T08:46:47.354Z"
   },
   {
    "duration": 5,
    "start_time": "2022-02-25T08:46:47.359Z"
   },
   {
    "duration": 5,
    "start_time": "2022-02-25T08:46:47.366Z"
   },
   {
    "duration": 5,
    "start_time": "2022-02-25T08:46:47.372Z"
   },
   {
    "duration": 841,
    "start_time": "2022-02-25T08:46:47.379Z"
   },
   {
    "duration": 5,
    "start_time": "2022-02-25T08:46:48.222Z"
   },
   {
    "duration": 816,
    "start_time": "2022-02-25T08:46:48.237Z"
   },
   {
    "duration": 6,
    "start_time": "2022-02-25T08:46:49.054Z"
   },
   {
    "duration": 844,
    "start_time": "2022-02-25T08:46:49.062Z"
   },
   {
    "duration": 29,
    "start_time": "2022-02-25T08:46:49.908Z"
   },
   {
    "duration": 1442,
    "start_time": "2022-02-25T13:57:46.689Z"
   },
   {
    "duration": 469,
    "start_time": "2022-02-25T13:57:48.134Z"
   },
   {
    "duration": 43,
    "start_time": "2022-02-25T13:57:48.606Z"
   },
   {
    "duration": 36,
    "start_time": "2022-02-25T13:57:48.663Z"
   },
   {
    "duration": 13,
    "start_time": "2022-02-25T13:57:48.701Z"
   },
   {
    "duration": 45,
    "start_time": "2022-02-25T13:57:48.717Z"
   },
   {
    "duration": 328,
    "start_time": "2022-02-25T13:57:48.765Z"
   },
   {
    "duration": 300,
    "start_time": "2022-02-25T13:57:49.099Z"
   },
   {
    "duration": 292,
    "start_time": "2022-02-25T13:57:49.402Z"
   },
   {
    "duration": 6,
    "start_time": "2022-02-25T13:57:49.698Z"
   },
   {
    "duration": 16,
    "start_time": "2022-02-25T13:57:49.707Z"
   },
   {
    "duration": 8,
    "start_time": "2022-02-25T13:57:49.726Z"
   },
   {
    "duration": 27,
    "start_time": "2022-02-25T13:57:49.737Z"
   },
   {
    "duration": 1388,
    "start_time": "2022-02-25T13:57:49.766Z"
   },
   {
    "duration": 6,
    "start_time": "2022-02-25T13:57:51.163Z"
   },
   {
    "duration": 1391,
    "start_time": "2022-02-25T13:57:51.171Z"
   },
   {
    "duration": 7,
    "start_time": "2022-02-25T13:57:52.564Z"
   },
   {
    "duration": 1349,
    "start_time": "2022-02-25T13:57:52.573Z"
   },
   {
    "duration": 6,
    "start_time": "2022-02-25T13:57:53.925Z"
   },
   {
    "duration": 1399,
    "start_time": "2022-02-25T13:57:59.035Z"
   },
   {
    "duration": 1358,
    "start_time": "2022-02-25T13:58:02.483Z"
   },
   {
    "duration": 108,
    "start_time": "2022-02-25T14:00:01.249Z"
   },
   {
    "duration": 6,
    "start_time": "2022-02-25T14:00:06.672Z"
   },
   {
    "duration": 1361,
    "start_time": "2022-02-25T14:00:07.357Z"
   },
   {
    "duration": 7,
    "start_time": "2022-02-25T14:00:14.890Z"
   },
   {
    "duration": 1356,
    "start_time": "2022-02-25T14:00:17.289Z"
   },
   {
    "duration": 1356,
    "start_time": "2022-02-25T14:00:36.401Z"
   },
   {
    "duration": 7,
    "start_time": "2022-02-25T14:01:31.851Z"
   },
   {
    "duration": 1368,
    "start_time": "2022-02-25T14:01:35.323Z"
   },
   {
    "duration": 8,
    "start_time": "2022-02-25T14:01:37.624Z"
   },
   {
    "duration": 124,
    "start_time": "2022-02-25T14:02:24.398Z"
   },
   {
    "duration": 88,
    "start_time": "2022-02-25T17:00:48.876Z"
   },
   {
    "duration": 89,
    "start_time": "2022-02-26T06:20:17.232Z"
   },
   {
    "duration": 95,
    "start_time": "2022-02-26T06:20:19.518Z"
   },
   {
    "duration": 1390,
    "start_time": "2022-02-26T06:28:18.528Z"
   },
   {
    "duration": 530,
    "start_time": "2022-02-26T06:28:19.921Z"
   },
   {
    "duration": 43,
    "start_time": "2022-02-26T06:28:20.454Z"
   },
   {
    "duration": 52,
    "start_time": "2022-02-26T06:28:20.500Z"
   },
   {
    "duration": 13,
    "start_time": "2022-02-26T06:28:20.555Z"
   },
   {
    "duration": 7,
    "start_time": "2022-02-26T06:28:20.571Z"
   },
   {
    "duration": 276,
    "start_time": "2022-02-26T06:28:20.581Z"
   },
   {
    "duration": 295,
    "start_time": "2022-02-26T06:28:20.860Z"
   },
   {
    "duration": 297,
    "start_time": "2022-02-26T06:28:21.159Z"
   },
   {
    "duration": 3,
    "start_time": "2022-02-26T06:28:21.459Z"
   },
   {
    "duration": 13,
    "start_time": "2022-02-26T06:28:21.465Z"
   },
   {
    "duration": 8,
    "start_time": "2022-02-26T06:28:21.481Z"
   },
   {
    "duration": 9,
    "start_time": "2022-02-26T06:28:21.492Z"
   },
   {
    "duration": 1015,
    "start_time": "2022-02-26T06:28:21.527Z"
   },
   {
    "duration": 482,
    "start_time": "2022-02-26T06:28:22.062Z"
   },
   {
    "duration": 482,
    "start_time": "2022-02-26T06:28:22.064Z"
   },
   {
    "duration": 482,
    "start_time": "2022-02-26T06:28:22.065Z"
   },
   {
    "duration": 480,
    "start_time": "2022-02-26T06:28:22.068Z"
   },
   {
    "duration": 481,
    "start_time": "2022-02-26T06:28:22.069Z"
   },
   {
    "duration": 9,
    "start_time": "2022-02-26T06:32:06.404Z"
   },
   {
    "duration": 9,
    "start_time": "2022-02-26T06:32:55.678Z"
   },
   {
    "duration": 248,
    "start_time": "2022-02-26T06:33:04.509Z"
   },
   {
    "duration": 6,
    "start_time": "2022-02-26T06:34:09.224Z"
   },
   {
    "duration": 510,
    "start_time": "2022-02-26T06:34:09.232Z"
   },
   {
    "duration": 37,
    "start_time": "2022-02-26T06:34:09.745Z"
   },
   {
    "duration": 61,
    "start_time": "2022-02-26T06:34:09.786Z"
   },
   {
    "duration": 16,
    "start_time": "2022-02-26T06:34:09.850Z"
   },
   {
    "duration": 10,
    "start_time": "2022-02-26T06:34:09.870Z"
   },
   {
    "duration": 360,
    "start_time": "2022-02-26T06:34:09.883Z"
   },
   {
    "duration": 304,
    "start_time": "2022-02-26T06:34:10.246Z"
   },
   {
    "duration": 284,
    "start_time": "2022-02-26T06:34:10.554Z"
   },
   {
    "duration": 4,
    "start_time": "2022-02-26T06:34:10.842Z"
   },
   {
    "duration": 9,
    "start_time": "2022-02-26T06:34:10.849Z"
   },
   {
    "duration": 17,
    "start_time": "2022-02-26T06:34:10.860Z"
   },
   {
    "duration": 11,
    "start_time": "2022-02-26T06:34:10.879Z"
   },
   {
    "duration": 2508,
    "start_time": "2022-02-26T06:34:10.892Z"
   },
   {
    "duration": 476,
    "start_time": "2022-02-26T06:34:12.927Z"
   },
   {
    "duration": 476,
    "start_time": "2022-02-26T06:34:12.929Z"
   },
   {
    "duration": 478,
    "start_time": "2022-02-26T06:34:12.930Z"
   },
   {
    "duration": 479,
    "start_time": "2022-02-26T06:34:12.931Z"
   },
   {
    "duration": 480,
    "start_time": "2022-02-26T06:34:12.932Z"
   },
   {
    "duration": 1412,
    "start_time": "2022-02-26T06:40:43.202Z"
   },
   {
    "duration": 481,
    "start_time": "2022-02-26T06:40:44.618Z"
   },
   {
    "duration": 50,
    "start_time": "2022-02-26T06:40:45.102Z"
   },
   {
    "duration": 33,
    "start_time": "2022-02-26T06:40:45.155Z"
   },
   {
    "duration": 47,
    "start_time": "2022-02-26T06:40:45.191Z"
   },
   {
    "duration": 11,
    "start_time": "2022-02-26T06:40:45.240Z"
   },
   {
    "duration": 294,
    "start_time": "2022-02-26T06:40:45.253Z"
   },
   {
    "duration": 296,
    "start_time": "2022-02-26T06:40:45.551Z"
   },
   {
    "duration": 295,
    "start_time": "2022-02-26T06:40:45.850Z"
   },
   {
    "duration": 5,
    "start_time": "2022-02-26T06:40:46.148Z"
   },
   {
    "duration": 8,
    "start_time": "2022-02-26T06:40:46.156Z"
   },
   {
    "duration": 9,
    "start_time": "2022-02-26T06:40:46.166Z"
   },
   {
    "duration": 9,
    "start_time": "2022-02-26T06:40:46.177Z"
   },
   {
    "duration": 449,
    "start_time": "2022-02-26T06:40:46.188Z"
   },
   {
    "duration": 480,
    "start_time": "2022-02-26T06:40:46.159Z"
   },
   {
    "duration": 478,
    "start_time": "2022-02-26T06:40:46.162Z"
   },
   {
    "duration": 479,
    "start_time": "2022-02-26T06:40:46.163Z"
   },
   {
    "duration": 479,
    "start_time": "2022-02-26T06:40:46.164Z"
   },
   {
    "duration": 479,
    "start_time": "2022-02-26T06:40:46.165Z"
   },
   {
    "duration": 3017,
    "start_time": "2022-02-26T06:40:57.091Z"
   },
   {
    "duration": 276,
    "start_time": "2022-02-26T06:42:09.852Z"
   },
   {
    "duration": 373,
    "start_time": "2022-02-26T06:42:35.796Z"
   },
   {
    "duration": 5,
    "start_time": "2022-02-26T06:42:44.452Z"
   },
   {
    "duration": 10,
    "start_time": "2022-02-26T06:42:52.019Z"
   },
   {
    "duration": 245,
    "start_time": "2022-02-26T06:43:26.356Z"
   },
   {
    "duration": 7,
    "start_time": "2022-02-26T06:43:36.123Z"
   },
   {
    "duration": 11,
    "start_time": "2022-02-26T06:43:43.347Z"
   },
   {
    "duration": 34,
    "start_time": "2022-02-26T06:45:55.267Z"
   },
   {
    "duration": 13,
    "start_time": "2022-02-26T06:46:13.443Z"
   },
   {
    "duration": 5,
    "start_time": "2022-02-26T06:46:34.247Z"
   },
   {
    "duration": 494,
    "start_time": "2022-02-26T06:46:34.255Z"
   },
   {
    "duration": 37,
    "start_time": "2022-02-26T06:46:34.752Z"
   },
   {
    "duration": 52,
    "start_time": "2022-02-26T06:46:34.792Z"
   },
   {
    "duration": 15,
    "start_time": "2022-02-26T06:46:34.847Z"
   },
   {
    "duration": 10,
    "start_time": "2022-02-26T06:46:34.865Z"
   },
   {
    "duration": 376,
    "start_time": "2022-02-26T06:46:34.877Z"
   },
   {
    "duration": 300,
    "start_time": "2022-02-26T06:46:35.255Z"
   },
   {
    "duration": 296,
    "start_time": "2022-02-26T06:46:35.559Z"
   },
   {
    "duration": 3,
    "start_time": "2022-02-26T06:46:35.858Z"
   },
   {
    "duration": 8,
    "start_time": "2022-02-26T06:46:35.864Z"
   },
   {
    "duration": 29,
    "start_time": "2022-02-26T06:46:35.875Z"
   },
   {
    "duration": 7,
    "start_time": "2022-02-26T06:46:35.907Z"
   },
   {
    "duration": 20,
    "start_time": "2022-02-26T06:46:35.927Z"
   },
   {
    "duration": 852,
    "start_time": "2022-02-26T06:46:35.949Z"
   },
   {
    "duration": 450,
    "start_time": "2022-02-26T06:46:36.353Z"
   },
   {
    "duration": 449,
    "start_time": "2022-02-26T06:46:36.355Z"
   },
   {
    "duration": 450,
    "start_time": "2022-02-26T06:46:36.356Z"
   },
   {
    "duration": 449,
    "start_time": "2022-02-26T06:46:36.358Z"
   },
   {
    "duration": 449,
    "start_time": "2022-02-26T06:46:36.359Z"
   },
   {
    "duration": 6,
    "start_time": "2022-02-26T06:47:11.555Z"
   },
   {
    "duration": 12,
    "start_time": "2022-02-26T06:47:13.922Z"
   },
   {
    "duration": 823,
    "start_time": "2022-02-26T06:47:19.971Z"
   },
   {
    "duration": 271,
    "start_time": "2022-02-26T06:48:39.739Z"
   },
   {
    "duration": 884,
    "start_time": "2022-02-26T06:48:40.163Z"
   },
   {
    "duration": 490,
    "start_time": "2022-02-26T06:48:40.560Z"
   },
   {
    "duration": 269,
    "start_time": "2022-02-26T06:49:00.899Z"
   },
   {
    "duration": 484,
    "start_time": "2022-02-26T06:49:00.687Z"
   },
   {
    "duration": 891,
    "start_time": "2022-02-26T06:49:02.236Z"
   },
   {
    "duration": 8,
    "start_time": "2022-02-26T06:49:14.778Z"
   },
   {
    "duration": 5,
    "start_time": "2022-02-26T06:49:57.003Z"
   },
   {
    "duration": 9,
    "start_time": "2022-02-26T06:50:01.235Z"
   },
   {
    "duration": 8,
    "start_time": "2022-02-26T06:50:39.634Z"
   },
   {
    "duration": 8,
    "start_time": "2022-02-26T06:50:40.226Z"
   },
   {
    "duration": 272,
    "start_time": "2022-02-26T06:52:24.826Z"
   },
   {
    "duration": 483,
    "start_time": "2022-02-26T06:52:24.617Z"
   },
   {
    "duration": 9,
    "start_time": "2022-02-26T06:52:30.850Z"
   },
   {
    "duration": 10,
    "start_time": "2022-02-26T06:52:30.882Z"
   },
   {
    "duration": 7,
    "start_time": "2022-02-26T06:52:35.986Z"
   },
   {
    "duration": 305,
    "start_time": "2022-02-26T06:52:45.403Z"
   },
   {
    "duration": 278,
    "start_time": "2022-02-26T06:53:51.283Z"
   },
   {
    "duration": 7,
    "start_time": "2022-02-26T06:54:59.378Z"
   },
   {
    "duration": 832,
    "start_time": "2022-02-26T06:54:59.409Z"
   },
   {
    "duration": 8,
    "start_time": "2022-02-26T06:58:28.226Z"
   },
   {
    "duration": 8,
    "start_time": "2022-02-26T06:58:46.322Z"
   },
   {
    "duration": 4,
    "start_time": "2022-02-26T07:02:13.562Z"
   },
   {
    "duration": 6,
    "start_time": "2022-02-26T07:02:15.337Z"
   },
   {
    "duration": 373,
    "start_time": "2022-02-26T07:02:28.512Z"
   },
   {
    "duration": 3331,
    "start_time": "2022-02-26T07:02:47.824Z"
   },
   {
    "duration": 3340,
    "start_time": "2022-02-26T07:04:24.573Z"
   },
   {
    "duration": 5,
    "start_time": "2022-02-26T07:04:30.270Z"
   },
   {
    "duration": 488,
    "start_time": "2022-02-26T07:04:30.278Z"
   },
   {
    "duration": 38,
    "start_time": "2022-02-26T07:04:30.769Z"
   },
   {
    "duration": 31,
    "start_time": "2022-02-26T07:04:30.826Z"
   },
   {
    "duration": 15,
    "start_time": "2022-02-26T07:04:30.859Z"
   },
   {
    "duration": 35,
    "start_time": "2022-02-26T07:04:30.877Z"
   },
   {
    "duration": 338,
    "start_time": "2022-02-26T07:04:30.915Z"
   },
   {
    "duration": 293,
    "start_time": "2022-02-26T07:04:31.257Z"
   },
   {
    "duration": 305,
    "start_time": "2022-02-26T07:04:31.553Z"
   },
   {
    "duration": 4,
    "start_time": "2022-02-26T07:04:31.861Z"
   },
   {
    "duration": 13,
    "start_time": "2022-02-26T07:04:31.867Z"
   },
   {
    "duration": 9,
    "start_time": "2022-02-26T07:04:31.883Z"
   },
   {
    "duration": 33,
    "start_time": "2022-02-26T07:04:31.894Z"
   },
   {
    "duration": 3363,
    "start_time": "2022-02-26T07:04:31.930Z"
   },
   {
    "duration": 9,
    "start_time": "2022-02-26T07:04:35.295Z"
   },
   {
    "duration": 3305,
    "start_time": "2022-02-26T07:04:35.307Z"
   },
   {
    "duration": 16,
    "start_time": "2022-02-26T07:04:38.614Z"
   },
   {
    "duration": 333,
    "start_time": "2022-02-26T07:04:38.632Z"
   },
   {
    "duration": 451,
    "start_time": "2022-02-26T07:04:38.516Z"
   },
   {
    "duration": 3553,
    "start_time": "2022-02-26T07:05:04.758Z"
   },
   {
    "duration": 275,
    "start_time": "2022-02-26T07:06:42.589Z"
   },
   {
    "duration": 307,
    "start_time": "2022-02-26T07:06:56.924Z"
   },
   {
    "duration": 19,
    "start_time": "2022-02-26T07:07:09.236Z"
   },
   {
    "duration": 19,
    "start_time": "2022-02-26T07:07:33.493Z"
   },
   {
    "duration": 16,
    "start_time": "2022-02-26T07:07:51.339Z"
   },
   {
    "duration": 10,
    "start_time": "2022-02-26T07:08:01.172Z"
   },
   {
    "duration": 3721,
    "start_time": "2022-02-26T07:08:08.596Z"
   },
   {
    "duration": 9,
    "start_time": "2022-02-26T07:08:28.028Z"
   },
   {
    "duration": 3579,
    "start_time": "2022-02-26T07:08:29.875Z"
   },
   {
    "duration": 10,
    "start_time": "2022-02-26T07:09:07.252Z"
   },
   {
    "duration": 3627,
    "start_time": "2022-02-26T07:09:08.711Z"
   },
   {
    "duration": 9,
    "start_time": "2022-02-26T07:09:29.309Z"
   },
   {
    "duration": 4,
    "start_time": "2022-02-26T07:24:13.045Z"
   },
   {
    "duration": 103,
    "start_time": "2022-02-26T07:28:41.130Z"
   },
   {
    "duration": 13,
    "start_time": "2022-02-26T07:28:47.387Z"
   },
   {
    "duration": 11,
    "start_time": "2022-02-26T07:29:15.738Z"
   },
   {
    "duration": 7,
    "start_time": "2022-02-26T07:41:59.424Z"
   },
   {
    "duration": 301,
    "start_time": "2022-02-26T07:42:31.424Z"
   },
   {
    "duration": 6,
    "start_time": "2022-02-26T07:42:34.904Z"
   },
   {
    "duration": 572,
    "start_time": "2022-02-26T07:42:35.656Z"
   },
   {
    "duration": 7,
    "start_time": "2022-02-26T07:43:08.408Z"
   },
   {
    "duration": 5303,
    "start_time": "2022-02-26T07:43:09.480Z"
   },
   {
    "duration": 5563,
    "start_time": "2022-02-26T07:43:21.287Z"
   },
   {
    "duration": 12,
    "start_time": "2022-02-26T07:46:09.783Z"
   },
   {
    "duration": 13,
    "start_time": "2022-02-26T07:46:18.951Z"
   },
   {
    "duration": 13,
    "start_time": "2022-02-26T07:47:11.087Z"
   },
   {
    "duration": 12,
    "start_time": "2022-02-26T07:47:40.543Z"
   }
  ],
  "kernelspec": {
   "display_name": "Python 3 (ipykernel)",
   "language": "python",
   "name": "python3"
  },
  "language_info": {
   "codemirror_mode": {
    "name": "ipython",
    "version": 3
   },
   "file_extension": ".py",
   "mimetype": "text/x-python",
   "name": "python",
   "nbconvert_exporter": "python",
   "pygments_lexer": "ipython3",
   "version": "3.9.7"
  },
  "toc": {
   "base_numbering": 1,
   "nav_menu": {},
   "number_sections": true,
   "sideBar": true,
   "skip_h1_title": true,
   "title_cell": "Table of Contents",
   "title_sidebar": "Contents",
   "toc_cell": false,
   "toc_position": {},
   "toc_section_display": true,
   "toc_window_display": false
  }
 },
 "nbformat": 4,
 "nbformat_minor": 2
}
