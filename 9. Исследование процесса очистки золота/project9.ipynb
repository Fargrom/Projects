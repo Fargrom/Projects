{
 "cells": [
  {
   "cell_type": "markdown",
   "metadata": {},
   "source": [
    "# Восстановление золота из руды"
   ]
  },
  {
   "cell_type": "markdown",
   "metadata": {},
   "source": [
    "## Подготовка данных"
   ]
  },
  {
   "cell_type": "markdown",
   "metadata": {},
   "source": [
    "### Изучаем файлы "
   ]
  },
  {
   "cell_type": "code",
   "execution_count": 1,
   "metadata": {},
   "outputs": [],
   "source": [
    "# импортируем библиотеки\n",
    "import pandas as pd\n",
    "import matplotlib.pyplot as plt \n",
    "import numpy as np\n",
    "import seaborn as sb\n",
    "from sklearn.tree import DecisionTreeRegressor\n",
    "from sklearn.ensemble import RandomForestRegressor\n",
    "from sklearn.linear_model import LinearRegression\n",
    "from sklearn.model_selection import cross_val_score\n",
    "from sklearn.metrics import mean_absolute_error\n",
    "from sklearn.preprocessing import StandardScaler \n",
    "from sklearn.metrics import make_scorer"
   ]
  },
  {
   "cell_type": "code",
   "execution_count": 2,
   "metadata": {},
   "outputs": [],
   "source": [
    "# читаем файлы\n",
    "data_train = pd.read_csv('/datasets/gold_recovery_train_new.csv')\n",
    "data_test = pd.read_csv('/datasets/gold_recovery_test_new.csv')\n",
    "data_full = pd.read_csv('/datasets/gold_recovery_full_new.csv')"
   ]
  },
  {
   "cell_type": "code",
   "execution_count": 3,
   "metadata": {},
   "outputs": [
    {
     "data": {
      "text/html": [
       "<div>\n",
       "<style scoped>\n",
       "    .dataframe tbody tr th:only-of-type {\n",
       "        vertical-align: middle;\n",
       "    }\n",
       "\n",
       "    .dataframe tbody tr th {\n",
       "        vertical-align: top;\n",
       "    }\n",
       "\n",
       "    .dataframe thead th {\n",
       "        text-align: right;\n",
       "    }\n",
       "</style>\n",
       "<table border=\"1\" class=\"dataframe\">\n",
       "  <thead>\n",
       "    <tr style=\"text-align: right;\">\n",
       "      <th></th>\n",
       "      <th>date</th>\n",
       "      <th>final.output.concentrate_ag</th>\n",
       "      <th>final.output.concentrate_pb</th>\n",
       "      <th>final.output.concentrate_sol</th>\n",
       "      <th>final.output.concentrate_au</th>\n",
       "      <th>final.output.recovery</th>\n",
       "      <th>final.output.tail_ag</th>\n",
       "      <th>final.output.tail_pb</th>\n",
       "      <th>final.output.tail_sol</th>\n",
       "      <th>final.output.tail_au</th>\n",
       "      <th>...</th>\n",
       "      <th>secondary_cleaner.state.floatbank4_a_air</th>\n",
       "      <th>secondary_cleaner.state.floatbank4_a_level</th>\n",
       "      <th>secondary_cleaner.state.floatbank4_b_air</th>\n",
       "      <th>secondary_cleaner.state.floatbank4_b_level</th>\n",
       "      <th>secondary_cleaner.state.floatbank5_a_air</th>\n",
       "      <th>secondary_cleaner.state.floatbank5_a_level</th>\n",
       "      <th>secondary_cleaner.state.floatbank5_b_air</th>\n",
       "      <th>secondary_cleaner.state.floatbank5_b_level</th>\n",
       "      <th>secondary_cleaner.state.floatbank6_a_air</th>\n",
       "      <th>secondary_cleaner.state.floatbank6_a_level</th>\n",
       "    </tr>\n",
       "  </thead>\n",
       "  <tbody>\n",
       "    <tr>\n",
       "      <td>0</td>\n",
       "      <td>2016-01-15 00:00:00</td>\n",
       "      <td>6.055403</td>\n",
       "      <td>9.889648</td>\n",
       "      <td>5.507324</td>\n",
       "      <td>42.192020</td>\n",
       "      <td>70.541216</td>\n",
       "      <td>10.411962</td>\n",
       "      <td>0.895447</td>\n",
       "      <td>16.904297</td>\n",
       "      <td>2.143149</td>\n",
       "      <td>...</td>\n",
       "      <td>14.016835</td>\n",
       "      <td>-502.488007</td>\n",
       "      <td>12.099931</td>\n",
       "      <td>-504.715942</td>\n",
       "      <td>9.925633</td>\n",
       "      <td>-498.310211</td>\n",
       "      <td>8.079666</td>\n",
       "      <td>-500.470978</td>\n",
       "      <td>14.151341</td>\n",
       "      <td>-605.841980</td>\n",
       "    </tr>\n",
       "    <tr>\n",
       "      <td>1</td>\n",
       "      <td>2016-01-15 01:00:00</td>\n",
       "      <td>6.029369</td>\n",
       "      <td>9.968944</td>\n",
       "      <td>5.257781</td>\n",
       "      <td>42.701629</td>\n",
       "      <td>69.266198</td>\n",
       "      <td>10.462676</td>\n",
       "      <td>0.927452</td>\n",
       "      <td>16.634514</td>\n",
       "      <td>2.224930</td>\n",
       "      <td>...</td>\n",
       "      <td>13.992281</td>\n",
       "      <td>-505.503262</td>\n",
       "      <td>11.950531</td>\n",
       "      <td>-501.331529</td>\n",
       "      <td>10.039245</td>\n",
       "      <td>-500.169983</td>\n",
       "      <td>7.984757</td>\n",
       "      <td>-500.582168</td>\n",
       "      <td>13.998353</td>\n",
       "      <td>-599.787184</td>\n",
       "    </tr>\n",
       "    <tr>\n",
       "      <td>2</td>\n",
       "      <td>2016-01-15 02:00:00</td>\n",
       "      <td>6.055926</td>\n",
       "      <td>10.213995</td>\n",
       "      <td>5.383759</td>\n",
       "      <td>42.657501</td>\n",
       "      <td>68.116445</td>\n",
       "      <td>10.507046</td>\n",
       "      <td>0.953716</td>\n",
       "      <td>16.208849</td>\n",
       "      <td>2.257889</td>\n",
       "      <td>...</td>\n",
       "      <td>14.015015</td>\n",
       "      <td>-502.520901</td>\n",
       "      <td>11.912783</td>\n",
       "      <td>-501.133383</td>\n",
       "      <td>10.070913</td>\n",
       "      <td>-500.129135</td>\n",
       "      <td>8.013877</td>\n",
       "      <td>-500.517572</td>\n",
       "      <td>14.028663</td>\n",
       "      <td>-601.427363</td>\n",
       "    </tr>\n",
       "    <tr>\n",
       "      <td>3</td>\n",
       "      <td>2016-01-15 03:00:00</td>\n",
       "      <td>6.047977</td>\n",
       "      <td>9.977019</td>\n",
       "      <td>4.858634</td>\n",
       "      <td>42.689819</td>\n",
       "      <td>68.347543</td>\n",
       "      <td>10.422762</td>\n",
       "      <td>0.883763</td>\n",
       "      <td>16.532835</td>\n",
       "      <td>2.146849</td>\n",
       "      <td>...</td>\n",
       "      <td>14.036510</td>\n",
       "      <td>-500.857308</td>\n",
       "      <td>11.999550</td>\n",
       "      <td>-501.193686</td>\n",
       "      <td>9.970366</td>\n",
       "      <td>-499.201640</td>\n",
       "      <td>7.977324</td>\n",
       "      <td>-500.255908</td>\n",
       "      <td>14.005551</td>\n",
       "      <td>-599.996129</td>\n",
       "    </tr>\n",
       "    <tr>\n",
       "      <td>4</td>\n",
       "      <td>2016-01-15 04:00:00</td>\n",
       "      <td>6.148599</td>\n",
       "      <td>10.142511</td>\n",
       "      <td>4.939416</td>\n",
       "      <td>42.774141</td>\n",
       "      <td>66.927016</td>\n",
       "      <td>10.360302</td>\n",
       "      <td>0.792826</td>\n",
       "      <td>16.525686</td>\n",
       "      <td>2.055292</td>\n",
       "      <td>...</td>\n",
       "      <td>14.027298</td>\n",
       "      <td>-499.838632</td>\n",
       "      <td>11.953070</td>\n",
       "      <td>-501.053894</td>\n",
       "      <td>9.925709</td>\n",
       "      <td>-501.686727</td>\n",
       "      <td>7.894242</td>\n",
       "      <td>-500.356035</td>\n",
       "      <td>13.996647</td>\n",
       "      <td>-601.496691</td>\n",
       "    </tr>\n",
       "  </tbody>\n",
       "</table>\n",
       "<p>5 rows × 87 columns</p>\n",
       "</div>"
      ],
      "text/plain": [
       "                  date  final.output.concentrate_ag  \\\n",
       "0  2016-01-15 00:00:00                     6.055403   \n",
       "1  2016-01-15 01:00:00                     6.029369   \n",
       "2  2016-01-15 02:00:00                     6.055926   \n",
       "3  2016-01-15 03:00:00                     6.047977   \n",
       "4  2016-01-15 04:00:00                     6.148599   \n",
       "\n",
       "   final.output.concentrate_pb  final.output.concentrate_sol  \\\n",
       "0                     9.889648                      5.507324   \n",
       "1                     9.968944                      5.257781   \n",
       "2                    10.213995                      5.383759   \n",
       "3                     9.977019                      4.858634   \n",
       "4                    10.142511                      4.939416   \n",
       "\n",
       "   final.output.concentrate_au  final.output.recovery  final.output.tail_ag  \\\n",
       "0                    42.192020              70.541216             10.411962   \n",
       "1                    42.701629              69.266198             10.462676   \n",
       "2                    42.657501              68.116445             10.507046   \n",
       "3                    42.689819              68.347543             10.422762   \n",
       "4                    42.774141              66.927016             10.360302   \n",
       "\n",
       "   final.output.tail_pb  final.output.tail_sol  final.output.tail_au  ...  \\\n",
       "0              0.895447              16.904297              2.143149  ...   \n",
       "1              0.927452              16.634514              2.224930  ...   \n",
       "2              0.953716              16.208849              2.257889  ...   \n",
       "3              0.883763              16.532835              2.146849  ...   \n",
       "4              0.792826              16.525686              2.055292  ...   \n",
       "\n",
       "   secondary_cleaner.state.floatbank4_a_air  \\\n",
       "0                                 14.016835   \n",
       "1                                 13.992281   \n",
       "2                                 14.015015   \n",
       "3                                 14.036510   \n",
       "4                                 14.027298   \n",
       "\n",
       "   secondary_cleaner.state.floatbank4_a_level  \\\n",
       "0                                 -502.488007   \n",
       "1                                 -505.503262   \n",
       "2                                 -502.520901   \n",
       "3                                 -500.857308   \n",
       "4                                 -499.838632   \n",
       "\n",
       "   secondary_cleaner.state.floatbank4_b_air  \\\n",
       "0                                 12.099931   \n",
       "1                                 11.950531   \n",
       "2                                 11.912783   \n",
       "3                                 11.999550   \n",
       "4                                 11.953070   \n",
       "\n",
       "   secondary_cleaner.state.floatbank4_b_level  \\\n",
       "0                                 -504.715942   \n",
       "1                                 -501.331529   \n",
       "2                                 -501.133383   \n",
       "3                                 -501.193686   \n",
       "4                                 -501.053894   \n",
       "\n",
       "   secondary_cleaner.state.floatbank5_a_air  \\\n",
       "0                                  9.925633   \n",
       "1                                 10.039245   \n",
       "2                                 10.070913   \n",
       "3                                  9.970366   \n",
       "4                                  9.925709   \n",
       "\n",
       "   secondary_cleaner.state.floatbank5_a_level  \\\n",
       "0                                 -498.310211   \n",
       "1                                 -500.169983   \n",
       "2                                 -500.129135   \n",
       "3                                 -499.201640   \n",
       "4                                 -501.686727   \n",
       "\n",
       "   secondary_cleaner.state.floatbank5_b_air  \\\n",
       "0                                  8.079666   \n",
       "1                                  7.984757   \n",
       "2                                  8.013877   \n",
       "3                                  7.977324   \n",
       "4                                  7.894242   \n",
       "\n",
       "   secondary_cleaner.state.floatbank5_b_level  \\\n",
       "0                                 -500.470978   \n",
       "1                                 -500.582168   \n",
       "2                                 -500.517572   \n",
       "3                                 -500.255908   \n",
       "4                                 -500.356035   \n",
       "\n",
       "   secondary_cleaner.state.floatbank6_a_air  \\\n",
       "0                                 14.151341   \n",
       "1                                 13.998353   \n",
       "2                                 14.028663   \n",
       "3                                 14.005551   \n",
       "4                                 13.996647   \n",
       "\n",
       "   secondary_cleaner.state.floatbank6_a_level  \n",
       "0                                 -605.841980  \n",
       "1                                 -599.787184  \n",
       "2                                 -601.427363  \n",
       "3                                 -599.996129  \n",
       "4                                 -601.496691  \n",
       "\n",
       "[5 rows x 87 columns]"
      ]
     },
     "metadata": {},
     "output_type": "display_data"
    },
    {
     "data": {
      "text/html": [
       "<div>\n",
       "<style scoped>\n",
       "    .dataframe tbody tr th:only-of-type {\n",
       "        vertical-align: middle;\n",
       "    }\n",
       "\n",
       "    .dataframe tbody tr th {\n",
       "        vertical-align: top;\n",
       "    }\n",
       "\n",
       "    .dataframe thead th {\n",
       "        text-align: right;\n",
       "    }\n",
       "</style>\n",
       "<table border=\"1\" class=\"dataframe\">\n",
       "  <thead>\n",
       "    <tr style=\"text-align: right;\">\n",
       "      <th></th>\n",
       "      <th>date</th>\n",
       "      <th>primary_cleaner.input.sulfate</th>\n",
       "      <th>primary_cleaner.input.depressant</th>\n",
       "      <th>primary_cleaner.input.feed_size</th>\n",
       "      <th>primary_cleaner.input.xanthate</th>\n",
       "      <th>primary_cleaner.state.floatbank8_a_air</th>\n",
       "      <th>primary_cleaner.state.floatbank8_a_level</th>\n",
       "      <th>primary_cleaner.state.floatbank8_b_air</th>\n",
       "      <th>primary_cleaner.state.floatbank8_b_level</th>\n",
       "      <th>primary_cleaner.state.floatbank8_c_air</th>\n",
       "      <th>...</th>\n",
       "      <th>secondary_cleaner.state.floatbank4_a_air</th>\n",
       "      <th>secondary_cleaner.state.floatbank4_a_level</th>\n",
       "      <th>secondary_cleaner.state.floatbank4_b_air</th>\n",
       "      <th>secondary_cleaner.state.floatbank4_b_level</th>\n",
       "      <th>secondary_cleaner.state.floatbank5_a_air</th>\n",
       "      <th>secondary_cleaner.state.floatbank5_a_level</th>\n",
       "      <th>secondary_cleaner.state.floatbank5_b_air</th>\n",
       "      <th>secondary_cleaner.state.floatbank5_b_level</th>\n",
       "      <th>secondary_cleaner.state.floatbank6_a_air</th>\n",
       "      <th>secondary_cleaner.state.floatbank6_a_level</th>\n",
       "    </tr>\n",
       "  </thead>\n",
       "  <tbody>\n",
       "    <tr>\n",
       "      <td>0</td>\n",
       "      <td>2016-09-01 00:59:59</td>\n",
       "      <td>210.800909</td>\n",
       "      <td>14.993118</td>\n",
       "      <td>8.080000</td>\n",
       "      <td>1.005021</td>\n",
       "      <td>1398.981301</td>\n",
       "      <td>-500.225577</td>\n",
       "      <td>1399.144926</td>\n",
       "      <td>-499.919735</td>\n",
       "      <td>1400.102998</td>\n",
       "      <td>...</td>\n",
       "      <td>12.023554</td>\n",
       "      <td>-497.795834</td>\n",
       "      <td>8.016656</td>\n",
       "      <td>-501.289139</td>\n",
       "      <td>7.946562</td>\n",
       "      <td>-432.317850</td>\n",
       "      <td>4.872511</td>\n",
       "      <td>-500.037437</td>\n",
       "      <td>26.705889</td>\n",
       "      <td>-499.709414</td>\n",
       "    </tr>\n",
       "    <tr>\n",
       "      <td>1</td>\n",
       "      <td>2016-09-01 01:59:59</td>\n",
       "      <td>215.392455</td>\n",
       "      <td>14.987471</td>\n",
       "      <td>8.080000</td>\n",
       "      <td>0.990469</td>\n",
       "      <td>1398.777912</td>\n",
       "      <td>-500.057435</td>\n",
       "      <td>1398.055362</td>\n",
       "      <td>-499.778182</td>\n",
       "      <td>1396.151033</td>\n",
       "      <td>...</td>\n",
       "      <td>12.058140</td>\n",
       "      <td>-498.695773</td>\n",
       "      <td>8.130979</td>\n",
       "      <td>-499.634209</td>\n",
       "      <td>7.958270</td>\n",
       "      <td>-525.839648</td>\n",
       "      <td>4.878850</td>\n",
       "      <td>-500.162375</td>\n",
       "      <td>25.019940</td>\n",
       "      <td>-499.819438</td>\n",
       "    </tr>\n",
       "    <tr>\n",
       "      <td>2</td>\n",
       "      <td>2016-09-01 02:59:59</td>\n",
       "      <td>215.259946</td>\n",
       "      <td>12.884934</td>\n",
       "      <td>7.786667</td>\n",
       "      <td>0.996043</td>\n",
       "      <td>1398.493666</td>\n",
       "      <td>-500.868360</td>\n",
       "      <td>1398.860436</td>\n",
       "      <td>-499.764529</td>\n",
       "      <td>1398.075709</td>\n",
       "      <td>...</td>\n",
       "      <td>11.962366</td>\n",
       "      <td>-498.767484</td>\n",
       "      <td>8.096893</td>\n",
       "      <td>-500.827423</td>\n",
       "      <td>8.071056</td>\n",
       "      <td>-500.801673</td>\n",
       "      <td>4.905125</td>\n",
       "      <td>-499.828510</td>\n",
       "      <td>24.994862</td>\n",
       "      <td>-500.622559</td>\n",
       "    </tr>\n",
       "    <tr>\n",
       "      <td>3</td>\n",
       "      <td>2016-09-01 03:59:59</td>\n",
       "      <td>215.336236</td>\n",
       "      <td>12.006805</td>\n",
       "      <td>7.640000</td>\n",
       "      <td>0.863514</td>\n",
       "      <td>1399.618111</td>\n",
       "      <td>-498.863574</td>\n",
       "      <td>1397.440120</td>\n",
       "      <td>-499.211024</td>\n",
       "      <td>1400.129303</td>\n",
       "      <td>...</td>\n",
       "      <td>12.033091</td>\n",
       "      <td>-498.350935</td>\n",
       "      <td>8.074946</td>\n",
       "      <td>-499.474407</td>\n",
       "      <td>7.897085</td>\n",
       "      <td>-500.868509</td>\n",
       "      <td>4.931400</td>\n",
       "      <td>-499.963623</td>\n",
       "      <td>24.948919</td>\n",
       "      <td>-498.709987</td>\n",
       "    </tr>\n",
       "    <tr>\n",
       "      <td>4</td>\n",
       "      <td>2016-09-01 04:59:59</td>\n",
       "      <td>199.099327</td>\n",
       "      <td>10.682530</td>\n",
       "      <td>7.530000</td>\n",
       "      <td>0.805575</td>\n",
       "      <td>1401.268123</td>\n",
       "      <td>-500.808305</td>\n",
       "      <td>1398.128818</td>\n",
       "      <td>-499.504543</td>\n",
       "      <td>1402.172226</td>\n",
       "      <td>...</td>\n",
       "      <td>12.025367</td>\n",
       "      <td>-500.786497</td>\n",
       "      <td>8.054678</td>\n",
       "      <td>-500.397500</td>\n",
       "      <td>8.107890</td>\n",
       "      <td>-509.526725</td>\n",
       "      <td>4.957674</td>\n",
       "      <td>-500.360026</td>\n",
       "      <td>25.003331</td>\n",
       "      <td>-500.856333</td>\n",
       "    </tr>\n",
       "  </tbody>\n",
       "</table>\n",
       "<p>5 rows × 53 columns</p>\n",
       "</div>"
      ],
      "text/plain": [
       "                  date  primary_cleaner.input.sulfate  \\\n",
       "0  2016-09-01 00:59:59                     210.800909   \n",
       "1  2016-09-01 01:59:59                     215.392455   \n",
       "2  2016-09-01 02:59:59                     215.259946   \n",
       "3  2016-09-01 03:59:59                     215.336236   \n",
       "4  2016-09-01 04:59:59                     199.099327   \n",
       "\n",
       "   primary_cleaner.input.depressant  primary_cleaner.input.feed_size  \\\n",
       "0                         14.993118                         8.080000   \n",
       "1                         14.987471                         8.080000   \n",
       "2                         12.884934                         7.786667   \n",
       "3                         12.006805                         7.640000   \n",
       "4                         10.682530                         7.530000   \n",
       "\n",
       "   primary_cleaner.input.xanthate  primary_cleaner.state.floatbank8_a_air  \\\n",
       "0                        1.005021                             1398.981301   \n",
       "1                        0.990469                             1398.777912   \n",
       "2                        0.996043                             1398.493666   \n",
       "3                        0.863514                             1399.618111   \n",
       "4                        0.805575                             1401.268123   \n",
       "\n",
       "   primary_cleaner.state.floatbank8_a_level  \\\n",
       "0                               -500.225577   \n",
       "1                               -500.057435   \n",
       "2                               -500.868360   \n",
       "3                               -498.863574   \n",
       "4                               -500.808305   \n",
       "\n",
       "   primary_cleaner.state.floatbank8_b_air  \\\n",
       "0                             1399.144926   \n",
       "1                             1398.055362   \n",
       "2                             1398.860436   \n",
       "3                             1397.440120   \n",
       "4                             1398.128818   \n",
       "\n",
       "   primary_cleaner.state.floatbank8_b_level  \\\n",
       "0                               -499.919735   \n",
       "1                               -499.778182   \n",
       "2                               -499.764529   \n",
       "3                               -499.211024   \n",
       "4                               -499.504543   \n",
       "\n",
       "   primary_cleaner.state.floatbank8_c_air  ...  \\\n",
       "0                             1400.102998  ...   \n",
       "1                             1396.151033  ...   \n",
       "2                             1398.075709  ...   \n",
       "3                             1400.129303  ...   \n",
       "4                             1402.172226  ...   \n",
       "\n",
       "   secondary_cleaner.state.floatbank4_a_air  \\\n",
       "0                                 12.023554   \n",
       "1                                 12.058140   \n",
       "2                                 11.962366   \n",
       "3                                 12.033091   \n",
       "4                                 12.025367   \n",
       "\n",
       "   secondary_cleaner.state.floatbank4_a_level  \\\n",
       "0                                 -497.795834   \n",
       "1                                 -498.695773   \n",
       "2                                 -498.767484   \n",
       "3                                 -498.350935   \n",
       "4                                 -500.786497   \n",
       "\n",
       "   secondary_cleaner.state.floatbank4_b_air  \\\n",
       "0                                  8.016656   \n",
       "1                                  8.130979   \n",
       "2                                  8.096893   \n",
       "3                                  8.074946   \n",
       "4                                  8.054678   \n",
       "\n",
       "   secondary_cleaner.state.floatbank4_b_level  \\\n",
       "0                                 -501.289139   \n",
       "1                                 -499.634209   \n",
       "2                                 -500.827423   \n",
       "3                                 -499.474407   \n",
       "4                                 -500.397500   \n",
       "\n",
       "   secondary_cleaner.state.floatbank5_a_air  \\\n",
       "0                                  7.946562   \n",
       "1                                  7.958270   \n",
       "2                                  8.071056   \n",
       "3                                  7.897085   \n",
       "4                                  8.107890   \n",
       "\n",
       "   secondary_cleaner.state.floatbank5_a_level  \\\n",
       "0                                 -432.317850   \n",
       "1                                 -525.839648   \n",
       "2                                 -500.801673   \n",
       "3                                 -500.868509   \n",
       "4                                 -509.526725   \n",
       "\n",
       "   secondary_cleaner.state.floatbank5_b_air  \\\n",
       "0                                  4.872511   \n",
       "1                                  4.878850   \n",
       "2                                  4.905125   \n",
       "3                                  4.931400   \n",
       "4                                  4.957674   \n",
       "\n",
       "   secondary_cleaner.state.floatbank5_b_level  \\\n",
       "0                                 -500.037437   \n",
       "1                                 -500.162375   \n",
       "2                                 -499.828510   \n",
       "3                                 -499.963623   \n",
       "4                                 -500.360026   \n",
       "\n",
       "   secondary_cleaner.state.floatbank6_a_air  \\\n",
       "0                                 26.705889   \n",
       "1                                 25.019940   \n",
       "2                                 24.994862   \n",
       "3                                 24.948919   \n",
       "4                                 25.003331   \n",
       "\n",
       "   secondary_cleaner.state.floatbank6_a_level  \n",
       "0                                 -499.709414  \n",
       "1                                 -499.819438  \n",
       "2                                 -500.622559  \n",
       "3                                 -498.709987  \n",
       "4                                 -500.856333  \n",
       "\n",
       "[5 rows x 53 columns]"
      ]
     },
     "metadata": {},
     "output_type": "display_data"
    },
    {
     "data": {
      "text/html": [
       "<div>\n",
       "<style scoped>\n",
       "    .dataframe tbody tr th:only-of-type {\n",
       "        vertical-align: middle;\n",
       "    }\n",
       "\n",
       "    .dataframe tbody tr th {\n",
       "        vertical-align: top;\n",
       "    }\n",
       "\n",
       "    .dataframe thead th {\n",
       "        text-align: right;\n",
       "    }\n",
       "</style>\n",
       "<table border=\"1\" class=\"dataframe\">\n",
       "  <thead>\n",
       "    <tr style=\"text-align: right;\">\n",
       "      <th></th>\n",
       "      <th>date</th>\n",
       "      <th>final.output.concentrate_ag</th>\n",
       "      <th>final.output.concentrate_pb</th>\n",
       "      <th>final.output.concentrate_sol</th>\n",
       "      <th>final.output.concentrate_au</th>\n",
       "      <th>final.output.recovery</th>\n",
       "      <th>final.output.tail_ag</th>\n",
       "      <th>final.output.tail_pb</th>\n",
       "      <th>final.output.tail_sol</th>\n",
       "      <th>final.output.tail_au</th>\n",
       "      <th>...</th>\n",
       "      <th>secondary_cleaner.state.floatbank4_a_air</th>\n",
       "      <th>secondary_cleaner.state.floatbank4_a_level</th>\n",
       "      <th>secondary_cleaner.state.floatbank4_b_air</th>\n",
       "      <th>secondary_cleaner.state.floatbank4_b_level</th>\n",
       "      <th>secondary_cleaner.state.floatbank5_a_air</th>\n",
       "      <th>secondary_cleaner.state.floatbank5_a_level</th>\n",
       "      <th>secondary_cleaner.state.floatbank5_b_air</th>\n",
       "      <th>secondary_cleaner.state.floatbank5_b_level</th>\n",
       "      <th>secondary_cleaner.state.floatbank6_a_air</th>\n",
       "      <th>secondary_cleaner.state.floatbank6_a_level</th>\n",
       "    </tr>\n",
       "  </thead>\n",
       "  <tbody>\n",
       "    <tr>\n",
       "      <td>0</td>\n",
       "      <td>2016-01-15 00:00:00</td>\n",
       "      <td>6.055403</td>\n",
       "      <td>9.889648</td>\n",
       "      <td>5.507324</td>\n",
       "      <td>42.192020</td>\n",
       "      <td>70.541216</td>\n",
       "      <td>10.411962</td>\n",
       "      <td>0.895447</td>\n",
       "      <td>16.904297</td>\n",
       "      <td>2.143149</td>\n",
       "      <td>...</td>\n",
       "      <td>14.016835</td>\n",
       "      <td>-502.488007</td>\n",
       "      <td>12.099931</td>\n",
       "      <td>-504.715942</td>\n",
       "      <td>9.925633</td>\n",
       "      <td>-498.310211</td>\n",
       "      <td>8.079666</td>\n",
       "      <td>-500.470978</td>\n",
       "      <td>14.151341</td>\n",
       "      <td>-605.841980</td>\n",
       "    </tr>\n",
       "    <tr>\n",
       "      <td>1</td>\n",
       "      <td>2016-01-15 01:00:00</td>\n",
       "      <td>6.029369</td>\n",
       "      <td>9.968944</td>\n",
       "      <td>5.257781</td>\n",
       "      <td>42.701629</td>\n",
       "      <td>69.266198</td>\n",
       "      <td>10.462676</td>\n",
       "      <td>0.927452</td>\n",
       "      <td>16.634514</td>\n",
       "      <td>2.224930</td>\n",
       "      <td>...</td>\n",
       "      <td>13.992281</td>\n",
       "      <td>-505.503262</td>\n",
       "      <td>11.950531</td>\n",
       "      <td>-501.331529</td>\n",
       "      <td>10.039245</td>\n",
       "      <td>-500.169983</td>\n",
       "      <td>7.984757</td>\n",
       "      <td>-500.582168</td>\n",
       "      <td>13.998353</td>\n",
       "      <td>-599.787184</td>\n",
       "    </tr>\n",
       "    <tr>\n",
       "      <td>2</td>\n",
       "      <td>2016-01-15 02:00:00</td>\n",
       "      <td>6.055926</td>\n",
       "      <td>10.213995</td>\n",
       "      <td>5.383759</td>\n",
       "      <td>42.657501</td>\n",
       "      <td>68.116445</td>\n",
       "      <td>10.507046</td>\n",
       "      <td>0.953716</td>\n",
       "      <td>16.208849</td>\n",
       "      <td>2.257889</td>\n",
       "      <td>...</td>\n",
       "      <td>14.015015</td>\n",
       "      <td>-502.520901</td>\n",
       "      <td>11.912783</td>\n",
       "      <td>-501.133383</td>\n",
       "      <td>10.070913</td>\n",
       "      <td>-500.129135</td>\n",
       "      <td>8.013877</td>\n",
       "      <td>-500.517572</td>\n",
       "      <td>14.028663</td>\n",
       "      <td>-601.427363</td>\n",
       "    </tr>\n",
       "    <tr>\n",
       "      <td>3</td>\n",
       "      <td>2016-01-15 03:00:00</td>\n",
       "      <td>6.047977</td>\n",
       "      <td>9.977019</td>\n",
       "      <td>4.858634</td>\n",
       "      <td>42.689819</td>\n",
       "      <td>68.347543</td>\n",
       "      <td>10.422762</td>\n",
       "      <td>0.883763</td>\n",
       "      <td>16.532835</td>\n",
       "      <td>2.146849</td>\n",
       "      <td>...</td>\n",
       "      <td>14.036510</td>\n",
       "      <td>-500.857308</td>\n",
       "      <td>11.999550</td>\n",
       "      <td>-501.193686</td>\n",
       "      <td>9.970366</td>\n",
       "      <td>-499.201640</td>\n",
       "      <td>7.977324</td>\n",
       "      <td>-500.255908</td>\n",
       "      <td>14.005551</td>\n",
       "      <td>-599.996129</td>\n",
       "    </tr>\n",
       "    <tr>\n",
       "      <td>4</td>\n",
       "      <td>2016-01-15 04:00:00</td>\n",
       "      <td>6.148599</td>\n",
       "      <td>10.142511</td>\n",
       "      <td>4.939416</td>\n",
       "      <td>42.774141</td>\n",
       "      <td>66.927016</td>\n",
       "      <td>10.360302</td>\n",
       "      <td>0.792826</td>\n",
       "      <td>16.525686</td>\n",
       "      <td>2.055292</td>\n",
       "      <td>...</td>\n",
       "      <td>14.027298</td>\n",
       "      <td>-499.838632</td>\n",
       "      <td>11.953070</td>\n",
       "      <td>-501.053894</td>\n",
       "      <td>9.925709</td>\n",
       "      <td>-501.686727</td>\n",
       "      <td>7.894242</td>\n",
       "      <td>-500.356035</td>\n",
       "      <td>13.996647</td>\n",
       "      <td>-601.496691</td>\n",
       "    </tr>\n",
       "  </tbody>\n",
       "</table>\n",
       "<p>5 rows × 87 columns</p>\n",
       "</div>"
      ],
      "text/plain": [
       "                  date  final.output.concentrate_ag  \\\n",
       "0  2016-01-15 00:00:00                     6.055403   \n",
       "1  2016-01-15 01:00:00                     6.029369   \n",
       "2  2016-01-15 02:00:00                     6.055926   \n",
       "3  2016-01-15 03:00:00                     6.047977   \n",
       "4  2016-01-15 04:00:00                     6.148599   \n",
       "\n",
       "   final.output.concentrate_pb  final.output.concentrate_sol  \\\n",
       "0                     9.889648                      5.507324   \n",
       "1                     9.968944                      5.257781   \n",
       "2                    10.213995                      5.383759   \n",
       "3                     9.977019                      4.858634   \n",
       "4                    10.142511                      4.939416   \n",
       "\n",
       "   final.output.concentrate_au  final.output.recovery  final.output.tail_ag  \\\n",
       "0                    42.192020              70.541216             10.411962   \n",
       "1                    42.701629              69.266198             10.462676   \n",
       "2                    42.657501              68.116445             10.507046   \n",
       "3                    42.689819              68.347543             10.422762   \n",
       "4                    42.774141              66.927016             10.360302   \n",
       "\n",
       "   final.output.tail_pb  final.output.tail_sol  final.output.tail_au  ...  \\\n",
       "0              0.895447              16.904297              2.143149  ...   \n",
       "1              0.927452              16.634514              2.224930  ...   \n",
       "2              0.953716              16.208849              2.257889  ...   \n",
       "3              0.883763              16.532835              2.146849  ...   \n",
       "4              0.792826              16.525686              2.055292  ...   \n",
       "\n",
       "   secondary_cleaner.state.floatbank4_a_air  \\\n",
       "0                                 14.016835   \n",
       "1                                 13.992281   \n",
       "2                                 14.015015   \n",
       "3                                 14.036510   \n",
       "4                                 14.027298   \n",
       "\n",
       "   secondary_cleaner.state.floatbank4_a_level  \\\n",
       "0                                 -502.488007   \n",
       "1                                 -505.503262   \n",
       "2                                 -502.520901   \n",
       "3                                 -500.857308   \n",
       "4                                 -499.838632   \n",
       "\n",
       "   secondary_cleaner.state.floatbank4_b_air  \\\n",
       "0                                 12.099931   \n",
       "1                                 11.950531   \n",
       "2                                 11.912783   \n",
       "3                                 11.999550   \n",
       "4                                 11.953070   \n",
       "\n",
       "   secondary_cleaner.state.floatbank4_b_level  \\\n",
       "0                                 -504.715942   \n",
       "1                                 -501.331529   \n",
       "2                                 -501.133383   \n",
       "3                                 -501.193686   \n",
       "4                                 -501.053894   \n",
       "\n",
       "   secondary_cleaner.state.floatbank5_a_air  \\\n",
       "0                                  9.925633   \n",
       "1                                 10.039245   \n",
       "2                                 10.070913   \n",
       "3                                  9.970366   \n",
       "4                                  9.925709   \n",
       "\n",
       "   secondary_cleaner.state.floatbank5_a_level  \\\n",
       "0                                 -498.310211   \n",
       "1                                 -500.169983   \n",
       "2                                 -500.129135   \n",
       "3                                 -499.201640   \n",
       "4                                 -501.686727   \n",
       "\n",
       "   secondary_cleaner.state.floatbank5_b_air  \\\n",
       "0                                  8.079666   \n",
       "1                                  7.984757   \n",
       "2                                  8.013877   \n",
       "3                                  7.977324   \n",
       "4                                  7.894242   \n",
       "\n",
       "   secondary_cleaner.state.floatbank5_b_level  \\\n",
       "0                                 -500.470978   \n",
       "1                                 -500.582168   \n",
       "2                                 -500.517572   \n",
       "3                                 -500.255908   \n",
       "4                                 -500.356035   \n",
       "\n",
       "   secondary_cleaner.state.floatbank6_a_air  \\\n",
       "0                                 14.151341   \n",
       "1                                 13.998353   \n",
       "2                                 14.028663   \n",
       "3                                 14.005551   \n",
       "4                                 13.996647   \n",
       "\n",
       "   secondary_cleaner.state.floatbank6_a_level  \n",
       "0                                 -605.841980  \n",
       "1                                 -599.787184  \n",
       "2                                 -601.427363  \n",
       "3                                 -599.996129  \n",
       "4                                 -601.496691  \n",
       "\n",
       "[5 rows x 87 columns]"
      ]
     },
     "execution_count": 3,
     "metadata": {},
     "output_type": "execute_result"
    }
   ],
   "source": [
    "display(data_train.head())\n",
    "display(data_test.head())\n",
    "data_full.head()"
   ]
  },
  {
   "cell_type": "markdown",
   "metadata": {},
   "source": [
    "Таблицы умеют кучу данных, отражающих различные отраслевые параметры на протяжение всех этапов обработки. Уникальным индексом может послужить колонка с датой и временем.\n"
   ]
  },
  {
   "cell_type": "code",
   "execution_count": 4,
   "metadata": {},
   "outputs": [
    {
     "name": "stdout",
     "output_type": "stream",
     "text": [
      "<class 'pandas.core.frame.DataFrame'>\n",
      "RangeIndex: 14149 entries, 0 to 14148\n",
      "Data columns (total 87 columns):\n",
      "date                                                  14149 non-null object\n",
      "final.output.concentrate_ag                           14148 non-null float64\n",
      "final.output.concentrate_pb                           14148 non-null float64\n",
      "final.output.concentrate_sol                          13938 non-null float64\n",
      "final.output.concentrate_au                           14149 non-null float64\n",
      "final.output.recovery                                 14149 non-null float64\n",
      "final.output.tail_ag                                  14149 non-null float64\n",
      "final.output.tail_pb                                  14049 non-null float64\n",
      "final.output.tail_sol                                 14144 non-null float64\n",
      "final.output.tail_au                                  14149 non-null float64\n",
      "primary_cleaner.input.sulfate                         14129 non-null float64\n",
      "primary_cleaner.input.depressant                      14117 non-null float64\n",
      "primary_cleaner.input.feed_size                       14149 non-null float64\n",
      "primary_cleaner.input.xanthate                        14049 non-null float64\n",
      "primary_cleaner.output.concentrate_ag                 14149 non-null float64\n",
      "primary_cleaner.output.concentrate_pb                 14063 non-null float64\n",
      "primary_cleaner.output.concentrate_sol                13863 non-null float64\n",
      "primary_cleaner.output.concentrate_au                 14149 non-null float64\n",
      "primary_cleaner.output.tail_ag                        14148 non-null float64\n",
      "primary_cleaner.output.tail_pb                        14134 non-null float64\n",
      "primary_cleaner.output.tail_sol                       14103 non-null float64\n",
      "primary_cleaner.output.tail_au                        14149 non-null float64\n",
      "primary_cleaner.state.floatbank8_a_air                14145 non-null float64\n",
      "primary_cleaner.state.floatbank8_a_level              14148 non-null float64\n",
      "primary_cleaner.state.floatbank8_b_air                14145 non-null float64\n",
      "primary_cleaner.state.floatbank8_b_level              14148 non-null float64\n",
      "primary_cleaner.state.floatbank8_c_air                14147 non-null float64\n",
      "primary_cleaner.state.floatbank8_c_level              14148 non-null float64\n",
      "primary_cleaner.state.floatbank8_d_air                14146 non-null float64\n",
      "primary_cleaner.state.floatbank8_d_level              14148 non-null float64\n",
      "rougher.calculation.sulfate_to_au_concentrate         14148 non-null float64\n",
      "rougher.calculation.floatbank10_sulfate_to_au_feed    14148 non-null float64\n",
      "rougher.calculation.floatbank11_sulfate_to_au_feed    14148 non-null float64\n",
      "rougher.calculation.au_pb_ratio                       14149 non-null float64\n",
      "rougher.input.feed_ag                                 14149 non-null float64\n",
      "rougher.input.feed_pb                                 14049 non-null float64\n",
      "rougher.input.feed_rate                               14141 non-null float64\n",
      "rougher.input.feed_size                               14005 non-null float64\n",
      "rougher.input.feed_sol                                14071 non-null float64\n",
      "rougher.input.feed_au                                 14149 non-null float64\n",
      "rougher.input.floatbank10_sulfate                     14120 non-null float64\n",
      "rougher.input.floatbank10_xanthate                    14141 non-null float64\n",
      "rougher.input.floatbank11_sulfate                     14113 non-null float64\n",
      "rougher.input.floatbank11_xanthate                    13721 non-null float64\n",
      "rougher.output.concentrate_ag                         14149 non-null float64\n",
      "rougher.output.concentrate_pb                         14149 non-null float64\n",
      "rougher.output.concentrate_sol                        14127 non-null float64\n",
      "rougher.output.concentrate_au                         14149 non-null float64\n",
      "rougher.output.recovery                               14149 non-null float64\n",
      "rougher.output.tail_ag                                14148 non-null float64\n",
      "rougher.output.tail_pb                                14149 non-null float64\n",
      "rougher.output.tail_sol                               14149 non-null float64\n",
      "rougher.output.tail_au                                14149 non-null float64\n",
      "rougher.state.floatbank10_a_air                       14148 non-null float64\n",
      "rougher.state.floatbank10_a_level                     14148 non-null float64\n",
      "rougher.state.floatbank10_b_air                       14148 non-null float64\n",
      "rougher.state.floatbank10_b_level                     14148 non-null float64\n",
      "rougher.state.floatbank10_c_air                       14148 non-null float64\n",
      "rougher.state.floatbank10_c_level                     14148 non-null float64\n",
      "rougher.state.floatbank10_d_air                       14149 non-null float64\n",
      "rougher.state.floatbank10_d_level                     14149 non-null float64\n",
      "rougher.state.floatbank10_e_air                       13713 non-null float64\n",
      "rougher.state.floatbank10_e_level                     14149 non-null float64\n",
      "rougher.state.floatbank10_f_air                       14149 non-null float64\n",
      "rougher.state.floatbank10_f_level                     14149 non-null float64\n",
      "secondary_cleaner.output.tail_ag                      14147 non-null float64\n",
      "secondary_cleaner.output.tail_pb                      14139 non-null float64\n",
      "secondary_cleaner.output.tail_sol                     12544 non-null float64\n",
      "secondary_cleaner.output.tail_au                      14149 non-null float64\n",
      "secondary_cleaner.state.floatbank2_a_air              13932 non-null float64\n",
      "secondary_cleaner.state.floatbank2_a_level            14148 non-null float64\n",
      "secondary_cleaner.state.floatbank2_b_air              14128 non-null float64\n",
      "secondary_cleaner.state.floatbank2_b_level            14148 non-null float64\n",
      "secondary_cleaner.state.floatbank3_a_air              14145 non-null float64\n",
      "secondary_cleaner.state.floatbank3_a_level            14148 non-null float64\n",
      "secondary_cleaner.state.floatbank3_b_air              14148 non-null float64\n",
      "secondary_cleaner.state.floatbank3_b_level            14148 non-null float64\n",
      "secondary_cleaner.state.floatbank4_a_air              14143 non-null float64\n",
      "secondary_cleaner.state.floatbank4_a_level            14148 non-null float64\n",
      "secondary_cleaner.state.floatbank4_b_air              14148 non-null float64\n",
      "secondary_cleaner.state.floatbank4_b_level            14148 non-null float64\n",
      "secondary_cleaner.state.floatbank5_a_air              14148 non-null float64\n",
      "secondary_cleaner.state.floatbank5_a_level            14148 non-null float64\n",
      "secondary_cleaner.state.floatbank5_b_air              14148 non-null float64\n",
      "secondary_cleaner.state.floatbank5_b_level            14148 non-null float64\n",
      "secondary_cleaner.state.floatbank6_a_air              14147 non-null float64\n",
      "secondary_cleaner.state.floatbank6_a_level            14148 non-null float64\n",
      "dtypes: float64(86), object(1)\n",
      "memory usage: 9.4+ MB\n",
      "None\n",
      "<class 'pandas.core.frame.DataFrame'>\n",
      "RangeIndex: 5290 entries, 0 to 5289\n",
      "Data columns (total 53 columns):\n",
      "date                                          5290 non-null object\n",
      "primary_cleaner.input.sulfate                 5286 non-null float64\n",
      "primary_cleaner.input.depressant              5285 non-null float64\n",
      "primary_cleaner.input.feed_size               5290 non-null float64\n",
      "primary_cleaner.input.xanthate                5286 non-null float64\n",
      "primary_cleaner.state.floatbank8_a_air        5290 non-null float64\n",
      "primary_cleaner.state.floatbank8_a_level      5290 non-null float64\n",
      "primary_cleaner.state.floatbank8_b_air        5290 non-null float64\n",
      "primary_cleaner.state.floatbank8_b_level      5290 non-null float64\n",
      "primary_cleaner.state.floatbank8_c_air        5290 non-null float64\n",
      "primary_cleaner.state.floatbank8_c_level      5290 non-null float64\n",
      "primary_cleaner.state.floatbank8_d_air        5290 non-null float64\n",
      "primary_cleaner.state.floatbank8_d_level      5290 non-null float64\n",
      "rougher.input.feed_ag                         5290 non-null float64\n",
      "rougher.input.feed_pb                         5290 non-null float64\n",
      "rougher.input.feed_rate                       5287 non-null float64\n",
      "rougher.input.feed_size                       5289 non-null float64\n",
      "rougher.input.feed_sol                        5269 non-null float64\n",
      "rougher.input.feed_au                         5290 non-null float64\n",
      "rougher.input.floatbank10_sulfate             5285 non-null float64\n",
      "rougher.input.floatbank10_xanthate            5290 non-null float64\n",
      "rougher.input.floatbank11_sulfate             5282 non-null float64\n",
      "rougher.input.floatbank11_xanthate            5265 non-null float64\n",
      "rougher.state.floatbank10_a_air               5290 non-null float64\n",
      "rougher.state.floatbank10_a_level             5290 non-null float64\n",
      "rougher.state.floatbank10_b_air               5290 non-null float64\n",
      "rougher.state.floatbank10_b_level             5290 non-null float64\n",
      "rougher.state.floatbank10_c_air               5290 non-null float64\n",
      "rougher.state.floatbank10_c_level             5290 non-null float64\n",
      "rougher.state.floatbank10_d_air               5290 non-null float64\n",
      "rougher.state.floatbank10_d_level             5290 non-null float64\n",
      "rougher.state.floatbank10_e_air               5290 non-null float64\n",
      "rougher.state.floatbank10_e_level             5290 non-null float64\n",
      "rougher.state.floatbank10_f_air               5290 non-null float64\n",
      "rougher.state.floatbank10_f_level             5290 non-null float64\n",
      "secondary_cleaner.state.floatbank2_a_air      5287 non-null float64\n",
      "secondary_cleaner.state.floatbank2_a_level    5290 non-null float64\n",
      "secondary_cleaner.state.floatbank2_b_air      5288 non-null float64\n",
      "secondary_cleaner.state.floatbank2_b_level    5290 non-null float64\n",
      "secondary_cleaner.state.floatbank3_a_air      5281 non-null float64\n",
      "secondary_cleaner.state.floatbank3_a_level    5290 non-null float64\n",
      "secondary_cleaner.state.floatbank3_b_air      5290 non-null float64\n",
      "secondary_cleaner.state.floatbank3_b_level    5290 non-null float64\n",
      "secondary_cleaner.state.floatbank4_a_air      5290 non-null float64\n",
      "secondary_cleaner.state.floatbank4_a_level    5290 non-null float64\n",
      "secondary_cleaner.state.floatbank4_b_air      5290 non-null float64\n",
      "secondary_cleaner.state.floatbank4_b_level    5290 non-null float64\n",
      "secondary_cleaner.state.floatbank5_a_air      5290 non-null float64\n",
      "secondary_cleaner.state.floatbank5_a_level    5290 non-null float64\n",
      "secondary_cleaner.state.floatbank5_b_air      5290 non-null float64\n",
      "secondary_cleaner.state.floatbank5_b_level    5290 non-null float64\n",
      "secondary_cleaner.state.floatbank6_a_air      5290 non-null float64\n",
      "secondary_cleaner.state.floatbank6_a_level    5290 non-null float64\n",
      "dtypes: float64(52), object(1)\n",
      "memory usage: 2.1+ MB\n",
      "None\n",
      "<class 'pandas.core.frame.DataFrame'>\n",
      "RangeIndex: 19439 entries, 0 to 19438\n",
      "Data columns (total 87 columns):\n",
      "date                                                  19439 non-null object\n",
      "final.output.concentrate_ag                           19438 non-null float64\n",
      "final.output.concentrate_pb                           19438 non-null float64\n",
      "final.output.concentrate_sol                          19228 non-null float64\n",
      "final.output.concentrate_au                           19439 non-null float64\n",
      "final.output.recovery                                 19439 non-null float64\n",
      "final.output.tail_ag                                  19438 non-null float64\n",
      "final.output.tail_pb                                  19338 non-null float64\n",
      "final.output.tail_sol                                 19433 non-null float64\n",
      "final.output.tail_au                                  19439 non-null float64\n",
      "primary_cleaner.input.sulfate                         19415 non-null float64\n",
      "primary_cleaner.input.depressant                      19402 non-null float64\n",
      "primary_cleaner.input.feed_size                       19439 non-null float64\n",
      "primary_cleaner.input.xanthate                        19335 non-null float64\n",
      "primary_cleaner.output.concentrate_ag                 19439 non-null float64\n",
      "primary_cleaner.output.concentrate_pb                 19323 non-null float64\n",
      "primary_cleaner.output.concentrate_sol                19069 non-null float64\n",
      "primary_cleaner.output.concentrate_au                 19439 non-null float64\n",
      "primary_cleaner.output.tail_ag                        19435 non-null float64\n",
      "primary_cleaner.output.tail_pb                        19418 non-null float64\n",
      "primary_cleaner.output.tail_sol                       19377 non-null float64\n",
      "primary_cleaner.output.tail_au                        19439 non-null float64\n",
      "primary_cleaner.state.floatbank8_a_air                19435 non-null float64\n",
      "primary_cleaner.state.floatbank8_a_level              19438 non-null float64\n",
      "primary_cleaner.state.floatbank8_b_air                19435 non-null float64\n",
      "primary_cleaner.state.floatbank8_b_level              19438 non-null float64\n",
      "primary_cleaner.state.floatbank8_c_air                19437 non-null float64\n",
      "primary_cleaner.state.floatbank8_c_level              19438 non-null float64\n",
      "primary_cleaner.state.floatbank8_d_air                19436 non-null float64\n",
      "primary_cleaner.state.floatbank8_d_level              19438 non-null float64\n",
      "rougher.calculation.sulfate_to_au_concentrate         19437 non-null float64\n",
      "rougher.calculation.floatbank10_sulfate_to_au_feed    19437 non-null float64\n",
      "rougher.calculation.floatbank11_sulfate_to_au_feed    19437 non-null float64\n",
      "rougher.calculation.au_pb_ratio                       19439 non-null float64\n",
      "rougher.input.feed_ag                                 19439 non-null float64\n",
      "rougher.input.feed_pb                                 19339 non-null float64\n",
      "rougher.input.feed_rate                               19428 non-null float64\n",
      "rougher.input.feed_size                               19294 non-null float64\n",
      "rougher.input.feed_sol                                19340 non-null float64\n",
      "rougher.input.feed_au                                 19439 non-null float64\n",
      "rougher.input.floatbank10_sulfate                     19405 non-null float64\n",
      "rougher.input.floatbank10_xanthate                    19431 non-null float64\n",
      "rougher.input.floatbank11_sulfate                     19395 non-null float64\n",
      "rougher.input.floatbank11_xanthate                    18986 non-null float64\n",
      "rougher.output.concentrate_ag                         19439 non-null float64\n",
      "rougher.output.concentrate_pb                         19439 non-null float64\n",
      "rougher.output.concentrate_sol                        19416 non-null float64\n",
      "rougher.output.concentrate_au                         19439 non-null float64\n",
      "rougher.output.recovery                               19439 non-null float64\n",
      "rougher.output.tail_ag                                19438 non-null float64\n",
      "rougher.output.tail_pb                                19439 non-null float64\n",
      "rougher.output.tail_sol                               19439 non-null float64\n",
      "rougher.output.tail_au                                19439 non-null float64\n",
      "rougher.state.floatbank10_a_air                       19438 non-null float64\n",
      "rougher.state.floatbank10_a_level                     19438 non-null float64\n",
      "rougher.state.floatbank10_b_air                       19438 non-null float64\n",
      "rougher.state.floatbank10_b_level                     19438 non-null float64\n",
      "rougher.state.floatbank10_c_air                       19438 non-null float64\n",
      "rougher.state.floatbank10_c_level                     19438 non-null float64\n",
      "rougher.state.floatbank10_d_air                       19439 non-null float64\n",
      "rougher.state.floatbank10_d_level                     19439 non-null float64\n",
      "rougher.state.floatbank10_e_air                       19003 non-null float64\n",
      "rougher.state.floatbank10_e_level                     19439 non-null float64\n",
      "rougher.state.floatbank10_f_air                       19439 non-null float64\n",
      "rougher.state.floatbank10_f_level                     19439 non-null float64\n",
      "secondary_cleaner.output.tail_ag                      19437 non-null float64\n",
      "secondary_cleaner.output.tail_pb                      19427 non-null float64\n",
      "secondary_cleaner.output.tail_sol                     17691 non-null float64\n",
      "secondary_cleaner.output.tail_au                      19439 non-null float64\n",
      "secondary_cleaner.state.floatbank2_a_air              19219 non-null float64\n",
      "secondary_cleaner.state.floatbank2_a_level            19438 non-null float64\n",
      "secondary_cleaner.state.floatbank2_b_air              19416 non-null float64\n",
      "secondary_cleaner.state.floatbank2_b_level            19438 non-null float64\n",
      "secondary_cleaner.state.floatbank3_a_air              19426 non-null float64\n",
      "secondary_cleaner.state.floatbank3_a_level            19438 non-null float64\n",
      "secondary_cleaner.state.floatbank3_b_air              19438 non-null float64\n",
      "secondary_cleaner.state.floatbank3_b_level            19438 non-null float64\n",
      "secondary_cleaner.state.floatbank4_a_air              19433 non-null float64\n",
      "secondary_cleaner.state.floatbank4_a_level            19438 non-null float64\n",
      "secondary_cleaner.state.floatbank4_b_air              19438 non-null float64\n",
      "secondary_cleaner.state.floatbank4_b_level            19438 non-null float64\n",
      "secondary_cleaner.state.floatbank5_a_air              19438 non-null float64\n",
      "secondary_cleaner.state.floatbank5_a_level            19438 non-null float64\n",
      "secondary_cleaner.state.floatbank5_b_air              19438 non-null float64\n",
      "secondary_cleaner.state.floatbank5_b_level            19438 non-null float64\n",
      "secondary_cleaner.state.floatbank6_a_air              19437 non-null float64\n",
      "secondary_cleaner.state.floatbank6_a_level            19438 non-null float64\n",
      "dtypes: float64(86), object(1)\n",
      "memory usage: 12.9+ MB\n"
     ]
    }
   ],
   "source": [
    "print(data_train.info())\n",
    "print(data_test.info())\n",
    "data_full.info()"
   ]
  },
  {
   "cell_type": "markdown",
   "metadata": {},
   "source": [
    "Тип данных в удобных форматах. Но имеюся пропуски которые необходимо будет обработать. Также размер обучающей и тестовой выборке различен, необходимо будет это учесть в дальнейшей работе с моделями."
   ]
  },
  {
   "cell_type": "code",
   "execution_count": 5,
   "metadata": {},
   "outputs": [
    {
     "data": {
      "text/plain": [
       "secondary_cleaner.output.tail_sol           0.089922\n",
       "rougher.input.floatbank11_xanthate          0.023304\n",
       "rougher.state.floatbank10_e_air             0.022429\n",
       "primary_cleaner.output.concentrate_sol      0.019034\n",
       "secondary_cleaner.state.floatbank2_a_air    0.011317\n",
       "final.output.concentrate_sol                0.010854\n",
       "rougher.input.feed_size                     0.007459\n",
       "primary_cleaner.output.concentrate_pb       0.005967\n",
       "primary_cleaner.input.xanthate              0.005350\n",
       "final.output.tail_pb                        0.005196\n",
       "dtype: float64"
      ]
     },
     "execution_count": 5,
     "metadata": {},
     "output_type": "execute_result"
    }
   ],
   "source": [
    "# поймем долю пропусков в датасете\n",
    "percent_null = data_full.isna().mean()\n",
    "percent_null[percent_null>0].sort_values(ascending=False).head(10)"
   ]
  },
  {
   "cell_type": "markdown",
   "metadata": {},
   "source": [
    "Согласно результату пропуски у многих признаков имеют незначительную долю в тысячных процентов, поэтому такие строки с пропусками можно в дальнейшем просто выкинуть из датасета. Пропуски где их доля 1% и выше, возможно относятся к колонкам, которые нам не понадобятся в дальнейшем, так как не все признаки попали в тест, а значит мы и так их выкинем из обучающей выборки. Если же какие то колонки остануться то можно будет провести замену медианами/средним."
   ]
  },
  {
   "cell_type": "markdown",
   "metadata": {},
   "source": [
    "### Проверка эффективности обогащения"
   ]
  },
  {
   "cell_type": "code",
   "execution_count": 6,
   "metadata": {},
   "outputs": [],
   "source": [
    "# создадим список с расчетными показателями.\n",
    "def calcul_recovery(row):\n",
    "    x = (row['rougher.output.concentrate_au']*(row['rougher.input.feed_au']-row['rougher.output.tail_au']))/(row['rougher.input.feed_au']*(row['rougher.output.concentrate_au']-row['rougher.output.tail_au']))*100\n",
    "    return x\n",
    "\n",
    "recovery_calcul = data_train.apply(calcul_recovery, axis=1)"
   ]
  },
  {
   "cell_type": "code",
   "execution_count": 7,
   "metadata": {},
   "outputs": [
    {
     "data": {
      "text/plain": [
       "9.682896147825551e-15"
      ]
     },
     "execution_count": 7,
     "metadata": {},
     "output_type": "execute_result"
    }
   ],
   "source": [
    "# считаем МАЕ\n",
    "mean_absolute_error(data_train['rougher.output.recovery'], recovery_calcul)\n"
   ]
  },
  {
   "cell_type": "markdown",
   "metadata": {},
   "source": [
    "Проверка пройдена успешно. Различия в расчетных показателях и из датасета мизерные, возможно из за каких то округлений."
   ]
  },
  {
   "cell_type": "markdown",
   "metadata": {},
   "source": [
    "### Анализ различий тестовой и обучающей выборки"
   ]
  },
  {
   "cell_type": "code",
   "execution_count": 8,
   "metadata": {},
   "outputs": [
    {
     "data": {
      "text/plain": [
       "['final.output.concentrate_ag',\n",
       " 'final.output.concentrate_pb',\n",
       " 'final.output.concentrate_sol',\n",
       " 'final.output.concentrate_au',\n",
       " 'final.output.recovery',\n",
       " 'final.output.tail_ag',\n",
       " 'final.output.tail_pb',\n",
       " 'final.output.tail_sol',\n",
       " 'final.output.tail_au',\n",
       " 'primary_cleaner.output.concentrate_ag',\n",
       " 'primary_cleaner.output.concentrate_pb',\n",
       " 'primary_cleaner.output.concentrate_sol',\n",
       " 'primary_cleaner.output.concentrate_au',\n",
       " 'primary_cleaner.output.tail_ag',\n",
       " 'primary_cleaner.output.tail_pb',\n",
       " 'primary_cleaner.output.tail_sol',\n",
       " 'primary_cleaner.output.tail_au',\n",
       " 'rougher.calculation.sulfate_to_au_concentrate',\n",
       " 'rougher.calculation.floatbank10_sulfate_to_au_feed',\n",
       " 'rougher.calculation.floatbank11_sulfate_to_au_feed',\n",
       " 'rougher.calculation.au_pb_ratio',\n",
       " 'rougher.output.concentrate_ag',\n",
       " 'rougher.output.concentrate_pb',\n",
       " 'rougher.output.concentrate_sol',\n",
       " 'rougher.output.concentrate_au',\n",
       " 'rougher.output.recovery',\n",
       " 'rougher.output.tail_ag',\n",
       " 'rougher.output.tail_pb',\n",
       " 'rougher.output.tail_sol',\n",
       " 'rougher.output.tail_au',\n",
       " 'secondary_cleaner.output.tail_ag',\n",
       " 'secondary_cleaner.output.tail_pb',\n",
       " 'secondary_cleaner.output.tail_sol',\n",
       " 'secondary_cleaner.output.tail_au']"
      ]
     },
     "execution_count": 8,
     "metadata": {},
     "output_type": "execute_result"
    }
   ],
   "source": [
    "#создадим список с названиями пропущенных колонок\n",
    "score = []\n",
    "for i in data_train.columns:\n",
    "    if i not in data_test.columns:\n",
    "        score.append(i)\n",
    "score"
   ]
  },
  {
   "cell_type": "markdown",
   "metadata": {},
   "source": [
    "По полученным данным видно, что не хватает следующей информации в тестовой выборке:\n",
    "- На всех этапах отсутвует информация о доле примесей веществ в хвостах\n",
    "- нет целевых колонок recovery\n",
    "- нет информации о концентрированности вещест на выходе на всех этапах \n",
    "- На стадии флютации нет информации о расчетных характеристиках по реагенту сульфату\n",
    "\n",
    "Как было сказанно в проекте некоторые данные измеряются значительно позже, чем нежели происходит сам процесс поэтому они отсутствуют в тестовой выборке."
   ]
  },
  {
   "cell_type": "markdown",
   "metadata": {},
   "source": [
    "### Предварительная обработка"
   ]
  },
  {
   "cell_type": "code",
   "execution_count": 9,
   "metadata": {},
   "outputs": [],
   "source": [
    "#удалим колонки из обучащей выборки, которых нет в тестовой и сформируем отдельно таргет-признаки\n",
    "target_rougher = data_train['rougher.output.recovery']\n",
    "target_final = data_train['final.output.recovery']"
   ]
  },
  {
   "cell_type": "code",
   "execution_count": 10,
   "metadata": {},
   "outputs": [
    {
     "data": {
      "text/plain": [
       "(14149, 53)"
      ]
     },
     "execution_count": 10,
     "metadata": {},
     "output_type": "execute_result"
    }
   ],
   "source": [
    "data_train_features =data_train.drop(score ,axis=1)\n",
    "data_train_features.shape"
   ]
  },
  {
   "cell_type": "code",
   "execution_count": 11,
   "metadata": {},
   "outputs": [
    {
     "data": {
      "text/plain": [
       "rougher.state.floatbank10_e_air               0.030815\n",
       "rougher.input.floatbank11_xanthate            0.030249\n",
       "secondary_cleaner.state.floatbank2_a_air      0.015337\n",
       "rougher.input.feed_size                       0.010177\n",
       "primary_cleaner.input.xanthate                0.007068\n",
       "rougher.input.feed_pb                         0.007068\n",
       "rougher.input.feed_sol                        0.005513\n",
       "rougher.input.floatbank11_sulfate             0.002544\n",
       "primary_cleaner.input.depressant              0.002262\n",
       "rougher.input.floatbank10_sulfate             0.002050\n",
       "secondary_cleaner.state.floatbank2_b_air      0.001484\n",
       "primary_cleaner.input.sulfate                 0.001414\n",
       "rougher.input.floatbank10_xanthate            0.000565\n",
       "rougher.input.feed_rate                       0.000565\n",
       "secondary_cleaner.state.floatbank4_a_air      0.000424\n",
       "primary_cleaner.state.floatbank8_b_air        0.000283\n",
       "secondary_cleaner.state.floatbank3_a_air      0.000283\n",
       "primary_cleaner.state.floatbank8_a_air        0.000283\n",
       "primary_cleaner.state.floatbank8_d_air        0.000212\n",
       "primary_cleaner.state.floatbank8_c_air        0.000141\n",
       "secondary_cleaner.state.floatbank6_a_air      0.000141\n",
       "secondary_cleaner.state.floatbank6_a_level    0.000071\n",
       "primary_cleaner.state.floatbank8_d_level      0.000071\n",
       "rougher.state.floatbank10_a_level             0.000071\n",
       "primary_cleaner.state.floatbank8_c_level      0.000071\n",
       "primary_cleaner.state.floatbank8_b_level      0.000071\n",
       "primary_cleaner.state.floatbank8_a_level      0.000071\n",
       "rougher.state.floatbank10_a_air               0.000071\n",
       "rougher.state.floatbank10_b_level             0.000071\n",
       "rougher.state.floatbank10_b_air               0.000071\n",
       "rougher.state.floatbank10_c_air               0.000071\n",
       "secondary_cleaner.state.floatbank5_b_level    0.000071\n",
       "secondary_cleaner.state.floatbank5_b_air      0.000071\n",
       "secondary_cleaner.state.floatbank5_a_level    0.000071\n",
       "secondary_cleaner.state.floatbank5_a_air      0.000071\n",
       "secondary_cleaner.state.floatbank4_b_level    0.000071\n",
       "secondary_cleaner.state.floatbank4_b_air      0.000071\n",
       "secondary_cleaner.state.floatbank4_a_level    0.000071\n",
       "secondary_cleaner.state.floatbank3_b_level    0.000071\n",
       "secondary_cleaner.state.floatbank3_b_air      0.000071\n",
       "secondary_cleaner.state.floatbank3_a_level    0.000071\n",
       "secondary_cleaner.state.floatbank2_b_level    0.000071\n",
       "secondary_cleaner.state.floatbank2_a_level    0.000071\n",
       "rougher.state.floatbank10_c_level             0.000071\n",
       "rougher.input.feed_ag                         0.000000\n",
       "rougher.state.floatbank10_f_level             0.000000\n",
       "rougher.state.floatbank10_f_air               0.000000\n",
       "rougher.state.floatbank10_e_level             0.000000\n",
       "rougher.input.feed_au                         0.000000\n",
       "rougher.state.floatbank10_d_level             0.000000\n",
       "primary_cleaner.input.feed_size               0.000000\n",
       "rougher.state.floatbank10_d_air               0.000000\n",
       "date                                          0.000000\n",
       "dtype: float64"
      ]
     },
     "execution_count": 11,
     "metadata": {},
     "output_type": "execute_result"
    }
   ],
   "source": [
    "# разберемся с пропусками\n",
    "data_train_features.isna().mean().sort_values(ascending=False)"
   ]
  },
  {
   "cell_type": "code",
   "execution_count": 12,
   "metadata": {},
   "outputs": [],
   "source": [
    "# в признаках где больше 1% заменим параметры медианами\n",
    "data_train_features['rougher.state.floatbank10_e_air'] = data_train_features['rougher.state.floatbank10_e_air'].fillna(data_train_features['rougher.state.floatbank10_e_air'].median())\n",
    "data_train_features['rougher.input.floatbank11_xanthate'] = data_train_features['rougher.input.floatbank11_xanthate'].fillna(data_train_features['rougher.input.floatbank11_xanthate'].median())\n",
    "data_train_features['secondary_cleaner.state.floatbank2_a_air'] = data_train_features['secondary_cleaner.state.floatbank2_a_air'].fillna(data_train_features['secondary_cleaner.state.floatbank2_a_air'].median())\n",
    "data_train_features['rougher.input.feed_size'] = data_train_features['rougher.input.feed_size'].fillna(data_train_features['rougher.input.feed_size'].median())"
   ]
  },
  {
   "cell_type": "code",
   "execution_count": 13,
   "metadata": {},
   "outputs": [],
   "source": [
    "# теперь удалим все строки с пропусками\n",
    "data_train_features = data_train_features.dropna(axis=0)"
   ]
  },
  {
   "cell_type": "code",
   "execution_count": 14,
   "metadata": {},
   "outputs": [],
   "source": [
    "#удалим строки из таргетов\n",
    "target_rougher = target_rougher[data_train_features.index]\n",
    "target_final = target_final[data_train_features.index]"
   ]
  },
  {
   "cell_type": "code",
   "execution_count": 15,
   "metadata": {},
   "outputs": [
    {
     "data": {
      "text/plain": [
       "rougher.input.floatbank11_xanthate            0.004726\n",
       "rougher.input.feed_sol                        0.003970\n",
       "secondary_cleaner.state.floatbank3_a_air      0.001701\n",
       "rougher.input.floatbank11_sulfate             0.001512\n",
       "primary_cleaner.input.depressant              0.000945\n",
       "rougher.input.floatbank10_sulfate             0.000945\n",
       "primary_cleaner.input.sulfate                 0.000756\n",
       "primary_cleaner.input.xanthate                0.000756\n",
       "secondary_cleaner.state.floatbank2_a_air      0.000567\n",
       "rougher.input.feed_rate                       0.000567\n",
       "secondary_cleaner.state.floatbank2_b_air      0.000378\n",
       "rougher.input.feed_size                       0.000189\n",
       "secondary_cleaner.state.floatbank6_a_level    0.000000\n",
       "rougher.input.floatbank10_xanthate            0.000000\n",
       "rougher.input.feed_au                         0.000000\n",
       "rougher.input.feed_pb                         0.000000\n",
       "primary_cleaner.state.floatbank8_d_level      0.000000\n",
       "rougher.input.feed_ag                         0.000000\n",
       "rougher.state.floatbank10_a_level             0.000000\n",
       "primary_cleaner.state.floatbank8_d_air        0.000000\n",
       "primary_cleaner.state.floatbank8_c_level      0.000000\n",
       "primary_cleaner.state.floatbank8_c_air        0.000000\n",
       "primary_cleaner.state.floatbank8_b_level      0.000000\n",
       "primary_cleaner.state.floatbank8_b_air        0.000000\n",
       "primary_cleaner.state.floatbank8_a_level      0.000000\n",
       "primary_cleaner.state.floatbank8_a_air        0.000000\n",
       "primary_cleaner.input.feed_size               0.000000\n",
       "rougher.state.floatbank10_a_air               0.000000\n",
       "rougher.state.floatbank10_b_level             0.000000\n",
       "rougher.state.floatbank10_b_air               0.000000\n",
       "secondary_cleaner.state.floatbank6_a_air      0.000000\n",
       "secondary_cleaner.state.floatbank5_b_level    0.000000\n",
       "secondary_cleaner.state.floatbank5_b_air      0.000000\n",
       "secondary_cleaner.state.floatbank5_a_level    0.000000\n",
       "secondary_cleaner.state.floatbank5_a_air      0.000000\n",
       "secondary_cleaner.state.floatbank4_b_level    0.000000\n",
       "secondary_cleaner.state.floatbank4_b_air      0.000000\n",
       "secondary_cleaner.state.floatbank4_a_level    0.000000\n",
       "secondary_cleaner.state.floatbank4_a_air      0.000000\n",
       "secondary_cleaner.state.floatbank3_b_level    0.000000\n",
       "secondary_cleaner.state.floatbank3_b_air      0.000000\n",
       "secondary_cleaner.state.floatbank3_a_level    0.000000\n",
       "secondary_cleaner.state.floatbank2_b_level    0.000000\n",
       "secondary_cleaner.state.floatbank2_a_level    0.000000\n",
       "rougher.state.floatbank10_f_level             0.000000\n",
       "rougher.state.floatbank10_f_air               0.000000\n",
       "rougher.state.floatbank10_e_level             0.000000\n",
       "rougher.state.floatbank10_e_air               0.000000\n",
       "rougher.state.floatbank10_d_level             0.000000\n",
       "rougher.state.floatbank10_d_air               0.000000\n",
       "rougher.state.floatbank10_c_level             0.000000\n",
       "rougher.state.floatbank10_c_air               0.000000\n",
       "date                                          0.000000\n",
       "dtype: float64"
      ]
     },
     "execution_count": 15,
     "metadata": {},
     "output_type": "execute_result"
    }
   ],
   "source": [
    "# проведем те же манипуляции и с тестовой выборкой\n",
    "data_test.isna().mean().sort_values(ascending=False)"
   ]
  },
  {
   "cell_type": "code",
   "execution_count": 16,
   "metadata": {},
   "outputs": [],
   "source": [
    "data_test = data_test.dropna(axis=0)"
   ]
  },
  {
   "cell_type": "markdown",
   "metadata": {},
   "source": [
    "Данные готовы к дальнейшему анализу и изучению."
   ]
  },
  {
   "cell_type": "markdown",
   "metadata": {},
   "source": [
    "## Анализ данных"
   ]
  },
  {
   "cell_type": "markdown",
   "metadata": {},
   "source": [
    "### Исследование концентрации металлов (Au, Ag, Pb)"
   ]
  },
  {
   "cell_type": "code",
   "execution_count": 17,
   "metadata": {},
   "outputs": [
    {
     "data": {
      "text/plain": [
       "<matplotlib.legend.Legend at 0x7f7519098a10>"
      ]
     },
     "execution_count": 17,
     "metadata": {},
     "output_type": "execute_result"
    },
    {
     "data": {
      "image/png": "[encoded data removed]",
      "text/plain": [
       "<Figure size 720x720 with 1 Axes>"
      ]
     },
     "metadata": {
      "needs_background": "light"
     },
     "output_type": "display_data"
    }
   ],
   "source": [
    "# для данного исследования будем использовать полный датасет. \n",
    "# как уже выяснелось, если там будут пропуски они незначительны по исследуемым параметрам, можно отдельно их не обрабатывать\n",
    "# построим гистограму для каждого этапа и выведем на одном графике\n",
    "# начнем с золота\n",
    "plt.figure(figsize=(10,10))\n",
    "plt.xlabel('concentrate')\n",
    "plt.title('AU')\n",
    "plt.grid(True)\n",
    "plt.hist(data_full['rougher.input.feed_au'], bins=20, label='rougher.input')\n",
    "plt.hist(data_full['rougher.output.concentrate_au'], bins=20, label='rougher.output')\n",
    "plt.hist(data_full['primary_cleaner.output.concentrate_au'], bins=20, label='primary')\n",
    "plt.hist(data_full['final.output.concentrate_au'], bins=20, label='secondary')\n",
    "plt.legend(prop={'size': 15})"
   ]
  },
  {
   "cell_type": "markdown",
   "metadata": {},
   "source": [
    "На графике отчетлива видно основную тенденцию, что После каждого этапа отчистки содержания золота возрастает, причем в несколько раз. Также есть небольшой выброс в начале, скорее всего он вызван тем, что это было сырье с изначально низким содержанием золото, либо небольшие погрености технологического процесса при котором терялась концентрация. В целом видно, что каждый этап очистки обладает стабильной и хорошей эффективностью изучим другие металлы."
   ]
  },
  {
   "cell_type": "code",
   "execution_count": 18,
   "metadata": {},
   "outputs": [
    {
     "data": {
      "text/plain": [
       "<matplotlib.legend.Legend at 0x7f751a8dc3d0>"
      ]
     },
     "execution_count": 18,
     "metadata": {},
     "output_type": "execute_result"
    },
    {
     "data": {
      "image/png": "[encoded data removed]",
      "text/plain": [
       "<Figure size 1440x720 with 1 Axes>"
      ]
     },
     "metadata": {
      "needs_background": "light"
     },
     "output_type": "display_data"
    }
   ],
   "source": [
    "plt.figure(figsize=(20,10))\n",
    "plt.xlabel('concentrate')\n",
    "plt.grid(True)\n",
    "plt.title('AG')\n",
    "plt.hist(data_full['rougher.input.feed_ag'], bins=10, label='rougher.input',alpha=1, edgecolor=\"black\", linewidth=2)\n",
    "plt.hist(data_full['rougher.output.concentrate_ag'], bins=10, label='rougher.output', alpha=0.8)\n",
    "plt.hist(data_full['primary_cleaner.output.concentrate_ag'], bins=10, label='primary', alpha=0.6, edgecolor=\"brown\", linewidth=3)\n",
    "plt.hist(data_full['final.output.concentrate_ag'], bins=10, label='secondary', alpha=0.8)\n",
    "plt.legend(prop={'size': 15})"
   ]
  },
  {
   "cell_type": "markdown",
   "metadata": {},
   "source": [
    "С концентрацией серебра ситуация выходит интереснее. В отличие от золота тут нету больших скачков по еденицам измерения. Также после процесса флотации его концентрация в целом растет, однакок после первой очистки она вовращается практически к исходном данным, хотя все равно с небольшим повышением. И лишь после второй на выходе его концентрация становится ниже чем у входного сырья."
   ]
  },
  {
   "cell_type": "code",
   "execution_count": 19,
   "metadata": {},
   "outputs": [
    {
     "data": {
      "text/plain": [
       "<matplotlib.legend.Legend at 0x7f751a813a90>"
      ]
     },
     "execution_count": 19,
     "metadata": {},
     "output_type": "execute_result"
    },
    {
     "data": {
      "image/png": "[encoded data removed]",
      "text/plain": [
       "<Figure size 1440x720 with 1 Axes>"
      ]
     },
     "metadata": {
      "needs_background": "light"
     },
     "output_type": "display_data"
    }
   ],
   "source": [
    "plt.figure(figsize=(20,10))\n",
    "plt.xlabel('concentrate')\n",
    "plt.grid(True)\n",
    "plt.title('PB')\n",
    "plt.hist(data_full['rougher.input.feed_pb'], bins=10, label='rougher.input')\n",
    "plt.hist(data_full['rougher.output.concentrate_pb'], bins=10, label='rougher.output', alpha=0.8)\n",
    "plt.hist(data_full['primary_cleaner.output.concentrate_pb'], bins=10, label='primary', alpha=1, edgecolor=\"black\", linewidth=3)\n",
    "plt.hist(data_full['final.output.concentrate_pb'], bins=10, label='secondary', alpha=0.5)\n",
    "plt.legend(prop={'size': 15})"
   ]
  },
  {
   "cell_type": "markdown",
   "metadata": {},
   "source": [
    "У свинца тоже как и у серебра нет больших скачков в числовом выражении, однако у него тоже свои правила в отношении отчисток. При флотации  его доля растет, затем после первой его доля также растет, а вторая отчистка судя по графику оказывает не такое уже существенное влияние на его концентрации и практически она остается такой же."
   ]
  },
  {
   "cell_type": "markdown",
   "metadata": {},
   "source": [
    "### Сравнение распределения размере гранул"
   ]
  },
  {
   "cell_type": "code",
   "execution_count": 20,
   "metadata": {},
   "outputs": [
    {
     "data": {
      "text/plain": [
       "<matplotlib.axes._subplots.AxesSubplot at 0x7f7519100910>"
      ]
     },
     "execution_count": 20,
     "metadata": {},
     "output_type": "execute_result"
    },
    {
     "data": {
      "image/png": "[encoded data removed]",
      "text/plain": [
       "<Figure size 576x432 with 1 Axes>"
      ]
     },
     "metadata": {
      "needs_background": "light"
     },
     "output_type": "display_data"
    }
   ],
   "source": [
    "# размеры гранул находятся в двух признаках - перед флотацией и перед первичной очисткой \n",
    "# построим график распределения плотности kdeplot\n",
    "plt.figure(figsize=(8, 6)) \n",
    "test = sb.kdeplot(data_test['rougher.input.feed_size'], label='test')\n",
    "sb.kdeplot(data_train_features['rougher.input.feed_size'], ax=test, label='train')"
   ]
  },
  {
   "cell_type": "markdown",
   "metadata": {},
   "source": [
    "В целом выборки имеют схожее распределение. Обучающая выборка немного смещенна в право относительно тестовой выборке. Скорее всего это из-за смещения средних. Сильного различия между ними нет."
   ]
  },
  {
   "cell_type": "code",
   "execution_count": 21,
   "metadata": {},
   "outputs": [
    {
     "data": {
      "text/plain": [
       "<matplotlib.axes._subplots.AxesSubplot at 0x7f7518fd2bd0>"
      ]
     },
     "execution_count": 21,
     "metadata": {},
     "output_type": "execute_result"
    },
    {
     "data": {
      "image/png": "[encoded data removed]",
      "text/plain": [
       "<Figure size 576x432 with 1 Axes>"
      ]
     },
     "metadata": {
      "needs_background": "light"
     },
     "output_type": "display_data"
    }
   ],
   "source": [
    "plt.figure(figsize=(8, 6)) \n",
    "test = sb.kdeplot(data_test['primary_cleaner.input.feed_size'], label='test')\n",
    "sb.kdeplot(data_train_features['primary_cleaner.input.feed_size'], ax=test, label='train')"
   ]
  },
  {
   "cell_type": "markdown",
   "metadata": {},
   "source": [
    "На стадии после флотации распределение становится практически одинаково для размера гранул выборок. С данными выборками можно продолжать работу."
   ]
  },
  {
   "cell_type": "markdown",
   "metadata": {},
   "source": [
    "### Исследование суммарной концентрации веществ"
   ]
  },
  {
   "cell_type": "code",
   "execution_count": 22,
   "metadata": {},
   "outputs": [],
   "source": [
    "# создадим колонки с итооговыми суммами концентратов каждого этапа\n",
    "data_full[\"rougher_input_total\"] = data_full[\"rougher.input.feed_sol\"]+data_full[\"rougher.input.feed_au\"]+data_full[\"rougher.input.feed_pb\"]+data_full[\"rougher.input.feed_ag\"]\n",
    "data_full[\"rougher_output_total\"] = data_full[\"rougher.output.concentrate_ag\"]+data_full[\"rougher.output.concentrate_au\"]+data_full[\"rougher.output.concentrate_pb\"]+data_full[\"rougher.output.concentrate_sol\"]\n",
    "data_full[\"final_output_total\"] = data_full[\"final.output.concentrate_ag\"]+data_full[\"final.output.concentrate_au\"]+data_full[\"final.output.concentrate_pb\"]+data_full[\"final.output.concentrate_sol\"]\n"
   ]
  },
  {
   "cell_type": "code",
   "execution_count": 23,
   "metadata": {},
   "outputs": [
    {
     "data": {
      "text/plain": [
       "(array([5.000e+00, 1.000e+00, 8.000e+00, 9.000e+00, 5.000e+00, 1.400e+01,\n",
       "        2.000e+01, 4.000e+01, 8.700e+01, 1.250e+02, 2.350e+02, 4.830e+02,\n",
       "        1.210e+03, 2.808e+03, 4.712e+03, 4.295e+03, 2.831e+03, 1.784e+03,\n",
       "        5.080e+02, 6.500e+01]),\n",
       " array([3.99999991e-02, 3.88694737e+00, 7.73389473e+00, 1.15808421e+01,\n",
       "        1.54277895e+01, 1.92747368e+01, 2.31216842e+01, 2.69686316e+01,\n",
       "        3.08155789e+01, 3.46625263e+01, 3.85094737e+01, 4.23564210e+01,\n",
       "        4.62033684e+01, 5.00503158e+01, 5.38972631e+01, 5.77442105e+01,\n",
       "        6.15911579e+01, 6.54381052e+01, 6.92850526e+01, 7.31320000e+01,\n",
       "        7.69789473e+01]),\n",
       " <a list of 20 Patch objects>)"
      ]
     },
     "execution_count": 23,
     "metadata": {},
     "output_type": "execute_result"
    },
    {
     "data": {
      "image/png": "[encoded data removed]",
      "text/plain": [
       "<Figure size 720x864 with 1 Axes>"
      ]
     },
     "metadata": {
      "needs_background": "light"
     },
     "output_type": "display_data"
    }
   ],
   "source": [
    "# построим гистограммы чтобы посмотреть на распределения\n",
    "plt.figure(figsize=(10,12))\n",
    "plt.grid(True)\n",
    "plt.title('Input.rougher')\n",
    "plt.hist(data_full['rougher_input_total'], bins=20,edgecolor=\"black\", linewidth=3)\n"
   ]
  },
  {
   "cell_type": "markdown",
   "metadata": {},
   "source": [
    "Распределение скошено влево. Есть немного значений имеющих небольшую концентрацию веществ. "
   ]
  },
  {
   "cell_type": "code",
   "execution_count": 24,
   "metadata": {},
   "outputs": [
    {
     "data": {
      "text/plain": [
       "(array([4.000e+02, 2.000e+00, 3.000e+00, 2.000e+00, 9.000e+00, 1.100e+01,\n",
       "        3.000e+01, 4.500e+01, 5.900e+01, 1.140e+02, 1.070e+02, 1.800e+02,\n",
       "        4.950e+02, 1.036e+03, 2.440e+03, 5.151e+03, 5.053e+03, 3.122e+03,\n",
       "        1.042e+03, 1.150e+02]),\n",
       " array([ 0.        ,  4.40700597,  8.81401194, 13.2210179 , 17.62802387,\n",
       "        22.03502984, 26.44203581, 30.84904177, 35.25604774, 39.66305371,\n",
       "        44.07005968, 48.47706564, 52.88407161, 57.29107758, 61.69808355,\n",
       "        66.10508951, 70.51209548, 74.91910145, 79.32610742, 83.73311338,\n",
       "        88.14011935]),\n",
       " <a list of 20 Patch objects>)"
      ]
     },
     "execution_count": 24,
     "metadata": {},
     "output_type": "execute_result"
    },
    {
     "data": {
      "image/png": "[encoded data removed]",
      "text/plain": [
       "<Figure size 720x864 with 1 Axes>"
      ]
     },
     "metadata": {
      "needs_background": "light"
     },
     "output_type": "display_data"
    }
   ],
   "source": [
    "plt.figure(figsize=(10,12))\n",
    "plt.grid(True)\n",
    "plt.title('Output.rougher')\n",
    "plt.hist(data_full['rougher_output_total'], bins=20,edgecolor=\"black\", linewidth=3)"
   ]
  },
  {
   "cell_type": "markdown",
   "metadata": {},
   "source": [
    "Аналогично предыдущему выводу, но также замечены явные выбросы с 0 значением. Возможно это технические ошибки, в любом случае для данного сета это анамолии нужно будет от них избавится."
   ]
  },
  {
   "cell_type": "code",
   "execution_count": 25,
   "metadata": {},
   "outputs": [
    {
     "data": {
      "text/plain": [
       "(array([1.0100e+02, 2.0000e+00, 9.0000e+00, 1.3000e+01, 2.0000e+01,\n",
       "        1.6000e+01, 2.1000e+01, 2.0000e+01, 3.4000e+01, 3.1000e+01,\n",
       "        3.6000e+01, 6.4000e+01, 6.8000e+01, 9.5000e+01, 1.4900e+02,\n",
       "        5.7600e+02, 3.9580e+03, 1.0859e+04, 2.9120e+03, 2.4300e+02]),\n",
       " array([ 0.        ,  4.01053221,  8.02106442, 12.03159663, 16.04212884,\n",
       "        20.05266105, 24.06319326, 28.07372547, 32.08425768, 36.09478989,\n",
       "        40.1053221 , 44.11585431, 48.12638652, 52.13691873, 56.14745094,\n",
       "        60.15798315, 64.16851536, 68.17904757, 72.18957978, 76.20011199,\n",
       "        80.2106442 ]),\n",
       " <a list of 20 Patch objects>)"
      ]
     },
     "execution_count": 25,
     "metadata": {},
     "output_type": "execute_result"
    },
    {
     "data": {
      "image/png": "[encoded data removed]",
      "text/plain": [
       "<Figure size 720x864 with 1 Axes>"
      ]
     },
     "metadata": {
      "needs_background": "light"
     },
     "output_type": "display_data"
    }
   ],
   "source": [
    "plt.figure(figsize=(10,12))\n",
    "plt.grid(True)\n",
    "plt.title('Output.final')\n",
    "plt.hist(data_full['final_output_total'], bins=20,edgecolor=\"black\", linewidth=3)"
   ]
  },
  {
   "cell_type": "markdown",
   "metadata": {},
   "source": [
    "Аналогично предыдущей стадии. Видно, что после очисток концентрациия всех веществ приближается в итоге к одному значению, так как разброс стал меньше."
   ]
  },
  {
   "cell_type": "code",
   "execution_count": 26,
   "metadata": {},
   "outputs": [],
   "source": [
    "# Теперь избавимся от 0 концентраций в тестовой и обучающей выборке, \n",
    "#сначала отберем во всем дата сете строки с 0 концентрациями на всех этапах\n",
    "data_full_zero = data_full.query('rougher_input_total<= 0 or rougher_output_total<= 0 or final_output_total<=0')\n",
    "x = data_full_zero['date'].values"
   ]
  },
  {
   "cell_type": "code",
   "execution_count": 27,
   "metadata": {},
   "outputs": [],
   "source": [
    "# уберем выбросы из наших выборок\n",
    "data_train_features = data_train_features.query('date not in @x')\n",
    "data_test = data_test.query('date not in @x')"
   ]
  },
  {
   "cell_type": "code",
   "execution_count": 28,
   "metadata": {},
   "outputs": [],
   "source": [
    "# также убираем из обучающих таргетов\n",
    "target_rougher = target_rougher[data_train_features.index]\n",
    "target_final = target_final[data_train_features.index]"
   ]
  },
  {
   "cell_type": "markdown",
   "metadata": {},
   "source": [
    "Мы увидели как меняются количества металлов на разных стадиях, избавились от артефактов и также поняли что наши выборки годятся для дальнейшего построения моделей."
   ]
  },
  {
   "cell_type": "markdown",
   "metadata": {},
   "source": [
    "## Модель"
   ]
  },
  {
   "cell_type": "markdown",
   "metadata": {},
   "source": [
    "### Функция для расчета SMAPE"
   ]
  },
  {
   "cell_type": "code",
   "execution_count": 29,
   "metadata": {},
   "outputs": [],
   "source": [
    "# Пишем функцию для расчета SMAPE\n",
    "def smape(target, predict):\n",
    "    smape_a=0   \n",
    "    for i in range(len(target)):\n",
    "        smape_a += ((abs(target[i]-predict[i]))/((abs(target[i])+abs(predict[i]))/2))*100\n",
    "        smape = smape_a/len(target)\n",
    "    return smape\n",
    "        "
   ]
  },
  {
   "cell_type": "markdown",
   "metadata": {},
   "source": [
    "### Поиск и обучение моделей"
   ]
  },
  {
   "cell_type": "code",
   "execution_count": 30,
   "metadata": {},
   "outputs": [],
   "source": [
    "# сохраним колонки с датами в индексам на тестовой и обучающих выборках, тем самым сохраним уникальные индефикаторы\n",
    "#и уберем их из признаков модели\n",
    "data_train_features.set_index('date', inplace=True)\n",
    "data_test.set_index('date', inplace=True)"
   ]
  },
  {
   "cell_type": "code",
   "execution_count": 31,
   "metadata": {},
   "outputs": [
    {
     "name": "stdout",
     "output_type": "stream",
     "text": [
      "7.156682725930234\n",
      "9.715341946159933\n"
     ]
    },
    {
     "data": {
      "text/plain": [
       "9.075677141102508"
      ]
     },
     "execution_count": 31,
     "metadata": {},
     "output_type": "execute_result"
    }
   ],
   "source": [
    "# почитаем метрику с помощью константной модели, чтобы иметь стартовую позицию для понимания качества\n",
    "const_predict_r = pd.Series(target_rougher.median(), index=target_rougher.index)\n",
    "const_predict_f = pd.Series(target_final.median(), index=target_rougher.index)\n",
    "print(smape(target_rougher.values, const_predict_r.values))\n",
    "print(smape(target_final.values, const_predict_f.values))\n",
    "0.25*smape(target_rougher.values, const_predict_r.values)+0.75*smape(target_final.values, const_predict_f.values)"
   ]
  },
  {
   "cell_type": "code",
   "execution_count": 32,
   "metadata": {},
   "outputs": [],
   "source": [
    "# проведем маштабирование так как будет проверяться линейная регрессия\n",
    "scaler = StandardScaler()\n",
    "scaler.fit(data_train_features) \n",
    "data_train_features = scaler.transform(data_train_features)"
   ]
  },
  {
   "cell_type": "code",
   "execution_count": 61,
   "metadata": {},
   "outputs": [
    {
     "data": {
      "text/plain": [
       "(8.712319232662077, 3)"
      ]
     },
     "execution_count": 61,
     "metadata": {},
     "output_type": "execute_result"
    }
   ],
   "source": [
    "# проверяем модель дерева \n",
    "best_score = 10000000000000000000000000000000000\n",
    "best_depth = 0\n",
    "for depth in range(1, 8):\n",
    "    tree = DecisionTreeRegressor(random_state=100, max_depth=depth)\n",
    "    scores1 = cross_val_score(tree, data_train_features, target_rougher.values, cv=4, scoring = make_scorer(smape))\n",
    "    scores2 =cross_val_score(tree, data_train_features, target_final.values, cv=4, scoring = make_scorer(smape))\n",
    "    score_mean1 = scores1.mean()\n",
    "    score_mean2 = scores2.mean()\n",
    "    score_final = 0.25*score_mean1+0.75*score_mean2\n",
    "    if best_score > score_final:\n",
    "        best_score =  score_final\n",
    "        best_depth = depth\n",
    "        \n",
    "best_score, best_depth"
   ]
  },
  {
   "cell_type": "markdown",
   "metadata": {},
   "source": [
    "Дерево имеет приемлимый результат. Проверим линейную регрессию\n"
   ]
  },
  {
   "cell_type": "code",
   "execution_count": 62,
   "metadata": {},
   "outputs": [
    {
     "data": {
      "text/plain": [
       "9.780798820263172"
      ]
     },
     "execution_count": 62,
     "metadata": {},
     "output_type": "execute_result"
    }
   ],
   "source": [
    "linear = LinearRegression()\n",
    "scores1 = cross_val_score(linear, data_train_features, target_rougher.values, cv=4, scoring = make_scorer(smape))\n",
    "scores2 =cross_val_score(linear, data_train_features, target_final.values, cv=4, scoring = make_scorer(smape))\n",
    "score_mean1 = scores1.mean()\n",
    "score_mean2 = scores2.mean()\n",
    "score_final = 0.25*score_mean1+0.75*score_mean2\n",
    "score_final"
   ]
  },
  {
   "cell_type": "markdown",
   "metadata": {},
   "source": [
    "Линейная регрессия себя показала плохо. Проверим лес"
   ]
  },
  {
   "cell_type": "code",
   "execution_count": 64,
   "metadata": {},
   "outputs": [
    {
     "data": {
      "text/plain": [
       "(8.275438632827811, 3)"
      ]
     },
     "execution_count": 64,
     "metadata": {},
     "output_type": "execute_result"
    }
   ],
   "source": [
    "best_score = 10000000000000000000000000000000000\n",
    "best_depth = 0\n",
    "for depth in range(1,8):\n",
    "    forest = RandomForestRegressor(random_state=100, n_estimators=10, max_depth=depth)\n",
    "    scores1 = cross_val_score(forest, data_train_features, target_rougher.values, cv=4, scoring = make_scorer(smape))\n",
    "    scores2 =cross_val_score(forest, data_train_features, target_final.values, cv=4, scoring = make_scorer(smape))\n",
    "    score_mean1 = scores1.mean()\n",
    "    score_mean2 = scores2.mean()\n",
    "    score_final = 0.25*score_mean1+0.75*score_mean2\n",
    "    if best_score > score_final:\n",
    "        best_score =  score_final\n",
    "        best_depth = depth\n",
    "        \n",
    "best_score, best_depth "
   ]
  },
  {
   "cell_type": "code",
   "execution_count": 66,
   "metadata": {},
   "outputs": [
    {
     "data": {
      "text/plain": [
       "(8.275438632827811, 10)"
      ]
     },
     "execution_count": 66,
     "metadata": {},
     "output_type": "execute_result"
    }
   ],
   "source": [
    "best_score = 10000000000000000000000000000000000\n",
    "best_estimators = 0\n",
    "for estimators in range(10, 50, 10):\n",
    "    forest = RandomForestRegressor(random_state=100, n_estimators=estimators, max_depth=5)\n",
    "    scores1 = cross_val_score(forest, data_train_features, target_rougher.values, cv=4, scoring = make_scorer(smape))\n",
    "    scores2 =cross_val_score(forest, data_train_features, target_final.values, cv=4, scoring = make_scorer(smape))\n",
    "    score_mean1 = scores1.mean()\n",
    "    score_mean2 = scores2.mean()\n",
    "    score_final = 0.25*score_mean1+0.75*score_mean2\n",
    "    if best_score > score_final:\n",
    "        best_score =  score_final\n",
    "        best_estimators = estimators\n",
    "        \n",
    "best_score, best_estimators"
   ]
  },
  {
   "cell_type": "markdown",
   "metadata": {},
   "source": [
    "Лучшей моделью стала модель случайного леса с глубиной 5 и оценциками 30. Теперь протестируем данную модель на тестовой выборке."
   ]
  },
  {
   "cell_type": "code",
   "execution_count": 56,
   "metadata": {},
   "outputs": [],
   "source": [
    "#отберем таргет столбцы для тестовой выборки из всего дата сета\n",
    "z = np.array(data_test.index)\n",
    "target_rougher_test = data_full.query('date in @z')['rougher.output.recovery']\n",
    "target_final_test = data_full.query('date in @z')['final.output.recovery']"
   ]
  },
  {
   "cell_type": "code",
   "execution_count": 68,
   "metadata": {},
   "outputs": [
    {
     "data": {
      "text/plain": [
       "6.651775609352365"
      ]
     },
     "execution_count": 68,
     "metadata": {},
     "output_type": "execute_result"
    }
   ],
   "source": [
    "const_predict_r = pd.Series(target_rougher_test.median(), index=target_rougher_test.index)\n",
    "const_predict_f = pd.Series(target_final_test.median(), index=target_rougher_test.index)\n",
    "0.25*smape(target_rougher_test.values, const_predict_r.values)+0.75*smape(target_final_test.values, const_predict_f.values)"
   ]
  },
  {
   "cell_type": "code",
   "execution_count": 70,
   "metadata": {},
   "outputs": [
    {
     "data": {
      "text/plain": [
       "6.56641425489713"
      ]
     },
     "execution_count": 70,
     "metadata": {},
     "output_type": "execute_result"
    }
   ],
   "source": [
    "# протестируем модель\n",
    "model = RandomForestRegressor(random_state=100, n_estimators=30, max_depth=5)\n",
    "scores1 = cross_val_score(forest, data_test, target_rougher_test.values, cv=7, scoring = make_scorer(smape))\n",
    "scores2 =cross_val_score(forest, data_test, target_final_test.values, cv=7, scoring = make_scorer(smape))\n",
    "score_mean1 = scores1.mean()\n",
    "score_mean2 = scores2.mean()\n",
    "score_final = 0.25*score_mean1+0.75*score_mean2\n",
    "    \n",
    "score_final"
   ]
  },
  {
   "cell_type": "markdown",
   "metadata": {},
   "source": [
    "В данном случае пришлось увеличить количество кросс-валидационных блоков. Модель дала лучший результат, чем константная модель."
   ]
  },
  {
   "cell_type": "markdown",
   "metadata": {},
   "source": [
    "Мы проверили как меняется концентрация веществ на разных стадиях очистки. Металлы ведут себя по разному, но главное, что концентрация золота растет на протяжении всех этапов.\n",
    "Также была найдена модель позволяющая оценить процесс восстановления золота из золотосодержащей руды. В ходе данного проекта на роль лучшей модели предложена модель случайного леса."
   ]
  }
 ],
 "metadata": {
  "ExecuteTimeLog": [
   {
    "duration": 913,
    "start_time": "2022-03-12T08:24:10.999Z"
   },
   {
    "duration": 572,
    "start_time": "2022-03-12T08:24:26.745Z"
   },
   {
    "duration": 646,
    "start_time": "2022-03-12T08:26:11.994Z"
   },
   {
    "duration": 33,
    "start_time": "2022-03-12T08:27:11.553Z"
   },
   {
    "duration": 10,
    "start_time": "2022-03-12T08:39:43.932Z"
   },
   {
    "duration": 96,
    "start_time": "2022-03-12T08:40:34.023Z"
   },
   {
    "duration": 118,
    "start_time": "2022-03-12T08:40:51.270Z"
   },
   {
    "duration": 334,
    "start_time": "2022-03-12T08:40:55.183Z"
   },
   {
    "duration": 313,
    "start_time": "2022-03-12T08:41:00.751Z"
   },
   {
    "duration": 326,
    "start_time": "2022-03-12T08:41:30.446Z"
   },
   {
    "duration": 3,
    "start_time": "2022-03-12T08:41:44.935Z"
   },
   {
    "duration": 633,
    "start_time": "2022-03-12T08:41:45.503Z"
   },
   {
    "duration": 32,
    "start_time": "2022-03-12T08:41:46.583Z"
   },
   {
    "duration": 310,
    "start_time": "2022-03-12T08:42:50.729Z"
   },
   {
    "duration": 9,
    "start_time": "2022-03-12T08:43:58.681Z"
   },
   {
    "duration": 31,
    "start_time": "2022-03-12T08:45:19.455Z"
   },
   {
    "duration": 43,
    "start_time": "2022-03-12T08:45:46.318Z"
   },
   {
    "duration": 656,
    "start_time": "2022-03-12T09:22:28.081Z"
   },
   {
    "duration": 574,
    "start_time": "2022-03-12T09:25:08.602Z"
   },
   {
    "duration": 654,
    "start_time": "2022-03-12T09:25:26.858Z"
   },
   {
    "duration": 592,
    "start_time": "2022-03-12T09:25:45.066Z"
   },
   {
    "duration": 4,
    "start_time": "2022-03-12T09:25:51.798Z"
   },
   {
    "duration": 632,
    "start_time": "2022-03-12T09:25:51.804Z"
   },
   {
    "duration": 41,
    "start_time": "2022-03-12T09:25:52.438Z"
   },
   {
    "duration": 42,
    "start_time": "2022-03-12T09:25:52.481Z"
   },
   {
    "duration": 577,
    "start_time": "2022-03-12T09:25:52.525Z"
   },
   {
    "duration": 581,
    "start_time": "2022-03-12T09:25:52.523Z"
   },
   {
    "duration": 5,
    "start_time": "2022-03-12T09:27:54.379Z"
   },
   {
    "duration": 614,
    "start_time": "2022-03-12T09:27:59.369Z"
   },
   {
    "duration": 614,
    "start_time": "2022-03-12T09:28:34.697Z"
   },
   {
    "duration": 7,
    "start_time": "2022-03-12T09:31:43.440Z"
   },
   {
    "duration": 9,
    "start_time": "2022-03-12T09:31:59.345Z"
   },
   {
    "duration": 9,
    "start_time": "2022-03-12T09:36:33.592Z"
   },
   {
    "duration": 441,
    "start_time": "2022-03-12T09:36:49.864Z"
   },
   {
    "duration": 10,
    "start_time": "2022-03-12T09:37:07.280Z"
   },
   {
    "duration": 10,
    "start_time": "2022-03-12T09:37:35.531Z"
   },
   {
    "duration": 11,
    "start_time": "2022-03-12T09:38:12.192Z"
   },
   {
    "duration": 44,
    "start_time": "2022-03-12T09:38:55.241Z"
   },
   {
    "duration": 10,
    "start_time": "2022-03-12T09:40:11.457Z"
   },
   {
    "duration": 10,
    "start_time": "2022-03-12T09:40:29.728Z"
   },
   {
    "duration": 10,
    "start_time": "2022-03-12T09:40:47.752Z"
   },
   {
    "duration": 10,
    "start_time": "2022-03-12T09:41:18.832Z"
   },
   {
    "duration": 10,
    "start_time": "2022-03-12T09:44:06.360Z"
   },
   {
    "duration": 111,
    "start_time": "2022-03-12T09:55:18.461Z"
   },
   {
    "duration": 106,
    "start_time": "2022-03-12T09:55:26.903Z"
   },
   {
    "duration": 91,
    "start_time": "2022-03-12T09:55:31.031Z"
   },
   {
    "duration": 574,
    "start_time": "2022-03-12T09:55:39.782Z"
   },
   {
    "duration": 553,
    "start_time": "2022-03-12T09:58:36.376Z"
   },
   {
    "duration": 595,
    "start_time": "2022-03-12T10:00:26.205Z"
   },
   {
    "duration": 3,
    "start_time": "2022-03-12T10:03:24.141Z"
   },
   {
    "duration": 5,
    "start_time": "2022-03-12T10:03:30.573Z"
   },
   {
    "duration": 567,
    "start_time": "2022-03-12T10:04:25.029Z"
   },
   {
    "duration": 4,
    "start_time": "2022-03-12T10:04:26.252Z"
   },
   {
    "duration": 5,
    "start_time": "2022-03-12T10:04:36.204Z"
   },
   {
    "duration": 4,
    "start_time": "2022-03-12T10:09:37.404Z"
   },
   {
    "duration": 590,
    "start_time": "2022-03-12T10:09:56.229Z"
   },
   {
    "duration": 5,
    "start_time": "2022-03-12T10:09:56.988Z"
   },
   {
    "duration": 655,
    "start_time": "2022-03-12T10:10:04.540Z"
   },
   {
    "duration": 5,
    "start_time": "2022-03-12T10:10:05.308Z"
   },
   {
    "duration": 4,
    "start_time": "2022-03-12T10:10:52.956Z"
   },
   {
    "duration": 5,
    "start_time": "2022-03-12T10:11:00.596Z"
   },
   {
    "duration": 4,
    "start_time": "2022-03-12T10:30:44.729Z"
   },
   {
    "duration": 293,
    "start_time": "2022-03-12T10:34:54.929Z"
   },
   {
    "duration": 3,
    "start_time": "2022-03-12T10:39:59.952Z"
   },
   {
    "duration": 4,
    "start_time": "2022-03-12T10:40:03.808Z"
   },
   {
    "duration": 6,
    "start_time": "2022-03-12T10:40:46.552Z"
   },
   {
    "duration": 328,
    "start_time": "2022-03-12T11:01:17.062Z"
   },
   {
    "duration": 4,
    "start_time": "2022-03-12T11:01:23.885Z"
   },
   {
    "duration": 323,
    "start_time": "2022-03-12T11:01:35.542Z"
   },
   {
    "duration": 304,
    "start_time": "2022-03-12T11:02:16.893Z"
   },
   {
    "duration": 3,
    "start_time": "2022-03-12T11:02:37.591Z"
   },
   {
    "duration": 679,
    "start_time": "2022-03-12T11:02:37.596Z"
   },
   {
    "duration": 55,
    "start_time": "2022-03-12T11:02:38.277Z"
   },
   {
    "duration": 91,
    "start_time": "2022-03-12T11:02:38.334Z"
   },
   {
    "duration": 11,
    "start_time": "2022-03-12T11:02:38.426Z"
   },
   {
    "duration": 625,
    "start_time": "2022-03-12T11:02:38.438Z"
   },
   {
    "duration": 5,
    "start_time": "2022-03-12T11:02:39.064Z"
   },
   {
    "duration": 5,
    "start_time": "2022-03-12T11:02:39.071Z"
   },
   {
    "duration": 5,
    "start_time": "2022-03-12T11:02:39.077Z"
   },
   {
    "duration": 3,
    "start_time": "2022-03-12T11:09:03.635Z"
   },
   {
    "duration": 5,
    "start_time": "2022-03-12T11:10:37.060Z"
   },
   {
    "duration": 13,
    "start_time": "2022-03-12T11:10:46.956Z"
   },
   {
    "duration": 6,
    "start_time": "2022-03-12T11:11:06.652Z"
   },
   {
    "duration": 7,
    "start_time": "2022-03-12T11:15:03.117Z"
   },
   {
    "duration": 6,
    "start_time": "2022-03-12T11:15:34.997Z"
   },
   {
    "duration": 4,
    "start_time": "2022-03-12T11:15:56.356Z"
   },
   {
    "duration": 6,
    "start_time": "2022-03-12T11:16:35.996Z"
   },
   {
    "duration": 8201,
    "start_time": "2022-03-12T11:19:50.348Z"
   },
   {
    "duration": 582,
    "start_time": "2022-03-12T11:20:24.868Z"
   },
   {
    "duration": 8,
    "start_time": "2022-03-12T11:20:30.235Z"
   },
   {
    "duration": 7391,
    "start_time": "2022-03-12T11:22:47.450Z"
   },
   {
    "duration": 7,
    "start_time": "2022-03-12T11:23:04.638Z"
   },
   {
    "duration": 9,
    "start_time": "2022-03-12T11:23:17.219Z"
   },
   {
    "duration": 6,
    "start_time": "2022-03-12T11:25:01.819Z"
   },
   {
    "duration": 27,
    "start_time": "2022-03-12T11:25:07.347Z"
   },
   {
    "duration": 8,
    "start_time": "2022-03-12T11:28:01.900Z"
   },
   {
    "duration": 6,
    "start_time": "2022-03-12T11:28:06.499Z"
   },
   {
    "duration": 6,
    "start_time": "2022-03-12T11:28:17.234Z"
   },
   {
    "duration": 297,
    "start_time": "2022-03-12T11:29:24.058Z"
   },
   {
    "duration": 5,
    "start_time": "2022-03-12T11:29:28.802Z"
   },
   {
    "duration": 3,
    "start_time": "2022-03-12T17:49:45.010Z"
   },
   {
    "duration": 202,
    "start_time": "2022-03-12T17:54:48.863Z"
   },
   {
    "duration": 1171,
    "start_time": "2022-03-12T17:54:52.824Z"
   },
   {
    "duration": 654,
    "start_time": "2022-03-12T17:54:53.997Z"
   },
   {
    "duration": 49,
    "start_time": "2022-03-12T17:54:54.653Z"
   },
   {
    "duration": 56,
    "start_time": "2022-03-12T17:54:54.704Z"
   },
   {
    "duration": 12,
    "start_time": "2022-03-12T17:54:54.762Z"
   },
   {
    "duration": 674,
    "start_time": "2022-03-12T17:54:54.775Z"
   },
   {
    "duration": 5,
    "start_time": "2022-03-12T17:54:55.451Z"
   },
   {
    "duration": 7,
    "start_time": "2022-03-12T17:54:55.458Z"
   },
   {
    "duration": 7,
    "start_time": "2022-03-12T17:54:55.466Z"
   },
   {
    "duration": 8,
    "start_time": "2022-03-12T17:54:55.474Z"
   },
   {
    "duration": 9,
    "start_time": "2022-03-12T17:54:55.483Z"
   },
   {
    "duration": 12,
    "start_time": "2022-03-12T17:54:55.493Z"
   },
   {
    "duration": 31,
    "start_time": "2022-03-12T17:54:55.507Z"
   },
   {
    "duration": 14,
    "start_time": "2022-03-12T17:54:55.540Z"
   },
   {
    "duration": 6,
    "start_time": "2022-03-12T17:54:55.555Z"
   },
   {
    "duration": 6,
    "start_time": "2022-03-12T17:54:55.563Z"
   },
   {
    "duration": 467,
    "start_time": "2022-03-12T17:54:55.570Z"
   },
   {
    "duration": 160,
    "start_time": "2022-03-12T17:56:39.775Z"
   },
   {
    "duration": 205,
    "start_time": "2022-03-12T17:57:18.398Z"
   },
   {
    "duration": 177,
    "start_time": "2022-03-12T17:57:27.742Z"
   },
   {
    "duration": 196,
    "start_time": "2022-03-12T17:57:33.757Z"
   },
   {
    "duration": 329,
    "start_time": "2022-03-12T17:57:54.534Z"
   },
   {
    "duration": 51,
    "start_time": "2022-03-12T17:58:27.574Z"
   },
   {
    "duration": 502,
    "start_time": "2022-03-12T17:59:28.165Z"
   },
   {
    "duration": 244,
    "start_time": "2022-03-12T17:59:37.437Z"
   },
   {
    "duration": 413,
    "start_time": "2022-03-12T18:00:14.437Z"
   },
   {
    "duration": 244,
    "start_time": "2022-03-12T18:01:43.581Z"
   },
   {
    "duration": 256,
    "start_time": "2022-03-12T18:05:15.525Z"
   },
   {
    "duration": 264,
    "start_time": "2022-03-12T18:05:52.917Z"
   },
   {
    "duration": 260,
    "start_time": "2022-03-12T18:06:49.422Z"
   },
   {
    "duration": 283,
    "start_time": "2022-03-12T18:07:16.839Z"
   },
   {
    "duration": 398,
    "start_time": "2022-03-12T18:08:37.072Z"
   },
   {
    "duration": 322,
    "start_time": "2022-03-12T18:08:56.728Z"
   },
   {
    "duration": 336,
    "start_time": "2022-03-12T18:09:17.600Z"
   },
   {
    "duration": 420,
    "start_time": "2022-03-12T18:11:06.961Z"
   },
   {
    "duration": 337,
    "start_time": "2022-03-12T18:12:06.258Z"
   },
   {
    "duration": 335,
    "start_time": "2022-03-12T18:12:11.625Z"
   },
   {
    "duration": 336,
    "start_time": "2022-03-12T18:12:19.497Z"
   },
   {
    "duration": 334,
    "start_time": "2022-03-12T18:12:23.521Z"
   },
   {
    "duration": 4343,
    "start_time": "2022-03-12T18:13:07.809Z"
   },
   {
    "duration": 4411,
    "start_time": "2022-03-12T18:13:49.186Z"
   },
   {
    "duration": 402,
    "start_time": "2022-03-12T18:17:31.459Z"
   },
   {
    "duration": 406,
    "start_time": "2022-03-12T18:17:56.226Z"
   },
   {
    "duration": 433,
    "start_time": "2022-03-12T18:24:32.706Z"
   },
   {
    "duration": 418,
    "start_time": "2022-03-12T18:24:55.467Z"
   },
   {
    "duration": 451,
    "start_time": "2022-03-12T18:25:29.620Z"
   },
   {
    "duration": 409,
    "start_time": "2022-03-12T18:25:53.075Z"
   },
   {
    "duration": 404,
    "start_time": "2022-03-12T18:26:18.491Z"
   },
   {
    "duration": 449,
    "start_time": "2022-03-12T18:26:35.034Z"
   },
   {
    "duration": 515,
    "start_time": "2022-03-12T18:26:43.906Z"
   },
   {
    "duration": 418,
    "start_time": "2022-03-12T18:27:02.210Z"
   },
   {
    "duration": 499,
    "start_time": "2022-03-12T18:27:43.099Z"
   },
   {
    "duration": 440,
    "start_time": "2022-03-12T18:28:03.251Z"
   },
   {
    "duration": 427,
    "start_time": "2022-03-12T18:28:25.411Z"
   },
   {
    "duration": 426,
    "start_time": "2022-03-12T18:28:33.371Z"
   },
   {
    "duration": 433,
    "start_time": "2022-03-12T18:28:52.858Z"
   },
   {
    "duration": 634,
    "start_time": "2022-03-12T18:30:18.634Z"
   },
   {
    "duration": 610,
    "start_time": "2022-03-12T18:33:22.355Z"
   },
   {
    "duration": 618,
    "start_time": "2022-03-12T18:33:28.522Z"
   },
   {
    "duration": 551,
    "start_time": "2022-03-12T18:33:44.074Z"
   },
   {
    "duration": 505,
    "start_time": "2022-03-12T18:34:34.442Z"
   },
   {
    "duration": 609,
    "start_time": "2022-03-12T18:38:26.987Z"
   },
   {
    "duration": 470,
    "start_time": "2022-03-12T18:44:16.886Z"
   },
   {
    "duration": 466,
    "start_time": "2022-03-12T18:44:37.230Z"
   },
   {
    "duration": 557,
    "start_time": "2022-03-12T18:44:44.756Z"
   },
   {
    "duration": 490,
    "start_time": "2022-03-12T18:45:08.127Z"
   },
   {
    "duration": 460,
    "start_time": "2022-03-12T18:49:22.624Z"
   },
   {
    "duration": 445,
    "start_time": "2022-03-12T18:49:56.672Z"
   },
   {
    "duration": 446,
    "start_time": "2022-03-12T18:50:20.417Z"
   },
   {
    "duration": 442,
    "start_time": "2022-03-12T18:51:27.368Z"
   },
   {
    "duration": 461,
    "start_time": "2022-03-12T18:51:56.049Z"
   },
   {
    "duration": 471,
    "start_time": "2022-03-12T18:52:02.665Z"
   },
   {
    "duration": 466,
    "start_time": "2022-03-12T18:53:40.833Z"
   },
   {
    "duration": 455,
    "start_time": "2022-03-12T18:54:05.857Z"
   },
   {
    "duration": 440,
    "start_time": "2022-03-12T18:54:23.697Z"
   },
   {
    "duration": 619,
    "start_time": "2022-03-12T18:54:41.650Z"
   },
   {
    "duration": 494,
    "start_time": "2022-03-12T18:54:57.521Z"
   },
   {
    "duration": 489,
    "start_time": "2022-03-12T19:00:18.761Z"
   },
   {
    "duration": 504,
    "start_time": "2022-03-12T19:00:31.746Z"
   },
   {
    "duration": 454,
    "start_time": "2022-03-12T19:00:47.082Z"
   },
   {
    "duration": 61,
    "start_time": "2022-03-12T19:01:03.626Z"
   },
   {
    "duration": 454,
    "start_time": "2022-03-12T19:01:09.882Z"
   },
   {
    "duration": 446,
    "start_time": "2022-03-12T19:01:19.826Z"
   },
   {
    "duration": 460,
    "start_time": "2022-03-12T19:01:31.218Z"
   },
   {
    "duration": 1241,
    "start_time": "2022-03-13T06:25:06.297Z"
   },
   {
    "duration": 773,
    "start_time": "2022-03-13T06:25:07.540Z"
   },
   {
    "duration": 73,
    "start_time": "2022-03-13T06:25:08.315Z"
   },
   {
    "duration": 39,
    "start_time": "2022-03-13T06:25:08.390Z"
   },
   {
    "duration": 14,
    "start_time": "2022-03-13T06:25:08.431Z"
   },
   {
    "duration": 706,
    "start_time": "2022-03-13T06:25:08.447Z"
   },
   {
    "duration": 5,
    "start_time": "2022-03-13T06:25:09.154Z"
   },
   {
    "duration": 16,
    "start_time": "2022-03-13T06:25:09.162Z"
   },
   {
    "duration": 12,
    "start_time": "2022-03-13T06:25:09.180Z"
   },
   {
    "duration": 10,
    "start_time": "2022-03-13T06:25:09.193Z"
   },
   {
    "duration": 17,
    "start_time": "2022-03-13T06:25:09.204Z"
   },
   {
    "duration": 12,
    "start_time": "2022-03-13T06:25:09.223Z"
   },
   {
    "duration": 12,
    "start_time": "2022-03-13T06:25:09.236Z"
   },
   {
    "duration": 12,
    "start_time": "2022-03-13T06:25:09.250Z"
   },
   {
    "duration": 17,
    "start_time": "2022-03-13T06:25:09.264Z"
   },
   {
    "duration": 12,
    "start_time": "2022-03-13T06:25:09.283Z"
   },
   {
    "duration": 529,
    "start_time": "2022-03-13T06:25:09.297Z"
   },
   {
    "duration": 552,
    "start_time": "2022-03-13T06:25:09.828Z"
   },
   {
    "duration": 535,
    "start_time": "2022-03-13T06:25:10.382Z"
   },
   {
    "duration": 63,
    "start_time": "2022-03-13T06:33:40.038Z"
   },
   {
    "duration": 198,
    "start_time": "2022-03-13T06:35:49.582Z"
   },
   {
    "duration": 289,
    "start_time": "2022-03-13T06:36:52.414Z"
   },
   {
    "duration": 594,
    "start_time": "2022-03-13T06:37:10.022Z"
   },
   {
    "duration": 488,
    "start_time": "2022-03-13T06:37:22.734Z"
   },
   {
    "duration": 202,
    "start_time": "2022-03-13T06:37:49.006Z"
   },
   {
    "duration": 288,
    "start_time": "2022-03-13T06:39:27.950Z"
   },
   {
    "duration": 237,
    "start_time": "2022-03-13T06:41:24.797Z"
   },
   {
    "duration": 242,
    "start_time": "2022-03-13T06:41:34.669Z"
   },
   {
    "duration": 117,
    "start_time": "2022-03-13T06:42:14.197Z"
   },
   {
    "duration": 226,
    "start_time": "2022-03-13T06:42:21.334Z"
   },
   {
    "duration": 239,
    "start_time": "2022-03-13T06:44:58.341Z"
   },
   {
    "duration": 35,
    "start_time": "2022-03-13T06:59:57.940Z"
   },
   {
    "duration": 6,
    "start_time": "2022-03-13T07:02:39.307Z"
   },
   {
    "duration": 35,
    "start_time": "2022-03-13T07:02:47.756Z"
   },
   {
    "duration": 8,
    "start_time": "2022-03-13T07:06:24.652Z"
   },
   {
    "duration": 39,
    "start_time": "2022-03-13T07:06:31.684Z"
   },
   {
    "duration": 7,
    "start_time": "2022-03-13T07:07:18.661Z"
   },
   {
    "duration": 350,
    "start_time": "2022-03-13T07:12:03.260Z"
   },
   {
    "duration": 382,
    "start_time": "2022-03-13T07:12:12.027Z"
   },
   {
    "duration": 336,
    "start_time": "2022-03-13T07:12:21.691Z"
   },
   {
    "duration": 300,
    "start_time": "2022-03-13T07:12:26.739Z"
   },
   {
    "duration": 375,
    "start_time": "2022-03-13T07:12:49.515Z"
   },
   {
    "duration": 258,
    "start_time": "2022-03-13T07:13:00.452Z"
   },
   {
    "duration": 274,
    "start_time": "2022-03-13T07:13:06.051Z"
   },
   {
    "duration": 289,
    "start_time": "2022-03-13T07:13:29.443Z"
   },
   {
    "duration": 631,
    "start_time": "2022-03-13T07:13:55.443Z"
   },
   {
    "duration": 424,
    "start_time": "2022-03-13T07:14:08.443Z"
   },
   {
    "duration": 418,
    "start_time": "2022-03-13T07:14:31.403Z"
   },
   {
    "duration": 360,
    "start_time": "2022-03-13T07:18:07.275Z"
   },
   {
    "duration": 346,
    "start_time": "2022-03-13T07:21:15.235Z"
   },
   {
    "duration": 355,
    "start_time": "2022-03-13T07:21:28.114Z"
   },
   {
    "duration": 346,
    "start_time": "2022-03-13T07:22:21.467Z"
   },
   {
    "duration": 164,
    "start_time": "2022-03-13T07:22:34.002Z"
   },
   {
    "duration": 4,
    "start_time": "2022-03-13T07:22:41.181Z"
   },
   {
    "duration": 764,
    "start_time": "2022-03-13T07:22:41.187Z"
   },
   {
    "duration": 63,
    "start_time": "2022-03-13T07:22:41.953Z"
   },
   {
    "duration": 37,
    "start_time": "2022-03-13T07:22:42.018Z"
   },
   {
    "duration": 12,
    "start_time": "2022-03-13T07:22:42.077Z"
   },
   {
    "duration": 677,
    "start_time": "2022-03-13T07:22:42.091Z"
   },
   {
    "duration": 4,
    "start_time": "2022-03-13T07:22:42.770Z"
   },
   {
    "duration": 22,
    "start_time": "2022-03-13T07:22:42.777Z"
   },
   {
    "duration": 13,
    "start_time": "2022-03-13T07:22:42.801Z"
   },
   {
    "duration": 11,
    "start_time": "2022-03-13T07:22:42.817Z"
   },
   {
    "duration": 17,
    "start_time": "2022-03-13T07:22:42.830Z"
   },
   {
    "duration": 15,
    "start_time": "2022-03-13T07:22:42.849Z"
   },
   {
    "duration": 9,
    "start_time": "2022-03-13T07:22:42.866Z"
   },
   {
    "duration": 24,
    "start_time": "2022-03-13T07:22:42.877Z"
   },
   {
    "duration": 20,
    "start_time": "2022-03-13T07:22:42.903Z"
   },
   {
    "duration": 10,
    "start_time": "2022-03-13T07:22:42.924Z"
   },
   {
    "duration": 656,
    "start_time": "2022-03-13T07:22:42.936Z"
   },
   {
    "duration": 557,
    "start_time": "2022-03-13T07:22:43.594Z"
   },
   {
    "duration": 571,
    "start_time": "2022-03-13T07:22:44.153Z"
   },
   {
    "duration": 239,
    "start_time": "2022-03-13T07:22:44.726Z"
   },
   {
    "duration": 267,
    "start_time": "2022-03-13T07:22:44.967Z"
   },
   {
    "duration": 9,
    "start_time": "2022-03-13T07:22:45.236Z"
   },
   {
    "duration": 191,
    "start_time": "2022-03-13T07:22:45.247Z"
   },
   {
    "duration": 169,
    "start_time": "2022-03-13T07:23:10.035Z"
   },
   {
    "duration": 488,
    "start_time": "2022-03-13T07:23:22.826Z"
   },
   {
    "duration": 173,
    "start_time": "2022-03-13T07:23:44.266Z"
   },
   {
    "duration": 487,
    "start_time": "2022-03-13T07:23:59.834Z"
   },
   {
    "duration": 172,
    "start_time": "2022-03-13T07:24:07.194Z"
   },
   {
    "duration": 378,
    "start_time": "2022-03-13T07:26:46.067Z"
   },
   {
    "duration": 352,
    "start_time": "2022-03-13T07:27:05.162Z"
   },
   {
    "duration": 408,
    "start_time": "2022-03-13T07:27:25.586Z"
   },
   {
    "duration": 432,
    "start_time": "2022-03-13T07:28:09.970Z"
   },
   {
    "duration": 366,
    "start_time": "2022-03-13T07:28:18.298Z"
   },
   {
    "duration": 287,
    "start_time": "2022-03-13T07:28:28.121Z"
   },
   {
    "duration": 507,
    "start_time": "2022-03-13T07:28:36.138Z"
   },
   {
    "duration": 342,
    "start_time": "2022-03-13T07:28:43.602Z"
   },
   {
    "duration": 357,
    "start_time": "2022-03-13T07:31:13.267Z"
   },
   {
    "duration": 350,
    "start_time": "2022-03-13T07:32:46.474Z"
   },
   {
    "duration": 356,
    "start_time": "2022-03-13T07:36:00.235Z"
   },
   {
    "duration": 316,
    "start_time": "2022-03-13T07:39:22.882Z"
   },
   {
    "duration": 274,
    "start_time": "2022-03-13T07:41:42.884Z"
   },
   {
    "duration": 300,
    "start_time": "2022-03-13T07:43:29.203Z"
   },
   {
    "duration": 8,
    "start_time": "2022-03-13T07:45:11.818Z"
   },
   {
    "duration": 348,
    "start_time": "2022-03-13T07:45:39.402Z"
   },
   {
    "duration": 26,
    "start_time": "2022-03-13T07:45:58.435Z"
   },
   {
    "duration": 35,
    "start_time": "2022-03-13T07:46:04.625Z"
   },
   {
    "duration": 27,
    "start_time": "2022-03-13T07:49:52.633Z"
   },
   {
    "duration": 282,
    "start_time": "2022-03-13T07:51:03.786Z"
   },
   {
    "duration": 296,
    "start_time": "2022-03-13T07:51:11.179Z"
   },
   {
    "duration": 16,
    "start_time": "2022-03-13T07:53:02.026Z"
   },
   {
    "duration": 42,
    "start_time": "2022-03-13T07:53:15.153Z"
   },
   {
    "duration": 41,
    "start_time": "2022-03-13T07:53:41.512Z"
   },
   {
    "duration": 289,
    "start_time": "2022-03-13T07:54:03.506Z"
   },
   {
    "duration": 294,
    "start_time": "2022-03-13T07:56:10.913Z"
   },
   {
    "duration": 17,
    "start_time": "2022-03-13T07:56:21.386Z"
   },
   {
    "duration": 16,
    "start_time": "2022-03-13T07:56:29.673Z"
   },
   {
    "duration": 283,
    "start_time": "2022-03-13T07:56:46.106Z"
   },
   {
    "duration": 11,
    "start_time": "2022-03-13T07:56:49.569Z"
   },
   {
    "duration": 273,
    "start_time": "2022-03-13T07:56:51.185Z"
   },
   {
    "duration": 4,
    "start_time": "2022-03-13T07:57:24.625Z"
   },
   {
    "duration": 333,
    "start_time": "2022-03-13T07:57:39.969Z"
   },
   {
    "duration": 280,
    "start_time": "2022-03-13T07:58:19.625Z"
   },
   {
    "duration": 295,
    "start_time": "2022-03-13T07:58:57.945Z"
   },
   {
    "duration": 32,
    "start_time": "2022-03-13T08:00:06.553Z"
   },
   {
    "duration": 4,
    "start_time": "2022-03-13T08:01:06.036Z"
   },
   {
    "duration": 782,
    "start_time": "2022-03-13T08:01:06.042Z"
   },
   {
    "duration": 72,
    "start_time": "2022-03-13T08:01:06.826Z"
   },
   {
    "duration": 37,
    "start_time": "2022-03-13T08:01:06.900Z"
   },
   {
    "duration": 12,
    "start_time": "2022-03-13T08:01:06.939Z"
   },
   {
    "duration": 711,
    "start_time": "2022-03-13T08:01:06.952Z"
   },
   {
    "duration": 6,
    "start_time": "2022-03-13T08:01:07.664Z"
   },
   {
    "duration": 5,
    "start_time": "2022-03-13T08:01:07.677Z"
   },
   {
    "duration": 18,
    "start_time": "2022-03-13T08:01:07.685Z"
   },
   {
    "duration": 14,
    "start_time": "2022-03-13T08:01:07.705Z"
   },
   {
    "duration": 20,
    "start_time": "2022-03-13T08:01:07.721Z"
   },
   {
    "duration": 8,
    "start_time": "2022-03-13T08:01:07.743Z"
   },
   {
    "duration": 12,
    "start_time": "2022-03-13T08:01:07.753Z"
   },
   {
    "duration": 15,
    "start_time": "2022-03-13T08:01:07.767Z"
   },
   {
    "duration": 10,
    "start_time": "2022-03-13T08:01:07.784Z"
   },
   {
    "duration": 567,
    "start_time": "2022-03-13T08:01:07.796Z"
   },
   {
    "duration": 552,
    "start_time": "2022-03-13T08:01:08.365Z"
   },
   {
    "duration": 584,
    "start_time": "2022-03-13T08:01:08.919Z"
   },
   {
    "duration": 243,
    "start_time": "2022-03-13T08:01:09.505Z"
   },
   {
    "duration": 262,
    "start_time": "2022-03-13T08:01:09.750Z"
   },
   {
    "duration": 9,
    "start_time": "2022-03-13T08:01:10.014Z"
   },
   {
    "duration": 367,
    "start_time": "2022-03-13T08:01:10.025Z"
   },
   {
    "duration": 342,
    "start_time": "2022-03-13T08:01:10.394Z"
   },
   {
    "duration": 365,
    "start_time": "2022-03-13T08:01:10.738Z"
   },
   {
    "duration": 208,
    "start_time": "2022-03-13T08:01:11.105Z"
   },
   {
    "duration": 297,
    "start_time": "2022-03-13T08:01:11.315Z"
   },
   {
    "duration": 970,
    "start_time": "2022-03-13T08:01:10.645Z"
   },
   {
    "duration": 11,
    "start_time": "2022-03-13T08:01:56.962Z"
   },
   {
    "duration": 346,
    "start_time": "2022-03-13T08:01:59.826Z"
   },
   {
    "duration": 9,
    "start_time": "2022-03-13T08:02:04.337Z"
   },
   {
    "duration": 300,
    "start_time": "2022-03-13T08:02:05.698Z"
   },
   {
    "duration": 34,
    "start_time": "2022-03-13T08:02:13.953Z"
   },
   {
    "duration": 28,
    "start_time": "2022-03-13T08:02:39.354Z"
   },
   {
    "duration": 31,
    "start_time": "2022-03-13T08:02:44.937Z"
   },
   {
    "duration": 15,
    "start_time": "2022-03-13T08:03:26.905Z"
   },
   {
    "duration": 38,
    "start_time": "2022-03-13T08:03:45.785Z"
   },
   {
    "duration": 31,
    "start_time": "2022-03-13T08:03:57.241Z"
   },
   {
    "duration": 16,
    "start_time": "2022-03-13T08:04:14.585Z"
   },
   {
    "duration": 38,
    "start_time": "2022-03-13T08:05:07.049Z"
   },
   {
    "duration": 10,
    "start_time": "2022-03-13T08:05:18.488Z"
   },
   {
    "duration": 15,
    "start_time": "2022-03-13T08:05:40.648Z"
   },
   {
    "duration": 6,
    "start_time": "2022-03-13T08:07:26.416Z"
   },
   {
    "duration": 268,
    "start_time": "2022-03-13T08:07:41.207Z"
   },
   {
    "duration": 4,
    "start_time": "2022-03-13T08:09:03.234Z"
   },
   {
    "duration": 745,
    "start_time": "2022-03-13T08:09:03.240Z"
   },
   {
    "duration": 62,
    "start_time": "2022-03-13T08:09:03.987Z"
   },
   {
    "duration": 55,
    "start_time": "2022-03-13T08:09:04.051Z"
   },
   {
    "duration": 12,
    "start_time": "2022-03-13T08:09:04.108Z"
   },
   {
    "duration": 690,
    "start_time": "2022-03-13T08:09:04.122Z"
   },
   {
    "duration": 5,
    "start_time": "2022-03-13T08:09:04.814Z"
   },
   {
    "duration": 5,
    "start_time": "2022-03-13T08:09:04.822Z"
   },
   {
    "duration": 6,
    "start_time": "2022-03-13T08:09:04.830Z"
   },
   {
    "duration": 12,
    "start_time": "2022-03-13T08:09:04.838Z"
   },
   {
    "duration": 29,
    "start_time": "2022-03-13T08:09:04.852Z"
   },
   {
    "duration": 8,
    "start_time": "2022-03-13T08:09:04.883Z"
   },
   {
    "duration": 29,
    "start_time": "2022-03-13T08:09:04.892Z"
   },
   {
    "duration": 7,
    "start_time": "2022-03-13T08:09:04.923Z"
   },
   {
    "duration": 6,
    "start_time": "2022-03-13T08:09:04.932Z"
   },
   {
    "duration": 548,
    "start_time": "2022-03-13T08:09:04.940Z"
   },
   {
    "duration": 578,
    "start_time": "2022-03-13T08:09:05.490Z"
   },
   {
    "duration": 570,
    "start_time": "2022-03-13T08:09:06.070Z"
   },
   {
    "duration": 247,
    "start_time": "2022-03-13T08:09:06.642Z"
   },
   {
    "duration": 264,
    "start_time": "2022-03-13T08:09:06.891Z"
   },
   {
    "duration": 7,
    "start_time": "2022-03-13T08:09:07.157Z"
   },
   {
    "duration": 345,
    "start_time": "2022-03-13T08:09:07.177Z"
   },
   {
    "duration": 353,
    "start_time": "2022-03-13T08:09:07.526Z"
   },
   {
    "duration": 362,
    "start_time": "2022-03-13T08:09:07.881Z"
   },
   {
    "duration": 19,
    "start_time": "2022-03-13T08:09:08.244Z"
   },
   {
    "duration": 26,
    "start_time": "2022-03-13T08:09:08.264Z"
   },
   {
    "duration": 5,
    "start_time": "2022-03-13T08:09:08.291Z"
   },
   {
    "duration": 4,
    "start_time": "2022-03-13T08:29:43.221Z"
   },
   {
    "duration": 1711,
    "start_time": "2022-03-13T15:40:38.296Z"
   },
   {
    "duration": 917,
    "start_time": "2022-03-13T15:40:40.011Z"
   },
   {
    "duration": 116,
    "start_time": "2022-03-13T15:40:40.934Z"
   },
   {
    "duration": 85,
    "start_time": "2022-03-13T15:40:41.053Z"
   },
   {
    "duration": 18,
    "start_time": "2022-03-13T15:40:41.141Z"
   },
   {
    "duration": 1154,
    "start_time": "2022-03-13T15:40:41.161Z"
   },
   {
    "duration": 15,
    "start_time": "2022-03-13T15:40:42.317Z"
   },
   {
    "duration": 9,
    "start_time": "2022-03-13T15:40:42.337Z"
   },
   {
    "duration": 7,
    "start_time": "2022-03-13T15:40:42.350Z"
   },
   {
    "duration": 17,
    "start_time": "2022-03-13T15:40:42.360Z"
   },
   {
    "duration": 52,
    "start_time": "2022-03-13T15:40:42.380Z"
   },
   {
    "duration": 12,
    "start_time": "2022-03-13T15:40:42.435Z"
   },
   {
    "duration": 14,
    "start_time": "2022-03-13T15:40:42.450Z"
   },
   {
    "duration": 10,
    "start_time": "2022-03-13T15:40:42.466Z"
   },
   {
    "duration": 18,
    "start_time": "2022-03-13T15:40:42.479Z"
   },
   {
    "duration": 837,
    "start_time": "2022-03-13T15:40:42.499Z"
   },
   {
    "duration": 1140,
    "start_time": "2022-03-13T15:40:43.339Z"
   },
   {
    "duration": 862,
    "start_time": "2022-03-13T15:40:44.482Z"
   },
   {
    "duration": 351,
    "start_time": "2022-03-13T15:40:45.347Z"
   },
   {
    "duration": 622,
    "start_time": "2022-03-13T15:40:45.701Z"
   },
   {
    "duration": 20,
    "start_time": "2022-03-13T15:40:46.326Z"
   },
   {
    "duration": 524,
    "start_time": "2022-03-13T15:40:46.348Z"
   },
   {
    "duration": 509,
    "start_time": "2022-03-13T15:40:46.879Z"
   },
   {
    "duration": 543,
    "start_time": "2022-03-13T15:40:47.392Z"
   },
   {
    "duration": 36,
    "start_time": "2022-03-13T15:40:47.938Z"
   },
   {
    "duration": 34,
    "start_time": "2022-03-13T15:40:47.977Z"
   },
   {
    "duration": 8,
    "start_time": "2022-03-13T15:40:48.034Z"
   },
   {
    "duration": 17,
    "start_time": "2022-03-13T15:40:48.045Z"
   },
   {
    "duration": 7,
    "start_time": "2022-03-13T15:48:20.374Z"
   },
   {
    "duration": 16,
    "start_time": "2022-03-13T15:56:41.247Z"
   },
   {
    "duration": 12,
    "start_time": "2022-03-13T15:56:51.916Z"
   },
   {
    "duration": 47,
    "start_time": "2022-03-13T15:57:08.653Z"
   },
   {
    "duration": 6,
    "start_time": "2022-03-13T15:57:27.513Z"
   },
   {
    "duration": 924,
    "start_time": "2022-03-13T15:57:27.523Z"
   },
   {
    "duration": 119,
    "start_time": "2022-03-13T15:57:28.450Z"
   },
   {
    "duration": 75,
    "start_time": "2022-03-13T15:57:28.573Z"
   },
   {
    "duration": 19,
    "start_time": "2022-03-13T15:57:28.651Z"
   },
   {
    "duration": 1141,
    "start_time": "2022-03-13T15:57:28.673Z"
   },
   {
    "duration": 18,
    "start_time": "2022-03-13T15:57:29.816Z"
   },
   {
    "duration": 12,
    "start_time": "2022-03-13T15:57:29.836Z"
   },
   {
    "duration": 8,
    "start_time": "2022-03-13T15:57:29.853Z"
   },
   {
    "duration": 14,
    "start_time": "2022-03-13T15:57:29.864Z"
   },
   {
    "duration": 19,
    "start_time": "2022-03-13T15:57:29.881Z"
   },
   {
    "duration": 48,
    "start_time": "2022-03-13T15:57:29.903Z"
   },
   {
    "duration": 49,
    "start_time": "2022-03-13T15:57:29.955Z"
   },
   {
    "duration": 37,
    "start_time": "2022-03-13T15:57:30.007Z"
   },
   {
    "duration": 29,
    "start_time": "2022-03-13T15:57:30.046Z"
   },
   {
    "duration": 10,
    "start_time": "2022-03-13T15:57:30.078Z"
   },
   {
    "duration": 841,
    "start_time": "2022-03-13T15:57:30.091Z"
   },
   {
    "duration": 868,
    "start_time": "2022-03-13T15:57:30.935Z"
   },
   {
    "duration": 856,
    "start_time": "2022-03-13T15:57:31.806Z"
   },
   {
    "duration": 371,
    "start_time": "2022-03-13T15:57:32.665Z"
   },
   {
    "duration": 387,
    "start_time": "2022-03-13T15:57:33.040Z"
   },
   {
    "duration": 18,
    "start_time": "2022-03-13T15:57:33.436Z"
   },
   {
    "duration": 556,
    "start_time": "2022-03-13T15:57:33.457Z"
   },
   {
    "duration": 623,
    "start_time": "2022-03-13T15:57:34.017Z"
   },
   {
    "duration": 543,
    "start_time": "2022-03-13T15:57:34.643Z"
   },
   {
    "duration": 26,
    "start_time": "2022-03-13T15:57:35.188Z"
   },
   {
    "duration": 22,
    "start_time": "2022-03-13T15:57:35.235Z"
   },
   {
    "duration": 6,
    "start_time": "2022-03-13T15:57:35.261Z"
   },
   {
    "duration": 10,
    "start_time": "2022-03-13T15:57:35.270Z"
   },
   {
    "duration": 110,
    "start_time": "2022-03-13T15:57:35.283Z"
   },
   {
    "duration": 18,
    "start_time": "2022-03-13T15:59:02.883Z"
   },
   {
    "duration": 6,
    "start_time": "2022-03-13T15:59:07.785Z"
   },
   {
    "duration": 1292,
    "start_time": "2022-03-13T15:59:07.794Z"
   },
   {
    "duration": 130,
    "start_time": "2022-03-13T15:59:09.090Z"
   },
   {
    "duration": 111,
    "start_time": "2022-03-13T15:59:09.234Z"
   },
   {
    "duration": 24,
    "start_time": "2022-03-13T15:59:09.348Z"
   },
   {
    "duration": 1787,
    "start_time": "2022-03-13T15:59:09.375Z"
   },
   {
    "duration": 9,
    "start_time": "2022-03-13T15:59:11.164Z"
   },
   {
    "duration": 10,
    "start_time": "2022-03-13T15:59:11.176Z"
   },
   {
    "duration": 4,
    "start_time": "2022-03-13T15:59:11.190Z"
   },
   {
    "duration": 14,
    "start_time": "2022-03-13T15:59:11.237Z"
   },
   {
    "duration": 18,
    "start_time": "2022-03-13T15:59:11.254Z"
   },
   {
    "duration": 14,
    "start_time": "2022-03-13T15:59:11.275Z"
   },
   {
    "duration": 50,
    "start_time": "2022-03-13T15:59:11.292Z"
   },
   {
    "duration": 13,
    "start_time": "2022-03-13T15:59:11.345Z"
   },
   {
    "duration": 14,
    "start_time": "2022-03-13T15:59:11.361Z"
   },
   {
    "duration": 10,
    "start_time": "2022-03-13T15:59:11.378Z"
   },
   {
    "duration": 1250,
    "start_time": "2022-03-13T15:59:11.391Z"
   },
   {
    "duration": 818,
    "start_time": "2022-03-13T15:59:12.644Z"
   },
   {
    "duration": 927,
    "start_time": "2022-03-13T15:59:13.465Z"
   },
   {
    "duration": 346,
    "start_time": "2022-03-13T15:59:14.395Z"
   },
   {
    "duration": 384,
    "start_time": "2022-03-13T15:59:14.745Z"
   },
   {
    "duration": 17,
    "start_time": "2022-03-13T15:59:15.134Z"
   },
   {
    "duration": 527,
    "start_time": "2022-03-13T15:59:15.155Z"
   },
   {
    "duration": 521,
    "start_time": "2022-03-13T15:59:15.685Z"
   },
   {
    "duration": 544,
    "start_time": "2022-03-13T15:59:16.209Z"
   },
   {
    "duration": 146,
    "start_time": "2022-03-13T15:59:16.755Z"
   },
   {
    "duration": 39,
    "start_time": "2022-03-13T15:59:16.906Z"
   },
   {
    "duration": 7,
    "start_time": "2022-03-13T15:59:16.948Z"
   },
   {
    "duration": 5,
    "start_time": "2022-03-13T15:59:16.957Z"
   },
   {
    "duration": 8,
    "start_time": "2022-03-13T15:59:16.965Z"
   },
   {
    "duration": 123,
    "start_time": "2022-03-13T15:59:16.976Z"
   },
   {
    "duration": 19,
    "start_time": "2022-03-13T16:05:08.139Z"
   },
   {
    "duration": 5852,
    "start_time": "2022-03-13T16:05:13.605Z"
   },
   {
    "duration": 51,
    "start_time": "2022-03-13T16:05:59.005Z"
   },
   {
    "duration": 88,
    "start_time": "2022-03-13T16:07:02.308Z"
   },
   {
    "duration": 6,
    "start_time": "2022-03-13T16:17:45.418Z"
   },
   {
    "duration": 168,
    "start_time": "2022-03-13T16:17:48.155Z"
   },
   {
    "duration": 752,
    "start_time": "2022-03-13T16:20:06.755Z"
   },
   {
    "duration": 5,
    "start_time": "2022-03-13T16:20:16.874Z"
   },
   {
    "duration": 5,
    "start_time": "2022-03-13T16:23:02.162Z"
   },
   {
    "duration": 18,
    "start_time": "2022-03-13T16:24:04.826Z"
   },
   {
    "duration": 20,
    "start_time": "2022-03-13T16:24:53.313Z"
   },
   {
    "duration": 3928,
    "start_time": "2022-03-13T16:31:43.568Z"
   },
   {
    "duration": 4653,
    "start_time": "2022-03-13T16:32:10.432Z"
   },
   {
    "duration": 4365,
    "start_time": "2022-03-13T16:32:20.293Z"
   },
   {
    "duration": 124,
    "start_time": "2022-03-13T16:34:20.954Z"
   },
   {
    "duration": 375,
    "start_time": "2022-03-13T16:34:26.688Z"
   },
   {
    "duration": 350,
    "start_time": "2022-03-13T16:34:53.567Z"
   },
   {
    "duration": 124,
    "start_time": "2022-03-13T16:40:36.471Z"
   },
   {
    "duration": 7,
    "start_time": "2022-03-13T16:40:41.849Z"
   },
   {
    "duration": 7286,
    "start_time": "2022-03-13T16:40:46.791Z"
   },
   {
    "duration": 7275,
    "start_time": "2022-03-13T16:41:06.408Z"
   },
   {
    "duration": 3942,
    "start_time": "2022-03-13T16:47:15.328Z"
   },
   {
    "duration": 4081,
    "start_time": "2022-03-13T16:47:23.079Z"
   },
   {
    "duration": 6851,
    "start_time": "2022-03-13T16:47:45.374Z"
   },
   {
    "duration": 3863,
    "start_time": "2022-03-13T16:51:37.119Z"
   },
   {
    "duration": 4007,
    "start_time": "2022-03-13T16:51:45.821Z"
   },
   {
    "duration": 3932,
    "start_time": "2022-03-13T16:51:58.701Z"
   },
   {
    "duration": 4192,
    "start_time": "2022-03-13T16:52:29.261Z"
   },
   {
    "duration": 3850,
    "start_time": "2022-03-13T16:52:51.773Z"
   },
   {
    "duration": 3890,
    "start_time": "2022-03-13T16:55:47.927Z"
   },
   {
    "duration": 350,
    "start_time": "2022-03-13T17:11:37.348Z"
   },
   {
    "duration": 345,
    "start_time": "2022-03-13T17:11:50.459Z"
   },
   {
    "duration": 2535,
    "start_time": "2022-03-13T17:12:00.915Z"
   },
   {
    "duration": 2543,
    "start_time": "2022-03-13T17:12:20.070Z"
   },
   {
    "duration": 324,
    "start_time": "2022-03-13T17:13:41.579Z"
   },
   {
    "duration": 25816,
    "start_time": "2022-03-13T17:13:52.275Z"
   },
   {
    "duration": 26176,
    "start_time": "2022-03-13T17:14:42.658Z"
   },
   {
    "duration": 26331,
    "start_time": "2022-03-13T17:15:22.019Z"
   },
   {
    "duration": 2877,
    "start_time": "2022-03-13T17:17:42.898Z"
   },
   {
    "duration": 1100,
    "start_time": "2022-03-13T17:27:43.556Z"
   },
   {
    "duration": 224666,
    "start_time": "2022-03-13T17:27:47.209Z"
   },
   {
    "duration": 104,
    "start_time": "2022-03-13T17:33:16.121Z"
   },
   {
    "duration": 173,
    "start_time": "2022-03-13T17:33:22.576Z"
   },
   {
    "duration": 32772,
    "start_time": "2022-03-13T17:35:36.496Z"
   },
   {
    "duration": 5056,
    "start_time": "2022-03-13T17:36:51.296Z"
   },
   {
    "duration": 3877,
    "start_time": "2022-03-13T17:38:38.768Z"
   },
   {
    "duration": 203363,
    "start_time": "2022-03-13T17:39:44.328Z"
   },
   {
    "duration": 32837,
    "start_time": "2022-03-13T17:43:23.240Z"
   },
   {
    "duration": 2234,
    "start_time": "2022-03-13T18:02:01.230Z"
   },
   {
    "duration": 11051,
    "start_time": "2022-03-13T18:02:03.467Z"
   },
   {
    "duration": 87,
    "start_time": "2022-03-13T18:02:14.521Z"
   },
   {
    "duration": 70,
    "start_time": "2022-03-13T18:02:14.611Z"
   },
   {
    "duration": 17,
    "start_time": "2022-03-13T18:02:14.683Z"
   },
   {
    "duration": 1318,
    "start_time": "2022-03-13T18:02:14.703Z"
   },
   {
    "duration": 11,
    "start_time": "2022-03-13T18:02:16.023Z"
   },
   {
    "duration": 26,
    "start_time": "2022-03-13T18:02:16.037Z"
   },
   {
    "duration": 4,
    "start_time": "2022-03-13T18:02:16.067Z"
   },
   {
    "duration": 11,
    "start_time": "2022-03-13T18:02:16.075Z"
   },
   {
    "duration": 45,
    "start_time": "2022-03-13T18:02:16.089Z"
   },
   {
    "duration": 10,
    "start_time": "2022-03-13T18:02:16.137Z"
   },
   {
    "duration": 14,
    "start_time": "2022-03-13T18:02:16.150Z"
   },
   {
    "duration": 10,
    "start_time": "2022-03-13T18:02:16.167Z"
   },
   {
    "duration": 12,
    "start_time": "2022-03-13T18:02:16.180Z"
   },
   {
    "duration": 44,
    "start_time": "2022-03-13T18:02:16.194Z"
   },
   {
    "duration": 912,
    "start_time": "2022-03-13T18:02:16.241Z"
   },
   {
    "duration": 817,
    "start_time": "2022-03-13T18:02:17.157Z"
   },
   {
    "duration": 918,
    "start_time": "2022-03-13T18:02:17.977Z"
   },
   {
    "duration": 426,
    "start_time": "2022-03-13T18:02:18.897Z"
   },
   {
    "duration": 596,
    "start_time": "2022-03-13T18:02:19.326Z"
   },
   {
    "duration": 20,
    "start_time": "2022-03-13T18:02:19.925Z"
   },
   {
    "duration": 684,
    "start_time": "2022-03-13T18:02:19.948Z"
   },
   {
    "duration": 514,
    "start_time": "2022-03-13T18:02:20.635Z"
   },
   {
    "duration": 558,
    "start_time": "2022-03-13T18:02:21.152Z"
   },
   {
    "duration": 40,
    "start_time": "2022-03-13T18:02:21.712Z"
   },
   {
    "duration": 22,
    "start_time": "2022-03-13T18:02:21.758Z"
   },
   {
    "duration": 9,
    "start_time": "2022-03-13T18:02:21.784Z"
   },
   {
    "duration": 39,
    "start_time": "2022-03-13T18:02:21.796Z"
   },
   {
    "duration": 8,
    "start_time": "2022-03-13T18:02:21.838Z"
   },
   {
    "duration": 197,
    "start_time": "2022-03-13T18:02:21.849Z"
   },
   {
    "duration": 25,
    "start_time": "2022-03-13T18:02:22.049Z"
   },
   {
    "duration": 34271,
    "start_time": "2022-03-13T18:02:22.077Z"
   },
   {
    "duration": 3098,
    "start_time": "2022-03-13T18:02:56.351Z"
   },
   {
    "duration": 929282,
    "start_time": "2022-03-13T18:02:59.451Z"
   },
   {
    "duration": 9,
    "start_time": "2022-03-13T18:18:44.674Z"
   },
   {
    "duration": 1075,
    "start_time": "2022-03-13T18:28:39.093Z"
   },
   {
    "duration": 1593,
    "start_time": "2022-03-13T18:28:47.573Z"
   },
   {
    "duration": 921,
    "start_time": "2022-03-13T18:28:49.168Z"
   },
   {
    "duration": 121,
    "start_time": "2022-03-13T18:28:50.092Z"
   },
   {
    "duration": 66,
    "start_time": "2022-03-13T18:28:50.216Z"
   },
   {
    "duration": 16,
    "start_time": "2022-03-13T18:28:50.285Z"
   },
   {
    "duration": 1116,
    "start_time": "2022-03-13T18:28:50.304Z"
   },
   {
    "duration": 12,
    "start_time": "2022-03-13T18:28:51.422Z"
   },
   {
    "duration": 6,
    "start_time": "2022-03-13T18:28:51.437Z"
   },
   {
    "duration": 3,
    "start_time": "2022-03-13T18:28:51.446Z"
   },
   {
    "duration": 11,
    "start_time": "2022-03-13T18:28:51.452Z"
   },
   {
    "duration": 14,
    "start_time": "2022-03-13T18:28:51.466Z"
   },
   {
    "duration": 55,
    "start_time": "2022-03-13T18:28:51.482Z"
   },
   {
    "duration": 13,
    "start_time": "2022-03-13T18:28:51.539Z"
   },
   {
    "duration": 7,
    "start_time": "2022-03-13T18:28:51.554Z"
   },
   {
    "duration": 10,
    "start_time": "2022-03-13T18:28:51.563Z"
   },
   {
    "duration": 7,
    "start_time": "2022-03-13T18:28:51.576Z"
   },
   {
    "duration": 763,
    "start_time": "2022-03-13T18:28:51.586Z"
   },
   {
    "duration": 809,
    "start_time": "2022-03-13T18:28:52.351Z"
   },
   {
    "duration": 805,
    "start_time": "2022-03-13T18:28:53.162Z"
   },
   {
    "duration": 452,
    "start_time": "2022-03-13T18:28:53.970Z"
   },
   {
    "duration": 428,
    "start_time": "2022-03-13T18:28:54.433Z"
   },
   {
    "duration": 14,
    "start_time": "2022-03-13T18:28:54.864Z"
   },
   {
    "duration": 512,
    "start_time": "2022-03-13T18:28:54.883Z"
   },
   {
    "duration": 491,
    "start_time": "2022-03-13T18:28:55.398Z"
   },
   {
    "duration": 522,
    "start_time": "2022-03-13T18:28:55.891Z"
   },
   {
    "duration": 37,
    "start_time": "2022-03-13T18:28:56.416Z"
   },
   {
    "duration": 21,
    "start_time": "2022-03-13T18:28:56.456Z"
   },
   {
    "duration": 6,
    "start_time": "2022-03-13T18:28:56.480Z"
   },
   {
    "duration": 5,
    "start_time": "2022-03-13T18:28:56.488Z"
   },
   {
    "duration": 39,
    "start_time": "2022-03-13T18:28:56.495Z"
   },
   {
    "duration": 198,
    "start_time": "2022-03-13T18:28:56.537Z"
   },
   {
    "duration": 22,
    "start_time": "2022-03-13T18:28:56.737Z"
   },
   {
    "duration": 36988,
    "start_time": "2022-03-13T18:28:56.761Z"
   },
   {
    "duration": 3901,
    "start_time": "2022-03-13T18:29:33.752Z"
   },
   {
    "duration": 4739,
    "start_time": "2022-03-13T18:29:37.656Z"
   },
   {
    "duration": 90391,
    "start_time": "2022-03-13T18:35:04.354Z"
   },
   {
    "duration": 69580,
    "start_time": "2022-03-13T18:37:15.506Z"
   },
   {
    "duration": 1732,
    "start_time": "2022-03-13T18:38:30.155Z"
   },
   {
    "duration": 903,
    "start_time": "2022-03-13T18:38:31.889Z"
   },
   {
    "duration": 96,
    "start_time": "2022-03-13T18:38:32.795Z"
   },
   {
    "duration": 82,
    "start_time": "2022-03-13T18:38:32.893Z"
   },
   {
    "duration": 16,
    "start_time": "2022-03-13T18:38:32.978Z"
   },
   {
    "duration": 1117,
    "start_time": "2022-03-13T18:38:32.997Z"
   },
   {
    "duration": 6,
    "start_time": "2022-03-13T18:38:34.116Z"
   },
   {
    "duration": 16,
    "start_time": "2022-03-13T18:38:34.124Z"
   },
   {
    "duration": 17,
    "start_time": "2022-03-13T18:38:34.144Z"
   },
   {
    "duration": 20,
    "start_time": "2022-03-13T18:38:34.163Z"
   },
   {
    "duration": 28,
    "start_time": "2022-03-13T18:38:34.186Z"
   },
   {
    "duration": 18,
    "start_time": "2022-03-13T18:38:34.217Z"
   },
   {
    "duration": 23,
    "start_time": "2022-03-13T18:38:34.238Z"
   },
   {
    "duration": 7,
    "start_time": "2022-03-13T18:38:34.263Z"
   },
   {
    "duration": 16,
    "start_time": "2022-03-13T18:38:34.273Z"
   },
   {
    "duration": 8,
    "start_time": "2022-03-13T18:38:34.292Z"
   },
   {
    "duration": 784,
    "start_time": "2022-03-13T18:38:34.303Z"
   },
   {
    "duration": 790,
    "start_time": "2022-03-13T18:38:35.090Z"
   },
   {
    "duration": 810,
    "start_time": "2022-03-13T18:38:35.883Z"
   },
   {
    "duration": 340,
    "start_time": "2022-03-13T18:38:36.696Z"
   },
   {
    "duration": 434,
    "start_time": "2022-03-13T18:38:37.039Z"
   },
   {
    "duration": 13,
    "start_time": "2022-03-13T18:38:37.476Z"
   },
   {
    "duration": 511,
    "start_time": "2022-03-13T18:38:37.492Z"
   },
   {
    "duration": 488,
    "start_time": "2022-03-13T18:38:38.005Z"
   },
   {
    "duration": 526,
    "start_time": "2022-03-13T18:38:38.496Z"
   },
   {
    "duration": 40,
    "start_time": "2022-03-13T18:38:39.025Z"
   },
   {
    "duration": 26,
    "start_time": "2022-03-13T18:38:39.070Z"
   },
   {
    "duration": 35,
    "start_time": "2022-03-13T18:38:39.098Z"
   },
   {
    "duration": 6,
    "start_time": "2022-03-13T18:38:39.135Z"
   },
   {
    "duration": 9,
    "start_time": "2022-03-13T18:38:39.143Z"
   },
   {
    "duration": 213,
    "start_time": "2022-03-13T18:38:39.155Z"
   },
   {
    "duration": 22,
    "start_time": "2022-03-13T18:38:39.370Z"
   },
   {
    "duration": 32642,
    "start_time": "2022-03-13T18:38:39.395Z"
   },
   {
    "duration": 2796,
    "start_time": "2022-03-13T18:39:12.039Z"
   },
   {
    "duration": 1087,
    "start_time": "2022-03-13T18:42:34.386Z"
   },
   {
    "duration": 1086,
    "start_time": "2022-03-13T18:42:34.388Z"
   },
   {
    "duration": 1086,
    "start_time": "2022-03-13T18:42:34.390Z"
   },
   {
    "duration": 1086,
    "start_time": "2022-03-13T18:42:34.391Z"
   },
   {
    "duration": 1083,
    "start_time": "2022-03-13T18:42:34.396Z"
   },
   {
    "duration": 1082,
    "start_time": "2022-03-13T18:42:34.398Z"
   },
   {
    "duration": 1082,
    "start_time": "2022-03-13T18:42:34.399Z"
   },
   {
    "duration": 1082,
    "start_time": "2022-03-13T18:42:34.401Z"
   },
   {
    "duration": 1081,
    "start_time": "2022-03-13T18:42:34.403Z"
   },
   {
    "duration": 1060,
    "start_time": "2022-03-13T18:42:34.425Z"
   },
   {
    "duration": 1060,
    "start_time": "2022-03-13T18:42:34.426Z"
   },
   {
    "duration": 1060,
    "start_time": "2022-03-13T18:42:34.428Z"
   },
   {
    "duration": 1060,
    "start_time": "2022-03-13T18:42:34.429Z"
   },
   {
    "duration": 1060,
    "start_time": "2022-03-13T18:42:34.430Z"
   },
   {
    "duration": 1059,
    "start_time": "2022-03-13T18:42:34.432Z"
   },
   {
    "duration": 1096,
    "start_time": "2022-03-13T18:42:34.436Z"
   },
   {
    "duration": 1095,
    "start_time": "2022-03-13T18:42:34.438Z"
   },
   {
    "duration": 1096,
    "start_time": "2022-03-13T18:42:34.439Z"
   },
   {
    "duration": 1096,
    "start_time": "2022-03-13T18:42:34.440Z"
   },
   {
    "duration": 1096,
    "start_time": "2022-03-13T18:42:34.442Z"
   },
   {
    "duration": 1092,
    "start_time": "2022-03-13T18:42:34.447Z"
   },
   {
    "duration": 1092,
    "start_time": "2022-03-13T18:42:34.448Z"
   },
   {
    "duration": 1092,
    "start_time": "2022-03-13T18:42:34.450Z"
   },
   {
    "duration": 1087,
    "start_time": "2022-03-13T18:42:34.456Z"
   },
   {
    "duration": 1087,
    "start_time": "2022-03-13T18:42:34.458Z"
   },
   {
    "duration": 1087,
    "start_time": "2022-03-13T18:42:34.459Z"
   },
   {
    "duration": 1087,
    "start_time": "2022-03-13T18:42:34.460Z"
   },
   {
    "duration": 1087,
    "start_time": "2022-03-13T18:42:34.462Z"
   },
   {
    "duration": 1087,
    "start_time": "2022-03-13T18:42:34.463Z"
   },
   {
    "duration": 1088,
    "start_time": "2022-03-13T18:42:34.464Z"
   },
   {
    "duration": 1087,
    "start_time": "2022-03-13T18:42:34.466Z"
   },
   {
    "duration": 1034,
    "start_time": "2022-03-13T18:42:34.520Z"
   },
   {
    "duration": 1035,
    "start_time": "2022-03-13T18:42:34.521Z"
   },
   {
    "duration": 1034,
    "start_time": "2022-03-13T18:42:34.523Z"
   },
   {
    "duration": 1032,
    "start_time": "2022-03-13T18:42:34.526Z"
   },
   {
    "duration": 1631,
    "start_time": "2022-03-13T18:42:44.195Z"
   },
   {
    "duration": 950,
    "start_time": "2022-03-13T18:42:45.829Z"
   },
   {
    "duration": 106,
    "start_time": "2022-03-13T18:42:46.782Z"
   },
   {
    "duration": 80,
    "start_time": "2022-03-13T18:42:46.891Z"
   },
   {
    "duration": 17,
    "start_time": "2022-03-13T18:42:46.973Z"
   },
   {
    "duration": 1622,
    "start_time": "2022-03-13T18:42:46.992Z"
   },
   {
    "duration": 7,
    "start_time": "2022-03-13T18:42:48.617Z"
   },
   {
    "duration": 6,
    "start_time": "2022-03-13T18:42:48.633Z"
   },
   {
    "duration": 5,
    "start_time": "2022-03-13T18:42:48.643Z"
   },
   {
    "duration": 14,
    "start_time": "2022-03-13T18:42:48.651Z"
   },
   {
    "duration": 16,
    "start_time": "2022-03-13T18:42:48.668Z"
   },
   {
    "duration": 47,
    "start_time": "2022-03-13T18:42:48.687Z"
   },
   {
    "duration": 17,
    "start_time": "2022-03-13T18:42:48.736Z"
   },
   {
    "duration": 7,
    "start_time": "2022-03-13T18:42:48.756Z"
   },
   {
    "duration": 12,
    "start_time": "2022-03-13T18:42:48.765Z"
   },
   {
    "duration": 8,
    "start_time": "2022-03-13T18:42:48.779Z"
   },
   {
    "duration": 788,
    "start_time": "2022-03-13T18:42:48.790Z"
   },
   {
    "duration": 846,
    "start_time": "2022-03-13T18:42:49.582Z"
   },
   {
    "duration": 837,
    "start_time": "2022-03-13T18:42:50.433Z"
   },
   {
    "duration": 346,
    "start_time": "2022-03-13T18:42:51.272Z"
   },
   {
    "duration": 487,
    "start_time": "2022-03-13T18:42:51.621Z"
   },
   {
    "duration": 27,
    "start_time": "2022-03-13T18:42:52.111Z"
   },
   {
    "duration": 542,
    "start_time": "2022-03-13T18:42:52.140Z"
   },
   {
    "duration": 534,
    "start_time": "2022-03-13T18:42:52.685Z"
   },
   {
    "duration": 542,
    "start_time": "2022-03-13T18:42:53.221Z"
   },
   {
    "duration": 30,
    "start_time": "2022-03-13T18:42:53.765Z"
   },
   {
    "duration": 43,
    "start_time": "2022-03-13T18:42:53.801Z"
   },
   {
    "duration": 6,
    "start_time": "2022-03-13T18:42:53.847Z"
   },
   {
    "duration": 5,
    "start_time": "2022-03-13T18:42:53.856Z"
   },
   {
    "duration": 10,
    "start_time": "2022-03-13T18:42:53.863Z"
   },
   {
    "duration": 261,
    "start_time": "2022-03-13T18:42:53.876Z"
   },
   {
    "duration": 27,
    "start_time": "2022-03-13T18:42:54.140Z"
   },
   {
    "duration": 33452,
    "start_time": "2022-03-13T18:42:54.170Z"
   },
   {
    "duration": 3020,
    "start_time": "2022-03-13T18:43:27.624Z"
   },
   {
    "duration": 4238,
    "start_time": "2022-03-13T18:43:30.647Z"
   },
   {
    "duration": 141947,
    "start_time": "2022-03-13T18:43:56.149Z"
   },
   {
    "duration": 247455,
    "start_time": "2022-03-13T18:47:42.790Z"
   },
   {
    "duration": 42,
    "start_time": "2022-03-13T18:55:30.213Z"
   },
   {
    "duration": 6,
    "start_time": "2022-03-13T18:56:07.140Z"
   },
   {
    "duration": 4,
    "start_time": "2022-03-13T18:56:23.165Z"
   },
   {
    "duration": 314,
    "start_time": "2022-03-13T18:56:29.734Z"
   },
   {
    "duration": 6,
    "start_time": "2022-03-13T18:56:34.477Z"
   },
   {
    "duration": 6,
    "start_time": "2022-03-13T18:56:39.196Z"
   },
   {
    "duration": 318,
    "start_time": "2022-03-13T18:57:12.140Z"
   },
   {
    "duration": 4,
    "start_time": "2022-03-13T18:57:26.428Z"
   },
   {
    "duration": 6,
    "start_time": "2022-03-13T18:57:28.548Z"
   },
   {
    "duration": 25,
    "start_time": "2022-03-13T19:00:03.454Z"
   },
   {
    "duration": 22,
    "start_time": "2022-03-13T19:00:10.949Z"
   },
   {
    "duration": 22,
    "start_time": "2022-03-13T19:00:23.085Z"
   },
   {
    "duration": 43,
    "start_time": "2022-03-13T19:02:06.236Z"
   },
   {
    "duration": 115,
    "start_time": "2022-03-13T19:03:44.421Z"
   },
   {
    "duration": 13758,
    "start_time": "2022-03-13T19:03:56.220Z"
   },
   {
    "duration": 27260,
    "start_time": "2022-03-13T19:04:20.380Z"
   },
   {
    "duration": 27695,
    "start_time": "2022-03-13T19:05:03.629Z"
   },
   {
    "duration": 38,
    "start_time": "2022-03-13T19:05:57.948Z"
   },
   {
    "duration": 18,
    "start_time": "2022-03-13T19:12:27.938Z"
   },
   {
    "duration": 27207,
    "start_time": "2022-03-13T19:12:28.827Z"
   },
   {
    "duration": 36287,
    "start_time": "2022-03-13T19:13:05.531Z"
   },
   {
    "duration": 18264,
    "start_time": "2022-03-13T19:13:51.427Z"
   },
   {
    "duration": 54559,
    "start_time": "2022-03-13T19:14:20.499Z"
   },
   {
    "duration": 37678,
    "start_time": "2022-03-13T19:15:31.842Z"
   },
   {
    "duration": 4384,
    "start_time": "2022-03-13T19:17:44.059Z"
   },
   {
    "duration": 16443,
    "start_time": "2022-03-13T19:17:55.394Z"
   },
   {
    "duration": 228578,
    "start_time": "2022-03-13T19:18:21.452Z"
   },
   {
    "duration": 629,
    "start_time": "2022-03-13T19:22:10.033Z"
   },
   {
    "duration": 246611,
    "start_time": "2022-03-13T19:22:23.458Z"
   },
   {
    "duration": 336,
    "start_time": "2022-03-13T19:26:30.072Z"
   },
   {
    "duration": 37,
    "start_time": "2022-03-13T19:27:08.146Z"
   },
   {
    "duration": 29454,
    "start_time": "2022-03-13T19:27:14.289Z"
   },
   {
    "duration": 34360,
    "start_time": "2022-03-13T19:28:00.498Z"
   },
   {
    "duration": 119,
    "start_time": "2022-03-14T12:42:13.938Z"
   }
  ],
  "kernelspec": {
   "display_name": "Python 3 (ipykernel)",
   "language": "python",
   "name": "python3"
  },
  "language_info": {
   "codemirror_mode": {
    "name": "ipython",
    "version": 3
   },
   "file_extension": ".py",
   "mimetype": "text/x-python",
   "name": "python",
   "nbconvert_exporter": "python",
   "pygments_lexer": "ipython3",
   "version": "3.9.7"
  },
  "toc": {
   "base_numbering": 1,
   "nav_menu": {},
   "number_sections": true,
   "sideBar": true,
   "skip_h1_title": true,
   "title_cell": "Содержание",
   "title_sidebar": "Contents",
   "toc_cell": true,
   "toc_position": {},
   "toc_section_display": true,
   "toc_window_display": true
  }
 },
 "nbformat": 4,
 "nbformat_minor": 2
}
