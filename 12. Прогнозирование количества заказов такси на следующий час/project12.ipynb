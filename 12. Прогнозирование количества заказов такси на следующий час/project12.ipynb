{
 "cells": [
  {
   "cell_type": "markdown",
   "metadata": {},
   "source": [
    "#  Прогнозирование заказов такси"
   ]
  },
  {
   "cell_type": "markdown",
   "metadata": {},
   "source": [
    "## Подготовка"
   ]
  },
  {
   "cell_type": "code",
   "execution_count": 229,
   "metadata": {},
   "outputs": [],
   "source": [
    "# импортируем библиотеки\n",
    "import pandas as pd\n",
    "import numpy as np\n",
    "from sklearn.model_selection import train_test_split\n",
    "from sklearn.ensemble import RandomForestRegressor\n",
    "from sklearn.linear_model import LinearRegression\n",
    "from sklearn.metrics import mean_squared_error\n",
    "from statsmodels.tsa.seasonal import seasonal_decompose\n",
    "import matplotlib.pyplot as plt\n",
    "from catboost import CatBoostRegressor"
   ]
  },
  {
   "cell_type": "code",
   "execution_count": 230,
   "metadata": {},
   "outputs": [],
   "source": [
    "data = pd.read_csv('/datasets/taxi.csv')"
   ]
  },
  {
   "cell_type": "code",
   "execution_count": 231,
   "metadata": {},
   "outputs": [
    {
     "data": {
      "text/html": [
       "<div>\n",
       "<style scoped>\n",
       "    .dataframe tbody tr th:only-of-type {\n",
       "        vertical-align: middle;\n",
       "    }\n",
       "\n",
       "    .dataframe tbody tr th {\n",
       "        vertical-align: top;\n",
       "    }\n",
       "\n",
       "    .dataframe thead th {\n",
       "        text-align: right;\n",
       "    }\n",
       "</style>\n",
       "<table border=\"1\" class=\"dataframe\">\n",
       "  <thead>\n",
       "    <tr style=\"text-align: right;\">\n",
       "      <th></th>\n",
       "      <th>datetime</th>\n",
       "      <th>num_orders</th>\n",
       "    </tr>\n",
       "  </thead>\n",
       "  <tbody>\n",
       "    <tr>\n",
       "      <th>0</th>\n",
       "      <td>2018-03-01 00:00:00</td>\n",
       "      <td>9</td>\n",
       "    </tr>\n",
       "    <tr>\n",
       "      <th>1</th>\n",
       "      <td>2018-03-01 00:10:00</td>\n",
       "      <td>14</td>\n",
       "    </tr>\n",
       "    <tr>\n",
       "      <th>2</th>\n",
       "      <td>2018-03-01 00:20:00</td>\n",
       "      <td>28</td>\n",
       "    </tr>\n",
       "    <tr>\n",
       "      <th>3</th>\n",
       "      <td>2018-03-01 00:30:00</td>\n",
       "      <td>20</td>\n",
       "    </tr>\n",
       "    <tr>\n",
       "      <th>4</th>\n",
       "      <td>2018-03-01 00:40:00</td>\n",
       "      <td>32</td>\n",
       "    </tr>\n",
       "  </tbody>\n",
       "</table>\n",
       "</div>"
      ],
      "text/plain": [
       "              datetime  num_orders\n",
       "0  2018-03-01 00:00:00           9\n",
       "1  2018-03-01 00:10:00          14\n",
       "2  2018-03-01 00:20:00          28\n",
       "3  2018-03-01 00:30:00          20\n",
       "4  2018-03-01 00:40:00          32"
      ]
     },
     "execution_count": 231,
     "metadata": {},
     "output_type": "execute_result"
    }
   ],
   "source": [
    "data.head()"
   ]
  },
  {
   "cell_type": "code",
   "execution_count": 232,
   "metadata": {},
   "outputs": [
    {
     "name": "stdout",
     "output_type": "stream",
     "text": [
      "<class 'pandas.core.frame.DataFrame'>\n",
      "RangeIndex: 26496 entries, 0 to 26495\n",
      "Data columns (total 2 columns):\n",
      " #   Column      Non-Null Count  Dtype \n",
      "---  ------      --------------  ----- \n",
      " 0   datetime    26496 non-null  object\n",
      " 1   num_orders  26496 non-null  int64 \n",
      "dtypes: int64(1), object(1)\n",
      "memory usage: 414.1+ KB\n"
     ]
    }
   ],
   "source": [
    "data.info()"
   ]
  },
  {
   "cell_type": "code",
   "execution_count": 233,
   "metadata": {},
   "outputs": [
    {
     "data": {
      "text/html": [
       "<div>\n",
       "<style scoped>\n",
       "    .dataframe tbody tr th:only-of-type {\n",
       "        vertical-align: middle;\n",
       "    }\n",
       "\n",
       "    .dataframe tbody tr th {\n",
       "        vertical-align: top;\n",
       "    }\n",
       "\n",
       "    .dataframe thead th {\n",
       "        text-align: right;\n",
       "    }\n",
       "</style>\n",
       "<table border=\"1\" class=\"dataframe\">\n",
       "  <thead>\n",
       "    <tr style=\"text-align: right;\">\n",
       "      <th></th>\n",
       "      <th>num_orders</th>\n",
       "    </tr>\n",
       "  </thead>\n",
       "  <tbody>\n",
       "    <tr>\n",
       "      <th>count</th>\n",
       "      <td>26496.000000</td>\n",
       "    </tr>\n",
       "    <tr>\n",
       "      <th>mean</th>\n",
       "      <td>14.070463</td>\n",
       "    </tr>\n",
       "    <tr>\n",
       "      <th>std</th>\n",
       "      <td>9.211330</td>\n",
       "    </tr>\n",
       "    <tr>\n",
       "      <th>min</th>\n",
       "      <td>0.000000</td>\n",
       "    </tr>\n",
       "    <tr>\n",
       "      <th>25%</th>\n",
       "      <td>8.000000</td>\n",
       "    </tr>\n",
       "    <tr>\n",
       "      <th>50%</th>\n",
       "      <td>13.000000</td>\n",
       "    </tr>\n",
       "    <tr>\n",
       "      <th>75%</th>\n",
       "      <td>19.000000</td>\n",
       "    </tr>\n",
       "    <tr>\n",
       "      <th>max</th>\n",
       "      <td>119.000000</td>\n",
       "    </tr>\n",
       "  </tbody>\n",
       "</table>\n",
       "</div>"
      ],
      "text/plain": [
       "         num_orders\n",
       "count  26496.000000\n",
       "mean      14.070463\n",
       "std        9.211330\n",
       "min        0.000000\n",
       "25%        8.000000\n",
       "50%       13.000000\n",
       "75%       19.000000\n",
       "max      119.000000"
      ]
     },
     "execution_count": 233,
     "metadata": {},
     "output_type": "execute_result"
    }
   ],
   "source": [
    "data.describe()"
   ]
  },
  {
   "cell_type": "markdown",
   "metadata": {},
   "source": [
    "Пропусков нет. Подозрительных значений не обнаружено. Перезапишем датасет с индексом в виде дат"
   ]
  },
  {
   "cell_type": "code",
   "execution_count": 234,
   "metadata": {},
   "outputs": [],
   "source": [
    "data = pd.read_csv('/datasets/taxi.csv', index_col=[0], parse_dates=[0])"
   ]
  },
  {
   "cell_type": "code",
   "execution_count": 235,
   "metadata": {},
   "outputs": [
    {
     "data": {
      "text/html": [
       "<div>\n",
       "<style scoped>\n",
       "    .dataframe tbody tr th:only-of-type {\n",
       "        vertical-align: middle;\n",
       "    }\n",
       "\n",
       "    .dataframe tbody tr th {\n",
       "        vertical-align: top;\n",
       "    }\n",
       "\n",
       "    .dataframe thead th {\n",
       "        text-align: right;\n",
       "    }\n",
       "</style>\n",
       "<table border=\"1\" class=\"dataframe\">\n",
       "  <thead>\n",
       "    <tr style=\"text-align: right;\">\n",
       "      <th></th>\n",
       "      <th>num_orders</th>\n",
       "    </tr>\n",
       "    <tr>\n",
       "      <th>datetime</th>\n",
       "      <th></th>\n",
       "    </tr>\n",
       "  </thead>\n",
       "  <tbody>\n",
       "    <tr>\n",
       "      <th>2018-03-01 00:00:00</th>\n",
       "      <td>9</td>\n",
       "    </tr>\n",
       "    <tr>\n",
       "      <th>2018-03-01 00:10:00</th>\n",
       "      <td>14</td>\n",
       "    </tr>\n",
       "    <tr>\n",
       "      <th>2018-03-01 00:20:00</th>\n",
       "      <td>28</td>\n",
       "    </tr>\n",
       "    <tr>\n",
       "      <th>2018-03-01 00:30:00</th>\n",
       "      <td>20</td>\n",
       "    </tr>\n",
       "    <tr>\n",
       "      <th>2018-03-01 00:40:00</th>\n",
       "      <td>32</td>\n",
       "    </tr>\n",
       "  </tbody>\n",
       "</table>\n",
       "</div>"
      ],
      "text/plain": [
       "                     num_orders\n",
       "datetime                       \n",
       "2018-03-01 00:00:00           9\n",
       "2018-03-01 00:10:00          14\n",
       "2018-03-01 00:20:00          28\n",
       "2018-03-01 00:30:00          20\n",
       "2018-03-01 00:40:00          32"
      ]
     },
     "execution_count": 235,
     "metadata": {},
     "output_type": "execute_result"
    }
   ],
   "source": [
    "data.head()"
   ]
  },
  {
   "cell_type": "code",
   "execution_count": 236,
   "metadata": {},
   "outputs": [
    {
     "data": {
      "text/html": [
       "<div>\n",
       "<style scoped>\n",
       "    .dataframe tbody tr th:only-of-type {\n",
       "        vertical-align: middle;\n",
       "    }\n",
       "\n",
       "    .dataframe tbody tr th {\n",
       "        vertical-align: top;\n",
       "    }\n",
       "\n",
       "    .dataframe thead th {\n",
       "        text-align: right;\n",
       "    }\n",
       "</style>\n",
       "<table border=\"1\" class=\"dataframe\">\n",
       "  <thead>\n",
       "    <tr style=\"text-align: right;\">\n",
       "      <th></th>\n",
       "      <th>num_orders</th>\n",
       "    </tr>\n",
       "    <tr>\n",
       "      <th>datetime</th>\n",
       "      <th></th>\n",
       "    </tr>\n",
       "  </thead>\n",
       "  <tbody>\n",
       "    <tr>\n",
       "      <th>2018-08-31 23:10:00</th>\n",
       "      <td>32</td>\n",
       "    </tr>\n",
       "    <tr>\n",
       "      <th>2018-08-31 23:20:00</th>\n",
       "      <td>24</td>\n",
       "    </tr>\n",
       "    <tr>\n",
       "      <th>2018-08-31 23:30:00</th>\n",
       "      <td>27</td>\n",
       "    </tr>\n",
       "    <tr>\n",
       "      <th>2018-08-31 23:40:00</th>\n",
       "      <td>39</td>\n",
       "    </tr>\n",
       "    <tr>\n",
       "      <th>2018-08-31 23:50:00</th>\n",
       "      <td>53</td>\n",
       "    </tr>\n",
       "  </tbody>\n",
       "</table>\n",
       "</div>"
      ],
      "text/plain": [
       "                     num_orders\n",
       "datetime                       \n",
       "2018-08-31 23:10:00          32\n",
       "2018-08-31 23:20:00          24\n",
       "2018-08-31 23:30:00          27\n",
       "2018-08-31 23:40:00          39\n",
       "2018-08-31 23:50:00          53"
      ]
     },
     "execution_count": 236,
     "metadata": {},
     "output_type": "execute_result"
    }
   ],
   "source": [
    "data.tail()"
   ]
  },
  {
   "cell_type": "markdown",
   "metadata": {},
   "source": [
    "Данные готовы можно приступать к анлизу."
   ]
  },
  {
   "cell_type": "markdown",
   "metadata": {},
   "source": [
    "## Анализ"
   ]
  },
  {
   "cell_type": "code",
   "execution_count": 237,
   "metadata": {},
   "outputs": [
    {
     "data": {
      "text/plain": [
       "<AxesSubplot:xlabel='datetime'>"
      ]
     },
     "execution_count": 237,
     "metadata": {},
     "output_type": "execute_result"
    },
    {
     "data": {
      "image/png": "[encoded data removed]",
      "text/plain": [
       "<Figure size 432x288 with 1 Axes>"
      ]
     },
     "metadata": {
      "needs_background": "light"
     },
     "output_type": "display_data"
    }
   ],
   "source": [
    "# построим график и посмотрим как распределены данные\n",
    "data.plot()"
   ]
  },
  {
   "cell_type": "code",
   "execution_count": 238,
   "metadata": {},
   "outputs": [
    {
     "data": {
      "text/plain": [
       "<AxesSubplot:xlabel='datetime'>"
      ]
     },
     "execution_count": 238,
     "metadata": {},
     "output_type": "execute_result"
    },
    {
     "data": {
      "image/png": "[encoded data removed]",
      "text/plain": [
       "<Figure size 432x288 with 1 Axes>"
      ]
     },
     "metadata": {
      "needs_background": "light"
     },
     "output_type": "display_data"
    }
   ],
   "source": [
    "# на таком графике ничего не видно, проведем ресемплинг с интервалом в один час, как того требует задача прогнозирования\n",
    "data = data.resample('1H').sum()\n",
    "data.plot()"
   ]
  },
  {
   "cell_type": "code",
   "execution_count": 239,
   "metadata": {},
   "outputs": [
    {
     "data": {
      "text/plain": [
       "<AxesSubplot:xlabel='datetime'>"
      ]
     },
     "execution_count": 239,
     "metadata": {},
     "output_type": "execute_result"
    },
    {
     "data": {
      "image/png": "[encoded data removed]",
      "text/plain": [
       "<Figure size 432x288 with 1 Axes>"
      ]
     },
     "metadata": {
      "needs_background": "light"
     },
     "output_type": "display_data"
    }
   ],
   "source": [
    "# аналогично данные непрезентабельны посмотрим на скользящую среднюю\n",
    "\n",
    "data.rolling(100).mean().plot()"
   ]
  },
  {
   "cell_type": "markdown",
   "metadata": {},
   "source": [
    "На данном графике видно, что с весны по конец лета наблюдается стабильные рост заказов, с небольшими падениями. Посмотрим на тренд и сезонность этих данных."
   ]
  },
  {
   "cell_type": "code",
   "execution_count": 240,
   "metadata": {},
   "outputs": [
    {
     "data": {
      "text/plain": [
       "Text(0.5, 1.0, 'Seasonality')"
      ]
     },
     "execution_count": 240,
     "metadata": {},
     "output_type": "execute_result"
    },
    {
     "data": {
      "image/png": "[encoded data removed]",
      "text/plain": [
       "<Figure size 720x720 with 2 Axes>"
      ]
     },
     "metadata": {
      "needs_background": "light"
     },
     "output_type": "display_data"
    }
   ],
   "source": [
    "decomposed = seasonal_decompose(data)\n",
    "\n",
    "plt.figure(figsize=(10, 10))\n",
    "plt.subplot(411)\n",
    "decomposed.trend.plot()\n",
    "plt.title('Trend')\n",
    "\n",
    "plt.subplot(413)\n",
    "decomposed.seasonal.plot()\n",
    "plt.title('Seasonality')\n"
   ]
  },
  {
   "cell_type": "markdown",
   "metadata": {},
   "source": [
    "Тренд имеет постепенное увеличение, как было ранее выявлено, сезонность же плохо видно, поэтому возьмем период в несколько дней одного  случайного месяца"
   ]
  },
  {
   "cell_type": "code",
   "execution_count": 241,
   "metadata": {},
   "outputs": [
    {
     "data": {
      "text/plain": [
       "<AxesSubplot:xlabel='datetime'>"
      ]
     },
     "execution_count": 241,
     "metadata": {},
     "output_type": "execute_result"
    },
    {
     "data": {
      "image/png": "[encoded data removed]",
      "text/plain": [
       "<Figure size 432x288 with 1 Axes>"
      ]
     },
     "metadata": {
      "needs_background": "light"
     },
     "output_type": "display_data"
    }
   ],
   "source": [
    "decomposed = seasonal_decompose(data['2018-06-01':'2018-06-05'])\n",
    "decomposed.seasonal.plot()"
   ]
  },
  {
   "cell_type": "markdown",
   "metadata": {},
   "source": [
    "Видно, что пик идет к концу дня и снижается в начале следующего, что логично людям  надо спать, а не ездить в такси."
   ]
  },
  {
   "cell_type": "code",
   "execution_count": 242,
   "metadata": {},
   "outputs": [
    {
     "data": {
      "text/plain": [
       "<AxesSubplot:xlabel='datetime'>"
      ]
     },
     "execution_count": 242,
     "metadata": {},
     "output_type": "execute_result"
    },
    {
     "data": {
      "image/png": "[encoded data removed]",
      "text/plain": [
       "<Figure size 432x288 with 1 Axes>"
      ]
     },
     "metadata": {
      "needs_background": "light"
     },
     "output_type": "display_data"
    }
   ],
   "source": [
    "data_week = data.resample('1D').sum()\n",
    "decomposed = seasonal_decompose(data_week['2018-06-01':'2018-06-30'])\n",
    "decomposed.seasonal.plot()"
   ]
  },
  {
   "cell_type": "markdown",
   "metadata": {},
   "source": [
    "Здесь видно сильное падение по вторникам, что связанно скорее всего с расписанием рейсов, возможно  в этот день не очень много пассажирских. Также видим большой спрос на такси по пятницам., видимо много рейсов на выходные."
   ]
  },
  {
   "cell_type": "markdown",
   "metadata": {},
   "source": [
    "## Обучение"
   ]
  },
  {
   "cell_type": "code",
   "execution_count": 243,
   "metadata": {},
   "outputs": [],
   "source": [
    "#Подготовим данные  обучения и создадим колонки с информацией для датасета с помощью функции.\n",
    "\n",
    "def features(data, max_lag, rolling_size):\n",
    "    data['dayofweek'] = data.index.dayofweek\n",
    "    data['hour'] = data.index.hour\n",
    "    \n",
    "    for lag in range(1, max_lag + 1):\n",
    "        data['lag_{}'.format(lag)] = data['num_orders'].shift(lag)\n",
    "\n",
    "    data['rolling_mean'] = data['num_orders'].shift().rolling(rolling_size).mean()\n",
    "\n",
    "\n",
    "features(data, 2, 24)"
   ]
  },
  {
   "cell_type": "code",
   "execution_count": 244,
   "metadata": {},
   "outputs": [],
   "source": [
    "# убирем строки с пустыми значениями\n",
    "data = data.dropna()"
   ]
  },
  {
   "cell_type": "code",
   "execution_count": 245,
   "metadata": {},
   "outputs": [],
   "source": [
    "# разделим выборку, не перемешивая данные\n",
    "features = data.drop('num_orders', axis=1)\n",
    "target = data['num_orders']\n",
    "\n",
    "features_train, features_valid, target_train, target_valid = train_test_split(features, target, test_size=0.1, shuffle=False)"
   ]
  },
  {
   "cell_type": "code",
   "execution_count": 246,
   "metadata": {},
   "outputs": [
    {
     "data": {
      "text/plain": [
       "LinearRegression()"
      ]
     },
     "execution_count": 246,
     "metadata": {},
     "output_type": "execute_result"
    }
   ],
   "source": [
    "# обучим линейную регрессию\n",
    "linear_model = LinearRegression()\n",
    "linear_model.fit(features_train, target_train)"
   ]
  },
  {
   "cell_type": "code",
   "execution_count": 247,
   "metadata": {},
   "outputs": [
    {
     "data": {
      "text/plain": [
       "RandomForestRegressor(max_depth=6, n_estimators=60, random_state=100)"
      ]
     },
     "execution_count": 247,
     "metadata": {},
     "output_type": "execute_result"
    }
   ],
   "source": [
    "# обучим случайные лес\n",
    "forest_model = RandomForestRegressor(max_depth=6, n_estimators=60, random_state=100)\n",
    "forest_model.fit(features_train, target_train)"
   ]
  },
  {
   "cell_type": "code",
   "execution_count": 248,
   "metadata": {
    "scrolled": true
   },
   "outputs": [
    {
     "name": "stdout",
     "output_type": "stream",
     "text": [
      "Learning rate set to 0.050898\n",
      "0:\tlearn: 37.7314462\ttotal: 1.88ms\tremaining: 1.88s\n",
      "20:\tlearn: 28.3789562\ttotal: 38.4ms\tremaining: 1.79s\n",
      "40:\tlearn: 25.4814200\ttotal: 70.1ms\tremaining: 1.64s\n",
      "60:\tlearn: 24.3719923\ttotal: 103ms\tremaining: 1.59s\n",
      "80:\tlearn: 23.6773200\ttotal: 135ms\tremaining: 1.54s\n",
      "100:\tlearn: 23.2858151\ttotal: 167ms\tremaining: 1.49s\n",
      "120:\tlearn: 22.7802208\ttotal: 202ms\tremaining: 1.46s\n",
      "140:\tlearn: 22.2556169\ttotal: 232ms\tremaining: 1.42s\n",
      "160:\tlearn: 21.8546263\ttotal: 267ms\tremaining: 1.39s\n",
      "180:\tlearn: 21.5362284\ttotal: 299ms\tremaining: 1.35s\n",
      "200:\tlearn: 21.2376444\ttotal: 328ms\tremaining: 1.3s\n",
      "220:\tlearn: 20.9393730\ttotal: 363ms\tremaining: 1.28s\n",
      "240:\tlearn: 20.6643153\ttotal: 394ms\tremaining: 1.24s\n",
      "260:\tlearn: 20.2979684\ttotal: 425ms\tremaining: 1.2s\n",
      "280:\tlearn: 20.0097173\ttotal: 459ms\tremaining: 1.17s\n",
      "300:\tlearn: 19.7288846\ttotal: 490ms\tremaining: 1.14s\n",
      "320:\tlearn: 19.4852844\ttotal: 524ms\tremaining: 1.11s\n",
      "340:\tlearn: 19.2255339\ttotal: 556ms\tremaining: 1.07s\n",
      "360:\tlearn: 19.0615171\ttotal: 586ms\tremaining: 1.04s\n",
      "380:\tlearn: 18.8940099\ttotal: 623ms\tremaining: 1.01s\n",
      "400:\tlearn: 18.7460555\ttotal: 653ms\tremaining: 975ms\n",
      "420:\tlearn: 18.5976428\ttotal: 685ms\tremaining: 942ms\n",
      "440:\tlearn: 18.4482445\ttotal: 728ms\tremaining: 922ms\n",
      "460:\tlearn: 18.2645850\ttotal: 773ms\tremaining: 903ms\n",
      "480:\tlearn: 18.0919073\ttotal: 813ms\tremaining: 878ms\n",
      "500:\tlearn: 17.9668868\ttotal: 847ms\tremaining: 843ms\n",
      "520:\tlearn: 17.8235949\ttotal: 886ms\tremaining: 814ms\n",
      "540:\tlearn: 17.6727733\ttotal: 927ms\tremaining: 786ms\n",
      "560:\tlearn: 17.5125103\ttotal: 960ms\tremaining: 752ms\n",
      "580:\tlearn: 17.3671080\ttotal: 997ms\tremaining: 719ms\n",
      "600:\tlearn: 17.2541417\ttotal: 1.03s\tremaining: 686ms\n",
      "620:\tlearn: 17.1152661\ttotal: 1.07s\tremaining: 653ms\n",
      "640:\tlearn: 17.0105408\ttotal: 1.11s\tremaining: 622ms\n",
      "660:\tlearn: 16.8672668\ttotal: 1.14s\tremaining: 586ms\n",
      "680:\tlearn: 16.7485333\ttotal: 1.18s\tremaining: 551ms\n",
      "700:\tlearn: 16.6219792\ttotal: 1.21s\tremaining: 516ms\n",
      "720:\tlearn: 16.5067011\ttotal: 1.25s\tremaining: 483ms\n",
      "740:\tlearn: 16.3914895\ttotal: 1.3s\tremaining: 454ms\n",
      "760:\tlearn: 16.2832286\ttotal: 1.33s\tremaining: 418ms\n",
      "780:\tlearn: 16.1489147\ttotal: 1.37s\tremaining: 384ms\n",
      "800:\tlearn: 16.0640277\ttotal: 1.4s\tremaining: 348ms\n",
      "820:\tlearn: 15.9657454\ttotal: 1.44s\tremaining: 313ms\n",
      "840:\tlearn: 15.8457610\ttotal: 1.47s\tremaining: 278ms\n",
      "860:\tlearn: 15.7250169\ttotal: 1.52s\tremaining: 245ms\n",
      "880:\tlearn: 15.6370558\ttotal: 1.55s\tremaining: 210ms\n",
      "900:\tlearn: 15.5305010\ttotal: 1.58s\tremaining: 174ms\n",
      "920:\tlearn: 15.4315991\ttotal: 1.62s\tremaining: 139ms\n",
      "940:\tlearn: 15.3398984\ttotal: 1.65s\tremaining: 104ms\n",
      "960:\tlearn: 15.2348267\ttotal: 1.69s\tremaining: 68.5ms\n",
      "980:\tlearn: 15.1392211\ttotal: 1.72s\tremaining: 33.3ms\n",
      "999:\tlearn: 15.0386579\ttotal: 1.75s\tremaining: 0us\n"
     ]
    },
    {
     "data": {
      "text/plain": [
       "<catboost.core.CatBoostRegressor at 0x7fccfe049ac0>"
      ]
     },
     "execution_count": 248,
     "metadata": {},
     "output_type": "execute_result"
    }
   ],
   "source": [
    "# обучим модель градиентного бустинга\n",
    "\n",
    "boost_model = CatBoostRegressor(iterations=1000, \n",
    "                                loss_function='RMSE', \n",
    "                                random_state=100,\n",
    "                                max_depth=6                    \n",
    "                               )\n",
    "\n",
    "boost_model.fit(features_train, target_train, verbose=20)"
   ]
  },
  {
   "cell_type": "markdown",
   "metadata": {},
   "source": [
    "## Тестирование"
   ]
  },
  {
   "cell_type": "code",
   "execution_count": 249,
   "metadata": {},
   "outputs": [
    {
     "name": "stdout",
     "output_type": "stream",
     "text": [
      "RSME: 53.65446349996738\n"
     ]
    }
   ],
   "source": [
    "#проверяем метрику на тестовой выборке\n",
    "predict_linear = linear_model.predict(features_valid)\n",
    "print('RSME:', mean_squared_error(target_valid,predict_linear)**0.5)"
   ]
  },
  {
   "cell_type": "markdown",
   "metadata": {},
   "source": [
    "Ошибка линейной регресси составила почти 54 заказов. Проверим другие модели"
   ]
  },
  {
   "cell_type": "code",
   "execution_count": 250,
   "metadata": {},
   "outputs": [
    {
     "name": "stdout",
     "output_type": "stream",
     "text": [
      "RSME: 53.57560516600011\n"
     ]
    }
   ],
   "source": [
    "predict_forest = forest_model.predict(features_valid)\n",
    "print('RSME:', mean_squared_error(target_valid,predict_forest)**0.5)"
   ]
  },
  {
   "cell_type": "markdown",
   "metadata": {},
   "source": [
    "Для леса данная задачка оказалась сложнее, он ошибается тоже в целом на 54 заказов."
   ]
  },
  {
   "cell_type": "code",
   "execution_count": 251,
   "metadata": {},
   "outputs": [
    {
     "name": "stdout",
     "output_type": "stream",
     "text": [
      "RSME: 45.41052859841265\n"
     ]
    }
   ],
   "source": [
    "predict_boost = boost_model.predict(features_valid)\n",
    "print('RSME:', mean_squared_error(target_valid,predict_boost)**0.5)"
   ]
  },
  {
   "cell_type": "markdown",
   "metadata": {},
   "source": [
    "У градиентного бустинга результат получше, хотя в среднем ошибка составила всего лишь чуть более 45 заказов."
   ]
  },
  {
   "cell_type": "markdown",
   "metadata": {},
   "source": [
    "Как выяснелось, заказы на такси имеют тренд к росту с весны по конец лета, хотя данное утверждение стоит проверить на более долгом временном ряде, тут к сожалению данных недостаточно. Также есть каждодневная сезонность, которая заключается в том, что в первой половине суток есть спади резкий рост во второй половине дня. И сезонность по дням недели, где спады приходятся на вторники, а подьемы на пятницы. Линейная регресси и случайные лес, дали результат примерно на одном уровне, но больше чем необходимые 48. Лучший результат по метрике RSME дала модель градиентного бустинга, которая смогла справится с поставленной задачей(45,4). "
   ]
  },
  {
   "cell_type": "code",
   "execution_count": 260,
   "metadata": {},
   "outputs": [
    {
     "data": {
      "text/plain": [
       "[<matplotlib.lines.Line2D at 0x7fccfaed88e0>]"
      ]
     },
     "execution_count": 260,
     "metadata": {},
     "output_type": "execute_result"
    },
    {
     "data": {
      "image/png": "[encoded data removed]",
      "text/plain": [
       "<Figure size 1440x576 with 1 Axes>"
      ]
     },
     "metadata": {
      "needs_background": "light"
     },
     "output_type": "display_data"
    }
   ],
   "source": [
    "#дополнительно посмотрим где больше всего ошиблась модель\n",
    "predict_boost = pd.Series(predict_boost, index=target_valid.index)\n",
    "\n",
    "plt.figure(figsize=(20, 8))\n",
    "plt.plot(predict_boost)\n",
    "plt.plot(target_valid)"
   ]
  },
  {
   "cell_type": "markdown",
   "metadata": {},
   "source": [
    "Сильнее всего модель начала ошибаться ближе к концу отрезка, подозреваю, что чем дальше в будущие тем модели сложнее делать прогнозирование."
   ]
  },
  {
   "cell_type": "code",
   "execution_count": null,
   "metadata": {},
   "outputs": [],
   "source": []
  }
 ],
 "metadata": {
  "ExecuteTimeLog": [
   {
    "duration": 1759,
    "start_time": "2022-04-25T06:24:36.361Z"
   },
   {
    "duration": 709,
    "start_time": "2022-04-25T06:25:09.320Z"
   },
   {
    "duration": 49,
    "start_time": "2022-04-25T06:25:12.592Z"
   },
   {
    "duration": 24,
    "start_time": "2022-04-25T06:25:28.120Z"
   },
   {
    "duration": 19,
    "start_time": "2022-04-25T06:26:02.640Z"
   },
   {
    "duration": 33,
    "start_time": "2022-04-25T06:26:56.697Z"
   },
   {
    "duration": 19,
    "start_time": "2022-04-25T06:27:01.977Z"
   },
   {
    "duration": 49,
    "start_time": "2022-04-25T06:29:17.984Z"
   },
   {
    "duration": 14,
    "start_time": "2022-04-25T06:29:35.216Z"
   },
   {
    "duration": 1064,
    "start_time": "2022-04-25T06:34:04.622Z"
   },
   {
    "duration": 562,
    "start_time": "2022-04-25T06:35:53.719Z"
   },
   {
    "duration": 504,
    "start_time": "2022-04-25T07:06:32.212Z"
   },
   {
    "duration": 430,
    "start_time": "2022-04-25T07:06:41.850Z"
   },
   {
    "duration": 347,
    "start_time": "2022-04-25T07:07:03.683Z"
   },
   {
    "duration": 11,
    "start_time": "2022-04-25T07:09:44.186Z"
   },
   {
    "duration": 28,
    "start_time": "2022-04-25T07:15:51.722Z"
   },
   {
    "duration": 18,
    "start_time": "2022-04-25T07:16:01.874Z"
   },
   {
    "duration": 54,
    "start_time": "2022-04-25T07:16:29.514Z"
   },
   {
    "duration": 18,
    "start_time": "2022-04-25T07:24:31.331Z"
   },
   {
    "duration": 5,
    "start_time": "2022-04-25T07:26:36.274Z"
   },
   {
    "duration": 466,
    "start_time": "2022-04-25T07:27:25.066Z"
   },
   {
    "duration": 54,
    "start_time": "2022-04-25T07:28:00.946Z"
   },
   {
    "duration": 27,
    "start_time": "2022-04-25T07:28:11.561Z"
   },
   {
    "duration": 639,
    "start_time": "2022-04-25T07:28:23.961Z"
   },
   {
    "duration": 639,
    "start_time": "2022-04-25T07:28:31.081Z"
   },
   {
    "duration": 615,
    "start_time": "2022-04-25T07:28:53.977Z"
   },
   {
    "duration": 771,
    "start_time": "2022-04-25T07:28:59.090Z"
   },
   {
    "duration": 34,
    "start_time": "2022-04-25T07:31:00.217Z"
   },
   {
    "duration": 462,
    "start_time": "2022-04-25T07:31:15.217Z"
   },
   {
    "duration": 700,
    "start_time": "2022-04-25T07:31:28.305Z"
   },
   {
    "duration": 382,
    "start_time": "2022-04-25T07:31:55.849Z"
   },
   {
    "duration": 378,
    "start_time": "2022-04-25T07:32:04.561Z"
   },
   {
    "duration": 18,
    "start_time": "2022-04-25T07:32:20.617Z"
   },
   {
    "duration": 740,
    "start_time": "2022-04-25T07:32:25.026Z"
   },
   {
    "duration": 458,
    "start_time": "2022-04-25T07:33:45.811Z"
   },
   {
    "duration": 899,
    "start_time": "2022-04-25T07:33:51.934Z"
   },
   {
    "duration": 625,
    "start_time": "2022-04-25T07:36:48.784Z"
   },
   {
    "duration": 722,
    "start_time": "2022-04-25T07:37:03.838Z"
   },
   {
    "duration": 13,
    "start_time": "2022-04-25T07:40:31.968Z"
   },
   {
    "duration": 543,
    "start_time": "2022-04-25T07:40:43.912Z"
   },
   {
    "duration": 394,
    "start_time": "2022-04-25T07:41:07.904Z"
   },
   {
    "duration": 303,
    "start_time": "2022-04-25T07:41:21.024Z"
   },
   {
    "duration": 240,
    "start_time": "2022-04-25T07:41:36.552Z"
   },
   {
    "duration": 246,
    "start_time": "2022-04-25T07:42:20.672Z"
   },
   {
    "duration": 255,
    "start_time": "2022-04-25T07:42:31.560Z"
   },
   {
    "duration": 448,
    "start_time": "2022-04-25T07:42:38.207Z"
   },
   {
    "duration": 215,
    "start_time": "2022-04-25T07:43:17.687Z"
   },
   {
    "duration": 227,
    "start_time": "2022-04-25T07:43:45.119Z"
   },
   {
    "duration": 309,
    "start_time": "2022-04-25T07:43:56.641Z"
   },
   {
    "duration": 123,
    "start_time": "2022-04-25T07:44:23.884Z"
   },
   {
    "duration": 122,
    "start_time": "2022-04-25T07:47:12.934Z"
   },
   {
    "duration": 14,
    "start_time": "2022-04-25T07:48:58.271Z"
   },
   {
    "duration": 2140,
    "start_time": "2022-04-25T07:49:03.784Z"
   },
   {
    "duration": 26,
    "start_time": "2022-04-25T07:49:32.592Z"
   },
   {
    "duration": 17,
    "start_time": "2022-04-25T07:49:39.339Z"
   },
   {
    "duration": 9,
    "start_time": "2022-04-25T07:52:38.836Z"
   },
   {
    "duration": 25,
    "start_time": "2022-04-25T07:54:28.646Z"
   },
   {
    "duration": 9,
    "start_time": "2022-04-25T07:55:39.734Z"
   },
   {
    "duration": 35,
    "start_time": "2022-04-25T07:55:49.808Z"
   },
   {
    "duration": 5,
    "start_time": "2022-04-25T07:56:13.740Z"
   },
   {
    "duration": 50,
    "start_time": "2022-04-25T07:56:13.748Z"
   },
   {
    "duration": 9,
    "start_time": "2022-04-25T07:56:13.800Z"
   },
   {
    "duration": 28,
    "start_time": "2022-04-25T07:56:13.811Z"
   },
   {
    "duration": 17,
    "start_time": "2022-04-25T07:56:13.842Z"
   },
   {
    "duration": 36,
    "start_time": "2022-04-25T07:56:13.861Z"
   },
   {
    "duration": 35,
    "start_time": "2022-04-25T07:56:13.900Z"
   },
   {
    "duration": 21,
    "start_time": "2022-04-25T07:56:13.938Z"
   },
   {
    "duration": 898,
    "start_time": "2022-04-25T07:56:13.961Z"
   },
   {
    "duration": 400,
    "start_time": "2022-04-25T07:56:14.862Z"
   },
   {
    "duration": 385,
    "start_time": "2022-04-25T07:56:15.264Z"
   },
   {
    "duration": 654,
    "start_time": "2022-04-25T07:56:15.652Z"
   },
   {
    "duration": 245,
    "start_time": "2022-04-25T07:56:16.309Z"
   },
   {
    "duration": 17,
    "start_time": "2022-04-25T07:56:16.557Z"
   },
   {
    "duration": 10,
    "start_time": "2022-04-25T07:56:16.576Z"
   },
   {
    "duration": 37,
    "start_time": "2022-04-25T07:56:16.588Z"
   },
   {
    "duration": 29,
    "start_time": "2022-04-25T07:56:16.628Z"
   },
   {
    "duration": 529,
    "start_time": "2022-04-25T07:59:02.686Z"
   },
   {
    "duration": 110,
    "start_time": "2022-04-25T08:00:22.839Z"
   },
   {
    "duration": 110,
    "start_time": "2022-04-25T08:06:54.031Z"
   },
   {
    "duration": 105,
    "start_time": "2022-04-25T08:07:02.876Z"
   },
   {
    "duration": 5,
    "start_time": "2022-04-25T08:07:09.076Z"
   },
   {
    "duration": 25,
    "start_time": "2022-04-25T08:07:18.533Z"
   },
   {
    "duration": 3890,
    "start_time": "2022-04-25T08:07:43.341Z"
   },
   {
    "duration": 2026,
    "start_time": "2022-04-25T08:08:10.093Z"
   },
   {
    "duration": 1810,
    "start_time": "2022-04-25T08:08:30.045Z"
   },
   {
    "duration": 2273,
    "start_time": "2022-04-25T08:08:50.476Z"
   },
   {
    "duration": 3117,
    "start_time": "2022-04-25T08:09:10.996Z"
   },
   {
    "duration": 3841,
    "start_time": "2022-04-25T08:09:21.365Z"
   },
   {
    "duration": 13,
    "start_time": "2022-04-25T08:11:18.036Z"
   },
   {
    "duration": 137,
    "start_time": "2022-04-25T08:11:39.125Z"
   },
   {
    "duration": 110,
    "start_time": "2022-04-25T08:11:55.917Z"
   },
   {
    "duration": 108,
    "start_time": "2022-04-25T08:12:10.125Z"
   },
   {
    "duration": 12,
    "start_time": "2022-04-25T08:12:14.756Z"
   },
   {
    "duration": 112,
    "start_time": "2022-04-25T08:14:01.762Z"
   },
   {
    "duration": 24,
    "start_time": "2022-04-25T08:14:38.580Z"
   },
   {
    "duration": 21,
    "start_time": "2022-04-25T08:14:52.620Z"
   },
   {
    "duration": 843,
    "start_time": "2022-04-25T08:15:03.453Z"
   },
   {
    "duration": 840,
    "start_time": "2022-04-25T08:15:08.332Z"
   },
   {
    "duration": 26,
    "start_time": "2022-04-25T08:15:13.612Z"
   },
   {
    "duration": 824,
    "start_time": "2022-04-25T08:15:22.188Z"
   },
   {
    "duration": 22,
    "start_time": "2022-04-25T08:15:25.524Z"
   },
   {
    "duration": 872,
    "start_time": "2022-04-25T08:15:30.500Z"
   },
   {
    "duration": 24,
    "start_time": "2022-04-25T08:15:32.868Z"
   },
   {
    "duration": 579,
    "start_time": "2022-04-25T08:15:37.940Z"
   },
   {
    "duration": 23,
    "start_time": "2022-04-25T08:15:39.899Z"
   },
   {
    "duration": 672,
    "start_time": "2022-04-25T08:15:44.692Z"
   },
   {
    "duration": 23,
    "start_time": "2022-04-25T08:15:47.100Z"
   },
   {
    "duration": 756,
    "start_time": "2022-04-25T08:15:53.068Z"
   },
   {
    "duration": 22,
    "start_time": "2022-04-25T08:15:55.291Z"
   },
   {
    "duration": 614,
    "start_time": "2022-04-25T08:16:02.476Z"
   },
   {
    "duration": 20,
    "start_time": "2022-04-25T08:16:04.699Z"
   },
   {
    "duration": 517,
    "start_time": "2022-04-25T08:16:13.436Z"
   },
   {
    "duration": 18,
    "start_time": "2022-04-25T08:16:15.163Z"
   },
   {
    "duration": 423,
    "start_time": "2022-04-25T08:16:19.716Z"
   },
   {
    "duration": 17,
    "start_time": "2022-04-25T08:16:22.115Z"
   },
   {
    "duration": 612,
    "start_time": "2022-04-25T08:16:27.988Z"
   },
   {
    "duration": 17,
    "start_time": "2022-04-25T08:16:29.996Z"
   },
   {
    "duration": 96,
    "start_time": "2022-04-25T08:17:17.934Z"
   },
   {
    "duration": 7,
    "start_time": "2022-04-25T08:17:48.764Z"
   },
   {
    "duration": 7179,
    "start_time": "2022-04-25T08:17:58.444Z"
   },
   {
    "duration": 8,
    "start_time": "2022-04-25T08:18:08.708Z"
   },
   {
    "duration": 3965,
    "start_time": "2022-04-25T08:18:17.909Z"
   },
   {
    "duration": 7,
    "start_time": "2022-04-25T08:18:24.140Z"
   },
   {
    "duration": 4949,
    "start_time": "2022-04-25T08:19:29.284Z"
   },
   {
    "duration": 7,
    "start_time": "2022-04-25T08:19:34.299Z"
   },
   {
    "duration": 4738,
    "start_time": "2022-04-25T08:19:39.316Z"
   },
   {
    "duration": 8,
    "start_time": "2022-04-25T08:19:45.420Z"
   },
   {
    "duration": 14,
    "start_time": "2022-04-25T08:22:39.093Z"
   },
   {
    "duration": 14,
    "start_time": "2022-04-25T08:22:43.653Z"
   },
   {
    "duration": 58608,
    "start_time": "2022-04-26T04:49:54.057Z"
   },
   {
    "duration": 44,
    "start_time": "2022-04-26T04:50:52.667Z"
   },
   {
    "duration": 12,
    "start_time": "2022-04-26T04:50:52.712Z"
   },
   {
    "duration": 16,
    "start_time": "2022-04-26T04:50:52.726Z"
   },
   {
    "duration": 12,
    "start_time": "2022-04-26T04:50:52.744Z"
   },
   {
    "duration": 24,
    "start_time": "2022-04-26T04:50:52.757Z"
   },
   {
    "duration": 7,
    "start_time": "2022-04-26T04:50:52.782Z"
   },
   {
    "duration": 10,
    "start_time": "2022-04-26T04:50:52.823Z"
   },
   {
    "duration": 725,
    "start_time": "2022-04-26T04:50:57.924Z"
   },
   {
    "duration": 229,
    "start_time": "2022-04-26T04:50:59.246Z"
   },
   {
    "duration": 215,
    "start_time": "2022-04-26T04:50:59.839Z"
   },
   {
    "duration": 407,
    "start_time": "2022-04-26T04:51:00.777Z"
   },
   {
    "duration": 138,
    "start_time": "2022-04-26T04:51:01.750Z"
   },
   {
    "duration": 13,
    "start_time": "2022-04-26T04:51:58.541Z"
   },
   {
    "duration": 7,
    "start_time": "2022-04-26T04:53:01.259Z"
   },
   {
    "duration": 6,
    "start_time": "2022-04-26T04:53:01.900Z"
   },
   {
    "duration": 10,
    "start_time": "2022-04-26T04:53:02.766Z"
   },
   {
    "duration": 407,
    "start_time": "2022-04-26T04:53:04.244Z"
   },
   {
    "duration": 3783,
    "start_time": "2022-04-26T04:53:04.653Z"
   },
   {
    "duration": 5,
    "start_time": "2022-04-26T04:54:34.968Z"
   },
   {
    "duration": 11,
    "start_time": "2022-04-26T04:54:36.061Z"
   },
   {
    "duration": 5,
    "start_time": "2022-04-26T04:54:36.663Z"
   },
   {
    "duration": 102,
    "start_time": "2022-04-26T06:09:38.086Z"
   },
   {
    "duration": 118,
    "start_time": "2022-04-26T06:09:49.067Z"
   },
   {
    "duration": 101,
    "start_time": "2022-04-26T06:09:58.612Z"
   },
   {
    "duration": 149,
    "start_time": "2022-04-26T06:10:02.396Z"
   },
   {
    "duration": 104,
    "start_time": "2022-04-26T06:10:33.497Z"
   },
   {
    "duration": 109,
    "start_time": "2022-04-26T06:12:37.281Z"
   },
   {
    "duration": 106,
    "start_time": "2022-04-26T06:15:36.295Z"
   },
   {
    "duration": 126,
    "start_time": "2022-04-26T06:15:42.125Z"
   },
   {
    "duration": 93,
    "start_time": "2022-04-26T06:15:45.708Z"
   },
   {
    "duration": 111,
    "start_time": "2022-04-26T06:16:12.979Z"
   },
   {
    "duration": 2729,
    "start_time": "2022-04-26T06:16:21.737Z"
   },
   {
    "duration": 104,
    "start_time": "2022-04-26T06:16:28.059Z"
   },
   {
    "duration": 105,
    "start_time": "2022-04-26T06:19:54.542Z"
   },
   {
    "duration": 5,
    "start_time": "2022-04-26T06:26:10.357Z"
   },
   {
    "duration": 41,
    "start_time": "2022-04-26T06:26:10.364Z"
   },
   {
    "duration": 11,
    "start_time": "2022-04-26T06:26:10.406Z"
   },
   {
    "duration": 11,
    "start_time": "2022-04-26T06:26:10.419Z"
   },
   {
    "duration": 23,
    "start_time": "2022-04-26T06:26:10.432Z"
   },
   {
    "duration": 23,
    "start_time": "2022-04-26T06:26:10.456Z"
   },
   {
    "duration": 6,
    "start_time": "2022-04-26T06:26:10.481Z"
   },
   {
    "duration": 7,
    "start_time": "2022-04-26T06:26:10.489Z"
   },
   {
    "duration": 673,
    "start_time": "2022-04-26T06:26:10.497Z"
   },
   {
    "duration": 204,
    "start_time": "2022-04-26T06:26:11.172Z"
   },
   {
    "duration": 197,
    "start_time": "2022-04-26T06:26:11.379Z"
   },
   {
    "duration": 333,
    "start_time": "2022-04-26T06:26:11.577Z"
   },
   {
    "duration": 118,
    "start_time": "2022-04-26T06:26:11.912Z"
   },
   {
    "duration": 10,
    "start_time": "2022-04-26T06:26:12.047Z"
   },
   {
    "duration": 6,
    "start_time": "2022-04-26T06:26:12.059Z"
   },
   {
    "duration": 7,
    "start_time": "2022-04-26T06:26:12.066Z"
   },
   {
    "duration": 10,
    "start_time": "2022-04-26T06:26:12.074Z"
   },
   {
    "duration": 512,
    "start_time": "2022-04-26T06:26:12.086Z"
   },
   {
    "duration": 3027,
    "start_time": "2022-04-26T06:26:12.600Z"
   },
   {
    "duration": 6,
    "start_time": "2022-04-26T06:26:15.629Z"
   },
   {
    "duration": 13,
    "start_time": "2022-04-26T06:26:15.636Z"
   },
   {
    "duration": 5,
    "start_time": "2022-04-26T06:26:15.650Z"
   },
   {
    "duration": 10,
    "start_time": "2022-04-26T06:33:01.375Z"
   },
   {
    "duration": 4,
    "start_time": "2022-04-26T06:33:09.844Z"
   },
   {
    "duration": 29,
    "start_time": "2022-04-26T06:33:09.850Z"
   },
   {
    "duration": 7,
    "start_time": "2022-04-26T06:33:09.881Z"
   },
   {
    "duration": 14,
    "start_time": "2022-04-26T06:33:09.889Z"
   },
   {
    "duration": 10,
    "start_time": "2022-04-26T06:33:09.905Z"
   },
   {
    "duration": 48,
    "start_time": "2022-04-26T06:33:09.917Z"
   },
   {
    "duration": 7,
    "start_time": "2022-04-26T06:33:09.966Z"
   },
   {
    "duration": 8,
    "start_time": "2022-04-26T06:33:09.974Z"
   },
   {
    "duration": 633,
    "start_time": "2022-04-26T06:33:09.983Z"
   },
   {
    "duration": 195,
    "start_time": "2022-04-26T06:33:10.618Z"
   },
   {
    "duration": 190,
    "start_time": "2022-04-26T06:33:10.815Z"
   },
   {
    "duration": 329,
    "start_time": "2022-04-26T06:33:11.006Z"
   },
   {
    "duration": 165,
    "start_time": "2022-04-26T06:33:11.336Z"
   },
   {
    "duration": 11,
    "start_time": "2022-04-26T06:33:11.505Z"
   },
   {
    "duration": 6,
    "start_time": "2022-04-26T06:33:11.518Z"
   },
   {
    "duration": 23,
    "start_time": "2022-04-26T06:33:11.526Z"
   },
   {
    "duration": 8,
    "start_time": "2022-04-26T06:33:11.551Z"
   },
   {
    "duration": 443,
    "start_time": "2022-04-26T06:33:11.561Z"
   },
   {
    "duration": 2809,
    "start_time": "2022-04-26T06:33:12.006Z"
   },
   {
    "duration": 5,
    "start_time": "2022-04-26T06:33:14.817Z"
   },
   {
    "duration": 16,
    "start_time": "2022-04-26T06:33:14.824Z"
   },
   {
    "duration": 6,
    "start_time": "2022-04-26T06:33:14.842Z"
   },
   {
    "duration": 180,
    "start_time": "2022-04-26T06:36:38.063Z"
   },
   {
    "duration": 4,
    "start_time": "2022-04-26T06:36:54.188Z"
   },
   {
    "duration": 40,
    "start_time": "2022-04-26T06:36:54.194Z"
   },
   {
    "duration": 8,
    "start_time": "2022-04-26T06:36:54.236Z"
   },
   {
    "duration": 16,
    "start_time": "2022-04-26T06:36:54.245Z"
   },
   {
    "duration": 13,
    "start_time": "2022-04-26T06:36:54.264Z"
   },
   {
    "duration": 24,
    "start_time": "2022-04-26T06:36:54.279Z"
   },
   {
    "duration": 7,
    "start_time": "2022-04-26T06:36:54.304Z"
   },
   {
    "duration": 7,
    "start_time": "2022-04-26T06:36:54.312Z"
   },
   {
    "duration": 656,
    "start_time": "2022-04-26T06:36:54.320Z"
   },
   {
    "duration": 195,
    "start_time": "2022-04-26T06:36:54.978Z"
   },
   {
    "duration": 196,
    "start_time": "2022-04-26T06:36:55.175Z"
   },
   {
    "duration": 325,
    "start_time": "2022-04-26T06:36:55.373Z"
   },
   {
    "duration": 122,
    "start_time": "2022-04-26T06:36:55.700Z"
   },
   {
    "duration": 133,
    "start_time": "2022-04-26T06:36:55.824Z"
   },
   {
    "duration": 9,
    "start_time": "2022-04-26T06:36:55.959Z"
   },
   {
    "duration": 8,
    "start_time": "2022-04-26T06:36:55.969Z"
   },
   {
    "duration": 8,
    "start_time": "2022-04-26T06:36:55.978Z"
   },
   {
    "duration": 8,
    "start_time": "2022-04-26T06:36:55.988Z"
   },
   {
    "duration": 427,
    "start_time": "2022-04-26T06:36:55.997Z"
   },
   {
    "duration": 2908,
    "start_time": "2022-04-26T06:36:56.426Z"
   },
   {
    "duration": 7,
    "start_time": "2022-04-26T06:36:59.336Z"
   },
   {
    "duration": 17,
    "start_time": "2022-04-26T06:36:59.345Z"
   },
   {
    "duration": 6,
    "start_time": "2022-04-26T06:36:59.363Z"
   },
   {
    "duration": 4,
    "start_time": "2022-04-26T06:37:17.106Z"
   },
   {
    "duration": 28,
    "start_time": "2022-04-26T06:37:17.112Z"
   },
   {
    "duration": 7,
    "start_time": "2022-04-26T06:37:17.142Z"
   },
   {
    "duration": 12,
    "start_time": "2022-04-26T06:37:17.150Z"
   },
   {
    "duration": 13,
    "start_time": "2022-04-26T06:37:17.165Z"
   },
   {
    "duration": 25,
    "start_time": "2022-04-26T06:37:17.179Z"
   },
   {
    "duration": 7,
    "start_time": "2022-04-26T06:37:17.205Z"
   },
   {
    "duration": 36,
    "start_time": "2022-04-26T06:37:17.213Z"
   },
   {
    "duration": 741,
    "start_time": "2022-04-26T06:37:17.251Z"
   },
   {
    "duration": 208,
    "start_time": "2022-04-26T06:37:17.994Z"
   },
   {
    "duration": 206,
    "start_time": "2022-04-26T06:37:18.203Z"
   },
   {
    "duration": 484,
    "start_time": "2022-04-26T06:37:18.410Z"
   },
   {
    "duration": 146,
    "start_time": "2022-04-26T06:37:18.896Z"
   },
   {
    "duration": 211,
    "start_time": "2022-04-26T06:37:19.048Z"
   },
   {
    "duration": 10,
    "start_time": "2022-04-26T06:37:19.261Z"
   },
   {
    "duration": 7,
    "start_time": "2022-04-26T06:37:19.273Z"
   },
   {
    "duration": 6,
    "start_time": "2022-04-26T06:37:19.281Z"
   },
   {
    "duration": 9,
    "start_time": "2022-04-26T06:37:19.289Z"
   },
   {
    "duration": 474,
    "start_time": "2022-04-26T06:37:19.300Z"
   },
   {
    "duration": 2905,
    "start_time": "2022-04-26T06:37:19.776Z"
   },
   {
    "duration": 7,
    "start_time": "2022-04-26T06:37:22.683Z"
   },
   {
    "duration": 25,
    "start_time": "2022-04-26T06:37:22.692Z"
   },
   {
    "duration": 6,
    "start_time": "2022-04-26T06:37:22.718Z"
   },
   {
    "duration": 4,
    "start_time": "2022-04-26T06:37:38.619Z"
   },
   {
    "duration": 38,
    "start_time": "2022-04-26T06:37:38.625Z"
   },
   {
    "duration": 7,
    "start_time": "2022-04-26T06:37:38.665Z"
   },
   {
    "duration": 11,
    "start_time": "2022-04-26T06:37:38.673Z"
   },
   {
    "duration": 19,
    "start_time": "2022-04-26T06:37:38.686Z"
   },
   {
    "duration": 26,
    "start_time": "2022-04-26T06:37:38.707Z"
   },
   {
    "duration": 26,
    "start_time": "2022-04-26T06:37:38.735Z"
   },
   {
    "duration": 8,
    "start_time": "2022-04-26T06:37:38.763Z"
   },
   {
    "duration": 569,
    "start_time": "2022-04-26T06:37:38.773Z"
   },
   {
    "duration": 195,
    "start_time": "2022-04-26T06:37:39.343Z"
   },
   {
    "duration": 312,
    "start_time": "2022-04-26T06:37:39.539Z"
   },
   {
    "duration": 425,
    "start_time": "2022-04-26T06:37:39.852Z"
   },
   {
    "duration": 15,
    "start_time": "2022-04-26T06:37:40.279Z"
   },
   {
    "duration": 0,
    "start_time": "2022-04-26T06:37:40.296Z"
   },
   {
    "duration": 0,
    "start_time": "2022-04-26T06:37:40.297Z"
   },
   {
    "duration": 0,
    "start_time": "2022-04-26T06:37:40.299Z"
   },
   {
    "duration": 0,
    "start_time": "2022-04-26T06:37:40.300Z"
   },
   {
    "duration": 0,
    "start_time": "2022-04-26T06:37:40.301Z"
   },
   {
    "duration": 0,
    "start_time": "2022-04-26T06:37:40.302Z"
   },
   {
    "duration": 0,
    "start_time": "2022-04-26T06:37:40.303Z"
   },
   {
    "duration": 0,
    "start_time": "2022-04-26T06:37:40.305Z"
   },
   {
    "duration": 0,
    "start_time": "2022-04-26T06:37:40.306Z"
   },
   {
    "duration": 0,
    "start_time": "2022-04-26T06:37:40.307Z"
   },
   {
    "duration": 142,
    "start_time": "2022-04-26T06:38:06.343Z"
   },
   {
    "duration": 3,
    "start_time": "2022-04-26T06:38:25.043Z"
   },
   {
    "duration": 33,
    "start_time": "2022-04-26T06:38:25.048Z"
   },
   {
    "duration": 6,
    "start_time": "2022-04-26T06:38:25.083Z"
   },
   {
    "duration": 12,
    "start_time": "2022-04-26T06:38:25.091Z"
   },
   {
    "duration": 11,
    "start_time": "2022-04-26T06:38:25.105Z"
   },
   {
    "duration": 48,
    "start_time": "2022-04-26T06:38:25.117Z"
   },
   {
    "duration": 6,
    "start_time": "2022-04-26T06:38:25.167Z"
   },
   {
    "duration": 9,
    "start_time": "2022-04-26T06:38:25.175Z"
   },
   {
    "duration": 547,
    "start_time": "2022-04-26T06:38:25.186Z"
   },
   {
    "duration": 193,
    "start_time": "2022-04-26T06:38:25.735Z"
   },
   {
    "duration": 192,
    "start_time": "2022-04-26T06:38:25.929Z"
   },
   {
    "duration": 332,
    "start_time": "2022-04-26T06:38:26.122Z"
   },
   {
    "duration": 168,
    "start_time": "2022-04-26T06:38:26.456Z"
   },
   {
    "duration": 191,
    "start_time": "2022-04-26T06:38:26.627Z"
   },
   {
    "duration": 9,
    "start_time": "2022-04-26T06:38:26.820Z"
   },
   {
    "duration": 19,
    "start_time": "2022-04-26T06:38:26.831Z"
   },
   {
    "duration": 6,
    "start_time": "2022-04-26T06:38:26.852Z"
   },
   {
    "duration": 8,
    "start_time": "2022-04-26T06:38:26.860Z"
   },
   {
    "duration": 430,
    "start_time": "2022-04-26T06:38:26.870Z"
   },
   {
    "duration": 2748,
    "start_time": "2022-04-26T06:38:27.301Z"
   },
   {
    "duration": 6,
    "start_time": "2022-04-26T06:38:30.051Z"
   },
   {
    "duration": 17,
    "start_time": "2022-04-26T06:38:30.058Z"
   },
   {
    "duration": 5,
    "start_time": "2022-04-26T06:38:30.076Z"
   },
   {
    "duration": 19,
    "start_time": "2022-04-26T06:38:41.935Z"
   },
   {
    "duration": 4,
    "start_time": "2022-04-26T06:39:47.987Z"
   },
   {
    "duration": 29,
    "start_time": "2022-04-26T06:39:47.992Z"
   },
   {
    "duration": 7,
    "start_time": "2022-04-26T06:39:48.022Z"
   },
   {
    "duration": 16,
    "start_time": "2022-04-26T06:39:48.030Z"
   },
   {
    "duration": 12,
    "start_time": "2022-04-26T06:39:48.048Z"
   },
   {
    "duration": 23,
    "start_time": "2022-04-26T06:39:48.062Z"
   },
   {
    "duration": 6,
    "start_time": "2022-04-26T06:39:48.087Z"
   },
   {
    "duration": 7,
    "start_time": "2022-04-26T06:39:48.094Z"
   },
   {
    "duration": 568,
    "start_time": "2022-04-26T06:39:48.102Z"
   },
   {
    "duration": 344,
    "start_time": "2022-04-26T06:39:48.672Z"
   },
   {
    "duration": 189,
    "start_time": "2022-04-26T06:39:49.018Z"
   },
   {
    "duration": 335,
    "start_time": "2022-04-26T06:39:49.208Z"
   },
   {
    "duration": 123,
    "start_time": "2022-04-26T06:39:49.545Z"
   },
   {
    "duration": 181,
    "start_time": "2022-04-26T06:39:49.671Z"
   },
   {
    "duration": 9,
    "start_time": "2022-04-26T06:39:49.853Z"
   },
   {
    "duration": 6,
    "start_time": "2022-04-26T06:39:49.864Z"
   },
   {
    "duration": 5,
    "start_time": "2022-04-26T06:39:49.872Z"
   },
   {
    "duration": 9,
    "start_time": "2022-04-26T06:39:49.878Z"
   },
   {
    "duration": 444,
    "start_time": "2022-04-26T06:39:49.888Z"
   },
   {
    "duration": 2884,
    "start_time": "2022-04-26T06:39:50.333Z"
   },
   {
    "duration": 5,
    "start_time": "2022-04-26T06:39:53.219Z"
   },
   {
    "duration": 12,
    "start_time": "2022-04-26T06:39:53.225Z"
   },
   {
    "duration": 5,
    "start_time": "2022-04-26T06:39:53.239Z"
   },
   {
    "duration": 4,
    "start_time": "2022-04-26T06:41:44.746Z"
   },
   {
    "duration": 44,
    "start_time": "2022-04-26T06:41:44.752Z"
   },
   {
    "duration": 7,
    "start_time": "2022-04-26T06:41:44.798Z"
   },
   {
    "duration": 15,
    "start_time": "2022-04-26T06:41:44.806Z"
   },
   {
    "duration": 15,
    "start_time": "2022-04-26T06:41:44.823Z"
   },
   {
    "duration": 37,
    "start_time": "2022-04-26T06:41:44.839Z"
   },
   {
    "duration": 7,
    "start_time": "2022-04-26T06:41:44.877Z"
   },
   {
    "duration": 7,
    "start_time": "2022-04-26T06:41:44.885Z"
   },
   {
    "duration": 587,
    "start_time": "2022-04-26T06:41:44.894Z"
   },
   {
    "duration": 189,
    "start_time": "2022-04-26T06:41:45.483Z"
   },
   {
    "duration": 183,
    "start_time": "2022-04-26T06:41:45.674Z"
   },
   {
    "duration": 335,
    "start_time": "2022-04-26T06:41:45.859Z"
   },
   {
    "duration": 13,
    "start_time": "2022-04-26T06:41:46.196Z"
   },
   {
    "duration": 0,
    "start_time": "2022-04-26T06:41:46.211Z"
   },
   {
    "duration": 0,
    "start_time": "2022-04-26T06:41:46.212Z"
   },
   {
    "duration": 0,
    "start_time": "2022-04-26T06:41:46.213Z"
   },
   {
    "duration": 0,
    "start_time": "2022-04-26T06:41:46.214Z"
   },
   {
    "duration": 0,
    "start_time": "2022-04-26T06:41:46.215Z"
   },
   {
    "duration": 0,
    "start_time": "2022-04-26T06:41:46.217Z"
   },
   {
    "duration": 0,
    "start_time": "2022-04-26T06:41:46.218Z"
   },
   {
    "duration": 0,
    "start_time": "2022-04-26T06:41:46.219Z"
   },
   {
    "duration": 0,
    "start_time": "2022-04-26T06:41:46.220Z"
   },
   {
    "duration": 1,
    "start_time": "2022-04-26T06:41:46.221Z"
   },
   {
    "duration": 163,
    "start_time": "2022-04-26T06:41:58.174Z"
   },
   {
    "duration": 159,
    "start_time": "2022-04-26T06:42:01.599Z"
   },
   {
    "duration": 3,
    "start_time": "2022-04-26T06:42:25.291Z"
   },
   {
    "duration": 29,
    "start_time": "2022-04-26T06:42:25.296Z"
   },
   {
    "duration": 7,
    "start_time": "2022-04-26T06:42:25.327Z"
   },
   {
    "duration": 10,
    "start_time": "2022-04-26T06:42:25.336Z"
   },
   {
    "duration": 11,
    "start_time": "2022-04-26T06:42:25.349Z"
   },
   {
    "duration": 34,
    "start_time": "2022-04-26T06:42:25.361Z"
   },
   {
    "duration": 7,
    "start_time": "2022-04-26T06:42:25.397Z"
   },
   {
    "duration": 8,
    "start_time": "2022-04-26T06:42:25.406Z"
   },
   {
    "duration": 813,
    "start_time": "2022-04-26T06:42:25.416Z"
   },
   {
    "duration": 274,
    "start_time": "2022-04-26T06:42:26.231Z"
   },
   {
    "duration": 470,
    "start_time": "2022-04-26T06:42:26.507Z"
   },
   {
    "duration": 476,
    "start_time": "2022-04-26T06:42:26.979Z"
   },
   {
    "duration": 163,
    "start_time": "2022-04-26T06:42:27.457Z"
   },
   {
    "duration": 246,
    "start_time": "2022-04-26T06:42:27.623Z"
   },
   {
    "duration": 12,
    "start_time": "2022-04-26T06:42:27.871Z"
   },
   {
    "duration": 7,
    "start_time": "2022-04-26T06:42:27.884Z"
   },
   {
    "duration": 6,
    "start_time": "2022-04-26T06:42:27.893Z"
   },
   {
    "duration": 9,
    "start_time": "2022-04-26T06:42:27.901Z"
   },
   {
    "duration": 553,
    "start_time": "2022-04-26T06:42:27.911Z"
   },
   {
    "duration": 2787,
    "start_time": "2022-04-26T06:42:28.466Z"
   },
   {
    "duration": 6,
    "start_time": "2022-04-26T06:42:31.255Z"
   },
   {
    "duration": 14,
    "start_time": "2022-04-26T06:42:31.263Z"
   },
   {
    "duration": 7,
    "start_time": "2022-04-26T06:42:31.280Z"
   },
   {
    "duration": 22,
    "start_time": "2022-04-26T06:43:03.959Z"
   },
   {
    "duration": 3,
    "start_time": "2022-04-26T06:43:06.411Z"
   },
   {
    "duration": 28,
    "start_time": "2022-04-26T06:43:06.416Z"
   },
   {
    "duration": 7,
    "start_time": "2022-04-26T06:43:06.446Z"
   },
   {
    "duration": 15,
    "start_time": "2022-04-26T06:43:06.455Z"
   },
   {
    "duration": 14,
    "start_time": "2022-04-26T06:43:06.472Z"
   },
   {
    "duration": 24,
    "start_time": "2022-04-26T06:43:06.488Z"
   },
   {
    "duration": 6,
    "start_time": "2022-04-26T06:43:06.514Z"
   },
   {
    "duration": 6,
    "start_time": "2022-04-26T06:43:06.548Z"
   },
   {
    "duration": 571,
    "start_time": "2022-04-26T06:43:06.556Z"
   },
   {
    "duration": 194,
    "start_time": "2022-04-26T06:43:07.128Z"
   },
   {
    "duration": 193,
    "start_time": "2022-04-26T06:43:07.323Z"
   },
   {
    "duration": 334,
    "start_time": "2022-04-26T06:43:07.518Z"
   },
   {
    "duration": 124,
    "start_time": "2022-04-26T06:43:07.853Z"
   },
   {
    "duration": 239,
    "start_time": "2022-04-26T06:43:07.979Z"
   },
   {
    "duration": 9,
    "start_time": "2022-04-26T06:43:08.219Z"
   },
   {
    "duration": 20,
    "start_time": "2022-04-26T06:43:08.230Z"
   },
   {
    "duration": 6,
    "start_time": "2022-04-26T06:43:08.252Z"
   },
   {
    "duration": 8,
    "start_time": "2022-04-26T06:43:08.260Z"
   },
   {
    "duration": 454,
    "start_time": "2022-04-26T06:43:08.270Z"
   },
   {
    "duration": 2960,
    "start_time": "2022-04-26T06:43:08.725Z"
   },
   {
    "duration": 7,
    "start_time": "2022-04-26T06:43:11.687Z"
   },
   {
    "duration": 16,
    "start_time": "2022-04-26T06:43:11.696Z"
   },
   {
    "duration": 6,
    "start_time": "2022-04-26T06:43:11.713Z"
   },
   {
    "duration": 4,
    "start_time": "2022-04-26T06:43:20.331Z"
   },
   {
    "duration": 39,
    "start_time": "2022-04-26T06:43:20.337Z"
   },
   {
    "duration": 8,
    "start_time": "2022-04-26T06:43:20.377Z"
   },
   {
    "duration": 14,
    "start_time": "2022-04-26T06:43:20.387Z"
   },
   {
    "duration": 13,
    "start_time": "2022-04-26T06:43:20.404Z"
   },
   {
    "duration": 51,
    "start_time": "2022-04-26T06:43:20.419Z"
   },
   {
    "duration": 7,
    "start_time": "2022-04-26T06:43:20.472Z"
   },
   {
    "duration": 9,
    "start_time": "2022-04-26T06:43:20.481Z"
   },
   {
    "duration": 572,
    "start_time": "2022-04-26T06:43:20.492Z"
   },
   {
    "duration": 204,
    "start_time": "2022-04-26T06:43:21.065Z"
   },
   {
    "duration": 208,
    "start_time": "2022-04-26T06:43:21.270Z"
   },
   {
    "duration": 339,
    "start_time": "2022-04-26T06:43:21.480Z"
   },
   {
    "duration": 134,
    "start_time": "2022-04-26T06:43:21.820Z"
   },
   {
    "duration": 175,
    "start_time": "2022-04-26T06:43:21.957Z"
   },
   {
    "duration": 18,
    "start_time": "2022-04-26T06:43:22.134Z"
   },
   {
    "duration": 7,
    "start_time": "2022-04-26T06:43:22.155Z"
   },
   {
    "duration": 13,
    "start_time": "2022-04-26T06:43:22.164Z"
   },
   {
    "duration": 8,
    "start_time": "2022-04-26T06:43:22.179Z"
   },
   {
    "duration": 451,
    "start_time": "2022-04-26T06:43:22.190Z"
   },
   {
    "duration": 2970,
    "start_time": "2022-04-26T06:43:22.642Z"
   },
   {
    "duration": 8,
    "start_time": "2022-04-26T06:43:25.614Z"
   },
   {
    "duration": 18,
    "start_time": "2022-04-26T06:43:25.623Z"
   },
   {
    "duration": 9,
    "start_time": "2022-04-26T06:43:25.643Z"
   },
   {
    "duration": 9,
    "start_time": "2022-04-26T07:01:18.265Z"
   },
   {
    "duration": 9,
    "start_time": "2022-04-26T07:01:26.645Z"
   },
   {
    "duration": 6,
    "start_time": "2022-04-26T07:01:45.773Z"
   },
   {
    "duration": 195,
    "start_time": "2022-04-26T07:03:45.445Z"
   },
   {
    "duration": 110,
    "start_time": "2022-04-26T07:04:59.421Z"
   },
   {
    "duration": 470,
    "start_time": "2022-04-26T07:05:08.781Z"
   },
   {
    "duration": 184,
    "start_time": "2022-04-26T07:06:06.397Z"
   },
   {
    "duration": 303,
    "start_time": "2022-04-26T07:06:19.060Z"
   },
   {
    "duration": 214,
    "start_time": "2022-04-26T07:06:27.253Z"
   },
   {
    "duration": 199,
    "start_time": "2022-04-26T07:11:07.125Z"
   }
  ],
  "kernelspec": {
   "display_name": "Python 3 (ipykernel)",
   "language": "python",
   "name": "python3"
  },
  "language_info": {
   "codemirror_mode": {
    "name": "ipython",
    "version": 3
   },
   "file_extension": ".py",
   "mimetype": "text/x-python",
   "name": "python",
   "nbconvert_exporter": "python",
   "pygments_lexer": "ipython3",
   "version": "3.9.7"
  },
  "toc": {
   "base_numbering": 1,
   "nav_menu": {},
   "number_sections": true,
   "sideBar": true,
   "skip_h1_title": true,
   "title_cell": "Содержание",
   "title_sidebar": "Contents",
   "toc_cell": true,
   "toc_position": {},
   "toc_section_display": true,
   "toc_window_display": true
  }
 },
 "nbformat": 4,
 "nbformat_minor": 2
}
