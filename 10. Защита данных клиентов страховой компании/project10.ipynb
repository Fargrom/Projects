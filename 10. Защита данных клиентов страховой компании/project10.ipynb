{
 "cells": [
  {
   "cell_type": "markdown",
   "metadata": {},
   "source": [
    "# Защита персональных данных клиентов"
   ]
  },
  {
   "cell_type": "markdown",
   "metadata": {},
   "source": [
    "Вам нужно защитить данные клиентов страховой компании «Хоть потоп». Разработайте такой метод преобразования данных, чтобы по ним было сложно восстановить персональную информацию. Обоснуйте корректность его работы.\n",
    "\n",
    "Нужно защитить данные, чтобы при преобразовании качество моделей машинного обучения не ухудшилось. Подбирать наилучшую модель не требуется."
   ]
  },
  {
   "cell_type": "markdown",
   "metadata": {},
   "source": [
    "## Загрузка данных"
   ]
  },
  {
   "cell_type": "code",
   "execution_count": 2,
   "metadata": {},
   "outputs": [],
   "source": [
    "#загружаем библиотеки\n",
    "import pandas as pd\n",
    "import numpy as np\n",
    "from sklearn.linear_model import LinearRegression"
   ]
  },
  {
   "cell_type": "code",
   "execution_count": 3,
   "metadata": {},
   "outputs": [],
   "source": [
    "#загружаем файл\n",
    "data=pd.read_csv('/datasets/insurance.csv')"
   ]
  },
  {
   "cell_type": "code",
   "execution_count": 4,
   "metadata": {},
   "outputs": [
    {
     "data": {
      "text/html": [
       "<div>\n",
       "<style scoped>\n",
       "    .dataframe tbody tr th:only-of-type {\n",
       "        vertical-align: middle;\n",
       "    }\n",
       "\n",
       "    .dataframe tbody tr th {\n",
       "        vertical-align: top;\n",
       "    }\n",
       "\n",
       "    .dataframe thead th {\n",
       "        text-align: right;\n",
       "    }\n",
       "</style>\n",
       "<table border=\"1\" class=\"dataframe\">\n",
       "  <thead>\n",
       "    <tr style=\"text-align: right;\">\n",
       "      <th></th>\n",
       "      <th>Пол</th>\n",
       "      <th>Возраст</th>\n",
       "      <th>Зарплата</th>\n",
       "      <th>Члены семьи</th>\n",
       "      <th>Страховые выплаты</th>\n",
       "    </tr>\n",
       "  </thead>\n",
       "  <tbody>\n",
       "    <tr>\n",
       "      <th>0</th>\n",
       "      <td>1</td>\n",
       "      <td>41.0</td>\n",
       "      <td>49600.0</td>\n",
       "      <td>1</td>\n",
       "      <td>0</td>\n",
       "    </tr>\n",
       "    <tr>\n",
       "      <th>1</th>\n",
       "      <td>0</td>\n",
       "      <td>46.0</td>\n",
       "      <td>38000.0</td>\n",
       "      <td>1</td>\n",
       "      <td>1</td>\n",
       "    </tr>\n",
       "    <tr>\n",
       "      <th>2</th>\n",
       "      <td>0</td>\n",
       "      <td>29.0</td>\n",
       "      <td>21000.0</td>\n",
       "      <td>0</td>\n",
       "      <td>0</td>\n",
       "    </tr>\n",
       "    <tr>\n",
       "      <th>3</th>\n",
       "      <td>0</td>\n",
       "      <td>21.0</td>\n",
       "      <td>41700.0</td>\n",
       "      <td>2</td>\n",
       "      <td>0</td>\n",
       "    </tr>\n",
       "    <tr>\n",
       "      <th>4</th>\n",
       "      <td>1</td>\n",
       "      <td>28.0</td>\n",
       "      <td>26100.0</td>\n",
       "      <td>0</td>\n",
       "      <td>0</td>\n",
       "    </tr>\n",
       "  </tbody>\n",
       "</table>\n",
       "</div>"
      ],
      "text/plain": [
       "   Пол  Возраст  Зарплата  Члены семьи  Страховые выплаты\n",
       "0    1     41.0   49600.0            1                  0\n",
       "1    0     46.0   38000.0            1                  1\n",
       "2    0     29.0   21000.0            0                  0\n",
       "3    0     21.0   41700.0            2                  0\n",
       "4    1     28.0   26100.0            0                  0"
      ]
     },
     "execution_count": 4,
     "metadata": {},
     "output_type": "execute_result"
    }
   ],
   "source": [
    "data.head()"
   ]
  },
  {
   "cell_type": "code",
   "execution_count": 5,
   "metadata": {},
   "outputs": [
    {
     "name": "stdout",
     "output_type": "stream",
     "text": [
      "<class 'pandas.core.frame.DataFrame'>\n",
      "RangeIndex: 5000 entries, 0 to 4999\n",
      "Data columns (total 5 columns):\n",
      " #   Column             Non-Null Count  Dtype  \n",
      "---  ------             --------------  -----  \n",
      " 0   Пол                5000 non-null   int64  \n",
      " 1   Возраст            5000 non-null   float64\n",
      " 2   Зарплата           5000 non-null   float64\n",
      " 3   Члены семьи        5000 non-null   int64  \n",
      " 4   Страховые выплаты  5000 non-null   int64  \n",
      "dtypes: float64(2), int64(3)\n",
      "memory usage: 195.4 KB\n"
     ]
    }
   ],
   "source": [
    "data.info()"
   ]
  },
  {
   "cell_type": "markdown",
   "metadata": {},
   "source": [
    "Данные представлены в удобном формате, пропусков нет, предобработки не требуется."
   ]
  },
  {
   "cell_type": "code",
   "execution_count": 6,
   "metadata": {},
   "outputs": [],
   "source": [
    "# разделим целевой признак и признаки\n",
    "target = data['Страховые выплаты']\n",
    "features = data.drop('Страховые выплаты', axis=1)"
   ]
  },
  {
   "cell_type": "markdown",
   "metadata": {},
   "source": [
    "## Умножение матриц"
   ]
  },
  {
   "cell_type": "markdown",
   "metadata": {},
   "source": [
    "Обозначения:\n",
    "\n",
    "- $X$ — матрица признаков (нулевой столбец состоит из единиц)\n",
    "\n",
    "- $y$ — вектор целевого признака\n",
    "\n",
    "- $P$ — матрица, на которую умножаются признаки\n",
    "\n",
    "- $w$ — вектор весов линейной регрессии (нулевой элемент равен сдвигу)"
   ]
  },
  {
   "cell_type": "markdown",
   "metadata": {},
   "source": [
    "Предсказания:\n",
    "\n",
    "$$\n",
    "a = Xw\n",
    "$$\n",
    "\n",
    "Задача обучения:\n",
    "\n",
    "$$\n",
    "w = \\arg\\min_w MSE(Xw, y)\n",
    "$$\n",
    "\n",
    "Формула обучения:\n",
    "\n",
    "$$\n",
    "w = (X^T X)^{-1} X^T y\n",
    "$$"
   ]
  },
  {
   "cell_type": "code",
   "execution_count": 31,
   "metadata": {},
   "outputs": [
    {
     "name": "stdout",
     "output_type": "stream",
     "text": [
      "[3.29718712 1.35507542 3.1112923  2.71667346 2.67672238 0.84304933]\n"
     ]
    }
   ],
   "source": [
    "# создадим матрицу\n",
    "X = np.array([[1,5,6,3],\n",
    "             [1,1,1,2],\n",
    "             [1,2,2,4],\n",
    "            [1,4,2,2],\n",
    "            [1,5,1,1],\n",
    "             [1,2,3,1]]\n",
    "            )\n",
    "\n",
    "P=np.array([[5,2,2,2],\n",
    "             [1,1,1,1],\n",
    "             [3,4,2,3],\n",
    "           [2,3,1,1]])\n",
    "\n",
    "# проверка обратимости (питон выдаст ошибку если необратимая)\n",
    "invert = np.linalg.inv(P)\n",
    "\n",
    "#зададим величину сдвига/целевой признак\n",
    "y=np.array([3,1,3,4,2,1])\n",
    "\n",
    "#найдем вектора весов исходной\n",
    "w=np.linalg.inv(X.T@X)@X.T@y\n",
    "\n",
    "print(X@w)"
   ]
  },
  {
   "cell_type": "code",
   "execution_count": 32,
   "metadata": {},
   "outputs": [
    {
     "name": "stdout",
     "output_type": "stream",
     "text": [
      "[3.29718712 1.35507542 3.1112923  2.71667346 2.67672238 0.84304933]\n"
     ]
    }
   ],
   "source": [
    "#найдем вектор весов для матрицы помноженной на обратную\n",
    "XP=X@P\n",
    "w_n=np.linalg.inv(XP.T@XP)@XP.T@y\n",
    "print(XP@w_n)"
   ]
  },
  {
   "cell_type": "markdown",
   "metadata": {},
   "source": [
    "**Ответ:** Если исходную матрицу умножать на обратимую качество модели линейной регрессии не изменится.\n",
    "\n",
    "**Обоснование:** Выше представлены примеры, показывают при перемножении исходной матрицы X на случайную обратную матрицу P, предсказания модели остануться неизменными. Матрица XP будет иметь свой вектор весов, который учтем изменные признаки и выдаст аналогичное предсказание.$$a =Xw =XPw_n$$"
   ]
  },
  {
   "cell_type": "markdown",
   "metadata": {},
   "source": [
    "## Алгоритм преобразования"
   ]
  },
  {
   "cell_type": "markdown",
   "metadata": {},
   "source": [
    "**Алгоритм**\n",
    "\n",
    "- $F$ — матрица признаков \n",
    "\n",
    "- $y$ — вектор целевого признака\n",
    "\n",
    "- $w$ — вектор весов линейной регрессии \n",
    "\n",
    "- $F'$ — помноженная матрица признаков F (на случайную обратимую матрицу P)\n",
    "\n",
    "- $a'$ — предсказания помноженной матрицы\n",
    "\n",
    "- $w'$ — вектор весов в случае помноженной матрицы\n",
    "\n"
   ]
  },
  {
   "cell_type": "markdown",
   "metadata": {},
   "source": [
    "Алгоритм будет заключаться в том чтобы перемножать матрицу признаков на случайную обратимую матрицу, что позволит защищитить данные и не изменит качества модели линейной регрессии.\n",
    "\n",
    "$$a=Fw=a'=F'w'$$\n",
    "\n"
   ]
  },
  {
   "cell_type": "markdown",
   "metadata": {},
   "source": [
    "**Обоснование**\n",
    "\n",
    "Раскладываем формулу вектора с помощью $(AB)^{-1} = B^{-1}A^{-1}$ и $(AB)^{T} = B^TA^T$:\n",
    "\n",
    "Рассмотрим новый вектор весов и через него выделим алгоритм:\n",
    "$$w'= ((FP)^T FP)^{-1} FP^T y = P^{-1} (F^T F)^{-1} (P^T)^{-1} P^TF^Ty$$\n",
    "\n",
    "Транспонированая матрица P^T при умножении (P^T)^{-1} даст единицу убираем их из формулы:\n",
    "$$P^{-1} (F^TF)^{-1}  F^T y$$\n",
    "    \n",
    "Если в эту формулу подставить обычный вектор то у нас выходит:\n",
    "$$P^{-1}(F^T F)^{-1} F^T y = P^{-1}w$$\n",
    "\n",
    "Теперь подставим в формулу предсказания:\n",
    "$$a'= F'P^{-1}w= FPP^{-1}w =Fw$$\n",
    "    \n"
   ]
  },
  {
   "cell_type": "markdown",
   "metadata": {},
   "source": [
    "## Проверка алгоритма"
   ]
  },
  {
   "cell_type": "code",
   "execution_count": 9,
   "metadata": {},
   "outputs": [
    {
     "name": "stdout",
     "output_type": "stream",
     "text": [
      "0.42494550286668\n"
     ]
    }
   ],
   "source": [
    "# проверяем алгоритм на моделе линейной регрессии сначала по исходным данным посчитаем метрику r2\n",
    "model = LinearRegression()\n",
    "model.fit(features,target)\n",
    "print(model.score(features,target))"
   ]
  },
  {
   "cell_type": "markdown",
   "metadata": {},
   "source": [
    "Метрика r2 модели на исходных данных. Проверим на измененных признаках."
   ]
  },
  {
   "cell_type": "code",
   "execution_count": 10,
   "metadata": {},
   "outputs": [
    {
     "data": {
      "text/html": [
       "<div>\n",
       "<style scoped>\n",
       "    .dataframe tbody tr th:only-of-type {\n",
       "        vertical-align: middle;\n",
       "    }\n",
       "\n",
       "    .dataframe tbody tr th {\n",
       "        vertical-align: top;\n",
       "    }\n",
       "\n",
       "    .dataframe thead th {\n",
       "        text-align: right;\n",
       "    }\n",
       "</style>\n",
       "<table border=\"1\" class=\"dataframe\">\n",
       "  <thead>\n",
       "    <tr style=\"text-align: right;\">\n",
       "      <th></th>\n",
       "      <th>0</th>\n",
       "      <th>1</th>\n",
       "      <th>2</th>\n",
       "      <th>3</th>\n",
       "    </tr>\n",
       "  </thead>\n",
       "  <tbody>\n",
       "    <tr>\n",
       "      <th>0</th>\n",
       "      <td>4167370.0</td>\n",
       "      <td>2728186.0</td>\n",
       "      <td>1538478.0</td>\n",
       "      <td>4567234.0</td>\n",
       "    </tr>\n",
       "    <tr>\n",
       "      <th>1</th>\n",
       "      <td>3192989.0</td>\n",
       "      <td>2090149.0</td>\n",
       "      <td>1178963.0</td>\n",
       "      <td>3500491.0</td>\n",
       "    </tr>\n",
       "    <tr>\n",
       "      <th>2</th>\n",
       "      <td>1764609.0</td>\n",
       "      <td>1155058.0</td>\n",
       "      <td>651580.0</td>\n",
       "      <td>1934784.0</td>\n",
       "    </tr>\n",
       "    <tr>\n",
       "      <th>3</th>\n",
       "      <td>3503287.0</td>\n",
       "      <td>2293656.0</td>\n",
       "      <td>1293206.0</td>\n",
       "      <td>3838566.0</td>\n",
       "    </tr>\n",
       "    <tr>\n",
       "      <th>4</th>\n",
       "      <td>2193074.0</td>\n",
       "      <td>1435603.0</td>\n",
       "      <td>809675.0</td>\n",
       "      <td>2403911.0</td>\n",
       "    </tr>\n",
       "    <tr>\n",
       "      <th>...</th>\n",
       "      <td>...</td>\n",
       "      <td>...</td>\n",
       "      <td>...</td>\n",
       "      <td>...</td>\n",
       "    </tr>\n",
       "    <tr>\n",
       "      <th>4995</th>\n",
       "      <td>2999434.0</td>\n",
       "      <td>1963670.0</td>\n",
       "      <td>1107346.0</td>\n",
       "      <td>3287238.0</td>\n",
       "    </tr>\n",
       "    <tr>\n",
       "      <th>4996</th>\n",
       "      <td>4402337.0</td>\n",
       "      <td>2882125.0</td>\n",
       "      <td>1625123.0</td>\n",
       "      <td>4824139.0</td>\n",
       "    </tr>\n",
       "    <tr>\n",
       "      <th>4997</th>\n",
       "      <td>2848066.0</td>\n",
       "      <td>1864654.0</td>\n",
       "      <td>1051386.0</td>\n",
       "      <td>3120870.0</td>\n",
       "    </tr>\n",
       "    <tr>\n",
       "      <th>4998</th>\n",
       "      <td>2747417.0</td>\n",
       "      <td>1798762.0</td>\n",
       "      <td>1014284.0</td>\n",
       "      <td>3010760.0</td>\n",
       "    </tr>\n",
       "    <tr>\n",
       "      <th>4999</th>\n",
       "      <td>3411097.0</td>\n",
       "      <td>2233160.0</td>\n",
       "      <td>1259218.0</td>\n",
       "      <td>3737986.0</td>\n",
       "    </tr>\n",
       "  </tbody>\n",
       "</table>\n",
       "<p>5000 rows × 4 columns</p>\n",
       "</div>"
      ],
      "text/plain": [
       "              0          1          2          3\n",
       "0     4167370.0  2728186.0  1538478.0  4567234.0\n",
       "1     3192989.0  2090149.0  1178963.0  3500491.0\n",
       "2     1764609.0  1155058.0   651580.0  1934784.0\n",
       "3     3503287.0  2293656.0  1293206.0  3838566.0\n",
       "4     2193074.0  1435603.0   809675.0  2403911.0\n",
       "...         ...        ...        ...        ...\n",
       "4995  2999434.0  1963670.0  1107346.0  3287238.0\n",
       "4996  4402337.0  2882125.0  1625123.0  4824139.0\n",
       "4997  2848066.0  1864654.0  1051386.0  3120870.0\n",
       "4998  2747417.0  1798762.0  1014284.0  3010760.0\n",
       "4999  3411097.0  2233160.0  1259218.0  3737986.0\n",
       "\n",
       "[5000 rows x 4 columns]"
      ]
     },
     "execution_count": 10,
     "metadata": {},
     "output_type": "execute_result"
    }
   ],
   "source": [
    "#создадим матрицу размера признаков из случайных чисел и перемножим\n",
    "P=np.random.randint(1,100, size = (4, 4))\n",
    "new_features=features@P\n",
    "new_features"
   ]
  },
  {
   "cell_type": "code",
   "execution_count": 11,
   "metadata": {},
   "outputs": [
    {
     "name": "stdout",
     "output_type": "stream",
     "text": [
      "0.4249455028666468\n"
     ]
    }
   ],
   "source": [
    "model.fit(new_features,target)\n",
    "print(model.score(new_features,target))"
   ]
  },
  {
   "cell_type": "markdown",
   "metadata": {},
   "source": [
    "Алгоритм реализован и полностью себе оправдал. Метрики вышли одинаковые в обоих случаях. Умножение на рандомную обратимую матрицу помогло скрыть данные клиентов и в тоже время сохранить корректность работы модели."
   ]
  }
 ],
 "metadata": {
  "ExecuteTimeLog": [
   {
    "duration": 440,
    "start_time": "2022-03-29T08:52:03.922Z"
   },
   {
    "duration": 3,
    "start_time": "2022-03-29T08:52:15.401Z"
   },
   {
    "duration": 18,
    "start_time": "2022-03-29T08:52:47.487Z"
   },
   {
    "duration": 13,
    "start_time": "2022-03-29T08:52:56.632Z"
   },
   {
    "duration": 15,
    "start_time": "2022-03-29T08:53:09.872Z"
   },
   {
    "duration": 79,
    "start_time": "2022-03-29T08:59:30.211Z"
   },
   {
    "duration": 5,
    "start_time": "2022-03-29T09:00:33.056Z"
   },
   {
    "duration": 6,
    "start_time": "2022-03-29T09:21:36.231Z"
   },
   {
    "duration": 7,
    "start_time": "2022-03-29T09:21:46.550Z"
   },
   {
    "duration": 5,
    "start_time": "2022-03-29T09:22:33.998Z"
   },
   {
    "duration": 5,
    "start_time": "2022-03-29T09:22:49.918Z"
   },
   {
    "duration": 5,
    "start_time": "2022-03-29T09:31:39.745Z"
   },
   {
    "duration": 6,
    "start_time": "2022-03-29T09:31:44.325Z"
   },
   {
    "duration": 2,
    "start_time": "2022-03-29T09:32:42.621Z"
   },
   {
    "duration": 4,
    "start_time": "2022-03-29T09:33:12.501Z"
   },
   {
    "duration": 6,
    "start_time": "2022-03-29T09:33:55.629Z"
   },
   {
    "duration": 7,
    "start_time": "2022-03-29T09:33:56.508Z"
   },
   {
    "duration": 3,
    "start_time": "2022-03-29T09:34:01.301Z"
   },
   {
    "duration": 4,
    "start_time": "2022-03-29T09:34:04.828Z"
   },
   {
    "duration": 5,
    "start_time": "2022-03-29T09:34:10.357Z"
   },
   {
    "duration": 4,
    "start_time": "2022-03-29T09:34:23.828Z"
   },
   {
    "duration": 6,
    "start_time": "2022-03-29T09:34:38.744Z"
   },
   {
    "duration": 5,
    "start_time": "2022-03-29T09:34:39.412Z"
   },
   {
    "duration": 5,
    "start_time": "2022-03-29T09:34:46.228Z"
   },
   {
    "duration": 6,
    "start_time": "2022-03-29T09:34:48.132Z"
   },
   {
    "duration": 260,
    "start_time": "2022-03-29T09:41:32.188Z"
   },
   {
    "duration": 6,
    "start_time": "2022-03-29T09:41:50.744Z"
   },
   {
    "duration": 10,
    "start_time": "2022-03-29T09:42:01.435Z"
   },
   {
    "duration": 6,
    "start_time": "2022-03-29T09:42:02.291Z"
   },
   {
    "duration": 5,
    "start_time": "2022-03-29T09:42:26.062Z"
   },
   {
    "duration": 4,
    "start_time": "2022-03-29T09:42:27.308Z"
   },
   {
    "duration": 5,
    "start_time": "2022-03-29T09:42:56.344Z"
   },
   {
    "duration": 5,
    "start_time": "2022-03-29T09:43:10.147Z"
   },
   {
    "duration": 3,
    "start_time": "2022-03-29T09:43:35.779Z"
   },
   {
    "duration": 4,
    "start_time": "2022-03-29T09:43:44.344Z"
   },
   {
    "duration": 4,
    "start_time": "2022-03-29T09:43:49.426Z"
   },
   {
    "duration": 5,
    "start_time": "2022-03-29T09:44:03.188Z"
   },
   {
    "duration": 6,
    "start_time": "2022-03-29T09:44:35.575Z"
   },
   {
    "duration": 6,
    "start_time": "2022-03-29T09:44:49.545Z"
   },
   {
    "duration": 4,
    "start_time": "2022-03-29T09:45:25.796Z"
   },
   {
    "duration": 223,
    "start_time": "2022-03-29T09:51:16.283Z"
   },
   {
    "duration": 200,
    "start_time": "2022-03-29T09:52:15.171Z"
   },
   {
    "duration": 7,
    "start_time": "2022-03-29T09:52:45.571Z"
   },
   {
    "duration": 5,
    "start_time": "2022-03-29T09:52:50.744Z"
   },
   {
    "duration": 177,
    "start_time": "2022-03-29T09:53:10.444Z"
   },
   {
    "duration": 199,
    "start_time": "2022-03-29T09:53:22.370Z"
   },
   {
    "duration": 179,
    "start_time": "2022-03-29T09:53:38.542Z"
   },
   {
    "duration": 177,
    "start_time": "2022-03-29T09:54:05.778Z"
   },
   {
    "duration": 5,
    "start_time": "2022-03-29T09:55:24.074Z"
   },
   {
    "duration": 7,
    "start_time": "2022-03-29T09:55:30.177Z"
   },
   {
    "duration": 6,
    "start_time": "2022-03-29T09:55:48.458Z"
   },
   {
    "duration": 180,
    "start_time": "2022-03-29T09:56:01.074Z"
   },
   {
    "duration": 73,
    "start_time": "2022-03-29T10:01:10.447Z"
   },
   {
    "duration": 528,
    "start_time": "2022-03-29T10:01:25.169Z"
   },
   {
    "duration": 22,
    "start_time": "2022-03-29T10:01:25.700Z"
   },
   {
    "duration": 29,
    "start_time": "2022-03-29T10:01:25.724Z"
   },
   {
    "duration": 16,
    "start_time": "2022-03-29T10:01:25.755Z"
   },
   {
    "duration": 18,
    "start_time": "2022-03-29T10:01:25.774Z"
   },
   {
    "duration": 23,
    "start_time": "2022-03-29T10:01:25.794Z"
   },
   {
    "duration": 18,
    "start_time": "2022-03-29T10:01:25.820Z"
   },
   {
    "duration": 274,
    "start_time": "2022-03-29T10:01:25.840Z"
   },
   {
    "duration": 7,
    "start_time": "2022-03-29T10:02:13.742Z"
   },
   {
    "duration": 67,
    "start_time": "2022-03-29T10:02:45.717Z"
   },
   {
    "duration": 119,
    "start_time": "2022-03-29T10:02:58.165Z"
   },
   {
    "duration": 17,
    "start_time": "2022-03-29T10:03:20.157Z"
   },
   {
    "duration": 119,
    "start_time": "2022-03-29T10:04:25.265Z"
   },
   {
    "duration": 58,
    "start_time": "2022-03-29T10:04:34.229Z"
   },
   {
    "duration": 147,
    "start_time": "2022-03-29T10:04:58.605Z"
   },
   {
    "duration": 20,
    "start_time": "2022-03-29T10:05:48.262Z"
   },
   {
    "duration": 11,
    "start_time": "2022-03-29T10:08:44.293Z"
   },
   {
    "duration": 6,
    "start_time": "2022-03-29T10:08:53.036Z"
   },
   {
    "duration": 6,
    "start_time": "2022-03-29T10:09:06.487Z"
   },
   {
    "duration": 3,
    "start_time": "2022-03-29T10:09:17.485Z"
   },
   {
    "duration": 5,
    "start_time": "2022-03-29T10:09:28.437Z"
   },
   {
    "duration": 151,
    "start_time": "2022-03-29T10:09:53.733Z"
   },
   {
    "duration": 17,
    "start_time": "2022-03-29T10:10:18.149Z"
   },
   {
    "duration": 8,
    "start_time": "2022-03-29T10:10:28.933Z"
   },
   {
    "duration": 5,
    "start_time": "2022-03-29T10:10:46.148Z"
   },
   {
    "duration": 60,
    "start_time": "2022-03-29T10:10:46.724Z"
   },
   {
    "duration": 13,
    "start_time": "2022-03-29T10:11:06.845Z"
   },
   {
    "duration": 8,
    "start_time": "2022-03-29T10:11:12.956Z"
   },
   {
    "duration": 9,
    "start_time": "2022-03-29T10:11:37.380Z"
   },
   {
    "duration": 9,
    "start_time": "2022-03-29T10:11:57.740Z"
   },
   {
    "duration": 19,
    "start_time": "2022-03-29T10:11:59.628Z"
   },
   {
    "duration": 12,
    "start_time": "2022-03-29T10:12:01.517Z"
   },
   {
    "duration": 18,
    "start_time": "2022-03-29T10:14:25.933Z"
   },
   {
    "duration": 14,
    "start_time": "2022-03-29T10:15:16.548Z"
   },
   {
    "duration": 7,
    "start_time": "2022-03-29T10:17:28.062Z"
   },
   {
    "duration": 7,
    "start_time": "2022-03-29T10:17:28.547Z"
   },
   {
    "duration": 7,
    "start_time": "2022-03-29T10:24:27.444Z"
   },
   {
    "duration": 6,
    "start_time": "2022-03-29T10:24:28.403Z"
   },
   {
    "duration": 6,
    "start_time": "2022-03-29T10:30:25.368Z"
   },
   {
    "duration": 13,
    "start_time": "2022-03-29T10:36:55.945Z"
   },
   {
    "duration": 13,
    "start_time": "2022-03-29T10:36:58.906Z"
   },
   {
    "duration": 7,
    "start_time": "2022-03-29T10:37:16.889Z"
   },
   {
    "duration": 16,
    "start_time": "2022-03-29T10:37:31.204Z"
   },
   {
    "duration": 11,
    "start_time": "2022-03-29T10:39:07.474Z"
   },
   {
    "duration": 147,
    "start_time": "2022-03-29T10:40:39.977Z"
   },
   {
    "duration": 14,
    "start_time": "2022-03-29T10:41:11.337Z"
   },
   {
    "duration": 17,
    "start_time": "2022-03-29T10:41:14.185Z"
   },
   {
    "duration": 20,
    "start_time": "2022-03-29T10:42:16.201Z"
   },
   {
    "duration": 11,
    "start_time": "2022-03-29T10:42:21.705Z"
   },
   {
    "duration": 13,
    "start_time": "2022-03-29T10:42:29.033Z"
   },
   {
    "duration": 10,
    "start_time": "2022-03-29T10:42:32.889Z"
   },
   {
    "duration": 10,
    "start_time": "2022-03-29T10:42:44.297Z"
   },
   {
    "duration": 11,
    "start_time": "2022-03-29T10:43:42.730Z"
   },
   {
    "duration": 11,
    "start_time": "2022-03-29T10:44:03.561Z"
   },
   {
    "duration": 168,
    "start_time": "2022-03-29T10:44:12.632Z"
   },
   {
    "duration": 11,
    "start_time": "2022-03-29T10:44:38.760Z"
   },
   {
    "duration": 11,
    "start_time": "2022-03-29T10:44:40.825Z"
   },
   {
    "duration": 191,
    "start_time": "2022-03-29T10:44:55.897Z"
   },
   {
    "duration": 6,
    "start_time": "2022-03-29T10:45:16.177Z"
   },
   {
    "duration": 8,
    "start_time": "2022-03-29T10:45:35.608Z"
   },
   {
    "duration": 545,
    "start_time": "2022-03-29T12:33:04.456Z"
   },
   {
    "duration": 15,
    "start_time": "2022-03-29T12:33:05.004Z"
   },
   {
    "duration": 24,
    "start_time": "2022-03-29T12:33:05.021Z"
   },
   {
    "duration": 37,
    "start_time": "2022-03-29T12:33:05.047Z"
   },
   {
    "duration": 6,
    "start_time": "2022-03-29T12:33:05.087Z"
   },
   {
    "duration": 12,
    "start_time": "2022-03-29T12:33:05.095Z"
   },
   {
    "duration": 12,
    "start_time": "2022-03-29T12:33:05.109Z"
   },
   {
    "duration": 106,
    "start_time": "2022-03-29T12:49:28.961Z"
   },
   {
    "duration": 111,
    "start_time": "2022-03-29T12:49:42.816Z"
   },
   {
    "duration": 1051,
    "start_time": "2022-03-29T12:50:02.289Z"
   },
   {
    "duration": 11,
    "start_time": "2022-03-29T12:51:56.776Z"
   },
   {
    "duration": 17,
    "start_time": "2022-03-29T12:53:07.280Z"
   },
   {
    "duration": 144,
    "start_time": "2022-03-29T12:56:35.087Z"
   },
   {
    "duration": 4,
    "start_time": "2022-03-29T12:56:46.191Z"
   },
   {
    "duration": 6,
    "start_time": "2022-03-29T12:56:50.575Z"
   },
   {
    "duration": 17,
    "start_time": "2022-03-29T12:57:18.312Z"
   },
   {
    "duration": 15,
    "start_time": "2022-03-29T12:57:39.039Z"
   },
   {
    "duration": 15,
    "start_time": "2022-03-29T12:58:25.352Z"
   },
   {
    "duration": 223,
    "start_time": "2022-03-29T12:58:49.567Z"
   },
   {
    "duration": 1589,
    "start_time": "2022-03-29T13:00:51.512Z"
   },
   {
    "duration": 15,
    "start_time": "2022-03-29T13:00:53.104Z"
   },
   {
    "duration": 24,
    "start_time": "2022-03-29T13:00:53.121Z"
   },
   {
    "duration": 16,
    "start_time": "2022-03-29T13:00:53.149Z"
   },
   {
    "duration": 6,
    "start_time": "2022-03-29T13:00:53.184Z"
   },
   {
    "duration": 14,
    "start_time": "2022-03-29T13:00:53.192Z"
   },
   {
    "duration": 77,
    "start_time": "2022-03-29T13:00:53.209Z"
   },
   {
    "duration": 101,
    "start_time": "2022-03-29T13:00:53.288Z"
   },
   {
    "duration": 517,
    "start_time": "2022-03-29T13:00:53.392Z"
   },
   {
    "duration": 623,
    "start_time": "2022-03-29T13:01:33.645Z"
   },
   {
    "duration": 18,
    "start_time": "2022-03-29T13:01:44.668Z"
   },
   {
    "duration": 376,
    "start_time": "2022-03-29T13:02:30.244Z"
   },
   {
    "duration": 16,
    "start_time": "2022-03-29T13:02:56.085Z"
   },
   {
    "duration": 22,
    "start_time": "2022-03-29T13:03:23.603Z"
   },
   {
    "duration": 405,
    "start_time": "2022-03-29T13:09:36.011Z"
   },
   {
    "duration": 489,
    "start_time": "2022-03-29T13:09:44.842Z"
   },
   {
    "duration": 19095,
    "start_time": "2022-03-29T13:10:43.092Z"
   },
   {
    "duration": 16687,
    "start_time": "2022-03-29T13:13:01.306Z"
   },
   {
    "duration": 16699,
    "start_time": "2022-03-29T13:14:20.985Z"
   },
   {
    "duration": 6,
    "start_time": "2022-03-29T13:14:45.265Z"
   },
   {
    "duration": 6,
    "start_time": "2022-03-29T13:14:53.041Z"
   },
   {
    "duration": 6,
    "start_time": "2022-03-29T13:15:08.121Z"
   },
   {
    "duration": 7,
    "start_time": "2022-03-29T13:15:30.337Z"
   },
   {
    "duration": 18,
    "start_time": "2022-03-29T13:15:39.841Z"
   },
   {
    "duration": 6,
    "start_time": "2022-03-29T13:20:07.624Z"
   },
   {
    "duration": 106,
    "start_time": "2022-03-29T13:20:09.832Z"
   },
   {
    "duration": 16575,
    "start_time": "2022-03-29T13:21:23.711Z"
   },
   {
    "duration": 6,
    "start_time": "2022-03-29T13:21:42.223Z"
   },
   {
    "duration": 11,
    "start_time": "2022-03-29T13:21:47.127Z"
   },
   {
    "duration": 24240,
    "start_time": "2022-03-29T13:22:07.752Z"
   },
   {
    "duration": 1156,
    "start_time": "2022-03-30T06:24:55.518Z"
   },
   {
    "duration": 16,
    "start_time": "2022-03-30T06:24:56.676Z"
   },
   {
    "duration": 14,
    "start_time": "2022-03-30T06:24:56.693Z"
   },
   {
    "duration": 10,
    "start_time": "2022-03-30T06:24:56.708Z"
   },
   {
    "duration": 3,
    "start_time": "2022-03-30T06:24:56.720Z"
   },
   {
    "duration": 5,
    "start_time": "2022-03-30T06:24:56.725Z"
   },
   {
    "duration": 33,
    "start_time": "2022-03-30T06:24:56.731Z"
   },
   {
    "duration": 99,
    "start_time": "2022-03-30T06:24:56.766Z"
   },
   {
    "duration": 13395,
    "start_time": "2022-03-30T06:24:56.868Z"
   },
   {
    "duration": 5,
    "start_time": "2022-03-30T06:25:10.266Z"
   },
   {
    "duration": 98,
    "start_time": "2022-03-30T06:25:10.274Z"
   },
   {
    "duration": 91,
    "start_time": "2022-03-30T06:27:11.779Z"
   },
   {
    "duration": 7,
    "start_time": "2022-03-30T06:27:33.251Z"
   },
   {
    "duration": 8,
    "start_time": "2022-03-30T06:27:41.586Z"
   },
   {
    "duration": 222,
    "start_time": "2022-03-30T06:28:01.867Z"
   },
   {
    "duration": 6,
    "start_time": "2022-03-30T06:28:28.442Z"
   },
   {
    "duration": 4,
    "start_time": "2022-03-30T06:28:31.106Z"
   },
   {
    "duration": 214,
    "start_time": "2022-03-30T06:30:17.055Z"
   },
   {
    "duration": 5,
    "start_time": "2022-03-30T06:30:38.730Z"
   },
   {
    "duration": 9,
    "start_time": "2022-03-30T06:32:01.762Z"
   },
   {
    "duration": 5,
    "start_time": "2022-03-30T06:32:29.203Z"
   },
   {
    "duration": 13,
    "start_time": "2022-03-30T06:32:49.113Z"
   },
   {
    "duration": 12,
    "start_time": "2022-03-30T06:37:16.650Z"
   },
   {
    "duration": 9,
    "start_time": "2022-03-30T06:37:18.585Z"
   },
   {
    "duration": 130,
    "start_time": "2022-04-02T18:49:01.580Z"
   },
   {
    "duration": 1147,
    "start_time": "2022-04-02T19:14:46.237Z"
   },
   {
    "duration": 17,
    "start_time": "2022-04-02T19:14:47.386Z"
   },
   {
    "duration": 15,
    "start_time": "2022-04-02T19:14:47.405Z"
   },
   {
    "duration": 16,
    "start_time": "2022-04-02T19:14:47.422Z"
   },
   {
    "duration": 5,
    "start_time": "2022-04-02T19:14:47.439Z"
   },
   {
    "duration": 7,
    "start_time": "2022-04-02T19:14:47.445Z"
   },
   {
    "duration": 6,
    "start_time": "2022-04-02T19:14:47.454Z"
   },
   {
    "duration": 175,
    "start_time": "2022-04-02T19:14:47.462Z"
   },
   {
    "duration": 104,
    "start_time": "2022-04-02T19:14:47.640Z"
   },
   {
    "duration": 8,
    "start_time": "2022-04-02T19:14:47.746Z"
   },
   {
    "duration": 6,
    "start_time": "2022-04-02T19:21:09.430Z"
   },
   {
    "duration": 6,
    "start_time": "2022-04-02T19:21:30.232Z"
   },
   {
    "duration": 5,
    "start_time": "2022-04-02T19:22:02.176Z"
   },
   {
    "duration": 4,
    "start_time": "2022-04-02T19:22:12.311Z"
   },
   {
    "duration": 4,
    "start_time": "2022-04-02T19:22:25.695Z"
   },
   {
    "duration": 4,
    "start_time": "2022-04-02T19:22:36.783Z"
   },
   {
    "duration": 5,
    "start_time": "2022-04-02T19:23:00.487Z"
   },
   {
    "duration": 5,
    "start_time": "2022-04-02T19:23:27.095Z"
   },
   {
    "duration": 4,
    "start_time": "2022-04-02T19:23:45.911Z"
   },
   {
    "duration": 4,
    "start_time": "2022-04-02T19:24:04.343Z"
   },
   {
    "duration": 4,
    "start_time": "2022-04-02T19:24:10.990Z"
   },
   {
    "duration": 6,
    "start_time": "2022-04-02T19:24:14.247Z"
   },
   {
    "duration": 4,
    "start_time": "2022-04-02T19:24:16.711Z"
   },
   {
    "duration": 4,
    "start_time": "2022-04-02T19:24:26.135Z"
   },
   {
    "duration": 215,
    "start_time": "2022-04-02T19:24:50.270Z"
   },
   {
    "duration": 6,
    "start_time": "2022-04-02T19:24:54.151Z"
   },
   {
    "duration": 5,
    "start_time": "2022-04-02T19:24:56.999Z"
   },
   {
    "duration": 6,
    "start_time": "2022-04-02T19:25:04.894Z"
   },
   {
    "duration": 3,
    "start_time": "2022-04-02T19:26:07.335Z"
   },
   {
    "duration": 7,
    "start_time": "2022-04-02T19:26:08.911Z"
   },
   {
    "duration": 4,
    "start_time": "2022-04-02T19:26:09.439Z"
   },
   {
    "duration": 4,
    "start_time": "2022-04-02T19:26:34.302Z"
   },
   {
    "duration": 4,
    "start_time": "2022-04-02T19:26:48.303Z"
   },
   {
    "duration": 4,
    "start_time": "2022-04-02T19:27:44.111Z"
   },
   {
    "duration": 4,
    "start_time": "2022-04-02T19:27:53.350Z"
   },
   {
    "duration": 4,
    "start_time": "2022-04-02T19:28:32.910Z"
   },
   {
    "duration": 115,
    "start_time": "2022-04-03T12:20:51.927Z"
   },
   {
    "duration": 148,
    "start_time": "2022-04-04T10:56:13.889Z"
   },
   {
    "duration": 142,
    "start_time": "2022-04-04T10:58:26.302Z"
   }
  ],
  "kernelspec": {
   "display_name": "Python 3 (ipykernel)",
   "language": "python",
   "name": "python3"
  },
  "language_info": {
   "codemirror_mode": {
    "name": "ipython",
    "version": 3
   },
   "file_extension": ".py",
   "mimetype": "text/x-python",
   "name": "python",
   "nbconvert_exporter": "python",
   "pygments_lexer": "ipython3",
   "version": "3.9.5"
  },
  "toc": {
   "base_numbering": 1,
   "nav_menu": {},
   "number_sections": true,
   "sideBar": true,
   "skip_h1_title": true,
   "title_cell": "Содержание",
   "title_sidebar": "Contents",
   "toc_cell": true,
   "toc_position": {},
   "toc_section_display": true,
   "toc_window_display": true
  }
 },
 "nbformat": 4,
 "nbformat_minor": 2
}
